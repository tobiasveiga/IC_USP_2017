{
 "cells": [
  {
   "cell_type": "code",
   "execution_count": null,
   "metadata": {
    "collapsed": true,
    "deletable": true,
    "editable": true
   },
   "outputs": [],
   "source": [
    "from os import listdir\n",
    "from sys import argv\n",
    "\n",
    "import numpy as np\n",
    "import cv2\n",
    "import matplotlib.pyplot as plt\n",
    "%matplotlib inline\n",
    "from sklearn.metrics import f1_score, roc_curve, roc_auc_score, precision_recall_curve\n",
    "\n",
    "from sklearn.decomposition import PCA\n",
    "\n"
   ]
  },
  {
   "cell_type": "code",
   "execution_count": null,
   "metadata": {
    "collapsed": true,
    "deletable": true,
    "editable": true
   },
   "outputs": [],
   "source": [
    "argv = [3, \"imgs\", \"gts\"]\n",
    "\n",
    "path_imgs = sorted([ argv[1] + '/' + i for i in listdir(argv[1]) ])\n",
    "path_gts = sorted([ argv[2] + '/' + i for i in listdir(argv[2]) ])\n",
    "\n",
    "names_VI = [\"ExG\", \"ExGR\", \"CIVE\", \"VEG\", \"WI\", \"NGRDI\"]"
   ]
  },
  {
   "cell_type": "code",
   "execution_count": null,
   "metadata": {
    "collapsed": true,
    "deletable": true,
    "editable": true
   },
   "outputs": [],
   "source": [
    "GT = np.zeros((512*512*len(path_imgs)), dtype = int)\n",
    "VI = [ np.zeros((512*512*len(path_imgs)), dtype = float) for i in range(6) ]"
   ]
  },
  {
   "cell_type": "code",
   "execution_count": null,
   "metadata": {
    "collapsed": true,
    "deletable": true,
    "editable": true
   },
   "outputs": [],
   "source": [
    "def neighbMax(image):\n",
    "\tO = np.zeros(image.shape, dtype = float)\n",
    "\tns = [(-1, -1), (-1, 0), (-1, 1), (0, -1), (0, 1), (1, -1), (1, 0), (1, 1)]\n",
    "    \n",
    "\n",
    "\tfor lin in range(512):\n",
    "\t\tfor col in range(512):\n",
    "\t\t\t_list = []\n",
    "\t\t\tfor n in ns:\n",
    "\t\t\t\tif lin + n[0] >= 0 and lin + n[0] < 512 and col + n[1] >= 0 and col + n[1] < 512:\n",
    "\t\t\t\t\t_list.append( image[ lin + n[0] ] [col + n[1] ] )\n",
    "\t\t\tO[lin][col] = np.average(sorted(_list, reverse = True)[:3]) # Pega os 3 maiores\n",
    "\n",
    "\treturn O"
   ]
  },
  {
   "cell_type": "code",
   "execution_count": null,
   "metadata": {
    "collapsed": true,
    "deletable": true,
    "editable": true
   },
   "outputs": [],
   "source": [
    "def neighbMin(image):\n",
    "\tO = np.zeros(image.shape, dtype = float)\n",
    "\tns = [(-1, -1), (-1, 0), (-1, 1), (0, -1), (0, 1), (1, -1), (1, 0), (1, 1)]\n",
    "    \n",
    "\n",
    "\tfor lin in range(512):\n",
    "\t\tfor col in range(512):\n",
    "\t\t\t_list = []\n",
    "\t\t\tfor n in ns:\n",
    "\t\t\t\tif lin + n[0] >= 0 and lin + n[0] < 512 and col + n[1] >= 0 and col + n[1] < 512:\n",
    "\t\t\t\t\t_list.append( image[ lin + n[0] ] [col + n[1] ] )\n",
    "\t\t\tO[lin][col] = np.average(sorted(_list, reverse = False)[:3]) # Pega os 3 menores\n",
    "\n",
    "\treturn O"
   ]
  },
  {
   "cell_type": "code",
   "execution_count": null,
   "metadata": {
    "collapsed": false,
    "deletable": true,
    "editable": true
   },
   "outputs": [],
   "source": [
    "for i in range(len(path_imgs)):\n",
    "\n",
    "    \n",
    "    img = cv2.imread(path_imgs[i], 1)\n",
    "    gt = cv2.imread(path_gts[i], 0)\n",
    "    gt = cv2.normalize(gt, gt, 0.0, 1.0, cv2.NORM_MINMAX)\n",
    "    #GT = np.concatenate((GT, gt.ravel()), axis = 0)\n",
    "    print(i)\n",
    "    #print(path_imgs[i])\n",
    "    \n",
    "    ims = 512*512\n",
    "    bls = 16*16\n",
    "    nbl = 512/16\n",
    "            \n",
    "\n",
    "    for lin in range(512)[::16]:\n",
    "        for col in range(512)[::16]:\n",
    "            GT[ims*i+ (lin*512+col*16) :ims*i+ (lin*512+col*16) + 16*16 ] = gt[lin:lin+16, col:col+16].ravel()\n",
    "\n",
    "    #B, G, R = cv2.split(img) # b = img[:,:,0]\n",
    "    B, G, R = [np.float32(img[:, :, c]) for c in range(3)]\n",
    "    r = R / (R + G + B)\n",
    "    g = G / (R + G + B)\n",
    "    b = B / (R + G + B)\n",
    "\n",
    "    I = np.zeros(img.shape[:2], dtype = float)\n",
    "\n",
    "    j = 0\n",
    "\n",
    "    # ExG\n",
    "    #print(\"ExG\")\n",
    "    Z = 2 * g - r - b\n",
    "    I = cv2.normalize(Z, I, 0.0, 1.0, cv2.NORM_MINMAX)\n",
    "    #I = neighbMax(I)\n",
    "    for lin in range(512)[::16]:\n",
    "        for col in range(512)[::16]:\n",
    "            VI[j][ims*i+ (lin*512+col*16) :ims*i+ (lin*512+col*16) + 16*16 ] = I[lin:lin+16, col:col+16].ravel()\n",
    "    j+=1\n",
    "\n",
    "\n",
    "    # ExGR\n",
    "    #print(\"ExGR\")\n",
    "    Z = Z - 1.4 * r - g\n",
    "    I = cv2.normalize(Z, I, 0.0, 1.0, cv2.NORM_MINMAX)\n",
    "    #I = neighbMax(I)\n",
    "    for lin in range(512)[::16]:\n",
    "        for col in range(512)[::16]:\n",
    "            VI[j][ims*i+ (lin*512+col*16) :ims*i+ (lin*512+col*16) + 16*16 ] = I[lin:lin+16, col:col+16].ravel()\n",
    "    j+=1\n",
    "\n",
    "    # CIVE\n",
    "    #print(\"CIVE\")\n",
    "    Z = 0.441 * r - 0.881 * g + 0.385 * b + 18.78745\n",
    "    I = 1 - cv2.normalize(Z, I, 0.0, 1.0, cv2.NORM_MINMAX)\n",
    "    #I = neighbMax(I)\n",
    "    for lin in range(512)[::16]:\n",
    "        for col in range(512)[::16]:\n",
    "            VI[j][ims*i+ (lin*512+col*16) :ims*i+ (lin*512+col*16) + 16*16 ] = I[lin:lin+16, col:col+16].ravel()\n",
    "    j+=1\n",
    "\n",
    "    # VEG\n",
    "    #print(\"VEG\")\n",
    "    Z = g / (2 + r ** 0.667 * b ** (1 - 0.667))\n",
    "    I = cv2.normalize(Z, I, 0.0, 1.0, cv2.NORM_MINMAX)\n",
    "    #I = neighbMax(I)\n",
    "    for lin in range(512)[::16]:\n",
    "        for col in range(512)[::16]:\n",
    "            VI[j][ims*i+ (lin*512+col*16) :ims*i+ (lin*512+col*16) + 16*16 ] = I[lin:lin+16, col:col+16].ravel()\n",
    "    j+=1\n",
    "\n",
    "    # WI\n",
    "    #print(\"WI\")\n",
    "    Z = (g - b) / (r - g + 255)\n",
    "    I = cv2.normalize(Z, I, 0.0, 1.0, cv2.NORM_MINMAX)\n",
    "    #I = neighbMax(I)\n",
    "    for lin in range(512)[::16]:\n",
    "        for col in range(512)[::16]:\n",
    "            VI[j][ims*i+ (lin*512+col*16) :ims*i+ (lin*512+col*16) + 16*16 ] = I[lin:lin+16, col:col+16].ravel()\n",
    "    j+=1\n",
    "\n",
    "    # NGRDI\n",
    "    #print(\"NGRDI\")\n",
    "    Z = (G/2 - R/2) / (G/2 + R/2)\n",
    "    I = cv2.normalize(Z, I, 0.0, 1.0, cv2.NORM_MINMAX)\n",
    "    #I = neighbMax(I)\n",
    "    for lin in range(512)[::16]:\n",
    "        for col in range(512)[::16]:\n",
    "            VI[j][ims*i+ (lin*512+col*16) :ims*i+ (lin*512+col*16) + 16*16 ] = I[lin:lin+16, col:col+16].ravel()\n",
    "    j+=1"
   ]
  },
  {
   "cell_type": "markdown",
   "metadata": {},
   "source": [
    "# Análise das VIs (curva ROC)"
   ]
  },
  {
   "cell_type": "code",
   "execution_count": null,
   "metadata": {
    "collapsed": true,
    "deletable": true,
    "editable": true
   },
   "outputs": [],
   "source": [
    "fpr = [np.array([0]) for i in range(6)]\n",
    "tpr = [np.array([0]) for i in range(6)]"
   ]
  },
  {
   "cell_type": "code",
   "execution_count": null,
   "metadata": {
    "collapsed": false,
    "deletable": true,
    "editable": true
   },
   "outputs": [],
   "source": [
    "for j in range(6):\n",
    "    print(names_VI[j], \"AUC =\", roc_auc_score(GT, VI[j]))\n",
    "    #fpr[j], tpr[j], _ = roc_curve(GT, VI[j])"
   ]
  },
  {
   "cell_type": "markdown",
   "metadata": {},
   "source": [
    "# Salvar VIs"
   ]
  },
  {
   "cell_type": "code",
   "execution_count": null,
   "metadata": {
    "collapsed": true
   },
   "outputs": [],
   "source": [
    "VIs_save_dir = \"VI_2/MiniNBmax/\""
   ]
  },
  {
   "cell_type": "code",
   "execution_count": null,
   "metadata": {
    "collapsed": false,
    "deletable": true,
    "editable": true
   },
   "outputs": [],
   "source": [
    "for j in range(6):\n",
    "    np.save(VIs_save_dir + names_VI[j], VI[j])"
   ]
  },
  {
   "cell_type": "code",
   "execution_count": null,
   "metadata": {
    "collapsed": true
   },
   "outputs": [],
   "source": [
    "GT_save_dir = \"VI_2/Mini/GT\""
   ]
  },
  {
   "cell_type": "code",
   "execution_count": null,
   "metadata": {
    "collapsed": true,
    "deletable": true,
    "editable": true
   },
   "outputs": [],
   "source": [
    "np.save(GT_save_dir , GT)"
   ]
  },
  {
   "cell_type": "code",
   "execution_count": null,
   "metadata": {
    "collapsed": true,
    "deletable": true,
    "editable": true
   },
   "outputs": [],
   "source": [
    "X = np.zeros((512*512*len(path_imgs), 6), dtype = float)"
   ]
  },
  {
   "cell_type": "markdown",
   "metadata": {},
   "source": [
    "# Gerar e salvar PCA das VIs"
   ]
  },
  {
   "cell_type": "code",
   "execution_count": null,
   "metadata": {
    "collapsed": false,
    "deletable": true,
    "editable": true
   },
   "outputs": [],
   "source": [
    "for i in range(6):\n",
    "    X[:, i] = np.load(\"VI_2/MiniNBmax/\" + names_VI[i] + \".npy\")"
   ]
  },
  {
   "cell_type": "code",
   "execution_count": null,
   "metadata": {
    "collapsed": false,
    "deletable": true,
    "editable": true
   },
   "outputs": [],
   "source": [
    "print(np.count_nonzero(X))"
   ]
  },
  {
   "cell_type": "code",
   "execution_count": null,
   "metadata": {
    "collapsed": true,
    "deletable": true,
    "editable": true
   },
   "outputs": [],
   "source": [
    "pca = PCA(n_components=2)\n",
    "X_pca = pca.fit_transform(X)"
   ]
  },
  {
   "cell_type": "code",
   "execution_count": null,
   "metadata": {
    "collapsed": false,
    "deletable": true,
    "editable": true
   },
   "outputs": [],
   "source": [
    "print(np.count_nonzero(X_pca))"
   ]
  },
  {
   "cell_type": "code",
   "execution_count": null,
   "metadata": {
    "collapsed": true,
    "deletable": true,
    "editable": true
   },
   "outputs": [],
   "source": [
    "np.save(VIs_save_dir + \"PCA0\", X_pca[:,0])\n",
    "np.save(VIs_save_dir = \"PCA1\", X_pca[:,1])"
   ]
  },
  {
   "cell_type": "code",
   "execution_count": null,
   "metadata": {
    "collapsed": true,
    "deletable": true,
    "editable": true
   },
   "outputs": [],
   "source": []
  }
 ],
 "metadata": {
  "kernelspec": {
   "display_name": "Python 3",
   "language": "python",
   "name": "python3"
  },
  "language_info": {
   "codemirror_mode": {
    "name": "ipython",
    "version": 3
   },
   "file_extension": ".py",
   "mimetype": "text/x-python",
   "name": "python",
   "nbconvert_exporter": "python",
   "pygments_lexer": "ipython3",
   "version": "3.5.2"
  }
 },
 "nbformat": 4,
 "nbformat_minor": 2
}
