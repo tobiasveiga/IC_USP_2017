{
 "cells": [
  {
   "cell_type": "code",
   "execution_count": 1,
   "metadata": {},
   "outputs": [],
   "source": [
    "from os import listdir\n",
    "from sys import argv\n",
    "\n",
    "import numpy as np\n",
    "import cv2\n",
    "import matplotlib.pyplot as plt\n",
    "%matplotlib inline\n",
    "from sklearn.metrics import f1_score, roc_curve, roc_auc_score, precision_recall_curve\n",
    "\n",
    "from sklearn.decomposition import PCA\n",
    "\n",
    "from skimage import feature\n",
    "from skimage.feature import greycomatrix\n",
    "from skimage.feature import greycoprops\n",
    "from scipy.stats import entropy\n",
    "from skimage.feature import local_binary_pattern\n",
    "\n",
    "from sklearn.svm import SVC\n",
    "from skimage import measure\n",
    "from skimage.io import imread\n",
    "\n",
    "import xgboost as xgb\n",
    "\n",
    "import pandas as pd\n",
    "\n",
    "from sklearn.preprocessing import minmax_scale as mms\n",
    "from skimage.util.shape import view_as_blocks\n",
    "import scipy.stats as stats\n",
    "\n",
    "from multiprocessing import Pool, Process, Array\n",
    "import multiprocessing as mp\n",
    "\n"
   ]
  },
  {
   "cell_type": "markdown",
   "metadata": {},
   "source": [
    "# Inicialização de alguma variáveis"
   ]
  },
  {
   "cell_type": "code",
   "execution_count": null,
   "metadata": {},
   "outputs": [],
   "source": []
  },
  {
   "cell_type": "code",
   "execution_count": 38,
   "metadata": {},
   "outputs": [],
   "source": [
    "\"\"\"\n",
    "This script should run separatly for each image base\n",
    "\n",
    "Base 1 : normal soil [1-18] and compacted soil [19-22];\n",
    "Base 2 (new base): not calibrated images\n",
    "\"\"\"\n",
    "\n",
    "base = 2 \n",
    "if base == 1:\n",
    "    paths = [\"imgs_orig\", \"gts_orig\"]\n",
    "elif base == 2:\n",
    "    paths = [\"imgs\", \"gts\"]\n",
    "else:\n",
    "    raise ValueError\n",
    "\n",
    "path_imgs = sorted([ paths[0] + '/' + i for i in listdir(paths[0]) ])\n",
    "path_gts = sorted([ paths[1] + '/' + i for i in listdir(paths[1]) ])\n",
    "\n",
    "n_images = len(path_imgs)\n",
    "\n",
    "names_VI = [\"ExG\", \"ExGR\", \"CIVE\", \"VEG\", \"WI\", \"NGRDI\"]"
   ]
  },
  {
   "cell_type": "code",
   "execution_count": 39,
   "metadata": {},
   "outputs": [],
   "source": [
    "n_features = 4 * 6 * 1 # 4 posiçoes, 6 extratores, 1 VI\n",
    "n_levels = 64 # 4 * 4 * 4 (discretiza em 4 cada canal de cor)"
   ]
  },
  {
   "cell_type": "markdown",
   "metadata": {},
   "source": [
    "# 1) Declaração de funções (e alguns testes)"
   ]
  },
  {
   "cell_type": "code",
   "execution_count": 40,
   "metadata": {},
   "outputs": [],
   "source": [
    "mode = lambda a : max(map(lambda val: (a.count(val), val), set(a)))[1]"
   ]
  },
  {
   "cell_type": "code",
   "execution_count": 41,
   "metadata": {},
   "outputs": [],
   "source": [
    "normalize = lambda img, a, b : cv2.normalize(img, img, a, b, cv2.NORM_MINMAX, dtype = 1)"
   ]
  },
  {
   "cell_type": "markdown",
   "metadata": {},
   "source": [
    "## 1.1) Redução de ruído"
   ]
  },
  {
   "cell_type": "code",
   "execution_count": 42,
   "metadata": {},
   "outputs": [],
   "source": [
    "def neighbMax(image):\n",
    "\tO = np.zeros(image.shape, dtype = float)\n",
    "\tns = [(-1, -1), (-1, 0), (-1, 1), (0, -1), (0, 1), (1, -1), (1, 0), (1, 1)]\n",
    "    \n",
    "\n",
    "\tfor lin in range(512):\n",
    "\t\tfor col in range(512):\n",
    "\t\t\t_list = []\n",
    "\t\t\tfor n in ns:\n",
    "\t\t\t\tif lin + n[0] >= 0 and lin + n[0] < 512 and col + n[1] >= 0 and col + n[1] < 512:\n",
    "\t\t\t\t\t_list.append( image[ lin + n[0] ] [col + n[1] ] )\n",
    "\t\t\tO[lin][col] = np.average(sorted(_list, reverse = True)[:3]) # Pega os 3 maiores\n",
    "\n",
    "\treturn O"
   ]
  },
  {
   "cell_type": "code",
   "execution_count": 43,
   "metadata": {},
   "outputs": [],
   "source": [
    "def neighbMin(image):\n",
    "\tO = np.zeros(image.shape, dtype = float)\n",
    "\tns = [(-1, -1), (-1, 0), (-1, 1), (0, -1), (0, 1), (1, -1), (1, 0), (1, 1)]\n",
    "    \n",
    "\n",
    "\tfor lin in range(512):\n",
    "\t\tfor col in range(512):\n",
    "\t\t\t_list = []\n",
    "\t\t\tfor n in ns:\n",
    "\t\t\t\tif lin + n[0] >= 0 and lin + n[0] < 512 and col + n[1] >= 0 and col + n[1] < 512:\n",
    "\t\t\t\t\t_list.append( image[ lin + n[0] ] [col + n[1] ] )\n",
    "\t\t\tO[lin][col] = np.average(sorted(_list, reverse = False)[:3]) # Pega os 3 menores\n",
    "\n",
    "\treturn O"
   ]
  },
  {
   "cell_type": "markdown",
   "metadata": {},
   "source": [
    "## 1.2) BIC"
   ]
  },
  {
   "cell_type": "code",
   "execution_count": 44,
   "metadata": {},
   "outputs": [],
   "source": [
    "def BIC(image, levels):\n",
    "    \"\"\"\n",
    "    beiradas da imagem devem ser consideradas o que?\n",
    "    \"\"\"\n",
    "    interior = np.zeros(levels, dtype = int)\n",
    "    borda = np.zeros(levels, dtype = int)\n",
    "    ns = [(-1, -1), (-1, 0), (-1, 1), (0, -1), (0, 1), (1, -1), (1, 0), (1, 1)]\n",
    "    \n",
    "    lim_lin = image.shape[0]\n",
    "    lim_col = image.shape[1]\n",
    "\n",
    "    for lin in range(lim_lin):\n",
    "        for col in range(lim_col): # laço do elementos da matriz\n",
    "            curr = image[lin, col]\n",
    "            interior[curr] += 1\n",
    "            for n in ns: # laço dos vizinhos\n",
    "                if lin + n[0] >= 0 and lin + n[0] < lim_lin and col + n[1] >= 0 and col + n[1] < lim_col: # teste de estar dentro da matriz\n",
    "                    if image[lin + n[0], col + n[1]] != curr:\n",
    "                        borda[curr] += 1\n",
    "                        interior[curr] -=1\n",
    "                        break\n",
    "                    \n",
    "\n",
    "    return interior, borda"
   ]
  },
  {
   "cell_type": "markdown",
   "metadata": {},
   "source": [
    "## 1.3) Haralick"
   ]
  },
  {
   "cell_type": "code",
   "execution_count": 45,
   "metadata": {},
   "outputs": [],
   "source": [
    "def entropy_func(P):\n",
    "    return [entropy(P[:, :, 0, i].ravel()) for i in range(P.shape[3])]"
   ]
  },
  {
   "cell_type": "code",
   "execution_count": 46,
   "metadata": {},
   "outputs": [],
   "source": [
    "def maxProb(P):\n",
    "    return [np.max(P[:, :, 0, i]) for i in range(P.shape[3])]"
   ]
  },
  {
   "cell_type": "code",
   "execution_count": 47,
   "metadata": {},
   "outputs": [],
   "source": [
    "def get_features(P):\n",
    "    \"\"\"\n",
    "    Cada medida retorna 4 valores (1 para cada angulo).\n",
    "    O valor 0 se refere ao fato de escolher sempre a mesma distância.\n",
    "    \"\"\"\n",
    "    contrast = greycoprops(P, prop = \"contrast\")[0 , :]\n",
    "    correlation = greycoprops(P, prop = \"correlation\")[0 , :]\n",
    "    energy = greycoprops(P, prop = \"ASM\")[0 , :]\n",
    "    homogeneity = greycoprops(P, prop = \"homogeneity\")[0 , :]\n",
    "    _maxProb = maxProb(P)\n",
    "    _entropy = entropy_func(P)\n",
    "    \n",
    "    #print(contrast, correlation, energy, homogeneity, _maxProb, _entropy)\n",
    "\n",
    "    return [*contrast, *correlation, *energy, *homogeneity, *_maxProb, *_entropy]"
   ]
  },
  {
   "cell_type": "code",
   "execution_count": 48,
   "metadata": {},
   "outputs": [],
   "source": [
    "def get_stats(b):\n",
    "    return [np.min(b),\n",
    "            np.percentile(b, .25), np.percentile(b, .5), np.percentile(b, .75),\n",
    "            np.max(b), np.mean(b), np.std(b)]"
   ]
  },
  {
   "cell_type": "code",
   "execution_count": 49,
   "metadata": {},
   "outputs": [],
   "source": [
    "extractors = [\"contrast\", \"correlation\", \"energy\", \"homogeneity\", \"maxprob\", \"entropy\"]\n",
    "angles = [\"np.pi/4\", \"0\", \"3*np.pi/2\", \"7*np.pi/4\"]\n",
    "statistics = [\"min\", \"q25\", \"q50\", \"q75\", \"max\", \"mean\", \"std\"]"
   ]
  },
  {
   "cell_type": "markdown",
   "metadata": {},
   "source": [
    "# Laço de criação das Features"
   ]
  },
  {
   "cell_type": "code",
   "execution_count": 50,
   "metadata": {},
   "outputs": [],
   "source": [
    "\"\"\"\n",
    "Ground Truth (GT) is generated here.\n",
    "\"\"\"\n",
    "\n",
    "GT = np.zeros((n_images*512*512), dtype = \"uint8\")\n",
    "for i in range(n_images):\n",
    "    gt = imread(path_gts[i], as_grey=True)\n",
    "    _max = np.max(gt)\n",
    "    _max = _max if _max != 0 else 1\n",
    "    #print(i, _max)\n",
    "    gt = gt // _max\n",
    "    GT[i*512*512: (i+1)*512*512] = gt.reshape(512*512)"
   ]
  },
  {
   "cell_type": "code",
   "execution_count": 51,
   "metadata": {},
   "outputs": [],
   "source": [
    "\"\"\"\n",
    "These variables are shared arrays to parallelize the feature creation\n",
    "\"\"\"\n",
    "features_names = names_VI = [\"R\", \"G\", \"B\"]\n",
    "\n",
    "features_sharedArray = {f : Array(\"d\", (n_images*512*512), lock=False) for f in features_names}"
   ]
  },
  {
   "cell_type": "code",
   "execution_count": 52,
   "metadata": {},
   "outputs": [],
   "source": [
    "\"\"\"\n",
    "This function is requied to use the shared variables as global variables in the shared enviroment.\n",
    "\"\"\"\n",
    "\n",
    "def _init(init_args):\n",
    "    global tVI\n",
    "    tVI = init_args[0]"
   ]
  },
  {
   "cell_type": "code",
   "execution_count": 53,
   "metadata": {
    "scrolled": true
   },
   "outputs": [],
   "source": [
    "\"\"\"\n",
    "This is the function which generate all block instances (features of 16 x 16 block) of a given image\n",
    "\"\"\"\n",
    "\n",
    "def worker(i):\n",
    "    \n",
    "    VI = {f : np.frombuffer(tVI[f]).reshape(n_images*512*512) for f in features_names}\n",
    "    \n",
    "    print(i, end = ' ')\n",
    "    img = img = imread(path_imgs[i], False)\n",
    "    \n",
    "    B, G, R = [np.float32(img[:, :, c]) for c in range(3)]\n",
    "    r = R / (R + G + B)\n",
    "    g = G / (R + G + B)\n",
    "    b = B / (R + G + B)\n",
    "    \n",
    "    \n",
    "    #VIs\n",
    "    F = {} # Imagens Filtradas\n",
    "    F[\"ExG\"] = 2 * g - r - b\n",
    "    #print(\"ExGR\")\n",
    "    F[\"ExGR\"] = F[\"ExG\"] - 1.4 * r - g\n",
    "    #print(\"CIVE\")\n",
    "    F[\"CIVE\"] = 0.441 * r - 0.881 * g + 0.385 * b + 18.78745\n",
    "    #print(\"VEG\")\n",
    "    F[\"VEG\"] = g / (2 + r ** 0.667 * b ** (1 - 0.667))\n",
    "    #print(\"WI\")\n",
    "    F[\"WI\"] = (g - b) / (r - g + 255) # MODIFICADO\n",
    "    #print(\"NGRDI\")\n",
    "    F[\"NGRDI\"] = (G/2 - R/2) / (G/2 + R/2) # Divide por dois pra evitar overflow            \n",
    "    \n",
    "    for f in names_VI:\n",
    "        VI[f][i*512*512:(i+1)*512*512] = F[f].reshape(512*512)\n",
    "        \n",
    "    print(\"done\")\n",
    "    return i"
   ]
  },
  {
   "cell_type": "code",
   "execution_count": 54,
   "metadata": {
    "scrolled": true
   },
   "outputs": [
    {
     "name": "stdout",
     "output_type": "stream",
     "text": [
      "2 done\n",
      "4 done\n",
      "0 done\n",
      "6 done\n",
      "5 done\n",
      "3 done\n",
      "1 done\n",
      "7 done\n",
      "8 done\n",
      "12 done\n",
      "14 done\n",
      "10 done\n",
      "9 done\n",
      "13 done\n",
      "11 done\n",
      "15 done\n",
      "18 done\n",
      "20 done\n",
      "16 done\n",
      "19 done\n",
      "17 done\n",
      "21 done\n"
     ]
    }
   ],
   "source": [
    "\"\"\"\n",
    "Define pool of processes\n",
    "\"\"\"\n",
    "pool = Pool(processes=4, initializer=_init, initargs=([sVI],))"
   ]
  },
  {
   "cell_type": "code",
   "execution_count": 55,
   "metadata": {
    "scrolled": true
   },
   "outputs": [
    {
     "data": {
      "text/plain": [
       "[0, 1, 2, 3, 4, 5, 6, 7, 8, 9, 10, 11, 12, 13, 14, 15, 16, 17, 18, 19, 20, 21]"
      ]
     },
     "execution_count": 55,
     "metadata": {},
     "output_type": "execute_result"
    }
   ],
   "source": [
    "\"\"\"\n",
    "Execute pool of processes\n",
    "\"\"\"\n",
    "pool.map(worker, range(n_images))"
   ]
  },
  {
   "cell_type": "code",
   "execution_count": 56,
   "metadata": {},
   "outputs": [],
   "source": [
    "\"\"\"\n",
    "Transform shared array structures into numpy variables\n",
    "\"\"\"\n",
    "VI = {f : np.frombuffer(sVI[f]) for f in names_VI}"
   ]
  },
  {
   "cell_type": "code",
   "execution_count": 57,
   "metadata": {},
   "outputs": [
    {
     "data": {
      "text/plain": [
       "{'CIVE': array([18.62927055, 18.63313103, 18.63057709, ..., 18.74816322,\n",
       "        18.74993324, 18.74921989]),\n",
       " 'ExG': array([0.31099194, 0.30110496, 0.3054755 , ..., 0.04322204, 0.03913891,\n",
       "        0.0410448 ]),\n",
       " 'ExGR': array([-0.37747991, -0.37624311, -0.35561958, ..., -0.70333982,\n",
       "        -0.7072407 , -0.70820892]),\n",
       " 'NGRDI': array([0.4173913 , 0.42727274, 0.4589372 , ..., 0.09937888, 0.09597524,\n",
       "        0.09411765]),\n",
       " 'VEG': array([0.19585651, 0.19464915, 0.19610886, ..., 0.15053356, 0.14989524,\n",
       "        0.15013592]),\n",
       " 'WI': array([ 2.10484184e-04,  1.62661585e-04,  1.24448445e-04, ...,\n",
       "        -7.70634942e-05, -8.44374445e-05, -7.31806649e-05])}"
      ]
     },
     "execution_count": 57,
     "metadata": {},
     "output_type": "execute_result"
    }
   ],
   "source": [
    "VI"
   ]
  },
  {
   "cell_type": "code",
   "execution_count": 58,
   "metadata": {},
   "outputs": [],
   "source": [
    "\"\"\"\n",
    "Generate feature to identify image and block position of each block\n",
    "\"\"\"\n",
    "IMG = np.zeros(n_images*512*512, dtype=\"uint8\")\n",
    "for i in range(n_images):\n",
    "    IMG[i*512*512:(i+1)*512*512] = i+0 # Base 2 começa no 0"
   ]
  },
  {
   "cell_type": "code",
   "execution_count": 59,
   "metadata": {},
   "outputs": [],
   "source": [
    "data = pd.DataFrame(VI)"
   ]
  },
  {
   "cell_type": "code",
   "execution_count": 60,
   "metadata": {},
   "outputs": [],
   "source": [
    "data[\"GT\"] = GT\n",
    "data[\"IMG\"] = IMG"
   ]
  },
  {
   "cell_type": "code",
   "execution_count": 61,
   "metadata": {},
   "outputs": [],
   "source": [
    "# data = pd.read_csv(\"dataset2.csv\")"
   ]
  },
  {
   "cell_type": "code",
   "execution_count": 62,
   "metadata": {},
   "outputs": [],
   "source": [
    "solo = np.zeros(len(data), int)\n",
    "if base == 1:\n",
    "    solo[data[\"IMG\"] <= 18] = 0\n",
    "    solo[data[\"IMG\"] > 18] = 1\n",
    "    data[\"solo\"] = solo\n",
    "    data[\"base\"] = 0\n",
    "if base == 2:\n",
    "    solo = 2\n",
    "    data[\"solo\"] = solo\n",
    "    data[\"base\"] = 1"
   ]
  },
  {
   "cell_type": "code",
   "execution_count": 63,
   "metadata": {},
   "outputs": [],
   "source": [
    "if base == 1:\n",
    "    data.to_csv(\"PIXELdataset1.csv\", index=False)\n",
    "if base == 2:\n",
    "    data.to_csv(\"PIXELdataset2.csv\", index=False)"
   ]
  },
  {
   "cell_type": "code",
   "execution_count": null,
   "metadata": {},
   "outputs": [],
   "source": []
  },
  {
   "cell_type": "markdown",
   "metadata": {},
   "source": [
    "# Análises"
   ]
  },
  {
   "cell_type": "markdown",
   "metadata": {},
   "source": [
    "# Análise das VIs (curva ROC)"
   ]
  },
  {
   "cell_type": "code",
   "execution_count": null,
   "metadata": {},
   "outputs": [
    {
     "name": "stdout",
     "output_type": "stream",
     "text": [
      "CIVE                           AUC = 0.18612729362208746\n",
      "ExG                            AUC = 0.809777961025575\n",
      "ExGR                           AUC = 0.836831508304779\n"
     ]
    }
   ],
   "source": [
    "plt.figure(figsize=(12,9))\n",
    "scores = pd.Series(None, index=data.columns)\n",
    "for col in data.columns:\n",
    "    score = roc_auc_score(GT, data[col])\n",
    "    scores[col] = score\n",
    "    print(\"%-30s AUC =\" % col, score)\n",
    "    fpr, tpr = roc_curve(GT, data[col])[:2]\n",
    "    plt.plot(fpr,tpr, label = col)\n",
    "plt.legend()"
   ]
  },
  {
   "cell_type": "code",
   "execution_count": 37,
   "metadata": {
    "scrolled": true
   },
   "outputs": [
    {
     "data": {
      "text/plain": [
       "GT       1.000000\n",
       "WI       0.958257\n",
       "ExG      0.940711\n",
       "VEG      0.934285\n",
       "ExGR     0.900862\n",
       "NGRDI    0.858256\n",
       "base     0.500000\n",
       "solo     0.344400\n",
       "IMG      0.315439\n",
       "CIVE     0.061969\n",
       "dtype: float64"
      ]
     },
     "execution_count": 37,
     "metadata": {},
     "output_type": "execute_result"
    }
   ],
   "source": [
    "scores.sort_values(ascending=False)"
   ]
  },
  {
   "cell_type": "markdown",
   "metadata": {
    "collapsed": true
   },
   "source": [
    "# Unificar bases"
   ]
  },
  {
   "cell_type": "code",
   "execution_count": 5,
   "metadata": {},
   "outputs": [],
   "source": [
    "data1 = pd.read_csv(\"PIXELdataset1.csv\")\n",
    "data2 = pd.read_csv(\"PIXELdataset2.csv\")"
   ]
  },
  {
   "cell_type": "code",
   "execution_count": 6,
   "metadata": {},
   "outputs": [],
   "source": [
    "data2[\"IMG\"] = data2[\"IMG\"] + 40 # talvez não chegue a 40, mas vai ser o bastante"
   ]
  },
  {
   "cell_type": "code",
   "execution_count": 7,
   "metadata": {},
   "outputs": [],
   "source": [
    "datafull = pd.concat([data1, data2])"
   ]
  },
  {
   "cell_type": "code",
   "execution_count": 8,
   "metadata": {},
   "outputs": [
    {
     "data": {
      "text/plain": [
       "(15204352, 10)"
      ]
     },
     "execution_count": 8,
     "metadata": {},
     "output_type": "execute_result"
    }
   ],
   "source": [
    "datafull.shape"
   ]
  },
  {
   "cell_type": "code",
   "execution_count": 9,
   "metadata": {},
   "outputs": [],
   "source": [
    "datafull.to_csv(\"PIXELdatasetfull.csv\", index=False)"
   ]
  },
  {
   "cell_type": "code",
   "execution_count": 40,
   "metadata": {
    "scrolled": true
   },
   "outputs": [
    {
     "data": {
      "text/plain": [
       "0        40\n",
       "1        40\n",
       "2        40\n",
       "3        40\n",
       "4        40\n",
       "5        40\n",
       "6        40\n",
       "7        40\n",
       "8        40\n",
       "9        40\n",
       "10       40\n",
       "11       40\n",
       "12       40\n",
       "13       40\n",
       "14       40\n",
       "15       40\n",
       "16       40\n",
       "17       40\n",
       "18       40\n",
       "19       40\n",
       "20       40\n",
       "21       40\n",
       "22       40\n",
       "23       40\n",
       "24       40\n",
       "25       40\n",
       "26       40\n",
       "27       40\n",
       "28       40\n",
       "29       40\n",
       "         ..\n",
       "22498    61\n",
       "22499    61\n",
       "22500    61\n",
       "22501    61\n",
       "22502    61\n",
       "22503    61\n",
       "22504    61\n",
       "22505    61\n",
       "22506    61\n",
       "22507    61\n",
       "22508    61\n",
       "22509    61\n",
       "22510    61\n",
       "22511    61\n",
       "22512    61\n",
       "22513    61\n",
       "22514    61\n",
       "22515    61\n",
       "22516    61\n",
       "22517    61\n",
       "22518    61\n",
       "22519    61\n",
       "22520    61\n",
       "22521    61\n",
       "22522    61\n",
       "22523    61\n",
       "22524    61\n",
       "22525    61\n",
       "22526    61\n",
       "22527    61\n",
       "Name: IMG, dtype: int64"
      ]
     },
     "execution_count": 40,
     "metadata": {},
     "output_type": "execute_result"
    }
   ],
   "source": [
    "data2[\"IMG\"]"
   ]
  },
  {
   "cell_type": "code",
   "execution_count": null,
   "metadata": {
    "collapsed": true
   },
   "outputs": [],
   "source": []
  }
 ],
 "metadata": {
  "kernelspec": {
   "display_name": "Python 3",
   "language": "python",
   "name": "python3"
  },
  "language_info": {
   "codemirror_mode": {
    "name": "ipython",
    "version": 3
   },
   "file_extension": ".py",
   "mimetype": "text/x-python",
   "name": "python",
   "nbconvert_exporter": "python",
   "pygments_lexer": "ipython3",
   "version": "3.7.0"
  }
 },
 "nbformat": 4,
 "nbformat_minor": 2
}
