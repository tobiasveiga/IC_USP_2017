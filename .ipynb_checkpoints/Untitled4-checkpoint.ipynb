{
 "cells": [
  {
   "cell_type": "code",
   "execution_count": 1,
   "metadata": {
    "collapsed": true,
    "deletable": true,
    "editable": true
   },
   "outputs": [],
   "source": [
    "from os import listdir\n",
    "from sys import argv\n",
    "\n",
    "import numpy as np\n",
    "import matplotlib.pyplot as plt\n",
    "%matplotlib inline\n",
    "from sklearn.metrics import f1_score, roc_curve, roc_auc_score, precision_recall_curve\n",
    "\n",
    "from sklearn.ensemble import RandomForestClassifier as RFC\n",
    "from sklearn.decomposition import PCA\n",
    "\n",
    "from sklearn.model_selection import train_test_split\n",
    "import xgboost as xgb\n",
    "\n",
    "from sklearn.feature_selection import SelectPercentile\n",
    "from sklearn.feature_selection import f_classif,chi2\n",
    "from sklearn.preprocessing import Binarizer, scale\n",
    "\n",
    "from sklearn.svm import SVC\n",
    "\n",
    "import time\n",
    "\n",
    "from sklearn.externals import joblib"
   ]
  },
  {
   "cell_type": "code",
   "execution_count": 2,
   "metadata": {
    "collapsed": false,
    "deletable": true,
    "editable": true
   },
   "outputs": [],
   "source": [
    "argv = [3, \"imgs_orig\", \"gts_orig\"]\n",
    "\n",
    "if len(argv) < 3:\n",
    "\tprint(\"Erro: argumentos insuficientes.\")\n",
    "\texit()\n",
    "\n",
    "path_imgs = sorted([ argv[1] + '/' + i for i in listdir(argv[1]) ])\n",
    "path_gts = sorted([ argv[2] + '/' + i for i in listdir(argv[2]) ])\n",
    "\n",
    "names_VI = [\"ExG\", \"ExGR\", \"CIVE\", \"VEG\", \"WI\", \"NGRDI\", \"PCA0\", \"PCA1\"]\n",
    "\n",
    "fpr = [np.array([0]) for i in range(6)]\n",
    "tpr = [np.array([0]) for i in range(6)]\n",
    "fpr2 = [np.array([0]) for i in range(6)]\n",
    "tpr2 = [np.array([0]) for i in range(6)]"
   ]
  },
  {
   "cell_type": "code",
   "execution_count": 3,
   "metadata": {
    "collapsed": true,
    "deletable": true,
    "editable": true
   },
   "outputs": [],
   "source": [
    "GT = np.load(\"VI_orig/Mini/GT.npy\")"
   ]
  },
  {
   "cell_type": "code",
   "execution_count": 24,
   "metadata": {
    "collapsed": false,
    "deletable": true,
    "editable": true
   },
   "outputs": [],
   "source": [
    "def gen_mat(features1, features2, features3, base, n_images):\n",
    "    \n",
    "    n_features = len(features1) + len(features2) + len(features3)\n",
    "    \n",
    "    X = np.zeros((512*512*n_images, n_features), dtype = float)\n",
    "    \n",
    "    s = 0\n",
    "    for i in range(len(features1)):\n",
    "        X[:, i + s] = np.load(base + \"Mini/\" + names_VI[features1[i]] + \".npy\")\n",
    "        \n",
    "    s += len(features1)\n",
    "    for i in range(len(features2)):\n",
    "        X[:, i + s] = np.load(base + \"MiniNBless/\" + names_VI[features2[i]] + \".npy\")\n",
    "        \n",
    "    s += len(features2)\n",
    "    for i in range(len(features3)):\n",
    "        X[:, i + s] = np.load(base + \"MiniNBmax/\" + names_VI[features3[i]] + \".npy\")\n",
    "    \n",
    "    return X\n",
    "    "
   ]
  },
  {
   "cell_type": "code",
   "execution_count": 31,
   "metadata": {
    "collapsed": false
   },
   "outputs": [],
   "source": [
    "X = gen_mat((1, 5), (0, 2 , 3, 4), (5,), \"VI_orig/\", len(path_imgs))"
   ]
  },
  {
   "cell_type": "code",
   "execution_count": 33,
   "metadata": {
    "collapsed": false,
    "deletable": true,
    "editable": true
   },
   "outputs": [
    {
     "name": "stdout",
     "output_type": "stream",
     "text": [
      "(9437184, 7)\n",
      "66060239\n",
      "(9437184,)\n",
      "6706552\n"
     ]
    }
   ],
   "source": [
    "print(X.shape)\n",
    "print(np.count_nonzero(X))\n",
    "print(GT.shape)\n",
    "print(np.count_nonzero(GT))"
   ]
  },
  {
   "cell_type": "markdown",
   "metadata": {
    "deletable": true,
    "editable": true
   },
   "source": [
    "# PCA"
   ]
  },
  {
   "cell_type": "code",
   "execution_count": 7,
   "metadata": {
    "collapsed": false,
    "deletable": true,
    "editable": true
   },
   "outputs": [],
   "source": [
    "pca = PCA(n_components=2)\n",
    "X_pca = pca.fit_transform(X)"
   ]
  },
  {
   "cell_type": "code",
   "execution_count": 8,
   "metadata": {
    "collapsed": true,
    "deletable": true,
    "editable": true
   },
   "outputs": [],
   "source": [
    "X = np.column_stack((X, X_pca[:,0]))\n",
    "X = np.column_stack((X, X_pca[:,1]))"
   ]
  },
  {
   "cell_type": "markdown",
   "metadata": {
    "deletable": true,
    "editable": true
   },
   "source": [
    "# CV simples"
   ]
  },
  {
   "cell_type": "code",
   "execution_count": 18,
   "metadata": {
    "collapsed": false,
    "deletable": true,
    "editable": true
   },
   "outputs": [
    {
     "name": "stdout",
     "output_type": "stream",
     "text": [
      "(5767168, 9)\n",
      "(5767168,)\n",
      "(3670016, 9)\n",
      "(3670016,)\n",
      "51904482\n",
      "4099095\n",
      "33030125\n",
      "2607457\n"
     ]
    }
   ],
   "source": [
    "X_train, X_test = np.split(X, [512*512*22], axis = 0)\n",
    "y_train, y_test = np.split(GT, [512*512*22])\n",
    "\n",
    "print(X_train.shape)\n",
    "print(y_train.shape)\n",
    "print(X_test.shape)\n",
    "print(y_test.shape)\n",
    "print(np.count_nonzero(X_train))\n",
    "print(np.count_nonzero(y_train))\n",
    "print(np.count_nonzero(X_test))\n",
    "print(np.count_nonzero(y_test))"
   ]
  },
  {
   "cell_type": "markdown",
   "metadata": {
    "deletable": true,
    "editable": true
   },
   "source": [
    "# CV completo"
   ]
  },
  {
   "cell_type": "code",
   "execution_count": 14,
   "metadata": {
    "collapsed": true,
    "deletable": true,
    "editable": true
   },
   "outputs": [],
   "source": [
    "X = np.column_stack((X, GT))"
   ]
  },
  {
   "cell_type": "code",
   "execution_count": 15,
   "metadata": {
    "collapsed": false,
    "deletable": true,
    "editable": true
   },
   "outputs": [
    {
     "name": "stdout",
     "output_type": "stream",
     "text": [
      "(9437184, 10)\n",
      "91641159\n"
     ]
    }
   ],
   "source": [
    "print(X.shape)\n",
    "print(np.count_nonzero(X))"
   ]
  },
  {
   "cell_type": "code",
   "execution_count": 16,
   "metadata": {
    "collapsed": true,
    "deletable": true,
    "editable": true
   },
   "outputs": [],
   "source": [
    "np.random.shuffle(X)"
   ]
  },
  {
   "cell_type": "code",
   "execution_count": 17,
   "metadata": {
    "collapsed": false,
    "deletable": true,
    "editable": true
   },
   "outputs": [
    {
     "name": "stdout",
     "output_type": "stream",
     "text": [
      "(9437184, 9)\n",
      "84934607\n",
      "(9437184,)\n",
      "6706552\n"
     ]
    }
   ],
   "source": [
    "GT = X[:,-1]\n",
    "X = X[:,:-1]\n",
    "print(X.shape)\n",
    "print(np.count_nonzero(X))\n",
    "print(GT.shape)\n",
    "print(np.count_nonzero(GT))"
   ]
  },
  {
   "cell_type": "markdown",
   "metadata": {
    "deletable": true,
    "editable": true
   },
   "source": [
    "# Treino"
   ]
  },
  {
   "cell_type": "code",
   "execution_count": 19,
   "metadata": {
    "collapsed": false,
    "deletable": true,
    "editable": true,
    "scrolled": false
   },
   "outputs": [
    {
     "name": "stdout",
     "output_type": "stream",
     "text": [
      "[0]\tvalidation_0-auc:0.763747\tvalidation_1-auc:0.763681\n",
      "Multiple eval metrics have been passed: 'validation_1-auc' will be used for early stopping.\n",
      "\n",
      "Will train until validation_1-auc hasn't improved in 20 rounds.\n",
      "[1]\tvalidation_0-auc:0.810618\tvalidation_1-auc:0.810558\n",
      "[2]\tvalidation_0-auc:0.816853\tvalidation_1-auc:0.816914\n",
      "[3]\tvalidation_0-auc:0.810032\tvalidation_1-auc:0.809964\n",
      "[4]\tvalidation_0-auc:0.807708\tvalidation_1-auc:0.807598\n",
      "[5]\tvalidation_0-auc:0.809872\tvalidation_1-auc:0.809731\n",
      "[6]\tvalidation_0-auc:0.806969\tvalidation_1-auc:0.806774\n",
      "[7]\tvalidation_0-auc:0.810906\tvalidation_1-auc:0.810727\n",
      "[8]\tvalidation_0-auc:0.811578\tvalidation_1-auc:0.811394\n",
      "[9]\tvalidation_0-auc:0.812316\tvalidation_1-auc:0.81213\n",
      "[10]\tvalidation_0-auc:0.81638\tvalidation_1-auc:0.81619\n",
      "[11]\tvalidation_0-auc:0.817225\tvalidation_1-auc:0.817037\n",
      "[12]\tvalidation_0-auc:0.819032\tvalidation_1-auc:0.818832\n",
      "[13]\tvalidation_0-auc:0.819407\tvalidation_1-auc:0.81922\n",
      "[14]\tvalidation_0-auc:0.820965\tvalidation_1-auc:0.820835\n",
      "[15]\tvalidation_0-auc:0.821318\tvalidation_1-auc:0.821183\n",
      "[16]\tvalidation_0-auc:0.823561\tvalidation_1-auc:0.823438\n",
      "[17]\tvalidation_0-auc:0.824683\tvalidation_1-auc:0.824557\n",
      "[18]\tvalidation_0-auc:0.823499\tvalidation_1-auc:0.82336\n",
      "[19]\tvalidation_0-auc:0.824058\tvalidation_1-auc:0.823927\n",
      "[20]\tvalidation_0-auc:0.826614\tvalidation_1-auc:0.82649\n",
      "[21]\tvalidation_0-auc:0.826626\tvalidation_1-auc:0.826503\n",
      "[22]\tvalidation_0-auc:0.8268\tvalidation_1-auc:0.826679\n",
      "[23]\tvalidation_0-auc:0.82813\tvalidation_1-auc:0.828004\n",
      "[24]\tvalidation_0-auc:0.829021\tvalidation_1-auc:0.828891\n",
      "[25]\tvalidation_0-auc:0.830341\tvalidation_1-auc:0.830208\n",
      "[26]\tvalidation_0-auc:0.829887\tvalidation_1-auc:0.829741\n",
      "[27]\tvalidation_0-auc:0.829926\tvalidation_1-auc:0.829778\n",
      "[28]\tvalidation_0-auc:0.830632\tvalidation_1-auc:0.830474\n",
      "[29]\tvalidation_0-auc:0.830332\tvalidation_1-auc:0.830167\n",
      "[30]\tvalidation_0-auc:0.830898\tvalidation_1-auc:0.830735\n",
      "[31]\tvalidation_0-auc:0.830883\tvalidation_1-auc:0.830725\n",
      "[32]\tvalidation_0-auc:0.830806\tvalidation_1-auc:0.830643\n",
      "[33]\tvalidation_0-auc:0.83076\tvalidation_1-auc:0.830599\n",
      "[34]\tvalidation_0-auc:0.83062\tvalidation_1-auc:0.830459\n",
      "[35]\tvalidation_0-auc:0.830998\tvalidation_1-auc:0.830834\n",
      "[36]\tvalidation_0-auc:0.831574\tvalidation_1-auc:0.831411\n",
      "[37]\tvalidation_0-auc:0.831503\tvalidation_1-auc:0.831339\n",
      "[38]\tvalidation_0-auc:0.831465\tvalidation_1-auc:0.831301\n",
      "[39]\tvalidation_0-auc:0.831374\tvalidation_1-auc:0.831208\n",
      "[40]\tvalidation_0-auc:0.832733\tvalidation_1-auc:0.832574\n",
      "[41]\tvalidation_0-auc:0.83265\tvalidation_1-auc:0.832489\n",
      "[42]\tvalidation_0-auc:0.832654\tvalidation_1-auc:0.832491\n",
      "[43]\tvalidation_0-auc:0.832864\tvalidation_1-auc:0.8327\n",
      "[44]\tvalidation_0-auc:0.833154\tvalidation_1-auc:0.832992\n",
      "[45]\tvalidation_0-auc:0.833311\tvalidation_1-auc:0.833149\n",
      "[46]\tvalidation_0-auc:0.834521\tvalidation_1-auc:0.834362\n",
      "[47]\tvalidation_0-auc:0.834781\tvalidation_1-auc:0.834619\n",
      "[48]\tvalidation_0-auc:0.834723\tvalidation_1-auc:0.834561\n",
      "[49]\tvalidation_0-auc:0.834668\tvalidation_1-auc:0.834505\n",
      "[50]\tvalidation_0-auc:0.834608\tvalidation_1-auc:0.834444\n",
      "[51]\tvalidation_0-auc:0.834573\tvalidation_1-auc:0.83441\n",
      "[52]\tvalidation_0-auc:0.834553\tvalidation_1-auc:0.834389\n",
      "[53]\tvalidation_0-auc:0.834509\tvalidation_1-auc:0.834345\n",
      "[54]\tvalidation_0-auc:0.834692\tvalidation_1-auc:0.834528\n",
      "[55]\tvalidation_0-auc:0.834724\tvalidation_1-auc:0.834558\n",
      "[56]\tvalidation_0-auc:0.834734\tvalidation_1-auc:0.834568\n",
      "[57]\tvalidation_0-auc:0.834753\tvalidation_1-auc:0.834587\n",
      "[58]\tvalidation_0-auc:0.834908\tvalidation_1-auc:0.834741\n",
      "[59]\tvalidation_0-auc:0.835018\tvalidation_1-auc:0.834853\n",
      "[60]\tvalidation_0-auc:0.835031\tvalidation_1-auc:0.834866\n",
      "[61]\tvalidation_0-auc:0.835038\tvalidation_1-auc:0.834874\n",
      "[62]\tvalidation_0-auc:0.835134\tvalidation_1-auc:0.834969\n",
      "[63]\tvalidation_0-auc:0.835113\tvalidation_1-auc:0.834947\n",
      "[64]\tvalidation_0-auc:0.835128\tvalidation_1-auc:0.834963\n",
      "[65]\tvalidation_0-auc:0.835353\tvalidation_1-auc:0.835192\n",
      "[66]\tvalidation_0-auc:0.83549\tvalidation_1-auc:0.835328\n",
      "[67]\tvalidation_0-auc:0.835733\tvalidation_1-auc:0.835571\n",
      "[68]\tvalidation_0-auc:0.835718\tvalidation_1-auc:0.835555\n",
      "[69]\tvalidation_0-auc:0.835715\tvalidation_1-auc:0.835551\n",
      "[70]\tvalidation_0-auc:0.835711\tvalidation_1-auc:0.835546\n",
      "[71]\tvalidation_0-auc:0.835698\tvalidation_1-auc:0.835532\n",
      "[72]\tvalidation_0-auc:0.83573\tvalidation_1-auc:0.835565\n",
      "[73]\tvalidation_0-auc:0.835741\tvalidation_1-auc:0.835576\n",
      "[74]\tvalidation_0-auc:0.835771\tvalidation_1-auc:0.835605\n",
      "[75]\tvalidation_0-auc:0.835767\tvalidation_1-auc:0.835602\n",
      "[76]\tvalidation_0-auc:0.835757\tvalidation_1-auc:0.835591\n",
      "[77]\tvalidation_0-auc:0.835768\tvalidation_1-auc:0.835603\n",
      "[78]\tvalidation_0-auc:0.835855\tvalidation_1-auc:0.835688\n",
      "[79]\tvalidation_0-auc:0.835865\tvalidation_1-auc:0.835698\n",
      "[80]\tvalidation_0-auc:0.836135\tvalidation_1-auc:0.835969\n",
      "[81]\tvalidation_0-auc:0.836165\tvalidation_1-auc:0.835999\n",
      "[82]\tvalidation_0-auc:0.836191\tvalidation_1-auc:0.836026\n",
      "[83]\tvalidation_0-auc:0.836207\tvalidation_1-auc:0.836042\n",
      "[84]\tvalidation_0-auc:0.836325\tvalidation_1-auc:0.836162\n",
      "[85]\tvalidation_0-auc:0.836403\tvalidation_1-auc:0.83624\n",
      "[86]\tvalidation_0-auc:0.83648\tvalidation_1-auc:0.836319\n",
      "[87]\tvalidation_0-auc:0.83674\tvalidation_1-auc:0.836579\n",
      "[88]\tvalidation_0-auc:0.836745\tvalidation_1-auc:0.836584\n",
      "[89]\tvalidation_0-auc:0.836848\tvalidation_1-auc:0.836686\n",
      "[90]\tvalidation_0-auc:0.83683\tvalidation_1-auc:0.836669\n",
      "[91]\tvalidation_0-auc:0.836842\tvalidation_1-auc:0.836682\n",
      "[92]\tvalidation_0-auc:0.836823\tvalidation_1-auc:0.836664\n",
      "[93]\tvalidation_0-auc:0.836841\tvalidation_1-auc:0.836682\n",
      "[94]\tvalidation_0-auc:0.836859\tvalidation_1-auc:0.836701\n",
      "[95]\tvalidation_0-auc:0.836874\tvalidation_1-auc:0.836716\n",
      "[96]\tvalidation_0-auc:0.836884\tvalidation_1-auc:0.836727\n",
      "[97]\tvalidation_0-auc:0.836948\tvalidation_1-auc:0.836791\n",
      "[98]\tvalidation_0-auc:0.836969\tvalidation_1-auc:0.836812\n",
      "[99]\tvalidation_0-auc:0.837187\tvalidation_1-auc:0.837031\n",
      "[100]\tvalidation_0-auc:0.837244\tvalidation_1-auc:0.837089\n",
      "[101]\tvalidation_0-auc:0.837267\tvalidation_1-auc:0.837111\n",
      "[102]\tvalidation_0-auc:0.837536\tvalidation_1-auc:0.837384\n",
      "[103]\tvalidation_0-auc:0.837543\tvalidation_1-auc:0.837391\n",
      "[104]\tvalidation_0-auc:0.837557\tvalidation_1-auc:0.837404\n",
      "[105]\tvalidation_0-auc:0.837549\tvalidation_1-auc:0.837396\n",
      "[106]\tvalidation_0-auc:0.837635\tvalidation_1-auc:0.837482\n",
      "[107]\tvalidation_0-auc:0.837717\tvalidation_1-auc:0.837563\n",
      "[108]\tvalidation_0-auc:0.837749\tvalidation_1-auc:0.837594\n",
      "[109]\tvalidation_0-auc:0.837804\tvalidation_1-auc:0.837649\n",
      "[110]\tvalidation_0-auc:0.837859\tvalidation_1-auc:0.837705\n",
      "[111]\tvalidation_0-auc:0.837927\tvalidation_1-auc:0.837774\n",
      "[112]\tvalidation_0-auc:0.837916\tvalidation_1-auc:0.837763\n",
      "[113]\tvalidation_0-auc:0.837935\tvalidation_1-auc:0.837782\n",
      "[114]\tvalidation_0-auc:0.838004\tvalidation_1-auc:0.837851\n",
      "[115]\tvalidation_0-auc:0.83807\tvalidation_1-auc:0.837917\n",
      "[116]\tvalidation_0-auc:0.838125\tvalidation_1-auc:0.837972\n",
      "[117]\tvalidation_0-auc:0.838147\tvalidation_1-auc:0.837995\n",
      "[118]\tvalidation_0-auc:0.838214\tvalidation_1-auc:0.838062\n",
      "[119]\tvalidation_0-auc:0.838272\tvalidation_1-auc:0.838119\n",
      "[120]\tvalidation_0-auc:0.838289\tvalidation_1-auc:0.838136\n",
      "[121]\tvalidation_0-auc:0.839403\tvalidation_1-auc:0.839244\n",
      "[122]\tvalidation_0-auc:0.83942\tvalidation_1-auc:0.839261\n",
      "[123]\tvalidation_0-auc:0.839456\tvalidation_1-auc:0.839297\n",
      "[124]\tvalidation_0-auc:0.839474\tvalidation_1-auc:0.839315\n",
      "[125]\tvalidation_0-auc:0.839523\tvalidation_1-auc:0.839363\n",
      "[126]\tvalidation_0-auc:0.839541\tvalidation_1-auc:0.839382\n",
      "[127]\tvalidation_0-auc:0.839557\tvalidation_1-auc:0.839398\n",
      "[128]\tvalidation_0-auc:0.839622\tvalidation_1-auc:0.839463\n",
      "[129]\tvalidation_0-auc:0.840589\tvalidation_1-auc:0.840421\n",
      "[130]\tvalidation_0-auc:0.841345\tvalidation_1-auc:0.841167\n",
      "[131]\tvalidation_0-auc:0.841384\tvalidation_1-auc:0.841206\n",
      "[132]\tvalidation_0-auc:0.841388\tvalidation_1-auc:0.841209\n",
      "[133]\tvalidation_0-auc:0.841375\tvalidation_1-auc:0.841197\n",
      "[134]\tvalidation_0-auc:0.841378\tvalidation_1-auc:0.8412\n",
      "[135]\tvalidation_0-auc:0.841435\tvalidation_1-auc:0.841257\n",
      "[136]\tvalidation_0-auc:0.841436\tvalidation_1-auc:0.841258\n",
      "[137]\tvalidation_0-auc:0.841467\tvalidation_1-auc:0.841287\n",
      "[138]\tvalidation_0-auc:0.841716\tvalidation_1-auc:0.841536\n",
      "[139]\tvalidation_0-auc:0.841719\tvalidation_1-auc:0.841539\n",
      "[140]\tvalidation_0-auc:0.841706\tvalidation_1-auc:0.841527\n",
      "[141]\tvalidation_0-auc:0.84171\tvalidation_1-auc:0.841531\n",
      "[142]\tvalidation_0-auc:0.841739\tvalidation_1-auc:0.841558\n",
      "[143]\tvalidation_0-auc:0.842411\tvalidation_1-auc:0.842221\n",
      "[144]\tvalidation_0-auc:0.842412\tvalidation_1-auc:0.842222\n",
      "[145]\tvalidation_0-auc:0.842438\tvalidation_1-auc:0.842248\n",
      "[146]\tvalidation_0-auc:0.842537\tvalidation_1-auc:0.842348\n",
      "[147]\tvalidation_0-auc:0.842613\tvalidation_1-auc:0.842427\n",
      "[148]\tvalidation_0-auc:0.842691\tvalidation_1-auc:0.842505\n",
      "[149]\tvalidation_0-auc:0.842964\tvalidation_1-auc:0.84278\n",
      "[150]\tvalidation_0-auc:0.842955\tvalidation_1-auc:0.842772\n",
      "[151]\tvalidation_0-auc:0.842964\tvalidation_1-auc:0.842783\n",
      "[152]\tvalidation_0-auc:0.84347\tvalidation_1-auc:0.843281\n",
      "[153]\tvalidation_0-auc:0.843471\tvalidation_1-auc:0.843282\n",
      "[154]\tvalidation_0-auc:0.843712\tvalidation_1-auc:0.843523\n",
      "[155]\tvalidation_0-auc:0.843754\tvalidation_1-auc:0.843564\n",
      "[156]\tvalidation_0-auc:0.843752\tvalidation_1-auc:0.843563\n",
      "[157]\tvalidation_0-auc:0.843753\tvalidation_1-auc:0.843563\n",
      "[158]\tvalidation_0-auc:0.843944\tvalidation_1-auc:0.843756\n",
      "[159]\tvalidation_0-auc:0.84394\tvalidation_1-auc:0.843752\n",
      "[160]\tvalidation_0-auc:0.843937\tvalidation_1-auc:0.843749\n",
      "[161]\tvalidation_0-auc:0.843994\tvalidation_1-auc:0.843806\n",
      "[162]\tvalidation_0-auc:0.844038\tvalidation_1-auc:0.84385\n",
      "[163]\tvalidation_0-auc:0.844031\tvalidation_1-auc:0.843843\n",
      "[164]\tvalidation_0-auc:0.844026\tvalidation_1-auc:0.843837\n",
      "[165]\tvalidation_0-auc:0.844088\tvalidation_1-auc:0.843901\n",
      "[166]\tvalidation_0-auc:0.844102\tvalidation_1-auc:0.843914\n",
      "[167]\tvalidation_0-auc:0.844629\tvalidation_1-auc:0.84444\n",
      "[168]\tvalidation_0-auc:0.844621\tvalidation_1-auc:0.844431\n",
      "[169]\tvalidation_0-auc:0.844675\tvalidation_1-auc:0.844486\n",
      "[170]\tvalidation_0-auc:0.844686\tvalidation_1-auc:0.844496\n",
      "[171]\tvalidation_0-auc:0.84468\tvalidation_1-auc:0.84449\n",
      "[172]\tvalidation_0-auc:0.844674\tvalidation_1-auc:0.844485\n",
      "[173]\tvalidation_0-auc:0.844681\tvalidation_1-auc:0.844492\n",
      "[174]\tvalidation_0-auc:0.844686\tvalidation_1-auc:0.844497\n",
      "[175]\tvalidation_0-auc:0.844683\tvalidation_1-auc:0.844495\n",
      "[176]\tvalidation_0-auc:0.844696\tvalidation_1-auc:0.844508\n",
      "[177]\tvalidation_0-auc:0.844695\tvalidation_1-auc:0.844506\n",
      "[178]\tvalidation_0-auc:0.844704\tvalidation_1-auc:0.844515\n",
      "[179]\tvalidation_0-auc:0.844981\tvalidation_1-auc:0.844793\n",
      "[180]\tvalidation_0-auc:0.845023\tvalidation_1-auc:0.844835\n",
      "[181]\tvalidation_0-auc:0.845035\tvalidation_1-auc:0.844847\n",
      "[182]\tvalidation_0-auc:0.845299\tvalidation_1-auc:0.845113\n",
      "[183]\tvalidation_0-auc:0.845546\tvalidation_1-auc:0.84536\n",
      "[184]\tvalidation_0-auc:0.845548\tvalidation_1-auc:0.845363\n",
      "[185]\tvalidation_0-auc:0.845543\tvalidation_1-auc:0.845358\n",
      "[186]\tvalidation_0-auc:0.845543\tvalidation_1-auc:0.845358\n",
      "[187]\tvalidation_0-auc:0.845766\tvalidation_1-auc:0.845582\n",
      "[188]\tvalidation_0-auc:0.845953\tvalidation_1-auc:0.845769\n",
      "[189]\tvalidation_0-auc:0.845956\tvalidation_1-auc:0.845773\n",
      "[190]\tvalidation_0-auc:0.84617\tvalidation_1-auc:0.845989\n",
      "[191]\tvalidation_0-auc:0.846155\tvalidation_1-auc:0.845974\n",
      "[192]\tvalidation_0-auc:0.846158\tvalidation_1-auc:0.845976\n",
      "[193]\tvalidation_0-auc:0.846151\tvalidation_1-auc:0.845969\n",
      "[194]\tvalidation_0-auc:0.846228\tvalidation_1-auc:0.846047\n",
      "[195]\tvalidation_0-auc:0.846219\tvalidation_1-auc:0.846036\n",
      "[196]\tvalidation_0-auc:0.846251\tvalidation_1-auc:0.84607\n",
      "[197]\tvalidation_0-auc:0.846259\tvalidation_1-auc:0.846078\n",
      "[198]\tvalidation_0-auc:0.846594\tvalidation_1-auc:0.846408\n",
      "[199]\tvalidation_0-auc:0.846598\tvalidation_1-auc:0.846411\n",
      "[200]\tvalidation_0-auc:0.846632\tvalidation_1-auc:0.846448\n",
      "[201]\tvalidation_0-auc:0.846721\tvalidation_1-auc:0.846536\n",
      "[202]\tvalidation_0-auc:0.846722\tvalidation_1-auc:0.846537\n",
      "[203]\tvalidation_0-auc:0.846728\tvalidation_1-auc:0.846544\n",
      "[204]\tvalidation_0-auc:0.846946\tvalidation_1-auc:0.846764\n",
      "[205]\tvalidation_0-auc:0.84695\tvalidation_1-auc:0.846769\n",
      "[206]\tvalidation_0-auc:0.846961\tvalidation_1-auc:0.846779\n",
      "[207]\tvalidation_0-auc:0.847149\tvalidation_1-auc:0.846967\n",
      "[208]\tvalidation_0-auc:0.847156\tvalidation_1-auc:0.846974\n",
      "[209]\tvalidation_0-auc:0.847161\tvalidation_1-auc:0.846979\n",
      "[210]\tvalidation_0-auc:0.847247\tvalidation_1-auc:0.847065\n",
      "[211]\tvalidation_0-auc:0.847251\tvalidation_1-auc:0.84707\n",
      "[212]\tvalidation_0-auc:0.847246\tvalidation_1-auc:0.847064\n",
      "[213]\tvalidation_0-auc:0.847648\tvalidation_1-auc:0.847468\n",
      "[214]\tvalidation_0-auc:0.847635\tvalidation_1-auc:0.847455\n",
      "[215]\tvalidation_0-auc:0.847624\tvalidation_1-auc:0.847444\n",
      "[216]\tvalidation_0-auc:0.847709\tvalidation_1-auc:0.847529\n",
      "[217]\tvalidation_0-auc:0.847711\tvalidation_1-auc:0.847531\n",
      "[218]\tvalidation_0-auc:0.848045\tvalidation_1-auc:0.847868\n",
      "[219]\tvalidation_0-auc:0.848296\tvalidation_1-auc:0.848118\n",
      "[220]\tvalidation_0-auc:0.848297\tvalidation_1-auc:0.848121\n",
      "[221]\tvalidation_0-auc:0.848554\tvalidation_1-auc:0.84838\n",
      "[222]\tvalidation_0-auc:0.848724\tvalidation_1-auc:0.848551\n",
      "[223]\tvalidation_0-auc:0.848789\tvalidation_1-auc:0.848616\n",
      "[224]\tvalidation_0-auc:0.848931\tvalidation_1-auc:0.848758\n",
      "[225]\tvalidation_0-auc:0.848907\tvalidation_1-auc:0.848734\n",
      "[226]\tvalidation_0-auc:0.848924\tvalidation_1-auc:0.848752\n",
      "[227]\tvalidation_0-auc:0.848924\tvalidation_1-auc:0.848752\n",
      "[228]\tvalidation_0-auc:0.848911\tvalidation_1-auc:0.848738\n",
      "[229]\tvalidation_0-auc:0.848897\tvalidation_1-auc:0.848724\n",
      "[230]\tvalidation_0-auc:0.848906\tvalidation_1-auc:0.848733\n",
      "[231]\tvalidation_0-auc:0.848925\tvalidation_1-auc:0.848753\n",
      "[232]\tvalidation_0-auc:0.849021\tvalidation_1-auc:0.848849\n",
      "[233]\tvalidation_0-auc:0.849023\tvalidation_1-auc:0.848851\n",
      "[234]\tvalidation_0-auc:0.849024\tvalidation_1-auc:0.848851\n",
      "[235]\tvalidation_0-auc:0.84903\tvalidation_1-auc:0.848858\n",
      "[236]\tvalidation_0-auc:0.849253\tvalidation_1-auc:0.849081\n",
      "[237]\tvalidation_0-auc:0.849239\tvalidation_1-auc:0.849067\n",
      "[238]\tvalidation_0-auc:0.849246\tvalidation_1-auc:0.849073\n",
      "[239]\tvalidation_0-auc:0.849243\tvalidation_1-auc:0.849071\n",
      "[240]\tvalidation_0-auc:0.849467\tvalidation_1-auc:0.849295\n",
      "[241]\tvalidation_0-auc:0.849642\tvalidation_1-auc:0.849468\n",
      "[242]\tvalidation_0-auc:0.84964\tvalidation_1-auc:0.849466\n",
      "[243]\tvalidation_0-auc:0.849642\tvalidation_1-auc:0.849467\n",
      "[244]\tvalidation_0-auc:0.849629\tvalidation_1-auc:0.849455\n",
      "[245]\tvalidation_0-auc:0.849633\tvalidation_1-auc:0.849458\n",
      "[246]\tvalidation_0-auc:0.849769\tvalidation_1-auc:0.849592\n",
      "[247]\tvalidation_0-auc:0.84987\tvalidation_1-auc:0.849694\n",
      "[248]\tvalidation_0-auc:0.850061\tvalidation_1-auc:0.849885\n",
      "[249]\tvalidation_0-auc:0.850215\tvalidation_1-auc:0.85004\n",
      "[250]\tvalidation_0-auc:0.850197\tvalidation_1-auc:0.850022\n",
      "[251]\tvalidation_0-auc:0.850288\tvalidation_1-auc:0.850113\n",
      "[252]\tvalidation_0-auc:0.850299\tvalidation_1-auc:0.850123\n",
      "[253]\tvalidation_0-auc:0.850398\tvalidation_1-auc:0.85022\n",
      "[254]\tvalidation_0-auc:0.850474\tvalidation_1-auc:0.850294\n",
      "[255]\tvalidation_0-auc:0.850678\tvalidation_1-auc:0.850498\n",
      "[256]\tvalidation_0-auc:0.850666\tvalidation_1-auc:0.850486\n",
      "[257]\tvalidation_0-auc:0.850667\tvalidation_1-auc:0.850487\n",
      "[258]\tvalidation_0-auc:0.850895\tvalidation_1-auc:0.850716\n",
      "[259]\tvalidation_0-auc:0.850904\tvalidation_1-auc:0.850726\n",
      "[260]\tvalidation_0-auc:0.850899\tvalidation_1-auc:0.850721\n",
      "[261]\tvalidation_0-auc:0.8511\tvalidation_1-auc:0.850922\n",
      "[262]\tvalidation_0-auc:0.85128\tvalidation_1-auc:0.851103\n",
      "[263]\tvalidation_0-auc:0.851361\tvalidation_1-auc:0.851184\n",
      "[264]\tvalidation_0-auc:0.851354\tvalidation_1-auc:0.851179\n",
      "[265]\tvalidation_0-auc:0.851342\tvalidation_1-auc:0.851166\n",
      "[266]\tvalidation_0-auc:0.851341\tvalidation_1-auc:0.851166\n",
      "[267]\tvalidation_0-auc:0.851541\tvalidation_1-auc:0.851368\n",
      "[268]\tvalidation_0-auc:0.851544\tvalidation_1-auc:0.85137\n",
      "[269]\tvalidation_0-auc:0.851529\tvalidation_1-auc:0.851357\n",
      "[270]\tvalidation_0-auc:0.851546\tvalidation_1-auc:0.851373\n",
      "[271]\tvalidation_0-auc:0.851532\tvalidation_1-auc:0.85136\n",
      "[272]\tvalidation_0-auc:0.851519\tvalidation_1-auc:0.851346\n",
      "[273]\tvalidation_0-auc:0.851632\tvalidation_1-auc:0.851457\n",
      "[274]\tvalidation_0-auc:0.851627\tvalidation_1-auc:0.851452\n",
      "[275]\tvalidation_0-auc:0.851732\tvalidation_1-auc:0.851556\n",
      "[276]\tvalidation_0-auc:0.851721\tvalidation_1-auc:0.851545\n",
      "[277]\tvalidation_0-auc:0.851705\tvalidation_1-auc:0.851528\n",
      "[278]\tvalidation_0-auc:0.851717\tvalidation_1-auc:0.851541\n",
      "[279]\tvalidation_0-auc:0.851709\tvalidation_1-auc:0.851533\n",
      "[280]\tvalidation_0-auc:0.851734\tvalidation_1-auc:0.851558\n",
      "[281]\tvalidation_0-auc:0.851926\tvalidation_1-auc:0.85175\n",
      "[282]\tvalidation_0-auc:0.851927\tvalidation_1-auc:0.851751\n",
      "[283]\tvalidation_0-auc:0.852032\tvalidation_1-auc:0.851856\n",
      "[284]\tvalidation_0-auc:0.852128\tvalidation_1-auc:0.851951\n",
      "[285]\tvalidation_0-auc:0.852127\tvalidation_1-auc:0.851951\n",
      "[286]\tvalidation_0-auc:0.85211\tvalidation_1-auc:0.851934\n",
      "[287]\tvalidation_0-auc:0.852096\tvalidation_1-auc:0.85192\n",
      "[288]\tvalidation_0-auc:0.852103\tvalidation_1-auc:0.851926\n",
      "[289]\tvalidation_0-auc:0.852202\tvalidation_1-auc:0.852026\n",
      "[290]\tvalidation_0-auc:0.852379\tvalidation_1-auc:0.852202\n",
      "[291]\tvalidation_0-auc:0.852382\tvalidation_1-auc:0.852206\n",
      "[292]\tvalidation_0-auc:0.852381\tvalidation_1-auc:0.852205\n",
      "[293]\tvalidation_0-auc:0.852359\tvalidation_1-auc:0.852183\n",
      "[294]\tvalidation_0-auc:0.852363\tvalidation_1-auc:0.852186\n",
      "[295]\tvalidation_0-auc:0.852441\tvalidation_1-auc:0.852265\n",
      "[296]\tvalidation_0-auc:0.852416\tvalidation_1-auc:0.852239\n",
      "[297]\tvalidation_0-auc:0.852393\tvalidation_1-auc:0.852216\n",
      "[298]\tvalidation_0-auc:0.852451\tvalidation_1-auc:0.852273\n",
      "[299]\tvalidation_0-auc:0.852457\tvalidation_1-auc:0.852279\n",
      "[300]\tvalidation_0-auc:0.852457\tvalidation_1-auc:0.85228\n",
      "[301]\tvalidation_0-auc:0.852549\tvalidation_1-auc:0.852372\n",
      "[302]\tvalidation_0-auc:0.852607\tvalidation_1-auc:0.852428\n",
      "[303]\tvalidation_0-auc:0.852692\tvalidation_1-auc:0.852512\n",
      "[304]\tvalidation_0-auc:0.852699\tvalidation_1-auc:0.852519\n",
      "[305]\tvalidation_0-auc:0.852774\tvalidation_1-auc:0.852592\n",
      "[306]\tvalidation_0-auc:0.852766\tvalidation_1-auc:0.852586\n",
      "[307]\tvalidation_0-auc:0.852736\tvalidation_1-auc:0.852555\n",
      "[308]\tvalidation_0-auc:0.852936\tvalidation_1-auc:0.852756\n",
      "[309]\tvalidation_0-auc:0.852919\tvalidation_1-auc:0.852738\n",
      "[310]\tvalidation_0-auc:0.852912\tvalidation_1-auc:0.852732\n",
      "[311]\tvalidation_0-auc:0.853101\tvalidation_1-auc:0.852921\n",
      "[312]\tvalidation_0-auc:0.853064\tvalidation_1-auc:0.852884\n",
      "[313]\tvalidation_0-auc:0.853037\tvalidation_1-auc:0.852857\n",
      "[314]\tvalidation_0-auc:0.853112\tvalidation_1-auc:0.852932\n",
      "[315]\tvalidation_0-auc:0.853153\tvalidation_1-auc:0.852972\n",
      "[316]\tvalidation_0-auc:0.853338\tvalidation_1-auc:0.853158\n",
      "[317]\tvalidation_0-auc:0.853303\tvalidation_1-auc:0.853123\n",
      "[318]\tvalidation_0-auc:0.85328\tvalidation_1-auc:0.8531\n",
      "[319]\tvalidation_0-auc:0.853259\tvalidation_1-auc:0.853078\n",
      "[320]\tvalidation_0-auc:0.853251\tvalidation_1-auc:0.853071\n",
      "[321]\tvalidation_0-auc:0.853244\tvalidation_1-auc:0.853063\n",
      "[322]\tvalidation_0-auc:0.85323\tvalidation_1-auc:0.853049\n",
      "[323]\tvalidation_0-auc:0.853216\tvalidation_1-auc:0.853035\n",
      "[324]\tvalidation_0-auc:0.853286\tvalidation_1-auc:0.853104\n",
      "[325]\tvalidation_0-auc:0.853271\tvalidation_1-auc:0.853089\n",
      "[326]\tvalidation_0-auc:0.853287\tvalidation_1-auc:0.853104\n",
      "[327]\tvalidation_0-auc:0.853273\tvalidation_1-auc:0.85309\n",
      "[328]\tvalidation_0-auc:0.853303\tvalidation_1-auc:0.85312\n",
      "[329]\tvalidation_0-auc:0.853316\tvalidation_1-auc:0.853133\n",
      "[330]\tvalidation_0-auc:0.853425\tvalidation_1-auc:0.853241\n",
      "[331]\tvalidation_0-auc:0.853436\tvalidation_1-auc:0.853252\n",
      "[332]\tvalidation_0-auc:0.853522\tvalidation_1-auc:0.853339\n",
      "[333]\tvalidation_0-auc:0.853601\tvalidation_1-auc:0.853417\n",
      "[334]\tvalidation_0-auc:0.853661\tvalidation_1-auc:0.853478\n",
      "[335]\tvalidation_0-auc:0.853748\tvalidation_1-auc:0.853565\n",
      "[336]\tvalidation_0-auc:0.85373\tvalidation_1-auc:0.853547\n",
      "[337]\tvalidation_0-auc:0.853707\tvalidation_1-auc:0.853524\n",
      "[338]\tvalidation_0-auc:0.853716\tvalidation_1-auc:0.853533\n",
      "[339]\tvalidation_0-auc:0.853911\tvalidation_1-auc:0.853729\n",
      "[340]\tvalidation_0-auc:0.853918\tvalidation_1-auc:0.853736\n",
      "[341]\tvalidation_0-auc:0.853998\tvalidation_1-auc:0.853816\n",
      "[342]\tvalidation_0-auc:0.854007\tvalidation_1-auc:0.853825\n",
      "[343]\tvalidation_0-auc:0.853983\tvalidation_1-auc:0.8538\n",
      "[344]\tvalidation_0-auc:0.8542\tvalidation_1-auc:0.854018\n",
      "[345]\tvalidation_0-auc:0.854194\tvalidation_1-auc:0.854013\n",
      "[346]\tvalidation_0-auc:0.854355\tvalidation_1-auc:0.854173\n",
      "[347]\tvalidation_0-auc:0.854336\tvalidation_1-auc:0.854154\n",
      "[348]\tvalidation_0-auc:0.85452\tvalidation_1-auc:0.854339\n",
      "[349]\tvalidation_0-auc:0.854486\tvalidation_1-auc:0.854305\n",
      "[350]\tvalidation_0-auc:0.854469\tvalidation_1-auc:0.854288\n",
      "[351]\tvalidation_0-auc:0.854436\tvalidation_1-auc:0.854256\n",
      "[352]\tvalidation_0-auc:0.854404\tvalidation_1-auc:0.854224\n",
      "[353]\tvalidation_0-auc:0.854376\tvalidation_1-auc:0.854196\n",
      "[354]\tvalidation_0-auc:0.85441\tvalidation_1-auc:0.85423\n",
      "[355]\tvalidation_0-auc:0.854441\tvalidation_1-auc:0.854261\n",
      "[356]\tvalidation_0-auc:0.854678\tvalidation_1-auc:0.854499\n",
      "[357]\tvalidation_0-auc:0.854656\tvalidation_1-auc:0.854477\n",
      "[358]\tvalidation_0-auc:0.85465\tvalidation_1-auc:0.85447\n",
      "[359]\tvalidation_0-auc:0.854619\tvalidation_1-auc:0.85444\n",
      "[360]\tvalidation_0-auc:0.854589\tvalidation_1-auc:0.85441\n",
      "[361]\tvalidation_0-auc:0.854614\tvalidation_1-auc:0.854436\n",
      "[362]\tvalidation_0-auc:0.854615\tvalidation_1-auc:0.854436\n",
      "[363]\tvalidation_0-auc:0.854873\tvalidation_1-auc:0.854694\n",
      "[364]\tvalidation_0-auc:0.854886\tvalidation_1-auc:0.854707\n",
      "[365]\tvalidation_0-auc:0.854855\tvalidation_1-auc:0.854675\n",
      "[366]\tvalidation_0-auc:0.854985\tvalidation_1-auc:0.854805\n",
      "[367]\tvalidation_0-auc:0.85522\tvalidation_1-auc:0.85504\n",
      "[368]\tvalidation_0-auc:0.855199\tvalidation_1-auc:0.855019\n",
      "[369]\tvalidation_0-auc:0.855194\tvalidation_1-auc:0.855014\n",
      "[370]\tvalidation_0-auc:0.855156\tvalidation_1-auc:0.854976\n",
      "[371]\tvalidation_0-auc:0.855143\tvalidation_1-auc:0.854963\n",
      "[372]\tvalidation_0-auc:0.855165\tvalidation_1-auc:0.854984\n",
      "[373]\tvalidation_0-auc:0.85519\tvalidation_1-auc:0.85501\n",
      "[374]\tvalidation_0-auc:0.855207\tvalidation_1-auc:0.855027\n",
      "[375]\tvalidation_0-auc:0.855329\tvalidation_1-auc:0.855148\n",
      "[376]\tvalidation_0-auc:0.855349\tvalidation_1-auc:0.855169\n",
      "[377]\tvalidation_0-auc:0.855566\tvalidation_1-auc:0.855386\n",
      "[378]\tvalidation_0-auc:0.855521\tvalidation_1-auc:0.855341\n",
      "[379]\tvalidation_0-auc:0.855502\tvalidation_1-auc:0.855322\n",
      "[380]\tvalidation_0-auc:0.855483\tvalidation_1-auc:0.855303\n",
      "[381]\tvalidation_0-auc:0.855601\tvalidation_1-auc:0.855422\n",
      "[382]\tvalidation_0-auc:0.855565\tvalidation_1-auc:0.855385\n",
      "[383]\tvalidation_0-auc:0.855616\tvalidation_1-auc:0.855436\n",
      "[384]\tvalidation_0-auc:0.855631\tvalidation_1-auc:0.855451\n",
      "[385]\tvalidation_0-auc:0.855598\tvalidation_1-auc:0.855417\n",
      "[386]\tvalidation_0-auc:0.855587\tvalidation_1-auc:0.855406\n",
      "[387]\tvalidation_0-auc:0.855716\tvalidation_1-auc:0.855534\n",
      "[388]\tvalidation_0-auc:0.855971\tvalidation_1-auc:0.855789\n",
      "[389]\tvalidation_0-auc:0.856079\tvalidation_1-auc:0.855897\n",
      "[390]\tvalidation_0-auc:0.856086\tvalidation_1-auc:0.855905\n",
      "[391]\tvalidation_0-auc:0.856043\tvalidation_1-auc:0.855862\n",
      "[392]\tvalidation_0-auc:0.856126\tvalidation_1-auc:0.855944\n",
      "[393]\tvalidation_0-auc:0.856231\tvalidation_1-auc:0.856048\n",
      "[394]\tvalidation_0-auc:0.856243\tvalidation_1-auc:0.85606\n",
      "[395]\tvalidation_0-auc:0.856239\tvalidation_1-auc:0.856057\n",
      "[396]\tvalidation_0-auc:0.856448\tvalidation_1-auc:0.856266\n",
      "[397]\tvalidation_0-auc:0.856428\tvalidation_1-auc:0.856246\n",
      "[398]\tvalidation_0-auc:0.856421\tvalidation_1-auc:0.85624\n",
      "[399]\tvalidation_0-auc:0.856473\tvalidation_1-auc:0.856291\n",
      "[400]\tvalidation_0-auc:0.856424\tvalidation_1-auc:0.856242\n",
      "[401]\tvalidation_0-auc:0.856671\tvalidation_1-auc:0.856491\n",
      "[402]\tvalidation_0-auc:0.856891\tvalidation_1-auc:0.856714\n",
      "[403]\tvalidation_0-auc:0.856965\tvalidation_1-auc:0.856788\n",
      "[404]\tvalidation_0-auc:0.856931\tvalidation_1-auc:0.856753\n",
      "[405]\tvalidation_0-auc:0.856939\tvalidation_1-auc:0.856761\n",
      "[406]\tvalidation_0-auc:0.856944\tvalidation_1-auc:0.856767\n",
      "[407]\tvalidation_0-auc:0.856885\tvalidation_1-auc:0.856708\n",
      "[408]\tvalidation_0-auc:0.856877\tvalidation_1-auc:0.8567\n",
      "[409]\tvalidation_0-auc:0.856943\tvalidation_1-auc:0.856765\n",
      "[410]\tvalidation_0-auc:0.856924\tvalidation_1-auc:0.856746\n",
      "[411]\tvalidation_0-auc:0.856956\tvalidation_1-auc:0.856778\n",
      "[412]\tvalidation_0-auc:0.856932\tvalidation_1-auc:0.856754\n",
      "[413]\tvalidation_0-auc:0.856986\tvalidation_1-auc:0.856807\n",
      "[414]\tvalidation_0-auc:0.857035\tvalidation_1-auc:0.856856\n",
      "[415]\tvalidation_0-auc:0.857136\tvalidation_1-auc:0.856957\n",
      "[416]\tvalidation_0-auc:0.857227\tvalidation_1-auc:0.857047\n",
      "[417]\tvalidation_0-auc:0.857219\tvalidation_1-auc:0.85704\n",
      "[418]\tvalidation_0-auc:0.857302\tvalidation_1-auc:0.857123\n",
      "[419]\tvalidation_0-auc:0.857291\tvalidation_1-auc:0.857112\n",
      "[420]\tvalidation_0-auc:0.857281\tvalidation_1-auc:0.857102\n",
      "[421]\tvalidation_0-auc:0.857286\tvalidation_1-auc:0.857107\n",
      "[422]\tvalidation_0-auc:0.857364\tvalidation_1-auc:0.857184\n",
      "[423]\tvalidation_0-auc:0.857328\tvalidation_1-auc:0.857149\n",
      "[424]\tvalidation_0-auc:0.857508\tvalidation_1-auc:0.857329\n",
      "[425]\tvalidation_0-auc:0.857447\tvalidation_1-auc:0.857267\n",
      "[426]\tvalidation_0-auc:0.857497\tvalidation_1-auc:0.857317\n",
      "[427]\tvalidation_0-auc:0.857489\tvalidation_1-auc:0.857309\n",
      "[428]\tvalidation_0-auc:0.857484\tvalidation_1-auc:0.857304\n",
      "[429]\tvalidation_0-auc:0.857489\tvalidation_1-auc:0.857309\n",
      "[430]\tvalidation_0-auc:0.857573\tvalidation_1-auc:0.857393\n",
      "[431]\tvalidation_0-auc:0.857569\tvalidation_1-auc:0.857389\n",
      "[432]\tvalidation_0-auc:0.857568\tvalidation_1-auc:0.857389\n",
      "[433]\tvalidation_0-auc:0.857512\tvalidation_1-auc:0.857331\n",
      "[434]\tvalidation_0-auc:0.857566\tvalidation_1-auc:0.857385\n",
      "[435]\tvalidation_0-auc:0.857572\tvalidation_1-auc:0.85739\n",
      "[436]\tvalidation_0-auc:0.857615\tvalidation_1-auc:0.857432\n",
      "[437]\tvalidation_0-auc:0.857816\tvalidation_1-auc:0.857634\n",
      "[438]\tvalidation_0-auc:0.857791\tvalidation_1-auc:0.857609\n",
      "[439]\tvalidation_0-auc:0.857819\tvalidation_1-auc:0.857638\n",
      "[440]\tvalidation_0-auc:0.857822\tvalidation_1-auc:0.85764\n",
      "[441]\tvalidation_0-auc:0.858023\tvalidation_1-auc:0.857843\n",
      "[442]\tvalidation_0-auc:0.858\tvalidation_1-auc:0.85782\n",
      "[443]\tvalidation_0-auc:0.858191\tvalidation_1-auc:0.85801\n",
      "[444]\tvalidation_0-auc:0.858163\tvalidation_1-auc:0.857983\n",
      "[445]\tvalidation_0-auc:0.858313\tvalidation_1-auc:0.858133\n",
      "[446]\tvalidation_0-auc:0.858391\tvalidation_1-auc:0.85821\n",
      "[447]\tvalidation_0-auc:0.858363\tvalidation_1-auc:0.858182\n",
      "[448]\tvalidation_0-auc:0.858296\tvalidation_1-auc:0.858116\n",
      "[449]\tvalidation_0-auc:0.858265\tvalidation_1-auc:0.858085\n",
      "[450]\tvalidation_0-auc:0.858367\tvalidation_1-auc:0.858186\n",
      "[451]\tvalidation_0-auc:0.858337\tvalidation_1-auc:0.858156\n",
      "[452]\tvalidation_0-auc:0.858354\tvalidation_1-auc:0.858173\n",
      "[453]\tvalidation_0-auc:0.85845\tvalidation_1-auc:0.85827\n",
      "[454]\tvalidation_0-auc:0.858394\tvalidation_1-auc:0.858211\n",
      "[455]\tvalidation_0-auc:0.858414\tvalidation_1-auc:0.858231\n",
      "[456]\tvalidation_0-auc:0.858423\tvalidation_1-auc:0.85824\n",
      "[457]\tvalidation_0-auc:0.858429\tvalidation_1-auc:0.858245\n",
      "[458]\tvalidation_0-auc:0.858408\tvalidation_1-auc:0.858225\n",
      "[459]\tvalidation_0-auc:0.858611\tvalidation_1-auc:0.858429\n",
      "[460]\tvalidation_0-auc:0.858599\tvalidation_1-auc:0.858416\n",
      "[461]\tvalidation_0-auc:0.858619\tvalidation_1-auc:0.858436\n",
      "[462]\tvalidation_0-auc:0.858596\tvalidation_1-auc:0.858412\n",
      "[463]\tvalidation_0-auc:0.858564\tvalidation_1-auc:0.85838\n",
      "[464]\tvalidation_0-auc:0.858584\tvalidation_1-auc:0.8584\n",
      "[465]\tvalidation_0-auc:0.858588\tvalidation_1-auc:0.858404\n",
      "[466]\tvalidation_0-auc:0.858598\tvalidation_1-auc:0.858413\n",
      "[467]\tvalidation_0-auc:0.858602\tvalidation_1-auc:0.858417\n",
      "[468]\tvalidation_0-auc:0.858608\tvalidation_1-auc:0.858423\n",
      "[469]\tvalidation_0-auc:0.858582\tvalidation_1-auc:0.858396\n",
      "[470]\tvalidation_0-auc:0.858558\tvalidation_1-auc:0.858372\n",
      "[471]\tvalidation_0-auc:0.858581\tvalidation_1-auc:0.858395\n",
      "[472]\tvalidation_0-auc:0.858778\tvalidation_1-auc:0.858592\n",
      "[473]\tvalidation_0-auc:0.858762\tvalidation_1-auc:0.858577\n",
      "[474]\tvalidation_0-auc:0.858758\tvalidation_1-auc:0.858573\n",
      "[475]\tvalidation_0-auc:0.858743\tvalidation_1-auc:0.858558\n",
      "[476]\tvalidation_0-auc:0.858861\tvalidation_1-auc:0.858676\n",
      "[477]\tvalidation_0-auc:0.858858\tvalidation_1-auc:0.858673\n",
      "[478]\tvalidation_0-auc:0.858838\tvalidation_1-auc:0.858654\n",
      "[479]\tvalidation_0-auc:0.858782\tvalidation_1-auc:0.858597\n",
      "[480]\tvalidation_0-auc:0.858892\tvalidation_1-auc:0.858706\n",
      "[481]\tvalidation_0-auc:0.859064\tvalidation_1-auc:0.858878\n",
      "[482]\tvalidation_0-auc:0.859056\tvalidation_1-auc:0.858871\n",
      "[483]\tvalidation_0-auc:0.85922\tvalidation_1-auc:0.859035\n",
      "[484]\tvalidation_0-auc:0.859308\tvalidation_1-auc:0.859122\n",
      "[485]\tvalidation_0-auc:0.859279\tvalidation_1-auc:0.859092\n",
      "[486]\tvalidation_0-auc:0.859274\tvalidation_1-auc:0.859088\n",
      "[487]\tvalidation_0-auc:0.859288\tvalidation_1-auc:0.859101\n",
      "[488]\tvalidation_0-auc:0.859287\tvalidation_1-auc:0.8591\n",
      "[489]\tvalidation_0-auc:0.859424\tvalidation_1-auc:0.859237\n",
      "[490]\tvalidation_0-auc:0.859585\tvalidation_1-auc:0.8594\n",
      "[491]\tvalidation_0-auc:0.859538\tvalidation_1-auc:0.859353\n",
      "[492]\tvalidation_0-auc:0.859462\tvalidation_1-auc:0.859278\n",
      "[493]\tvalidation_0-auc:0.859477\tvalidation_1-auc:0.859293\n",
      "[494]\tvalidation_0-auc:0.85941\tvalidation_1-auc:0.859226\n",
      "[495]\tvalidation_0-auc:0.85935\tvalidation_1-auc:0.859164\n",
      "[496]\tvalidation_0-auc:0.859592\tvalidation_1-auc:0.859408\n",
      "[497]\tvalidation_0-auc:0.859809\tvalidation_1-auc:0.859625\n",
      "[498]\tvalidation_0-auc:0.859997\tvalidation_1-auc:0.859812\n",
      "[499]\tvalidation_0-auc:0.859961\tvalidation_1-auc:0.859776\n",
      "Overall AUC: 0.859624582043\n"
     ]
    },
    {
     "data": {
      "text/plain": [
       "<matplotlib.axes._subplots.AxesSubplot at 0x7f9db29addd8>"
      ]
     },
     "execution_count": 19,
     "metadata": {},
     "output_type": "execute_result"
    },
    {
     "data": {
      "image/png": "[encoded data removed]",
      "text/plain": [
       "<matplotlib.figure.Figure at 0x7f9dc39c2dd8>"
      ]
     },
     "metadata": {},
     "output_type": "display_data"
    }
   ],
   "source": [
    "ratio = float(np.sum(GT == 1)) / np.sum(GT==0)\n",
    "\n",
    "clf = xgb.XGBClassifier(missing=9999999999,\n",
    "                max_depth = 2,\n",
    "                n_estimators=500,\n",
    "                learning_rate=0.1, \n",
    "                nthread=3,\n",
    "                subsample=1.0,\n",
    "                colsample_bytree=1/X.shape[1],\n",
    "                #min_child_weight = 3,\n",
    "                scale_pos_weight = ratio,\n",
    "                reg_alpha=0.03,\n",
    "                seed=1301)\n",
    "                \n",
    "clf.fit(X_train, y_train, early_stopping_rounds=20, eval_metric=\"auc\",\n",
    "        eval_set=[(X_train, y_train), (X_test, y_test)])\n",
    "        \n",
    "print('Overall AUC:', roc_auc_score(y_test, clf.predict_proba(X_test, ntree_limit=clf.best_iteration)[:,1]))\n",
    "xgb.plot_importance(clf)"
   ]
  },
  {
   "cell_type": "code",
   "execution_count": 20,
   "metadata": {
    "collapsed": false,
    "deletable": true,
    "editable": true
   },
   "outputs": [
    {
     "data": {
      "text/plain": [
       "<matplotlib.text.Text at 0x7f9dadfd44a8>"
      ]
     },
     "execution_count": 20,
     "metadata": {},
     "output_type": "execute_result"
    },
    {
     "data": {
      "image/png": "[encoded data removed]",
      "text/plain": [
       "<matplotlib.figure.Figure at 0x7f9de8254048>"
      ]
     },
     "metadata": {},
     "output_type": "display_data"
    }
   ],
   "source": [
    "best_pred = clf.predict_proba(X_test, ntree_limit=clf.best_iteration)[:,1]\n",
    "plt.figure(figsize=(15,12))\n",
    "# for j in range(6):\n",
    "#     plt.plot(fpr[j], tpr[j], label = names_VI[j])\n",
    "\n",
    "FPR, TPR, _ = roc_curve(y_test, best_pred)\n",
    "plt.plot(FPR, TPR, label = \"Combined\")\n",
    "    \n",
    "plt.legend()\n",
    "plt.xlabel('FPR')\n",
    "plt.ylabel('TPR')"
   ]
  },
  {
   "cell_type": "code",
   "execution_count": 21,
   "metadata": {
    "collapsed": false,
    "deletable": true,
    "editable": true
   },
   "outputs": [
    {
     "name": "stdout",
     "output_type": "stream",
     "text": [
      "0.773566364787\n"
     ]
    }
   ],
   "source": [
    "i_max = max(range(len(TPR)), key = lambda x : TPR[x] + 1 - FPR[x])\n",
    "print((TPR[i_max] + 1 - FPR[i_max])/2)"
   ]
  },
  {
   "cell_type": "code",
   "execution_count": 22,
   "metadata": {
    "collapsed": false,
    "deletable": true,
    "editable": true
   },
   "outputs": [
    {
     "data": {
      "text/plain": [
       "['clf_VI_orig_02.pkl']"
      ]
     },
     "execution_count": 22,
     "metadata": {},
     "output_type": "execute_result"
    }
   ],
   "source": [
    "joblib.dump(clf, 'clf_VI_orig_02.pkl')\n",
    "# clf = joblib.load('filename.pkl') "
   ]
  },
  {
   "cell_type": "code",
   "execution_count": null,
   "metadata": {
    "collapsed": true,
    "deletable": true,
    "editable": true
   },
   "outputs": [],
   "source": []
  }
 ],
 "metadata": {
  "kernelspec": {
   "display_name": "Python 3",
   "language": "python",
   "name": "python3"
  },
  "language_info": {
   "codemirror_mode": {
    "name": "ipython",
    "version": 3
   },
   "file_extension": ".py",
   "mimetype": "text/x-python",
   "name": "python",
   "nbconvert_exporter": "python",
   "pygments_lexer": "ipython3",
   "version": "3.5.2"
  }
 },
 "nbformat": 4,
 "nbformat_minor": 2
}
