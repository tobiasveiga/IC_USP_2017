{
 "cells": [
  {
   "cell_type": "code",
   "execution_count": 34,
   "metadata": {
    "collapsed": true,
    "deletable": true,
    "editable": true
   },
   "outputs": [],
   "source": [
    "import numpy as np\n",
    "import matplotlib.pyplot as plt\n",
    "%matplotlib inline\n",
    "from sklearn.metrics import f1_score, roc_curve, roc_auc_score, precision_recall_curve\n",
    "\n",
    "from sklearn.ensemble import RandomForestClassifier as RFC\n",
    "from sklearn.decomposition import PCA\n",
    "\n",
    "from sklearn.model_selection import train_test_split\n",
    "import xgboost as xgb\n",
    "\n",
    "from sklearn.feature_selection import SelectPercentile\n",
    "from sklearn.feature_selection import f_classif,chi2\n",
    "from sklearn.preprocessing import Binarizer, scale\n",
    "\n",
    "from sklearn.svm import SVC\n",
    "\n",
    "import time"
   ]
  },
  {
   "cell_type": "code",
   "execution_count": 4,
   "metadata": {
    "collapsed": false,
    "deletable": true,
    "editable": true
   },
   "outputs": [],
   "source": [
    "names_VI = [\"ExG\", \"ExGR\", \"CIVE\", \"VEG\", \"WI\", \"NGRDI\"]\n",
    "fpr = [np.array([0]) for i in range(6)]\n",
    "tpr = [np.array([0]) for i in range(6)]\n",
    "fpr2 = [np.array([0]) for i in range(6)]\n",
    "tpr2 = [np.array([0]) for i in range(6)]"
   ]
  },
  {
   "cell_type": "code",
   "execution_count": 17,
   "metadata": {
    "collapsed": false,
    "deletable": true,
    "editable": true
   },
   "outputs": [
    {
     "name": "stdout",
     "output_type": "stream",
     "text": [
      "9437159\n",
      "6706552\n",
      "(9437184,)\n",
      "(9437184,)\n"
     ]
    }
   ],
   "source": [
    "VI = [0 for i in range(6)]\n",
    "for j in range(6):\n",
    "    VI[j] = np.load(\"Mini/\" + names_VI[j] + \".npy\")\n",
    "GT = np.load(\"Mini/GT.npy\")\n",
    "print(np.count_nonzero(VI[0]))\n",
    "print(np.count_nonzero(GT))\n",
    "print(GT.shape)\n",
    "print(VI[0].shape)"
   ]
  },
  {
   "cell_type": "code",
   "execution_count": 5,
   "metadata": {
    "collapsed": false,
    "deletable": true,
    "editable": true
   },
   "outputs": [],
   "source": [
    "NB = np.load(names_VI[5] + \"NB.npy\")\n",
    "for j in range(6):\n",
    "    NBvecless[j] = np.load(names_VI[j] + \"NBless.npy\")"
   ]
  },
  {
   "cell_type": "code",
   "execution_count": 6,
   "metadata": {
    "collapsed": false,
    "deletable": true,
    "editable": true
   },
   "outputs": [],
   "source": [
    "SVMtemp = np.load(\"SVM_10.npy\")"
   ]
  },
  {
   "cell_type": "code",
   "execution_count": 7,
   "metadata": {
    "collapsed": true,
    "deletable": true,
    "editable": true
   },
   "outputs": [],
   "source": [
    "SVM = np.zeros(SVMtemp.shape[0]*256)\n",
    "for i in range(SVMtemp.shape[0]):\n",
    "    for j in range(256):\n",
    "        SVM[i*256+j] = SVMtemp[i]"
   ]
  },
  {
   "cell_type": "code",
   "execution_count": 50,
   "metadata": {
    "collapsed": false,
    "deletable": true,
    "editable": true
   },
   "outputs": [
    {
     "name": "stdout",
     "output_type": "stream",
     "text": [
      "AUC = 0.825548248088\n"
     ]
    }
   ],
   "source": [
    "print(\"AUC =\", roc_auc_score(GT[::256], SVMtemp))"
   ]
  },
  {
   "cell_type": "code",
   "execution_count": 11,
   "metadata": {
    "collapsed": false,
    "deletable": true,
    "editable": true
   },
   "outputs": [
    {
     "name": "stdout",
     "output_type": "stream",
     "text": [
      "ExG AUC = 0.802886084447\n",
      "ExGR AUC = 0.812791590312\n",
      "CIVE AUC = 0.809619316026\n",
      "VEG AUC = 0.81193907549\n",
      "WI AUC = 0.748015443113\n",
      "NGRDI AUC = 0.819970303121\n"
     ]
    }
   ],
   "source": [
    "for j in range(6):\n",
    "    print(names_VI[j], \"AUC =\", roc_auc_score(GT, VI[j]))\n",
    "    fpr[j], tpr[j], _ = roc_curve(GT, VI[j])\n",
    "#     print(names_VI[j], \"AUC nbless=\", roc_auc_score(GT, NBvecless[j]))\n",
    "#     fpr2[j], tpr2[j], _ = roc_curve(GT, NBvecless[j])\n",
    "    \n",
    "#print(names_VI[j], \"AUC NB =\", roc_auc_score(GT, NB))\n",
    "#fpr3, tpr3, _ = roc_curve(GT, SVM)    "
   ]
  },
  {
   "cell_type": "code",
   "execution_count": 49,
   "metadata": {
    "collapsed": false,
    "deletable": true,
    "editable": true,
    "scrolled": false
   },
   "outputs": [
    {
     "data": {
      "text/plain": [
       "<matplotlib.text.Text at 0x7fbb3cdcf550>"
      ]
     },
     "execution_count": 49,
     "metadata": {},
     "output_type": "execute_result"
    },
    {
     "data": {
      "image/png": "[encoded data removed]",
      "text/plain": [
       "<matplotlib.figure.Figure at 0x7fbb3cd8eac8>"
      ]
     },
     "metadata": {},
     "output_type": "display_data"
    }
   ],
   "source": [
    "plt.figure(figsize=(15,12))\n",
    "for j in range(6):\n",
    "    plt.plot(fpr[j], tpr[j], label = names_VI[j])\n",
    "    \n",
    "fpr3, tpr3, _ = roc_curve(y_test, np.load(\"SVM_100.npy\"))\n",
    "plt.plot(fpr3, tpr3, label = \"SVM\")\n",
    "    \n",
    "plt.legend()\n",
    "plt.xlabel('FPR')\n",
    "plt.ylabel('TPR')\n"
   ]
  },
  {
   "cell_type": "code",
   "execution_count": 28,
   "metadata": {
    "collapsed": false
   },
   "outputs": [],
   "source": [
    "def toMat(I):\n",
    "    R = np.zeros((int(I.shape[0]/256), 256))\n",
    "    for i in range(R.shape[0]):\n",
    "        R[i,:] = I[i*256:(i+1)*256]\n",
    "    return R"
   ]
  },
  {
   "cell_type": "code",
   "execution_count": 22,
   "metadata": {
    "collapsed": false
   },
   "outputs": [],
   "source": [
    "newVI = toMat(VI[0])\n"
   ]
  },
  {
   "cell_type": "code",
   "execution_count": 24,
   "metadata": {
    "collapsed": false
   },
   "outputs": [
    {
     "name": "stdout",
     "output_type": "stream",
     "text": [
      "9437159\n",
      "(147456, 64)\n",
      "True\n"
     ]
    }
   ],
   "source": [
    "print(np.count_nonzero(VI[0]))\n",
    "print(newVI.shape)\n",
    "print(newVI[0,2] == VI[0][2])"
   ]
  },
  {
   "cell_type": "code",
   "execution_count": 29,
   "metadata": {
    "collapsed": false,
    "deletable": true,
    "editable": true
   },
   "outputs": [],
   "source": [
    "X = np.zeros((int(GT.shape[0]/256), 256 * 6), dtype = float)\n"
   ]
  },
  {
   "cell_type": "code",
   "execution_count": 30,
   "metadata": {
    "collapsed": false
   },
   "outputs": [],
   "source": [
    "for i in range(6):\n",
    "    X[:,i*256:(i+1)*256] = toMat(VI[i])"
   ]
  },
  {
   "cell_type": "code",
   "execution_count": 20,
   "metadata": {
    "collapsed": true,
    "deletable": true,
    "editable": true
   },
   "outputs": [],
   "source": [
    "for i in range(6):\n",
    "    X[:,i] = VI[i][::256]\n",
    "X[:,6] = SVMtemp"
   ]
  },
  {
   "cell_type": "code",
   "execution_count": 31,
   "metadata": {
    "collapsed": false,
    "deletable": true,
    "editable": true
   },
   "outputs": [
    {
     "name": "stdout",
     "output_type": "stream",
     "text": [
      "(36864, 1536)\n"
     ]
    }
   ],
   "source": [
    "print(X.shape)"
   ]
  },
  {
   "cell_type": "code",
   "execution_count": null,
   "metadata": {
    "collapsed": true,
    "deletable": true,
    "editable": true
   },
   "outputs": [],
   "source": [
    "for i in range(X.shape[0]):\n",
    "    for j in range(6):\n",
    "        X[i, j*256] = VI[j][i*256]"
   ]
  },
  {
   "cell_type": "code",
   "execution_count": 10,
   "metadata": {
    "collapsed": false,
    "deletable": true,
    "editable": true
   },
   "outputs": [
    {
     "ename": "ValueError",
     "evalue": "could not broadcast input array from shape (9437184) into shape (36864)",
     "output_type": "error",
     "traceback": [
      "\u001b[0;31m---------------------------------------------------------------------------\u001b[0m",
      "\u001b[0;31mValueError\u001b[0m                                Traceback (most recent call last)",
      "\u001b[0;32m<ipython-input-10-f3804a31a933>\u001b[0m in \u001b[0;36m<module>\u001b[0;34m()\u001b[0m\n\u001b[1;32m      1\u001b[0m \u001b[0;32mfor\u001b[0m \u001b[0mj\u001b[0m \u001b[0;32min\u001b[0m \u001b[0mrange\u001b[0m\u001b[0;34m(\u001b[0m\u001b[0;36m6\u001b[0m\u001b[0;34m)\u001b[0m\u001b[0;34m:\u001b[0m\u001b[0;34m\u001b[0m\u001b[0m\n\u001b[0;32m----> 2\u001b[0;31m     \u001b[0mX\u001b[0m\u001b[0;34m[\u001b[0m\u001b[0;34m:\u001b[0m\u001b[0;34m,\u001b[0m \u001b[0mj\u001b[0m\u001b[0;34m]\u001b[0m \u001b[0;34m=\u001b[0m \u001b[0mVI\u001b[0m\u001b[0;34m[\u001b[0m\u001b[0mj\u001b[0m\u001b[0;34m]\u001b[0m\u001b[0;34m\u001b[0m\u001b[0m\n\u001b[0m\u001b[1;32m      3\u001b[0m \u001b[0;34m\u001b[0m\u001b[0m\n\u001b[1;32m      4\u001b[0m \u001b[0mX\u001b[0m\u001b[0;34m[\u001b[0m\u001b[0;34m:\u001b[0m\u001b[0;34m,\u001b[0m \u001b[0;36m6\u001b[0m\u001b[0;34m]\u001b[0m \u001b[0;34m=\u001b[0m \u001b[0mNB\u001b[0m\u001b[0;34m\u001b[0m\u001b[0m\n\u001b[1;32m      5\u001b[0m \u001b[0mX\u001b[0m\u001b[0;34m[\u001b[0m\u001b[0;34m:\u001b[0m\u001b[0;34m,\u001b[0m \u001b[0;36m7\u001b[0m\u001b[0;34m]\u001b[0m \u001b[0;34m=\u001b[0m \u001b[0mSVMtemp\u001b[0m\u001b[0;34m\u001b[0m\u001b[0m\n",
      "\u001b[0;31mValueError\u001b[0m: could not broadcast input array from shape (9437184) into shape (36864)"
     ]
    }
   ],
   "source": [
    "for j in range(6):\n",
    "    X[:, j] = VI[j]\n",
    "\n",
    "X[:, 6] = NB\n",
    "X[:, 7] = SVM\n",
    "del(VI)\n",
    "print(X.shape)"
   ]
  },
  {
   "cell_type": "code",
   "execution_count": 57,
   "metadata": {
    "collapsed": false,
    "deletable": true,
    "editable": true
   },
   "outputs": [],
   "source": [
    "pca = PCA(n_components=2)\n",
    "X_pca = pca.fit_transform(X)\n"
   ]
  },
  {
   "cell_type": "code",
   "execution_count": 58,
   "metadata": {
    "collapsed": true,
    "deletable": true,
    "editable": true
   },
   "outputs": [],
   "source": [
    "X = np.column_stack((X, X_pca[:,0]))\n",
    "X = np.column_stack((X, X_pca[:,1]))"
   ]
  },
  {
   "cell_type": "code",
   "execution_count": 19,
   "metadata": {
    "collapsed": false,
    "deletable": true,
    "editable": true
   },
   "outputs": [
    {
     "name": "stdout",
     "output_type": "stream",
     "text": [
      "(9437184, 10)\n"
     ]
    }
   ],
   "source": [
    "\n",
    "# for j in range(6):\n",
    "#     X = np.column_stack((X, NBvecless[j]))\n",
    "X[:,0] = NBvecless[0]    \n",
    "X[:,2] = NBvecless[2]\n",
    "X[:,3] = NBvecless[3]\n",
    "X[:,4] = NBvecless[4]\n",
    "\n",
    "# X[:,0] = NBvecless[0]    \n",
    "# X[:,1] = NBvecless[1]\n",
    "# X[:,2] = NBvecless[2]\n",
    "# X[:,3] = NBvecless[3]\n",
    "# X[:,4] = NBvecless[5]\n",
    "\n",
    "\n",
    "print(X.shape)"
   ]
  },
  {
   "cell_type": "code",
   "execution_count": null,
   "metadata": {
    "collapsed": false,
    "deletable": true,
    "editable": true
   },
   "outputs": [],
   "source": [
    "sel = f_classif(X, GT)"
   ]
  },
  {
   "cell_type": "code",
   "execution_count": null,
   "metadata": {
    "collapsed": false,
    "deletable": true,
    "editable": true
   },
   "outputs": [],
   "source": [
    "print(sel[0])"
   ]
  },
  {
   "cell_type": "code",
   "execution_count": null,
   "metadata": {
    "collapsed": false,
    "deletable": true,
    "editable": true
   },
   "outputs": [],
   "source": [
    "print(sorted(range(15), key = lambda x : sel[0][x], reverse = True))"
   ]
  },
  {
   "cell_type": "code",
   "execution_count": null,
   "metadata": {
    "collapsed": false,
    "deletable": true,
    "editable": true
   },
   "outputs": [],
   "source": [
    "p = 75 \n",
    "\n",
    "X_bin = Binarizer().fit_transform(scale(X))\n",
    "selectChi2 = SelectPercentile(chi2, percentile=p).fit(X_bin, GT)\n",
    "selectF_classif = SelectPercentile(f_classif, percentile=p).fit(X, GT)\n",
    "\n",
    "chi2_selected = selectChi2.get_support(True)\n",
    "f_classif_selected = selectF_classif.get_support(True)\n",
    "\n",
    "selected = list(set(chi2_selected).intersection(f_classif_selected))\n",
    "print(selected)"
   ]
  },
  {
   "cell_type": "code",
   "execution_count": 20,
   "metadata": {
    "collapsed": false,
    "deletable": true,
    "editable": true
   },
   "outputs": [
    {
     "name": "stdout",
     "output_type": "stream",
     "text": [
      "(6553600, 10)\n",
      "(6553600,)\n"
     ]
    }
   ],
   "source": [
    "##  TREINO NORMAL\n",
    "#X_train, X_test, y_train, y_test = train_test_split(X, GT, random_state=1301, stratify=GT, test_size=0.4)\n",
    "X_train, X_test = np.split(X, [512*512*25], axis = 0)\n",
    "y_train, y_test = np.split(GT, [512*512*25])\n",
    "\n",
    "print(X_train.shape)\n",
    "print(y_train.shape)\n"
   ]
  },
  {
   "cell_type": "code",
   "execution_count": 45,
   "metadata": {
    "collapsed": false
   },
   "outputs": [],
   "source": [
    "X = np.column_stack((X, GT[::256]))"
   ]
  },
  {
   "cell_type": "code",
   "execution_count": 46,
   "metadata": {
    "collapsed": false
   },
   "outputs": [
    {
     "name": "stdout",
     "output_type": "stream",
     "text": [
      "(36864, 1537)\n",
      "56649139\n"
     ]
    }
   ],
   "source": [
    "print(X.shape)\n",
    "print(np.count_nonzero(X))"
   ]
  },
  {
   "cell_type": "code",
   "execution_count": 47,
   "metadata": {
    "collapsed": true
   },
   "outputs": [],
   "source": [
    "np.random.shuffle(X)"
   ]
  },
  {
   "cell_type": "code",
   "execution_count": 48,
   "metadata": {
    "collapsed": false
   },
   "outputs": [
    {
     "name": "stdout",
     "output_type": "stream",
     "text": [
      "(36864, 1536)\n",
      "56622953\n",
      "(36864,)\n",
      "26186\n"
     ]
    }
   ],
   "source": [
    "GT = X[:,-1]\n",
    "X = X[:,:-1]\n",
    "print(X.shape)\n",
    "print(np.count_nonzero(X))\n",
    "print(GT.shape)\n",
    "print(np.count_nonzero(GT))"
   ]
  },
  {
   "cell_type": "code",
   "execution_count": 59,
   "metadata": {
    "collapsed": false,
    "deletable": true,
    "editable": true
   },
   "outputs": [
    {
     "name": "stdout",
     "output_type": "stream",
     "text": [
      "(14336, 1539)\n",
      "(14336,)\n",
      "(22528, 1539)\n",
      "(22528,)\n",
      "[[ 0.31767365  0.47034532  0.52039385 ...,  0.95984453  3.17389868\n",
      "   1.45912327]\n",
      " [ 0.32577485  0.30323949  0.2918545  ...,  0.97881336  5.79805728\n",
      "  -0.578528  ]\n",
      " [ 0.41753343  0.36052287  0.31032658 ...,  0.91200671  1.13045187\n",
      "   0.83726185]\n",
      " ..., \n",
      " [ 0.04956784  0.05189634  0.06331588 ...,  0.8075269   0.91048167\n",
      "  -3.55619116]\n",
      " [ 0.43419269  0.35234997  0.27890512 ...,  0.95187872  2.04663617\n",
      "   2.81461314]\n",
      " [ 0.4985227   0.50643611  0.52523017 ...,  0.98477356  5.94625292\n",
      "   0.70643742]]\n",
      "[ 0.  1.  1. ...,  1.  0.  1.]\n",
      "[[ 0.09284858  0.09451183  0.08764023 ...,  0.13172761 -6.26893331\n",
      "   0.1386751 ]\n",
      " [ 0.11764706  0.12034375  0.12916604 ...,  0.41600065 -3.81859276\n",
      "   0.4280215 ]\n",
      " [ 0.31250435  0.23941901  0.16798985 ...,  0.92676527  2.35455121\n",
      "  -0.8025443 ]\n",
      " ..., \n",
      " [ 0.18702707  0.18453433  0.17798343 ...,  0.31115624 -4.08805981\n",
      "  -0.52617009]\n",
      " [ 0.245869    0.29297608  0.31677023 ...,  0.77568216 -0.70824738\n",
      "  -0.42970891]\n",
      " [ 0.29102767  0.28414473  0.24177736 ...,  0.62786168 -2.27560487\n",
      "   0.18859215]]\n",
      "[ 0.  1.  0. ...,  0.  1.  1.]\n",
      "10142\n",
      "16044\n"
     ]
    }
   ],
   "source": [
    "## Treino para SVM\n",
    "X_train, X_test = np.split(X, [2*512*22], axis = 0)\n",
    "y_train, y_test = np.split(GT, [2*512*22])\n",
    "\n",
    "print(X_test.shape)\n",
    "print(y_test.shape)\n",
    "print(X_train.shape)\n",
    "print(y_train.shape)\n",
    "print(X_test)\n",
    "print( y_test)\n",
    "print(X_train)\n",
    "print(y_train)\n",
    "print(np.count_nonzero(y_test))\n",
    "print(np.count_nonzero(y_train))\n",
    "\n"
   ]
  },
  {
   "cell_type": "code",
   "execution_count": 41,
   "metadata": {
    "collapsed": false,
    "deletable": true,
    "editable": true
   },
   "outputs": [
    {
     "data": {
      "text/plain": [
       "51200"
      ]
     },
     "execution_count": 41,
     "metadata": {},
     "output_type": "execute_result"
    }
   ],
   "source": [
    "np.count_nonzero(X_train)"
   ]
  },
  {
   "cell_type": "code",
   "execution_count": 50,
   "metadata": {
    "collapsed": false,
    "deletable": true,
    "editable": true
   },
   "outputs": [
    {
     "name": "stdout",
     "output_type": "stream",
     "text": [
      "Fitted 34.14980972800004\n",
      "SVM AUC = 0.841297777567\n"
     ]
    }
   ],
   "source": [
    "clf = SVC(probability=True)\n",
    "start = time.process_time()\n",
    "clf.fit(X_train[::10], y_train[::10])\n",
    "print(\"Fitted\", time.process_time() - start)\n",
    "predict = clf.predict_proba(X_test)[:,-1]\n",
    "print(\"SVM AUC =\", roc_auc_score(y_test, predict))\n"
   ]
  },
  {
   "cell_type": "code",
   "execution_count": 51,
   "metadata": {
    "collapsed": false,
    "deletable": true,
    "editable": true
   },
   "outputs": [
    {
     "name": "stdout",
     "output_type": "stream",
     "text": [
      "SVM AUC = 0.841104029701\n"
     ]
    }
   ],
   "source": [
    "predict = clf.predict_proba(X)[:,-1]\n",
    "print(\"SVM AUC =\", roc_auc_score(GT, predict))"
   ]
  },
  {
   "cell_type": "code",
   "execution_count": 43,
   "metadata": {
    "collapsed": false
   },
   "outputs": [
    {
     "name": "stdout",
     "output_type": "stream",
     "text": [
      "SVM AUC = 0.812665138083\n"
     ]
    }
   ],
   "source": [
    "predict = clf.predict_proba(X_train)[:,-1]\n",
    "print(\"SVM AUC =\", roc_auc_score(y_train, predict))"
   ]
  },
  {
   "cell_type": "code",
   "execution_count": 52,
   "metadata": {
    "collapsed": true,
    "deletable": true,
    "editable": true
   },
   "outputs": [],
   "source": [
    "np.save(\"SVM_10\", predict)"
   ]
  },
  {
   "cell_type": "code",
   "execution_count": 48,
   "metadata": {
    "collapsed": false,
    "deletable": true,
    "editable": true
   },
   "outputs": [
    {
     "name": "stdout",
     "output_type": "stream",
     "text": [
      "SVM AUC = 0.948612794658\n"
     ]
    }
   ],
   "source": [
    "print(\"SVM AUC =\", roc_auc_score(y_test, np.load(\"SVM_100.npy\")))"
   ]
  },
  {
   "cell_type": "code",
   "execution_count": 53,
   "metadata": {
    "collapsed": false,
    "deletable": true,
    "editable": true
   },
   "outputs": [],
   "source": [
    "X = np.column_stack((X, predict))"
   ]
  },
  {
   "cell_type": "code",
   "execution_count": 56,
   "metadata": {
    "collapsed": false,
    "deletable": true,
    "editable": true
   },
   "outputs": [
    {
     "data": {
      "text/plain": [
       "(144, 1537)"
      ]
     },
     "execution_count": 56,
     "metadata": {},
     "output_type": "execute_result"
    }
   ],
   "source": [
    "X_test[::100].shape"
   ]
  },
  {
   "cell_type": "code",
   "execution_count": 27,
   "metadata": {
    "collapsed": false,
    "deletable": true,
    "editable": true
   },
   "outputs": [
    {
     "name": "stdout",
     "output_type": "stream",
     "text": [
      "Depth:  2\n",
      "FITTED\n"
     ]
    },
    {
     "ename": "IndexError",
     "evalue": "index 1 is out of bounds for axis 1 with size 1",
     "output_type": "error",
     "traceback": [
      "\u001b[0;31m---------------------------------------------------------------------------\u001b[0m",
      "\u001b[0;31mIndexError\u001b[0m                                Traceback (most recent call last)",
      "\u001b[0;32m<ipython-input-27-a08704a4e497>\u001b[0m in \u001b[0;36m<module>\u001b[0;34m()\u001b[0m\n\u001b[1;32m     27\u001b[0m                 \u001b[0;31m#print('acerto = {:.2}'.format(clf.score(X_test, y_test)))\u001b[0m\u001b[0;34m\u001b[0m\u001b[0;34m\u001b[0m\u001b[0m\n\u001b[1;32m     28\u001b[0m \u001b[0;34m\u001b[0m\u001b[0m\n\u001b[0;32m---> 29\u001b[0;31m                 \u001b[0mpredict\u001b[0m \u001b[0;34m=\u001b[0m \u001b[0mclf\u001b[0m\u001b[0;34m.\u001b[0m\u001b[0mpredict_proba\u001b[0m\u001b[0;34m(\u001b[0m\u001b[0mX_test\u001b[0m\u001b[0;34m)\u001b[0m\u001b[0;34m[\u001b[0m\u001b[0;34m:\u001b[0m\u001b[0;34m,\u001b[0m\u001b[0;36m1\u001b[0m\u001b[0;34m]\u001b[0m\u001b[0;34m\u001b[0m\u001b[0m\n\u001b[0m\u001b[1;32m     30\u001b[0m                 \u001b[0mauc\u001b[0m \u001b[0;34m=\u001b[0m \u001b[0mroc_auc_score\u001b[0m\u001b[0;34m(\u001b[0m\u001b[0my_test\u001b[0m\u001b[0;34m,\u001b[0m \u001b[0mpredict\u001b[0m\u001b[0;34m)\u001b[0m\u001b[0;34m\u001b[0m\u001b[0m\n\u001b[1;32m     31\u001b[0m                 \u001b[0mprint\u001b[0m\u001b[0;34m(\u001b[0m\u001b[0;34m'Overall AUC:'\u001b[0m\u001b[0;34m,\u001b[0m \u001b[0mauc\u001b[0m\u001b[0;34m)\u001b[0m\u001b[0;34m\u001b[0m\u001b[0m\n",
      "\u001b[0;31mIndexError\u001b[0m: index 1 is out of bounds for axis 1 with size 1"
     ]
    }
   ],
   "source": [
    "predict = 0\n",
    "best_pred = 0\n",
    "melhor_auc = 0\n",
    "melhor_clf = 0\n",
    "\n",
    "estart = 20\n",
    "estep = 0\n",
    "\n",
    "dstart = 2\n",
    "dstep = 1\n",
    "\n",
    "for i in range(1):\n",
    "\tprint('Depth: ', dstart+i*dstep)\n",
    "\tfor j in range(5):\n",
    "\t\tclf = RFC(\tclass_weight = \"balanced\",\n",
    "\t\t\t\t\tn_estimators = estart+i*estep,\n",
    "\t\t\t\t\t#oob_score = True,\n",
    "\t\t\t\t\t#warm_start = True,\n",
    "\t\t\t\t\tmax_depth = dstart+i*dstep,\n",
    "\t\t\t\t\t#max_leaf_nodes = 4,\n",
    "\t\t\t\t\tn_jobs = 3\n",
    "\t\t\t\t\t)\n",
    "\n",
    "\n",
    "\t\tclf.fit(X_train, y_train)\n",
    "\t\tprint(\"FITTED\")\n",
    "\t\t#print('acerto = {:.2}'.format(clf.score(X_test, y_test)))\n",
    "\n",
    "\t\tpredict = clf.predict_proba(X_test)[:,1]\n",
    "\t\tauc = roc_auc_score(y_test, predict)\n",
    "\t\tprint('Overall AUC:', auc)\n",
    "\n",
    "\t\tif auc > melhor_auc:\n",
    "\t\t\tmelhor_auc = auc\n",
    "\t\t\tbest_pred = predict\n",
    "\t\t\tmelhor_clf = clf\n",
    "\n",
    "\tprint(\"\\n\")"
   ]
  },
  {
   "cell_type": "code",
   "execution_count": null,
   "metadata": {
    "collapsed": false,
    "deletable": true,
    "editable": true
   },
   "outputs": [],
   "source": [
    "plt.figure(figsize=(15,12))\n",
    "for j in range(6):\n",
    "    plt.plot(fpr[j], tpr[j], label = names_VI[j])\n",
    "\n",
    "FPR, TPR, _ = roc_curve(y_test, best_pred)\n",
    "plt.plot(FPR, TPR, label = \"Combined\")\n",
    "    \n",
    "plt.legend()\n",
    "plt.xlabel('FPR')\n",
    "plt.ylabel('TPR')\n",
    "\n",
    "print(melhor_auc)"
   ]
  },
  {
   "cell_type": "code",
   "execution_count": null,
   "metadata": {
    "collapsed": false,
    "deletable": true,
    "editable": true
   },
   "outputs": [],
   "source": [
    "print(melhor_clf.feature_importances_)"
   ]
  },
  {
   "cell_type": "code",
   "execution_count": 61,
   "metadata": {
    "collapsed": false,
    "deletable": true,
    "editable": true,
    "scrolled": true
   },
   "outputs": [
    {
     "name": "stdout",
     "output_type": "stream",
     "text": [
      "[0]\tvalidation_0-auc:0.784853\tvalidation_1-auc:0.78302\n",
      "Multiple eval metrics have been passed: 'validation_1-auc' will be used for early stopping.\n",
      "\n",
      "Will train until validation_1-auc hasn't improved in 20 rounds.\n",
      "[1]\tvalidation_0-auc:0.81099\tvalidation_1-auc:0.810773\n",
      "[2]\tvalidation_0-auc:0.816636\tvalidation_1-auc:0.815676\n",
      "[3]\tvalidation_0-auc:0.823376\tvalidation_1-auc:0.822754\n",
      "[4]\tvalidation_0-auc:0.847066\tvalidation_1-auc:0.846075\n",
      "[5]\tvalidation_0-auc:0.852618\tvalidation_1-auc:0.851653\n",
      "[6]\tvalidation_0-auc:0.858245\tvalidation_1-auc:0.85692\n",
      "[7]\tvalidation_0-auc:0.859429\tvalidation_1-auc:0.857916\n",
      "[8]\tvalidation_0-auc:0.860876\tvalidation_1-auc:0.85763\n",
      "[9]\tvalidation_0-auc:0.862722\tvalidation_1-auc:0.859628\n",
      "[10]\tvalidation_0-auc:0.863175\tvalidation_1-auc:0.860017\n",
      "[11]\tvalidation_0-auc:0.863867\tvalidation_1-auc:0.860424\n",
      "[12]\tvalidation_0-auc:0.864424\tvalidation_1-auc:0.861041\n",
      "[13]\tvalidation_0-auc:0.863916\tvalidation_1-auc:0.860584\n",
      "[14]\tvalidation_0-auc:0.863864\tvalidation_1-auc:0.860424\n",
      "[15]\tvalidation_0-auc:0.863737\tvalidation_1-auc:0.860379\n",
      "[16]\tvalidation_0-auc:0.863682\tvalidation_1-auc:0.860335\n",
      "[17]\tvalidation_0-auc:0.864654\tvalidation_1-auc:0.861354\n",
      "[18]\tvalidation_0-auc:0.865443\tvalidation_1-auc:0.86227\n",
      "[19]\tvalidation_0-auc:0.865262\tvalidation_1-auc:0.86189\n",
      "[20]\tvalidation_0-auc:0.866288\tvalidation_1-auc:0.862701\n",
      "[21]\tvalidation_0-auc:0.866843\tvalidation_1-auc:0.863218\n",
      "[22]\tvalidation_0-auc:0.867327\tvalidation_1-auc:0.863807\n",
      "[23]\tvalidation_0-auc:0.868368\tvalidation_1-auc:0.864717\n",
      "[24]\tvalidation_0-auc:0.86855\tvalidation_1-auc:0.865062\n",
      "[25]\tvalidation_0-auc:0.869534\tvalidation_1-auc:0.865853\n",
      "[26]\tvalidation_0-auc:0.870046\tvalidation_1-auc:0.866222\n",
      "[27]\tvalidation_0-auc:0.870488\tvalidation_1-auc:0.866477\n",
      "[28]\tvalidation_0-auc:0.870715\tvalidation_1-auc:0.866669\n",
      "[29]\tvalidation_0-auc:0.870759\tvalidation_1-auc:0.866801\n",
      "[30]\tvalidation_0-auc:0.871148\tvalidation_1-auc:0.86697\n",
      "[31]\tvalidation_0-auc:0.872067\tvalidation_1-auc:0.868336\n",
      "[32]\tvalidation_0-auc:0.87266\tvalidation_1-auc:0.868921\n",
      "[33]\tvalidation_0-auc:0.872995\tvalidation_1-auc:0.869153\n",
      "[34]\tvalidation_0-auc:0.873821\tvalidation_1-auc:0.869736\n",
      "[35]\tvalidation_0-auc:0.874742\tvalidation_1-auc:0.87045\n",
      "[36]\tvalidation_0-auc:0.874881\tvalidation_1-auc:0.870531\n",
      "[37]\tvalidation_0-auc:0.875261\tvalidation_1-auc:0.870818\n",
      "[38]\tvalidation_0-auc:0.876359\tvalidation_1-auc:0.87136\n",
      "[39]\tvalidation_0-auc:0.87722\tvalidation_1-auc:0.872004\n",
      "[40]\tvalidation_0-auc:0.877294\tvalidation_1-auc:0.872035\n",
      "[41]\tvalidation_0-auc:0.878762\tvalidation_1-auc:0.872912\n",
      "[42]\tvalidation_0-auc:0.87901\tvalidation_1-auc:0.873043\n",
      "[43]\tvalidation_0-auc:0.879417\tvalidation_1-auc:0.873346\n",
      "[44]\tvalidation_0-auc:0.880265\tvalidation_1-auc:0.874223\n",
      "[45]\tvalidation_0-auc:0.880895\tvalidation_1-auc:0.874514\n",
      "[46]\tvalidation_0-auc:0.881653\tvalidation_1-auc:0.875129\n",
      "[47]\tvalidation_0-auc:0.882442\tvalidation_1-auc:0.875751\n",
      "[48]\tvalidation_0-auc:0.883398\tvalidation_1-auc:0.876531\n",
      "[49]\tvalidation_0-auc:0.884193\tvalidation_1-auc:0.877105\n",
      "[50]\tvalidation_0-auc:0.885536\tvalidation_1-auc:0.877848\n",
      "[51]\tvalidation_0-auc:0.886345\tvalidation_1-auc:0.878737\n",
      "[52]\tvalidation_0-auc:0.887165\tvalidation_1-auc:0.879209\n",
      "[53]\tvalidation_0-auc:0.887619\tvalidation_1-auc:0.879477\n",
      "[54]\tvalidation_0-auc:0.888362\tvalidation_1-auc:0.87989\n",
      "[55]\tvalidation_0-auc:0.889246\tvalidation_1-auc:0.88052\n",
      "[56]\tvalidation_0-auc:0.889975\tvalidation_1-auc:0.880979\n",
      "[57]\tvalidation_0-auc:0.890882\tvalidation_1-auc:0.881792\n",
      "[58]\tvalidation_0-auc:0.890916\tvalidation_1-auc:0.881648\n",
      "[59]\tvalidation_0-auc:0.891574\tvalidation_1-auc:0.88209\n",
      "[60]\tvalidation_0-auc:0.892018\tvalidation_1-auc:0.882553\n",
      "[61]\tvalidation_0-auc:0.89293\tvalidation_1-auc:0.883303\n",
      "[62]\tvalidation_0-auc:0.893879\tvalidation_1-auc:0.884055\n",
      "[63]\tvalidation_0-auc:0.894406\tvalidation_1-auc:0.884455\n",
      "[64]\tvalidation_0-auc:0.89478\tvalidation_1-auc:0.884728\n",
      "[65]\tvalidation_0-auc:0.895311\tvalidation_1-auc:0.885277\n",
      "[66]\tvalidation_0-auc:0.89603\tvalidation_1-auc:0.885884\n",
      "[67]\tvalidation_0-auc:0.896391\tvalidation_1-auc:0.88608\n",
      "[68]\tvalidation_0-auc:0.896901\tvalidation_1-auc:0.886348\n",
      "[69]\tvalidation_0-auc:0.897375\tvalidation_1-auc:0.886671\n",
      "[70]\tvalidation_0-auc:0.897805\tvalidation_1-auc:0.886679\n",
      "[71]\tvalidation_0-auc:0.898143\tvalidation_1-auc:0.886958\n",
      "[72]\tvalidation_0-auc:0.898653\tvalidation_1-auc:0.887291\n",
      "[73]\tvalidation_0-auc:0.899026\tvalidation_1-auc:0.8877\n",
      "[74]\tvalidation_0-auc:0.899513\tvalidation_1-auc:0.887977\n",
      "[75]\tvalidation_0-auc:0.89991\tvalidation_1-auc:0.888233\n",
      "[76]\tvalidation_0-auc:0.90089\tvalidation_1-auc:0.888896\n",
      "[77]\tvalidation_0-auc:0.900969\tvalidation_1-auc:0.888898\n",
      "[78]\tvalidation_0-auc:0.901155\tvalidation_1-auc:0.889156\n",
      "[79]\tvalidation_0-auc:0.90144\tvalidation_1-auc:0.88931\n",
      "[80]\tvalidation_0-auc:0.90166\tvalidation_1-auc:0.889421\n",
      "[81]\tvalidation_0-auc:0.902131\tvalidation_1-auc:0.889685\n",
      "[82]\tvalidation_0-auc:0.902504\tvalidation_1-auc:0.889907\n",
      "[83]\tvalidation_0-auc:0.902801\tvalidation_1-auc:0.890122\n",
      "[84]\tvalidation_0-auc:0.903043\tvalidation_1-auc:0.890331\n",
      "[85]\tvalidation_0-auc:0.903277\tvalidation_1-auc:0.89052\n",
      "[86]\tvalidation_0-auc:0.903416\tvalidation_1-auc:0.890668\n",
      "[87]\tvalidation_0-auc:0.903954\tvalidation_1-auc:0.891055\n",
      "[88]\tvalidation_0-auc:0.904167\tvalidation_1-auc:0.891196\n",
      "[89]\tvalidation_0-auc:0.904422\tvalidation_1-auc:0.891356\n",
      "[90]\tvalidation_0-auc:0.904667\tvalidation_1-auc:0.891679\n",
      "[91]\tvalidation_0-auc:0.904793\tvalidation_1-auc:0.891819\n",
      "[92]\tvalidation_0-auc:0.905143\tvalidation_1-auc:0.892097\n",
      "[93]\tvalidation_0-auc:0.905296\tvalidation_1-auc:0.892235\n",
      "[94]\tvalidation_0-auc:0.905581\tvalidation_1-auc:0.892458\n",
      "[95]\tvalidation_0-auc:0.906025\tvalidation_1-auc:0.892736\n",
      "[96]\tvalidation_0-auc:0.90636\tvalidation_1-auc:0.892884\n",
      "[97]\tvalidation_0-auc:0.906712\tvalidation_1-auc:0.893152\n",
      "[98]\tvalidation_0-auc:0.907223\tvalidation_1-auc:0.893522\n",
      "[99]\tvalidation_0-auc:0.907633\tvalidation_1-auc:0.89388\n",
      "[100]\tvalidation_0-auc:0.907879\tvalidation_1-auc:0.894057\n",
      "[101]\tvalidation_0-auc:0.908236\tvalidation_1-auc:0.894217\n",
      "[102]\tvalidation_0-auc:0.908439\tvalidation_1-auc:0.894338\n",
      "[103]\tvalidation_0-auc:0.908687\tvalidation_1-auc:0.894522\n",
      "[104]\tvalidation_0-auc:0.908633\tvalidation_1-auc:0.894431\n",
      "[105]\tvalidation_0-auc:0.908931\tvalidation_1-auc:0.894639\n",
      "[106]\tvalidation_0-auc:0.909323\tvalidation_1-auc:0.894896\n",
      "[107]\tvalidation_0-auc:0.909576\tvalidation_1-auc:0.895037\n",
      "[108]\tvalidation_0-auc:0.909807\tvalidation_1-auc:0.895194\n",
      "[109]\tvalidation_0-auc:0.910027\tvalidation_1-auc:0.895359\n",
      "[110]\tvalidation_0-auc:0.910208\tvalidation_1-auc:0.895502\n",
      "[111]\tvalidation_0-auc:0.910495\tvalidation_1-auc:0.895839\n",
      "[112]\tvalidation_0-auc:0.910801\tvalidation_1-auc:0.89603\n",
      "[113]\tvalidation_0-auc:0.911099\tvalidation_1-auc:0.896212\n",
      "[114]\tvalidation_0-auc:0.911285\tvalidation_1-auc:0.896335\n",
      "[115]\tvalidation_0-auc:0.911292\tvalidation_1-auc:0.896303\n",
      "[116]\tvalidation_0-auc:0.911366\tvalidation_1-auc:0.896401\n",
      "[117]\tvalidation_0-auc:0.911612\tvalidation_1-auc:0.896504\n",
      "[118]\tvalidation_0-auc:0.911686\tvalidation_1-auc:0.89656\n",
      "[119]\tvalidation_0-auc:0.911943\tvalidation_1-auc:0.896685\n",
      "[120]\tvalidation_0-auc:0.912316\tvalidation_1-auc:0.896893\n",
      "[121]\tvalidation_0-auc:0.912863\tvalidation_1-auc:0.897251\n",
      "[122]\tvalidation_0-auc:0.912953\tvalidation_1-auc:0.89727\n",
      "[123]\tvalidation_0-auc:0.913075\tvalidation_1-auc:0.897293\n",
      "[124]\tvalidation_0-auc:0.913253\tvalidation_1-auc:0.897505\n",
      "[125]\tvalidation_0-auc:0.913298\tvalidation_1-auc:0.897558\n",
      "[126]\tvalidation_0-auc:0.913707\tvalidation_1-auc:0.897839\n",
      "[127]\tvalidation_0-auc:0.913859\tvalidation_1-auc:0.897855\n",
      "[128]\tvalidation_0-auc:0.914048\tvalidation_1-auc:0.897986\n",
      "[129]\tvalidation_0-auc:0.914364\tvalidation_1-auc:0.89814\n",
      "[130]\tvalidation_0-auc:0.914674\tvalidation_1-auc:0.898263\n",
      "[131]\tvalidation_0-auc:0.914791\tvalidation_1-auc:0.898303\n",
      "[132]\tvalidation_0-auc:0.915048\tvalidation_1-auc:0.898358\n",
      "[133]\tvalidation_0-auc:0.914989\tvalidation_1-auc:0.898277\n",
      "[134]\tvalidation_0-auc:0.915356\tvalidation_1-auc:0.898554\n",
      "[135]\tvalidation_0-auc:0.915843\tvalidation_1-auc:0.898785\n",
      "[136]\tvalidation_0-auc:0.915887\tvalidation_1-auc:0.89898\n",
      "[137]\tvalidation_0-auc:0.916021\tvalidation_1-auc:0.899003\n",
      "[138]\tvalidation_0-auc:0.916117\tvalidation_1-auc:0.899103\n",
      "[139]\tvalidation_0-auc:0.916348\tvalidation_1-auc:0.899192\n",
      "[140]\tvalidation_0-auc:0.916644\tvalidation_1-auc:0.899363\n",
      "[141]\tvalidation_0-auc:0.916776\tvalidation_1-auc:0.899471\n",
      "[142]\tvalidation_0-auc:0.916926\tvalidation_1-auc:0.89959\n",
      "[143]\tvalidation_0-auc:0.916874\tvalidation_1-auc:0.899494\n",
      "[144]\tvalidation_0-auc:0.917021\tvalidation_1-auc:0.899548\n",
      "[145]\tvalidation_0-auc:0.917261\tvalidation_1-auc:0.89973\n",
      "[146]\tvalidation_0-auc:0.917343\tvalidation_1-auc:0.899756\n",
      "[147]\tvalidation_0-auc:0.917521\tvalidation_1-auc:0.899886\n",
      "[148]\tvalidation_0-auc:0.917861\tvalidation_1-auc:0.90014\n",
      "[149]\tvalidation_0-auc:0.917994\tvalidation_1-auc:0.900188\n",
      "[150]\tvalidation_0-auc:0.918324\tvalidation_1-auc:0.900344\n",
      "[151]\tvalidation_0-auc:0.918638\tvalidation_1-auc:0.900476\n",
      "[152]\tvalidation_0-auc:0.91884\tvalidation_1-auc:0.900605\n",
      "[153]\tvalidation_0-auc:0.918876\tvalidation_1-auc:0.900558\n",
      "[154]\tvalidation_0-auc:0.918981\tvalidation_1-auc:0.900613\n",
      "[155]\tvalidation_0-auc:0.91902\tvalidation_1-auc:0.900608\n",
      "[156]\tvalidation_0-auc:0.91927\tvalidation_1-auc:0.900709\n",
      "[157]\tvalidation_0-auc:0.919279\tvalidation_1-auc:0.900691\n",
      "[158]\tvalidation_0-auc:0.919371\tvalidation_1-auc:0.900681\n",
      "[159]\tvalidation_0-auc:0.919752\tvalidation_1-auc:0.900892\n",
      "[160]\tvalidation_0-auc:0.920274\tvalidation_1-auc:0.901277\n",
      "[161]\tvalidation_0-auc:0.920486\tvalidation_1-auc:0.901377\n",
      "[162]\tvalidation_0-auc:0.920496\tvalidation_1-auc:0.901407\n",
      "[163]\tvalidation_0-auc:0.920785\tvalidation_1-auc:0.901626\n",
      "[164]\tvalidation_0-auc:0.921044\tvalidation_1-auc:0.901842\n",
      "[165]\tvalidation_0-auc:0.921376\tvalidation_1-auc:0.901946\n",
      "[166]\tvalidation_0-auc:0.921606\tvalidation_1-auc:0.901991\n",
      "[167]\tvalidation_0-auc:0.922044\tvalidation_1-auc:0.902158\n",
      "[168]\tvalidation_0-auc:0.922013\tvalidation_1-auc:0.902113\n",
      "[169]\tvalidation_0-auc:0.922261\tvalidation_1-auc:0.902278\n",
      "[170]\tvalidation_0-auc:0.922299\tvalidation_1-auc:0.90233\n",
      "[171]\tvalidation_0-auc:0.922447\tvalidation_1-auc:0.902368\n",
      "[172]\tvalidation_0-auc:0.922739\tvalidation_1-auc:0.902535\n",
      "[173]\tvalidation_0-auc:0.923119\tvalidation_1-auc:0.902833\n",
      "[174]\tvalidation_0-auc:0.923287\tvalidation_1-auc:0.902988\n",
      "[175]\tvalidation_0-auc:0.923386\tvalidation_1-auc:0.903005\n",
      "[176]\tvalidation_0-auc:0.923305\tvalidation_1-auc:0.902959\n",
      "[177]\tvalidation_0-auc:0.923433\tvalidation_1-auc:0.903092\n",
      "[178]\tvalidation_0-auc:0.923641\tvalidation_1-auc:0.903221\n",
      "[179]\tvalidation_0-auc:0.923686\tvalidation_1-auc:0.903208\n",
      "[180]\tvalidation_0-auc:0.924133\tvalidation_1-auc:0.90368\n",
      "[181]\tvalidation_0-auc:0.924304\tvalidation_1-auc:0.903716\n",
      "[182]\tvalidation_0-auc:0.924373\tvalidation_1-auc:0.903718\n",
      "[183]\tvalidation_0-auc:0.924677\tvalidation_1-auc:0.903928\n",
      "[184]\tvalidation_0-auc:0.924943\tvalidation_1-auc:0.904045\n",
      "[185]\tvalidation_0-auc:0.925041\tvalidation_1-auc:0.904055\n",
      "[186]\tvalidation_0-auc:0.925062\tvalidation_1-auc:0.904099\n",
      "[187]\tvalidation_0-auc:0.925075\tvalidation_1-auc:0.904101\n",
      "[188]\tvalidation_0-auc:0.925273\tvalidation_1-auc:0.904115\n",
      "[189]\tvalidation_0-auc:0.925546\tvalidation_1-auc:0.904282\n",
      "[190]\tvalidation_0-auc:0.925597\tvalidation_1-auc:0.904302\n",
      "[191]\tvalidation_0-auc:0.925637\tvalidation_1-auc:0.904393\n",
      "[192]\tvalidation_0-auc:0.926122\tvalidation_1-auc:0.90477\n",
      "[193]\tvalidation_0-auc:0.926438\tvalidation_1-auc:0.904963\n",
      "[194]\tvalidation_0-auc:0.926511\tvalidation_1-auc:0.905047\n",
      "[195]\tvalidation_0-auc:0.926583\tvalidation_1-auc:0.905024\n",
      "[196]\tvalidation_0-auc:0.926672\tvalidation_1-auc:0.905023\n",
      "[197]\tvalidation_0-auc:0.926771\tvalidation_1-auc:0.905097\n",
      "[198]\tvalidation_0-auc:0.926892\tvalidation_1-auc:0.905081\n",
      "[199]\tvalidation_0-auc:0.926992\tvalidation_1-auc:0.905149\n",
      "[200]\tvalidation_0-auc:0.927177\tvalidation_1-auc:0.905224\n",
      "[201]\tvalidation_0-auc:0.927294\tvalidation_1-auc:0.905301\n",
      "[202]\tvalidation_0-auc:0.927655\tvalidation_1-auc:0.905585\n",
      "[203]\tvalidation_0-auc:0.927663\tvalidation_1-auc:0.905594\n",
      "[204]\tvalidation_0-auc:0.927766\tvalidation_1-auc:0.905683\n",
      "[205]\tvalidation_0-auc:0.927837\tvalidation_1-auc:0.905722\n",
      "[206]\tvalidation_0-auc:0.928126\tvalidation_1-auc:0.905915\n",
      "[207]\tvalidation_0-auc:0.928185\tvalidation_1-auc:0.905981\n",
      "[208]\tvalidation_0-auc:0.928375\tvalidation_1-auc:0.906033\n",
      "[209]\tvalidation_0-auc:0.928614\tvalidation_1-auc:0.906121\n",
      "[210]\tvalidation_0-auc:0.928904\tvalidation_1-auc:0.906252\n",
      "[211]\tvalidation_0-auc:0.928922\tvalidation_1-auc:0.906226\n",
      "[212]\tvalidation_0-auc:0.929001\tvalidation_1-auc:0.906206\n",
      "[213]\tvalidation_0-auc:0.929247\tvalidation_1-auc:0.906183\n",
      "[214]\tvalidation_0-auc:0.929423\tvalidation_1-auc:0.906318\n",
      "[215]\tvalidation_0-auc:0.929487\tvalidation_1-auc:0.906429\n",
      "[216]\tvalidation_0-auc:0.929529\tvalidation_1-auc:0.906466\n",
      "[217]\tvalidation_0-auc:0.92978\tvalidation_1-auc:0.906684\n",
      "[218]\tvalidation_0-auc:0.929926\tvalidation_1-auc:0.90683\n",
      "[219]\tvalidation_0-auc:0.93011\tvalidation_1-auc:0.906951\n",
      "[220]\tvalidation_0-auc:0.930228\tvalidation_1-auc:0.907057\n",
      "[221]\tvalidation_0-auc:0.930201\tvalidation_1-auc:0.907044\n",
      "[222]\tvalidation_0-auc:0.930457\tvalidation_1-auc:0.907253\n",
      "[223]\tvalidation_0-auc:0.93052\tvalidation_1-auc:0.907279\n",
      "[224]\tvalidation_0-auc:0.930615\tvalidation_1-auc:0.90733\n",
      "[225]\tvalidation_0-auc:0.930605\tvalidation_1-auc:0.907334\n",
      "[226]\tvalidation_0-auc:0.930657\tvalidation_1-auc:0.907309\n",
      "[227]\tvalidation_0-auc:0.930811\tvalidation_1-auc:0.907358\n",
      "[228]\tvalidation_0-auc:0.931073\tvalidation_1-auc:0.907467\n",
      "[229]\tvalidation_0-auc:0.931159\tvalidation_1-auc:0.907555\n",
      "[230]\tvalidation_0-auc:0.931235\tvalidation_1-auc:0.90758\n",
      "[231]\tvalidation_0-auc:0.931298\tvalidation_1-auc:0.907587\n",
      "[232]\tvalidation_0-auc:0.931494\tvalidation_1-auc:0.907765\n",
      "[233]\tvalidation_0-auc:0.931679\tvalidation_1-auc:0.907862\n",
      "[234]\tvalidation_0-auc:0.931894\tvalidation_1-auc:0.907908\n",
      "[235]\tvalidation_0-auc:0.931976\tvalidation_1-auc:0.907967\n",
      "[236]\tvalidation_0-auc:0.932252\tvalidation_1-auc:0.908183\n",
      "[237]\tvalidation_0-auc:0.932324\tvalidation_1-auc:0.908135\n",
      "[238]\tvalidation_0-auc:0.932522\tvalidation_1-auc:0.908202\n",
      "[239]\tvalidation_0-auc:0.932617\tvalidation_1-auc:0.908282\n",
      "[240]\tvalidation_0-auc:0.932664\tvalidation_1-auc:0.908289\n",
      "[241]\tvalidation_0-auc:0.932725\tvalidation_1-auc:0.908245\n",
      "[242]\tvalidation_0-auc:0.932795\tvalidation_1-auc:0.908272\n",
      "[243]\tvalidation_0-auc:0.932937\tvalidation_1-auc:0.908316\n",
      "[244]\tvalidation_0-auc:0.932975\tvalidation_1-auc:0.908322\n",
      "[245]\tvalidation_0-auc:0.933046\tvalidation_1-auc:0.908334\n",
      "[246]\tvalidation_0-auc:0.933255\tvalidation_1-auc:0.908486\n",
      "[247]\tvalidation_0-auc:0.933299\tvalidation_1-auc:0.908544\n",
      "[248]\tvalidation_0-auc:0.933612\tvalidation_1-auc:0.908789\n",
      "[249]\tvalidation_0-auc:0.933684\tvalidation_1-auc:0.9088\n",
      "[250]\tvalidation_0-auc:0.933887\tvalidation_1-auc:0.908935\n",
      "[251]\tvalidation_0-auc:0.933943\tvalidation_1-auc:0.90896\n",
      "[252]\tvalidation_0-auc:0.934104\tvalidation_1-auc:0.909015\n",
      "[253]\tvalidation_0-auc:0.934281\tvalidation_1-auc:0.909117\n",
      "[254]\tvalidation_0-auc:0.93431\tvalidation_1-auc:0.909153\n",
      "[255]\tvalidation_0-auc:0.934305\tvalidation_1-auc:0.909089\n",
      "[256]\tvalidation_0-auc:0.93439\tvalidation_1-auc:0.90911\n",
      "[257]\tvalidation_0-auc:0.934618\tvalidation_1-auc:0.909142\n",
      "[258]\tvalidation_0-auc:0.934893\tvalidation_1-auc:0.909214\n",
      "[259]\tvalidation_0-auc:0.935077\tvalidation_1-auc:0.909354\n",
      "[260]\tvalidation_0-auc:0.935168\tvalidation_1-auc:0.909417\n",
      "[261]\tvalidation_0-auc:0.935149\tvalidation_1-auc:0.909366\n",
      "[262]\tvalidation_0-auc:0.935261\tvalidation_1-auc:0.909348\n",
      "[263]\tvalidation_0-auc:0.935533\tvalidation_1-auc:0.909575\n",
      "[264]\tvalidation_0-auc:0.935645\tvalidation_1-auc:0.90959\n",
      "[265]\tvalidation_0-auc:0.93573\tvalidation_1-auc:0.909619\n",
      "[266]\tvalidation_0-auc:0.935863\tvalidation_1-auc:0.909789\n",
      "[267]\tvalidation_0-auc:0.935977\tvalidation_1-auc:0.90989\n",
      "[268]\tvalidation_0-auc:0.936031\tvalidation_1-auc:0.909947\n",
      "[269]\tvalidation_0-auc:0.936201\tvalidation_1-auc:0.910033\n",
      "[270]\tvalidation_0-auc:0.936214\tvalidation_1-auc:0.910108\n",
      "[271]\tvalidation_0-auc:0.936289\tvalidation_1-auc:0.910164\n",
      "[272]\tvalidation_0-auc:0.936565\tvalidation_1-auc:0.910408\n",
      "[273]\tvalidation_0-auc:0.936631\tvalidation_1-auc:0.910417\n",
      "[274]\tvalidation_0-auc:0.936743\tvalidation_1-auc:0.91045\n",
      "[275]\tvalidation_0-auc:0.936824\tvalidation_1-auc:0.910482\n",
      "[276]\tvalidation_0-auc:0.936926\tvalidation_1-auc:0.910469\n",
      "[277]\tvalidation_0-auc:0.936994\tvalidation_1-auc:0.910454\n",
      "[278]\tvalidation_0-auc:0.93718\tvalidation_1-auc:0.910579\n",
      "[279]\tvalidation_0-auc:0.937219\tvalidation_1-auc:0.910624\n",
      "[280]\tvalidation_0-auc:0.937391\tvalidation_1-auc:0.910705\n",
      "[281]\tvalidation_0-auc:0.937426\tvalidation_1-auc:0.910693\n",
      "[282]\tvalidation_0-auc:0.937447\tvalidation_1-auc:0.910702\n",
      "[283]\tvalidation_0-auc:0.93745\tvalidation_1-auc:0.910694\n",
      "[284]\tvalidation_0-auc:0.937549\tvalidation_1-auc:0.910783\n",
      "[285]\tvalidation_0-auc:0.937736\tvalidation_1-auc:0.910882\n",
      "[286]\tvalidation_0-auc:0.937786\tvalidation_1-auc:0.91085\n",
      "[287]\tvalidation_0-auc:0.93793\tvalidation_1-auc:0.910952\n",
      "[288]\tvalidation_0-auc:0.937953\tvalidation_1-auc:0.91096\n",
      "[289]\tvalidation_0-auc:0.938053\tvalidation_1-auc:0.910988\n",
      "[290]\tvalidation_0-auc:0.938123\tvalidation_1-auc:0.910988\n",
      "[291]\tvalidation_0-auc:0.93815\tvalidation_1-auc:0.910995\n",
      "[292]\tvalidation_0-auc:0.938156\tvalidation_1-auc:0.910966\n",
      "[293]\tvalidation_0-auc:0.938206\tvalidation_1-auc:0.911046\n",
      "[294]\tvalidation_0-auc:0.938305\tvalidation_1-auc:0.910994\n",
      "[295]\tvalidation_0-auc:0.938597\tvalidation_1-auc:0.911141\n",
      "[296]\tvalidation_0-auc:0.938743\tvalidation_1-auc:0.911257\n",
      "[297]\tvalidation_0-auc:0.938805\tvalidation_1-auc:0.911332\n",
      "[298]\tvalidation_0-auc:0.938913\tvalidation_1-auc:0.911308\n",
      "[299]\tvalidation_0-auc:0.938931\tvalidation_1-auc:0.911284\n",
      "[300]\tvalidation_0-auc:0.939244\tvalidation_1-auc:0.911514\n",
      "[301]\tvalidation_0-auc:0.939367\tvalidation_1-auc:0.911489\n",
      "[302]\tvalidation_0-auc:0.939465\tvalidation_1-auc:0.911484\n",
      "[303]\tvalidation_0-auc:0.939612\tvalidation_1-auc:0.91154\n",
      "[304]\tvalidation_0-auc:0.939748\tvalidation_1-auc:0.911684\n",
      "[305]\tvalidation_0-auc:0.939882\tvalidation_1-auc:0.911862\n",
      "[306]\tvalidation_0-auc:0.939925\tvalidation_1-auc:0.911942\n",
      "[307]\tvalidation_0-auc:0.939952\tvalidation_1-auc:0.911861\n",
      "[308]\tvalidation_0-auc:0.939966\tvalidation_1-auc:0.911901\n",
      "[309]\tvalidation_0-auc:0.940113\tvalidation_1-auc:0.91202\n",
      "[310]\tvalidation_0-auc:0.940287\tvalidation_1-auc:0.912125\n",
      "[311]\tvalidation_0-auc:0.940435\tvalidation_1-auc:0.912195\n",
      "[312]\tvalidation_0-auc:0.940453\tvalidation_1-auc:0.91222\n",
      "[313]\tvalidation_0-auc:0.940475\tvalidation_1-auc:0.912198\n",
      "[314]\tvalidation_0-auc:0.940539\tvalidation_1-auc:0.91229\n",
      "[315]\tvalidation_0-auc:0.940638\tvalidation_1-auc:0.912396\n",
      "[316]\tvalidation_0-auc:0.940803\tvalidation_1-auc:0.912428\n",
      "[317]\tvalidation_0-auc:0.940937\tvalidation_1-auc:0.912512\n",
      "[318]\tvalidation_0-auc:0.941056\tvalidation_1-auc:0.912587\n",
      "[319]\tvalidation_0-auc:0.941118\tvalidation_1-auc:0.912616\n",
      "[320]\tvalidation_0-auc:0.9411\tvalidation_1-auc:0.912603\n",
      "[321]\tvalidation_0-auc:0.941142\tvalidation_1-auc:0.912654\n",
      "[322]\tvalidation_0-auc:0.941201\tvalidation_1-auc:0.912664\n",
      "[323]\tvalidation_0-auc:0.941281\tvalidation_1-auc:0.912714\n",
      "[324]\tvalidation_0-auc:0.941378\tvalidation_1-auc:0.912792\n",
      "[325]\tvalidation_0-auc:0.941473\tvalidation_1-auc:0.912789\n",
      "[326]\tvalidation_0-auc:0.941586\tvalidation_1-auc:0.912807\n",
      "[327]\tvalidation_0-auc:0.941763\tvalidation_1-auc:0.912974\n",
      "[328]\tvalidation_0-auc:0.941902\tvalidation_1-auc:0.913077\n",
      "[329]\tvalidation_0-auc:0.941955\tvalidation_1-auc:0.913052\n",
      "[330]\tvalidation_0-auc:0.942067\tvalidation_1-auc:0.913062\n",
      "[331]\tvalidation_0-auc:0.942097\tvalidation_1-auc:0.913054\n",
      "[332]\tvalidation_0-auc:0.942253\tvalidation_1-auc:0.913165\n",
      "[333]\tvalidation_0-auc:0.942278\tvalidation_1-auc:0.913164\n",
      "[334]\tvalidation_0-auc:0.942475\tvalidation_1-auc:0.91318\n",
      "[335]\tvalidation_0-auc:0.942495\tvalidation_1-auc:0.913176\n",
      "[336]\tvalidation_0-auc:0.942596\tvalidation_1-auc:0.913211\n",
      "[337]\tvalidation_0-auc:0.942631\tvalidation_1-auc:0.913237\n",
      "[338]\tvalidation_0-auc:0.94265\tvalidation_1-auc:0.913286\n",
      "[339]\tvalidation_0-auc:0.942773\tvalidation_1-auc:0.913347\n",
      "[340]\tvalidation_0-auc:0.942796\tvalidation_1-auc:0.913336\n",
      "[341]\tvalidation_0-auc:0.942889\tvalidation_1-auc:0.913288\n",
      "[342]\tvalidation_0-auc:0.94299\tvalidation_1-auc:0.913361\n",
      "[343]\tvalidation_0-auc:0.943117\tvalidation_1-auc:0.913443\n",
      "[344]\tvalidation_0-auc:0.943145\tvalidation_1-auc:0.913413\n",
      "[345]\tvalidation_0-auc:0.943314\tvalidation_1-auc:0.913512\n",
      "[346]\tvalidation_0-auc:0.943326\tvalidation_1-auc:0.913519\n",
      "[347]\tvalidation_0-auc:0.943398\tvalidation_1-auc:0.913519\n",
      "[348]\tvalidation_0-auc:0.943564\tvalidation_1-auc:0.913568\n",
      "[349]\tvalidation_0-auc:0.943634\tvalidation_1-auc:0.913608\n",
      "[350]\tvalidation_0-auc:0.94376\tvalidation_1-auc:0.913651\n",
      "[351]\tvalidation_0-auc:0.943764\tvalidation_1-auc:0.913644\n",
      "[352]\tvalidation_0-auc:0.943798\tvalidation_1-auc:0.913602\n",
      "[353]\tvalidation_0-auc:0.943817\tvalidation_1-auc:0.913614\n",
      "[354]\tvalidation_0-auc:0.943877\tvalidation_1-auc:0.913603\n",
      "[355]\tvalidation_0-auc:0.943992\tvalidation_1-auc:0.913648\n",
      "[356]\tvalidation_0-auc:0.944049\tvalidation_1-auc:0.913707\n",
      "[357]\tvalidation_0-auc:0.944106\tvalidation_1-auc:0.913755\n",
      "[358]\tvalidation_0-auc:0.944127\tvalidation_1-auc:0.913731\n",
      "[359]\tvalidation_0-auc:0.944189\tvalidation_1-auc:0.913746\n",
      "[360]\tvalidation_0-auc:0.944221\tvalidation_1-auc:0.913791\n",
      "[361]\tvalidation_0-auc:0.944217\tvalidation_1-auc:0.913811\n",
      "[362]\tvalidation_0-auc:0.944352\tvalidation_1-auc:0.913866\n",
      "[363]\tvalidation_0-auc:0.944433\tvalidation_1-auc:0.913918\n",
      "[364]\tvalidation_0-auc:0.944585\tvalidation_1-auc:0.913979\n",
      "[365]\tvalidation_0-auc:0.944637\tvalidation_1-auc:0.91402\n",
      "[366]\tvalidation_0-auc:0.944708\tvalidation_1-auc:0.914149\n",
      "[367]\tvalidation_0-auc:0.944737\tvalidation_1-auc:0.914165\n",
      "[368]\tvalidation_0-auc:0.944756\tvalidation_1-auc:0.914155\n",
      "[369]\tvalidation_0-auc:0.944882\tvalidation_1-auc:0.914182\n",
      "[370]\tvalidation_0-auc:0.945016\tvalidation_1-auc:0.914267\n",
      "[371]\tvalidation_0-auc:0.945034\tvalidation_1-auc:0.914297\n",
      "[372]\tvalidation_0-auc:0.945078\tvalidation_1-auc:0.914296\n",
      "[373]\tvalidation_0-auc:0.945167\tvalidation_1-auc:0.914286\n",
      "[374]\tvalidation_0-auc:0.945213\tvalidation_1-auc:0.914267\n",
      "[375]\tvalidation_0-auc:0.945315\tvalidation_1-auc:0.914295\n",
      "[376]\tvalidation_0-auc:0.945343\tvalidation_1-auc:0.914274\n",
      "[377]\tvalidation_0-auc:0.945372\tvalidation_1-auc:0.914311\n",
      "[378]\tvalidation_0-auc:0.945414\tvalidation_1-auc:0.914316\n",
      "[379]\tvalidation_0-auc:0.945564\tvalidation_1-auc:0.914398\n",
      "[380]\tvalidation_0-auc:0.945645\tvalidation_1-auc:0.914428\n",
      "[381]\tvalidation_0-auc:0.945704\tvalidation_1-auc:0.914445\n",
      "[382]\tvalidation_0-auc:0.945806\tvalidation_1-auc:0.914475\n",
      "[383]\tvalidation_0-auc:0.946054\tvalidation_1-auc:0.91463\n",
      "[384]\tvalidation_0-auc:0.946204\tvalidation_1-auc:0.914658\n",
      "[385]\tvalidation_0-auc:0.946293\tvalidation_1-auc:0.914703\n",
      "[386]\tvalidation_0-auc:0.946462\tvalidation_1-auc:0.914791\n",
      "[387]\tvalidation_0-auc:0.946558\tvalidation_1-auc:0.914826\n",
      "[388]\tvalidation_0-auc:0.946621\tvalidation_1-auc:0.914789\n",
      "[389]\tvalidation_0-auc:0.946807\tvalidation_1-auc:0.914866\n",
      "[390]\tvalidation_0-auc:0.946893\tvalidation_1-auc:0.914898\n",
      "[391]\tvalidation_0-auc:0.946979\tvalidation_1-auc:0.914989\n",
      "[392]\tvalidation_0-auc:0.947092\tvalidation_1-auc:0.915016\n",
      "[393]\tvalidation_0-auc:0.94716\tvalidation_1-auc:0.915105\n",
      "[394]\tvalidation_0-auc:0.947189\tvalidation_1-auc:0.915075\n",
      "[395]\tvalidation_0-auc:0.947297\tvalidation_1-auc:0.915082\n",
      "[396]\tvalidation_0-auc:0.947388\tvalidation_1-auc:0.915102\n",
      "[397]\tvalidation_0-auc:0.947479\tvalidation_1-auc:0.915126\n",
      "[398]\tvalidation_0-auc:0.947549\tvalidation_1-auc:0.91509\n",
      "[399]\tvalidation_0-auc:0.94773\tvalidation_1-auc:0.915184\n",
      "[400]\tvalidation_0-auc:0.947728\tvalidation_1-auc:0.915146\n",
      "[401]\tvalidation_0-auc:0.947788\tvalidation_1-auc:0.91511\n",
      "[402]\tvalidation_0-auc:0.9479\tvalidation_1-auc:0.915169\n",
      "[403]\tvalidation_0-auc:0.947959\tvalidation_1-auc:0.915144\n",
      "[404]\tvalidation_0-auc:0.94808\tvalidation_1-auc:0.915179\n",
      "[405]\tvalidation_0-auc:0.948126\tvalidation_1-auc:0.915216\n",
      "[406]\tvalidation_0-auc:0.948177\tvalidation_1-auc:0.915279\n",
      "[407]\tvalidation_0-auc:0.948214\tvalidation_1-auc:0.915325\n",
      "[408]\tvalidation_0-auc:0.948372\tvalidation_1-auc:0.915445\n",
      "[409]\tvalidation_0-auc:0.94851\tvalidation_1-auc:0.915493\n",
      "[410]\tvalidation_0-auc:0.948547\tvalidation_1-auc:0.915507\n",
      "[411]\tvalidation_0-auc:0.948678\tvalidation_1-auc:0.915528\n",
      "[412]\tvalidation_0-auc:0.948783\tvalidation_1-auc:0.915581\n",
      "[413]\tvalidation_0-auc:0.948808\tvalidation_1-auc:0.915556\n",
      "[414]\tvalidation_0-auc:0.948844\tvalidation_1-auc:0.915586\n",
      "[415]\tvalidation_0-auc:0.948959\tvalidation_1-auc:0.915602\n",
      "[416]\tvalidation_0-auc:0.949018\tvalidation_1-auc:0.915683\n",
      "[417]\tvalidation_0-auc:0.94912\tvalidation_1-auc:0.915656\n",
      "[418]\tvalidation_0-auc:0.949176\tvalidation_1-auc:0.915666\n",
      "[419]\tvalidation_0-auc:0.949203\tvalidation_1-auc:0.915677\n",
      "[420]\tvalidation_0-auc:0.949315\tvalidation_1-auc:0.915688\n",
      "[421]\tvalidation_0-auc:0.949356\tvalidation_1-auc:0.915666\n",
      "[422]\tvalidation_0-auc:0.949436\tvalidation_1-auc:0.915666\n",
      "[423]\tvalidation_0-auc:0.949536\tvalidation_1-auc:0.915732\n",
      "[424]\tvalidation_0-auc:0.949563\tvalidation_1-auc:0.915743\n",
      "[425]\tvalidation_0-auc:0.949527\tvalidation_1-auc:0.915785\n",
      "[426]\tvalidation_0-auc:0.949611\tvalidation_1-auc:0.915812\n",
      "[427]\tvalidation_0-auc:0.94966\tvalidation_1-auc:0.915857\n",
      "[428]\tvalidation_0-auc:0.949742\tvalidation_1-auc:0.915973\n",
      "[429]\tvalidation_0-auc:0.949789\tvalidation_1-auc:0.915963\n",
      "[430]\tvalidation_0-auc:0.949902\tvalidation_1-auc:0.91604\n",
      "[431]\tvalidation_0-auc:0.950037\tvalidation_1-auc:0.916043\n",
      "[432]\tvalidation_0-auc:0.950167\tvalidation_1-auc:0.916096\n",
      "[433]\tvalidation_0-auc:0.950282\tvalidation_1-auc:0.916138\n",
      "[434]\tvalidation_0-auc:0.950359\tvalidation_1-auc:0.916156\n",
      "[435]\tvalidation_0-auc:0.950374\tvalidation_1-auc:0.916197\n",
      "[436]\tvalidation_0-auc:0.950443\tvalidation_1-auc:0.916231\n",
      "[437]\tvalidation_0-auc:0.950622\tvalidation_1-auc:0.916382\n",
      "[438]\tvalidation_0-auc:0.950671\tvalidation_1-auc:0.916369\n",
      "[439]\tvalidation_0-auc:0.950763\tvalidation_1-auc:0.916479\n",
      "[440]\tvalidation_0-auc:0.950962\tvalidation_1-auc:0.916541\n",
      "[441]\tvalidation_0-auc:0.951028\tvalidation_1-auc:0.916507\n",
      "[442]\tvalidation_0-auc:0.95118\tvalidation_1-auc:0.916577\n",
      "[443]\tvalidation_0-auc:0.951257\tvalidation_1-auc:0.916597\n",
      "[444]\tvalidation_0-auc:0.95132\tvalidation_1-auc:0.916567\n",
      "[445]\tvalidation_0-auc:0.95134\tvalidation_1-auc:0.916562\n",
      "[446]\tvalidation_0-auc:0.951378\tvalidation_1-auc:0.916559\n",
      "[447]\tvalidation_0-auc:0.951418\tvalidation_1-auc:0.916538\n",
      "[448]\tvalidation_0-auc:0.951486\tvalidation_1-auc:0.916517\n",
      "[449]\tvalidation_0-auc:0.951501\tvalidation_1-auc:0.916518\n",
      "[450]\tvalidation_0-auc:0.951603\tvalidation_1-auc:0.916584\n",
      "[451]\tvalidation_0-auc:0.951638\tvalidation_1-auc:0.916555\n",
      "[452]\tvalidation_0-auc:0.951668\tvalidation_1-auc:0.91661\n",
      "[453]\tvalidation_0-auc:0.951693\tvalidation_1-auc:0.916606\n",
      "[454]\tvalidation_0-auc:0.951735\tvalidation_1-auc:0.916608\n",
      "[455]\tvalidation_0-auc:0.951777\tvalidation_1-auc:0.916612\n",
      "[456]\tvalidation_0-auc:0.951797\tvalidation_1-auc:0.916642\n",
      "[457]\tvalidation_0-auc:0.951834\tvalidation_1-auc:0.916624\n",
      "[458]\tvalidation_0-auc:0.951871\tvalidation_1-auc:0.916655\n",
      "[459]\tvalidation_0-auc:0.951917\tvalidation_1-auc:0.916659\n",
      "[460]\tvalidation_0-auc:0.951934\tvalidation_1-auc:0.916649\n",
      "[461]\tvalidation_0-auc:0.951984\tvalidation_1-auc:0.916655\n",
      "[462]\tvalidation_0-auc:0.952006\tvalidation_1-auc:0.916651\n",
      "[463]\tvalidation_0-auc:0.952029\tvalidation_1-auc:0.916646\n",
      "[464]\tvalidation_0-auc:0.952079\tvalidation_1-auc:0.916647\n",
      "[465]\tvalidation_0-auc:0.952197\tvalidation_1-auc:0.916767\n",
      "[466]\tvalidation_0-auc:0.952239\tvalidation_1-auc:0.916829\n",
      "[467]\tvalidation_0-auc:0.952294\tvalidation_1-auc:0.916794\n",
      "[468]\tvalidation_0-auc:0.952334\tvalidation_1-auc:0.916821\n",
      "[469]\tvalidation_0-auc:0.952518\tvalidation_1-auc:0.916911\n",
      "[470]\tvalidation_0-auc:0.952507\tvalidation_1-auc:0.916937\n",
      "[471]\tvalidation_0-auc:0.952576\tvalidation_1-auc:0.916932\n",
      "[472]\tvalidation_0-auc:0.952667\tvalidation_1-auc:0.916989\n",
      "[473]\tvalidation_0-auc:0.952767\tvalidation_1-auc:0.916989\n",
      "[474]\tvalidation_0-auc:0.952751\tvalidation_1-auc:0.916989\n",
      "[475]\tvalidation_0-auc:0.952796\tvalidation_1-auc:0.917023\n",
      "[476]\tvalidation_0-auc:0.952851\tvalidation_1-auc:0.917099\n",
      "[477]\tvalidation_0-auc:0.952919\tvalidation_1-auc:0.917122\n",
      "[478]\tvalidation_0-auc:0.952945\tvalidation_1-auc:0.917101\n",
      "[479]\tvalidation_0-auc:0.953031\tvalidation_1-auc:0.917112\n",
      "[480]\tvalidation_0-auc:0.953104\tvalidation_1-auc:0.917095\n",
      "[481]\tvalidation_0-auc:0.953137\tvalidation_1-auc:0.917111\n",
      "[482]\tvalidation_0-auc:0.953192\tvalidation_1-auc:0.917096\n",
      "[483]\tvalidation_0-auc:0.953227\tvalidation_1-auc:0.917102\n",
      "[484]\tvalidation_0-auc:0.953283\tvalidation_1-auc:0.917113\n",
      "[485]\tvalidation_0-auc:0.953333\tvalidation_1-auc:0.917116\n",
      "[486]\tvalidation_0-auc:0.953367\tvalidation_1-auc:0.91709\n",
      "[487]\tvalidation_0-auc:0.95347\tvalidation_1-auc:0.917088\n",
      "[488]\tvalidation_0-auc:0.95351\tvalidation_1-auc:0.91712\n",
      "[489]\tvalidation_0-auc:0.95358\tvalidation_1-auc:0.917141\n",
      "[490]\tvalidation_0-auc:0.953782\tvalidation_1-auc:0.917231\n",
      "[491]\tvalidation_0-auc:0.953859\tvalidation_1-auc:0.917276\n",
      "[492]\tvalidation_0-auc:0.953962\tvalidation_1-auc:0.91738\n",
      "[493]\tvalidation_0-auc:0.954\tvalidation_1-auc:0.917402\n",
      "[494]\tvalidation_0-auc:0.954062\tvalidation_1-auc:0.917403\n",
      "[495]\tvalidation_0-auc:0.954108\tvalidation_1-auc:0.917397\n",
      "[496]\tvalidation_0-auc:0.954186\tvalidation_1-auc:0.917395\n",
      "[497]\tvalidation_0-auc:0.954259\tvalidation_1-auc:0.917465\n",
      "[498]\tvalidation_0-auc:0.954362\tvalidation_1-auc:0.917535\n",
      "[499]\tvalidation_0-auc:0.954436\tvalidation_1-auc:0.917578\n",
      "Overall AUC: 0.917535222539\n"
     ]
    },
    {
     "data": {
      "text/plain": [
       "<matplotlib.axes._subplots.AxesSubplot at 0x7f1c1b74a278>"
      ]
     },
     "execution_count": 61,
     "metadata": {},
     "output_type": "execute_result"
    },
    {
     "data": {
      "image/png": "[encoded data removed]",
      "text/plain": [
       "<matplotlib.figure.Figure at 0x7f1c1d7ce3c8>"
      ]
     },
     "metadata": {},
     "output_type": "display_data"
    }
   ],
   "source": [
    "ratio = float(np.sum(GT == 1)) / np.sum(GT==0)\n",
    "\n",
    "clf = xgb.XGBClassifier(missing=9999999999,\n",
    "                max_depth = 2,\n",
    "                n_estimators=500,\n",
    "                learning_rate=0.1, \n",
    "                nthread=3,\n",
    "                subsample=1.0,\n",
    "                colsample_bytree=5/9,\n",
    "                #min_child_weight = 3,\n",
    "                scale_pos_weight = ratio,\n",
    "                reg_alpha=0.03,\n",
    "                seed=1301)\n",
    "                \n",
    "clf.fit(X_train, y_train, early_stopping_rounds=20, eval_metric=\"auc\",\n",
    "        eval_set=[(X_train, y_train), (X_test, y_test)])\n",
    "        \n",
    "print('Overall AUC:', roc_auc_score(y_test, clf.predict_proba(X_test, ntree_limit=clf.best_iteration)[:,1]))\n",
    "xgb.plot_importance(clf)"
   ]
  },
  {
   "cell_type": "code",
   "execution_count": 62,
   "metadata": {
    "collapsed": false,
    "deletable": true,
    "editable": true
   },
   "outputs": [
    {
     "data": {
      "text/plain": [
       "<matplotlib.text.Text at 0x7f1c1b605828>"
      ]
     },
     "execution_count": 62,
     "metadata": {},
     "output_type": "execute_result"
    },
    {
     "data": {
      "image/png": "[encoded data removed]",
      "text/plain": [
       "<matplotlib.figure.Figure at 0x7f1c702f9fd0>"
      ]
     },
     "metadata": {},
     "output_type": "display_data"
    }
   ],
   "source": [
    "best_pred = clf.predict_proba(X_test, ntree_limit=clf.best_iteration)[:,1]\n",
    "plt.figure(figsize=(15,12))\n",
    "for j in range(6):\n",
    "    plt.plot(fpr[j], tpr[j], label = names_VI[j])\n",
    "\n",
    "FPR, TPR, _ = roc_curve(y_test, best_pred)\n",
    "plt.plot(FPR, TPR, label = \"Combined\")\n",
    "    \n",
    "plt.legend()\n",
    "plt.xlabel('FPR')\n",
    "plt.ylabel('TPR')\n"
   ]
  },
  {
   "cell_type": "code",
   "execution_count": null,
   "metadata": {
    "collapsed": false,
    "deletable": true,
    "editable": true
   },
   "outputs": [],
   "source": [
    "xgb.plot_importance(clf)"
   ]
  },
  {
   "cell_type": "code",
   "execution_count": null,
   "metadata": {
    "collapsed": false,
    "deletable": true,
    "editable": true
   },
   "outputs": [],
   "source": [
    "print(TPR)\n",
    "print(1- FPR)"
   ]
  },
  {
   "cell_type": "code",
   "execution_count": 63,
   "metadata": {
    "collapsed": false,
    "deletable": true,
    "editable": true
   },
   "outputs": [],
   "source": [
    "i_max = max(range(len(TPR)), key = lambda x : TPR[x] + 1 - FPR[x])"
   ]
  },
  {
   "cell_type": "code",
   "execution_count": 64,
   "metadata": {
    "collapsed": false,
    "deletable": true,
    "editable": true
   },
   "outputs": [
    {
     "name": "stdout",
     "output_type": "stream",
     "text": [
      "0.841855193684\n"
     ]
    }
   ],
   "source": [
    "print((TPR[i_max] + 1 - FPR[i_max])/2)"
   ]
  },
  {
   "cell_type": "code",
   "execution_count": 65,
   "metadata": {
    "collapsed": false,
    "deletable": true,
    "editable": true
   },
   "outputs": [
    {
     "data": {
      "text/plain": [
       "array([ 0.0013369 ,  0.00066845,  0.00066845, ...,  0.01871658,\n",
       "        0.00601604,  0.01002674], dtype=float32)"
      ]
     },
     "execution_count": 65,
     "metadata": {},
     "output_type": "execute_result"
    }
   ],
   "source": [
    "clf.feature_importances_"
   ]
  },
  {
   "cell_type": "code",
   "execution_count": 67,
   "metadata": {
    "collapsed": false
   },
   "outputs": [
    {
     "name": "stdout",
     "output_type": "stream",
     "text": [
      "[1280, 1536, 1024, 768, 1538, 1025, 1281, 1537, 769, 926]\n"
     ]
    }
   ],
   "source": [
    "fi = sorted(range(len(clf.feature_importances_)), key = lambda x : clf.feature_importances_[x], reverse = True)[:10]\n",
    "print(fi)"
   ]
  },
  {
   "cell_type": "code",
   "execution_count": null,
   "metadata": {
    "collapsed": true
   },
   "outputs": [],
   "source": []
  }
 ],
 "metadata": {
  "kernelspec": {
   "display_name": "Python 3",
   "language": "python",
   "name": "python3"
  },
  "language_info": {
   "codemirror_mode": {
    "name": "ipython",
    "version": 3
   },
   "file_extension": ".py",
   "mimetype": "text/x-python",
   "name": "python",
   "nbconvert_exporter": "python",
   "pygments_lexer": "ipython3",
   "version": "3.5.2"
  }
 },
 "nbformat": 4,
 "nbformat_minor": 2
}
