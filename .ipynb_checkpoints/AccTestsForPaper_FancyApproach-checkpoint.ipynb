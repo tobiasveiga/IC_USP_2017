{
 "cells": [
  {
   "cell_type": "code",
   "execution_count": 1,
   "metadata": {},
   "outputs": [],
   "source": [
    "from os import listdir\n",
    "from sys import argv\n",
    "\n",
    "import numpy as np\n",
    "import matplotlib.pyplot as plt\n",
    "%matplotlib inline\n",
    "from sklearn.metrics import f1_score, roc_curve, roc_auc_score, precision_recall_curve, accuracy_score\n",
    "\n",
    "from sklearn.ensemble import RandomForestClassifier as RFC\n",
    "from sklearn.decomposition import PCA\n",
    "\n",
    "from sklearn.model_selection import train_test_split\n",
    "\n",
    "import sys\n",
    "# sys.path.insert(0, \"/mnt/Dados/Documentos/xgboost/python-package/\")\n",
    "import xgboost as xgb\n",
    "\n",
    "from sklearn.feature_selection import SelectPercentile\n",
    "from sklearn.feature_selection import f_classif,chi2\n",
    "from sklearn.preprocessing import Binarizer, scale, StandardScaler, minmax_scale\n",
    "\n",
    "from sklearn.svm import SVC\n",
    "\n",
    "import time\n",
    "\n",
    "from sklearn.externals import joblib\n",
    "import pandas as pd\n",
    "from sklearn.manifold import Isomap, TSNE\n",
    "from sklearn.model_selection import GroupKFold, LeavePGroupsOut, LeaveOneGroupOut\n",
    "\n",
    "def shuffled(array):\n",
    "    x = array.values.copy()\n",
    "    np.random.shuffle(x)\n",
    "    return x\n",
    "\n",
    "def shuffled2(array):\n",
    "    x = array.copy()\n",
    "    np.random.shuffle(x)\n",
    "    return x\n",
    "\n",
    "# import pyperclip"
   ]
  },
  {
   "cell_type": "code",
   "execution_count": 2,
   "metadata": {},
   "outputs": [],
   "source": [
    "# Read database from disk\n",
    "data = pd.read_csv(\"../IC2017_DATA/FancyApproach_dataset.csv\")"
   ]
  },
  {
   "cell_type": "code",
   "execution_count": 3,
   "metadata": {},
   "outputs": [],
   "source": [
    "# Shuffle data\n",
    "# data = data.loc[shuffled(data.index)]"
   ]
  },
  {
   "cell_type": "code",
   "execution_count": 4,
   "metadata": {},
   "outputs": [
    {
     "data": {
      "text/plain": [
       "Index(['0', '1', '2', '3', '4', '5', '6', '7', '8', '9', '10', '11', '12',\n",
       "       '13', '14', '15', '16', '17', '18', '19', '20', 'GT', 'IMG', 'solo'],\n",
       "      dtype='object')"
      ]
     },
     "execution_count": 4,
     "metadata": {},
     "output_type": "execute_result"
    }
   ],
   "source": [
    "data.columns"
   ]
  },
  {
   "cell_type": "code",
   "execution_count": 5,
   "metadata": {},
   "outputs": [],
   "source": [
    "# Copy not-feature data from the base, before removing them for training purpose\n",
    "\n",
    "y = data[\"GT\"]\n",
    "IMG = data[\"IMG\"]\n",
    "# BLOCK = data[\"block_num\"]\n",
    "# solo = data[\"solo\"]\n",
    "base = data[\"solo\"]"
   ]
  },
  {
   "cell_type": "code",
   "execution_count": 6,
   "metadata": {},
   "outputs": [],
   "source": [
    "solo = base"
   ]
  },
  {
   "cell_type": "code",
   "execution_count": 7,
   "metadata": {},
   "outputs": [],
   "source": [
    "# Remove not-feature data from the base, for training purpose\n",
    "\n",
    "del data[\"GT\"]\n",
    "del data[\"IMG\"] # big jump in precision by keeping this feature\n",
    "del data[\"solo\"]"
   ]
  },
  {
   "cell_type": "markdown",
   "metadata": {},
   "source": [
    "# 0)  AUC and Mean Acc. Analysis of everything"
   ]
  },
  {
   "cell_type": "code",
   "execution_count": 8,
   "metadata": {},
   "outputs": [],
   "source": [
    "def getBestTreshold(FPR, TPR, TH):\n",
    "    \"\"\"This function is for calculating the Mean Accuracy, given a ROC curve\"\"\"\n",
    "    i_max = max(range(len(TPR)), key = lambda x : TPR[x] + 1 - FPR[x])\n",
    "    mean_accuracy = (TPR[i_max] + 1 - FPR[i_max])/2\n",
    "    return mean_accuracy, TH[i_max]"
   ]
  },
  {
   "cell_type": "code",
   "execution_count": 9,
   "metadata": {},
   "outputs": [],
   "source": [
    "def getPerformance(true, prediction):\n",
    "    try:\n",
    "        \n",
    "        auc = roc_auc_score(true, prediction)        \n",
    "        fpr, tpr, th = roc_curve(true, prediction)\n",
    "        if auc < .5:\n",
    "            fpr, tpr = tpr, fpr\n",
    "            auc = 1 - auc\n",
    "        mean_acc, bestTH = getBestTreshold(fpr, tpr, th)\n",
    "        return auc, mean_acc, bestTH, fpr, tpr\n",
    "    \n",
    "    except: # might happen when there is only one class\n",
    "        \n",
    "        return None, np.NaN, np.NaN, None, None"
   ]
  },
  {
   "cell_type": "code",
   "execution_count": 10,
   "metadata": {},
   "outputs": [],
   "source": [
    "def splitByImages(data, test_size, repetitions):\n",
    "    images = list(set(IMG.loc[data.index]))\n",
    "    n = len(images)\n",
    "    for _ in range(repetitions):\n",
    "        np.random.shuffle(images)\n",
    "        split_point = int(n * (1-test_size))\n",
    "        yield images[:split_point], images[split_point:]"
   ]
  },
  {
   "cell_type": "code",
   "execution_count": 11,
   "metadata": {},
   "outputs": [],
   "source": [
    "def XGBTrain(data, train_imgs, val_imgs, y):\n",
    "\n",
    "    X_train, y_train = data.loc[IMG.isin(train_imgs)], y.loc[IMG.isin(train_imgs)]\n",
    "    X_val, y_val = data.loc[IMG.isin(val_imgs)], y.loc[IMG.isin(val_imgs)]\n",
    "    \n",
    "    ratio = float(np.sum(y_train == 1)) / np.sum(y_train==0)\n",
    "\n",
    "    clf = xgb.XGBClassifier(\n",
    "                    max_depth = 4,\n",
    "                    n_estimators=1000,\n",
    "                    learning_rate=0.2, \n",
    "                    nthread=3,\n",
    "                    subsample=1.0,\n",
    "                    colsample_bytree=1,\n",
    "                    scale_pos_weight = ratio,\n",
    "                    reg_alpha=0.03,\n",
    "                    seed=1301)\n",
    "\n",
    "    clf.fit(X_train, y_train, early_stopping_rounds=30, eval_metric=\"auc\",\n",
    "            eval_set=[(X_val, y_val)], verbose = False)\n",
    "    \n",
    "    return clf"
   ]
  },
  {
   "cell_type": "code",
   "execution_count": 12,
   "metadata": {},
   "outputs": [],
   "source": [
    "LessCompact = [0]\n",
    "MoreCompact = [1]\n",
    "Calibrated = [0, 1]\n",
    "NotCalibrated = [2]\n",
    "experiments = [[LessCompact, MoreCompact], [MoreCompact, LessCompact],\n",
    "              [Calibrated, NotCalibrated], [NotCalibrated, Calibrated]]"
   ]
  },
  {
   "cell_type": "code",
   "execution_count": null,
   "metadata": {},
   "outputs": [],
   "source": []
  },
  {
   "cell_type": "markdown",
   "metadata": {},
   "source": [
    "# 1) Check VI discriminant capability"
   ]
  },
  {
   "cell_type": "code",
   "execution_count": 13,
   "metadata": {},
   "outputs": [],
   "source": [
    "from sklearn.model_selection import LeaveOneOut"
   ]
  },
  {
   "cell_type": "code",
   "execution_count": 14,
   "metadata": {},
   "outputs": [],
   "source": [
    "from sklearn.linear_model import LogisticRegression"
   ]
  },
  {
   "cell_type": "code",
   "execution_count": 15,
   "metadata": {},
   "outputs": [],
   "source": [
    "loo = LeaveOneOut()"
   ]
  },
  {
   "cell_type": "code",
   "execution_count": 16,
   "metadata": {},
   "outputs": [],
   "source": [
    "VI_cols = names_VI = data.columns"
   ]
  },
  {
   "cell_type": "code",
   "execution_count": 17,
   "metadata": {
    "scrolled": true
   },
   "outputs": [
    {
     "name": "stdout",
     "output_type": "stream",
     "text": [
      "Experiment [0] [1]\n",
      "> 0\n",
      " > > 0 \t Fit vs Val (MAc) = 0.809 vs 0.428\n",
      " > > 0 \t Fit vs Val (MAc) = 0.792 vs 0.880\n",
      " > > 0 \t Fit vs Val (MAc) = 0.797 vs 0.809\n",
      " > > 0 \t Fit vs Val (MAc) = 0.792 vs 0.950\n",
      " > > 0 \t Fit vs Val (MAc) = 0.797 vs 0.740\n",
      " > > 0 \t Fit vs Val (MAc) = 0.790 vs 0.914\n",
      " > > 0 \t Fit vs Val (MAc) = 0.800 vs 0.706\n",
      " > > 0 \t Fit vs Val (MAc) = 0.779 vs 0.987\n",
      " > > 0 \t Fit vs Val (MAc) = 0.793 vs 0.932\n",
      " > > 0 \t Fit vs Val (MAc) = 0.797 vs 0.757\n",
      " > > 0 \t Fit vs Val (MAc) = 0.828 vs 0.681\n"
     ]
    },
    {
     "name": "stderr",
     "output_type": "stream",
     "text": [
      "/store/tveiga/miniconda3/envs/py/lib/python3.7/site-packages/numpy/lib/function_base.py:356: RuntimeWarning: Mean of empty slice.\n",
      "  avg = a.mean(axis)\n",
      "/store/tveiga/miniconda3/envs/py/lib/python3.7/site-packages/numpy/core/_methods.py:85: RuntimeWarning: invalid value encountered in double_scalars\n",
      "  ret = ret.dtype.type(ret / rcount)\n"
     ]
    },
    {
     "name": "stdout",
     "output_type": "stream",
     "text": [
      " > > 0 \t Fit vs Val (MAc) = 0.798 vs nan\n",
      " > > 0 \t Fit vs Val (MAc) = 0.813 vs 0.343\n",
      " > > 0 \t Fit vs Val (MAc) = 0.801 vs 0.799\n",
      " > > 0 \t Fit vs Val (MAc) = 0.813 vs 0.329\n",
      " > > 0 \t Fit vs Val (MAc) = 0.807 vs 0.508\n",
      " > > 0 \t Fit vs Val (MAc) = 0.785 vs 0.950\n",
      " > > BEST-TH: 128.000 (4.890)\n",
      " > > TEST Score : 0.839\n",
      "> 1\n",
      " > > 1 \t Fit vs Val (MAc) = 0.730 vs 0.000\n",
      " > > 1 \t Fit vs Val (MAc) = 0.735 vs 0.022\n",
      " > > 1 \t Fit vs Val (MAc) = 0.763 vs 0.872\n",
      " > > 1 \t Fit vs Val (MAc) = 0.762 vs 0.838\n",
      " > > 1 \t Fit vs Val (MAc) = 0.740 vs 0.044\n",
      " > > 1 \t Fit vs Val (MAc) = 0.766 vs 0.940\n",
      " > > 1 \t Fit vs Val (MAc) = 0.734 vs 0.017\n",
      " > > 1 \t Fit vs Val (MAc) = 0.751 vs 0.605\n",
      " > > 1 \t Fit vs Val (MAc) = 0.741 vs 0.048\n",
      " > > 1 \t Fit vs Val (MAc) = 0.734 vs 0.016\n",
      " > > 1 \t Fit vs Val (MAc) = 0.731 vs 0.239\n"
     ]
    },
    {
     "name": "stderr",
     "output_type": "stream",
     "text": [
      "/store/tveiga/miniconda3/envs/py/lib/python3.7/site-packages/numpy/lib/function_base.py:356: RuntimeWarning: Mean of empty slice.\n",
      "  avg = a.mean(axis)\n",
      "/store/tveiga/miniconda3/envs/py/lib/python3.7/site-packages/numpy/core/_methods.py:85: RuntimeWarning: invalid value encountered in double_scalars\n",
      "  ret = ret.dtype.type(ret / rcount)\n"
     ]
    },
    {
     "name": "stdout",
     "output_type": "stream",
     "text": [
      " > > 1 \t Fit vs Val (MAc) = 0.747 vs nan\n",
      " > > 1 \t Fit vs Val (MAc) = 0.730 vs 0.003\n",
      " > > 1 \t Fit vs Val (MAc) = 0.767 vs 0.958\n",
      " > > 1 \t Fit vs Val (MAc) = 0.730 vs 0.000\n",
      " > > 1 \t Fit vs Val (MAc) = 0.767 vs 0.966\n",
      " > > 1 \t Fit vs Val (MAc) = 0.752 vs 0.628\n",
      " > > BEST-TH: 1.000 (0.000)\n",
      " > > TEST Score : 0.676\n",
      "> 2\n",
      " > > 2 \t Fit vs Val (MAc) = 0.615 vs 0.866\n",
      " > > 2 \t Fit vs Val (MAc) = 0.620 vs 0.781\n",
      " > > 2 \t Fit vs Val (MAc) = 0.628 vs 0.731\n",
      " > > 2 \t Fit vs Val (MAc) = 0.608 vs 0.347\n",
      " > > 2 \t Fit vs Val (MAc) = 0.624 vs 0.708\n",
      " > > 2 \t Fit vs Val (MAc) = 0.613 vs 0.792\n",
      " > > 2 \t Fit vs Val (MAc) = 0.620 vs 0.745\n",
      " > > 2 \t Fit vs Val (MAc) = 0.656 vs 0.647\n",
      " > > 2 \t Fit vs Val (MAc) = 0.617 vs 0.814\n",
      " > > 2 \t Fit vs Val (MAc) = 0.627 vs 0.496\n",
      " > > 2 \t Fit vs Val (MAc) = 0.646 vs 0.402\n"
     ]
    },
    {
     "name": "stderr",
     "output_type": "stream",
     "text": [
      "/store/tveiga/miniconda3/envs/py/lib/python3.7/site-packages/numpy/lib/function_base.py:356: RuntimeWarning: Mean of empty slice.\n",
      "  avg = a.mean(axis)\n",
      "/store/tveiga/miniconda3/envs/py/lib/python3.7/site-packages/numpy/core/_methods.py:85: RuntimeWarning: invalid value encountered in double_scalars\n",
      "  ret = ret.dtype.type(ret / rcount)\n"
     ]
    },
    {
     "name": "stdout",
     "output_type": "stream",
     "text": [
      " > > 2 \t Fit vs Val (MAc) = 0.619 vs nan\n",
      " > > 2 \t Fit vs Val (MAc) = 0.619 vs 0.745\n",
      " > > 2 \t Fit vs Val (MAc) = 0.619 vs 0.769\n",
      " > > 2 \t Fit vs Val (MAc) = 0.621 vs 0.702\n",
      " > > 2 \t Fit vs Val (MAc) = 0.623 vs 0.659\n",
      " > > 2 \t Fit vs Val (MAc) = 0.581 vs 0.760\n",
      " > > BEST-TH: 107.000 (13.104)\n",
      " > > TEST Score : 0.475\n",
      "> 3\n",
      " > > 3 \t Fit vs Val (MAc) = 0.737 vs 0.683\n",
      " > > 3 \t Fit vs Val (MAc) = 0.730 vs 0.843\n",
      " > > 3 \t Fit vs Val (MAc) = 0.733 vs 0.746\n",
      " > > 3 \t Fit vs Val (MAc) = 0.734 vs 0.930\n",
      " > > 3 \t Fit vs Val (MAc) = 0.729 vs 0.845\n",
      " > > 3 \t Fit vs Val (MAc) = 0.732 vs 0.884\n",
      " > > 3 \t Fit vs Val (MAc) = 0.740 vs 0.557\n",
      " > > 3 \t Fit vs Val (MAc) = 0.708 vs 0.975\n",
      " > > 3 \t Fit vs Val (MAc) = 0.734 vs 0.745\n",
      " > > 3 \t Fit vs Val (MAc) = 0.742 vs 0.525\n",
      " > > 3 \t Fit vs Val (MAc) = 0.768 vs 0.589\n"
     ]
    },
    {
     "name": "stderr",
     "output_type": "stream",
     "text": [
      "/store/tveiga/miniconda3/envs/py/lib/python3.7/site-packages/numpy/lib/function_base.py:356: RuntimeWarning: Mean of empty slice.\n",
      "  avg = a.mean(axis)\n",
      "/store/tveiga/miniconda3/envs/py/lib/python3.7/site-packages/numpy/core/_methods.py:85: RuntimeWarning: invalid value encountered in double_scalars\n",
      "  ret = ret.dtype.type(ret / rcount)\n"
     ]
    },
    {
     "name": "stdout",
     "output_type": "stream",
     "text": [
      " > > 3 \t Fit vs Val (MAc) = 0.736 vs nan\n",
      " > > 3 \t Fit vs Val (MAc) = 0.743 vs 0.524\n",
      " > > 3 \t Fit vs Val (MAc) = 0.746 vs 0.561\n",
      " > > 3 \t Fit vs Val (MAc) = 0.753 vs 0.256\n",
      " > > 3 \t Fit vs Val (MAc) = 0.746 vs 0.534\n",
      " > > 3 \t Fit vs Val (MAc) = 0.717 vs 0.953\n",
      " > > BEST-TH: 120.000 (5.962)\n",
      " > > TEST Score : 0.581\n",
      "> 4\n",
      " > > 4 \t Fit vs Val (MAc) = 0.790 vs 0.380\n",
      " > > 4 \t Fit vs Val (MAc) = 0.771 vs 0.861\n",
      " > > 4 \t Fit vs Val (MAc) = 0.773 vs 0.825\n",
      " > > 4 \t Fit vs Val (MAc) = 0.765 vs 0.955\n",
      " > > 4 \t Fit vs Val (MAc) = 0.772 vs 0.956\n",
      " > > 4 \t Fit vs Val (MAc) = 0.767 vs 0.949\n",
      " > > 4 \t Fit vs Val (MAc) = 0.778 vs 0.705\n",
      " > > 4 \t Fit vs Val (MAc) = 0.753 vs 0.985\n",
      " > > 4 \t Fit vs Val (MAc) = 0.773 vs 0.779\n",
      " > > 4 \t Fit vs Val (MAc) = 0.779 vs 0.638\n",
      " > > 4 \t Fit vs Val (MAc) = 0.857 vs 0.446\n"
     ]
    },
    {
     "name": "stderr",
     "output_type": "stream",
     "text": [
      "/store/tveiga/miniconda3/envs/py/lib/python3.7/site-packages/numpy/lib/function_base.py:356: RuntimeWarning: Mean of empty slice.\n",
      "  avg = a.mean(axis)\n",
      "/store/tveiga/miniconda3/envs/py/lib/python3.7/site-packages/numpy/core/_methods.py:85: RuntimeWarning: invalid value encountered in double_scalars\n",
      "  ret = ret.dtype.type(ret / rcount)\n"
     ]
    },
    {
     "name": "stdout",
     "output_type": "stream",
     "text": [
      " > > 4 \t Fit vs Val (MAc) = 0.777 vs nan\n",
      " > > 4 \t Fit vs Val (MAc) = 0.792 vs 0.328\n",
      " > > 4 \t Fit vs Val (MAc) = 0.774 vs 0.934\n",
      " > > 4 \t Fit vs Val (MAc) = 0.798 vs 0.187\n",
      " > > 4 \t Fit vs Val (MAc) = 0.781 vs 0.582\n",
      " > > 4 \t Fit vs Val (MAc) = 0.759 vs 0.950\n",
      " > > BEST-TH: 138.000 (8.065)\n",
      " > > TEST Score : 0.866\n",
      "> 5\n",
      " > > 5 \t Fit vs Val (MAc) = 0.889 vs 0.992\n",
      " > > 5 \t Fit vs Val (MAc) = 0.892 vs 0.980\n",
      " > > 5 \t Fit vs Val (MAc) = 0.907 vs 0.887\n",
      " > > 5 \t Fit vs Val (MAc) = 0.890 vs 0.957\n",
      " > > 5 \t Fit vs Val (MAc) = 0.896 vs 0.958\n",
      " > > 5 \t Fit vs Val (MAc) = 0.893 vs 0.970\n",
      " > > 5 \t Fit vs Val (MAc) = 0.892 vs 0.967\n",
      " > > 5 \t Fit vs Val (MAc) = 0.874 vs 0.986\n",
      " > > 5 \t Fit vs Val (MAc) = 0.896 vs 0.954\n",
      " > > 5 \t Fit vs Val (MAc) = 0.891 vs 0.960\n",
      " > > 5 \t Fit vs Val (MAc) = 0.852 vs 0.815\n"
     ]
    },
    {
     "name": "stderr",
     "output_type": "stream",
     "text": [
      "/store/tveiga/miniconda3/envs/py/lib/python3.7/site-packages/numpy/lib/function_base.py:356: RuntimeWarning: Mean of empty slice.\n",
      "  avg = a.mean(axis)\n",
      "/store/tveiga/miniconda3/envs/py/lib/python3.7/site-packages/numpy/core/_methods.py:85: RuntimeWarning: invalid value encountered in double_scalars\n",
      "  ret = ret.dtype.type(ret / rcount)\n"
     ]
    },
    {
     "name": "stdout",
     "output_type": "stream",
     "text": [
      " > > 5 \t Fit vs Val (MAc) = 0.891 vs nan\n",
      " > > 5 \t Fit vs Val (MAc) = 0.890 vs 0.984\n",
      " > > 5 \t Fit vs Val (MAc) = 0.902 vs 0.803\n",
      " > > 5 \t Fit vs Val (MAc) = 0.891 vs 0.930\n",
      " > > 5 \t Fit vs Val (MAc) = 0.904 vs 0.685\n",
      " > > 5 \t Fit vs Val (MAc) = 0.879 vs 0.959\n",
      " > > BEST-TH: 174.000 (9.898)\n",
      " > > TEST Score : 0.547\n",
      "> 6\n",
      " > > 6 \t Fit vs Val (MAc) = 0.679 vs 0.781\n",
      " > > 6 \t Fit vs Val (MAc) = 0.683 vs 0.731\n",
      " > > 6 \t Fit vs Val (MAc) = 0.693 vs 0.701\n",
      " > > 6 \t Fit vs Val (MAc) = 0.671 vs 0.655\n",
      " > > 6 \t Fit vs Val (MAc) = 0.681 vs 0.842\n",
      " > > 6 \t Fit vs Val (MAc) = 0.682 vs 0.607\n",
      " > > 6 \t Fit vs Val (MAc) = 0.679 vs 0.803\n",
      " > > 6 \t Fit vs Val (MAc) = 0.680 vs 0.728\n",
      " > > 6 \t Fit vs Val (MAc) = 0.686 vs 0.575\n",
      " > > 6 \t Fit vs Val (MAc) = 0.682 vs 0.679\n",
      " > > 6 \t Fit vs Val (MAc) = 0.727 vs 0.556\n"
     ]
    },
    {
     "name": "stderr",
     "output_type": "stream",
     "text": [
      "/store/tveiga/miniconda3/envs/py/lib/python3.7/site-packages/numpy/lib/function_base.py:356: RuntimeWarning: Mean of empty slice.\n",
      "  avg = a.mean(axis)\n",
      "/store/tveiga/miniconda3/envs/py/lib/python3.7/site-packages/numpy/core/_methods.py:85: RuntimeWarning: invalid value encountered in double_scalars\n",
      "  ret = ret.dtype.type(ret / rcount)\n"
     ]
    },
    {
     "name": "stdout",
     "output_type": "stream",
     "text": [
      " > > 6 \t Fit vs Val (MAc) = 0.680 vs nan\n",
      " > > 6 \t Fit vs Val (MAc) = 0.681 vs 0.737\n",
      " > > 6 \t Fit vs Val (MAc) = 0.680 vs 0.821\n",
      " > > 6 \t Fit vs Val (MAc) = 0.683 vs 0.679\n",
      " > > 6 \t Fit vs Val (MAc) = 0.679 vs 0.738\n",
      " > > 6 \t Fit vs Val (MAc) = 0.643 vs 0.831\n",
      " > > BEST-TH: 115.000 (3.849)\n",
      " > > TEST Score : 0.587\n",
      "> 7\n",
      " > > 7 \t Fit vs Val (MAc) = 0.820 vs 0.876\n",
      " > > 7 \t Fit vs Val (MAc) = 0.819 vs 0.881\n",
      " > > 7 \t Fit vs Val (MAc) = 0.824 vs 0.808\n",
      " > > 7 \t Fit vs Val (MAc) = 0.818 vs 0.954\n",
      " > > 7 \t Fit vs Val (MAc) = 0.823 vs 0.872\n",
      " > > 7 \t Fit vs Val (MAc) = 0.818 vs 0.969\n",
      " > > 7 \t Fit vs Val (MAc) = 0.822 vs 0.866\n",
      " > > 7 \t Fit vs Val (MAc) = 0.803 vs 0.982\n",
      " > > 7 \t Fit vs Val (MAc) = 0.824 vs 0.786\n",
      " > > 7 \t Fit vs Val (MAc) = 0.826 vs 0.768\n",
      " > > 7 \t Fit vs Val (MAc) = 0.830 vs 0.761\n"
     ]
    },
    {
     "name": "stderr",
     "output_type": "stream",
     "text": [
      "/store/tveiga/miniconda3/envs/py/lib/python3.7/site-packages/numpy/lib/function_base.py:356: RuntimeWarning: Mean of empty slice.\n",
      "  avg = a.mean(axis)\n",
      "/store/tveiga/miniconda3/envs/py/lib/python3.7/site-packages/numpy/core/_methods.py:85: RuntimeWarning: invalid value encountered in double_scalars\n",
      "  ret = ret.dtype.type(ret / rcount)\n"
     ]
    },
    {
     "name": "stdout",
     "output_type": "stream",
     "text": [
      " > > 7 \t Fit vs Val (MAc) = 0.823 vs nan\n",
      " > > 7 \t Fit vs Val (MAc) = 0.827 vs 0.698\n",
      " > > 7 \t Fit vs Val (MAc) = 0.836 vs 0.587\n",
      " > > 7 \t Fit vs Val (MAc) = 0.830 vs 0.603\n",
      " > > 7 \t Fit vs Val (MAc) = 0.833 vs 0.649\n",
      " > > 7 \t Fit vs Val (MAc) = 0.811 vs 0.960\n",
      " > > BEST-TH: 99.000 (3.129)\n",
      " > > TEST Score : 0.692\n",
      "> 8\n",
      " > > 8 \t Fit vs Val (MAc) = 0.796 vs 0.476\n",
      " > > 8 \t Fit vs Val (MAc) = 0.784 vs 0.755\n",
      " > > 8 \t Fit vs Val (MAc) = 0.782 vs 0.836\n",
      " > > 8 \t Fit vs Val (MAc) = 0.771 vs 0.937\n",
      " > > 8 \t Fit vs Val (MAc) = 0.781 vs 0.889\n",
      " > > 8 \t Fit vs Val (MAc) = 0.776 vs 0.947\n",
      " > > 8 \t Fit vs Val (MAc) = 0.781 vs 0.880\n",
      " > > 8 \t Fit vs Val (MAc) = 0.754 vs 0.984\n",
      " > > 8 \t Fit vs Val (MAc) = 0.779 vs 0.861\n",
      " > > 8 \t Fit vs Val (MAc) = 0.778 vs 0.959\n",
      " > > 8 \t Fit vs Val (MAc) = 0.875 vs 0.445\n"
     ]
    },
    {
     "name": "stderr",
     "output_type": "stream",
     "text": [
      "/store/tveiga/miniconda3/envs/py/lib/python3.7/site-packages/numpy/lib/function_base.py:356: RuntimeWarning: Mean of empty slice.\n",
      "  avg = a.mean(axis)\n",
      "/store/tveiga/miniconda3/envs/py/lib/python3.7/site-packages/numpy/core/_methods.py:85: RuntimeWarning: invalid value encountered in double_scalars\n",
      "  ret = ret.dtype.type(ret / rcount)\n"
     ]
    },
    {
     "name": "stdout",
     "output_type": "stream",
     "text": [
      " > > 8 \t Fit vs Val (MAc) = 0.784 vs nan\n",
      " > > 8 \t Fit vs Val (MAc) = 0.800 vs 0.374\n",
      " > > 8 \t Fit vs Val (MAc) = 0.783 vs 0.956\n",
      " > > 8 \t Fit vs Val (MAc) = 0.794 vs 0.511\n",
      " > > 8 \t Fit vs Val (MAc) = 0.784 vs 0.767\n",
      " > > 8 \t Fit vs Val (MAc) = 0.761 vs 0.957\n",
      " > > BEST-TH: 120.000 (5.189)\n",
      " > > TEST Score : 0.889\n",
      "> 9\n",
      " > > 9 \t Fit vs Val (MAc) = 0.892 vs 0.992\n",
      " > > 9 \t Fit vs Val (MAc) = 0.895 vs 0.973\n",
      " > > 9 \t Fit vs Val (MAc) = 0.907 vs 0.874\n",
      " > > 9 \t Fit vs Val (MAc) = 0.893 vs 0.965\n",
      " > > 9 \t Fit vs Val (MAc) = 0.899 vs 0.963\n",
      " > > 9 \t Fit vs Val (MAc) = 0.895 vs 0.979\n",
      " > > 9 \t Fit vs Val (MAc) = 0.896 vs 0.950\n",
      " > > 9 \t Fit vs Val (MAc) = 0.878 vs 0.982\n",
      " > > 9 \t Fit vs Val (MAc) = 0.899 vs 0.962\n",
      " > > 9 \t Fit vs Val (MAc) = 0.895 vs 0.979\n",
      " > > 9 \t Fit vs Val (MAc) = 0.858 vs 0.932\n"
     ]
    },
    {
     "name": "stderr",
     "output_type": "stream",
     "text": [
      "/store/tveiga/miniconda3/envs/py/lib/python3.7/site-packages/numpy/lib/function_base.py:356: RuntimeWarning: Mean of empty slice.\n",
      "  avg = a.mean(axis)\n",
      "/store/tveiga/miniconda3/envs/py/lib/python3.7/site-packages/numpy/core/_methods.py:85: RuntimeWarning: invalid value encountered in double_scalars\n",
      "  ret = ret.dtype.type(ret / rcount)\n"
     ]
    },
    {
     "name": "stdout",
     "output_type": "stream",
     "text": [
      " > > 9 \t Fit vs Val (MAc) = 0.894 vs nan\n",
      " > > 9 \t Fit vs Val (MAc) = 0.895 vs 0.934\n",
      " > > 9 \t Fit vs Val (MAc) = 0.903 vs 0.867\n",
      " > > 9 \t Fit vs Val (MAc) = 0.899 vs 0.805\n",
      " > > 9 \t Fit vs Val (MAc) = 0.908 vs 0.645\n",
      " > > 9 \t Fit vs Val (MAc) = 0.883 vs 0.964\n",
      " > > BEST-TH: 126.000 (3.382)\n",
      " > > TEST Score : 0.753\n",
      "> 10\n",
      " > > 10 \t Fit vs Val (MAc) = 0.723 vs 0.779\n",
      " > > 10 \t Fit vs Val (MAc) = 0.728 vs 0.712\n",
      " > > 10 \t Fit vs Val (MAc) = 0.733 vs 0.655\n",
      " > > 10 \t Fit vs Val (MAc) = 0.714 vs 0.742\n",
      " > > 10 \t Fit vs Val (MAc) = 0.725 vs 0.800\n",
      " > > 10 \t Fit vs Val (MAc) = 0.727 vs 0.596\n",
      " > > 10 \t Fit vs Val (MAc) = 0.721 vs 0.859\n",
      " > > 10 \t Fit vs Val (MAc) = 0.704 vs 0.831\n",
      " > > 10 \t Fit vs Val (MAc) = 0.727 vs 0.649\n",
      " > > 10 \t Fit vs Val (MAc) = 0.722 vs 0.810\n",
      " > > 10 \t Fit vs Val (MAc) = 0.790 vs 0.549\n"
     ]
    },
    {
     "name": "stderr",
     "output_type": "stream",
     "text": [
      "/store/tveiga/miniconda3/envs/py/lib/python3.7/site-packages/numpy/lib/function_base.py:356: RuntimeWarning: Mean of empty slice.\n",
      "  avg = a.mean(axis)\n",
      "/store/tveiga/miniconda3/envs/py/lib/python3.7/site-packages/numpy/core/_methods.py:85: RuntimeWarning: invalid value encountered in double_scalars\n",
      "  ret = ret.dtype.type(ret / rcount)\n"
     ]
    },
    {
     "name": "stdout",
     "output_type": "stream",
     "text": [
      " > > 10 \t Fit vs Val (MAc) = 0.723 vs nan\n",
      " > > 10 \t Fit vs Val (MAc) = 0.726 vs 0.715\n",
      " > > 10 \t Fit vs Val (MAc) = 0.722 vs 0.851\n",
      " > > 10 \t Fit vs Val (MAc) = 0.721 vs 0.849\n",
      " > > 10 \t Fit vs Val (MAc) = 0.722 vs 0.795\n",
      " > > 10 \t Fit vs Val (MAc) = 0.691 vs 0.874\n",
      " > > BEST-TH: 116.000 (2.854)\n",
      " > > TEST Score : 0.723\n",
      "> 11\n",
      " > > 11 \t Fit vs Val (MAc) = 0.824 vs 0.924\n",
      " > > 11 \t Fit vs Val (MAc) = 0.825 vs 0.922\n",
      " > > 11 \t Fit vs Val (MAc) = 0.833 vs 0.757\n",
      " > > 11 \t Fit vs Val (MAc) = 0.824 vs 0.926\n",
      " > > 11 \t Fit vs Val (MAc) = 0.827 vs 0.954\n",
      " > > 11 \t Fit vs Val (MAc) = 0.822 vs 0.976\n",
      " > > 11 \t Fit vs Val (MAc) = 0.832 vs 0.723\n",
      " > > 11 \t Fit vs Val (MAc) = 0.808 vs 0.970\n",
      " > > 11 \t Fit vs Val (MAc) = 0.828 vs 0.935\n",
      " > > 11 \t Fit vs Val (MAc) = 0.827 vs 0.909\n",
      " > > 11 \t Fit vs Val (MAc) = 0.831 vs 0.801\n"
     ]
    },
    {
     "name": "stderr",
     "output_type": "stream",
     "text": [
      "/store/tveiga/miniconda3/envs/py/lib/python3.7/site-packages/numpy/lib/function_base.py:356: RuntimeWarning: Mean of empty slice.\n",
      "  avg = a.mean(axis)\n",
      "/store/tveiga/miniconda3/envs/py/lib/python3.7/site-packages/numpy/core/_methods.py:85: RuntimeWarning: invalid value encountered in double_scalars\n",
      "  ret = ret.dtype.type(ret / rcount)\n"
     ]
    },
    {
     "name": "stdout",
     "output_type": "stream",
     "text": [
      " > > 11 \t Fit vs Val (MAc) = 0.828 vs nan\n",
      " > > 11 \t Fit vs Val (MAc) = 0.827 vs 0.863\n",
      " > > 11 \t Fit vs Val (MAc) = 0.842 vs 0.575\n",
      " > > 11 \t Fit vs Val (MAc) = 0.845 vs 0.381\n",
      " > > 11 \t Fit vs Val (MAc) = 0.842 vs 0.523\n",
      " > > 11 \t Fit vs Val (MAc) = 0.813 vs 0.956\n",
      " > > BEST-TH: 78.000 (2.326)\n",
      " > > TEST Score : 0.744\n",
      "> 12\n",
      " > > 12 \t Fit vs Val (MAc) = 0.785 vs 0.861\n",
      " > > 12 \t Fit vs Val (MAc) = 0.785 vs 0.908\n",
      " > > 12 \t Fit vs Val (MAc) = 0.788 vs 0.724\n",
      " > > 12 \t Fit vs Val (MAc) = 0.774 vs 0.930\n",
      " > > 12 \t Fit vs Val (MAc) = 0.785 vs 0.904\n",
      " > > 12 \t Fit vs Val (MAc) = 0.781 vs 0.948\n",
      " > > 12 \t Fit vs Val (MAc) = 0.783 vs 0.969\n",
      " > > 12 \t Fit vs Val (MAc) = 0.750 vs 0.984\n",
      " > > 12 \t Fit vs Val (MAc) = 0.789 vs 0.683\n",
      " > > 12 \t Fit vs Val (MAc) = 0.783 vs 0.951\n",
      " > > 12 \t Fit vs Val (MAc) = 0.882 vs 0.455\n"
     ]
    },
    {
     "name": "stderr",
     "output_type": "stream",
     "text": [
      "/store/tveiga/miniconda3/envs/py/lib/python3.7/site-packages/numpy/lib/function_base.py:356: RuntimeWarning: Mean of empty slice.\n",
      "  avg = a.mean(axis)\n",
      "/store/tveiga/miniconda3/envs/py/lib/python3.7/site-packages/numpy/core/_methods.py:85: RuntimeWarning: invalid value encountered in double_scalars\n",
      "  ret = ret.dtype.type(ret / rcount)\n"
     ]
    },
    {
     "name": "stdout",
     "output_type": "stream",
     "text": [
      " > > 12 \t Fit vs Val (MAc) = 0.785 vs nan\n",
      " > > 12 \t Fit vs Val (MAc) = 0.787 vs 0.826\n",
      " > > 12 \t Fit vs Val (MAc) = 0.786 vs 0.933\n",
      " > > 12 \t Fit vs Val (MAc) = 0.792 vs 0.664\n",
      " > > 12 \t Fit vs Val (MAc) = 0.787 vs 0.818\n",
      " > > 12 \t Fit vs Val (MAc) = 0.756 vs 0.955\n",
      " > > BEST-TH: 91.000 (2.745)\n",
      " > > TEST Score : 0.869\n",
      "> 13\n",
      " > > 13 \t Fit vs Val (MAc) = 0.891 vs 0.960\n",
      " > > 13 \t Fit vs Val (MAc) = 0.893 vs 0.956\n",
      " > > 13 \t Fit vs Val (MAc) = 0.907 vs 0.875\n",
      " > > 13 \t Fit vs Val (MAc) = 0.891 vs 0.955\n",
      " > > 13 \t Fit vs Val (MAc) = 0.896 vs 0.950\n",
      " > > 13 \t Fit vs Val (MAc) = 0.892 vs 0.977\n",
      " > > 13 \t Fit vs Val (MAc) = 0.894 vs 0.932\n",
      " > > 13 \t Fit vs Val (MAc) = 0.876 vs 0.972\n",
      " > > 13 \t Fit vs Val (MAc) = 0.895 vs 0.958\n",
      " > > 13 \t Fit vs Val (MAc) = 0.893 vs 0.962\n",
      " > > 13 \t Fit vs Val (MAc) = 0.862 vs 0.952\n"
     ]
    },
    {
     "name": "stderr",
     "output_type": "stream",
     "text": [
      "/store/tveiga/miniconda3/envs/py/lib/python3.7/site-packages/numpy/lib/function_base.py:356: RuntimeWarning: Mean of empty slice.\n",
      "  avg = a.mean(axis)\n",
      "/store/tveiga/miniconda3/envs/py/lib/python3.7/site-packages/numpy/core/_methods.py:85: RuntimeWarning: invalid value encountered in double_scalars\n",
      "  ret = ret.dtype.type(ret / rcount)\n"
     ]
    },
    {
     "name": "stdout",
     "output_type": "stream",
     "text": [
      " > > 13 \t Fit vs Val (MAc) = 0.892 vs nan\n",
      " > > 13 \t Fit vs Val (MAc) = 0.892 vs 0.936\n",
      " > > 13 \t Fit vs Val (MAc) = 0.898 vs 0.908\n",
      " > > 13 \t Fit vs Val (MAc) = 0.900 vs 0.716\n",
      " > > 13 \t Fit vs Val (MAc) = 0.902 vs 0.713\n",
      " > > 13 \t Fit vs Val (MAc) = 0.882 vs 0.957\n",
      " > > BEST-TH: 99.000 (1.032)\n",
      " > > TEST Score : 0.811\n",
      "> 14\n",
      " > > 14 \t Fit vs Val (MAc) = 0.728 vs 0.640\n",
      " > > 14 \t Fit vs Val (MAc) = 0.724 vs 0.782\n",
      " > > 14 \t Fit vs Val (MAc) = 0.731 vs 0.808\n",
      " > > 14 \t Fit vs Val (MAc) = 0.713 vs 0.625\n",
      " > > 14 \t Fit vs Val (MAc) = 0.722 vs 0.874\n",
      " > > 14 \t Fit vs Val (MAc) = 0.720 vs 0.765\n",
      " > > 14 \t Fit vs Val (MAc) = 0.719 vs 0.916\n",
      " > > 14 \t Fit vs Val (MAc) = 0.686 vs 0.907\n",
      " > > 14 \t Fit vs Val (MAc) = 0.721 vs 0.800\n",
      " > > 14 \t Fit vs Val (MAc) = 0.719 vs 0.879\n",
      " > > 14 \t Fit vs Val (MAc) = 0.811 vs 0.440\n"
     ]
    },
    {
     "name": "stderr",
     "output_type": "stream",
     "text": [
      "/store/tveiga/miniconda3/envs/py/lib/python3.7/site-packages/numpy/lib/function_base.py:356: RuntimeWarning: Mean of empty slice.\n",
      "  avg = a.mean(axis)\n",
      "/store/tveiga/miniconda3/envs/py/lib/python3.7/site-packages/numpy/core/_methods.py:85: RuntimeWarning: invalid value encountered in double_scalars\n",
      "  ret = ret.dtype.type(ret / rcount)\n"
     ]
    },
    {
     "name": "stdout",
     "output_type": "stream",
     "text": [
      " > > 14 \t Fit vs Val (MAc) = 0.720 vs nan\n",
      " > > 14 \t Fit vs Val (MAc) = 0.720 vs 0.871\n",
      " > > 14 \t Fit vs Val (MAc) = 0.720 vs 0.910\n",
      " > > 14 \t Fit vs Val (MAc) = 0.718 vs 0.917\n",
      " > > 14 \t Fit vs Val (MAc) = 0.719 vs 0.897\n",
      " > > 14 \t Fit vs Val (MAc) = 0.681 vs 0.937\n",
      " > > BEST-TH: 102.000 (2.274)\n",
      " > > TEST Score : 0.801\n",
      "> 15\n",
      " > > 15 \t Fit vs Val (MAc) = 0.841 vs 0.854\n",
      " > > 15 \t Fit vs Val (MAc) = 0.840 vs 0.927\n",
      " > > 15 \t Fit vs Val (MAc) = 0.851 vs 0.832\n",
      " > > 15 \t Fit vs Val (MAc) = 0.839 vs 0.905\n",
      " > > 15 \t Fit vs Val (MAc) = 0.842 vs 0.942\n",
      " > > 15 \t Fit vs Val (MAc) = 0.838 vs 0.964\n",
      " > > 15 \t Fit vs Val (MAc) = 0.841 vs 0.874\n",
      " > > 15 \t Fit vs Val (MAc) = 0.820 vs 0.893\n",
      " > > 15 \t Fit vs Val (MAc) = 0.841 vs 0.936\n",
      " > > 15 \t Fit vs Val (MAc) = 0.843 vs 0.828\n",
      " > > 15 \t Fit vs Val (MAc) = 0.829 vs 0.834\n"
     ]
    },
    {
     "name": "stderr",
     "output_type": "stream",
     "text": [
      "/store/tveiga/miniconda3/envs/py/lib/python3.7/site-packages/numpy/lib/function_base.py:356: RuntimeWarning: Mean of empty slice.\n",
      "  avg = a.mean(axis)\n",
      "/store/tveiga/miniconda3/envs/py/lib/python3.7/site-packages/numpy/core/_methods.py:85: RuntimeWarning: invalid value encountered in double_scalars\n",
      "  ret = ret.dtype.type(ret / rcount)\n"
     ]
    },
    {
     "name": "stdout",
     "output_type": "stream",
     "text": [
      " > > 15 \t Fit vs Val (MAc) = 0.840 vs nan\n",
      " > > 15 \t Fit vs Val (MAc) = 0.842 vs 0.814\n",
      " > > 15 \t Fit vs Val (MAc) = 0.847 vs 0.803\n",
      " > > 15 \t Fit vs Val (MAc) = 0.843 vs 0.779\n",
      " > > 15 \t Fit vs Val (MAc) = 0.853 vs 0.579\n",
      " > > 15 \t Fit vs Val (MAc) = 0.825 vs 0.933\n",
      " > > BEST-TH: 49.000 (1.185)\n",
      " > > TEST Score : 0.753\n",
      "> 16\n",
      " > > 16 \t Fit vs Val (MAc) = 0.841 vs 0.873\n",
      " > > 16 \t Fit vs Val (MAc) = 0.842 vs 0.892\n",
      " > > 16 \t Fit vs Val (MAc) = 0.853 vs 0.672\n",
      " > > 16 \t Fit vs Val (MAc) = 0.839 vs 0.889\n",
      " > > 16 \t Fit vs Val (MAc) = 0.845 vs 0.862\n",
      " > > 16 \t Fit vs Val (MAc) = 0.843 vs 0.827\n",
      " > > 16 \t Fit vs Val (MAc) = 0.845 vs 0.793\n",
      " > > 16 \t Fit vs Val (MAc) = 0.825 vs 0.965\n",
      " > > 16 \t Fit vs Val (MAc) = 0.846 vs 0.750\n",
      " > > 16 \t Fit vs Val (MAc) = 0.842 vs 0.866\n",
      " > > 16 \t Fit vs Val (MAc) = 0.862 vs 0.696\n"
     ]
    },
    {
     "name": "stderr",
     "output_type": "stream",
     "text": [
      "/store/tveiga/miniconda3/envs/py/lib/python3.7/site-packages/numpy/lib/function_base.py:356: RuntimeWarning: Mean of empty slice.\n",
      "  avg = a.mean(axis)\n",
      "/store/tveiga/miniconda3/envs/py/lib/python3.7/site-packages/numpy/core/_methods.py:85: RuntimeWarning: invalid value encountered in double_scalars\n",
      "  ret = ret.dtype.type(ret / rcount)\n"
     ]
    },
    {
     "name": "stdout",
     "output_type": "stream",
     "text": [
      " > > 16 \t Fit vs Val (MAc) = 0.843 vs nan\n",
      " > > 16 \t Fit vs Val (MAc) = 0.844 vs 0.792\n",
      " > > 16 \t Fit vs Val (MAc) = 0.845 vs 0.854\n",
      " > > 16 \t Fit vs Val (MAc) = 0.847 vs 0.716\n",
      " > > 16 \t Fit vs Val (MAc) = 0.847 vs 0.741\n",
      " > > 16 \t Fit vs Val (MAc) = 0.829 vs 0.932\n",
      " > > BEST-TH: 79.000 (2.269)\n",
      " > > TEST Score : 0.855\n",
      "> 17\n",
      " > > 17 \t Fit vs Val (MAc) = 0.878 vs 0.934\n",
      " > > 17 \t Fit vs Val (MAc) = 0.880 vs 0.960\n",
      " > > 17 \t Fit vs Val (MAc) = 0.892 vs 0.799\n",
      " > > 17 \t Fit vs Val (MAc) = 0.878 vs 0.931\n",
      " > > 17 \t Fit vs Val (MAc) = 0.883 vs 0.924\n",
      " > > 17 \t Fit vs Val (MAc) = 0.879 vs 0.935\n",
      " > > 17 \t Fit vs Val (MAc) = 0.882 vs 0.874\n",
      " > > 17 \t Fit vs Val (MAc) = 0.863 vs 0.970\n",
      " > > 17 \t Fit vs Val (MAc) = 0.882 vs 0.876\n",
      " > > 17 \t Fit vs Val (MAc) = 0.880 vs 0.915\n",
      " > > 17 \t Fit vs Val (MAc) = 0.866 vs 0.856\n"
     ]
    },
    {
     "name": "stderr",
     "output_type": "stream",
     "text": [
      "/store/tveiga/miniconda3/envs/py/lib/python3.7/site-packages/numpy/lib/function_base.py:356: RuntimeWarning: Mean of empty slice.\n",
      "  avg = a.mean(axis)\n",
      "/store/tveiga/miniconda3/envs/py/lib/python3.7/site-packages/numpy/core/_methods.py:85: RuntimeWarning: invalid value encountered in double_scalars\n",
      "  ret = ret.dtype.type(ret / rcount)\n"
     ]
    },
    {
     "name": "stdout",
     "output_type": "stream",
     "text": [
      " > > 17 \t Fit vs Val (MAc) = 0.880 vs nan\n",
      " > > 17 \t Fit vs Val (MAc) = 0.879 vs 0.915\n",
      " > > 17 \t Fit vs Val (MAc) = 0.885 vs 0.853\n",
      " > > 17 \t Fit vs Val (MAc) = 0.884 vs 0.772\n",
      " > > 17 \t Fit vs Val (MAc) = 0.886 vs 0.764\n",
      " > > 17 \t Fit vs Val (MAc) = 0.868 vs 0.951\n",
      " > > BEST-TH: 86.000 (1.707)\n",
      " > > TEST Score : 0.860\n",
      "> 18\n",
      " > > 18 \t Fit vs Val (MAc) = 0.689 vs 0.758\n",
      " > > 18 \t Fit vs Val (MAc) = 0.691 vs 0.694\n",
      " > > 18 \t Fit vs Val (MAc) = 0.692 vs 0.778\n",
      " > > 18 \t Fit vs Val (MAc) = 0.672 vs 0.853\n",
      " > > 18 \t Fit vs Val (MAc) = 0.689 vs 0.755\n",
      " > > 18 \t Fit vs Val (MAc) = 0.687 vs 0.697\n",
      " > > 18 \t Fit vs Val (MAc) = 0.686 vs 0.832\n",
      " > > 18 \t Fit vs Val (MAc) = 0.663 vs 0.845\n",
      " > > 18 \t Fit vs Val (MAc) = 0.689 vs 0.695\n",
      " > > 18 \t Fit vs Val (MAc) = 0.685 vs 0.881\n",
      " > > 18 \t Fit vs Val (MAc) = 0.787 vs 0.396\n"
     ]
    },
    {
     "name": "stderr",
     "output_type": "stream",
     "text": [
      "/store/tveiga/miniconda3/envs/py/lib/python3.7/site-packages/numpy/lib/function_base.py:356: RuntimeWarning: Mean of empty slice.\n",
      "  avg = a.mean(axis)\n",
      "/store/tveiga/miniconda3/envs/py/lib/python3.7/site-packages/numpy/core/_methods.py:85: RuntimeWarning: invalid value encountered in double_scalars\n",
      "  ret = ret.dtype.type(ret / rcount)\n"
     ]
    },
    {
     "name": "stdout",
     "output_type": "stream",
     "text": [
      " > > 18 \t Fit vs Val (MAc) = 0.687 vs nan\n",
      " > > 18 \t Fit vs Val (MAc) = 0.689 vs 0.760\n",
      " > > 18 \t Fit vs Val (MAc) = 0.685 vs 0.937\n",
      " > > 18 \t Fit vs Val (MAc) = 0.690 vs 0.728\n",
      " > > 18 \t Fit vs Val (MAc) = 0.685 vs 0.901\n",
      " > > 18 \t Fit vs Val (MAc) = 0.645 vs 0.946\n",
      " > > BEST-TH: 74.000 (1.538)\n",
      " > > TEST Score : 0.770\n",
      "> 19\n",
      " > > 19 \t Fit vs Val (MAc) = 0.802 vs 0.872\n",
      " > > 19 \t Fit vs Val (MAc) = 0.803 vs 0.879\n",
      " > > 19 \t Fit vs Val (MAc) = 0.814 vs 0.792\n",
      " > > 19 \t Fit vs Val (MAc) = 0.802 vs 0.815\n",
      " > > 19 \t Fit vs Val (MAc) = 0.805 vs 0.876\n",
      " > > 19 \t Fit vs Val (MAc) = 0.801 vs 0.920\n",
      " > > 19 \t Fit vs Val (MAc) = 0.804 vs 0.835\n",
      " > > 19 \t Fit vs Val (MAc) = 0.780 vs 0.878\n",
      " > > 19 \t Fit vs Val (MAc) = 0.804 vs 0.895\n",
      " > > 19 \t Fit vs Val (MAc) = 0.807 vs 0.762\n",
      " > > 19 \t Fit vs Val (MAc) = 0.816 vs 0.711\n"
     ]
    },
    {
     "name": "stderr",
     "output_type": "stream",
     "text": [
      "/store/tveiga/miniconda3/envs/py/lib/python3.7/site-packages/numpy/lib/function_base.py:356: RuntimeWarning: Mean of empty slice.\n",
      "  avg = a.mean(axis)\n",
      "/store/tveiga/miniconda3/envs/py/lib/python3.7/site-packages/numpy/core/_methods.py:85: RuntimeWarning: invalid value encountered in double_scalars\n",
      "  ret = ret.dtype.type(ret / rcount)\n"
     ]
    },
    {
     "name": "stdout",
     "output_type": "stream",
     "text": [
      " > > 19 \t Fit vs Val (MAc) = 0.803 vs nan\n",
      " > > 19 \t Fit vs Val (MAc) = 0.805 vs 0.788\n",
      " > > 19 \t Fit vs Val (MAc) = 0.810 vs 0.747\n",
      " > > 19 \t Fit vs Val (MAc) = 0.806 vs 0.748\n",
      " > > 19 \t Fit vs Val (MAc) = 0.811 vs 0.659\n",
      " > > 19 \t Fit vs Val (MAc) = 0.785 vs 0.842\n",
      " > > BEST-TH: 31.000 (1.110)\n",
      " > > TEST Score : 0.762\n",
      "> 20\n",
      " > > 20 \t Fit vs Val (MAc) = 0.811 vs 0.831\n",
      " > > 20 \t Fit vs Val (MAc) = 0.813 vs 0.823\n",
      " > > 20 \t Fit vs Val (MAc) = 0.824 vs 0.676\n",
      " > > 20 \t Fit vs Val (MAc) = 0.809 vs 0.844\n",
      " > > 20 \t Fit vs Val (MAc) = 0.816 vs 0.772\n",
      " > > 20 \t Fit vs Val (MAc) = 0.813 vs 0.789\n",
      " > > 20 \t Fit vs Val (MAc) = 0.814 vs 0.776\n",
      " > > 20 \t Fit vs Val (MAc) = 0.795 vs 0.807\n",
      " > > 20 \t Fit vs Val (MAc) = 0.816 vs 0.739\n",
      " > > 20 \t Fit vs Val (MAc) = 0.811 vs 0.858\n",
      " > > 20 \t Fit vs Val (MAc) = 0.840 vs 0.581\n"
     ]
    },
    {
     "name": "stderr",
     "output_type": "stream",
     "text": [
      "/store/tveiga/miniconda3/envs/py/lib/python3.7/site-packages/numpy/lib/function_base.py:356: RuntimeWarning: Mean of empty slice.\n",
      "  avg = a.mean(axis)\n",
      "/store/tveiga/miniconda3/envs/py/lib/python3.7/site-packages/numpy/core/_methods.py:85: RuntimeWarning: invalid value encountered in double_scalars\n",
      "  ret = ret.dtype.type(ret / rcount)\n"
     ]
    },
    {
     "name": "stdout",
     "output_type": "stream",
     "text": [
      " > > 20 \t Fit vs Val (MAc) = 0.812 vs nan\n",
      " > > 20 \t Fit vs Val (MAc) = 0.812 vs 0.799\n",
      " > > 20 \t Fit vs Val (MAc) = 0.815 vs 0.791\n",
      " > > 20 \t Fit vs Val (MAc) = 0.809 vs 0.862\n",
      " > > 20 \t Fit vs Val (MAc) = 0.812 vs 0.842\n",
      " > > 20 \t Fit vs Val (MAc) = 0.798 vs 0.828\n",
      " > > BEST-TH: 0.306 (0.012)\n",
      " > > TEST Score : 0.826\n",
      "Experiment [1] [0]\n",
      "> 0\n",
      " > > 0 \t Fit vs Val (MAc) = 0.795 vs 0.371\n",
      " > > 0 \t Fit vs Val (MAc) = 0.780 vs 0.837\n",
      " > > 0 \t Fit vs Val (MAc) = 0.782 vs 0.786\n",
      " > > 0 \t Fit vs Val (MAc) = 0.778 vs 0.946\n",
      " > > 0 \t Fit vs Val (MAc) = 0.784 vs 0.683\n",
      " > > 0 \t Fit vs Val (MAc) = 0.777 vs 0.908\n",
      " > > 0 \t Fit vs Val (MAc) = 0.786 vs 0.674\n",
      " > > 0 \t Fit vs Val (MAc) = 0.766 vs 0.984\n",
      " > > 0 \t Fit vs Val (MAc) = 0.779 vs 0.932\n",
      " > > 0 \t Fit vs Val (MAc) = 0.785 vs 0.647\n",
      " > > 0 \t Fit vs Val (MAc) = 0.784 vs 0.727\n"
     ]
    },
    {
     "name": "stderr",
     "output_type": "stream",
     "text": [
      "/store/tveiga/miniconda3/envs/py/lib/python3.7/site-packages/numpy/lib/function_base.py:356: RuntimeWarning: Mean of empty slice.\n",
      "  avg = a.mean(axis)\n",
      "/store/tveiga/miniconda3/envs/py/lib/python3.7/site-packages/numpy/core/_methods.py:85: RuntimeWarning: invalid value encountered in double_scalars\n",
      "  ret = ret.dtype.type(ret / rcount)\n"
     ]
    },
    {
     "name": "stdout",
     "output_type": "stream",
     "text": [
      " > > 0 \t Fit vs Val (MAc) = 0.784 vs nan\n",
      " > > 0 \t Fit vs Val (MAc) = 0.797 vs 0.324\n",
      " > > 0 \t Fit vs Val (MAc) = 0.786 vs 0.784\n",
      " > > 0 \t Fit vs Val (MAc) = 0.798 vs 0.270\n",
      " > > 0 \t Fit vs Val (MAc) = 0.792 vs 0.452\n",
      " > > 0 \t Fit vs Val (MAc) = 0.771 vs 0.947\n",
      " > > 0 \t Fit vs Val (MAc) = 0.778 vs 0.917\n",
      " > > 0 \t Fit vs Val (MAc) = 0.794 vs 0.818\n",
      " > > 0 \t Fit vs Val (MAc) = 0.793 vs 0.859\n",
      " > > BEST-TH: 134.000 (4.910)\n",
      " > > TEST Score : 0.731\n",
      "> 1\n",
      " > > 1 \t Fit vs Val (MAc) = 0.715 vs 0.000\n",
      " > > 1 \t Fit vs Val (MAc) = 0.719 vs 0.022\n",
      " > > 1 \t Fit vs Val (MAc) = 0.743 vs 0.872\n",
      " > > 1 \t Fit vs Val (MAc) = 0.742 vs 0.838\n",
      " > > 1 \t Fit vs Val (MAc) = 0.724 vs 0.044\n",
      " > > 1 \t Fit vs Val (MAc) = 0.745 vs 0.940\n",
      " > > 1 \t Fit vs Val (MAc) = 0.718 vs 0.017\n",
      " > > 1 \t Fit vs Val (MAc) = 0.733 vs 0.605\n",
      " > > 1 \t Fit vs Val (MAc) = 0.724 vs 0.048\n",
      " > > 1 \t Fit vs Val (MAc) = 0.718 vs 0.016\n",
      " > > 1 \t Fit vs Val (MAc) = 0.718 vs 0.239\n"
     ]
    },
    {
     "name": "stderr",
     "output_type": "stream",
     "text": [
      "/store/tveiga/miniconda3/envs/py/lib/python3.7/site-packages/numpy/lib/function_base.py:356: RuntimeWarning: Mean of empty slice.\n",
      "  avg = a.mean(axis)\n",
      "/store/tveiga/miniconda3/envs/py/lib/python3.7/site-packages/numpy/core/_methods.py:85: RuntimeWarning: invalid value encountered in double_scalars\n",
      "  ret = ret.dtype.type(ret / rcount)\n"
     ]
    },
    {
     "name": "stdout",
     "output_type": "stream",
     "text": [
      " > > 1 \t Fit vs Val (MAc) = 0.730 vs nan\n",
      " > > 1 \t Fit vs Val (MAc) = 0.715 vs 0.003\n",
      " > > 1 \t Fit vs Val (MAc) = 0.746 vs 0.958\n",
      " > > 1 \t Fit vs Val (MAc) = 0.715 vs 0.000\n",
      " > > 1 \t Fit vs Val (MAc) = 0.746 vs 0.966\n",
      " > > 1 \t Fit vs Val (MAc) = 0.734 vs 0.628\n",
      " > > 1 \t Fit vs Val (MAc) = 0.722 vs 0.038\n",
      " > > 1 \t Fit vs Val (MAc) = 0.741 vs 0.831\n",
      " > > 1 \t Fit vs Val (MAc) = 0.740 vs 0.778\n",
      " > > BEST-TH: 1.000 (0.000)\n",
      " > > TEST Score : 0.367\n",
      "> 2\n",
      " > > 2 \t Fit vs Val (MAc) = 0.632 vs 0.869\n",
      " > > 2 \t Fit vs Val (MAc) = 0.636 vs 0.787\n",
      " > > 2 \t Fit vs Val (MAc) = 0.645 vs 0.739\n",
      " > > 2 \t Fit vs Val (MAc) = 0.626 vs 0.682\n",
      " > > 2 \t Fit vs Val (MAc) = 0.640 vs 0.713\n",
      " > > 2 \t Fit vs Val (MAc) = 0.631 vs 0.799\n",
      " > > 2 \t Fit vs Val (MAc) = 0.636 vs 0.752\n",
      " > > 2 \t Fit vs Val (MAc) = 0.671 vs 0.645\n",
      " > > 2 \t Fit vs Val (MAc) = 0.634 vs 0.819\n",
      " > > 2 \t Fit vs Val (MAc) = 0.642 vs 0.524\n",
      " > > 2 \t Fit vs Val (MAc) = 0.674 vs 0.402\n"
     ]
    },
    {
     "name": "stderr",
     "output_type": "stream",
     "text": [
      "/store/tveiga/miniconda3/envs/py/lib/python3.7/site-packages/numpy/lib/function_base.py:356: RuntimeWarning: Mean of empty slice.\n",
      "  avg = a.mean(axis)\n",
      "/store/tveiga/miniconda3/envs/py/lib/python3.7/site-packages/numpy/core/_methods.py:85: RuntimeWarning: invalid value encountered in double_scalars\n",
      "  ret = ret.dtype.type(ret / rcount)\n"
     ]
    },
    {
     "name": "stdout",
     "output_type": "stream",
     "text": [
      " > > 2 \t Fit vs Val (MAc) = 0.636 vs nan\n",
      " > > 2 \t Fit vs Val (MAc) = 0.636 vs 0.751\n",
      " > > 2 \t Fit vs Val (MAc) = 0.636 vs 0.774\n",
      " > > 2 \t Fit vs Val (MAc) = 0.637 vs 0.709\n",
      " > > 2 \t Fit vs Val (MAc) = 0.639 vs 0.664\n",
      " > > 2 \t Fit vs Val (MAc) = 0.598 vs 0.896\n",
      " > > 2 \t Fit vs Val (MAc) = 0.635 vs 0.778\n",
      " > > 2 \t Fit vs Val (MAc) = 0.630 vs 0.505\n",
      " > > 2 \t Fit vs Val (MAc) = 0.627 vs 0.495\n",
      " > > BEST-TH: 106.000 (3.306)\n",
      " > > TEST Score : 0.732\n",
      "> 3\n",
      " > > 3 \t Fit vs Val (MAc) = 0.682 vs 0.669\n",
      " > > 3 \t Fit vs Val (MAc) = 0.676 vs 0.839\n",
      " > > 3 \t Fit vs Val (MAc) = 0.677 vs 0.743\n",
      " > > 3 \t Fit vs Val (MAc) = 0.677 vs 0.930\n",
      " > > 3 \t Fit vs Val (MAc) = 0.675 vs 0.845\n",
      " > > 3 \t Fit vs Val (MAc) = 0.677 vs 0.880\n",
      " > > 3 \t Fit vs Val (MAc) = 0.685 vs 0.557\n",
      " > > 3 \t Fit vs Val (MAc) = 0.653 vs 0.972\n",
      " > > 3 \t Fit vs Val (MAc) = 0.679 vs 0.745\n",
      " > > 3 \t Fit vs Val (MAc) = 0.687 vs 0.493\n",
      " > > 3 \t Fit vs Val (MAc) = 0.688 vs 0.504\n"
     ]
    },
    {
     "name": "stderr",
     "output_type": "stream",
     "text": [
      "/store/tveiga/miniconda3/envs/py/lib/python3.7/site-packages/numpy/lib/function_base.py:356: RuntimeWarning: Mean of empty slice.\n",
      "  avg = a.mean(axis)\n",
      "/store/tveiga/miniconda3/envs/py/lib/python3.7/site-packages/numpy/core/_methods.py:85: RuntimeWarning: invalid value encountered in double_scalars\n",
      "  ret = ret.dtype.type(ret / rcount)\n"
     ]
    },
    {
     "name": "stdout",
     "output_type": "stream",
     "text": [
      " > > 3 \t Fit vs Val (MAc) = 0.682 vs nan\n",
      " > > 3 \t Fit vs Val (MAc) = 0.687 vs 0.507\n",
      " > > 3 \t Fit vs Val (MAc) = 0.689 vs 0.548\n",
      " > > 3 \t Fit vs Val (MAc) = 0.696 vs 0.241\n",
      " > > 3 \t Fit vs Val (MAc) = 0.689 vs 0.524\n",
      " > > 3 \t Fit vs Val (MAc) = 0.659 vs 0.954\n",
      " > > 3 \t Fit vs Val (MAc) = 0.675 vs 0.961\n",
      " > > 3 \t Fit vs Val (MAc) = 0.704 vs 0.240\n",
      " > > 3 \t Fit vs Val (MAc) = 0.715 vs 0.361\n",
      " > > BEST-TH: 122.000 (8.967)\n",
      " > > TEST Score : 0.716\n",
      "> 4\n",
      " > > 4 \t Fit vs Val (MAc) = 0.782 vs 0.380\n",
      " > > 4 \t Fit vs Val (MAc) = 0.766 vs 0.854\n",
      " > > 4 \t Fit vs Val (MAc) = 0.766 vs 0.825\n",
      " > > 4 \t Fit vs Val (MAc) = 0.760 vs 0.955\n",
      " > > 4 \t Fit vs Val (MAc) = 0.766 vs 0.948\n",
      " > > 4 \t Fit vs Val (MAc) = 0.763 vs 0.949\n",
      " > > 4 \t Fit vs Val (MAc) = 0.772 vs 0.705\n",
      " > > 4 \t Fit vs Val (MAc) = 0.748 vs 0.985\n",
      " > > 4 \t Fit vs Val (MAc) = 0.768 vs 0.779\n",
      " > > 4 \t Fit vs Val (MAc) = 0.773 vs 0.638\n",
      " > > 4 \t Fit vs Val (MAc) = 0.810 vs 0.543\n"
     ]
    },
    {
     "name": "stderr",
     "output_type": "stream",
     "text": [
      "/store/tveiga/miniconda3/envs/py/lib/python3.7/site-packages/numpy/lib/function_base.py:356: RuntimeWarning: Mean of empty slice.\n",
      "  avg = a.mean(axis)\n",
      "/store/tveiga/miniconda3/envs/py/lib/python3.7/site-packages/numpy/core/_methods.py:85: RuntimeWarning: invalid value encountered in double_scalars\n",
      "  ret = ret.dtype.type(ret / rcount)\n"
     ]
    },
    {
     "name": "stdout",
     "output_type": "stream",
     "text": [
      " > > 4 \t Fit vs Val (MAc) = 0.770 vs nan\n",
      " > > 4 \t Fit vs Val (MAc) = 0.784 vs 0.321\n",
      " > > 4 \t Fit vs Val (MAc) = 0.768 vs 0.934\n",
      " > > 4 \t Fit vs Val (MAc) = 0.789 vs 0.187\n",
      " > > 4 \t Fit vs Val (MAc) = 0.774 vs 0.582\n",
      " > > 4 \t Fit vs Val (MAc) = 0.753 vs 0.950\n",
      " > > 4 \t Fit vs Val (MAc) = 0.766 vs 0.833\n",
      " > > 4 \t Fit vs Val (MAc) = 0.775 vs 0.858\n",
      " > > 4 \t Fit vs Val (MAc) = 0.775 vs 0.878\n",
      " > > BEST-TH: 138.500 (4.544)\n",
      " > > TEST Score : 0.745\n",
      "> 5\n",
      " > > 5 \t Fit vs Val (MAc) = 0.857 vs 0.995\n",
      " > > 5 \t Fit vs Val (MAc) = 0.859 vs 0.980\n",
      " > > 5 \t Fit vs Val (MAc) = 0.872 vs 0.886\n",
      " > > 5 \t Fit vs Val (MAc) = 0.860 vs 0.950\n",
      " > > 5 \t Fit vs Val (MAc) = 0.863 vs 0.959\n",
      " > > 5 \t Fit vs Val (MAc) = 0.861 vs 0.967\n",
      " > > 5 \t Fit vs Val (MAc) = 0.859 vs 0.970\n",
      " > > 5 \t Fit vs Val (MAc) = 0.845 vs 0.985\n",
      " > > 5 \t Fit vs Val (MAc) = 0.863 vs 0.955\n",
      " > > 5 \t Fit vs Val (MAc) = 0.859 vs 0.972\n",
      " > > 5 \t Fit vs Val (MAc) = 0.829 vs 0.859\n"
     ]
    },
    {
     "name": "stderr",
     "output_type": "stream",
     "text": [
      "/store/tveiga/miniconda3/envs/py/lib/python3.7/site-packages/numpy/lib/function_base.py:356: RuntimeWarning: Mean of empty slice.\n",
      "  avg = a.mean(axis)\n",
      "/store/tveiga/miniconda3/envs/py/lib/python3.7/site-packages/numpy/core/_methods.py:85: RuntimeWarning: invalid value encountered in double_scalars\n",
      "  ret = ret.dtype.type(ret / rcount)\n"
     ]
    },
    {
     "name": "stdout",
     "output_type": "stream",
     "text": [
      " > > 5 \t Fit vs Val (MAc) = 0.860 vs nan\n",
      " > > 5 \t Fit vs Val (MAc) = 0.857 vs 0.989\n",
      " > > 5 \t Fit vs Val (MAc) = 0.867 vs 0.817\n",
      " > > 5 \t Fit vs Val (MAc) = 0.858 vs 0.940\n",
      " > > 5 \t Fit vs Val (MAc) = 0.868 vs 0.730\n",
      " > > 5 \t Fit vs Val (MAc) = 0.849 vs 0.962\n",
      " > > 5 \t Fit vs Val (MAc) = 0.862 vs 0.964\n",
      " > > 5 \t Fit vs Val (MAc) = 0.874 vs 0.297\n",
      " > > 5 \t Fit vs Val (MAc) = 0.871 vs 0.396\n",
      " > > BEST-TH: 165.000 (14.039)\n",
      " > > TEST Score : 0.941\n",
      "> 6\n",
      " > > 6 \t Fit vs Val (MAc) = 0.681 vs 0.815\n",
      " > > 6 \t Fit vs Val (MAc) = 0.684 vs 0.766\n",
      " > > 6 \t Fit vs Val (MAc) = 0.694 vs 0.718\n",
      " > > 6 \t Fit vs Val (MAc) = 0.675 vs 0.674\n",
      " > > 6 \t Fit vs Val (MAc) = 0.683 vs 0.862\n",
      " > > 6 \t Fit vs Val (MAc) = 0.683 vs 0.652\n",
      " > > 6 \t Fit vs Val (MAc) = 0.681 vs 0.828\n",
      " > > 6 \t Fit vs Val (MAc) = 0.691 vs 0.699\n",
      " > > 6 \t Fit vs Val (MAc) = 0.686 vs 0.625\n",
      " > > 6 \t Fit vs Val (MAc) = 0.683 vs 0.714\n",
      " > > 6 \t Fit vs Val (MAc) = 0.725 vs 0.548\n"
     ]
    },
    {
     "name": "stderr",
     "output_type": "stream",
     "text": [
      "/store/tveiga/miniconda3/envs/py/lib/python3.7/site-packages/numpy/lib/function_base.py:356: RuntimeWarning: Mean of empty slice.\n",
      "  avg = a.mean(axis)\n",
      "/store/tveiga/miniconda3/envs/py/lib/python3.7/site-packages/numpy/core/_methods.py:85: RuntimeWarning: invalid value encountered in double_scalars\n",
      "  ret = ret.dtype.type(ret / rcount)\n"
     ]
    },
    {
     "name": "stdout",
     "output_type": "stream",
     "text": [
      " > > 6 \t Fit vs Val (MAc) = 0.683 vs nan\n",
      " > > 6 \t Fit vs Val (MAc) = 0.682 vs 0.772\n",
      " > > 6 \t Fit vs Val (MAc) = 0.682 vs 0.840\n",
      " > > 6 \t Fit vs Val (MAc) = 0.684 vs 0.717\n",
      " > > 6 \t Fit vs Val (MAc) = 0.682 vs 0.773\n",
      " > > 6 \t Fit vs Val (MAc) = 0.654 vs 0.854\n",
      " > > 6 \t Fit vs Val (MAc) = 0.689 vs 0.498\n",
      " > > 6 \t Fit vs Val (MAc) = 0.679 vs 0.534\n",
      " > > 6 \t Fit vs Val (MAc) = 0.678 vs 0.696\n",
      " > > BEST-TH: 111.000 (3.556)\n",
      " > > TEST Score : 0.739\n",
      "> 7\n",
      " > > 7 \t Fit vs Val (MAc) = 0.761 vs 0.876\n",
      " > > 7 \t Fit vs Val (MAc) = 0.759 vs 0.881\n",
      " > > 7 \t Fit vs Val (MAc) = 0.761 vs 0.808\n",
      " > > 7 \t Fit vs Val (MAc) = 0.756 vs 0.953\n",
      " > > 7 \t Fit vs Val (MAc) = 0.762 vs 0.872\n",
      " > > 7 \t Fit vs Val (MAc) = 0.757 vs 0.969\n",
      " > > 7 \t Fit vs Val (MAc) = 0.762 vs 0.866\n",
      " > > 7 \t Fit vs Val (MAc) = 0.737 vs 0.982\n",
      " > > 7 \t Fit vs Val (MAc) = 0.763 vs 0.786\n",
      " > > 7 \t Fit vs Val (MAc) = 0.765 vs 0.768\n",
      " > > 7 \t Fit vs Val (MAc) = 0.747 vs 0.751\n"
     ]
    },
    {
     "name": "stderr",
     "output_type": "stream",
     "text": [
      "/store/tveiga/miniconda3/envs/py/lib/python3.7/site-packages/numpy/lib/function_base.py:356: RuntimeWarning: Mean of empty slice.\n",
      "  avg = a.mean(axis)\n",
      "/store/tveiga/miniconda3/envs/py/lib/python3.7/site-packages/numpy/core/_methods.py:85: RuntimeWarning: invalid value encountered in double_scalars\n",
      "  ret = ret.dtype.type(ret / rcount)\n"
     ]
    },
    {
     "name": "stdout",
     "output_type": "stream",
     "text": [
      " > > 7 \t Fit vs Val (MAc) = 0.763 vs nan\n",
      " > > 7 \t Fit vs Val (MAc) = 0.766 vs 0.698\n",
      " > > 7 \t Fit vs Val (MAc) = 0.773 vs 0.587\n",
      " > > 7 \t Fit vs Val (MAc) = 0.769 vs 0.613\n",
      " > > 7 \t Fit vs Val (MAc) = 0.771 vs 0.649\n",
      " > > 7 \t Fit vs Val (MAc) = 0.744 vs 0.960\n",
      " > > 7 \t Fit vs Val (MAc) = 0.761 vs 0.935\n",
      " > > 7 \t Fit vs Val (MAc) = 0.789 vs 0.479\n",
      " > > 7 \t Fit vs Val (MAc) = 0.792 vs 0.501\n",
      " > > BEST-TH: 99.000 (3.076)\n",
      " > > TEST Score : 0.827\n",
      "> 8\n",
      " > > 8 \t Fit vs Val (MAc) = 0.781 vs 0.395\n",
      " > > 8 \t Fit vs Val (MAc) = 0.771 vs 0.675\n",
      " > > 8 \t Fit vs Val (MAc) = 0.767 vs 0.803\n",
      " > > 8 \t Fit vs Val (MAc) = 0.758 vs 0.919\n",
      " > > 8 \t Fit vs Val (MAc) = 0.767 vs 0.840\n",
      " > > 8 \t Fit vs Val (MAc) = 0.763 vs 0.917\n",
      " > > 8 \t Fit vs Val (MAc) = 0.768 vs 0.819\n",
      " > > 8 \t Fit vs Val (MAc) = 0.743 vs 0.979\n",
      " > > 8 \t Fit vs Val (MAc) = 0.767 vs 0.790\n",
      " > > 8 \t Fit vs Val (MAc) = 0.765 vs 0.922\n",
      " > > 8 \t Fit vs Val (MAc) = 0.812 vs 0.526\n"
     ]
    },
    {
     "name": "stderr",
     "output_type": "stream",
     "text": [
      "/store/tveiga/miniconda3/envs/py/lib/python3.7/site-packages/numpy/lib/function_base.py:356: RuntimeWarning: Mean of empty slice.\n",
      "  avg = a.mean(axis)\n",
      "/store/tveiga/miniconda3/envs/py/lib/python3.7/site-packages/numpy/core/_methods.py:85: RuntimeWarning: invalid value encountered in double_scalars\n",
      "  ret = ret.dtype.type(ret / rcount)\n"
     ]
    },
    {
     "name": "stdout",
     "output_type": "stream",
     "text": [
      " > > 8 \t Fit vs Val (MAc) = 0.769 vs nan\n",
      " > > 8 \t Fit vs Val (MAc) = 0.784 vs 0.309\n",
      " > > 8 \t Fit vs Val (MAc) = 0.768 vs 0.950\n",
      " > > 8 \t Fit vs Val (MAc) = 0.780 vs 0.451\n",
      " > > 8 \t Fit vs Val (MAc) = 0.771 vs 0.706\n",
      " > > 8 \t Fit vs Val (MAc) = 0.749 vs 0.954\n",
      " > > 8 \t Fit vs Val (MAc) = 0.764 vs 0.944\n",
      " > > 8 \t Fit vs Val (MAc) = 0.777 vs 0.883\n",
      " > > 8 \t Fit vs Val (MAc) = 0.779 vs 0.867\n",
      " > > BEST-TH: 124.500 (3.945)\n",
      " > > TEST Score : 0.777\n",
      "> 9\n",
      " > > 9 \t Fit vs Val (MAc) = 0.862 vs 0.992\n",
      " > > 9 \t Fit vs Val (MAc) = 0.864 vs 0.972\n",
      " > > 9 \t Fit vs Val (MAc) = 0.874 vs 0.872\n",
      " > > 9 \t Fit vs Val (MAc) = 0.862 vs 0.965\n",
      " > > 9 \t Fit vs Val (MAc) = 0.868 vs 0.963\n",
      " > > 9 \t Fit vs Val (MAc) = 0.864 vs 0.980\n",
      " > > 9 \t Fit vs Val (MAc) = 0.865 vs 0.946\n",
      " > > 9 \t Fit vs Val (MAc) = 0.850 vs 0.981\n",
      " > > 9 \t Fit vs Val (MAc) = 0.867 vs 0.962\n",
      " > > 9 \t Fit vs Val (MAc) = 0.864 vs 0.977\n",
      " > > 9 \t Fit vs Val (MAc) = 0.834 vs 0.929\n"
     ]
    },
    {
     "name": "stderr",
     "output_type": "stream",
     "text": [
      "/store/tveiga/miniconda3/envs/py/lib/python3.7/site-packages/numpy/lib/function_base.py:356: RuntimeWarning: Mean of empty slice.\n",
      "  avg = a.mean(axis)\n",
      "/store/tveiga/miniconda3/envs/py/lib/python3.7/site-packages/numpy/core/_methods.py:85: RuntimeWarning: invalid value encountered in double_scalars\n",
      "  ret = ret.dtype.type(ret / rcount)\n"
     ]
    },
    {
     "name": "stdout",
     "output_type": "stream",
     "text": [
      " > > 9 \t Fit vs Val (MAc) = 0.865 vs nan\n",
      " > > 9 \t Fit vs Val (MAc) = 0.865 vs 0.928\n",
      " > > 9 \t Fit vs Val (MAc) = 0.871 vs 0.863\n",
      " > > 9 \t Fit vs Val (MAc) = 0.868 vs 0.805\n",
      " > > 9 \t Fit vs Val (MAc) = 0.876 vs 0.645\n",
      " > > 9 \t Fit vs Val (MAc) = 0.854 vs 0.963\n",
      " > > 9 \t Fit vs Val (MAc) = 0.867 vs 0.968\n",
      " > > 9 \t Fit vs Val (MAc) = 0.880 vs 0.400\n",
      " > > 9 \t Fit vs Val (MAc) = 0.875 vs 0.763\n",
      " > > BEST-TH: 129.000 (2.617)\n",
      " > > TEST Score : 0.926\n",
      "> 10\n",
      " > > 10 \t Fit vs Val (MAc) = 0.725 vs 0.779\n",
      " > > 10 \t Fit vs Val (MAc) = 0.729 vs 0.712\n",
      " > > 10 \t Fit vs Val (MAc) = 0.734 vs 0.664\n",
      " > > 10 \t Fit vs Val (MAc) = 0.719 vs 0.757\n",
      " > > 10 \t Fit vs Val (MAc) = 0.727 vs 0.800\n",
      " > > 10 \t Fit vs Val (MAc) = 0.729 vs 0.620\n",
      " > > 10 \t Fit vs Val (MAc) = 0.724 vs 0.864\n",
      " > > 10 \t Fit vs Val (MAc) = 0.713 vs 0.842\n",
      " > > 10 \t Fit vs Val (MAc) = 0.729 vs 0.649\n",
      " > > 10 \t Fit vs Val (MAc) = 0.724 vs 0.810\n",
      " > > 10 \t Fit vs Val (MAc) = 0.782 vs 0.544\n"
     ]
    },
    {
     "name": "stderr",
     "output_type": "stream",
     "text": [
      "/store/tveiga/miniconda3/envs/py/lib/python3.7/site-packages/numpy/lib/function_base.py:356: RuntimeWarning: Mean of empty slice.\n",
      "  avg = a.mean(axis)\n",
      "/store/tveiga/miniconda3/envs/py/lib/python3.7/site-packages/numpy/core/_methods.py:85: RuntimeWarning: invalid value encountered in double_scalars\n",
      "  ret = ret.dtype.type(ret / rcount)\n"
     ]
    },
    {
     "name": "stdout",
     "output_type": "stream",
     "text": [
      " > > 10 \t Fit vs Val (MAc) = 0.726 vs nan\n",
      " > > 10 \t Fit vs Val (MAc) = 0.727 vs 0.715\n",
      " > > 10 \t Fit vs Val (MAc) = 0.725 vs 0.856\n",
      " > > 10 \t Fit vs Val (MAc) = 0.723 vs 0.855\n",
      " > > 10 \t Fit vs Val (MAc) = 0.724 vs 0.795\n",
      " > > 10 \t Fit vs Val (MAc) = 0.702 vs 0.878\n",
      " > > 10 \t Fit vs Val (MAc) = 0.731 vs 0.557\n",
      " > > 10 \t Fit vs Val (MAc) = 0.723 vs 0.668\n",
      " > > 10 \t Fit vs Val (MAc) = 0.721 vs 0.759\n",
      " > > BEST-TH: 116.000 (2.245)\n",
      " > > TEST Score : 0.751\n",
      "> 11\n",
      " > > 11 \t Fit vs Val (MAc) = 0.772 vs 0.929\n",
      " > > 11 \t Fit vs Val (MAc) = 0.772 vs 0.922\n",
      " > > 11 \t Fit vs Val (MAc) = 0.777 vs 0.757\n",
      " > > 11 \t Fit vs Val (MAc) = 0.768 vs 0.928\n",
      " > > 11 \t Fit vs Val (MAc) = 0.774 vs 0.954\n",
      " > > 11 \t Fit vs Val (MAc) = 0.769 vs 0.976\n",
      " > > 11 \t Fit vs Val (MAc) = 0.779 vs 0.723\n",
      " > > 11 \t Fit vs Val (MAc) = 0.750 vs 0.970\n",
      " > > 11 \t Fit vs Val (MAc) = 0.774 vs 0.935\n",
      " > > 11 \t Fit vs Val (MAc) = 0.774 vs 0.914\n",
      " > > 11 \t Fit vs Val (MAc) = 0.755 vs 0.801\n"
     ]
    },
    {
     "name": "stderr",
     "output_type": "stream",
     "text": [
      "/store/tveiga/miniconda3/envs/py/lib/python3.7/site-packages/numpy/lib/function_base.py:356: RuntimeWarning: Mean of empty slice.\n",
      "  avg = a.mean(axis)\n",
      "/store/tveiga/miniconda3/envs/py/lib/python3.7/site-packages/numpy/core/_methods.py:85: RuntimeWarning: invalid value encountered in double_scalars\n",
      "  ret = ret.dtype.type(ret / rcount)\n"
     ]
    },
    {
     "name": "stdout",
     "output_type": "stream",
     "text": [
      " > > 11 \t Fit vs Val (MAc) = 0.775 vs nan\n",
      " > > 11 \t Fit vs Val (MAc) = 0.774 vs 0.870\n",
      " > > 11 \t Fit vs Val (MAc) = 0.786 vs 0.575\n",
      " > > 11 \t Fit vs Val (MAc) = 0.789 vs 0.381\n",
      " > > 11 \t Fit vs Val (MAc) = 0.786 vs 0.523\n",
      " > > 11 \t Fit vs Val (MAc) = 0.754 vs 0.956\n",
      " > > 11 \t Fit vs Val (MAc) = 0.773 vs 0.965\n",
      " > > 11 \t Fit vs Val (MAc) = 0.801 vs 0.459\n",
      " > > 11 \t Fit vs Val (MAc) = 0.799 vs 0.739\n",
      " > > BEST-TH: 78.000 (2.211)\n",
      " > > TEST Score : 0.834\n",
      "> 12\n",
      " > > 12 \t Fit vs Val (MAc) = 0.759 vs 0.819\n",
      " > > 12 \t Fit vs Val (MAc) = 0.758 vs 0.860\n",
      " > > 12 \t Fit vs Val (MAc) = 0.760 vs 0.675\n",
      " > > 12 \t Fit vs Val (MAc) = 0.747 vs 0.912\n",
      " > > 12 \t Fit vs Val (MAc) = 0.758 vs 0.863\n",
      " > > 12 \t Fit vs Val (MAc) = 0.754 vs 0.932\n",
      " > > 12 \t Fit vs Val (MAc) = 0.756 vs 0.959\n",
      " > > 12 \t Fit vs Val (MAc) = 0.726 vs 0.979\n",
      " > > 12 \t Fit vs Val (MAc) = 0.762 vs 0.634\n",
      " > > 12 \t Fit vs Val (MAc) = 0.756 vs 0.934\n",
      " > > 12 \t Fit vs Val (MAc) = 0.813 vs 0.480\n"
     ]
    },
    {
     "name": "stderr",
     "output_type": "stream",
     "text": [
      "/store/tveiga/miniconda3/envs/py/lib/python3.7/site-packages/numpy/lib/function_base.py:356: RuntimeWarning: Mean of empty slice.\n",
      "  avg = a.mean(axis)\n",
      "/store/tveiga/miniconda3/envs/py/lib/python3.7/site-packages/numpy/core/_methods.py:85: RuntimeWarning: invalid value encountered in double_scalars\n",
      "  ret = ret.dtype.type(ret / rcount)\n"
     ]
    },
    {
     "name": "stdout",
     "output_type": "stream",
     "text": [
      " > > 12 \t Fit vs Val (MAc) = 0.758 vs nan\n",
      " > > 12 \t Fit vs Val (MAc) = 0.761 vs 0.778\n",
      " > > 12 \t Fit vs Val (MAc) = 0.758 vs 0.919\n",
      " > > 12 \t Fit vs Val (MAc) = 0.765 vs 0.611\n",
      " > > 12 \t Fit vs Val (MAc) = 0.760 vs 0.771\n",
      " > > 12 \t Fit vs Val (MAc) = 0.731 vs 0.951\n",
      " > > 12 \t Fit vs Val (MAc) = 0.756 vs 0.873\n",
      " > > 12 \t Fit vs Val (MAc) = 0.771 vs 0.859\n",
      " > > 12 \t Fit vs Val (MAc) = 0.771 vs 0.842\n",
      " > > BEST-TH: 95.000 (2.670)\n",
      " > > TEST Score : 0.826\n",
      "> 13\n",
      " > > 13 \t Fit vs Val (MAc) = 0.862 vs 0.953\n",
      " > > 13 \t Fit vs Val (MAc) = 0.864 vs 0.951\n",
      " > > 13 \t Fit vs Val (MAc) = 0.873 vs 0.869\n",
      " > > 13 \t Fit vs Val (MAc) = 0.860 vs 0.951\n",
      " > > 13 \t Fit vs Val (MAc) = 0.866 vs 0.946\n",
      " > > 13 \t Fit vs Val (MAc) = 0.862 vs 0.976\n",
      " > > 13 \t Fit vs Val (MAc) = 0.864 vs 0.920\n",
      " > > 13 \t Fit vs Val (MAc) = 0.847 vs 0.966\n",
      " > > 13 \t Fit vs Val (MAc) = 0.864 vs 0.955\n",
      " > > 13 \t Fit vs Val (MAc) = 0.863 vs 0.955\n",
      " > > 13 \t Fit vs Val (MAc) = 0.831 vs 0.943\n"
     ]
    },
    {
     "name": "stderr",
     "output_type": "stream",
     "text": [
      "/store/tveiga/miniconda3/envs/py/lib/python3.7/site-packages/numpy/lib/function_base.py:356: RuntimeWarning: Mean of empty slice.\n",
      "  avg = a.mean(axis)\n",
      "/store/tveiga/miniconda3/envs/py/lib/python3.7/site-packages/numpy/core/_methods.py:85: RuntimeWarning: invalid value encountered in double_scalars\n",
      "  ret = ret.dtype.type(ret / rcount)\n"
     ]
    },
    {
     "name": "stdout",
     "output_type": "stream",
     "text": [
      " > > 13 \t Fit vs Val (MAc) = 0.863 vs nan\n",
      " > > 13 \t Fit vs Val (MAc) = 0.863 vs 0.925\n",
      " > > 13 \t Fit vs Val (MAc) = 0.868 vs 0.891\n",
      " > > 13 \t Fit vs Val (MAc) = 0.870 vs 0.691\n",
      " > > 13 \t Fit vs Val (MAc) = 0.871 vs 0.680\n",
      " > > 13 \t Fit vs Val (MAc) = 0.851 vs 0.954\n",
      " > > 13 \t Fit vs Val (MAc) = 0.864 vs 0.968\n",
      " > > 13 \t Fit vs Val (MAc) = 0.875 vs 0.664\n",
      " > > 13 \t Fit vs Val (MAc) = 0.877 vs 0.823\n",
      " > > BEST-TH: 102.000 (1.497)\n",
      " > > TEST Score : 0.915\n",
      "> 14\n",
      " > > 14 \t Fit vs Val (MAc) = 0.718 vs 0.625\n",
      " > > 14 \t Fit vs Val (MAc) = 0.714 vs 0.763\n",
      " > > 14 \t Fit vs Val (MAc) = 0.719 vs 0.794\n",
      " > > 14 \t Fit vs Val (MAc) = 0.706 vs 0.598\n",
      " > > 14 \t Fit vs Val (MAc) = 0.713 vs 0.859\n",
      " > > 14 \t Fit vs Val (MAc) = 0.712 vs 0.746\n",
      " > > 14 \t Fit vs Val (MAc) = 0.710 vs 0.902\n",
      " > > 14 \t Fit vs Val (MAc) = 0.680 vs 0.930\n",
      " > > 14 \t Fit vs Val (MAc) = 0.712 vs 0.784\n",
      " > > 14 \t Fit vs Val (MAc) = 0.711 vs 0.861\n",
      " > > 14 \t Fit vs Val (MAc) = 0.777 vs 0.449\n"
     ]
    },
    {
     "name": "stderr",
     "output_type": "stream",
     "text": [
      "/store/tveiga/miniconda3/envs/py/lib/python3.7/site-packages/numpy/lib/function_base.py:356: RuntimeWarning: Mean of empty slice.\n",
      "  avg = a.mean(axis)\n",
      "/store/tveiga/miniconda3/envs/py/lib/python3.7/site-packages/numpy/core/_methods.py:85: RuntimeWarning: invalid value encountered in double_scalars\n",
      "  ret = ret.dtype.type(ret / rcount)\n"
     ]
    },
    {
     "name": "stdout",
     "output_type": "stream",
     "text": [
      " > > 14 \t Fit vs Val (MAc) = 0.712 vs nan\n",
      " > > 14 \t Fit vs Val (MAc) = 0.711 vs 0.857\n",
      " > > 14 \t Fit vs Val (MAc) = 0.711 vs 0.897\n",
      " > > 14 \t Fit vs Val (MAc) = 0.710 vs 0.903\n",
      " > > 14 \t Fit vs Val (MAc) = 0.710 vs 0.879\n",
      " > > 14 \t Fit vs Val (MAc) = 0.680 vs 0.934\n",
      " > > 14 \t Fit vs Val (MAc) = 0.714 vs 0.683\n",
      " > > 14 \t Fit vs Val (MAc) = 0.712 vs 0.807\n",
      " > > 14 \t Fit vs Val (MAc) = 0.717 vs 0.825\n",
      " > > BEST-TH: 104.000 (1.382)\n",
      " > > TEST Score : 0.798\n",
      "> 15\n",
      " > > 15 \t Fit vs Val (MAc) = 0.791 vs 0.854\n",
      " > > 15 \t Fit vs Val (MAc) = 0.789 vs 0.927\n",
      " > > 15 \t Fit vs Val (MAc) = 0.797 vs 0.832\n",
      " > > 15 \t Fit vs Val (MAc) = 0.786 vs 0.905\n",
      " > > 15 \t Fit vs Val (MAc) = 0.791 vs 0.942\n",
      " > > 15 \t Fit vs Val (MAc) = 0.787 vs 0.964\n",
      " > > 15 \t Fit vs Val (MAc) = 0.791 vs 0.874\n",
      " > > 15 \t Fit vs Val (MAc) = 0.765 vs 0.893\n",
      " > > 15 \t Fit vs Val (MAc) = 0.790 vs 0.936\n",
      " > > 15 \t Fit vs Val (MAc) = 0.792 vs 0.828\n",
      " > > 15 \t Fit vs Val (MAc) = 0.760 vs 0.834\n"
     ]
    },
    {
     "name": "stderr",
     "output_type": "stream",
     "text": [
      "/store/tveiga/miniconda3/envs/py/lib/python3.7/site-packages/numpy/lib/function_base.py:356: RuntimeWarning: Mean of empty slice.\n",
      "  avg = a.mean(axis)\n",
      "/store/tveiga/miniconda3/envs/py/lib/python3.7/site-packages/numpy/core/_methods.py:85: RuntimeWarning: invalid value encountered in double_scalars\n",
      "  ret = ret.dtype.type(ret / rcount)\n"
     ]
    },
    {
     "name": "stdout",
     "output_type": "stream",
     "text": [
      " > > 15 \t Fit vs Val (MAc) = 0.790 vs nan\n",
      " > > 15 \t Fit vs Val (MAc) = 0.792 vs 0.814\n",
      " > > 15 \t Fit vs Val (MAc) = 0.796 vs 0.803\n",
      " > > 15 \t Fit vs Val (MAc) = 0.793 vs 0.779\n",
      " > > 15 \t Fit vs Val (MAc) = 0.800 vs 0.579\n",
      " > > 15 \t Fit vs Val (MAc) = 0.769 vs 0.933\n",
      " > > 15 \t Fit vs Val (MAc) = 0.790 vs 0.957\n",
      " > > 15 \t Fit vs Val (MAc) = 0.813 vs 0.622\n",
      " > > 15 \t Fit vs Val (MAc) = 0.813 vs 0.764\n",
      " > > BEST-TH: 49.000 (1.108)\n",
      " > > TEST Score : 0.864\n",
      "> 16\n",
      " > > 16 \t Fit vs Val (MAc) = 0.805 vs 0.864\n",
      " > > 16 \t Fit vs Val (MAc) = 0.806 vs 0.883\n",
      " > > 16 \t Fit vs Val (MAc) = 0.813 vs 0.659\n",
      " > > 16 \t Fit vs Val (MAc) = 0.800 vs 0.876\n",
      " > > 16 \t Fit vs Val (MAc) = 0.807 vs 0.852\n",
      " > > 16 \t Fit vs Val (MAc) = 0.805 vs 0.817\n",
      " > > 16 \t Fit vs Val (MAc) = 0.808 vs 0.779\n",
      " > > 16 \t Fit vs Val (MAc) = 0.785 vs 0.963\n",
      " > > 16 \t Fit vs Val (MAc) = 0.808 vs 0.737\n",
      " > > 16 \t Fit vs Val (MAc) = 0.806 vs 0.857\n",
      " > > 16 \t Fit vs Val (MAc) = 0.796 vs 0.754\n"
     ]
    },
    {
     "name": "stderr",
     "output_type": "stream",
     "text": [
      "/store/tveiga/miniconda3/envs/py/lib/python3.7/site-packages/numpy/lib/function_base.py:356: RuntimeWarning: Mean of empty slice.\n",
      "  avg = a.mean(axis)\n",
      "/store/tveiga/miniconda3/envs/py/lib/python3.7/site-packages/numpy/core/_methods.py:85: RuntimeWarning: invalid value encountered in double_scalars\n",
      "  ret = ret.dtype.type(ret / rcount)\n"
     ]
    },
    {
     "name": "stdout",
     "output_type": "stream",
     "text": [
      " > > 16 \t Fit vs Val (MAc) = 0.806 vs nan\n",
      " > > 16 \t Fit vs Val (MAc) = 0.808 vs 0.779\n",
      " > > 16 \t Fit vs Val (MAc) = 0.808 vs 0.844\n",
      " > > 16 \t Fit vs Val (MAc) = 0.810 vs 0.679\n",
      " > > 16 \t Fit vs Val (MAc) = 0.810 vs 0.706\n",
      " > > 16 \t Fit vs Val (MAc) = 0.789 vs 0.928\n",
      " > > 16 \t Fit vs Val (MAc) = 0.806 vs 0.833\n",
      " > > 16 \t Fit vs Val (MAc) = 0.819 vs 0.849\n",
      " > > 16 \t Fit vs Val (MAc) = 0.825 vs 0.835\n",
      " > > BEST-TH: 80.000 (1.732)\n",
      " > > TEST Score : 0.822\n",
      "> 17\n",
      " > > 17 \t Fit vs Val (MAc) = 0.845 vs 0.925\n",
      " > > 17 \t Fit vs Val (MAc) = 0.846 vs 0.958\n",
      " > > 17 \t Fit vs Val (MAc) = 0.854 vs 0.785\n",
      " > > 17 \t Fit vs Val (MAc) = 0.842 vs 0.925\n",
      " > > 17 \t Fit vs Val (MAc) = 0.848 vs 0.921\n",
      " > > 17 \t Fit vs Val (MAc) = 0.845 vs 0.932\n",
      " > > 17 \t Fit vs Val (MAc) = 0.847 vs 0.859\n",
      " > > 17 \t Fit vs Val (MAc) = 0.827 vs 0.966\n",
      " > > 17 \t Fit vs Val (MAc) = 0.847 vs 0.864\n",
      " > > 17 \t Fit vs Val (MAc) = 0.846 vs 0.904\n",
      " > > 17 \t Fit vs Val (MAc) = 0.816 vs 0.908\n"
     ]
    },
    {
     "name": "stderr",
     "output_type": "stream",
     "text": [
      "/store/tveiga/miniconda3/envs/py/lib/python3.7/site-packages/numpy/lib/function_base.py:356: RuntimeWarning: Mean of empty slice.\n",
      "  avg = a.mean(axis)\n",
      "/store/tveiga/miniconda3/envs/py/lib/python3.7/site-packages/numpy/core/_methods.py:85: RuntimeWarning: invalid value encountered in double_scalars\n",
      "  ret = ret.dtype.type(ret / rcount)\n"
     ]
    },
    {
     "name": "stdout",
     "output_type": "stream",
     "text": [
      " > > 17 \t Fit vs Val (MAc) = 0.846 vs nan\n",
      " > > 17 \t Fit vs Val (MAc) = 0.846 vs 0.903\n",
      " > > 17 \t Fit vs Val (MAc) = 0.850 vs 0.834\n",
      " > > 17 \t Fit vs Val (MAc) = 0.850 vs 0.749\n",
      " > > 17 \t Fit vs Val (MAc) = 0.851 vs 0.737\n",
      " > > 17 \t Fit vs Val (MAc) = 0.831 vs 0.946\n",
      " > > 17 \t Fit vs Val (MAc) = 0.846 vs 0.919\n",
      " > > 17 \t Fit vs Val (MAc) = 0.860 vs 0.819\n",
      " > > 17 \t Fit vs Val (MAc) = 0.861 vs 0.822\n",
      " > > BEST-TH: 88.000 (0.714)\n",
      " > > TEST Score : 0.884\n",
      "> 18\n",
      " > > 18 \t Fit vs Val (MAc) = 0.667 vs 0.758\n",
      " > > 18 \t Fit vs Val (MAc) = 0.668 vs 0.694\n",
      " > > 18 \t Fit vs Val (MAc) = 0.668 vs 0.778\n",
      " > > 18 \t Fit vs Val (MAc) = 0.651 vs 0.853\n",
      " > > 18 \t Fit vs Val (MAc) = 0.666 vs 0.755\n",
      " > > 18 \t Fit vs Val (MAc) = 0.665 vs 0.697\n",
      " > > 18 \t Fit vs Val (MAc) = 0.664 vs 0.832\n",
      " > > 18 \t Fit vs Val (MAc) = 0.640 vs 0.858\n",
      " > > 18 \t Fit vs Val (MAc) = 0.666 vs 0.695\n",
      " > > 18 \t Fit vs Val (MAc) = 0.663 vs 0.873\n",
      " > > 18 \t Fit vs Val (MAc) = 0.730 vs 0.396\n"
     ]
    },
    {
     "name": "stderr",
     "output_type": "stream",
     "text": [
      "/store/tveiga/miniconda3/envs/py/lib/python3.7/site-packages/numpy/lib/function_base.py:356: RuntimeWarning: Mean of empty slice.\n",
      "  avg = a.mean(axis)\n",
      "/store/tveiga/miniconda3/envs/py/lib/python3.7/site-packages/numpy/core/_methods.py:85: RuntimeWarning: invalid value encountered in double_scalars\n",
      "  ret = ret.dtype.type(ret / rcount)\n"
     ]
    },
    {
     "name": "stdout",
     "output_type": "stream",
     "text": [
      " > > 18 \t Fit vs Val (MAc) = 0.665 vs nan\n",
      " > > 18 \t Fit vs Val (MAc) = 0.667 vs 0.760\n",
      " > > 18 \t Fit vs Val (MAc) = 0.663 vs 0.937\n",
      " > > 18 \t Fit vs Val (MAc) = 0.668 vs 0.728\n",
      " > > 18 \t Fit vs Val (MAc) = 0.663 vs 0.901\n",
      " > > 18 \t Fit vs Val (MAc) = 0.627 vs 0.946\n",
      " > > 18 \t Fit vs Val (MAc) = 0.667 vs 0.664\n",
      " > > 18 \t Fit vs Val (MAc) = 0.670 vs 0.838\n",
      " > > 18 \t Fit vs Val (MAc) = 0.678 vs 0.798\n",
      " > > BEST-TH: 74.000 (1.269)\n",
      " > > TEST Score : 0.773\n",
      "> 19\n",
      " > > 19 \t Fit vs Val (MAc) = 0.760 vs 0.872\n",
      " > > 19 \t Fit vs Val (MAc) = 0.761 vs 0.879\n",
      " > > 19 \t Fit vs Val (MAc) = 0.768 vs 0.792\n",
      " > > 19 \t Fit vs Val (MAc) = 0.757 vs 0.815\n",
      " > > 19 \t Fit vs Val (MAc) = 0.762 vs 0.876\n",
      " > > 19 \t Fit vs Val (MAc) = 0.758 vs 0.920\n",
      " > > 19 \t Fit vs Val (MAc) = 0.762 vs 0.835\n",
      " > > 19 \t Fit vs Val (MAc) = 0.734 vs 0.888\n",
      " > > 19 \t Fit vs Val (MAc) = 0.761 vs 0.895\n",
      " > > 19 \t Fit vs Val (MAc) = 0.764 vs 0.762\n",
      " > > 19 \t Fit vs Val (MAc) = 0.751 vs 0.711\n"
     ]
    },
    {
     "name": "stderr",
     "output_type": "stream",
     "text": [
      "/store/tveiga/miniconda3/envs/py/lib/python3.7/site-packages/numpy/lib/function_base.py:356: RuntimeWarning: Mean of empty slice.\n",
      "  avg = a.mean(axis)\n",
      "/store/tveiga/miniconda3/envs/py/lib/python3.7/site-packages/numpy/core/_methods.py:85: RuntimeWarning: invalid value encountered in double_scalars\n",
      "  ret = ret.dtype.type(ret / rcount)\n"
     ]
    },
    {
     "name": "stdout",
     "output_type": "stream",
     "text": [
      " > > 19 \t Fit vs Val (MAc) = 0.761 vs nan\n",
      " > > 19 \t Fit vs Val (MAc) = 0.763 vs 0.788\n",
      " > > 19 \t Fit vs Val (MAc) = 0.766 vs 0.747\n",
      " > > 19 \t Fit vs Val (MAc) = 0.764 vs 0.748\n",
      " > > 19 \t Fit vs Val (MAc) = 0.768 vs 0.659\n",
      " > > 19 \t Fit vs Val (MAc) = 0.739 vs 0.842\n",
      " > > 19 \t Fit vs Val (MAc) = 0.760 vs 0.900\n",
      " > > 19 \t Fit vs Val (MAc) = 0.780 vs 0.765\n",
      " > > 19 \t Fit vs Val (MAc) = 0.781 vs 0.705\n",
      " > > BEST-TH: 31.000 (0.943)\n",
      " > > TEST Score : 0.825\n",
      "> 20\n",
      " > > 20 \t Fit vs Val (MAc) = 0.783 vs 0.827\n",
      " > > 20 \t Fit vs Val (MAc) = 0.784 vs 0.816\n",
      " > > 20 \t Fit vs Val (MAc) = 0.792 vs 0.672\n",
      " > > 20 \t Fit vs Val (MAc) = 0.779 vs 0.840\n",
      " > > 20 \t Fit vs Val (MAc) = 0.786 vs 0.768\n",
      " > > 20 \t Fit vs Val (MAc) = 0.784 vs 0.785\n",
      " > > 20 \t Fit vs Val (MAc) = 0.785 vs 0.772\n",
      " > > 20 \t Fit vs Val (MAc) = 0.765 vs 0.799\n",
      " > > 20 \t Fit vs Val (MAc) = 0.786 vs 0.735\n",
      " > > 20 \t Fit vs Val (MAc) = 0.782 vs 0.852\n",
      " > > 20 \t Fit vs Val (MAc) = 0.785 vs 0.643\n"
     ]
    },
    {
     "name": "stderr",
     "output_type": "stream",
     "text": [
      "/store/tveiga/miniconda3/envs/py/lib/python3.7/site-packages/numpy/lib/function_base.py:356: RuntimeWarning: Mean of empty slice.\n",
      "  avg = a.mean(axis)\n",
      "/store/tveiga/miniconda3/envs/py/lib/python3.7/site-packages/numpy/core/_methods.py:85: RuntimeWarning: invalid value encountered in double_scalars\n",
      "  ret = ret.dtype.type(ret / rcount)\n"
     ]
    },
    {
     "name": "stdout",
     "output_type": "stream",
     "text": [
      " > > 20 \t Fit vs Val (MAc) = 0.783 vs nan\n",
      " > > 20 \t Fit vs Val (MAc) = 0.784 vs 0.795\n",
      " > > 20 \t Fit vs Val (MAc) = 0.786 vs 0.787\n",
      " > > 20 \t Fit vs Val (MAc) = 0.782 vs 0.858\n",
      " > > 20 \t Fit vs Val (MAc) = 0.783 vs 0.838\n",
      " > > 20 \t Fit vs Val (MAc) = 0.768 vs 0.827\n",
      " > > 20 \t Fit vs Val (MAc) = 0.784 vs 0.782\n",
      " > > 20 \t Fit vs Val (MAc) = 0.795 vs 0.750\n",
      " > > 20 \t Fit vs Val (MAc) = 0.797 vs 0.798\n",
      " > > BEST-TH: 0.308 (0.009)\n",
      " > > TEST Score : 0.799\n",
      "Experiment [0, 1] [2]\n",
      "> 0\n",
      " > > 0 \t Fit vs Val (MAc) = 0.786 vs 0.440\n",
      " > > 0 \t Fit vs Val (MAc) = 0.777 vs 0.880\n",
      " > > 0 \t Fit vs Val (MAc) = 0.778 vs 0.809\n",
      " > > 0 \t Fit vs Val (MAc) = 0.775 vs 0.950\n",
      " > > 0 \t Fit vs Val (MAc) = 0.780 vs 0.740\n",
      " > > 0 \t Fit vs Val (MAc) = 0.776 vs 0.914\n",
      " > > 0 \t Fit vs Val (MAc) = 0.781 vs 0.706\n",
      " > > 0 \t Fit vs Val (MAc) = 0.770 vs 0.987\n",
      " > > 0 \t Fit vs Val (MAc) = 0.777 vs 0.935\n",
      " > > 0 \t Fit vs Val (MAc) = 0.780 vs 0.757\n",
      " > > 0 \t Fit vs Val (MAc) = 0.780 vs 0.697\n"
     ]
    },
    {
     "name": "stderr",
     "output_type": "stream",
     "text": [
      "/store/tveiga/miniconda3/envs/py/lib/python3.7/site-packages/numpy/lib/function_base.py:356: RuntimeWarning: Mean of empty slice.\n",
      "  avg = a.mean(axis)\n",
      "/store/tveiga/miniconda3/envs/py/lib/python3.7/site-packages/numpy/core/_methods.py:85: RuntimeWarning: invalid value encountered in double_scalars\n",
      "  ret = ret.dtype.type(ret / rcount)\n"
     ]
    },
    {
     "name": "stdout",
     "output_type": "stream",
     "text": [
      " > > 0 \t Fit vs Val (MAc) = 0.779 vs nan\n",
      " > > 0 \t Fit vs Val (MAc) = 0.788 vs 0.343\n",
      " > > 0 \t Fit vs Val (MAc) = 0.780 vs 0.799\n",
      " > > 0 \t Fit vs Val (MAc) = 0.788 vs 0.329\n",
      " > > 0 \t Fit vs Val (MAc) = 0.785 vs 0.508\n",
      " > > 0 \t Fit vs Val (MAc) = 0.772 vs 0.952\n",
      " > > 0 \t Fit vs Val (MAc) = 0.776 vs 0.932\n",
      " > > 0 \t Fit vs Val (MAc) = 0.781 vs 0.824\n",
      " > > 0 \t Fit vs Val (MAc) = 0.781 vs 0.851\n"
     ]
    },
    {
     "name": "stderr",
     "output_type": "stream",
     "text": [
      "/store/tveiga/miniconda3/envs/py/lib/python3.7/site-packages/numpy/lib/function_base.py:356: RuntimeWarning: Mean of empty slice.\n",
      "  avg = a.mean(axis)\n",
      "/store/tveiga/miniconda3/envs/py/lib/python3.7/site-packages/numpy/core/_methods.py:85: RuntimeWarning: invalid value encountered in double_scalars\n",
      "  ret = ret.dtype.type(ret / rcount)\n"
     ]
    },
    {
     "name": "stdout",
     "output_type": "stream",
     "text": [
      " > > 0 \t Fit vs Val (MAc) = 0.779 vs nan\n",
      " > > 0 \t Fit vs Val (MAc) = 0.781 vs 0.829\n",
      " > > 0 \t Fit vs Val (MAc) = 0.782 vs 0.811\n",
      " > > 0 \t Fit vs Val (MAc) = 0.785 vs 0.637\n",
      " > > 0 \t Fit vs Val (MAc) = 0.783 vs 0.816\n",
      " > > 0 \t Fit vs Val (MAc) = 0.780 vs 0.876\n",
      " > > 0 \t Fit vs Val (MAc) = 0.775 vs 0.897\n",
      " > > 0 \t Fit vs Val (MAc) = 0.782 vs 0.736\n",
      " > > 0 \t Fit vs Val (MAc) = 0.766 vs 0.936\n",
      " > > 0 \t Fit vs Val (MAc) = 0.775 vs 0.898\n"
     ]
    },
    {
     "name": "stderr",
     "output_type": "stream",
     "text": [
      "/store/tveiga/miniconda3/envs/py/lib/python3.7/site-packages/numpy/lib/function_base.py:356: RuntimeWarning: Mean of empty slice.\n",
      "  avg = a.mean(axis)\n",
      "/store/tveiga/miniconda3/envs/py/lib/python3.7/site-packages/numpy/core/_methods.py:85: RuntimeWarning: invalid value encountered in double_scalars\n",
      "  ret = ret.dtype.type(ret / rcount)\n"
     ]
    },
    {
     "name": "stdout",
     "output_type": "stream",
     "text": [
      " > > 0 \t Fit vs Val (MAc) = 0.779 vs nan\n",
      " > > 0 \t Fit vs Val (MAc) = 0.781 vs 0.841\n",
      " > > 0 \t Fit vs Val (MAc) = 0.783 vs 0.743\n",
      " > > 0 \t Fit vs Val (MAc) = 0.781 vs 0.829\n",
      " > > 0 \t Fit vs Val (MAc) = 0.775 vs 0.896\n",
      " > > 0 \t Fit vs Val (MAc) = 0.782 vs 0.736\n",
      " > > 0 \t Fit vs Val (MAc) = 0.765 vs 0.974\n",
      " > > BEST-TH: 128.000 (3.222)\n",
      " > > TEST Score : 0.738\n",
      "> 1\n",
      " > > 1 \t Fit vs Val (MAc) = 0.668 vs 0.000\n",
      " > > 1 \t Fit vs Val (MAc) = 0.667 vs 0.022\n",
      " > > 1 \t Fit vs Val (MAc) = 0.656 vs 0.873\n",
      " > > 1 \t Fit vs Val (MAc) = 0.653 vs 0.911\n",
      " > > 1 \t Fit vs Val (MAc) = 0.667 vs 0.044\n",
      " > > 1 \t Fit vs Val (MAc) = 0.651 vs 0.952\n",
      " > > 1 \t Fit vs Val (MAc) = 0.667 vs 0.017\n",
      " > > 1 \t Fit vs Val (MAc) = 0.648 vs 0.968\n",
      " > > 1 \t Fit vs Val (MAc) = 0.667 vs 0.048\n",
      " > > 1 \t Fit vs Val (MAc) = 0.667 vs 0.016\n",
      " > > 1 \t Fit vs Val (MAc) = 0.644 vs 0.983\n"
     ]
    },
    {
     "name": "stderr",
     "output_type": "stream",
     "text": [
      "/store/tveiga/miniconda3/envs/py/lib/python3.7/site-packages/numpy/lib/function_base.py:356: RuntimeWarning: Mean of empty slice.\n",
      "  avg = a.mean(axis)\n",
      "/store/tveiga/miniconda3/envs/py/lib/python3.7/site-packages/numpy/core/_methods.py:85: RuntimeWarning: invalid value encountered in double_scalars\n",
      "  ret = ret.dtype.type(ret / rcount)\n"
     ]
    },
    {
     "name": "stdout",
     "output_type": "stream",
     "text": [
      " > > 1 \t Fit vs Val (MAc) = 0.657 vs nan\n",
      " > > 1 \t Fit vs Val (MAc) = 0.668 vs 0.003\n",
      " > > 1 \t Fit vs Val (MAc) = 0.652 vs 0.910\n",
      " > > 1 \t Fit vs Val (MAc) = 0.668 vs 0.000\n",
      " > > 1 \t Fit vs Val (MAc) = 0.651 vs 0.939\n",
      " > > 1 \t Fit vs Val (MAc) = 0.650 vs 0.937\n",
      " > > 1 \t Fit vs Val (MAc) = 0.667 vs 0.038\n",
      " > > 1 \t Fit vs Val (MAc) = 0.656 vs 0.729\n",
      " > > 1 \t Fit vs Val (MAc) = 0.656 vs 0.661\n"
     ]
    },
    {
     "name": "stderr",
     "output_type": "stream",
     "text": [
      "/store/tveiga/miniconda3/envs/py/lib/python3.7/site-packages/numpy/lib/function_base.py:356: RuntimeWarning: Mean of empty slice.\n",
      "  avg = a.mean(axis)\n",
      "/store/tveiga/miniconda3/envs/py/lib/python3.7/site-packages/numpy/core/_methods.py:85: RuntimeWarning: invalid value encountered in double_scalars\n",
      "  ret = ret.dtype.type(ret / rcount)\n"
     ]
    },
    {
     "name": "stdout",
     "output_type": "stream",
     "text": [
      " > > 1 \t Fit vs Val (MAc) = 0.657 vs nan\n",
      " > > 1 \t Fit vs Val (MAc) = 0.655 vs 0.734\n",
      " > > 1 \t Fit vs Val (MAc) = 0.657 vs 0.594\n",
      " > > 1 \t Fit vs Val (MAc) = 0.659 vs 0.575\n",
      " > > 1 \t Fit vs Val (MAc) = 0.658 vs 0.756\n",
      " > > 1 \t Fit vs Val (MAc) = 0.655 vs 0.831\n",
      " > > 1 \t Fit vs Val (MAc) = 0.651 vs 0.890\n",
      " > > 1 \t Fit vs Val (MAc) = 0.659 vs 0.648\n",
      " > > 1 \t Fit vs Val (MAc) = 0.648 vs 0.921\n",
      " > > 1 \t Fit vs Val (MAc) = 0.653 vs 0.895\n"
     ]
    },
    {
     "name": "stderr",
     "output_type": "stream",
     "text": [
      "/store/tveiga/miniconda3/envs/py/lib/python3.7/site-packages/numpy/lib/function_base.py:356: RuntimeWarning: Mean of empty slice.\n",
      "  avg = a.mean(axis)\n",
      "/store/tveiga/miniconda3/envs/py/lib/python3.7/site-packages/numpy/core/_methods.py:85: RuntimeWarning: invalid value encountered in double_scalars\n",
      "  ret = ret.dtype.type(ret / rcount)\n"
     ]
    },
    {
     "name": "stdout",
     "output_type": "stream",
     "text": [
      " > > 1 \t Fit vs Val (MAc) = 0.657 vs nan\n",
      " > > 1 \t Fit vs Val (MAc) = 0.660 vs 0.423\n",
      " > > 1 \t Fit vs Val (MAc) = 0.658 vs 0.603\n",
      " > > 1 \t Fit vs Val (MAc) = 0.658 vs 0.515\n",
      " > > 1 \t Fit vs Val (MAc) = 0.653 vs 0.889\n",
      " > > 1 \t Fit vs Val (MAc) = 0.657 vs 0.653\n",
      " > > 1 \t Fit vs Val (MAc) = 0.645 vs 0.972\n",
      " > > BEST-TH: 148.000 (2.466)\n",
      " > > TEST Score : 0.755\n",
      "> 2\n",
      " > > 2 \t Fit vs Val (MAc) = 0.571 vs 0.866\n",
      " > > 2 \t Fit vs Val (MAc) = 0.573 vs 0.781\n",
      " > > 2 \t Fit vs Val (MAc) = 0.575 vs 0.731\n",
      " > > 2 \t Fit vs Val (MAc) = 0.571 vs 0.676\n",
      " > > 2 \t Fit vs Val (MAc) = 0.575 vs 0.708\n",
      " > > 2 \t Fit vs Val (MAc) = 0.571 vs 0.792\n",
      " > > 2 \t Fit vs Val (MAc) = 0.573 vs 0.745\n",
      " > > 2 \t Fit vs Val (MAc) = 0.582 vs 0.646\n",
      " > > 2 \t Fit vs Val (MAc) = 0.572 vs 0.814\n",
      " > > 2 \t Fit vs Val (MAc) = 0.577 vs 0.515\n",
      " > > 2 \t Fit vs Val (MAc) = 0.581 vs 0.433\n"
     ]
    },
    {
     "name": "stderr",
     "output_type": "stream",
     "text": [
      "/store/tveiga/miniconda3/envs/py/lib/python3.7/site-packages/numpy/lib/function_base.py:356: RuntimeWarning: Mean of empty slice.\n",
      "  avg = a.mean(axis)\n",
      "/store/tveiga/miniconda3/envs/py/lib/python3.7/site-packages/numpy/core/_methods.py:85: RuntimeWarning: invalid value encountered in double_scalars\n",
      "  ret = ret.dtype.type(ret / rcount)\n"
     ]
    },
    {
     "name": "stdout",
     "output_type": "stream",
     "text": [
      " > > 2 \t Fit vs Val (MAc) = 0.575 vs nan\n",
      " > > 2 \t Fit vs Val (MAc) = 0.573 vs 0.745\n",
      " > > 2 \t Fit vs Val (MAc) = 0.573 vs 0.769\n",
      " > > 2 \t Fit vs Val (MAc) = 0.574 vs 0.702\n",
      " > > 2 \t Fit vs Val (MAc) = 0.575 vs 0.659\n",
      " > > 2 \t Fit vs Val (MAc) = 0.561 vs 0.891\n",
      " > > 2 \t Fit vs Val (MAc) = 0.572 vs 0.767\n",
      " > > 2 \t Fit vs Val (MAc) = 0.574 vs 0.501\n",
      " > > 2 \t Fit vs Val (MAc) = 0.573 vs 0.495\n"
     ]
    },
    {
     "name": "stderr",
     "output_type": "stream",
     "text": [
      "/store/tveiga/miniconda3/envs/py/lib/python3.7/site-packages/numpy/lib/function_base.py:356: RuntimeWarning: Mean of empty slice.\n",
      "  avg = a.mean(axis)\n",
      "/store/tveiga/miniconda3/envs/py/lib/python3.7/site-packages/numpy/core/_methods.py:85: RuntimeWarning: invalid value encountered in double_scalars\n",
      "  ret = ret.dtype.type(ret / rcount)\n"
     ]
    },
    {
     "name": "stdout",
     "output_type": "stream",
     "text": [
      " > > 2 \t Fit vs Val (MAc) = 0.575 vs nan\n",
      " > > 2 \t Fit vs Val (MAc) = 0.574 vs 0.566\n",
      " > > 2 \t Fit vs Val (MAc) = 0.574 vs 0.575\n",
      " > > 2 \t Fit vs Val (MAc) = 0.572 vs 0.715\n",
      " > > 2 \t Fit vs Val (MAc) = 0.571 vs 0.547\n",
      " > > 2 \t Fit vs Val (MAc) = 0.581 vs 0.322\n",
      " > > 2 \t Fit vs Val (MAc) = 0.568 vs 0.616\n",
      " > > 2 \t Fit vs Val (MAc) = 0.574 vs 0.463\n",
      " > > 2 \t Fit vs Val (MAc) = 0.599 vs 0.191\n",
      " > > 2 \t Fit vs Val (MAc) = 0.586 vs 0.551\n"
     ]
    },
    {
     "name": "stderr",
     "output_type": "stream",
     "text": [
      "/store/tveiga/miniconda3/envs/py/lib/python3.7/site-packages/numpy/lib/function_base.py:356: RuntimeWarning: Mean of empty slice.\n",
      "  avg = a.mean(axis)\n",
      "/store/tveiga/miniconda3/envs/py/lib/python3.7/site-packages/numpy/core/_methods.py:85: RuntimeWarning: invalid value encountered in double_scalars\n",
      "  ret = ret.dtype.type(ret / rcount)\n"
     ]
    },
    {
     "name": "stdout",
     "output_type": "stream",
     "text": [
      " > > 2 \t Fit vs Val (MAc) = 0.575 vs nan\n",
      " > > 2 \t Fit vs Val (MAc) = 0.575 vs 0.425\n",
      " > > 2 \t Fit vs Val (MAc) = 0.576 vs 0.431\n",
      " > > 2 \t Fit vs Val (MAc) = 0.573 vs 0.634\n",
      " > > 2 \t Fit vs Val (MAc) = 0.574 vs 0.395\n",
      " > > 2 \t Fit vs Val (MAc) = 0.578 vs 0.397\n",
      " > > 2 \t Fit vs Val (MAc) = 0.591 vs 0.280\n",
      " > > BEST-TH: 107.000 (2.591)\n",
      " > > TEST Score : 0.525\n",
      "> 3\n",
      " > > 3 \t Fit vs Val (MAc) = 0.669 vs 0.900\n",
      " > > 3 \t Fit vs Val (MAc) = 0.668 vs 0.897\n",
      " > > 3 \t Fit vs Val (MAc) = 0.668 vs 0.862\n",
      " > > 3 \t Fit vs Val (MAc) = 0.668 vs 0.898\n",
      " > > 3 \t Fit vs Val (MAc) = 0.668 vs 0.957\n",
      " > > 3 \t Fit vs Val (MAc) = 0.668 vs 0.947\n",
      " > > 3 \t Fit vs Val (MAc) = 0.669 vs 0.882\n",
      " > > 3 \t Fit vs Val (MAc) = 0.657 vs 0.936\n",
      " > > 3 \t Fit vs Val (MAc) = 0.668 vs 0.885\n",
      " > > 3 \t Fit vs Val (MAc) = 0.671 vs 0.805\n",
      " > > 3 \t Fit vs Val (MAc) = 0.679 vs 0.442\n"
     ]
    },
    {
     "name": "stderr",
     "output_type": "stream",
     "text": [
      "/store/tveiga/miniconda3/envs/py/lib/python3.7/site-packages/numpy/lib/function_base.py:356: RuntimeWarning: Mean of empty slice.\n",
      "  avg = a.mean(axis)\n",
      "/store/tveiga/miniconda3/envs/py/lib/python3.7/site-packages/numpy/core/_methods.py:85: RuntimeWarning: invalid value encountered in double_scalars\n",
      "  ret = ret.dtype.type(ret / rcount)\n"
     ]
    },
    {
     "name": "stdout",
     "output_type": "stream",
     "text": [
      " > > 3 \t Fit vs Val (MAc) = 0.669 vs nan\n",
      " > > 3 \t Fit vs Val (MAc) = 0.671 vs 0.797\n",
      " > > 3 \t Fit vs Val (MAc) = 0.671 vs 0.812\n",
      " > > 3 \t Fit vs Val (MAc) = 0.673 vs 0.679\n",
      " > > 3 \t Fit vs Val (MAc) = 0.672 vs 0.757\n",
      " > > 3 \t Fit vs Val (MAc) = 0.661 vs 0.895\n",
      " > > 3 \t Fit vs Val (MAc) = 0.668 vs 0.965\n",
      " > > 3 \t Fit vs Val (MAc) = 0.677 vs 0.522\n",
      " > > 3 \t Fit vs Val (MAc) = 0.677 vs 0.640\n"
     ]
    },
    {
     "name": "stderr",
     "output_type": "stream",
     "text": [
      "/store/tveiga/miniconda3/envs/py/lib/python3.7/site-packages/numpy/lib/function_base.py:356: RuntimeWarning: Mean of empty slice.\n",
      "  avg = a.mean(axis)\n",
      "/store/tveiga/miniconda3/envs/py/lib/python3.7/site-packages/numpy/core/_methods.py:85: RuntimeWarning: invalid value encountered in double_scalars\n",
      "  ret = ret.dtype.type(ret / rcount)\n"
     ]
    },
    {
     "name": "stdout",
     "output_type": "stream",
     "text": [
      " > > 3 \t Fit vs Val (MAc) = 0.669 vs nan\n",
      " > > 3 \t Fit vs Val (MAc) = 0.672 vs 0.798\n",
      " > > 3 \t Fit vs Val (MAc) = 0.675 vs 0.723\n",
      " > > 3 \t Fit vs Val (MAc) = 0.674 vs 0.741\n",
      " > > 3 \t Fit vs Val (MAc) = 0.676 vs 0.646\n",
      " > > 3 \t Fit vs Val (MAc) = 0.670 vs 0.840\n",
      " > > 3 \t Fit vs Val (MAc) = 0.671 vs 0.677\n",
      " > > 3 \t Fit vs Val (MAc) = 0.676 vs 0.697\n",
      " > > 3 \t Fit vs Val (MAc) = 0.645 vs 0.865\n",
      " > > 3 \t Fit vs Val (MAc) = 0.668 vs 0.730\n"
     ]
    },
    {
     "name": "stderr",
     "output_type": "stream",
     "text": [
      "/store/tveiga/miniconda3/envs/py/lib/python3.7/site-packages/numpy/lib/function_base.py:356: RuntimeWarning: Mean of empty slice.\n",
      "  avg = a.mean(axis)\n",
      "/store/tveiga/miniconda3/envs/py/lib/python3.7/site-packages/numpy/core/_methods.py:85: RuntimeWarning: invalid value encountered in double_scalars\n",
      "  ret = ret.dtype.type(ret / rcount)\n"
     ]
    },
    {
     "name": "stdout",
     "output_type": "stream",
     "text": [
      " > > 3 \t Fit vs Val (MAc) = 0.669 vs nan\n",
      " > > 3 \t Fit vs Val (MAc) = 0.675 vs 0.690\n",
      " > > 3 \t Fit vs Val (MAc) = 0.675 vs 0.603\n",
      " > > 3 \t Fit vs Val (MAc) = 0.676 vs 0.659\n",
      " > > 3 \t Fit vs Val (MAc) = 0.662 vs 0.807\n",
      " > > 3 \t Fit vs Val (MAc) = 0.674 vs 0.623\n",
      " > > 3 \t Fit vs Val (MAc) = 0.643 vs 0.916\n",
      " > > BEST-TH: 76.000 (2.360)\n",
      " > > TEST Score : 0.613\n",
      "> 4\n",
      " > > 4 \t Fit vs Val (MAc) = 0.802 vs 0.445\n",
      " > > 4 \t Fit vs Val (MAc) = 0.793 vs 0.893\n",
      " > > 4 \t Fit vs Val (MAc) = 0.793 vs 0.849\n",
      " > > 4 \t Fit vs Val (MAc) = 0.790 vs 0.956\n",
      " > > 4 \t Fit vs Val (MAc) = 0.793 vs 0.956\n",
      " > > 4 \t Fit vs Val (MAc) = 0.791 vs 0.962\n",
      " > > 4 \t Fit vs Val (MAc) = 0.796 vs 0.757\n",
      " > > 4 \t Fit vs Val (MAc) = 0.786 vs 0.987\n",
      " > > 4 \t Fit vs Val (MAc) = 0.793 vs 0.847\n",
      " > > 4 \t Fit vs Val (MAc) = 0.796 vs 0.685\n",
      " > > 4 \t Fit vs Val (MAc) = 0.805 vs 0.608\n"
     ]
    },
    {
     "name": "stderr",
     "output_type": "stream",
     "text": [
      "/store/tveiga/miniconda3/envs/py/lib/python3.7/site-packages/numpy/lib/function_base.py:356: RuntimeWarning: Mean of empty slice.\n",
      "  avg = a.mean(axis)\n",
      "/store/tveiga/miniconda3/envs/py/lib/python3.7/site-packages/numpy/core/_methods.py:85: RuntimeWarning: invalid value encountered in double_scalars\n",
      "  ret = ret.dtype.type(ret / rcount)\n"
     ]
    },
    {
     "name": "stdout",
     "output_type": "stream",
     "text": [
      " > > 4 \t Fit vs Val (MAc) = 0.794 vs nan\n",
      " > > 4 \t Fit vs Val (MAc) = 0.803 vs 0.366\n",
      " > > 4 \t Fit vs Val (MAc) = 0.793 vs 0.944\n",
      " > > 4 \t Fit vs Val (MAc) = 0.806 vs 0.225\n",
      " > > 4 \t Fit vs Val (MAc) = 0.797 vs 0.623\n",
      " > > 4 \t Fit vs Val (MAc) = 0.788 vs 0.954\n",
      " > > 4 \t Fit vs Val (MAc) = 0.793 vs 0.882\n",
      " > > 4 \t Fit vs Val (MAc) = 0.796 vs 0.867\n",
      " > > 4 \t Fit vs Val (MAc) = 0.796 vs 0.877\n"
     ]
    },
    {
     "name": "stderr",
     "output_type": "stream",
     "text": [
      "/store/tveiga/miniconda3/envs/py/lib/python3.7/site-packages/numpy/lib/function_base.py:356: RuntimeWarning: Mean of empty slice.\n",
      "  avg = a.mean(axis)\n",
      "/store/tveiga/miniconda3/envs/py/lib/python3.7/site-packages/numpy/core/_methods.py:85: RuntimeWarning: invalid value encountered in double_scalars\n",
      "  ret = ret.dtype.type(ret / rcount)\n"
     ]
    },
    {
     "name": "stdout",
     "output_type": "stream",
     "text": [
      " > > 4 \t Fit vs Val (MAc) = 0.794 vs nan\n",
      " > > 4 \t Fit vs Val (MAc) = 0.796 vs 0.896\n",
      " > > 4 \t Fit vs Val (MAc) = 0.797 vs 0.866\n",
      " > > 4 \t Fit vs Val (MAc) = 0.799 vs 0.742\n",
      " > > 4 \t Fit vs Val (MAc) = 0.796 vs 0.853\n",
      " > > 4 \t Fit vs Val (MAc) = 0.795 vs 0.891\n",
      " > > 4 \t Fit vs Val (MAc) = 0.789 vs 0.923\n",
      " > > 4 \t Fit vs Val (MAc) = 0.796 vs 0.796\n",
      " > > 4 \t Fit vs Val (MAc) = 0.781 vs 0.947\n",
      " > > 4 \t Fit vs Val (MAc) = 0.792 vs 0.890\n"
     ]
    },
    {
     "name": "stderr",
     "output_type": "stream",
     "text": [
      "/store/tveiga/miniconda3/envs/py/lib/python3.7/site-packages/numpy/lib/function_base.py:356: RuntimeWarning: Mean of empty slice.\n",
      "  avg = a.mean(axis)\n",
      "/store/tveiga/miniconda3/envs/py/lib/python3.7/site-packages/numpy/core/_methods.py:85: RuntimeWarning: invalid value encountered in double_scalars\n",
      "  ret = ret.dtype.type(ret / rcount)\n"
     ]
    },
    {
     "name": "stdout",
     "output_type": "stream",
     "text": [
      " > > 4 \t Fit vs Val (MAc) = 0.794 vs nan\n",
      " > > 4 \t Fit vs Val (MAc) = 0.795 vs 0.888\n",
      " > > 4 \t Fit vs Val (MAc) = 0.798 vs 0.745\n",
      " > > 4 \t Fit vs Val (MAc) = 0.795 vs 0.886\n",
      " > > 4 \t Fit vs Val (MAc) = 0.790 vs 0.899\n",
      " > > 4 \t Fit vs Val (MAc) = 0.797 vs 0.764\n",
      " > > 4 \t Fit vs Val (MAc) = 0.780 vs 0.976\n",
      " > > BEST-TH: 132.000 (2.078)\n",
      " > > TEST Score : 0.788\n",
      "> 5\n",
      " > > 5 \t Fit vs Val (MAc) = 0.829 vs 0.996\n",
      " > > 5 \t Fit vs Val (MAc) = 0.830 vs 0.980\n",
      " > > 5 \t Fit vs Val (MAc) = 0.834 vs 0.883\n",
      " > > 5 \t Fit vs Val (MAc) = 0.830 vs 0.944\n",
      " > > 5 \t Fit vs Val (MAc) = 0.831 vs 0.959\n",
      " > > 5 \t Fit vs Val (MAc) = 0.830 vs 0.963\n",
      " > > 5 \t Fit vs Val (MAc) = 0.830 vs 0.977\n",
      " > > 5 \t Fit vs Val (MAc) = 0.826 vs 0.974\n",
      " > > 5 \t Fit vs Val (MAc) = 0.831 vs 0.955\n",
      " > > 5 \t Fit vs Val (MAc) = 0.830 vs 0.976\n",
      " > > 5 \t Fit vs Val (MAc) = 0.820 vs 0.978\n"
     ]
    },
    {
     "name": "stderr",
     "output_type": "stream",
     "text": [
      "/store/tveiga/miniconda3/envs/py/lib/python3.7/site-packages/numpy/lib/function_base.py:356: RuntimeWarning: Mean of empty slice.\n",
      "  avg = a.mean(axis)\n",
      "/store/tveiga/miniconda3/envs/py/lib/python3.7/site-packages/numpy/core/_methods.py:85: RuntimeWarning: invalid value encountered in double_scalars\n",
      "  ret = ret.dtype.type(ret / rcount)\n"
     ]
    },
    {
     "name": "stdout",
     "output_type": "stream",
     "text": [
      " > > 5 \t Fit vs Val (MAc) = 0.831 vs nan\n",
      " > > 5 \t Fit vs Val (MAc) = 0.829 vs 0.991\n",
      " > > 5 \t Fit vs Val (MAc) = 0.832 vs 0.891\n",
      " > > 5 \t Fit vs Val (MAc) = 0.829 vs 0.974\n",
      " > > 5 \t Fit vs Val (MAc) = 0.832 vs 0.868\n",
      " > > 5 \t Fit vs Val (MAc) = 0.826 vs 0.965\n",
      " > > 5 \t Fit vs Val (MAc) = 0.831 vs 0.964\n",
      " > > 5 \t Fit vs Val (MAc) = 0.838 vs 0.478\n",
      " > > 5 \t Fit vs Val (MAc) = 0.835 vs 0.704\n"
     ]
    },
    {
     "name": "stderr",
     "output_type": "stream",
     "text": [
      "/store/tveiga/miniconda3/envs/py/lib/python3.7/site-packages/numpy/lib/function_base.py:356: RuntimeWarning: Mean of empty slice.\n",
      "  avg = a.mean(axis)\n",
      "/store/tveiga/miniconda3/envs/py/lib/python3.7/site-packages/numpy/core/_methods.py:85: RuntimeWarning: invalid value encountered in double_scalars\n",
      "  ret = ret.dtype.type(ret / rcount)\n"
     ]
    },
    {
     "name": "stdout",
     "output_type": "stream",
     "text": [
      " > > 5 \t Fit vs Val (MAc) = 0.831 vs nan\n",
      " > > 5 \t Fit vs Val (MAc) = 0.834 vs 0.835\n",
      " > > 5 \t Fit vs Val (MAc) = 0.834 vs 0.812\n",
      " > > 5 \t Fit vs Val (MAc) = 0.840 vs 0.503\n",
      " > > 5 \t Fit vs Val (MAc) = 0.834 vs 0.829\n",
      " > > 5 \t Fit vs Val (MAc) = 0.832 vs 0.865\n",
      " > > 5 \t Fit vs Val (MAc) = 0.828 vs 0.877\n",
      " > > 5 \t Fit vs Val (MAc) = 0.836 vs 0.620\n",
      " > > 5 \t Fit vs Val (MAc) = 0.822 vs 0.937\n",
      " > > 5 \t Fit vs Val (MAc) = 0.827 vs 0.929\n"
     ]
    },
    {
     "name": "stderr",
     "output_type": "stream",
     "text": [
      "/store/tveiga/miniconda3/envs/py/lib/python3.7/site-packages/numpy/lib/function_base.py:356: RuntimeWarning: Mean of empty slice.\n",
      "  avg = a.mean(axis)\n",
      "/store/tveiga/miniconda3/envs/py/lib/python3.7/site-packages/numpy/core/_methods.py:85: RuntimeWarning: invalid value encountered in double_scalars\n",
      "  ret = ret.dtype.type(ret / rcount)\n"
     ]
    },
    {
     "name": "stdout",
     "output_type": "stream",
     "text": [
      " > > 5 \t Fit vs Val (MAc) = 0.831 vs nan\n",
      " > > 5 \t Fit vs Val (MAc) = 0.836 vs 0.551\n",
      " > > 5 \t Fit vs Val (MAc) = 0.838 vs 0.576\n",
      " > > 5 \t Fit vs Val (MAc) = 0.835 vs 0.782\n",
      " > > 5 \t Fit vs Val (MAc) = 0.830 vs 0.893\n",
      " > > 5 \t Fit vs Val (MAc) = 0.837 vs 0.588\n",
      " > > 5 \t Fit vs Val (MAc) = 0.820 vs 0.971\n",
      " > > BEST-TH: 133.000 (2.246)\n",
      " > > TEST Score : 0.817\n",
      "> 6\n",
      " > > 6 \t Fit vs Val (MAc) = 0.682 vs 0.753\n",
      " > > 6 \t Fit vs Val (MAc) = 0.684 vs 0.691\n",
      " > > 6 \t Fit vs Val (MAc) = 0.687 vs 0.697\n",
      " > > 6 \t Fit vs Val (MAc) = 0.683 vs 0.627\n",
      " > > 6 \t Fit vs Val (MAc) = 0.682 vs 0.825\n",
      " > > 6 \t Fit vs Val (MAc) = 0.685 vs 0.565\n",
      " > > 6 \t Fit vs Val (MAc) = 0.682 vs 0.783\n",
      " > > 6 \t Fit vs Val (MAc) = 0.683 vs 0.845\n",
      " > > 6 \t Fit vs Val (MAc) = 0.686 vs 0.537\n",
      " > > 6 \t Fit vs Val (MAc) = 0.684 vs 0.653\n",
      " > > 6 \t Fit vs Val (MAc) = 0.701 vs 0.568\n"
     ]
    },
    {
     "name": "stderr",
     "output_type": "stream",
     "text": [
      "/store/tveiga/miniconda3/envs/py/lib/python3.7/site-packages/numpy/lib/function_base.py:356: RuntimeWarning: Mean of empty slice.\n",
      "  avg = a.mean(axis)\n",
      "/store/tveiga/miniconda3/envs/py/lib/python3.7/site-packages/numpy/core/_methods.py:85: RuntimeWarning: invalid value encountered in double_scalars\n",
      "  ret = ret.dtype.type(ret / rcount)\n"
     ]
    },
    {
     "name": "stdout",
     "output_type": "stream",
     "text": [
      " > > 6 \t Fit vs Val (MAc) = 0.685 vs nan\n",
      " > > 6 \t Fit vs Val (MAc) = 0.683 vs 0.709\n",
      " > > 6 \t Fit vs Val (MAc) = 0.682 vs 0.817\n",
      " > > 6 \t Fit vs Val (MAc) = 0.684 vs 0.650\n",
      " > > 6 \t Fit vs Val (MAc) = 0.683 vs 0.714\n",
      " > > 6 \t Fit vs Val (MAc) = 0.678 vs 0.835\n",
      " > > 6 \t Fit vs Val (MAc) = 0.688 vs 0.435\n",
      " > > 6 \t Fit vs Val (MAc) = 0.686 vs 0.499\n",
      " > > 6 \t Fit vs Val (MAc) = 0.684 vs 0.665\n"
     ]
    },
    {
     "name": "stderr",
     "output_type": "stream",
     "text": [
      "/store/tveiga/miniconda3/envs/py/lib/python3.7/site-packages/numpy/lib/function_base.py:356: RuntimeWarning: Mean of empty slice.\n",
      "  avg = a.mean(axis)\n",
      "/store/tveiga/miniconda3/envs/py/lib/python3.7/site-packages/numpy/core/_methods.py:85: RuntimeWarning: invalid value encountered in double_scalars\n",
      "  ret = ret.dtype.type(ret / rcount)\n"
     ]
    },
    {
     "name": "stdout",
     "output_type": "stream",
     "text": [
      " > > 6 \t Fit vs Val (MAc) = 0.685 vs nan\n",
      " > > 6 \t Fit vs Val (MAc) = 0.683 vs 0.740\n",
      " > > 6 \t Fit vs Val (MAc) = 0.688 vs 0.493\n",
      " > > 6 \t Fit vs Val (MAc) = 0.683 vs 0.723\n",
      " > > 6 \t Fit vs Val (MAc) = 0.685 vs 0.565\n",
      " > > 6 \t Fit vs Val (MAc) = 0.691 vs 0.430\n",
      " > > 6 \t Fit vs Val (MAc) = 0.684 vs 0.741\n",
      " > > 6 \t Fit vs Val (MAc) = 0.686 vs 0.529\n",
      " > > 6 \t Fit vs Val (MAc) = 0.673 vs 0.873\n",
      " > > 6 \t Fit vs Val (MAc) = 0.697 vs 0.461\n"
     ]
    },
    {
     "name": "stderr",
     "output_type": "stream",
     "text": [
      "/store/tveiga/miniconda3/envs/py/lib/python3.7/site-packages/numpy/lib/function_base.py:356: RuntimeWarning: Mean of empty slice.\n",
      "  avg = a.mean(axis)\n",
      "/store/tveiga/miniconda3/envs/py/lib/python3.7/site-packages/numpy/core/_methods.py:85: RuntimeWarning: invalid value encountered in double_scalars\n",
      "  ret = ret.dtype.type(ret / rcount)\n"
     ]
    },
    {
     "name": "stdout",
     "output_type": "stream",
     "text": [
      " > > 6 \t Fit vs Val (MAc) = 0.685 vs nan\n",
      " > > 6 \t Fit vs Val (MAc) = 0.686 vs 0.520\n",
      " > > 6 \t Fit vs Val (MAc) = 0.685 vs 0.591\n",
      " > > 6 \t Fit vs Val (MAc) = 0.690 vs 0.287\n",
      " > > 6 \t Fit vs Val (MAc) = 0.688 vs 0.524\n",
      " > > 6 \t Fit vs Val (MAc) = 0.688 vs 0.446\n",
      " > > 6 \t Fit vs Val (MAc) = 0.676 vs 0.849\n",
      " > > BEST-TH: 118.000 (1.386)\n",
      " > > TEST Score : 0.555\n",
      "> 7\n",
      " > > 7 \t Fit vs Val (MAc) = 0.724 vs 0.953\n",
      " > > 7 \t Fit vs Val (MAc) = 0.724 vs 0.929\n",
      " > > 7 \t Fit vs Val (MAc) = 0.724 vs 0.875\n",
      " > > 7 \t Fit vs Val (MAc) = 0.723 vs 0.943\n",
      " > > 7 \t Fit vs Val (MAc) = 0.725 vs 0.937\n",
      " > > 7 \t Fit vs Val (MAc) = 0.723 vs 0.968\n",
      " > > 7 \t Fit vs Val (MAc) = 0.725 vs 0.944\n",
      " > > 7 \t Fit vs Val (MAc) = 0.714 vs 0.968\n",
      " > > 7 \t Fit vs Val (MAc) = 0.725 vs 0.876\n",
      " > > 7 \t Fit vs Val (MAc) = 0.725 vs 0.906\n",
      " > > 7 \t Fit vs Val (MAc) = 0.724 vs 0.656\n"
     ]
    },
    {
     "name": "stderr",
     "output_type": "stream",
     "text": [
      "/store/tveiga/miniconda3/envs/py/lib/python3.7/site-packages/numpy/lib/function_base.py:356: RuntimeWarning: Mean of empty slice.\n",
      "  avg = a.mean(axis)\n",
      "/store/tveiga/miniconda3/envs/py/lib/python3.7/site-packages/numpy/core/_methods.py:85: RuntimeWarning: invalid value encountered in double_scalars\n",
      "  ret = ret.dtype.type(ret / rcount)\n"
     ]
    },
    {
     "name": "stdout",
     "output_type": "stream",
     "text": [
      " > > 7 \t Fit vs Val (MAc) = 0.725 vs nan\n",
      " > > 7 \t Fit vs Val (MAc) = 0.726 vs 0.872\n",
      " > > 7 \t Fit vs Val (MAc) = 0.729 vs 0.747\n",
      " > > 7 \t Fit vs Val (MAc) = 0.727 vs 0.789\n",
      " > > 7 \t Fit vs Val (MAc) = 0.728 vs 0.775\n",
      " > > 7 \t Fit vs Val (MAc) = 0.716 vs 0.949\n",
      " > > 7 \t Fit vs Val (MAc) = 0.724 vs 0.957\n",
      " > > 7 \t Fit vs Val (MAc) = 0.733 vs 0.612\n",
      " > > 7 \t Fit vs Val (MAc) = 0.734 vs 0.617\n"
     ]
    },
    {
     "name": "stderr",
     "output_type": "stream",
     "text": [
      "/store/tveiga/miniconda3/envs/py/lib/python3.7/site-packages/numpy/lib/function_base.py:356: RuntimeWarning: Mean of empty slice.\n",
      "  avg = a.mean(axis)\n",
      "/store/tveiga/miniconda3/envs/py/lib/python3.7/site-packages/numpy/core/_methods.py:85: RuntimeWarning: invalid value encountered in double_scalars\n",
      "  ret = ret.dtype.type(ret / rcount)\n"
     ]
    },
    {
     "name": "stdout",
     "output_type": "stream",
     "text": [
      " > > 7 \t Fit vs Val (MAc) = 0.725 vs nan\n",
      " > > 7 \t Fit vs Val (MAc) = 0.729 vs 0.858\n",
      " > > 7 \t Fit vs Val (MAc) = 0.730 vs 0.707\n",
      " > > 7 \t Fit vs Val (MAc) = 0.733 vs 0.572\n",
      " > > 7 \t Fit vs Val (MAc) = 0.733 vs 0.743\n",
      " > > 7 \t Fit vs Val (MAc) = 0.726 vs 0.862\n",
      " > > 7 \t Fit vs Val (MAc) = 0.727 vs 0.740\n",
      " > > 7 \t Fit vs Val (MAc) = 0.734 vs 0.669\n",
      " > > 7 \t Fit vs Val (MAc) = 0.704 vs 0.912\n",
      " > > 7 \t Fit vs Val (MAc) = 0.722 vs 0.828\n"
     ]
    },
    {
     "name": "stderr",
     "output_type": "stream",
     "text": [
      "/store/tveiga/miniconda3/envs/py/lib/python3.7/site-packages/numpy/lib/function_base.py:356: RuntimeWarning: Mean of empty slice.\n",
      "  avg = a.mean(axis)\n",
      "/store/tveiga/miniconda3/envs/py/lib/python3.7/site-packages/numpy/core/_methods.py:85: RuntimeWarning: invalid value encountered in double_scalars\n",
      "  ret = ret.dtype.type(ret / rcount)\n"
     ]
    },
    {
     "name": "stdout",
     "output_type": "stream",
     "text": [
      " > > 7 \t Fit vs Val (MAc) = 0.725 vs nan\n",
      " > > 7 \t Fit vs Val (MAc) = 0.733 vs 0.612\n",
      " > > 7 \t Fit vs Val (MAc) = 0.735 vs 0.536\n",
      " > > 7 \t Fit vs Val (MAc) = 0.730 vs 0.820\n",
      " > > 7 \t Fit vs Val (MAc) = 0.721 vs 0.832\n",
      " > > 7 \t Fit vs Val (MAc) = 0.732 vs 0.567\n",
      " > > 7 \t Fit vs Val (MAc) = 0.704 vs 0.947\n",
      " > > BEST-TH: 79.000 (2.071)\n",
      " > > TEST Score : 0.683\n",
      "> 8\n",
      " > > 8 \t Fit vs Val (MAc) = 0.813 vs 0.422\n",
      " > > 8 \t Fit vs Val (MAc) = 0.808 vs 0.703\n",
      " > > 8 \t Fit vs Val (MAc) = 0.805 vs 0.809\n",
      " > > 8 \t Fit vs Val (MAc) = 0.802 vs 0.927\n",
      " > > 8 \t Fit vs Val (MAc) = 0.805 vs 0.849\n",
      " > > 8 \t Fit vs Val (MAc) = 0.803 vs 0.923\n",
      " > > 8 \t Fit vs Val (MAc) = 0.805 vs 0.839\n",
      " > > 8 \t Fit vs Val (MAc) = 0.797 vs 0.984\n",
      " > > 8 \t Fit vs Val (MAc) = 0.805 vs 0.815\n",
      " > > 8 \t Fit vs Val (MAc) = 0.804 vs 0.933\n",
      " > > 8 \t Fit vs Val (MAc) = 0.817 vs 0.608\n"
     ]
    },
    {
     "name": "stderr",
     "output_type": "stream",
     "text": [
      "/store/tveiga/miniconda3/envs/py/lib/python3.7/site-packages/numpy/lib/function_base.py:356: RuntimeWarning: Mean of empty slice.\n",
      "  avg = a.mean(axis)\n",
      "/store/tveiga/miniconda3/envs/py/lib/python3.7/site-packages/numpy/core/_methods.py:85: RuntimeWarning: invalid value encountered in double_scalars\n",
      "  ret = ret.dtype.type(ret / rcount)\n"
     ]
    },
    {
     "name": "stdout",
     "output_type": "stream",
     "text": [
      " > > 8 \t Fit vs Val (MAc) = 0.805 vs nan\n",
      " > > 8 \t Fit vs Val (MAc) = 0.815 vs 0.321\n",
      " > > 8 \t Fit vs Val (MAc) = 0.804 vs 0.952\n",
      " > > 8 \t Fit vs Val (MAc) = 0.813 vs 0.463\n",
      " > > 8 \t Fit vs Val (MAc) = 0.807 vs 0.719\n",
      " > > 8 \t Fit vs Val (MAc) = 0.799 vs 0.957\n",
      " > > 8 \t Fit vs Val (MAc) = 0.803 vs 0.951\n",
      " > > 8 \t Fit vs Val (MAc) = 0.808 vs 0.882\n",
      " > > 8 \t Fit vs Val (MAc) = 0.808 vs 0.866\n"
     ]
    },
    {
     "name": "stderr",
     "output_type": "stream",
     "text": [
      "/store/tveiga/miniconda3/envs/py/lib/python3.7/site-packages/numpy/lib/function_base.py:356: RuntimeWarning: Mean of empty slice.\n",
      "  avg = a.mean(axis)\n",
      "/store/tveiga/miniconda3/envs/py/lib/python3.7/site-packages/numpy/core/_methods.py:85: RuntimeWarning: invalid value encountered in double_scalars\n",
      "  ret = ret.dtype.type(ret / rcount)\n"
     ]
    },
    {
     "name": "stdout",
     "output_type": "stream",
     "text": [
      " > > 8 \t Fit vs Val (MAc) = 0.805 vs nan\n",
      " > > 8 \t Fit vs Val (MAc) = 0.807 vs 0.838\n",
      " > > 8 \t Fit vs Val (MAc) = 0.807 vs 0.880\n",
      " > > 8 \t Fit vs Val (MAc) = 0.810 vs 0.777\n",
      " > > 8 \t Fit vs Val (MAc) = 0.806 vs 0.873\n",
      " > > 8 \t Fit vs Val (MAc) = 0.805 vs 0.904\n",
      " > > 8 \t Fit vs Val (MAc) = 0.800 vs 0.921\n",
      " > > 8 \t Fit vs Val (MAc) = 0.807 vs 0.864\n",
      " > > 8 \t Fit vs Val (MAc) = 0.792 vs 0.962\n",
      " > > 8 \t Fit vs Val (MAc) = 0.806 vs 0.852\n"
     ]
    },
    {
     "name": "stderr",
     "output_type": "stream",
     "text": [
      "/store/tveiga/miniconda3/envs/py/lib/python3.7/site-packages/numpy/lib/function_base.py:356: RuntimeWarning: Mean of empty slice.\n",
      "  avg = a.mean(axis)\n",
      "/store/tveiga/miniconda3/envs/py/lib/python3.7/site-packages/numpy/core/_methods.py:85: RuntimeWarning: invalid value encountered in double_scalars\n",
      "  ret = ret.dtype.type(ret / rcount)\n"
     ]
    },
    {
     "name": "stdout",
     "output_type": "stream",
     "text": [
      " > > 8 \t Fit vs Val (MAc) = 0.805 vs nan\n",
      " > > 8 \t Fit vs Val (MAc) = 0.805 vs 0.894\n",
      " > > 8 \t Fit vs Val (MAc) = 0.807 vs 0.827\n",
      " > > 8 \t Fit vs Val (MAc) = 0.805 vs 0.905\n",
      " > > 8 \t Fit vs Val (MAc) = 0.801 vs 0.909\n",
      " > > 8 \t Fit vs Val (MAc) = 0.808 vs 0.884\n",
      " > > 8 \t Fit vs Val (MAc) = 0.791 vs 0.981\n",
      " > > BEST-TH: 123.000 (1.422)\n",
      " > > TEST Score : 0.799\n",
      "> 9\n",
      " > > 9 \t Fit vs Val (MAc) = 0.836 vs 0.995\n",
      " > > 9 \t Fit vs Val (MAc) = 0.837 vs 0.975\n",
      " > > 9 \t Fit vs Val (MAc) = 0.841 vs 0.880\n",
      " > > 9 \t Fit vs Val (MAc) = 0.837 vs 0.962\n",
      " > > 9 \t Fit vs Val (MAc) = 0.838 vs 0.962\n",
      " > > 9 \t Fit vs Val (MAc) = 0.837 vs 0.977\n",
      " > > 9 \t Fit vs Val (MAc) = 0.837 vs 0.965\n",
      " > > 9 \t Fit vs Val (MAc) = 0.832 vs 0.984\n",
      " > > 9 \t Fit vs Val (MAc) = 0.838 vs 0.961\n",
      " > > 9 \t Fit vs Val (MAc) = 0.837 vs 0.983\n",
      " > > 9 \t Fit vs Val (MAc) = 0.828 vs 0.971\n"
     ]
    },
    {
     "name": "stderr",
     "output_type": "stream",
     "text": [
      "/store/tveiga/miniconda3/envs/py/lib/python3.7/site-packages/numpy/lib/function_base.py:356: RuntimeWarning: Mean of empty slice.\n",
      "  avg = a.mean(axis)\n",
      "/store/tveiga/miniconda3/envs/py/lib/python3.7/site-packages/numpy/core/_methods.py:85: RuntimeWarning: invalid value encountered in double_scalars\n",
      "  ret = ret.dtype.type(ret / rcount)\n"
     ]
    },
    {
     "name": "stdout",
     "output_type": "stream",
     "text": [
      " > > 9 \t Fit vs Val (MAc) = 0.838 vs nan\n",
      " > > 9 \t Fit vs Val (MAc) = 0.837 vs 0.952\n",
      " > > 9 \t Fit vs Val (MAc) = 0.839 vs 0.921\n",
      " > > 9 \t Fit vs Val (MAc) = 0.839 vs 0.864\n",
      " > > 9 \t Fit vs Val (MAc) = 0.842 vs 0.727\n",
      " > > 9 \t Fit vs Val (MAc) = 0.833 vs 0.967\n",
      " > > 9 \t Fit vs Val (MAc) = 0.838 vs 0.967\n",
      " > > 9 \t Fit vs Val (MAc) = 0.846 vs 0.506\n",
      " > > 9 \t Fit vs Val (MAc) = 0.842 vs 0.846\n"
     ]
    },
    {
     "name": "stderr",
     "output_type": "stream",
     "text": [
      "/store/tveiga/miniconda3/envs/py/lib/python3.7/site-packages/numpy/lib/function_base.py:356: RuntimeWarning: Mean of empty slice.\n",
      "  avg = a.mean(axis)\n",
      "/store/tveiga/miniconda3/envs/py/lib/python3.7/site-packages/numpy/core/_methods.py:85: RuntimeWarning: invalid value encountered in double_scalars\n",
      "  ret = ret.dtype.type(ret / rcount)\n"
     ]
    },
    {
     "name": "stdout",
     "output_type": "stream",
     "text": [
      " > > 9 \t Fit vs Val (MAc) = 0.838 vs nan\n",
      " > > 9 \t Fit vs Val (MAc) = 0.842 vs 0.771\n",
      " > > 9 \t Fit vs Val (MAc) = 0.842 vs 0.814\n",
      " > > 9 \t Fit vs Val (MAc) = 0.846 vs 0.624\n",
      " > > 9 \t Fit vs Val (MAc) = 0.842 vs 0.830\n",
      " > > 9 \t Fit vs Val (MAc) = 0.839 vs 0.883\n",
      " > > 9 \t Fit vs Val (MAc) = 0.835 vs 0.889\n",
      " > > 9 \t Fit vs Val (MAc) = 0.843 vs 0.670\n",
      " > > 9 \t Fit vs Val (MAc) = 0.828 vs 0.953\n",
      " > > 9 \t Fit vs Val (MAc) = 0.837 vs 0.899\n"
     ]
    },
    {
     "name": "stderr",
     "output_type": "stream",
     "text": [
      "/store/tveiga/miniconda3/envs/py/lib/python3.7/site-packages/numpy/lib/function_base.py:356: RuntimeWarning: Mean of empty slice.\n",
      "  avg = a.mean(axis)\n",
      "/store/tveiga/miniconda3/envs/py/lib/python3.7/site-packages/numpy/core/_methods.py:85: RuntimeWarning: invalid value encountered in double_scalars\n",
      "  ret = ret.dtype.type(ret / rcount)\n"
     ]
    },
    {
     "name": "stdout",
     "output_type": "stream",
     "text": [
      " > > 9 \t Fit vs Val (MAc) = 0.838 vs nan\n",
      " > > 9 \t Fit vs Val (MAc) = 0.841 vs 0.755\n",
      " > > 9 \t Fit vs Val (MAc) = 0.845 vs 0.658\n",
      " > > 9 \t Fit vs Val (MAc) = 0.840 vs 0.814\n",
      " > > 9 \t Fit vs Val (MAc) = 0.836 vs 0.903\n",
      " > > 9 \t Fit vs Val (MAc) = 0.845 vs 0.545\n",
      " > > 9 \t Fit vs Val (MAc) = 0.827 vs 0.980\n",
      " > > BEST-TH: 117.000 (1.334)\n",
      " > > TEST Score : 0.816\n",
      "> 10\n",
      " > > 10 \t Fit vs Val (MAc) = 0.744 vs 0.760\n",
      " > > 10 \t Fit vs Val (MAc) = 0.746 vs 0.691\n",
      " > > 10 \t Fit vs Val (MAc) = 0.748 vs 0.647\n",
      " > > 10 \t Fit vs Val (MAc) = 0.743 vs 0.742\n",
      " > > 10 \t Fit vs Val (MAc) = 0.744 vs 0.792\n",
      " > > 10 \t Fit vs Val (MAc) = 0.747 vs 0.596\n",
      " > > 10 \t Fit vs Val (MAc) = 0.743 vs 0.853\n",
      " > > 10 \t Fit vs Val (MAc) = 0.739 vs 0.925\n",
      " > > 10 \t Fit vs Val (MAc) = 0.746 vs 0.627\n",
      " > > 10 \t Fit vs Val (MAc) = 0.743 vs 0.802\n",
      " > > 10 \t Fit vs Val (MAc) = 0.762 vs 0.549\n"
     ]
    },
    {
     "name": "stderr",
     "output_type": "stream",
     "text": [
      "/store/tveiga/miniconda3/envs/py/lib/python3.7/site-packages/numpy/lib/function_base.py:356: RuntimeWarning: Mean of empty slice.\n",
      "  avg = a.mean(axis)\n",
      "/store/tveiga/miniconda3/envs/py/lib/python3.7/site-packages/numpy/core/_methods.py:85: RuntimeWarning: invalid value encountered in double_scalars\n",
      "  ret = ret.dtype.type(ret / rcount)\n"
     ]
    },
    {
     "name": "stdout",
     "output_type": "stream",
     "text": [
      " > > 10 \t Fit vs Val (MAc) = 0.745 vs nan\n",
      " > > 10 \t Fit vs Val (MAc) = 0.745 vs 0.693\n",
      " > > 10 \t Fit vs Val (MAc) = 0.743 vs 0.846\n",
      " > > 10 \t Fit vs Val (MAc) = 0.742 vs 0.843\n",
      " > > 10 \t Fit vs Val (MAc) = 0.743 vs 0.788\n",
      " > > 10 \t Fit vs Val (MAc) = 0.738 vs 0.878\n",
      " > > 10 \t Fit vs Val (MAc) = 0.748 vs 0.537\n",
      " > > 10 \t Fit vs Val (MAc) = 0.745 vs 0.654\n",
      " > > 10 \t Fit vs Val (MAc) = 0.744 vs 0.756\n"
     ]
    },
    {
     "name": "stderr",
     "output_type": "stream",
     "text": [
      "/store/tveiga/miniconda3/envs/py/lib/python3.7/site-packages/numpy/lib/function_base.py:356: RuntimeWarning: Mean of empty slice.\n",
      "  avg = a.mean(axis)\n",
      "/store/tveiga/miniconda3/envs/py/lib/python3.7/site-packages/numpy/core/_methods.py:85: RuntimeWarning: invalid value encountered in double_scalars\n",
      "  ret = ret.dtype.type(ret / rcount)\n"
     ]
    },
    {
     "name": "stdout",
     "output_type": "stream",
     "text": [
      " > > 10 \t Fit vs Val (MAc) = 0.745 vs nan\n",
      " > > 10 \t Fit vs Val (MAc) = 0.744 vs 0.786\n",
      " > > 10 \t Fit vs Val (MAc) = 0.746 vs 0.721\n",
      " > > 10 \t Fit vs Val (MAc) = 0.744 vs 0.838\n",
      " > > 10 \t Fit vs Val (MAc) = 0.745 vs 0.681\n",
      " > > 10 \t Fit vs Val (MAc) = 0.748 vs 0.666\n",
      " > > 10 \t Fit vs Val (MAc) = 0.743 vs 0.824\n",
      " > > 10 \t Fit vs Val (MAc) = 0.745 vs 0.689\n",
      " > > 10 \t Fit vs Val (MAc) = 0.733 vs 0.902\n",
      " > > 10 \t Fit vs Val (MAc) = 0.755 vs 0.590\n"
     ]
    },
    {
     "name": "stderr",
     "output_type": "stream",
     "text": [
      "/store/tveiga/miniconda3/envs/py/lib/python3.7/site-packages/numpy/lib/function_base.py:356: RuntimeWarning: Mean of empty slice.\n",
      "  avg = a.mean(axis)\n",
      "/store/tveiga/miniconda3/envs/py/lib/python3.7/site-packages/numpy/core/_methods.py:85: RuntimeWarning: invalid value encountered in double_scalars\n",
      "  ret = ret.dtype.type(ret / rcount)\n"
     ]
    },
    {
     "name": "stdout",
     "output_type": "stream",
     "text": [
      " > > 10 \t Fit vs Val (MAc) = 0.745 vs nan\n",
      " > > 10 \t Fit vs Val (MAc) = 0.745 vs 0.709\n",
      " > > 10 \t Fit vs Val (MAc) = 0.745 vs 0.767\n",
      " > > 10 \t Fit vs Val (MAc) = 0.749 vs 0.466\n",
      " > > 10 \t Fit vs Val (MAc) = 0.744 vs 0.723\n",
      " > > 10 \t Fit vs Val (MAc) = 0.748 vs 0.546\n",
      " > > 10 \t Fit vs Val (MAc) = 0.733 vs 0.916\n",
      " > > BEST-TH: 117.000 (0.759)\n",
      " > > TEST Score : 0.574\n",
      "> 11\n",
      " > > 11 \t Fit vs Val (MAc) = 0.751 vs 0.962\n",
      " > > 11 \t Fit vs Val (MAc) = 0.751 vs 0.945\n",
      " > > 11 \t Fit vs Val (MAc) = 0.753 vs 0.815\n",
      " > > 11 \t Fit vs Val (MAc) = 0.749 vs 0.946\n",
      " > > 11 \t Fit vs Val (MAc) = 0.751 vs 0.963\n",
      " > > 11 \t Fit vs Val (MAc) = 0.750 vs 0.978\n",
      " > > 11 \t Fit vs Val (MAc) = 0.753 vs 0.821\n",
      " > > 11 \t Fit vs Val (MAc) = 0.741 vs 0.979\n",
      " > > 11 \t Fit vs Val (MAc) = 0.751 vs 0.952\n",
      " > > 11 \t Fit vs Val (MAc) = 0.751 vs 0.955\n",
      " > > 11 \t Fit vs Val (MAc) = 0.748 vs 0.727\n"
     ]
    },
    {
     "name": "stderr",
     "output_type": "stream",
     "text": [
      "/store/tveiga/miniconda3/envs/py/lib/python3.7/site-packages/numpy/lib/function_base.py:356: RuntimeWarning: Mean of empty slice.\n",
      "  avg = a.mean(axis)\n",
      "/store/tveiga/miniconda3/envs/py/lib/python3.7/site-packages/numpy/core/_methods.py:85: RuntimeWarning: invalid value encountered in double_scalars\n",
      "  ret = ret.dtype.type(ret / rcount)\n"
     ]
    },
    {
     "name": "stdout",
     "output_type": "stream",
     "text": [
      " > > 11 \t Fit vs Val (MAc) = 0.752 vs nan\n",
      " > > 11 \t Fit vs Val (MAc) = 0.751 vs 0.931\n",
      " > > 11 \t Fit vs Val (MAc) = 0.756 vs 0.710\n",
      " > > 11 \t Fit vs Val (MAc) = 0.759 vs 0.514\n",
      " > > 11 \t Fit vs Val (MAc) = 0.757 vs 0.642\n",
      " > > 11 \t Fit vs Val (MAc) = 0.743 vs 0.969\n",
      " > > 11 \t Fit vs Val (MAc) = 0.751 vs 0.967\n",
      " > > 11 \t Fit vs Val (MAc) = 0.761 vs 0.566\n",
      " > > 11 \t Fit vs Val (MAc) = 0.758 vs 0.779\n"
     ]
    },
    {
     "name": "stderr",
     "output_type": "stream",
     "text": [
      "/store/tveiga/miniconda3/envs/py/lib/python3.7/site-packages/numpy/lib/function_base.py:356: RuntimeWarning: Mean of empty slice.\n",
      "  avg = a.mean(axis)\n",
      "/store/tveiga/miniconda3/envs/py/lib/python3.7/site-packages/numpy/core/_methods.py:85: RuntimeWarning: invalid value encountered in double_scalars\n",
      "  ret = ret.dtype.type(ret / rcount)\n"
     ]
    },
    {
     "name": "stdout",
     "output_type": "stream",
     "text": [
      " > > 11 \t Fit vs Val (MAc) = 0.752 vs nan\n",
      " > > 11 \t Fit vs Val (MAc) = 0.755 vs 0.848\n",
      " > > 11 \t Fit vs Val (MAc) = 0.757 vs 0.761\n",
      " > > 11 \t Fit vs Val (MAc) = 0.759 vs 0.664\n",
      " > > 11 \t Fit vs Val (MAc) = 0.759 vs 0.758\n",
      " > > 11 \t Fit vs Val (MAc) = 0.753 vs 0.850\n",
      " > > 11 \t Fit vs Val (MAc) = 0.749 vs 0.803\n",
      " > > 11 \t Fit vs Val (MAc) = 0.759 vs 0.685\n",
      " > > 11 \t Fit vs Val (MAc) = 0.733 vs 0.921\n",
      " > > 11 \t Fit vs Val (MAc) = 0.749 vs 0.837\n"
     ]
    },
    {
     "name": "stderr",
     "output_type": "stream",
     "text": [
      "/store/tveiga/miniconda3/envs/py/lib/python3.7/site-packages/numpy/lib/function_base.py:356: RuntimeWarning: Mean of empty slice.\n",
      "  avg = a.mean(axis)\n",
      "/store/tveiga/miniconda3/envs/py/lib/python3.7/site-packages/numpy/core/_methods.py:85: RuntimeWarning: invalid value encountered in double_scalars\n",
      "  ret = ret.dtype.type(ret / rcount)\n"
     ]
    },
    {
     "name": "stdout",
     "output_type": "stream",
     "text": [
      " > > 11 \t Fit vs Val (MAc) = 0.752 vs nan\n",
      " > > 11 \t Fit vs Val (MAc) = 0.758 vs 0.737\n",
      " > > 11 \t Fit vs Val (MAc) = 0.761 vs 0.585\n",
      " > > 11 \t Fit vs Val (MAc) = 0.756 vs 0.758\n",
      " > > 11 \t Fit vs Val (MAc) = 0.747 vs 0.848\n",
      " > > 11 \t Fit vs Val (MAc) = 0.757 vs 0.789\n",
      " > > 11 \t Fit vs Val (MAc) = 0.731 vs 0.967\n",
      " > > BEST-TH: 68.000 (1.036)\n",
      " > > TEST Score : 0.734\n",
      "> 12\n",
      " > > 12 \t Fit vs Val (MAc) = 0.791 vs 0.756\n",
      " > > 12 \t Fit vs Val (MAc) = 0.790 vs 0.809\n",
      " > > 12 \t Fit vs Val (MAc) = 0.792 vs 0.609\n",
      " > > 12 \t Fit vs Val (MAc) = 0.786 vs 0.881\n",
      " > > 12 \t Fit vs Val (MAc) = 0.789 vs 0.816\n",
      " > > 12 \t Fit vs Val (MAc) = 0.787 vs 0.896\n",
      " > > 12 \t Fit vs Val (MAc) = 0.788 vs 0.934\n",
      " > > 12 \t Fit vs Val (MAc) = 0.779 vs 0.979\n",
      " > > 12 \t Fit vs Val (MAc) = 0.794 vs 0.566\n",
      " > > 12 \t Fit vs Val (MAc) = 0.788 vs 0.898\n",
      " > > 12 \t Fit vs Val (MAc) = 0.801 vs 0.574\n"
     ]
    },
    {
     "name": "stderr",
     "output_type": "stream",
     "text": [
      "/store/tveiga/miniconda3/envs/py/lib/python3.7/site-packages/numpy/lib/function_base.py:356: RuntimeWarning: Mean of empty slice.\n",
      "  avg = a.mean(axis)\n",
      "/store/tveiga/miniconda3/envs/py/lib/python3.7/site-packages/numpy/core/_methods.py:85: RuntimeWarning: invalid value encountered in double_scalars\n",
      "  ret = ret.dtype.type(ret / rcount)\n"
     ]
    },
    {
     "name": "stdout",
     "output_type": "stream",
     "text": [
      " > > 12 \t Fit vs Val (MAc) = 0.789 vs nan\n",
      " > > 12 \t Fit vs Val (MAc) = 0.792 vs 0.711\n",
      " > > 12 \t Fit vs Val (MAc) = 0.789 vs 0.886\n",
      " > > 12 \t Fit vs Val (MAc) = 0.795 vs 0.538\n",
      " > > 12 \t Fit vs Val (MAc) = 0.792 vs 0.700\n",
      " > > 12 \t Fit vs Val (MAc) = 0.781 vs 0.948\n",
      " > > 12 \t Fit vs Val (MAc) = 0.789 vs 0.831\n",
      " > > 12 \t Fit vs Val (MAc) = 0.792 vs 0.865\n",
      " > > 12 \t Fit vs Val (MAc) = 0.792 vs 0.849\n"
     ]
    },
    {
     "name": "stderr",
     "output_type": "stream",
     "text": [
      "/store/tveiga/miniconda3/envs/py/lib/python3.7/site-packages/numpy/lib/function_base.py:356: RuntimeWarning: Mean of empty slice.\n",
      "  avg = a.mean(axis)\n",
      "/store/tveiga/miniconda3/envs/py/lib/python3.7/site-packages/numpy/core/_methods.py:85: RuntimeWarning: invalid value encountered in double_scalars\n",
      "  ret = ret.dtype.type(ret / rcount)\n"
     ]
    },
    {
     "name": "stdout",
     "output_type": "stream",
     "text": [
      " > > 12 \t Fit vs Val (MAc) = 0.789 vs nan\n",
      " > > 12 \t Fit vs Val (MAc) = 0.790 vs 0.859\n",
      " > > 12 \t Fit vs Val (MAc) = 0.792 vs 0.864\n",
      " > > 12 \t Fit vs Val (MAc) = 0.792 vs 0.804\n",
      " > > 12 \t Fit vs Val (MAc) = 0.791 vs 0.849\n",
      " > > 12 \t Fit vs Val (MAc) = 0.788 vs 0.894\n",
      " > > 12 \t Fit vs Val (MAc) = 0.783 vs 0.903\n",
      " > > 12 \t Fit vs Val (MAc) = 0.791 vs 0.862\n",
      " > > 12 \t Fit vs Val (MAc) = 0.773 vs 0.952\n",
      " > > 12 \t Fit vs Val (MAc) = 0.791 vs 0.802\n"
     ]
    },
    {
     "name": "stderr",
     "output_type": "stream",
     "text": [
      "/store/tveiga/miniconda3/envs/py/lib/python3.7/site-packages/numpy/lib/function_base.py:356: RuntimeWarning: Mean of empty slice.\n",
      "  avg = a.mean(axis)\n",
      "/store/tveiga/miniconda3/envs/py/lib/python3.7/site-packages/numpy/core/_methods.py:85: RuntimeWarning: invalid value encountered in double_scalars\n",
      "  ret = ret.dtype.type(ret / rcount)\n"
     ]
    },
    {
     "name": "stdout",
     "output_type": "stream",
     "text": [
      " > > 12 \t Fit vs Val (MAc) = 0.789 vs nan\n",
      " > > 12 \t Fit vs Val (MAc) = 0.789 vs 0.889\n",
      " > > 12 \t Fit vs Val (MAc) = 0.791 vs 0.868\n",
      " > > 12 \t Fit vs Val (MAc) = 0.789 vs 0.895\n",
      " > > 12 \t Fit vs Val (MAc) = 0.783 vs 0.901\n",
      " > > 12 \t Fit vs Val (MAc) = 0.792 vs 0.876\n",
      " > > 12 \t Fit vs Val (MAc) = 0.772 vs 0.978\n",
      " > > BEST-TH: 99.000 (1.251)\n",
      " > > TEST Score : 0.744\n",
      "> 13\n",
      " > > 13 \t Fit vs Val (MAc) = 0.837 vs 0.965\n",
      " > > 13 \t Fit vs Val (MAc) = 0.838 vs 0.960\n",
      " > > 13 \t Fit vs Val (MAc) = 0.841 vs 0.878\n",
      " > > 13 \t Fit vs Val (MAc) = 0.837 vs 0.957\n",
      " > > 13 \t Fit vs Val (MAc) = 0.838 vs 0.954\n",
      " > > 13 \t Fit vs Val (MAc) = 0.837 vs 0.977\n",
      " > > 13 \t Fit vs Val (MAc) = 0.838 vs 0.944\n",
      " > > 13 \t Fit vs Val (MAc) = 0.832 vs 0.978\n",
      " > > 13 \t Fit vs Val (MAc) = 0.838 vs 0.961\n",
      " > > 13 \t Fit vs Val (MAc) = 0.838 vs 0.968\n",
      " > > 13 \t Fit vs Val (MAc) = 0.829 vs 0.948\n"
     ]
    },
    {
     "name": "stderr",
     "output_type": "stream",
     "text": [
      "/store/tveiga/miniconda3/envs/py/lib/python3.7/site-packages/numpy/lib/function_base.py:356: RuntimeWarning: Mean of empty slice.\n",
      "  avg = a.mean(axis)\n",
      "/store/tveiga/miniconda3/envs/py/lib/python3.7/site-packages/numpy/core/_methods.py:85: RuntimeWarning: invalid value encountered in double_scalars\n",
      "  ret = ret.dtype.type(ret / rcount)\n"
     ]
    },
    {
     "name": "stdout",
     "output_type": "stream",
     "text": [
      " > > 13 \t Fit vs Val (MAc) = 0.839 vs nan\n",
      " > > 13 \t Fit vs Val (MAc) = 0.838 vs 0.946\n",
      " > > 13 \t Fit vs Val (MAc) = 0.839 vs 0.925\n",
      " > > 13 \t Fit vs Val (MAc) = 0.841 vs 0.740\n",
      " > > 13 \t Fit vs Val (MAc) = 0.842 vs 0.755\n",
      " > > 13 \t Fit vs Val (MAc) = 0.833 vs 0.961\n",
      " > > 13 \t Fit vs Val (MAc) = 0.838 vs 0.972\n",
      " > > 13 \t Fit vs Val (MAc) = 0.843 vs 0.741\n",
      " > > 13 \t Fit vs Val (MAc) = 0.843 vs 0.835\n"
     ]
    },
    {
     "name": "stderr",
     "output_type": "stream",
     "text": [
      "/store/tveiga/miniconda3/envs/py/lib/python3.7/site-packages/numpy/lib/function_base.py:356: RuntimeWarning: Mean of empty slice.\n",
      "  avg = a.mean(axis)\n",
      "/store/tveiga/miniconda3/envs/py/lib/python3.7/site-packages/numpy/core/_methods.py:85: RuntimeWarning: invalid value encountered in double_scalars\n",
      "  ret = ret.dtype.type(ret / rcount)\n"
     ]
    },
    {
     "name": "stdout",
     "output_type": "stream",
     "text": [
      " > > 13 \t Fit vs Val (MAc) = 0.839 vs nan\n",
      " > > 13 \t Fit vs Val (MAc) = 0.843 vs 0.715\n",
      " > > 13 \t Fit vs Val (MAc) = 0.842 vs 0.819\n",
      " > > 13 \t Fit vs Val (MAc) = 0.846 vs 0.601\n",
      " > > 13 \t Fit vs Val (MAc) = 0.843 vs 0.836\n",
      " > > 13 \t Fit vs Val (MAc) = 0.839 vs 0.883\n",
      " > > 13 \t Fit vs Val (MAc) = 0.835 vs 0.900\n",
      " > > 13 \t Fit vs Val (MAc) = 0.843 vs 0.791\n",
      " > > 13 \t Fit vs Val (MAc) = 0.827 vs 0.956\n",
      " > > 13 \t Fit vs Val (MAc) = 0.838 vs 0.880\n"
     ]
    },
    {
     "name": "stderr",
     "output_type": "stream",
     "text": [
      "/store/tveiga/miniconda3/envs/py/lib/python3.7/site-packages/numpy/lib/function_base.py:356: RuntimeWarning: Mean of empty slice.\n",
      "  avg = a.mean(axis)\n",
      "/store/tveiga/miniconda3/envs/py/lib/python3.7/site-packages/numpy/core/_methods.py:85: RuntimeWarning: invalid value encountered in double_scalars\n",
      "  ret = ret.dtype.type(ret / rcount)\n"
     ]
    },
    {
     "name": "stdout",
     "output_type": "stream",
     "text": [
      " > > 13 \t Fit vs Val (MAc) = 0.839 vs nan\n",
      " > > 13 \t Fit vs Val (MAc) = 0.841 vs 0.842\n",
      " > > 13 \t Fit vs Val (MAc) = 0.845 vs 0.633\n",
      " > > 13 \t Fit vs Val (MAc) = 0.840 vs 0.827\n",
      " > > 13 \t Fit vs Val (MAc) = 0.836 vs 0.900\n",
      " > > 13 \t Fit vs Val (MAc) = 0.844 vs 0.632\n",
      " > > 13 \t Fit vs Val (MAc) = 0.826 vs 0.982\n",
      " > > BEST-TH: 96.000 (0.722)\n",
      " > > TEST Score : 0.798\n",
      "> 14\n",
      " > > 14 \t Fit vs Val (MAc) = 0.759 vs 0.453\n",
      " > > 14 \t Fit vs Val (MAc) = 0.755 vs 0.653\n",
      " > > 14 \t Fit vs Val (MAc) = 0.755 vs 0.742\n",
      " > > 14 \t Fit vs Val (MAc) = 0.756 vs 0.474\n",
      " > > 14 \t Fit vs Val (MAc) = 0.753 vs 0.787\n",
      " > > 14 \t Fit vs Val (MAc) = 0.755 vs 0.619\n",
      " > > 14 \t Fit vs Val (MAc) = 0.752 vs 0.834\n",
      " > > 14 \t Fit vs Val (MAc) = 0.745 vs 0.933\n",
      " > > 14 \t Fit vs Val (MAc) = 0.754 vs 0.679\n",
      " > > 14 \t Fit vs Val (MAc) = 0.753 vs 0.770\n",
      " > > 14 \t Fit vs Val (MAc) = 0.773 vs 0.498\n"
     ]
    },
    {
     "name": "stderr",
     "output_type": "stream",
     "text": [
      "/store/tveiga/miniconda3/envs/py/lib/python3.7/site-packages/numpy/lib/function_base.py:356: RuntimeWarning: Mean of empty slice.\n",
      "  avg = a.mean(axis)\n",
      "/store/tveiga/miniconda3/envs/py/lib/python3.7/site-packages/numpy/core/_methods.py:85: RuntimeWarning: invalid value encountered in double_scalars\n",
      "  ret = ret.dtype.type(ret / rcount)\n"
     ]
    },
    {
     "name": "stdout",
     "output_type": "stream",
     "text": [
      " > > 14 \t Fit vs Val (MAc) = 0.753 vs nan\n",
      " > > 14 \t Fit vs Val (MAc) = 0.753 vs 0.766\n",
      " > > 14 \t Fit vs Val (MAc) = 0.752 vs 0.845\n",
      " > > 14 \t Fit vs Val (MAc) = 0.752 vs 0.838\n",
      " > > 14 \t Fit vs Val (MAc) = 0.752 vs 0.809\n",
      " > > 14 \t Fit vs Val (MAc) = 0.746 vs 0.914\n",
      " > > 14 \t Fit vs Val (MAc) = 0.756 vs 0.571\n",
      " > > 14 \t Fit vs Val (MAc) = 0.753 vs 0.765\n",
      " > > 14 \t Fit vs Val (MAc) = 0.754 vs 0.830\n"
     ]
    },
    {
     "name": "stderr",
     "output_type": "stream",
     "text": [
      "/store/tveiga/miniconda3/envs/py/lib/python3.7/site-packages/numpy/lib/function_base.py:356: RuntimeWarning: Mean of empty slice.\n",
      "  avg = a.mean(axis)\n",
      "/store/tveiga/miniconda3/envs/py/lib/python3.7/site-packages/numpy/core/_methods.py:85: RuntimeWarning: invalid value encountered in double_scalars\n",
      "  ret = ret.dtype.type(ret / rcount)\n"
     ]
    },
    {
     "name": "stdout",
     "output_type": "stream",
     "text": [
      " > > 14 \t Fit vs Val (MAc) = 0.753 vs nan\n",
      " > > 14 \t Fit vs Val (MAc) = 0.753 vs 0.842\n",
      " > > 14 \t Fit vs Val (MAc) = 0.754 vs 0.804\n",
      " > > 14 \t Fit vs Val (MAc) = 0.753 vs 0.864\n",
      " > > 14 \t Fit vs Val (MAc) = 0.753 vs 0.743\n",
      " > > 14 \t Fit vs Val (MAc) = 0.755 vs 0.769\n",
      " > > 14 \t Fit vs Val (MAc) = 0.749 vs 0.859\n",
      " > > 14 \t Fit vs Val (MAc) = 0.753 vs 0.745\n",
      " > > 14 \t Fit vs Val (MAc) = 0.738 vs 0.935\n",
      " > > 14 \t Fit vs Val (MAc) = 0.756 vs 0.723\n"
     ]
    },
    {
     "name": "stderr",
     "output_type": "stream",
     "text": [
      "/store/tveiga/miniconda3/envs/py/lib/python3.7/site-packages/numpy/lib/function_base.py:356: RuntimeWarning: Mean of empty slice.\n",
      "  avg = a.mean(axis)\n",
      "/store/tveiga/miniconda3/envs/py/lib/python3.7/site-packages/numpy/core/_methods.py:85: RuntimeWarning: invalid value encountered in double_scalars\n",
      "  ret = ret.dtype.type(ret / rcount)\n"
     ]
    },
    {
     "name": "stdout",
     "output_type": "stream",
     "text": [
      " > > 14 \t Fit vs Val (MAc) = 0.753 vs nan\n",
      " > > 14 \t Fit vs Val (MAc) = 0.753 vs 0.828\n",
      " > > 14 \t Fit vs Val (MAc) = 0.753 vs 0.838\n",
      " > > 14 \t Fit vs Val (MAc) = 0.755 vs 0.693\n",
      " > > 14 \t Fit vs Val (MAc) = 0.750 vs 0.802\n",
      " > > 14 \t Fit vs Val (MAc) = 0.755 vs 0.721\n",
      " > > 14 \t Fit vs Val (MAc) = 0.739 vs 0.939\n",
      " > > BEST-TH: 115.000 (0.843)\n",
      " > > TEST Score : 0.639\n",
      "> 15\n",
      " > > 15 \t Fit vs Val (MAc) = 0.765 vs 0.893\n",
      " > > 15 \t Fit vs Val (MAc) = 0.764 vs 0.943\n",
      " > > 15 \t Fit vs Val (MAc) = 0.767 vs 0.853\n",
      " > > 15 \t Fit vs Val (MAc) = 0.763 vs 0.922\n",
      " > > 15 \t Fit vs Val (MAc) = 0.764 vs 0.950\n",
      " > > 15 \t Fit vs Val (MAc) = 0.763 vs 0.969\n",
      " > > 15 \t Fit vs Val (MAc) = 0.764 vs 0.917\n",
      " > > 15 \t Fit vs Val (MAc) = 0.755 vs 0.941\n",
      " > > 15 \t Fit vs Val (MAc) = 0.764 vs 0.949\n",
      " > > 15 \t Fit vs Val (MAc) = 0.765 vs 0.884\n",
      " > > 15 \t Fit vs Val (MAc) = 0.757 vs 0.794\n"
     ]
    },
    {
     "name": "stderr",
     "output_type": "stream",
     "text": [
      "/store/tveiga/miniconda3/envs/py/lib/python3.7/site-packages/numpy/lib/function_base.py:356: RuntimeWarning: Mean of empty slice.\n",
      "  avg = a.mean(axis)\n",
      "/store/tveiga/miniconda3/envs/py/lib/python3.7/site-packages/numpy/core/_methods.py:85: RuntimeWarning: invalid value encountered in double_scalars\n",
      "  ret = ret.dtype.type(ret / rcount)\n"
     ]
    },
    {
     "name": "stdout",
     "output_type": "stream",
     "text": [
      " > > 15 \t Fit vs Val (MAc) = 0.765 vs nan\n",
      " > > 15 \t Fit vs Val (MAc) = 0.765 vs 0.867\n",
      " > > 15 \t Fit vs Val (MAc) = 0.766 vs 0.855\n",
      " > > 15 \t Fit vs Val (MAc) = 0.766 vs 0.835\n",
      " > > 15 \t Fit vs Val (MAc) = 0.769 vs 0.650\n",
      " > > 15 \t Fit vs Val (MAc) = 0.756 vs 0.952\n",
      " > > 15 \t Fit vs Val (MAc) = 0.764 vs 0.962\n",
      " > > 15 \t Fit vs Val (MAc) = 0.772 vs 0.674\n",
      " > > 15 \t Fit vs Val (MAc) = 0.771 vs 0.784\n"
     ]
    },
    {
     "name": "stderr",
     "output_type": "stream",
     "text": [
      "/store/tveiga/miniconda3/envs/py/lib/python3.7/site-packages/numpy/lib/function_base.py:356: RuntimeWarning: Mean of empty slice.\n",
      "  avg = a.mean(axis)\n",
      "/store/tveiga/miniconda3/envs/py/lib/python3.7/site-packages/numpy/core/_methods.py:85: RuntimeWarning: invalid value encountered in double_scalars\n",
      "  ret = ret.dtype.type(ret / rcount)\n"
     ]
    },
    {
     "name": "stdout",
     "output_type": "stream",
     "text": [
      " > > 15 \t Fit vs Val (MAc) = 0.765 vs nan\n",
      " > > 15 \t Fit vs Val (MAc) = 0.769 vs 0.779\n",
      " > > 15 \t Fit vs Val (MAc) = 0.770 vs 0.750\n",
      " > > 15 \t Fit vs Val (MAc) = 0.772 vs 0.654\n",
      " > > 15 \t Fit vs Val (MAc) = 0.772 vs 0.742\n",
      " > > 15 \t Fit vs Val (MAc) = 0.766 vs 0.850\n",
      " > > 15 \t Fit vs Val (MAc) = 0.761 vs 0.801\n",
      " > > 15 \t Fit vs Val (MAc) = 0.771 vs 0.703\n",
      " > > 15 \t Fit vs Val (MAc) = 0.747 vs 0.923\n",
      " > > 15 \t Fit vs Val (MAc) = 0.762 vs 0.835\n"
     ]
    },
    {
     "name": "stderr",
     "output_type": "stream",
     "text": [
      "/store/tveiga/miniconda3/envs/py/lib/python3.7/site-packages/numpy/lib/function_base.py:356: RuntimeWarning: Mean of empty slice.\n",
      "  avg = a.mean(axis)\n",
      "/store/tveiga/miniconda3/envs/py/lib/python3.7/site-packages/numpy/core/_methods.py:85: RuntimeWarning: invalid value encountered in double_scalars\n",
      "  ret = ret.dtype.type(ret / rcount)\n"
     ]
    },
    {
     "name": "stdout",
     "output_type": "stream",
     "text": [
      " > > 15 \t Fit vs Val (MAc) = 0.765 vs nan\n",
      " > > 15 \t Fit vs Val (MAc) = 0.770 vs 0.735\n",
      " > > 15 \t Fit vs Val (MAc) = 0.774 vs 0.488\n",
      " > > 15 \t Fit vs Val (MAc) = 0.769 vs 0.817\n",
      " > > 15 \t Fit vs Val (MAc) = 0.762 vs 0.824\n",
      " > > 15 \t Fit vs Val (MAc) = 0.769 vs 0.800\n",
      " > > 15 \t Fit vs Val (MAc) = 0.745 vs 0.961\n",
      " > > BEST-TH: 44.000 (0.609)\n",
      " > > TEST Score : 0.714\n",
      "> 16\n",
      " > > 16 \t Fit vs Val (MAc) = 0.792 vs 0.835\n",
      " > > 16 \t Fit vs Val (MAc) = 0.792 vs 0.857\n",
      " > > 16 \t Fit vs Val (MAc) = 0.796 vs 0.603\n",
      " > > 16 \t Fit vs Val (MAc) = 0.789 vs 0.854\n",
      " > > 16 \t Fit vs Val (MAc) = 0.792 vs 0.822\n",
      " > > 16 \t Fit vs Val (MAc) = 0.792 vs 0.773\n",
      " > > 16 \t Fit vs Val (MAc) = 0.794 vs 0.719\n",
      " > > 16 \t Fit vs Val (MAc) = 0.783 vs 0.956\n",
      " > > 16 \t Fit vs Val (MAc) = 0.794 vs 0.682\n",
      " > > 16 \t Fit vs Val (MAc) = 0.792 vs 0.827\n",
      " > > 16 \t Fit vs Val (MAc) = 0.781 vs 0.880\n"
     ]
    },
    {
     "name": "stderr",
     "output_type": "stream",
     "text": [
      "/store/tveiga/miniconda3/envs/py/lib/python3.7/site-packages/numpy/lib/function_base.py:356: RuntimeWarning: Mean of empty slice.\n",
      "  avg = a.mean(axis)\n",
      "/store/tveiga/miniconda3/envs/py/lib/python3.7/site-packages/numpy/core/_methods.py:85: RuntimeWarning: invalid value encountered in double_scalars\n",
      "  ret = ret.dtype.type(ret / rcount)\n"
     ]
    },
    {
     "name": "stdout",
     "output_type": "stream",
     "text": [
      " > > 16 \t Fit vs Val (MAc) = 0.791 vs nan\n",
      " > > 16 \t Fit vs Val (MAc) = 0.794 vs 0.723\n",
      " > > 16 \t Fit vs Val (MAc) = 0.793 vs 0.797\n",
      " > > 16 \t Fit vs Val (MAc) = 0.796 vs 0.622\n",
      " > > 16 \t Fit vs Val (MAc) = 0.795 vs 0.649\n",
      " > > 16 \t Fit vs Val (MAc) = 0.785 vs 0.919\n",
      " > > 16 \t Fit vs Val (MAc) = 0.792 vs 0.802\n",
      " > > 16 \t Fit vs Val (MAc) = 0.794 vs 0.844\n",
      " > > 16 \t Fit vs Val (MAc) = 0.795 vs 0.840\n"
     ]
    },
    {
     "name": "stderr",
     "output_type": "stream",
     "text": [
      "/store/tveiga/miniconda3/envs/py/lib/python3.7/site-packages/numpy/lib/function_base.py:356: RuntimeWarning: Mean of empty slice.\n",
      "  avg = a.mean(axis)\n",
      "/store/tveiga/miniconda3/envs/py/lib/python3.7/site-packages/numpy/core/_methods.py:85: RuntimeWarning: invalid value encountered in double_scalars\n",
      "  ret = ret.dtype.type(ret / rcount)\n"
     ]
    },
    {
     "name": "stdout",
     "output_type": "stream",
     "text": [
      " > > 16 \t Fit vs Val (MAc) = 0.791 vs nan\n",
      " > > 16 \t Fit vs Val (MAc) = 0.793 vs 0.849\n",
      " > > 16 \t Fit vs Val (MAc) = 0.795 vs 0.862\n",
      " > > 16 \t Fit vs Val (MAc) = 0.795 vs 0.867\n",
      " > > 16 \t Fit vs Val (MAc) = 0.797 vs 0.810\n",
      " > > 16 \t Fit vs Val (MAc) = 0.792 vs 0.873\n",
      " > > 16 \t Fit vs Val (MAc) = 0.788 vs 0.881\n",
      " > > 16 \t Fit vs Val (MAc) = 0.794 vs 0.839\n",
      " > > 16 \t Fit vs Val (MAc) = 0.778 vs 0.930\n",
      " > > 16 \t Fit vs Val (MAc) = 0.792 vs 0.822\n"
     ]
    },
    {
     "name": "stderr",
     "output_type": "stream",
     "text": [
      "/store/tveiga/miniconda3/envs/py/lib/python3.7/site-packages/numpy/lib/function_base.py:356: RuntimeWarning: Mean of empty slice.\n",
      "  avg = a.mean(axis)\n",
      "/store/tveiga/miniconda3/envs/py/lib/python3.7/site-packages/numpy/core/_methods.py:85: RuntimeWarning: invalid value encountered in double_scalars\n",
      "  ret = ret.dtype.type(ret / rcount)\n"
     ]
    },
    {
     "name": "stdout",
     "output_type": "stream",
     "text": [
      " > > 16 \t Fit vs Val (MAc) = 0.791 vs nan\n",
      " > > 16 \t Fit vs Val (MAc) = 0.794 vs 0.868\n",
      " > > 16 \t Fit vs Val (MAc) = 0.794 vs 0.852\n",
      " > > 16 \t Fit vs Val (MAc) = 0.793 vs 0.865\n",
      " > > 16 \t Fit vs Val (MAc) = 0.788 vs 0.876\n",
      " > > 16 \t Fit vs Val (MAc) = 0.794 vs 0.867\n",
      " > > 16 \t Fit vs Val (MAc) = 0.776 vs 0.971\n",
      " > > BEST-TH: 83.000 (0.617)\n",
      " > > TEST Score : 0.712\n",
      "> 17\n",
      " > > 17 \t Fit vs Val (MAc) = 0.831 vs 0.929\n",
      " > > 17 \t Fit vs Val (MAc) = 0.831 vs 0.960\n",
      " > > 17 \t Fit vs Val (MAc) = 0.835 vs 0.792\n",
      " > > 17 \t Fit vs Val (MAc) = 0.830 vs 0.928\n",
      " > > 17 \t Fit vs Val (MAc) = 0.832 vs 0.924\n",
      " > > 17 \t Fit vs Val (MAc) = 0.831 vs 0.932\n",
      " > > 17 \t Fit vs Val (MAc) = 0.832 vs 0.866\n",
      " > > 17 \t Fit vs Val (MAc) = 0.824 vs 0.970\n",
      " > > 17 \t Fit vs Val (MAc) = 0.832 vs 0.870\n",
      " > > 17 \t Fit vs Val (MAc) = 0.831 vs 0.910\n",
      " > > 17 \t Fit vs Val (MAc) = 0.822 vs 0.908\n"
     ]
    },
    {
     "name": "stderr",
     "output_type": "stream",
     "text": [
      "/store/tveiga/miniconda3/envs/py/lib/python3.7/site-packages/numpy/lib/function_base.py:356: RuntimeWarning: Mean of empty slice.\n",
      "  avg = a.mean(axis)\n",
      "/store/tveiga/miniconda3/envs/py/lib/python3.7/site-packages/numpy/core/_methods.py:85: RuntimeWarning: invalid value encountered in double_scalars\n",
      "  ret = ret.dtype.type(ret / rcount)\n"
     ]
    },
    {
     "name": "stdout",
     "output_type": "stream",
     "text": [
      " > > 17 \t Fit vs Val (MAc) = 0.831 vs nan\n",
      " > > 17 \t Fit vs Val (MAc) = 0.831 vs 0.909\n",
      " > > 17 \t Fit vs Val (MAc) = 0.833 vs 0.844\n",
      " > > 17 \t Fit vs Val (MAc) = 0.834 vs 0.761\n",
      " > > 17 \t Fit vs Val (MAc) = 0.834 vs 0.751\n",
      " > > 17 \t Fit vs Val (MAc) = 0.826 vs 0.951\n",
      " > > 17 \t Fit vs Val (MAc) = 0.831 vs 0.919\n",
      " > > 17 \t Fit vs Val (MAc) = 0.836 vs 0.824\n",
      " > > 17 \t Fit vs Val (MAc) = 0.836 vs 0.825\n"
     ]
    },
    {
     "name": "stderr",
     "output_type": "stream",
     "text": [
      "/store/tveiga/miniconda3/envs/py/lib/python3.7/site-packages/numpy/lib/function_base.py:356: RuntimeWarning: Mean of empty slice.\n",
      "  avg = a.mean(axis)\n",
      "/store/tveiga/miniconda3/envs/py/lib/python3.7/site-packages/numpy/core/_methods.py:85: RuntimeWarning: invalid value encountered in double_scalars\n",
      "  ret = ret.dtype.type(ret / rcount)\n"
     ]
    },
    {
     "name": "stdout",
     "output_type": "stream",
     "text": [
      " > > 17 \t Fit vs Val (MAc) = 0.831 vs nan\n",
      " > > 17 \t Fit vs Val (MAc) = 0.836 vs 0.765\n",
      " > > 17 \t Fit vs Val (MAc) = 0.835 vs 0.851\n",
      " > > 17 \t Fit vs Val (MAc) = 0.837 vs 0.769\n",
      " > > 17 \t Fit vs Val (MAc) = 0.837 vs 0.827\n",
      " > > 17 \t Fit vs Val (MAc) = 0.832 vs 0.866\n",
      " > > 17 \t Fit vs Val (MAc) = 0.827 vs 0.894\n",
      " > > 17 \t Fit vs Val (MAc) = 0.836 vs 0.827\n",
      " > > 17 \t Fit vs Val (MAc) = 0.819 vs 0.952\n",
      " > > 17 \t Fit vs Val (MAc) = 0.830 vs 0.888\n"
     ]
    },
    {
     "name": "stderr",
     "output_type": "stream",
     "text": [
      "/store/tveiga/miniconda3/envs/py/lib/python3.7/site-packages/numpy/lib/function_base.py:356: RuntimeWarning: Mean of empty slice.\n",
      "  avg = a.mean(axis)\n",
      "/store/tveiga/miniconda3/envs/py/lib/python3.7/site-packages/numpy/core/_methods.py:85: RuntimeWarning: invalid value encountered in double_scalars\n",
      "  ret = ret.dtype.type(ret / rcount)\n"
     ]
    },
    {
     "name": "stdout",
     "output_type": "stream",
     "text": [
      " > > 17 \t Fit vs Val (MAc) = 0.831 vs nan\n",
      " > > 17 \t Fit vs Val (MAc) = 0.834 vs 0.869\n",
      " > > 17 \t Fit vs Val (MAc) = 0.836 vs 0.796\n",
      " > > 17 \t Fit vs Val (MAc) = 0.833 vs 0.862\n",
      " > > 17 \t Fit vs Val (MAc) = 0.828 vs 0.887\n",
      " > > 17 \t Fit vs Val (MAc) = 0.835 vs 0.851\n",
      " > > 17 \t Fit vs Val (MAc) = 0.818 vs 0.979\n",
      " > > BEST-TH: 87.000 (0.553)\n",
      " > > TEST Score : 0.783\n",
      "> 18\n",
      " > > 18 \t Fit vs Val (MAc) = 0.674 vs 0.448\n",
      " > > 18 \t Fit vs Val (MAc) = 0.675 vs 0.356\n",
      " > > 18 \t Fit vs Val (MAc) = 0.670 vs 0.611\n",
      " > > 18 \t Fit vs Val (MAc) = 0.667 vs 0.665\n",
      " > > 18 \t Fit vs Val (MAc) = 0.674 vs 0.417\n",
      " > > 18 \t Fit vs Val (MAc) = 0.674 vs 0.391\n",
      " > > 18 \t Fit vs Val (MAc) = 0.672 vs 0.546\n",
      " > > 18 \t Fit vs Val (MAc) = 0.657 vs 0.939\n",
      " > > 18 \t Fit vs Val (MAc) = 0.674 vs 0.389\n",
      " > > 18 \t Fit vs Val (MAc) = 0.670 vs 0.663\n",
      " > > 18 \t Fit vs Val (MAc) = 0.683 vs 0.482\n"
     ]
    },
    {
     "name": "stderr",
     "output_type": "stream",
     "text": [
      "/store/tveiga/miniconda3/envs/py/lib/python3.7/site-packages/numpy/lib/function_base.py:356: RuntimeWarning: Mean of empty slice.\n",
      "  avg = a.mean(axis)\n",
      "/store/tveiga/miniconda3/envs/py/lib/python3.7/site-packages/numpy/core/_methods.py:85: RuntimeWarning: invalid value encountered in double_scalars\n",
      "  ret = ret.dtype.type(ret / rcount)\n"
     ]
    },
    {
     "name": "stdout",
     "output_type": "stream",
     "text": [
      " > > 18 \t Fit vs Val (MAc) = 0.669 vs nan\n",
      " > > 18 \t Fit vs Val (MAc) = 0.674 vs 0.450\n",
      " > > 18 \t Fit vs Val (MAc) = 0.666 vs 0.889\n",
      " > > 18 \t Fit vs Val (MAc) = 0.676 vs 0.303\n",
      " > > 18 \t Fit vs Val (MAc) = 0.668 vs 0.743\n",
      " > > 18 \t Fit vs Val (MAc) = 0.658 vs 0.922\n",
      " > > 18 \t Fit vs Val (MAc) = 0.675 vs 0.377\n",
      " > > 18 \t Fit vs Val (MAc) = 0.669 vs 0.813\n",
      " > > 18 \t Fit vs Val (MAc) = 0.670 vs 0.816\n"
     ]
    },
    {
     "name": "stderr",
     "output_type": "stream",
     "text": [
      "/store/tveiga/miniconda3/envs/py/lib/python3.7/site-packages/numpy/lib/function_base.py:356: RuntimeWarning: Mean of empty slice.\n",
      "  avg = a.mean(axis)\n",
      "/store/tveiga/miniconda3/envs/py/lib/python3.7/site-packages/numpy/core/_methods.py:85: RuntimeWarning: invalid value encountered in double_scalars\n",
      "  ret = ret.dtype.type(ret / rcount)\n"
     ]
    },
    {
     "name": "stdout",
     "output_type": "stream",
     "text": [
      " > > 18 \t Fit vs Val (MAc) = 0.669 vs nan\n",
      " > > 18 \t Fit vs Val (MAc) = 0.668 vs 0.863\n",
      " > > 18 \t Fit vs Val (MAc) = 0.670 vs 0.834\n",
      " > > 18 \t Fit vs Val (MAc) = 0.669 vs 0.877\n",
      " > > 18 \t Fit vs Val (MAc) = 0.671 vs 0.778\n",
      " > > 18 \t Fit vs Val (MAc) = 0.670 vs 0.801\n",
      " > > 18 \t Fit vs Val (MAc) = 0.663 vs 0.828\n",
      " > > 18 \t Fit vs Val (MAc) = 0.670 vs 0.809\n",
      " > > 18 \t Fit vs Val (MAc) = 0.652 vs 0.885\n",
      " > > 18 \t Fit vs Val (MAc) = 0.679 vs 0.607\n"
     ]
    },
    {
     "name": "stderr",
     "output_type": "stream",
     "text": [
      "/store/tveiga/miniconda3/envs/py/lib/python3.7/site-packages/numpy/lib/function_base.py:356: RuntimeWarning: Mean of empty slice.\n",
      "  avg = a.mean(axis)\n",
      "/store/tveiga/miniconda3/envs/py/lib/python3.7/site-packages/numpy/core/_methods.py:85: RuntimeWarning: invalid value encountered in double_scalars\n",
      "  ret = ret.dtype.type(ret / rcount)\n"
     ]
    },
    {
     "name": "stdout",
     "output_type": "stream",
     "text": [
      " > > 18 \t Fit vs Val (MAc) = 0.669 vs nan\n",
      " > > 18 \t Fit vs Val (MAc) = 0.668 vs 0.845\n",
      " > > 18 \t Fit vs Val (MAc) = 0.669 vs 0.853\n",
      " > > 18 \t Fit vs Val (MAc) = 0.669 vs 0.811\n",
      " > > 18 \t Fit vs Val (MAc) = 0.667 vs 0.754\n",
      " > > 18 \t Fit vs Val (MAc) = 0.669 vs 0.827\n",
      " > > 18 \t Fit vs Val (MAc) = 0.650 vs 0.924\n",
      " > > BEST-TH: 90.000 (1.553)\n",
      " > > TEST Score : 0.586\n",
      "> 19\n",
      " > > 19 \t Fit vs Val (MAc) = 0.747 vs 0.905\n",
      " > > 19 \t Fit vs Val (MAc) = 0.748 vs 0.909\n",
      " > > 19 \t Fit vs Val (MAc) = 0.750 vs 0.821\n",
      " > > 19 \t Fit vs Val (MAc) = 0.746 vs 0.851\n",
      " > > 19 \t Fit vs Val (MAc) = 0.748 vs 0.903\n",
      " > > 19 \t Fit vs Val (MAc) = 0.747 vs 0.938\n",
      " > > 19 \t Fit vs Val (MAc) = 0.748 vs 0.879\n",
      " > > 19 \t Fit vs Val (MAc) = 0.738 vs 0.914\n",
      " > > 19 \t Fit vs Val (MAc) = 0.748 vs 0.919\n",
      " > > 19 \t Fit vs Val (MAc) = 0.749 vs 0.800\n",
      " > > 19 \t Fit vs Val (MAc) = 0.746 vs 0.711\n"
     ]
    },
    {
     "name": "stderr",
     "output_type": "stream",
     "text": [
      "/store/tveiga/miniconda3/envs/py/lib/python3.7/site-packages/numpy/lib/function_base.py:356: RuntimeWarning: Mean of empty slice.\n",
      "  avg = a.mean(axis)\n",
      "/store/tveiga/miniconda3/envs/py/lib/python3.7/site-packages/numpy/core/_methods.py:85: RuntimeWarning: invalid value encountered in double_scalars\n",
      "  ret = ret.dtype.type(ret / rcount)\n"
     ]
    },
    {
     "name": "stdout",
     "output_type": "stream",
     "text": [
      " > > 19 \t Fit vs Val (MAc) = 0.748 vs nan\n",
      " > > 19 \t Fit vs Val (MAc) = 0.749 vs 0.841\n",
      " > > 19 \t Fit vs Val (MAc) = 0.750 vs 0.787\n",
      " > > 19 \t Fit vs Val (MAc) = 0.749 vs 0.788\n",
      " > > 19 \t Fit vs Val (MAc) = 0.751 vs 0.705\n",
      " > > 19 \t Fit vs Val (MAc) = 0.740 vs 0.876\n",
      " > > 19 \t Fit vs Val (MAc) = 0.747 vs 0.923\n",
      " > > 19 \t Fit vs Val (MAc) = 0.753 vs 0.787\n",
      " > > 19 \t Fit vs Val (MAc) = 0.754 vs 0.736\n"
     ]
    },
    {
     "name": "stderr",
     "output_type": "stream",
     "text": [
      "/store/tveiga/miniconda3/envs/py/lib/python3.7/site-packages/numpy/lib/function_base.py:356: RuntimeWarning: Mean of empty slice.\n",
      "  avg = a.mean(axis)\n",
      "/store/tveiga/miniconda3/envs/py/lib/python3.7/site-packages/numpy/core/_methods.py:85: RuntimeWarning: invalid value encountered in double_scalars\n",
      "  ret = ret.dtype.type(ret / rcount)\n"
     ]
    },
    {
     "name": "stdout",
     "output_type": "stream",
     "text": [
      " > > 19 \t Fit vs Val (MAc) = 0.748 vs nan\n",
      " > > 19 \t Fit vs Val (MAc) = 0.753 vs 0.716\n",
      " > > 19 \t Fit vs Val (MAc) = 0.752 vs 0.785\n",
      " > > 19 \t Fit vs Val (MAc) = 0.753 vs 0.704\n",
      " > > 19 \t Fit vs Val (MAc) = 0.754 vs 0.716\n",
      " > > 19 \t Fit vs Val (MAc) = 0.749 vs 0.792\n",
      " > > 19 \t Fit vs Val (MAc) = 0.744 vs 0.778\n",
      " > > 19 \t Fit vs Val (MAc) = 0.754 vs 0.722\n",
      " > > 19 \t Fit vs Val (MAc) = 0.730 vs 0.903\n",
      " > > 19 \t Fit vs Val (MAc) = 0.747 vs 0.804\n"
     ]
    },
    {
     "name": "stderr",
     "output_type": "stream",
     "text": [
      "/store/tveiga/miniconda3/envs/py/lib/python3.7/site-packages/numpy/lib/function_base.py:356: RuntimeWarning: Mean of empty slice.\n",
      "  avg = a.mean(axis)\n",
      "/store/tveiga/miniconda3/envs/py/lib/python3.7/site-packages/numpy/core/_methods.py:85: RuntimeWarning: invalid value encountered in double_scalars\n",
      "  ret = ret.dtype.type(ret / rcount)\n"
     ]
    },
    {
     "name": "stdout",
     "output_type": "stream",
     "text": [
      " > > 19 \t Fit vs Val (MAc) = 0.748 vs nan\n",
      " > > 19 \t Fit vs Val (MAc) = 0.753 vs 0.745\n",
      " > > 19 \t Fit vs Val (MAc) = 0.754 vs 0.690\n",
      " > > 19 \t Fit vs Val (MAc) = 0.752 vs 0.815\n",
      " > > 19 \t Fit vs Val (MAc) = 0.745 vs 0.785\n",
      " > > 19 \t Fit vs Val (MAc) = 0.752 vs 0.805\n",
      " > > 19 \t Fit vs Val (MAc) = 0.728 vs 0.937\n",
      " > > BEST-TH: 28.000 (0.523)\n",
      " > > TEST Score : 0.713\n",
      "> 20\n",
      " > > 20 \t Fit vs Val (MAc) = 0.788 vs 0.840\n",
      " > > 20 \t Fit vs Val (MAc) = 0.788 vs 0.829\n",
      " > > 20 \t Fit vs Val (MAc) = 0.792 vs 0.684\n",
      " > > 20 \t Fit vs Val (MAc) = 0.786 vs 0.851\n",
      " > > 20 \t Fit vs Val (MAc) = 0.789 vs 0.782\n",
      " > > 20 \t Fit vs Val (MAc) = 0.788 vs 0.798\n",
      " > > 20 \t Fit vs Val (MAc) = 0.789 vs 0.785\n",
      " > > 20 \t Fit vs Val (MAc) = 0.782 vs 0.826\n",
      " > > 20 \t Fit vs Val (MAc) = 0.790 vs 0.750\n",
      " > > 20 \t Fit vs Val (MAc) = 0.788 vs 0.864\n",
      " > > 20 \t Fit vs Val (MAc) = 0.787 vs 0.742\n"
     ]
    },
    {
     "name": "stderr",
     "output_type": "stream",
     "text": [
      "/store/tveiga/miniconda3/envs/py/lib/python3.7/site-packages/numpy/lib/function_base.py:356: RuntimeWarning: Mean of empty slice.\n",
      "  avg = a.mean(axis)\n",
      "/store/tveiga/miniconda3/envs/py/lib/python3.7/site-packages/numpy/core/_methods.py:85: RuntimeWarning: invalid value encountered in double_scalars\n",
      "  ret = ret.dtype.type(ret / rcount)\n"
     ]
    },
    {
     "name": "stdout",
     "output_type": "stream",
     "text": [
      " > > 20 \t Fit vs Val (MAc) = 0.788 vs nan\n",
      " > > 20 \t Fit vs Val (MAc) = 0.789 vs 0.807\n",
      " > > 20 \t Fit vs Val (MAc) = 0.789 vs 0.800\n",
      " > > 20 \t Fit vs Val (MAc) = 0.787 vs 0.872\n",
      " > > 20 \t Fit vs Val (MAc) = 0.788 vs 0.853\n",
      " > > 20 \t Fit vs Val (MAc) = 0.783 vs 0.845\n",
      " > > 20 \t Fit vs Val (MAc) = 0.789 vs 0.795\n",
      " > > 20 \t Fit vs Val (MAc) = 0.792 vs 0.760\n",
      " > > 20 \t Fit vs Val (MAc) = 0.792 vs 0.802\n"
     ]
    },
    {
     "name": "stderr",
     "output_type": "stream",
     "text": [
      "/store/tveiga/miniconda3/envs/py/lib/python3.7/site-packages/numpy/lib/function_base.py:356: RuntimeWarning: Mean of empty slice.\n",
      "  avg = a.mean(axis)\n",
      "/store/tveiga/miniconda3/envs/py/lib/python3.7/site-packages/numpy/core/_methods.py:85: RuntimeWarning: invalid value encountered in double_scalars\n",
      "  ret = ret.dtype.type(ret / rcount)\n"
     ]
    },
    {
     "name": "stdout",
     "output_type": "stream",
     "text": [
      " > > 20 \t Fit vs Val (MAc) = 0.788 vs nan\n",
      " > > 20 \t Fit vs Val (MAc) = 0.791 vs 0.789\n",
      " > > 20 \t Fit vs Val (MAc) = 0.791 vs 0.807\n",
      " > > 20 \t Fit vs Val (MAc) = 0.791 vs 0.806\n",
      " > > 20 \t Fit vs Val (MAc) = 0.792 vs 0.772\n",
      " > > 20 \t Fit vs Val (MAc) = 0.789 vs 0.837\n",
      " > > 20 \t Fit vs Val (MAc) = 0.785 vs 0.863\n",
      " > > 20 \t Fit vs Val (MAc) = 0.791 vs 0.770\n",
      " > > 20 \t Fit vs Val (MAc) = 0.773 vs 0.954\n",
      " > > 20 \t Fit vs Val (MAc) = 0.784 vs 0.856\n"
     ]
    },
    {
     "name": "stderr",
     "output_type": "stream",
     "text": [
      "/store/tveiga/miniconda3/envs/py/lib/python3.7/site-packages/numpy/lib/function_base.py:356: RuntimeWarning: Mean of empty slice.\n",
      "  avg = a.mean(axis)\n",
      "/store/tveiga/miniconda3/envs/py/lib/python3.7/site-packages/numpy/core/_methods.py:85: RuntimeWarning: invalid value encountered in double_scalars\n",
      "  ret = ret.dtype.type(ret / rcount)\n"
     ]
    },
    {
     "name": "stdout",
     "output_type": "stream",
     "text": [
      " > > 20 \t Fit vs Val (MAc) = 0.788 vs nan\n",
      " > > 20 \t Fit vs Val (MAc) = 0.790 vs 0.842\n",
      " > > 20 \t Fit vs Val (MAc) = 0.791 vs 0.837\n",
      " > > 20 \t Fit vs Val (MAc) = 0.790 vs 0.767\n",
      " > > 20 \t Fit vs Val (MAc) = 0.787 vs 0.834\n",
      " > > 20 \t Fit vs Val (MAc) = 0.791 vs 0.789\n",
      " > > 20 \t Fit vs Val (MAc) = 0.773 vs 0.963\n",
      " > > BEST-TH: 0.302 (0.002)\n",
      " > > TEST Score : 0.790\n",
      "Experiment [2] [0, 1]\n",
      "> 0\n",
      " > > 0 \t Fit vs Val (MAc) = 0.788 vs 0.342\n",
      " > > 0 \t Fit vs Val (MAc) = 0.773 vs 0.837\n",
      " > > 0 \t Fit vs Val (MAc) = 0.775 vs 0.782\n",
      " > > 0 \t Fit vs Val (MAc) = 0.770 vs 0.946\n",
      " > > 0 \t Fit vs Val (MAc) = 0.777 vs 0.655\n",
      " > > 0 \t Fit vs Val (MAc) = 0.770 vs 0.905\n",
      " > > 0 \t Fit vs Val (MAc) = 0.779 vs 0.668\n",
      " > > 0 \t Fit vs Val (MAc) = 0.759 vs 0.983\n",
      " > > 0 \t Fit vs Val (MAc) = 0.772 vs 0.923\n",
      " > > 0 \t Fit vs Val (MAc) = 0.779 vs 0.635\n",
      " > > 0 \t Fit vs Val (MAc) = 0.769 vs 0.735\n"
     ]
    },
    {
     "name": "stderr",
     "output_type": "stream",
     "text": [
      "/store/tveiga/miniconda3/envs/py/lib/python3.7/site-packages/numpy/lib/function_base.py:356: RuntimeWarning: Mean of empty slice.\n",
      "  avg = a.mean(axis)\n",
      "/store/tveiga/miniconda3/envs/py/lib/python3.7/site-packages/numpy/core/_methods.py:85: RuntimeWarning: invalid value encountered in double_scalars\n",
      "  ret = ret.dtype.type(ret / rcount)\n"
     ]
    },
    {
     "name": "stdout",
     "output_type": "stream",
     "text": [
      " > > 0 \t Fit vs Val (MAc) = 0.777 vs nan\n",
      " > > 0 \t Fit vs Val (MAc) = 0.789 vs 0.317\n",
      " > > 0 \t Fit vs Val (MAc) = 0.779 vs 0.774\n",
      " > > 0 \t Fit vs Val (MAc) = 0.791 vs 0.247\n",
      " > > 0 \t Fit vs Val (MAc) = 0.785 vs 0.430\n",
      " > > 0 \t Fit vs Val (MAc) = 0.763 vs 0.946\n",
      " > > 0 \t Fit vs Val (MAc) = 0.771 vs 0.912\n",
      " > > 0 \t Fit vs Val (MAc) = 0.785 vs 0.814\n",
      " > > 0 \t Fit vs Val (MAc) = 0.783 vs 0.865\n"
     ]
    },
    {
     "name": "stderr",
     "output_type": "stream",
     "text": [
      "/store/tveiga/miniconda3/envs/py/lib/python3.7/site-packages/numpy/lib/function_base.py:356: RuntimeWarning: Mean of empty slice.\n",
      "  avg = a.mean(axis)\n",
      "/store/tveiga/miniconda3/envs/py/lib/python3.7/site-packages/numpy/core/_methods.py:85: RuntimeWarning: invalid value encountered in double_scalars\n",
      "  ret = ret.dtype.type(ret / rcount)\n"
     ]
    },
    {
     "name": "stdout",
     "output_type": "stream",
     "text": [
      " > > 0 \t Fit vs Val (MAc) = 0.777 vs nan\n",
      " > > 0 \t Fit vs Val (MAc) = 0.784 vs 0.808\n",
      " > > BEST-TH: 135.000 (4.685)\n",
      " > > TEST Score : 0.781\n",
      "> 1\n",
      " > > 1 \t Fit vs Val (MAc) = 0.703 vs 0.000\n",
      " > > 1 \t Fit vs Val (MAc) = 0.707 vs 0.022\n",
      " > > 1 \t Fit vs Val (MAc) = 0.730 vs 0.872\n",
      " > > 1 \t Fit vs Val (MAc) = 0.729 vs 0.838\n",
      " > > 1 \t Fit vs Val (MAc) = 0.711 vs 0.044\n",
      " > > 1 \t Fit vs Val (MAc) = 0.732 vs 0.940\n",
      " > > 1 \t Fit vs Val (MAc) = 0.706 vs 0.017\n",
      " > > 1 \t Fit vs Val (MAc) = 0.721 vs 0.605\n",
      " > > 1 \t Fit vs Val (MAc) = 0.712 vs 0.048\n",
      " > > 1 \t Fit vs Val (MAc) = 0.706 vs 0.016\n",
      " > > 1 \t Fit vs Val (MAc) = 0.707 vs 0.239\n"
     ]
    },
    {
     "name": "stderr",
     "output_type": "stream",
     "text": [
      "/store/tveiga/miniconda3/envs/py/lib/python3.7/site-packages/numpy/lib/function_base.py:356: RuntimeWarning: Mean of empty slice.\n",
      "  avg = a.mean(axis)\n",
      "/store/tveiga/miniconda3/envs/py/lib/python3.7/site-packages/numpy/core/_methods.py:85: RuntimeWarning: invalid value encountered in double_scalars\n",
      "  ret = ret.dtype.type(ret / rcount)\n"
     ]
    },
    {
     "name": "stdout",
     "output_type": "stream",
     "text": [
      " > > 1 \t Fit vs Val (MAc) = 0.718 vs nan\n",
      " > > 1 \t Fit vs Val (MAc) = 0.703 vs 0.003\n",
      " > > 1 \t Fit vs Val (MAc) = 0.732 vs 0.958\n",
      " > > 1 \t Fit vs Val (MAc) = 0.703 vs 0.000\n",
      " > > 1 \t Fit vs Val (MAc) = 0.733 vs 0.966\n",
      " > > 1 \t Fit vs Val (MAc) = 0.722 vs 0.628\n",
      " > > 1 \t Fit vs Val (MAc) = 0.710 vs 0.038\n",
      " > > 1 \t Fit vs Val (MAc) = 0.728 vs 0.831\n",
      " > > 1 \t Fit vs Val (MAc) = 0.727 vs 0.778\n"
     ]
    },
    {
     "name": "stderr",
     "output_type": "stream",
     "text": [
      "/store/tveiga/miniconda3/envs/py/lib/python3.7/site-packages/numpy/lib/function_base.py:356: RuntimeWarning: Mean of empty slice.\n",
      "  avg = a.mean(axis)\n",
      "/store/tveiga/miniconda3/envs/py/lib/python3.7/site-packages/numpy/core/_methods.py:85: RuntimeWarning: invalid value encountered in double_scalars\n",
      "  ret = ret.dtype.type(ret / rcount)\n"
     ]
    },
    {
     "name": "stdout",
     "output_type": "stream",
     "text": [
      " > > 1 \t Fit vs Val (MAc) = 0.718 vs nan\n",
      " > > 1 \t Fit vs Val (MAc) = 0.730 vs 0.876\n",
      " > > BEST-TH: 1.000 (0.000)\n",
      " > > TEST Score : 0.534\n",
      "> 2\n",
      " > > 2 \t Fit vs Val (MAc) = 0.634 vs 0.880\n",
      " > > 2 \t Fit vs Val (MAc) = 0.638 vs 0.787\n",
      " > > 2 \t Fit vs Val (MAc) = 0.647 vs 0.739\n",
      " > > 2 \t Fit vs Val (MAc) = 0.629 vs 0.682\n",
      " > > 2 \t Fit vs Val (MAc) = 0.643 vs 0.713\n",
      " > > 2 \t Fit vs Val (MAc) = 0.634 vs 0.820\n",
      " > > 2 \t Fit vs Val (MAc) = 0.639 vs 0.752\n",
      " > > 2 \t Fit vs Val (MAc) = 0.673 vs 0.645\n",
      " > > 2 \t Fit vs Val (MAc) = 0.637 vs 0.819\n",
      " > > 2 \t Fit vs Val (MAc) = 0.644 vs 0.524\n",
      " > > 2 \t Fit vs Val (MAc) = 0.678 vs 0.402\n"
     ]
    },
    {
     "name": "stderr",
     "output_type": "stream",
     "text": [
      "/store/tveiga/miniconda3/envs/py/lib/python3.7/site-packages/numpy/lib/function_base.py:356: RuntimeWarning: Mean of empty slice.\n",
      "  avg = a.mean(axis)\n",
      "/store/tveiga/miniconda3/envs/py/lib/python3.7/site-packages/numpy/core/_methods.py:85: RuntimeWarning: invalid value encountered in double_scalars\n",
      "  ret = ret.dtype.type(ret / rcount)\n"
     ]
    },
    {
     "name": "stdout",
     "output_type": "stream",
     "text": [
      " > > 2 \t Fit vs Val (MAc) = 0.639 vs nan\n",
      " > > 2 \t Fit vs Val (MAc) = 0.638 vs 0.751\n",
      " > > 2 \t Fit vs Val (MAc) = 0.638 vs 0.774\n",
      " > > 2 \t Fit vs Val (MAc) = 0.639 vs 0.709\n",
      " > > 2 \t Fit vs Val (MAc) = 0.641 vs 0.681\n",
      " > > 2 \t Fit vs Val (MAc) = 0.603 vs 0.896\n",
      " > > 2 \t Fit vs Val (MAc) = 0.638 vs 0.778\n",
      " > > 2 \t Fit vs Val (MAc) = 0.633 vs 0.505\n",
      " > > 2 \t Fit vs Val (MAc) = 0.630 vs 0.503\n"
     ]
    },
    {
     "name": "stderr",
     "output_type": "stream",
     "text": [
      "/store/tveiga/miniconda3/envs/py/lib/python3.7/site-packages/numpy/lib/function_base.py:356: RuntimeWarning: Mean of empty slice.\n",
      "  avg = a.mean(axis)\n",
      "/store/tveiga/miniconda3/envs/py/lib/python3.7/site-packages/numpy/core/_methods.py:85: RuntimeWarning: invalid value encountered in double_scalars\n",
      "  ret = ret.dtype.type(ret / rcount)\n"
     ]
    },
    {
     "name": "stdout",
     "output_type": "stream",
     "text": [
      " > > 2 \t Fit vs Val (MAc) = 0.639 vs nan\n",
      " > > 2 \t Fit vs Val (MAc) = 0.636 vs 0.572\n",
      " > > BEST-TH: 106.000 (3.223)\n",
      " > > TEST Score : 0.595\n",
      "> 3\n",
      " > > 3 \t Fit vs Val (MAc) = 0.667 vs 0.683\n",
      " > > 3 \t Fit vs Val (MAc) = 0.661 vs 0.839\n",
      " > > 3 \t Fit vs Val (MAc) = 0.662 vs 0.743\n",
      " > > 3 \t Fit vs Val (MAc) = 0.662 vs 0.930\n",
      " > > 3 \t Fit vs Val (MAc) = 0.661 vs 0.845\n",
      " > > 3 \t Fit vs Val (MAc) = 0.663 vs 0.880\n",
      " > > 3 \t Fit vs Val (MAc) = 0.670 vs 0.557\n",
      " > > 3 \t Fit vs Val (MAc) = 0.637 vs 0.972\n",
      " > > 3 \t Fit vs Val (MAc) = 0.664 vs 0.745\n",
      " > > 3 \t Fit vs Val (MAc) = 0.671 vs 0.503\n",
      " > > 3 \t Fit vs Val (MAc) = 0.673 vs 0.466\n"
     ]
    },
    {
     "name": "stderr",
     "output_type": "stream",
     "text": [
      "/store/tveiga/miniconda3/envs/py/lib/python3.7/site-packages/numpy/lib/function_base.py:356: RuntimeWarning: Mean of empty slice.\n",
      "  avg = a.mean(axis)\n",
      "/store/tveiga/miniconda3/envs/py/lib/python3.7/site-packages/numpy/core/_methods.py:85: RuntimeWarning: invalid value encountered in double_scalars\n",
      "  ret = ret.dtype.type(ret / rcount)\n"
     ]
    },
    {
     "name": "stdout",
     "output_type": "stream",
     "text": [
      " > > 3 \t Fit vs Val (MAc) = 0.667 vs nan\n",
      " > > 3 \t Fit vs Val (MAc) = 0.672 vs 0.524\n",
      " > > 3 \t Fit vs Val (MAc) = 0.674 vs 0.561\n",
      " > > 3 \t Fit vs Val (MAc) = 0.680 vs 0.256\n",
      " > > 3 \t Fit vs Val (MAc) = 0.674 vs 0.534\n",
      " > > 3 \t Fit vs Val (MAc) = 0.643 vs 0.953\n",
      " > > 3 \t Fit vs Val (MAc) = 0.661 vs 0.966\n",
      " > > 3 \t Fit vs Val (MAc) = 0.688 vs 0.240\n",
      " > > 3 \t Fit vs Val (MAc) = 0.698 vs 0.370\n"
     ]
    },
    {
     "name": "stderr",
     "output_type": "stream",
     "text": [
      "/store/tveiga/miniconda3/envs/py/lib/python3.7/site-packages/numpy/lib/function_base.py:356: RuntimeWarning: Mean of empty slice.\n",
      "  avg = a.mean(axis)\n",
      "/store/tveiga/miniconda3/envs/py/lib/python3.7/site-packages/numpy/core/_methods.py:85: RuntimeWarning: invalid value encountered in double_scalars\n",
      "  ret = ret.dtype.type(ret / rcount)\n"
     ]
    },
    {
     "name": "stdout",
     "output_type": "stream",
     "text": [
      " > > 3 \t Fit vs Val (MAc) = 0.667 vs nan\n",
      " > > 3 \t Fit vs Val (MAc) = 0.682 vs 0.533\n",
      " > > BEST-TH: 120.000 (9.689)\n",
      " > > TEST Score : 0.647\n",
      "> 4\n",
      " > > 4 \t Fit vs Val (MAc) = 0.776 vs 0.369\n",
      " > > 4 \t Fit vs Val (MAc) = 0.761 vs 0.854\n",
      " > > 4 \t Fit vs Val (MAc) = 0.761 vs 0.819\n",
      " > > 4 \t Fit vs Val (MAc) = 0.755 vs 0.954\n",
      " > > 4 \t Fit vs Val (MAc) = 0.761 vs 0.947\n",
      " > > 4 \t Fit vs Val (MAc) = 0.758 vs 0.946\n",
      " > > 4 \t Fit vs Val (MAc) = 0.767 vs 0.705\n",
      " > > 4 \t Fit vs Val (MAc) = 0.742 vs 0.979\n",
      " > > 4 \t Fit vs Val (MAc) = 0.763 vs 0.765\n",
      " > > 4 \t Fit vs Val (MAc) = 0.768 vs 0.606\n",
      " > > 4 \t Fit vs Val (MAc) = 0.793 vs 0.543\n"
     ]
    },
    {
     "name": "stderr",
     "output_type": "stream",
     "text": [
      "/store/tveiga/miniconda3/envs/py/lib/python3.7/site-packages/numpy/lib/function_base.py:356: RuntimeWarning: Mean of empty slice.\n",
      "  avg = a.mean(axis)\n",
      "/store/tveiga/miniconda3/envs/py/lib/python3.7/site-packages/numpy/core/_methods.py:85: RuntimeWarning: invalid value encountered in double_scalars\n",
      "  ret = ret.dtype.type(ret / rcount)\n"
     ]
    },
    {
     "name": "stdout",
     "output_type": "stream",
     "text": [
      " > > 4 \t Fit vs Val (MAc) = 0.765 vs nan\n",
      " > > 4 \t Fit vs Val (MAc) = 0.778 vs 0.321\n",
      " > > 4 \t Fit vs Val (MAc) = 0.763 vs 0.932\n",
      " > > 4 \t Fit vs Val (MAc) = 0.783 vs 0.180\n",
      " > > 4 \t Fit vs Val (MAc) = 0.769 vs 0.567\n",
      " > > 4 \t Fit vs Val (MAc) = 0.747 vs 0.950\n",
      " > > 4 \t Fit vs Val (MAc) = 0.761 vs 0.833\n",
      " > > 4 \t Fit vs Val (MAc) = 0.769 vs 0.856\n",
      " > > 4 \t Fit vs Val (MAc) = 0.769 vs 0.878\n"
     ]
    },
    {
     "name": "stderr",
     "output_type": "stream",
     "text": [
      "/store/tveiga/miniconda3/envs/py/lib/python3.7/site-packages/numpy/lib/function_base.py:356: RuntimeWarning: Mean of empty slice.\n",
      "  avg = a.mean(axis)\n",
      "/store/tveiga/miniconda3/envs/py/lib/python3.7/site-packages/numpy/core/_methods.py:85: RuntimeWarning: invalid value encountered in double_scalars\n",
      "  ret = ret.dtype.type(ret / rcount)\n"
     ]
    },
    {
     "name": "stdout",
     "output_type": "stream",
     "text": [
      " > > 4 \t Fit vs Val (MAc) = 0.765 vs nan\n",
      " > > 4 \t Fit vs Val (MAc) = 0.770 vs 0.894\n",
      " > > BEST-TH: 139.000 (5.107)\n",
      " > > TEST Score : 0.807\n",
      "> 5\n",
      " > > 5 \t Fit vs Val (MAc) = 0.849 vs 0.993\n",
      " > > 5 \t Fit vs Val (MAc) = 0.851 vs 0.980\n",
      " > > 5 \t Fit vs Val (MAc) = 0.863 vs 0.887\n",
      " > > 5 \t Fit vs Val (MAc) = 0.851 vs 0.954\n",
      " > > 5 \t Fit vs Val (MAc) = 0.854 vs 0.959\n",
      " > > 5 \t Fit vs Val (MAc) = 0.852 vs 0.969\n",
      " > > 5 \t Fit vs Val (MAc) = 0.851 vs 0.970\n",
      " > > 5 \t Fit vs Val (MAc) = 0.838 vs 0.985\n",
      " > > 5 \t Fit vs Val (MAc) = 0.854 vs 0.954\n",
      " > > 5 \t Fit vs Val (MAc) = 0.850 vs 0.965\n",
      " > > 5 \t Fit vs Val (MAc) = 0.821 vs 0.903\n"
     ]
    },
    {
     "name": "stderr",
     "output_type": "stream",
     "text": [
      "/store/tveiga/miniconda3/envs/py/lib/python3.7/site-packages/numpy/lib/function_base.py:356: RuntimeWarning: Mean of empty slice.\n",
      "  avg = a.mean(axis)\n",
      "/store/tveiga/miniconda3/envs/py/lib/python3.7/site-packages/numpy/core/_methods.py:85: RuntimeWarning: invalid value encountered in double_scalars\n",
      "  ret = ret.dtype.type(ret / rcount)\n"
     ]
    },
    {
     "name": "stdout",
     "output_type": "stream",
     "text": [
      " > > 5 \t Fit vs Val (MAc) = 0.852 vs nan\n",
      " > > 5 \t Fit vs Val (MAc) = 0.849 vs 0.987\n",
      " > > 5 \t Fit vs Val (MAc) = 0.858 vs 0.823\n",
      " > > 5 \t Fit vs Val (MAc) = 0.850 vs 0.947\n",
      " > > 5 \t Fit vs Val (MAc) = 0.859 vs 0.744\n",
      " > > 5 \t Fit vs Val (MAc) = 0.842 vs 0.962\n",
      " > > 5 \t Fit vs Val (MAc) = 0.854 vs 0.965\n",
      " > > 5 \t Fit vs Val (MAc) = 0.865 vs 0.320\n",
      " > > 5 \t Fit vs Val (MAc) = 0.862 vs 0.424\n"
     ]
    },
    {
     "name": "stderr",
     "output_type": "stream",
     "text": [
      "/store/tveiga/miniconda3/envs/py/lib/python3.7/site-packages/numpy/lib/function_base.py:356: RuntimeWarning: Mean of empty slice.\n",
      "  avg = a.mean(axis)\n",
      "/store/tveiga/miniconda3/envs/py/lib/python3.7/site-packages/numpy/core/_methods.py:85: RuntimeWarning: invalid value encountered in double_scalars\n",
      "  ret = ret.dtype.type(ret / rcount)\n"
     ]
    },
    {
     "name": "stdout",
     "output_type": "stream",
     "text": [
      " > > 5 \t Fit vs Val (MAc) = 0.852 vs nan\n",
      " > > 5 \t Fit vs Val (MAc) = 0.860 vs 0.578\n",
      " > > BEST-TH: 164.000 (3.633)\n",
      " > > TEST Score : 0.762\n",
      "> 6\n",
      " > > 6 \t Fit vs Val (MAc) = 0.682 vs 0.789\n",
      " > > 6 \t Fit vs Val (MAc) = 0.686 vs 0.739\n",
      " > > 6 \t Fit vs Val (MAc) = 0.695 vs 0.718\n",
      " > > 6 \t Fit vs Val (MAc) = 0.677 vs 0.664\n",
      " > > 6 \t Fit vs Val (MAc) = 0.684 vs 0.859\n",
      " > > 6 \t Fit vs Val (MAc) = 0.685 vs 0.618\n",
      " > > 6 \t Fit vs Val (MAc) = 0.682 vs 0.828\n",
      " > > 6 \t Fit vs Val (MAc) = 0.690 vs 0.728\n",
      " > > 6 \t Fit vs Val (MAc) = 0.688 vs 0.587\n",
      " > > 6 \t Fit vs Val (MAc) = 0.685 vs 0.688\n",
      " > > 6 \t Fit vs Val (MAc) = 0.725 vs 0.552\n"
     ]
    },
    {
     "name": "stderr",
     "output_type": "stream",
     "text": [
      "/store/tveiga/miniconda3/envs/py/lib/python3.7/site-packages/numpy/lib/function_base.py:356: RuntimeWarning: Mean of empty slice.\n",
      "  avg = a.mean(axis)\n",
      "/store/tveiga/miniconda3/envs/py/lib/python3.7/site-packages/numpy/core/_methods.py:85: RuntimeWarning: invalid value encountered in double_scalars\n",
      "  ret = ret.dtype.type(ret / rcount)\n"
     ]
    },
    {
     "name": "stdout",
     "output_type": "stream",
     "text": [
      " > > 6 \t Fit vs Val (MAc) = 0.684 vs nan\n",
      " > > 6 \t Fit vs Val (MAc) = 0.683 vs 0.746\n",
      " > > 6 \t Fit vs Val (MAc) = 0.683 vs 0.836\n",
      " > > 6 \t Fit vs Val (MAc) = 0.685 vs 0.688\n",
      " > > 6 \t Fit vs Val (MAc) = 0.683 vs 0.773\n",
      " > > 6 \t Fit vs Val (MAc) = 0.658 vs 0.850\n",
      " > > 6 \t Fit vs Val (MAc) = 0.690 vs 0.485\n",
      " > > 6 \t Fit vs Val (MAc) = 0.681 vs 0.527\n",
      " > > 6 \t Fit vs Val (MAc) = 0.680 vs 0.683\n"
     ]
    },
    {
     "name": "stderr",
     "output_type": "stream",
     "text": [
      "/store/tveiga/miniconda3/envs/py/lib/python3.7/site-packages/numpy/lib/function_base.py:356: RuntimeWarning: Mean of empty slice.\n",
      "  avg = a.mean(axis)\n",
      "/store/tveiga/miniconda3/envs/py/lib/python3.7/site-packages/numpy/core/_methods.py:85: RuntimeWarning: invalid value encountered in double_scalars\n",
      "  ret = ret.dtype.type(ret / rcount)\n"
     ]
    },
    {
     "name": "stdout",
     "output_type": "stream",
     "text": [
      " > > 6 \t Fit vs Val (MAc) = 0.684 vs nan\n",
      " > > 6 \t Fit vs Val (MAc) = 0.683 vs 0.756\n",
      " > > BEST-TH: 114.000 (3.293)\n",
      " > > TEST Score : 0.649\n",
      "> 7\n",
      " > > 7 \t Fit vs Val (MAc) = 0.748 vs 0.881\n",
      " > > 7 \t Fit vs Val (MAc) = 0.747 vs 0.884\n",
      " > > 7 \t Fit vs Val (MAc) = 0.748 vs 0.808\n",
      " > > 7 \t Fit vs Val (MAc) = 0.743 vs 0.953\n",
      " > > 7 \t Fit vs Val (MAc) = 0.749 vs 0.872\n",
      " > > 7 \t Fit vs Val (MAc) = 0.744 vs 0.970\n",
      " > > 7 \t Fit vs Val (MAc) = 0.749 vs 0.872\n",
      " > > 7 \t Fit vs Val (MAc) = 0.723 vs 0.982\n",
      " > > 7 \t Fit vs Val (MAc) = 0.750 vs 0.791\n",
      " > > 7 \t Fit vs Val (MAc) = 0.752 vs 0.768\n",
      " > > 7 \t Fit vs Val (MAc) = 0.730 vs 0.714\n"
     ]
    },
    {
     "name": "stderr",
     "output_type": "stream",
     "text": [
      "/store/tveiga/miniconda3/envs/py/lib/python3.7/site-packages/numpy/lib/function_base.py:356: RuntimeWarning: Mean of empty slice.\n",
      "  avg = a.mean(axis)\n",
      "/store/tveiga/miniconda3/envs/py/lib/python3.7/site-packages/numpy/core/_methods.py:85: RuntimeWarning: invalid value encountered in double_scalars\n",
      "  ret = ret.dtype.type(ret / rcount)\n"
     ]
    },
    {
     "name": "stdout",
     "output_type": "stream",
     "text": [
      " > > 7 \t Fit vs Val (MAc) = 0.750 vs nan\n",
      " > > 7 \t Fit vs Val (MAc) = 0.754 vs 0.698\n",
      " > > 7 \t Fit vs Val (MAc) = 0.759 vs 0.587\n",
      " > > 7 \t Fit vs Val (MAc) = 0.756 vs 0.613\n",
      " > > 7 \t Fit vs Val (MAc) = 0.757 vs 0.649\n",
      " > > 7 \t Fit vs Val (MAc) = 0.730 vs 0.960\n",
      " > > 7 \t Fit vs Val (MAc) = 0.748 vs 0.935\n",
      " > > 7 \t Fit vs Val (MAc) = 0.774 vs 0.479\n",
      " > > 7 \t Fit vs Val (MAc) = 0.777 vs 0.509\n"
     ]
    },
    {
     "name": "stderr",
     "output_type": "stream",
     "text": [
      "/store/tveiga/miniconda3/envs/py/lib/python3.7/site-packages/numpy/lib/function_base.py:356: RuntimeWarning: Mean of empty slice.\n",
      "  avg = a.mean(axis)\n",
      "/store/tveiga/miniconda3/envs/py/lib/python3.7/site-packages/numpy/core/_methods.py:85: RuntimeWarning: invalid value encountered in double_scalars\n",
      "  ret = ret.dtype.type(ret / rcount)\n"
     ]
    },
    {
     "name": "stdout",
     "output_type": "stream",
     "text": [
      " > > 7 \t Fit vs Val (MAc) = 0.750 vs nan\n",
      " > > 7 \t Fit vs Val (MAc) = 0.763 vs 0.803\n",
      " > > BEST-TH: 99.000 (3.775)\n",
      " > > TEST Score : 0.754\n",
      "> 8\n",
      " > > 8 \t Fit vs Val (MAc) = 0.778 vs 0.382\n",
      " > > 8 \t Fit vs Val (MAc) = 0.769 vs 0.660\n",
      " > > 8 \t Fit vs Val (MAc) = 0.764 vs 0.796\n",
      " > > 8 \t Fit vs Val (MAc) = 0.756 vs 0.914\n",
      " > > 8 \t Fit vs Val (MAc) = 0.765 vs 0.819\n",
      " > > 8 \t Fit vs Val (MAc) = 0.761 vs 0.910\n",
      " > > 8 \t Fit vs Val (MAc) = 0.766 vs 0.808\n",
      " > > 8 \t Fit vs Val (MAc) = 0.742 vs 0.979\n",
      " > > 8 \t Fit vs Val (MAc) = 0.765 vs 0.776\n",
      " > > 8 \t Fit vs Val (MAc) = 0.763 vs 0.922\n",
      " > > 8 \t Fit vs Val (MAc) = 0.803 vs 0.545\n"
     ]
    },
    {
     "name": "stderr",
     "output_type": "stream",
     "text": [
      "/store/tveiga/miniconda3/envs/py/lib/python3.7/site-packages/numpy/lib/function_base.py:356: RuntimeWarning: Mean of empty slice.\n",
      "  avg = a.mean(axis)\n",
      "/store/tveiga/miniconda3/envs/py/lib/python3.7/site-packages/numpy/core/_methods.py:85: RuntimeWarning: invalid value encountered in double_scalars\n",
      "  ret = ret.dtype.type(ret / rcount)\n"
     ]
    },
    {
     "name": "stdout",
     "output_type": "stream",
     "text": [
      " > > 8 \t Fit vs Val (MAc) = 0.767 vs nan\n",
      " > > 8 \t Fit vs Val (MAc) = 0.781 vs 0.296\n",
      " > > 8 \t Fit vs Val (MAc) = 0.765 vs 0.950\n",
      " > > 8 \t Fit vs Val (MAc) = 0.777 vs 0.438\n",
      " > > 8 \t Fit vs Val (MAc) = 0.768 vs 0.681\n",
      " > > 8 \t Fit vs Val (MAc) = 0.747 vs 0.952\n",
      " > > 8 \t Fit vs Val (MAc) = 0.761 vs 0.944\n",
      " > > 8 \t Fit vs Val (MAc) = 0.773 vs 0.885\n",
      " > > 8 \t Fit vs Val (MAc) = 0.776 vs 0.868\n"
     ]
    },
    {
     "name": "stderr",
     "output_type": "stream",
     "text": [
      "/store/tveiga/miniconda3/envs/py/lib/python3.7/site-packages/numpy/lib/function_base.py:356: RuntimeWarning: Mean of empty slice.\n",
      "  avg = a.mean(axis)\n",
      "/store/tveiga/miniconda3/envs/py/lib/python3.7/site-packages/numpy/core/_methods.py:85: RuntimeWarning: invalid value encountered in double_scalars\n",
      "  ret = ret.dtype.type(ret / rcount)\n"
     ]
    },
    {
     "name": "stdout",
     "output_type": "stream",
     "text": [
      " > > 8 \t Fit vs Val (MAc) = 0.767 vs nan\n",
      " > > 8 \t Fit vs Val (MAc) = 0.769 vs 0.826\n",
      " > > BEST-TH: 125.500 (3.609)\n",
      " > > TEST Score : 0.833\n",
      "> 9\n",
      " > > 9 \t Fit vs Val (MAc) = 0.851 vs 0.992\n",
      " > > 9 \t Fit vs Val (MAc) = 0.853 vs 0.972\n",
      " > > 9 \t Fit vs Val (MAc) = 0.862 vs 0.872\n",
      " > > 9 \t Fit vs Val (MAc) = 0.851 vs 0.965\n",
      " > > 9 \t Fit vs Val (MAc) = 0.856 vs 0.963\n",
      " > > 9 \t Fit vs Val (MAc) = 0.853 vs 0.980\n",
      " > > 9 \t Fit vs Val (MAc) = 0.854 vs 0.946\n",
      " > > 9 \t Fit vs Val (MAc) = 0.839 vs 0.980\n",
      " > > 9 \t Fit vs Val (MAc) = 0.856 vs 0.962\n",
      " > > 9 \t Fit vs Val (MAc) = 0.853 vs 0.977\n",
      " > > 9 \t Fit vs Val (MAc) = 0.824 vs 0.929\n"
     ]
    },
    {
     "name": "stderr",
     "output_type": "stream",
     "text": [
      "/store/tveiga/miniconda3/envs/py/lib/python3.7/site-packages/numpy/lib/function_base.py:356: RuntimeWarning: Mean of empty slice.\n",
      "  avg = a.mean(axis)\n",
      "/store/tveiga/miniconda3/envs/py/lib/python3.7/site-packages/numpy/core/_methods.py:85: RuntimeWarning: invalid value encountered in double_scalars\n",
      "  ret = ret.dtype.type(ret / rcount)\n"
     ]
    },
    {
     "name": "stdout",
     "output_type": "stream",
     "text": [
      " > > 9 \t Fit vs Val (MAc) = 0.854 vs nan\n",
      " > > 9 \t Fit vs Val (MAc) = 0.854 vs 0.928\n",
      " > > 9 \t Fit vs Val (MAc) = 0.860 vs 0.863\n",
      " > > 9 \t Fit vs Val (MAc) = 0.857 vs 0.800\n",
      " > > 9 \t Fit vs Val (MAc) = 0.864 vs 0.638\n",
      " > > 9 \t Fit vs Val (MAc) = 0.843 vs 0.963\n",
      " > > 9 \t Fit vs Val (MAc) = 0.856 vs 0.968\n",
      " > > 9 \t Fit vs Val (MAc) = 0.868 vs 0.392\n",
      " > > 9 \t Fit vs Val (MAc) = 0.863 vs 0.763\n"
     ]
    },
    {
     "name": "stderr",
     "output_type": "stream",
     "text": [
      "/store/tveiga/miniconda3/envs/py/lib/python3.7/site-packages/numpy/lib/function_base.py:356: RuntimeWarning: Mean of empty slice.\n",
      "  avg = a.mean(axis)\n",
      "/store/tveiga/miniconda3/envs/py/lib/python3.7/site-packages/numpy/core/_methods.py:85: RuntimeWarning: invalid value encountered in double_scalars\n",
      "  ret = ret.dtype.type(ret / rcount)\n"
     ]
    },
    {
     "name": "stdout",
     "output_type": "stream",
     "text": [
      " > > 9 \t Fit vs Val (MAc) = 0.854 vs nan\n",
      " > > 9 \t Fit vs Val (MAc) = 0.865 vs 0.663\n",
      " > > BEST-TH: 129.000 (2.632)\n",
      " > > TEST Score : 0.823\n",
      "> 10\n",
      " > > 10 \t Fit vs Val (MAc) = 0.725 vs 0.779\n",
      " > > 10 \t Fit vs Val (MAc) = 0.729 vs 0.712\n",
      " > > 10 \t Fit vs Val (MAc) = 0.733 vs 0.655\n",
      " > > 10 \t Fit vs Val (MAc) = 0.719 vs 0.742\n",
      " > > 10 \t Fit vs Val (MAc) = 0.727 vs 0.800\n",
      " > > 10 \t Fit vs Val (MAc) = 0.728 vs 0.608\n",
      " > > 10 \t Fit vs Val (MAc) = 0.724 vs 0.859\n",
      " > > 10 \t Fit vs Val (MAc) = 0.712 vs 0.854\n",
      " > > 10 \t Fit vs Val (MAc) = 0.728 vs 0.649\n",
      " > > 10 \t Fit vs Val (MAc) = 0.724 vs 0.810\n",
      " > > 10 \t Fit vs Val (MAc) = 0.777 vs 0.544\n"
     ]
    },
    {
     "name": "stderr",
     "output_type": "stream",
     "text": [
      "/store/tveiga/miniconda3/envs/py/lib/python3.7/site-packages/numpy/lib/function_base.py:356: RuntimeWarning: Mean of empty slice.\n",
      "  avg = a.mean(axis)\n",
      "/store/tveiga/miniconda3/envs/py/lib/python3.7/site-packages/numpy/core/_methods.py:85: RuntimeWarning: invalid value encountered in double_scalars\n",
      "  ret = ret.dtype.type(ret / rcount)\n"
     ]
    },
    {
     "name": "stdout",
     "output_type": "stream",
     "text": [
      " > > 10 \t Fit vs Val (MAc) = 0.726 vs nan\n",
      " > > 10 \t Fit vs Val (MAc) = 0.727 vs 0.715\n",
      " > > 10 \t Fit vs Val (MAc) = 0.725 vs 0.851\n",
      " > > 10 \t Fit vs Val (MAc) = 0.723 vs 0.849\n",
      " > > 10 \t Fit vs Val (MAc) = 0.724 vs 0.795\n",
      " > > 10 \t Fit vs Val (MAc) = 0.703 vs 0.878\n",
      " > > 10 \t Fit vs Val (MAc) = 0.730 vs 0.557\n",
      " > > 10 \t Fit vs Val (MAc) = 0.723 vs 0.661\n",
      " > > 10 \t Fit vs Val (MAc) = 0.721 vs 0.759\n"
     ]
    },
    {
     "name": "stderr",
     "output_type": "stream",
     "text": [
      "/store/tveiga/miniconda3/envs/py/lib/python3.7/site-packages/numpy/lib/function_base.py:356: RuntimeWarning: Mean of empty slice.\n",
      "  avg = a.mean(axis)\n",
      "/store/tveiga/miniconda3/envs/py/lib/python3.7/site-packages/numpy/core/_methods.py:85: RuntimeWarning: invalid value encountered in double_scalars\n",
      "  ret = ret.dtype.type(ret / rcount)\n"
     ]
    },
    {
     "name": "stdout",
     "output_type": "stream",
     "text": [
      " > > 10 \t Fit vs Val (MAc) = 0.726 vs nan\n",
      " > > 10 \t Fit vs Val (MAc) = 0.726 vs 0.790\n",
      " > > BEST-TH: 116.000 (2.029)\n",
      " > > TEST Score : 0.736\n",
      "> 11\n",
      " > > 11 \t Fit vs Val (MAc) = 0.760 vs 0.929\n",
      " > > 11 \t Fit vs Val (MAc) = 0.760 vs 0.922\n",
      " > > 11 \t Fit vs Val (MAc) = 0.764 vs 0.764\n",
      " > > 11 \t Fit vs Val (MAc) = 0.756 vs 0.928\n",
      " > > 11 \t Fit vs Val (MAc) = 0.762 vs 0.954\n",
      " > > 11 \t Fit vs Val (MAc) = 0.757 vs 0.976\n",
      " > > 11 \t Fit vs Val (MAc) = 0.766 vs 0.733\n",
      " > > 11 \t Fit vs Val (MAc) = 0.737 vs 0.970\n",
      " > > 11 \t Fit vs Val (MAc) = 0.762 vs 0.935\n",
      " > > 11 \t Fit vs Val (MAc) = 0.762 vs 0.914\n",
      " > > 11 \t Fit vs Val (MAc) = 0.739 vs 0.801\n"
     ]
    },
    {
     "name": "stderr",
     "output_type": "stream",
     "text": [
      "/store/tveiga/miniconda3/envs/py/lib/python3.7/site-packages/numpy/lib/function_base.py:356: RuntimeWarning: Mean of empty slice.\n",
      "  avg = a.mean(axis)\n",
      "/store/tveiga/miniconda3/envs/py/lib/python3.7/site-packages/numpy/core/_methods.py:85: RuntimeWarning: invalid value encountered in double_scalars\n",
      "  ret = ret.dtype.type(ret / rcount)\n"
     ]
    },
    {
     "name": "stdout",
     "output_type": "stream",
     "text": [
      " > > 11 \t Fit vs Val (MAc) = 0.763 vs nan\n",
      " > > 11 \t Fit vs Val (MAc) = 0.762 vs 0.870\n",
      " > > 11 \t Fit vs Val (MAc) = 0.773 vs 0.575\n",
      " > > 11 \t Fit vs Val (MAc) = 0.776 vs 0.381\n",
      " > > 11 \t Fit vs Val (MAc) = 0.774 vs 0.523\n",
      " > > 11 \t Fit vs Val (MAc) = 0.741 vs 0.956\n",
      " > > 11 \t Fit vs Val (MAc) = 0.761 vs 0.965\n",
      " > > 11 \t Fit vs Val (MAc) = 0.787 vs 0.459\n",
      " > > 11 \t Fit vs Val (MAc) = 0.785 vs 0.744\n"
     ]
    },
    {
     "name": "stderr",
     "output_type": "stream",
     "text": [
      "/store/tveiga/miniconda3/envs/py/lib/python3.7/site-packages/numpy/lib/function_base.py:356: RuntimeWarning: Mean of empty slice.\n",
      "  avg = a.mean(axis)\n",
      "/store/tveiga/miniconda3/envs/py/lib/python3.7/site-packages/numpy/core/_methods.py:85: RuntimeWarning: invalid value encountered in double_scalars\n",
      "  ret = ret.dtype.type(ret / rcount)\n"
     ]
    },
    {
     "name": "stdout",
     "output_type": "stream",
     "text": [
      " > > 11 \t Fit vs Val (MAc) = 0.763 vs nan\n",
      " > > 11 \t Fit vs Val (MAc) = 0.775 vs 0.814\n",
      " > > BEST-TH: 77.000 (2.083)\n",
      " > > TEST Score : 0.790\n",
      "> 12\n",
      " > > 12 \t Fit vs Val (MAc) = 0.755 vs 0.807\n",
      " > > 12 \t Fit vs Val (MAc) = 0.754 vs 0.860\n",
      " > > 12 \t Fit vs Val (MAc) = 0.755 vs 0.663\n",
      " > > 12 \t Fit vs Val (MAc) = 0.743 vs 0.907\n",
      " > > 12 \t Fit vs Val (MAc) = 0.754 vs 0.863\n",
      " > > 12 \t Fit vs Val (MAc) = 0.749 vs 0.922\n",
      " > > 12 \t Fit vs Val (MAc) = 0.752 vs 0.948\n",
      " > > 12 \t Fit vs Val (MAc) = 0.723 vs 0.979\n",
      " > > 12 \t Fit vs Val (MAc) = 0.758 vs 0.618\n",
      " > > 12 \t Fit vs Val (MAc) = 0.752 vs 0.923\n",
      " > > 12 \t Fit vs Val (MAc) = 0.801 vs 0.489\n"
     ]
    },
    {
     "name": "stderr",
     "output_type": "stream",
     "text": [
      "/store/tveiga/miniconda3/envs/py/lib/python3.7/site-packages/numpy/lib/function_base.py:356: RuntimeWarning: Mean of empty slice.\n",
      "  avg = a.mean(axis)\n",
      "/store/tveiga/miniconda3/envs/py/lib/python3.7/site-packages/numpy/core/_methods.py:85: RuntimeWarning: invalid value encountered in double_scalars\n",
      "  ret = ret.dtype.type(ret / rcount)\n"
     ]
    },
    {
     "name": "stdout",
     "output_type": "stream",
     "text": [
      " > > 12 \t Fit vs Val (MAc) = 0.754 vs nan\n",
      " > > 12 \t Fit vs Val (MAc) = 0.756 vs 0.765\n",
      " > > 12 \t Fit vs Val (MAc) = 0.754 vs 0.910\n",
      " > > 12 \t Fit vs Val (MAc) = 0.761 vs 0.593\n",
      " > > 12 \t Fit vs Val (MAc) = 0.756 vs 0.758\n",
      " > > 12 \t Fit vs Val (MAc) = 0.728 vs 0.948\n",
      " > > 12 \t Fit vs Val (MAc) = 0.752 vs 0.873\n",
      " > > 12 \t Fit vs Val (MAc) = 0.765 vs 0.860\n",
      " > > 12 \t Fit vs Val (MAc) = 0.766 vs 0.845\n"
     ]
    },
    {
     "name": "stderr",
     "output_type": "stream",
     "text": [
      "/store/tveiga/miniconda3/envs/py/lib/python3.7/site-packages/numpy/lib/function_base.py:356: RuntimeWarning: Mean of empty slice.\n",
      "  avg = a.mean(axis)\n",
      "/store/tveiga/miniconda3/envs/py/lib/python3.7/site-packages/numpy/core/_methods.py:85: RuntimeWarning: invalid value encountered in double_scalars\n",
      "  ret = ret.dtype.type(ret / rcount)\n"
     ]
    },
    {
     "name": "stdout",
     "output_type": "stream",
     "text": [
      " > > 12 \t Fit vs Val (MAc) = 0.754 vs nan\n",
      " > > 12 \t Fit vs Val (MAc) = 0.758 vs 0.872\n",
      " > > BEST-TH: 95.000 (2.406)\n",
      " > > TEST Score : 0.852\n",
      "> 13\n",
      " > > 13 \t Fit vs Val (MAc) = 0.850 vs 0.953\n",
      " > > 13 \t Fit vs Val (MAc) = 0.851 vs 0.953\n",
      " > > 13 \t Fit vs Val (MAc) = 0.860 vs 0.871\n",
      " > > 13 \t Fit vs Val (MAc) = 0.848 vs 0.951\n",
      " > > 13 \t Fit vs Val (MAc) = 0.853 vs 0.948\n",
      " > > 13 \t Fit vs Val (MAc) = 0.850 vs 0.977\n",
      " > > 13 \t Fit vs Val (MAc) = 0.852 vs 0.920\n",
      " > > 13 \t Fit vs Val (MAc) = 0.834 vs 0.966\n",
      " > > 13 \t Fit vs Val (MAc) = 0.852 vs 0.956\n",
      " > > 13 \t Fit vs Val (MAc) = 0.851 vs 0.955\n",
      " > > 13 \t Fit vs Val (MAc) = 0.819 vs 0.940\n"
     ]
    },
    {
     "name": "stderr",
     "output_type": "stream",
     "text": [
      "/store/tveiga/miniconda3/envs/py/lib/python3.7/site-packages/numpy/lib/function_base.py:356: RuntimeWarning: Mean of empty slice.\n",
      "  avg = a.mean(axis)\n",
      "/store/tveiga/miniconda3/envs/py/lib/python3.7/site-packages/numpy/core/_methods.py:85: RuntimeWarning: invalid value encountered in double_scalars\n",
      "  ret = ret.dtype.type(ret / rcount)\n"
     ]
    },
    {
     "name": "stdout",
     "output_type": "stream",
     "text": [
      " > > 13 \t Fit vs Val (MAc) = 0.852 vs nan\n",
      " > > 13 \t Fit vs Val (MAc) = 0.851 vs 0.925\n",
      " > > 13 \t Fit vs Val (MAc) = 0.855 vs 0.897\n",
      " > > 13 \t Fit vs Val (MAc) = 0.858 vs 0.691\n",
      " > > 13 \t Fit vs Val (MAc) = 0.859 vs 0.691\n",
      " > > 13 \t Fit vs Val (MAc) = 0.839 vs 0.954\n",
      " > > 13 \t Fit vs Val (MAc) = 0.852 vs 0.970\n",
      " > > 13 \t Fit vs Val (MAc) = 0.862 vs 0.676\n",
      " > > 13 \t Fit vs Val (MAc) = 0.863 vs 0.823\n"
     ]
    },
    {
     "name": "stderr",
     "output_type": "stream",
     "text": [
      "/store/tveiga/miniconda3/envs/py/lib/python3.7/site-packages/numpy/lib/function_base.py:356: RuntimeWarning: Mean of empty slice.\n",
      "  avg = a.mean(axis)\n",
      "/store/tveiga/miniconda3/envs/py/lib/python3.7/site-packages/numpy/core/_methods.py:85: RuntimeWarning: invalid value encountered in double_scalars\n",
      "  ret = ret.dtype.type(ret / rcount)\n"
     ]
    },
    {
     "name": "stdout",
     "output_type": "stream",
     "text": [
      " > > 13 \t Fit vs Val (MAc) = 0.852 vs nan\n",
      " > > 13 \t Fit vs Val (MAc) = 0.863 vs 0.646\n",
      " > > BEST-TH: 102.000 (1.791)\n",
      " > > TEST Score : 0.850\n",
      "> 14\n",
      " > > 14 \t Fit vs Val (MAc) = 0.716 vs 0.596\n",
      " > > 14 \t Fit vs Val (MAc) = 0.712 vs 0.753\n",
      " > > 14 \t Fit vs Val (MAc) = 0.716 vs 0.790\n",
      " > > 14 \t Fit vs Val (MAc) = 0.704 vs 0.572\n",
      " > > 14 \t Fit vs Val (MAc) = 0.710 vs 0.854\n",
      " > > 14 \t Fit vs Val (MAc) = 0.710 vs 0.724\n",
      " > > 14 \t Fit vs Val (MAc) = 0.708 vs 0.897\n",
      " > > 14 \t Fit vs Val (MAc) = 0.678 vs 0.939\n",
      " > > 14 \t Fit vs Val (MAc) = 0.710 vs 0.776\n",
      " > > 14 \t Fit vs Val (MAc) = 0.708 vs 0.854\n",
      " > > 14 \t Fit vs Val (MAc) = 0.769 vs 0.454\n"
     ]
    },
    {
     "name": "stderr",
     "output_type": "stream",
     "text": [
      "/store/tveiga/miniconda3/envs/py/lib/python3.7/site-packages/numpy/lib/function_base.py:356: RuntimeWarning: Mean of empty slice.\n",
      "  avg = a.mean(axis)\n",
      "/store/tveiga/miniconda3/envs/py/lib/python3.7/site-packages/numpy/core/_methods.py:85: RuntimeWarning: invalid value encountered in double_scalars\n",
      "  ret = ret.dtype.type(ret / rcount)\n"
     ]
    },
    {
     "name": "stdout",
     "output_type": "stream",
     "text": [
      " > > 14 \t Fit vs Val (MAc) = 0.709 vs nan\n",
      " > > 14 \t Fit vs Val (MAc) = 0.709 vs 0.850\n",
      " > > 14 \t Fit vs Val (MAc) = 0.709 vs 0.893\n",
      " > > 14 \t Fit vs Val (MAc) = 0.707 vs 0.898\n",
      " > > 14 \t Fit vs Val (MAc) = 0.708 vs 0.874\n",
      " > > 14 \t Fit vs Val (MAc) = 0.679 vs 0.930\n",
      " > > 14 \t Fit vs Val (MAc) = 0.712 vs 0.662\n",
      " > > 14 \t Fit vs Val (MAc) = 0.709 vs 0.804\n",
      " > > 14 \t Fit vs Val (MAc) = 0.714 vs 0.826\n"
     ]
    },
    {
     "name": "stderr",
     "output_type": "stream",
     "text": [
      "/store/tveiga/miniconda3/envs/py/lib/python3.7/site-packages/numpy/lib/function_base.py:356: RuntimeWarning: Mean of empty slice.\n",
      "  avg = a.mean(axis)\n",
      "/store/tveiga/miniconda3/envs/py/lib/python3.7/site-packages/numpy/core/_methods.py:85: RuntimeWarning: invalid value encountered in double_scalars\n",
      "  ret = ret.dtype.type(ret / rcount)\n"
     ]
    },
    {
     "name": "stdout",
     "output_type": "stream",
     "text": [
      " > > 14 \t Fit vs Val (MAc) = 0.709 vs nan\n",
      " > > 14 \t Fit vs Val (MAc) = 0.712 vs 0.861\n",
      " > > BEST-TH: 105.000 (1.370)\n",
      " > > TEST Score : 0.798\n",
      "> 15\n",
      " > > 15 \t Fit vs Val (MAc) = 0.777 vs 0.862\n",
      " > > 15 \t Fit vs Val (MAc) = 0.776 vs 0.927\n",
      " > > 15 \t Fit vs Val (MAc) = 0.783 vs 0.832\n",
      " > > 15 \t Fit vs Val (MAc) = 0.772 vs 0.909\n",
      " > > 15 \t Fit vs Val (MAc) = 0.777 vs 0.942\n",
      " > > 15 \t Fit vs Val (MAc) = 0.774 vs 0.964\n",
      " > > 15 \t Fit vs Val (MAc) = 0.777 vs 0.883\n",
      " > > 15 \t Fit vs Val (MAc) = 0.750 vs 0.903\n",
      " > > 15 \t Fit vs Val (MAc) = 0.777 vs 0.936\n",
      " > > 15 \t Fit vs Val (MAc) = 0.779 vs 0.828\n",
      " > > 15 \t Fit vs Val (MAc) = 0.744 vs 0.834\n"
     ]
    },
    {
     "name": "stderr",
     "output_type": "stream",
     "text": [
      "/store/tveiga/miniconda3/envs/py/lib/python3.7/site-packages/numpy/lib/function_base.py:356: RuntimeWarning: Mean of empty slice.\n",
      "  avg = a.mean(axis)\n",
      "/store/tveiga/miniconda3/envs/py/lib/python3.7/site-packages/numpy/core/_methods.py:85: RuntimeWarning: invalid value encountered in double_scalars\n",
      "  ret = ret.dtype.type(ret / rcount)\n"
     ]
    },
    {
     "name": "stdout",
     "output_type": "stream",
     "text": [
      " > > 15 \t Fit vs Val (MAc) = 0.777 vs nan\n",
      " > > 15 \t Fit vs Val (MAc) = 0.779 vs 0.814\n",
      " > > 15 \t Fit vs Val (MAc) = 0.782 vs 0.803\n",
      " > > 15 \t Fit vs Val (MAc) = 0.779 vs 0.779\n",
      " > > 15 \t Fit vs Val (MAc) = 0.786 vs 0.579\n",
      " > > 15 \t Fit vs Val (MAc) = 0.755 vs 0.933\n",
      " > > 15 \t Fit vs Val (MAc) = 0.776 vs 0.957\n",
      " > > 15 \t Fit vs Val (MAc) = 0.798 vs 0.622\n",
      " > > 15 \t Fit vs Val (MAc) = 0.797 vs 0.764\n"
     ]
    },
    {
     "name": "stderr",
     "output_type": "stream",
     "text": [
      "/store/tveiga/miniconda3/envs/py/lib/python3.7/site-packages/numpy/lib/function_base.py:356: RuntimeWarning: Mean of empty slice.\n",
      "  avg = a.mean(axis)\n",
      "/store/tveiga/miniconda3/envs/py/lib/python3.7/site-packages/numpy/core/_methods.py:85: RuntimeWarning: invalid value encountered in double_scalars\n",
      "  ret = ret.dtype.type(ret / rcount)\n"
     ]
    },
    {
     "name": "stdout",
     "output_type": "stream",
     "text": [
      " > > 15 \t Fit vs Val (MAc) = 0.777 vs nan\n",
      " > > 15 \t Fit vs Val (MAc) = 0.790 vs 0.736\n",
      " > > BEST-TH: 48.000 (0.984)\n",
      " > > TEST Score : 0.811\n",
      "> 16\n",
      " > > 16 \t Fit vs Val (MAc) = 0.797 vs 0.864\n",
      " > > 16 \t Fit vs Val (MAc) = 0.798 vs 0.883\n",
      " > > 16 \t Fit vs Val (MAc) = 0.804 vs 0.645\n",
      " > > 16 \t Fit vs Val (MAc) = 0.792 vs 0.876\n",
      " > > 16 \t Fit vs Val (MAc) = 0.799 vs 0.852\n",
      " > > 16 \t Fit vs Val (MAc) = 0.797 vs 0.807\n",
      " > > 16 \t Fit vs Val (MAc) = 0.800 vs 0.765\n",
      " > > 16 \t Fit vs Val (MAc) = 0.776 vs 0.963\n",
      " > > 16 \t Fit vs Val (MAc) = 0.800 vs 0.724\n",
      " > > 16 \t Fit vs Val (MAc) = 0.797 vs 0.847\n",
      " > > 16 \t Fit vs Val (MAc) = 0.782 vs 0.771\n"
     ]
    },
    {
     "name": "stderr",
     "output_type": "stream",
     "text": [
      "/store/tveiga/miniconda3/envs/py/lib/python3.7/site-packages/numpy/lib/function_base.py:356: RuntimeWarning: Mean of empty slice.\n",
      "  avg = a.mean(axis)\n",
      "/store/tveiga/miniconda3/envs/py/lib/python3.7/site-packages/numpy/core/_methods.py:85: RuntimeWarning: invalid value encountered in double_scalars\n",
      "  ret = ret.dtype.type(ret / rcount)\n"
     ]
    },
    {
     "name": "stdout",
     "output_type": "stream",
     "text": [
      " > > 16 \t Fit vs Val (MAc) = 0.798 vs nan\n",
      " > > 16 \t Fit vs Val (MAc) = 0.800 vs 0.766\n",
      " > > 16 \t Fit vs Val (MAc) = 0.799 vs 0.833\n",
      " > > 16 \t Fit vs Val (MAc) = 0.802 vs 0.679\n",
      " > > 16 \t Fit vs Val (MAc) = 0.801 vs 0.706\n",
      " > > 16 \t Fit vs Val (MAc) = 0.780 vs 0.928\n",
      " > > 16 \t Fit vs Val (MAc) = 0.798 vs 0.823\n",
      " > > 16 \t Fit vs Val (MAc) = 0.810 vs 0.849\n",
      " > > 16 \t Fit vs Val (MAc) = 0.815 vs 0.835\n"
     ]
    },
    {
     "name": "stderr",
     "output_type": "stream",
     "text": [
      "/store/tveiga/miniconda3/envs/py/lib/python3.7/site-packages/numpy/lib/function_base.py:356: RuntimeWarning: Mean of empty slice.\n",
      "  avg = a.mean(axis)\n",
      "/store/tveiga/miniconda3/envs/py/lib/python3.7/site-packages/numpy/core/_methods.py:85: RuntimeWarning: invalid value encountered in double_scalars\n",
      "  ret = ret.dtype.type(ret / rcount)\n"
     ]
    },
    {
     "name": "stdout",
     "output_type": "stream",
     "text": [
      " > > 16 \t Fit vs Val (MAc) = 0.798 vs nan\n",
      " > > 16 \t Fit vs Val (MAc) = 0.806 vs 0.865\n",
      " > > BEST-TH: 81.000 (1.530)\n",
      " > > TEST Score : 0.837\n",
      "> 17\n",
      " > > 17 \t Fit vs Val (MAc) = 0.834 vs 0.929\n",
      " > > 17 \t Fit vs Val (MAc) = 0.835 vs 0.958\n",
      " > > 17 \t Fit vs Val (MAc) = 0.842 vs 0.785\n",
      " > > 17 \t Fit vs Val (MAc) = 0.831 vs 0.925\n",
      " > > 17 \t Fit vs Val (MAc) = 0.837 vs 0.921\n",
      " > > 17 \t Fit vs Val (MAc) = 0.833 vs 0.932\n",
      " > > 17 \t Fit vs Val (MAc) = 0.836 vs 0.859\n",
      " > > 17 \t Fit vs Val (MAc) = 0.816 vs 0.966\n",
      " > > 17 \t Fit vs Val (MAc) = 0.836 vs 0.864\n",
      " > > 17 \t Fit vs Val (MAc) = 0.835 vs 0.904\n",
      " > > 17 \t Fit vs Val (MAc) = 0.803 vs 0.911\n"
     ]
    },
    {
     "name": "stderr",
     "output_type": "stream",
     "text": [
      "/store/tveiga/miniconda3/envs/py/lib/python3.7/site-packages/numpy/lib/function_base.py:356: RuntimeWarning: Mean of empty slice.\n",
      "  avg = a.mean(axis)\n",
      "/store/tveiga/miniconda3/envs/py/lib/python3.7/site-packages/numpy/core/_methods.py:85: RuntimeWarning: invalid value encountered in double_scalars\n",
      "  ret = ret.dtype.type(ret / rcount)\n"
     ]
    },
    {
     "name": "stdout",
     "output_type": "stream",
     "text": [
      " > > 17 \t Fit vs Val (MAc) = 0.835 vs nan\n",
      " > > 17 \t Fit vs Val (MAc) = 0.834 vs 0.903\n",
      " > > 17 \t Fit vs Val (MAc) = 0.839 vs 0.834\n",
      " > > 17 \t Fit vs Val (MAc) = 0.839 vs 0.749\n",
      " > > 17 \t Fit vs Val (MAc) = 0.840 vs 0.737\n",
      " > > 17 \t Fit vs Val (MAc) = 0.819 vs 0.946\n",
      " > > 17 \t Fit vs Val (MAc) = 0.835 vs 0.919\n",
      " > > 17 \t Fit vs Val (MAc) = 0.848 vs 0.819\n",
      " > > 17 \t Fit vs Val (MAc) = 0.848 vs 0.822\n"
     ]
    },
    {
     "name": "stderr",
     "output_type": "stream",
     "text": [
      "/store/tveiga/miniconda3/envs/py/lib/python3.7/site-packages/numpy/lib/function_base.py:356: RuntimeWarning: Mean of empty slice.\n",
      "  avg = a.mean(axis)\n",
      "/store/tveiga/miniconda3/envs/py/lib/python3.7/site-packages/numpy/core/_methods.py:85: RuntimeWarning: invalid value encountered in double_scalars\n",
      "  ret = ret.dtype.type(ret / rcount)\n"
     ]
    },
    {
     "name": "stdout",
     "output_type": "stream",
     "text": [
      " > > 17 \t Fit vs Val (MAc) = 0.835 vs nan\n",
      " > > 17 \t Fit vs Val (MAc) = 0.846 vs 0.754\n",
      " > > BEST-TH: 88.000 (0.617)\n",
      " > > TEST Score : 0.868\n",
      "> 18\n",
      " > > 18 \t Fit vs Val (MAc) = 0.663 vs 0.743\n",
      " > > 18 \t Fit vs Val (MAc) = 0.664 vs 0.676\n",
      " > > 18 \t Fit vs Val (MAc) = 0.663 vs 0.771\n",
      " > > 18 \t Fit vs Val (MAc) = 0.647 vs 0.845\n",
      " > > 18 \t Fit vs Val (MAc) = 0.662 vs 0.755\n",
      " > > 18 \t Fit vs Val (MAc) = 0.660 vs 0.681\n",
      " > > 18 \t Fit vs Val (MAc) = 0.660 vs 0.832\n",
      " > > 18 \t Fit vs Val (MAc) = 0.635 vs 0.858\n",
      " > > 18 \t Fit vs Val (MAc) = 0.662 vs 0.678\n",
      " > > 18 \t Fit vs Val (MAc) = 0.659 vs 0.873\n",
      " > > 18 \t Fit vs Val (MAc) = 0.718 vs 0.396\n"
     ]
    },
    {
     "name": "stderr",
     "output_type": "stream",
     "text": [
      "/store/tveiga/miniconda3/envs/py/lib/python3.7/site-packages/numpy/lib/function_base.py:356: RuntimeWarning: Mean of empty slice.\n",
      "  avg = a.mean(axis)\n",
      "/store/tveiga/miniconda3/envs/py/lib/python3.7/site-packages/numpy/core/_methods.py:85: RuntimeWarning: invalid value encountered in double_scalars\n",
      "  ret = ret.dtype.type(ret / rcount)\n"
     ]
    },
    {
     "name": "stdout",
     "output_type": "stream",
     "text": [
      " > > 18 \t Fit vs Val (MAc) = 0.661 vs nan\n",
      " > > 18 \t Fit vs Val (MAc) = 0.663 vs 0.745\n",
      " > > 18 \t Fit vs Val (MAc) = 0.659 vs 0.935\n",
      " > > 18 \t Fit vs Val (MAc) = 0.664 vs 0.707\n",
      " > > 18 \t Fit vs Val (MAc) = 0.659 vs 0.895\n",
      " > > 18 \t Fit vs Val (MAc) = 0.624 vs 0.946\n",
      " > > 18 \t Fit vs Val (MAc) = 0.663 vs 0.648\n",
      " > > 18 \t Fit vs Val (MAc) = 0.665 vs 0.837\n",
      " > > 18 \t Fit vs Val (MAc) = 0.672 vs 0.798\n"
     ]
    },
    {
     "name": "stderr",
     "output_type": "stream",
     "text": [
      "/store/tveiga/miniconda3/envs/py/lib/python3.7/site-packages/numpy/lib/function_base.py:356: RuntimeWarning: Mean of empty slice.\n",
      "  avg = a.mean(axis)\n",
      "/store/tveiga/miniconda3/envs/py/lib/python3.7/site-packages/numpy/core/_methods.py:85: RuntimeWarning: invalid value encountered in double_scalars\n",
      "  ret = ret.dtype.type(ret / rcount)\n"
     ]
    },
    {
     "name": "stdout",
     "output_type": "stream",
     "text": [
      " > > 18 \t Fit vs Val (MAc) = 0.661 vs nan\n",
      " > > 18 \t Fit vs Val (MAc) = 0.665 vs 0.874\n",
      " > > BEST-TH: 74.000 (1.286)\n",
      " > > TEST Score : 0.772\n",
      "> 19\n",
      " > > 19 \t Fit vs Val (MAc) = 0.747 vs 0.872\n",
      " > > 19 \t Fit vs Val (MAc) = 0.748 vs 0.879\n",
      " > > 19 \t Fit vs Val (MAc) = 0.755 vs 0.792\n",
      " > > 19 \t Fit vs Val (MAc) = 0.744 vs 0.815\n",
      " > > 19 \t Fit vs Val (MAc) = 0.749 vs 0.876\n",
      " > > 19 \t Fit vs Val (MAc) = 0.745 vs 0.920\n",
      " > > 19 \t Fit vs Val (MAc) = 0.749 vs 0.835\n",
      " > > 19 \t Fit vs Val (MAc) = 0.721 vs 0.888\n",
      " > > 19 \t Fit vs Val (MAc) = 0.748 vs 0.895\n",
      " > > 19 \t Fit vs Val (MAc) = 0.751 vs 0.762\n",
      " > > 19 \t Fit vs Val (MAc) = 0.735 vs 0.711\n"
     ]
    },
    {
     "name": "stderr",
     "output_type": "stream",
     "text": [
      "/store/tveiga/miniconda3/envs/py/lib/python3.7/site-packages/numpy/lib/function_base.py:356: RuntimeWarning: Mean of empty slice.\n",
      "  avg = a.mean(axis)\n",
      "/store/tveiga/miniconda3/envs/py/lib/python3.7/site-packages/numpy/core/_methods.py:85: RuntimeWarning: invalid value encountered in double_scalars\n",
      "  ret = ret.dtype.type(ret / rcount)\n"
     ]
    },
    {
     "name": "stdout",
     "output_type": "stream",
     "text": [
      " > > 19 \t Fit vs Val (MAc) = 0.749 vs nan\n",
      " > > 19 \t Fit vs Val (MAc) = 0.750 vs 0.788\n",
      " > > 19 \t Fit vs Val (MAc) = 0.753 vs 0.747\n",
      " > > 19 \t Fit vs Val (MAc) = 0.751 vs 0.748\n",
      " > > 19 \t Fit vs Val (MAc) = 0.754 vs 0.659\n",
      " > > 19 \t Fit vs Val (MAc) = 0.726 vs 0.842\n",
      " > > 19 \t Fit vs Val (MAc) = 0.747 vs 0.900\n",
      " > > 19 \t Fit vs Val (MAc) = 0.766 vs 0.765\n",
      " > > 19 \t Fit vs Val (MAc) = 0.766 vs 0.705\n"
     ]
    },
    {
     "name": "stderr",
     "output_type": "stream",
     "text": [
      "/store/tveiga/miniconda3/envs/py/lib/python3.7/site-packages/numpy/lib/function_base.py:356: RuntimeWarning: Mean of empty slice.\n",
      "  avg = a.mean(axis)\n",
      "/store/tveiga/miniconda3/envs/py/lib/python3.7/site-packages/numpy/core/_methods.py:85: RuntimeWarning: invalid value encountered in double_scalars\n",
      "  ret = ret.dtype.type(ret / rcount)\n"
     ]
    },
    {
     "name": "stdout",
     "output_type": "stream",
     "text": [
      " > > 19 \t Fit vs Val (MAc) = 0.749 vs nan\n",
      " > > 19 \t Fit vs Val (MAc) = 0.761 vs 0.681\n",
      " > > BEST-TH: 31.000 (0.900)\n",
      " > > TEST Score : 0.791\n",
      "> 20\n",
      " > > 20 \t Fit vs Val (MAc) = 0.775 vs 0.827\n",
      " > > 20 \t Fit vs Val (MAc) = 0.776 vs 0.816\n",
      " > > 20 \t Fit vs Val (MAc) = 0.783 vs 0.672\n",
      " > > 20 \t Fit vs Val (MAc) = 0.771 vs 0.840\n",
      " > > 20 \t Fit vs Val (MAc) = 0.778 vs 0.768\n",
      " > > 20 \t Fit vs Val (MAc) = 0.775 vs 0.785\n",
      " > > 20 \t Fit vs Val (MAc) = 0.777 vs 0.772\n",
      " > > 20 \t Fit vs Val (MAc) = 0.757 vs 0.799\n",
      " > > 20 \t Fit vs Val (MAc) = 0.778 vs 0.735\n",
      " > > 20 \t Fit vs Val (MAc) = 0.774 vs 0.852\n",
      " > > 20 \t Fit vs Val (MAc) = 0.772 vs 0.652\n"
     ]
    },
    {
     "name": "stderr",
     "output_type": "stream",
     "text": [
      "/store/tveiga/miniconda3/envs/py/lib/python3.7/site-packages/numpy/lib/function_base.py:356: RuntimeWarning: Mean of empty slice.\n",
      "  avg = a.mean(axis)\n",
      "/store/tveiga/miniconda3/envs/py/lib/python3.7/site-packages/numpy/core/_methods.py:85: RuntimeWarning: invalid value encountered in double_scalars\n",
      "  ret = ret.dtype.type(ret / rcount)\n"
     ]
    },
    {
     "name": "stdout",
     "output_type": "stream",
     "text": [
      " > > 20 \t Fit vs Val (MAc) = 0.775 vs nan\n",
      " > > 20 \t Fit vs Val (MAc) = 0.776 vs 0.795\n",
      " > > 20 \t Fit vs Val (MAc) = 0.778 vs 0.787\n",
      " > > 20 \t Fit vs Val (MAc) = 0.774 vs 0.858\n",
      " > > 20 \t Fit vs Val (MAc) = 0.775 vs 0.838\n",
      " > > 20 \t Fit vs Val (MAc) = 0.759 vs 0.823\n",
      " > > 20 \t Fit vs Val (MAc) = 0.776 vs 0.782\n",
      " > > 20 \t Fit vs Val (MAc) = 0.785 vs 0.750\n",
      " > > 20 \t Fit vs Val (MAc) = 0.787 vs 0.798\n"
     ]
    },
    {
     "name": "stderr",
     "output_type": "stream",
     "text": [
      "/store/tveiga/miniconda3/envs/py/lib/python3.7/site-packages/numpy/lib/function_base.py:356: RuntimeWarning: Mean of empty slice.\n",
      "  avg = a.mean(axis)\n",
      "/store/tveiga/miniconda3/envs/py/lib/python3.7/site-packages/numpy/core/_methods.py:85: RuntimeWarning: invalid value encountered in double_scalars\n",
      "  ret = ret.dtype.type(ret / rcount)\n"
     ]
    },
    {
     "name": "stdout",
     "output_type": "stream",
     "text": [
      " > > 20 \t Fit vs Val (MAc) = 0.775 vs nan\n",
      " > > 20 \t Fit vs Val (MAc) = 0.783 vs 0.775\n",
      " > > BEST-TH: 0.308 (0.008)\n",
      " > > TEST Score : 0.813\n",
      "Done.\n",
      "CPU times: user 3h 14min 36s, sys: 9min 1s, total: 3h 23min 37s\n",
      "Wall time: 1h 26min\n"
     ]
    }
   ],
   "source": [
    "%%time\n",
    "VI_scores = [[[] for vi in names_VI] for _ in range(4)] # 4 is the number of experiments\n",
    "VI_scores_val = [[[] for vi in names_VI] for _ in range(4)]\n",
    "VI_scores_test = [[0 for vi in names_VI] for _ in range(4)]\n",
    "THS = [[[] for vi in names_VI] for _ in range(4)]\n",
    "\n",
    "for e, (left, test) in enumerate(experiments):\n",
    "    print(\"Experiment\", left, test)\n",
    "#     Xleft = data.loc[solo.isin(left)]\n",
    "#     Xtest = data.loc[solo.isin(test)]\n",
    "    \n",
    "    images = list(set(IMG.loc[data.loc[solo.isin(left)].index]))\n",
    "    for vi, col in enumerate(VI_cols):\n",
    "#         a = splitByImages(Xleft, 1/4, 6)\n",
    "#         train_imgs, test_imgs = next(a)\n",
    "        print('>', col)\n",
    "        \n",
    "        \n",
    "        # for train_imgs, test_imgs in splitByImages(Xleft, 1/4, 6):\n",
    "        for train_imgs, test_imgs in loo.split(images):\n",
    "\n",
    "            prediction = data.loc[IMG.isin(train_imgs), col]\n",
    "            _auc, mean_acc, bestTH, fpr, tpr = getPerformance(y.loc[IMG.isin(train_imgs)], prediction)\n",
    "\n",
    "            prediction = data.loc[IMG.isin(test_imgs), col]\n",
    "            val_mean_acc = accuracy_score(y.loc[IMG.isin(test_imgs)], 1 * (prediction > bestTH)) # 1 * array = array.astype(int)\n",
    "\n",
    "            \n",
    "            VI_scores[e][vi].append(mean_acc)\n",
    "            VI_scores_val[e][vi].append(val_mean_acc)\n",
    "            THS[e][vi].append(bestTH)\n",
    "            print(\" > > %s \\t Fit vs Val (MAc) = %.3f vs %.3f\" % (col, mean_acc, val_mean_acc))\n",
    "            \n",
    "        ar = np.array(THS[e][vi])\n",
    "        bestTH = np.median(ar)\n",
    "        print(\" > > BEST-TH: %.3f (%.3f)\" % (bestTH, ar.std()))\n",
    "        prediction = data.loc[solo.isin(test), col]\n",
    "        test_mean_acc = accuracy_score(y.loc[solo.isin(test)], 1 * (prediction > bestTH))\n",
    "        VI_scores_test[e][vi] = test_mean_acc\n",
    "        print(\" > > TEST Score : %.3f\" % test_mean_acc)\n",
    "        \n",
    "print(\"Done.\")   "
   ]
  },
  {
   "cell_type": "code",
   "execution_count": 19,
   "metadata": {},
   "outputs": [],
   "source": [
    "resizing_factors = [8, 16, 32, 64, 128]"
   ]
  },
  {
   "cell_type": "code",
   "execution_count": 20,
   "metadata": {
    "scrolled": false
   },
   "outputs": [
    {
     "name": "stdout",
     "output_type": "stream",
     "text": [
      "Experiment [0] [1]\n",
      " > > 0   8 \t Fit vs Val vs Test (MAc) = 0.799 (0.012) vs 0.732 (0.220) vs 0.839\n",
      " > > 1   8 \t Fit vs Val vs Test (MAc) = 0.746 (0.014) vs 0.387 (0.418) vs 0.676\n",
      " > > 2   8 \t Fit vs Val vs Test (MAc) = 0.621 (0.015) vs 0.685 (0.147) vs 0.475\n",
      " > > 3   8 \t Fit vs Val vs Test (MAc) = 0.737 (0.013) vs 0.697 (0.202) vs 0.581\n",
      "\n",
      " > > 4   16 \t Fit vs Val vs Test (MAc) = 0.780 (0.023) vs 0.716 (0.261) vs 0.866\n",
      " > > 5   16 \t Fit vs Val vs Test (MAc) = 0.890 (0.013) vs 0.924 (0.086) vs 0.547\n",
      " > > 6   16 \t Fit vs Val vs Test (MAc) = 0.682 (0.015) vs 0.716 (0.088) vs 0.587\n",
      " > > 7   16 \t Fit vs Val vs Test (MAc) = 0.823 (0.008) vs 0.814 (0.129) vs 0.692\n",
      "\n",
      " > > 8   32 \t Fit vs Val vs Test (MAc) = 0.786 (0.025) vs 0.783 (0.210) vs 0.889\n",
      " > > 9   32 \t Fit vs Val vs Test (MAc) = 0.893 (0.012) vs 0.923 (0.090) vs 0.753\n",
      " > > 10  32 \t Fit vs Val vs Test (MAc) = 0.725 (0.020) vs 0.754 (0.100) vs 0.723\n",
      " > > 11  32 \t Fit vs Val vs Test (MAc) = 0.828 (0.009) vs 0.818 (0.181) vs 0.744\n",
      "\n",
      " > > 12  64 \t Fit vs Val vs Test (MAc) = 0.787 (0.027) vs 0.845 (0.146) vs 0.869\n",
      " > > 13  64 \t Fit vs Val vs Test (MAc) = 0.892 (0.010) vs 0.917 (0.083) vs 0.811\n",
      " > > 14  64 \t Fit vs Val vs Test (MAc) = 0.722 (0.027) vs 0.811 (0.137) vs 0.801\n",
      " > > 15  64 \t Fit vs Val vs Test (MAc) = 0.840 (0.008) vs 0.856 (0.093) vs 0.753\n",
      "\n",
      " > > 16  128 \t Fit vs Val vs Test (MAc) = 0.843 (0.008) vs 0.820 (0.086) vs 0.855\n",
      " > > 17  128 \t Fit vs Val vs Test (MAc) = 0.879 (0.007) vs 0.889 (0.065) vs 0.860\n",
      " > > 18  128 \t Fit vs Val vs Test (MAc) = 0.689 (0.028) vs 0.778 (0.132) vs 0.770\n",
      " > > 19  128 \t Fit vs Val vs Test (MAc) = 0.803 (0.009) vs 0.814 (0.074) vs 0.762\n",
      "\n",
      " > > 20  -1 \t Fit vs Val vs Test (MAc) = 0.813 (0.010) vs 0.789 (0.073) vs 0.826\n",
      "Experiment [1] [0]\n",
      " > > 0   8 \t Fit vs Val vs Test (MAc) = 0.785 (0.009) vs 0.730 (0.224) vs 0.731\n",
      " > > 1   8 \t Fit vs Val vs Test (MAc) = 0.729 (0.012) vs 0.413 (0.414) vs 0.367\n",
      " > > 2   8 \t Fit vs Val vs Test (MAc) = 0.637 (0.015) vs 0.700 (0.134) vs 0.732\n",
      " > > 3   8 \t Fit vs Val vs Test (MAc) = 0.683 (0.014) vs 0.658 (0.240) vs 0.716\n",
      "\n",
      " > > 4   16 \t Fit vs Val vs Test (MAc) = 0.771 (0.013) vs 0.742 (0.239) vs 0.745\n",
      " > > 5   16 \t Fit vs Val vs Test (MAc) = 0.860 (0.010) vs 0.872 (0.198) vs 0.941\n",
      " > > 6   16 \t Fit vs Val vs Test (MAc) = 0.684 (0.012) vs 0.715 (0.108) vs 0.739\n",
      " > > 7   16 \t Fit vs Val vs Test (MAc) = 0.763 (0.013) vs 0.786 (0.159) vs 0.827\n",
      "\n",
      " > > 8   32 \t Fit vs Val vs Test (MAc) = 0.770 (0.014) vs 0.771 (0.206) vs 0.777\n",
      " > > 9   32 \t Fit vs Val vs Test (MAc) = 0.865 (0.010) vs 0.888 (0.149) vs 0.926\n",
      " > > 10  32 \t Fit vs Val vs Test (MAc) = 0.727 (0.015) vs 0.743 (0.103) vs 0.751\n",
      " > > 11  32 \t Fit vs Val vs Test (MAc) = 0.775 (0.013) vs 0.804 (0.190) vs 0.834\n",
      "\n",
      " > > 12  64 \t Fit vs Val vs Test (MAc) = 0.759 (0.017) vs 0.824 (0.136) vs 0.826\n",
      " > > 13  64 \t Fit vs Val vs Test (MAc) = 0.863 (0.010) vs 0.894 (0.103) vs 0.915\n",
      " > > 14  64 \t Fit vs Val vs Test (MAc) = 0.713 (0.019) vs 0.795 (0.128) vs 0.798\n",
      " > > 15  64 \t Fit vs Val vs Test (MAc) = 0.790 (0.013) vs 0.844 (0.105) vs 0.864\n",
      "\n",
      " > > 16  128 \t Fit vs Val vs Test (MAc) = 0.806 (0.009) vs 0.815 (0.081) vs 0.822\n",
      " > > 17  128 \t Fit vs Val vs Test (MAc) = 0.845 (0.010) vs 0.878 (0.069) vs 0.884\n",
      " > > 18  128 \t Fit vs Val vs Test (MAc) = 0.666 (0.019) vs 0.777 (0.125) vs 0.773\n",
      " > > 19  128 \t Fit vs Val vs Test (MAc) = 0.761 (0.011) vs 0.810 (0.076) vs 0.825\n",
      "\n",
      " > > 20  -1 \t Fit vs Val vs Test (MAc) = 0.784 (0.007) vs 0.787 (0.057) vs 0.799\n",
      "Experiment [0, 1] [2]\n",
      " > > 0   8 \t Fit vs Val vs Test (MAc) = 0.779 (0.005) vs 0.788 (0.168) vs 0.738\n",
      " > > 1   8 \t Fit vs Val vs Test (MAc) = 0.657 (0.007) vs 0.587 (0.372) vs 0.755\n",
      " > > 2   8 \t Fit vs Val vs Test (MAc) = 0.575 (0.006) vs 0.598 (0.175) vs 0.525\n",
      " > > 3   8 \t Fit vs Val vs Test (MAc) = 0.669 (0.008) vs 0.779 (0.131) vs 0.613\n",
      "\n",
      " > > 4   16 \t Fit vs Val vs Test (MAc) = 0.794 (0.005) vs 0.813 (0.178) vs 0.788\n",
      " > > 5   16 \t Fit vs Val vs Test (MAc) = 0.831 (0.005) vs 0.853 (0.157) vs 0.817\n",
      " > > 6   16 \t Fit vs Val vs Test (MAc) = 0.685 (0.005) vs 0.636 (0.147) vs 0.555\n",
      " > > 7   16 \t Fit vs Val vs Test (MAc) = 0.725 (0.007) vs 0.808 (0.136) vs 0.683\n",
      "\n",
      " > > 8   32 \t Fit vs Val vs Test (MAc) = 0.805 (0.005) vs 0.829 (0.158) vs 0.799\n",
      " > > 9   32 \t Fit vs Val vs Test (MAc) = 0.838 (0.005) vs 0.863 (0.134) vs 0.816\n",
      " > > 10  32 \t Fit vs Val vs Test (MAc) = 0.745 (0.005) vs 0.729 (0.117) vs 0.574\n",
      " > > 11  32 \t Fit vs Val vs Test (MAc) = 0.752 (0.007) vs 0.822 (0.132) vs 0.734\n",
      "\n",
      " > > 12  64 \t Fit vs Val vs Test (MAc) = 0.789 (0.005) vs 0.831 (0.115) vs 0.744\n",
      " > > 13  64 \t Fit vs Val vs Test (MAc) = 0.839 (0.005) vs 0.870 (0.111) vs 0.798\n",
      " > > 14  64 \t Fit vs Val vs Test (MAc) = 0.753 (0.005) vs 0.761 (0.125) vs 0.639\n",
      " > > 15  64 \t Fit vs Val vs Test (MAc) = 0.765 (0.006) vs 0.831 (0.111) vs 0.714\n",
      "\n",
      " > > 16  128 \t Fit vs Val vs Test (MAc) = 0.791 (0.005) vs 0.825 (0.087) vs 0.712\n",
      " > > 17  128 \t Fit vs Val vs Test (MAc) = 0.831 (0.005) vs 0.872 (0.064) vs 0.783\n",
      " > > 18  128 \t Fit vs Val vs Test (MAc) = 0.669 (0.007) vs 0.692 (0.200) vs 0.586\n",
      " > > 19  128 \t Fit vs Val vs Test (MAc) = 0.748 (0.006) vs 0.814 (0.078) vs 0.713\n",
      "\n",
      " > > 20  -1 \t Fit vs Val vs Test (MAc) = 0.788 (0.004) vs 0.817 (0.054) vs 0.790\n",
      "Experiment [2] [0, 1]\n",
      " > > 0   8 \t Fit vs Val vs Test (MAc) = 0.777 (0.008) vs 0.726 (0.226) vs 0.781\n",
      " > > 1   8 \t Fit vs Val vs Test (MAc) = 0.718 (0.011) vs 0.436 (0.416) vs 0.534\n",
      " > > 2   8 \t Fit vs Val vs Test (MAc) = 0.640 (0.014) vs 0.696 (0.134) vs 0.595\n",
      " > > 3   8 \t Fit vs Val vs Test (MAc) = 0.668 (0.013) vs 0.655 (0.233) vs 0.647\n",
      "\n",
      " > > 4   16 \t Fit vs Val vs Test (MAc) = 0.766 (0.011) vs 0.745 (0.237) vs 0.807\n",
      " > > 5   16 \t Fit vs Val vs Test (MAc) = 0.852 (0.009) vs 0.863 (0.197) vs 0.762\n",
      " > > 6   16 \t Fit vs Val vs Test (MAc) = 0.685 (0.011) vs 0.706 (0.108) vs 0.649\n",
      " > > 7   16 \t Fit vs Val vs Test (MAc) = 0.750 (0.013) vs 0.786 (0.155) vs 0.754\n",
      "\n",
      " > > 8   32 \t Fit vs Val vs Test (MAc) = 0.767 (0.012) vs 0.768 (0.204) vs 0.833\n",
      " > > 9   32 \t Fit vs Val vs Test (MAc) = 0.854 (0.009) vs 0.876 (0.155) vs 0.823\n",
      " > > 10  32 \t Fit vs Val vs Test (MAc) = 0.726 (0.013) vs 0.743 (0.102) vs 0.736\n",
      " > > 11  32 \t Fit vs Val vs Test (MAc) = 0.763 (0.013) vs 0.806 (0.185) vs 0.790\n",
      "\n",
      " > > 12  64 \t Fit vs Val vs Test (MAc) = 0.754 (0.014) vs 0.820 (0.134) vs 0.852\n",
      " > > 13  64 \t Fit vs Val vs Test (MAc) = 0.851 (0.010) vs 0.883 (0.112) vs 0.850\n",
      " > > 14  64 \t Fit vs Val vs Test (MAc) = 0.710 (0.016) vs 0.790 (0.130) vs 0.798\n",
      " > > 15  64 \t Fit vs Val vs Test (MAc) = 0.776 (0.013) vs 0.840 (0.106) vs 0.811\n",
      "\n",
      " > > 16  128 \t Fit vs Val vs Test (MAc) = 0.798 (0.009) vs 0.814 (0.082) vs 0.837\n",
      " > > 17  128 \t Fit vs Val vs Test (MAc) = 0.834 (0.010) vs 0.872 (0.073) vs 0.868\n",
      " > > 18  128 \t Fit vs Val vs Test (MAc) = 0.661 (0.017) vs 0.775 (0.126) vs 0.772\n",
      " > > 19  128 \t Fit vs Val vs Test (MAc) = 0.748 (0.011) vs 0.804 (0.080) vs 0.791\n",
      "\n",
      " > > 20  -1 \t Fit vs Val vs Test (MAc) = 0.775 (0.007) vs 0.786 (0.054) vs 0.813\n"
     ]
    }
   ],
   "source": [
    "for e, (left, test) in enumerate(experiments):\n",
    "    print(\"Experiment\", left, test)\n",
    "    exp_fit = VI_scores[e]\n",
    "    exp_val = VI_scores_val[e]\n",
    "    for vi, col in enumerate(VI_cols):\n",
    "        ar_fit = pd.Series(exp_fit[vi])\n",
    "        ar_val = pd.Series(exp_val[vi])\n",
    "        \n",
    "        a = resizing_factors[int(col) // 4] if col != '20' else -1\n",
    "        results = (col, a , ar_fit.mean(), ar_fit.std(), ar_val.mean(), ar_val.std(), VI_scores_test[e][vi])\n",
    "        print(\" > > %-3s %d \\t Fit vs Val vs Test (MAc) = %.3f (%.3f) vs %.3f (%.3f) vs %.3f\" % results)\n",
    "        if int(col) % 4 == 3:\n",
    "            print()\n",
    "    \n",
    "# TODO: show generalization after getting mean th"
   ]
  },
  {
   "cell_type": "code",
   "execution_count": 21,
   "metadata": {},
   "outputs": [],
   "source": [
    "pic = data.loc[IMG == 26, '1'].values.reshape(512, 512)\n",
    "gt = y.loc[IMG == 26].values.reshape(512, 512)"
   ]
  },
  {
   "cell_type": "code",
   "execution_count": 22,
   "metadata": {},
   "outputs": [
    {
     "data": {
      "image/png": "[encoded data removed]",
      "text/plain": [
       "<Figure size 432x288 with 1 Axes>"
      ]
     },
     "metadata": {
      "needs_background": "light"
     },
     "output_type": "display_data"
    },
    {
     "data": {
      "text/plain": [
       "<matplotlib.image.AxesImage at 0x7f0767728710>"
      ]
     },
     "execution_count": 22,
     "metadata": {},
     "output_type": "execute_result"
    },
    {
     "data": {
      "image/png": "[encoded data removed]",
      "text/plain": [
       "<Figure size 432x288 with 1 Axes>"
      ]
     },
     "metadata": {
      "needs_background": "light"
     },
     "output_type": "display_data"
    }
   ],
   "source": [
    "plt.imshow(pic)\n",
    "plt.show()\n",
    "plt.imshow(gt)"
   ]
  },
  {
   "cell_type": "code",
   "execution_count": 23,
   "metadata": {},
   "outputs": [
    {
     "name": "stdout",
     "output_type": "stream",
     "text": [
      "0 8 <function mean at 0x7f079404dd90>\n",
      "1 8 <function amax at 0x7f079404d8c8>\n",
      "2 8 <function amin at 0x7f079404d950>\n",
      "3 8 <function std at 0x7f079404de18>\n",
      "4 16 <function mean at 0x7f079404dd90>\n",
      "5 16 <function amax at 0x7f079404d8c8>\n",
      "6 16 <function amin at 0x7f079404d950>\n",
      "7 16 <function std at 0x7f079404de18>\n",
      "8 32 <function mean at 0x7f079404dd90>\n",
      "9 32 <function amax at 0x7f079404d8c8>\n",
      "10 32 <function amin at 0x7f079404d950>\n",
      "11 32 <function std at 0x7f079404de18>\n",
      "12 64 <function mean at 0x7f079404dd90>\n",
      "13 64 <function amax at 0x7f079404d8c8>\n",
      "14 64 <function amin at 0x7f079404d950>\n",
      "15 64 <function std at 0x7f079404de18>\n",
      "16 128 <function mean at 0x7f079404dd90>\n",
      "17 128 <function amax at 0x7f079404d8c8>\n",
      "18 128 <function amin at 0x7f079404d950>\n",
      "19 128 <function std at 0x7f079404de18>\n"
     ]
    }
   ],
   "source": [
    "resizing_factors = [8, 16, 32, 64, 128]\n",
    "functions = [np.mean, np.max, np. min, np.std]\n",
    "nr = len(resizing_factors)\n",
    "nf = len(functions)\n",
    "for i, r in enumerate(resizing_factors):\n",
    "    for j, f in enumerate(functions):\n",
    "        print(i * nf + j, r, f)"
   ]
  },
  {
   "cell_type": "code",
   "execution_count": 49,
   "metadata": {},
   "outputs": [],
   "source": [
    "def XGBTrain(data, train_imgs, y, n_trees):\n",
    "\n",
    "    X_train, y_train = data.loc[IMG.isin(train_imgs)], y.loc[IMG.isin(train_imgs)]\n",
    "    \n",
    "    \n",
    "    n = len(X_train)\n",
    "    f = .02\n",
    "    ix = X_train.index.values.copy()\n",
    "    np.random.shuffle(ix)\n",
    "    X_train = X_train.loc[ix[:int(n * f)]]\n",
    "    y_train = y_train.loc[ix[:int(n * f)]]\n",
    "    \n",
    "    \n",
    "    ratio = float(np.sum(y_train == 1)) / np.sum(y_train==0)\n",
    "\n",
    "    clf = xgb.XGBClassifier(\n",
    "                    max_depth = 2,\n",
    "                    n_estimators=n_trees,\n",
    "                    learning_rate=0.1, \n",
    "                    nthread=6,\n",
    "                    subsample=1,\n",
    "                    colsample_bytree=.5,\n",
    "                    scale_pos_weight = ratio,\n",
    "                    reg_alpha=0,\n",
    "                    seed=1301)\n",
    "\n",
    "    eval_set = [\n",
    "        (X_train, y_train),\n",
    "#         (X_val, y_val),\n",
    "    ]\n",
    "#     print('fitting')\n",
    "    clf.fit(X_train, y_train, early_stopping_rounds=100 , eval_metric=\"auc\",\n",
    "            eval_set=eval_set,\n",
    "            verbose = False)\n",
    "    \n",
    "    return clf"
   ]
  },
  {
   "cell_type": "code",
   "execution_count": 50,
   "metadata": {},
   "outputs": [],
   "source": [
    "train_images = np.unique(IMG.loc[solo.isin({0, 1})])\n",
    "nimgs = len(train_images)"
   ]
  },
  {
   "cell_type": "code",
   "execution_count": 51,
   "metadata": {},
   "outputs": [],
   "source": [
    "np.random.shuffle(train_images)\n",
    "f = 0.8\n",
    "fit_imgs = train_images[:int(nimgs * f)]\n",
    "val_imgs = train_images[int(nimgs * f):]"
   ]
  },
  {
   "cell_type": "code",
   "execution_count": null,
   "metadata": {},
   "outputs": [],
   "source": [
    "def XGBTrain2(data, train_imgs, y, n_trees):\n",
    "\n",
    "    X_train, y_train = data.loc[IMG.isin(train_imgs)], y.loc[IMG.isin(train_imgs)]\n",
    "    \n",
    "    \n",
    "    n = len(X_train)\n",
    "    f = .02\n",
    "    ix = X_train.index.values.copy()\n",
    "    np.random.shuffle(ix)\n",
    "    X_train = X_train.loc[ix[:int(n * f)]]\n",
    "    y_train = y_train.loc[ix[:int(n * f)]]\n",
    "    \n",
    "    \n",
    "    ratio = float(np.sum(y_train == 1)) / np.sum(y_train==0)\n",
    "\n",
    "    clf = xgb.XGBClassifier(\n",
    "                    max_depth = 2,\n",
    "                    n_estimators=n_trees,\n",
    "                    learning_rate=0.1, \n",
    "                    nthread=6,\n",
    "                    subsample=1,\n",
    "                    colsample_bytree=.5,\n",
    "                    scale_pos_weight = ratio,\n",
    "                    reg_alpha=0,\n",
    "                    seed=1301)\n",
    "\n",
    "    eval_set = [\n",
    "        (X_train, y_train),\n",
    "#         (X_val, y_val),\n",
    "    ]\n",
    "#     print('fitting')\n",
    "    clf.fit(X_train, y_train, early_stopping_rounds=100 , eval_metric=\"auc\",\n",
    "            eval_set=eval_set,\n",
    "            verbose = False)\n",
    "    \n",
    "    return clf"
   ]
  },
  {
   "cell_type": "code",
   "execution_count": 52,
   "metadata": {},
   "outputs": [
    {
     "name": "stdout",
     "output_type": "stream",
     "text": [
      "[0]\tvalidation_0-auc:0.846503\n",
      "Will train until validation_0-auc hasn't improved in 100 rounds.\n",
      "[1]\tvalidation_0-auc:0.872724\n",
      "[2]\tvalidation_0-auc:0.878955\n",
      "[3]\tvalidation_0-auc:0.890129\n",
      "[4]\tvalidation_0-auc:0.893334\n",
      "[5]\tvalidation_0-auc:0.918596\n",
      "[6]\tvalidation_0-auc:0.924941\n",
      "[7]\tvalidation_0-auc:0.93107\n",
      "[8]\tvalidation_0-auc:0.931678\n",
      "[9]\tvalidation_0-auc:0.932063\n",
      "[10]\tvalidation_0-auc:0.932335\n",
      "[11]\tvalidation_0-auc:0.93244\n",
      "[12]\tvalidation_0-auc:0.932587\n",
      "[13]\tvalidation_0-auc:0.932836\n",
      "[14]\tvalidation_0-auc:0.934476\n",
      "[15]\tvalidation_0-auc:0.941629\n",
      "[16]\tvalidation_0-auc:0.941889\n",
      "[17]\tvalidation_0-auc:0.94288\n",
      "[18]\tvalidation_0-auc:0.943827\n",
      "[19]\tvalidation_0-auc:0.945166\n",
      "[20]\tvalidation_0-auc:0.945605\n",
      "[21]\tvalidation_0-auc:0.946106\n",
      "[22]\tvalidation_0-auc:0.94771\n",
      "[23]\tvalidation_0-auc:0.948312\n",
      "[24]\tvalidation_0-auc:0.948955\n",
      "[25]\tvalidation_0-auc:0.949803\n",
      "[26]\tvalidation_0-auc:0.950388\n",
      "[27]\tvalidation_0-auc:0.950941\n",
      "[28]\tvalidation_0-auc:0.951987\n",
      "[29]\tvalidation_0-auc:0.952805\n",
      "[30]\tvalidation_0-auc:0.953658\n",
      "[31]\tvalidation_0-auc:0.954258\n",
      "[32]\tvalidation_0-auc:0.954581\n",
      "[33]\tvalidation_0-auc:0.954996\n",
      "[34]\tvalidation_0-auc:0.955618\n",
      "[35]\tvalidation_0-auc:0.955951\n",
      "[36]\tvalidation_0-auc:0.956536\n",
      "[37]\tvalidation_0-auc:0.957045\n",
      "[38]\tvalidation_0-auc:0.957136\n",
      "[39]\tvalidation_0-auc:0.957565\n",
      "[40]\tvalidation_0-auc:0.957856\n",
      "[41]\tvalidation_0-auc:0.958161\n",
      "[42]\tvalidation_0-auc:0.95858\n",
      "[43]\tvalidation_0-auc:0.958714\n",
      "[44]\tvalidation_0-auc:0.9589\n",
      "[45]\tvalidation_0-auc:0.959205\n",
      "[46]\tvalidation_0-auc:0.959373\n",
      "[47]\tvalidation_0-auc:0.959577\n",
      "[48]\tvalidation_0-auc:0.959631\n",
      "[49]\tvalidation_0-auc:0.959814\n",
      "[50]\tvalidation_0-auc:0.959946\n",
      "[51]\tvalidation_0-auc:0.959971\n",
      "[52]\tvalidation_0-auc:0.960139\n",
      "[53]\tvalidation_0-auc:0.960404\n",
      "[54]\tvalidation_0-auc:0.960554\n",
      "[55]\tvalidation_0-auc:0.960626\n",
      "[56]\tvalidation_0-auc:0.960743\n",
      "[57]\tvalidation_0-auc:0.960778\n",
      "[58]\tvalidation_0-auc:0.960931\n",
      "[59]\tvalidation_0-auc:0.961174\n",
      "[60]\tvalidation_0-auc:0.961268\n",
      "[61]\tvalidation_0-auc:0.961294\n",
      "[62]\tvalidation_0-auc:0.961508\n",
      "[63]\tvalidation_0-auc:0.961587\n",
      "[64]\tvalidation_0-auc:0.961635\n",
      "[65]\tvalidation_0-auc:0.961769\n",
      "[66]\tvalidation_0-auc:0.961823\n",
      "[67]\tvalidation_0-auc:0.961972\n",
      "[68]\tvalidation_0-auc:0.962041\n",
      "[69]\tvalidation_0-auc:0.962129\n",
      "[70]\tvalidation_0-auc:0.962141\n",
      "[71]\tvalidation_0-auc:0.962191\n",
      "[72]\tvalidation_0-auc:0.962323\n",
      "[73]\tvalidation_0-auc:0.9624\n",
      "[74]\tvalidation_0-auc:0.962419\n",
      "[75]\tvalidation_0-auc:0.962512\n",
      "[76]\tvalidation_0-auc:0.962521\n",
      "[77]\tvalidation_0-auc:0.96261\n",
      "[78]\tvalidation_0-auc:0.962734\n",
      "[79]\tvalidation_0-auc:0.962792\n",
      "[80]\tvalidation_0-auc:0.962797\n",
      "[81]\tvalidation_0-auc:0.962933\n",
      "[82]\tvalidation_0-auc:0.963019\n",
      "[83]\tvalidation_0-auc:0.963074\n",
      "[84]\tvalidation_0-auc:0.963148\n",
      "[85]\tvalidation_0-auc:0.963242\n",
      "[86]\tvalidation_0-auc:0.963361\n",
      "[87]\tvalidation_0-auc:0.96343\n",
      "[88]\tvalidation_0-auc:0.963438\n",
      "[89]\tvalidation_0-auc:0.9635\n",
      "[90]\tvalidation_0-auc:0.963527\n",
      "[91]\tvalidation_0-auc:0.963566\n",
      "[92]\tvalidation_0-auc:0.96368\n",
      "[93]\tvalidation_0-auc:0.963702\n",
      "[94]\tvalidation_0-auc:0.963784\n",
      "[95]\tvalidation_0-auc:0.96381\n",
      "[96]\tvalidation_0-auc:0.96397\n",
      "[97]\tvalidation_0-auc:0.963984\n",
      "[98]\tvalidation_0-auc:0.964039\n",
      "[99]\tvalidation_0-auc:0.964105\n"
     ]
    },
    {
     "data": {
      "text/plain": [
       "XGBClassifier(base_score=0.5, booster='gbtree', colsample_bylevel=1,\n",
       "       colsample_bytree=1, gamma=0, learning_rate=0.1, max_delta_step=0,\n",
       "       max_depth=2, min_child_weight=1, missing=None, n_estimators=100,\n",
       "       n_jobs=1, nthread=6, objective='binary:logistic', random_state=0,\n",
       "       reg_alpha=0, reg_lambda=1, scale_pos_weight=2.9898968693415906,\n",
       "       seed=1301, silent=True, subsample=1)"
      ]
     },
     "execution_count": 52,
     "metadata": {},
     "output_type": "execute_result"
    }
   ],
   "source": [
    "XGBTrain(data, fit_imgs, y, 100)"
   ]
  },
  {
   "cell_type": "code",
   "execution_count": 36,
   "metadata": {
    "scrolled": false
   },
   "outputs": [
    {
     "name": "stdout",
     "output_type": "stream",
     "text": [
      "Experiment [0] [1]\n",
      "> 25\n",
      " > > 25 \t Fit vs Val (MAc) = 0.909 vs 0.988\n",
      " > > 25 \t Fit vs Val (MAc) = 0.912 vs 0.979\n",
      " > > 25 \t Fit vs Val (MAc) = 0.923 vs 0.886\n",
      " > > 25 \t Fit vs Val (MAc) = 0.910 vs 0.964\n",
      " > > 25 \t Fit vs Val (MAc) = 0.916 vs 0.961\n",
      " > > 25 \t Fit vs Val (MAc) = 0.910 vs 0.979\n",
      " > > 25 \t Fit vs Val (MAc) = 0.912 vs 0.975\n",
      " > > 25 \t Fit vs Val (MAc) = 0.894 vs 0.986\n",
      " > > 25 \t Fit vs Val (MAc) = 0.913 vs 0.965\n",
      " > > 25 \t Fit vs Val (MAc) = 0.911 vs 0.981\n",
      " > > 25 \t Fit vs Val (MAc) = 0.886 vs 0.757\n"
     ]
    },
    {
     "name": "stderr",
     "output_type": "stream",
     "text": [
      "/store/tveiga/miniconda3/envs/py/lib/python3.7/site-packages/numpy/lib/function_base.py:356: RuntimeWarning: Mean of empty slice.\n",
      "  avg = a.mean(axis)\n",
      "/store/tveiga/miniconda3/envs/py/lib/python3.7/site-packages/numpy/core/_methods.py:85: RuntimeWarning: invalid value encountered in double_scalars\n",
      "  ret = ret.dtype.type(ret / rcount)\n"
     ]
    },
    {
     "name": "stdout",
     "output_type": "stream",
     "text": [
      " > > 25 \t Fit vs Val (MAc) = 0.910 vs nan\n",
      " > > 25 \t Fit vs Val (MAc) = 0.911 vs 0.971\n",
      " > > 25 \t Fit vs Val (MAc) = 0.918 vs 0.910\n",
      " > > 25 \t Fit vs Val (MAc) = 0.914 vs 0.828\n",
      " > > 25 \t Fit vs Val (MAc) = 0.920 vs 0.731\n",
      " > > 25 \t Fit vs Val (MAc) = 0.900 vs 0.968\n",
      " > > BEST-TH: 0.933 (0.007)\n",
      " > > TEST Score : 0.841\n",
      "Experiment [1] [0]\n",
      "> 25\n",
      " > > 25 \t Fit vs Val (MAc) = 0.883 vs 0.982\n",
      " > > 25 \t Fit vs Val (MAc) = 0.883 vs 0.979\n",
      " > > 25 \t Fit vs Val (MAc) = 0.893 vs 0.882\n",
      " > > 25 \t Fit vs Val (MAc) = 0.881 vs 0.962\n",
      " > > 25 \t Fit vs Val (MAc) = 0.888 vs 0.961\n",
      " > > 25 \t Fit vs Val (MAc) = 0.882 vs 0.979\n",
      " > > 25 \t Fit vs Val (MAc) = 0.885 vs 0.971\n",
      " > > 25 \t Fit vs Val (MAc) = 0.867 vs 0.987\n",
      " > > 25 \t Fit vs Val (MAc) = 0.884 vs 0.966\n",
      " > > 25 \t Fit vs Val (MAc) = 0.883 vs 0.979\n",
      " > > 25 \t Fit vs Val (MAc) = 0.859 vs 0.977\n"
     ]
    },
    {
     "name": "stderr",
     "output_type": "stream",
     "text": [
      "/store/tveiga/miniconda3/envs/py/lib/python3.7/site-packages/numpy/lib/function_base.py:356: RuntimeWarning: Mean of empty slice.\n",
      "  avg = a.mean(axis)\n",
      "/store/tveiga/miniconda3/envs/py/lib/python3.7/site-packages/numpy/core/_methods.py:85: RuntimeWarning: invalid value encountered in double_scalars\n",
      "  ret = ret.dtype.type(ret / rcount)\n"
     ]
    },
    {
     "name": "stdout",
     "output_type": "stream",
     "text": [
      " > > 25 \t Fit vs Val (MAc) = 0.884 vs nan\n",
      " > > 25 \t Fit vs Val (MAc) = 0.882 vs 0.967\n",
      " > > 25 \t Fit vs Val (MAc) = 0.888 vs 0.920\n",
      " > > 25 \t Fit vs Val (MAc) = 0.886 vs 0.754\n",
      " > > 25 \t Fit vs Val (MAc) = 0.892 vs 0.736\n",
      " > > 25 \t Fit vs Val (MAc) = 0.873 vs 0.967\n",
      " > > 25 \t Fit vs Val (MAc) = 0.886 vs 0.975\n",
      " > > 25 \t Fit vs Val (MAc) = 0.895 vs 0.591\n",
      " > > 25 \t Fit vs Val (MAc) = 0.893 vs 0.862\n",
      " > > BEST-TH: 0.935 (0.005)\n",
      " > > TEST Score : 0.951\n",
      "Experiment [0, 1] [2]\n",
      "> 25\n",
      " > > 25 \t Fit vs Val (MAc) = 0.876 vs 0.988\n",
      " > > 25 \t Fit vs Val (MAc) = 0.878 vs 0.978\n",
      " > > 25 \t Fit vs Val (MAc) = 0.881 vs 0.881\n",
      " > > 25 \t Fit vs Val (MAc) = 0.877 vs 0.964\n",
      " > > 25 \t Fit vs Val (MAc) = 0.878 vs 0.959\n",
      " > > 25 \t Fit vs Val (MAc) = 0.878 vs 0.978\n",
      " > > 25 \t Fit vs Val (MAc) = 0.878 vs 0.972\n",
      " > > 25 \t Fit vs Val (MAc) = 0.875 vs 0.988\n",
      " > > 25 \t Fit vs Val (MAc) = 0.877 vs 0.963\n",
      " > > 25 \t Fit vs Val (MAc) = 0.876 vs 0.979\n",
      " > > 25 \t Fit vs Val (MAc) = 0.873 vs 0.961\n"
     ]
    },
    {
     "name": "stderr",
     "output_type": "stream",
     "text": [
      "/store/tveiga/miniconda3/envs/py/lib/python3.7/site-packages/numpy/lib/function_base.py:356: RuntimeWarning: Mean of empty slice.\n",
      "  avg = a.mean(axis)\n",
      "/store/tveiga/miniconda3/envs/py/lib/python3.7/site-packages/numpy/core/_methods.py:85: RuntimeWarning: invalid value encountered in double_scalars\n",
      "  ret = ret.dtype.type(ret / rcount)\n"
     ]
    },
    {
     "name": "stdout",
     "output_type": "stream",
     "text": [
      " > > 25 \t Fit vs Val (MAc) = 0.880 vs nan\n",
      " > > 25 \t Fit vs Val (MAc) = 0.877 vs 0.961\n",
      " > > 25 \t Fit vs Val (MAc) = 0.879 vs 0.924\n",
      " > > 25 \t Fit vs Val (MAc) = 0.878 vs 0.851\n",
      " > > 25 \t Fit vs Val (MAc) = 0.879 vs 0.773\n",
      " > > 25 \t Fit vs Val (MAc) = 0.874 vs 0.963\n",
      " > > 25 \t Fit vs Val (MAc) = 0.879 vs 0.973\n",
      " > > 25 \t Fit vs Val (MAc) = 0.881 vs 0.681\n",
      " > > 25 \t Fit vs Val (MAc) = 0.880 vs 0.875\n"
     ]
    },
    {
     "name": "stderr",
     "output_type": "stream",
     "text": [
      "/store/tveiga/miniconda3/envs/py/lib/python3.7/site-packages/numpy/lib/function_base.py:356: RuntimeWarning: Mean of empty slice.\n",
      "  avg = a.mean(axis)\n",
      "/store/tveiga/miniconda3/envs/py/lib/python3.7/site-packages/numpy/core/_methods.py:85: RuntimeWarning: invalid value encountered in double_scalars\n",
      "  ret = ret.dtype.type(ret / rcount)\n"
     ]
    },
    {
     "name": "stdout",
     "output_type": "stream",
     "text": [
      " > > 25 \t Fit vs Val (MAc) = 0.879 vs nan\n",
      " > > 25 \t Fit vs Val (MAc) = 0.882 vs 0.820\n",
      " > > 25 \t Fit vs Val (MAc) = 0.880 vs 0.860\n",
      " > > 25 \t Fit vs Val (MAc) = 0.884 vs 0.672\n",
      " > > 25 \t Fit vs Val (MAc) = 0.879 vs 0.863\n",
      " > > 25 \t Fit vs Val (MAc) = 0.879 vs 0.867\n",
      " > > 25 \t Fit vs Val (MAc) = 0.875 vs 0.924\n",
      " > > 25 \t Fit vs Val (MAc) = 0.879 vs 0.786\n",
      " > > 25 \t Fit vs Val (MAc) = 0.870 vs 0.953\n",
      " > > 25 \t Fit vs Val (MAc) = 0.877 vs 0.906\n"
     ]
    },
    {
     "name": "stderr",
     "output_type": "stream",
     "text": [
      "/store/tveiga/miniconda3/envs/py/lib/python3.7/site-packages/numpy/lib/function_base.py:356: RuntimeWarning: Mean of empty slice.\n",
      "  avg = a.mean(axis)\n",
      "/store/tveiga/miniconda3/envs/py/lib/python3.7/site-packages/numpy/core/_methods.py:85: RuntimeWarning: invalid value encountered in double_scalars\n",
      "  ret = ret.dtype.type(ret / rcount)\n"
     ]
    },
    {
     "name": "stdout",
     "output_type": "stream",
     "text": [
      " > > 25 \t Fit vs Val (MAc) = 0.879 vs nan\n",
      " > > 25 \t Fit vs Val (MAc) = 0.880 vs 0.814\n",
      " > > 25 \t Fit vs Val (MAc) = 0.881 vs 0.739\n",
      " > > 25 \t Fit vs Val (MAc) = 0.880 vs 0.815\n",
      " > > 25 \t Fit vs Val (MAc) = 0.876 vs 0.912\n",
      " > > 25 \t Fit vs Val (MAc) = 0.882 vs 0.634\n",
      " > > 25 \t Fit vs Val (MAc) = 0.869 vs 0.975\n",
      " > > BEST-TH: 0.901 (0.005)\n",
      " > > TEST Score : 0.814\n",
      "Experiment [2] [0, 1]\n",
      "> 25\n",
      " > > 25 \t Fit vs Val (MAc) = 0.871 vs 0.969\n",
      " > > 25 \t Fit vs Val (MAc) = 0.873 vs 0.978\n",
      " > > 25 \t Fit vs Val (MAc) = 0.880 vs 0.883\n"
     ]
    },
    {
     "name": "stderr",
     "output_type": "stream",
     "text": [
      "/store/tveiga/miniconda3/envs/py/lib/python3.7/site-packages/ipykernel_launcher.py:28: RuntimeWarning: invalid value encountered in greater\n"
     ]
    },
    {
     "name": "stdout",
     "output_type": "stream",
     "text": [
      " > > 25 \t Fit vs Val (MAc) = nan vs 0.162\n",
      " > > 25 \t Fit vs Val (MAc) = 0.877 vs 0.960\n",
      " > > 25 \t Fit vs Val (MAc) = 0.872 vs 0.975\n",
      " > > 25 \t Fit vs Val (MAc) = 0.872 vs 0.953\n",
      " > > 25 \t Fit vs Val (MAc) = 0.859 vs 0.986\n",
      " > > 25 \t Fit vs Val (MAc) = 0.876 vs 0.963\n",
      " > > 25 \t Fit vs Val (MAc) = 0.874 vs 0.977\n",
      " > > 25 \t Fit vs Val (MAc) = 0.853 vs 0.958\n"
     ]
    },
    {
     "name": "stderr",
     "output_type": "stream",
     "text": [
      "/store/tveiga/miniconda3/envs/py/lib/python3.7/site-packages/numpy/lib/function_base.py:356: RuntimeWarning: Mean of empty slice.\n",
      "  avg = a.mean(axis)\n",
      "/store/tveiga/miniconda3/envs/py/lib/python3.7/site-packages/numpy/core/_methods.py:85: RuntimeWarning: invalid value encountered in double_scalars\n",
      "  ret = ret.dtype.type(ret / rcount)\n"
     ]
    },
    {
     "name": "stdout",
     "output_type": "stream",
     "text": [
      " > > 25 \t Fit vs Val (MAc) = 0.874 vs nan\n",
      " > > 25 \t Fit vs Val (MAc) = 0.875 vs 0.934\n",
      " > > 25 \t Fit vs Val (MAc) = 0.880 vs 0.882\n",
      " > > 25 \t Fit vs Val (MAc) = 0.876 vs 0.814\n",
      " > > 25 \t Fit vs Val (MAc) = 0.884 vs 0.727\n",
      " > > 25 \t Fit vs Val (MAc) = 0.864 vs 0.965\n",
      " > > 25 \t Fit vs Val (MAc) = 0.876 vs 0.973\n",
      " > > 25 \t Fit vs Val (MAc) = 0.884 vs 0.539\n",
      " > > 25 \t Fit vs Val (MAc) = 0.879 vs 0.850\n"
     ]
    },
    {
     "name": "stderr",
     "output_type": "stream",
     "text": [
      "/store/tveiga/miniconda3/envs/py/lib/python3.7/site-packages/numpy/lib/function_base.py:356: RuntimeWarning: Mean of empty slice.\n",
      "  avg = a.mean(axis)\n",
      "/store/tveiga/miniconda3/envs/py/lib/python3.7/site-packages/numpy/core/_methods.py:85: RuntimeWarning: invalid value encountered in double_scalars\n",
      "  ret = ret.dtype.type(ret / rcount)\n"
     ]
    },
    {
     "name": "stdout",
     "output_type": "stream",
     "text": [
      " > > 25 \t Fit vs Val (MAc) = 0.871 vs nan\n",
      " > > 25 \t Fit vs Val (MAc) = 0.884 vs 0.808\n",
      " > > BEST-TH: nan (nan)\n"
     ]
    },
    {
     "name": "stderr",
     "output_type": "stream",
     "text": [
      "/store/tveiga/miniconda3/envs/py/lib/python3.7/site-packages/numpy/lib/function_base.py:3250: RuntimeWarning: Invalid value encountered in median\n",
      "  r = func(a, **kwargs)\n",
      "/store/tveiga/miniconda3/envs/py/lib/python3.7/site-packages/ipykernel_launcher.py:40: RuntimeWarning: invalid value encountered in greater\n"
     ]
    },
    {
     "name": "stdout",
     "output_type": "stream",
     "text": [
      " > > TEST Score : 0.234\n",
      "Done.\n"
     ]
    }
   ],
   "source": [
    "tree_list = list(range(30, 60, 10))\n",
    "tree_list = [25]\n",
    "\n",
    "VI_scores = [[[] for vi in tree_list] for _ in range(4)] # 4 is the number of experiments\n",
    "VI_scores_val = [[[] for t in tree_list] for _ in range(4)]\n",
    "VI_scores_test = [[0 for t in tree_list] for _ in range(4)]\n",
    "THS = [[[] for vi in names_VI] for _ in range(4)]\n",
    "\n",
    "for e, (left, test) in enumerate(experiments):\n",
    "    print(\"Experiment\", left, test)\n",
    "#     Xleft = data.loc[solo.isin(left)]\n",
    "#     Xtest = data.loc[solo.isin(test)]\n",
    "    \n",
    "    images = list(set(IMG.loc[data.loc[solo.isin(left)].index]))\n",
    "    for t, trees in enumerate(tree_list):\n",
    "\n",
    "        print('>', trees)\n",
    "        \n",
    "        # for train_imgs, test_imgs in splitByImages(Xleft, 1/4, 6):\n",
    "        for train_imgs, test_imgs in loo.split(images):\n",
    "            \n",
    "            clf = XGBTrain(data, train_imgs, y, trees)\n",
    "\n",
    "            prediction = clf.predict_proba(data.loc[IMG.isin(train_imgs)])[:,-1]\n",
    "            _auc, mean_acc, bestTH, fpr, tpr = getPerformance(y.loc[IMG.isin(train_imgs)], prediction)\n",
    "            \n",
    "            prediction = clf.predict_proba(data.loc[IMG.isin(test_imgs)])[:,-1]\n",
    "            val_mean_acc = accuracy_score(y.loc[IMG.isin(test_imgs)], 1 * (prediction > bestTH))\n",
    "#             _auc, val_mean_acc, bestTH, fpr, tpr = getPerformance(y.loc[IMG.isin(test_imgs)], prediction)\n",
    "            \n",
    "            VI_scores[e][t].append(mean_acc)\n",
    "            VI_scores_val[e][t].append(val_mean_acc)\n",
    "            THS[e][t].append(bestTH)\n",
    "            print(\" > > %d \\t Fit vs Val (MAc) = %.3f vs %.3f\" % (trees, mean_acc, val_mean_acc))\n",
    "            \n",
    "        ar = np.array(THS[e][t])\n",
    "        bestTH = np.median(ar)\n",
    "        print(\" > > BEST-TH: %.3f (%.3f)\" % (bestTH, ar.std()))\n",
    "        prediction = clf.predict_proba(data.loc[solo.isin(test)])[:,-1]\n",
    "        test_mean_acc = accuracy_score(y.loc[solo.isin(test)], 1 * (prediction > bestTH))\n",
    "        VI_scores_test[e][t] = test_mean_acc\n",
    "        print(\" > > TEST Score : %.3f\" % test_mean_acc)\n",
    "        \n",
    "print(\"Done.\")   "
   ]
  },
  {
   "cell_type": "code",
   "execution_count": 34,
   "metadata": {},
   "outputs": [
    {
     "name": "stdout",
     "output_type": "stream",
     "text": [
      "Experiment [0] [1]\n",
      " > > 25 \t Fit vs Val vs Test (MAc) = 0.923 (0.007) vs 0.923 (0.087) vs 0.810\n",
      "Experiment [1] [0]\n",
      " > > 25 \t Fit vs Val vs Test (MAc) = 0.906 (0.007) vs 0.908 (0.116) vs 0.956\n",
      "Experiment [0, 1] [2]\n",
      " > > 25 \t Fit vs Val vs Test (MAc) = 0.893 (0.003) vs 0.901 (0.078) vs 0.815\n",
      "Experiment [2] [0, 1]\n",
      " > > 25 \t Fit vs Val vs Test (MAc) = 0.900 (0.006) vs 0.903 (0.110) vs 0.885\n"
     ]
    }
   ],
   "source": [
    "for e, (left, test) in enumerate(experiments):\n",
    "    print(\"Experiment\", left, test)\n",
    "    exp_fit = VI_scores[e]\n",
    "    exp_val = VI_scores_val[e]\n",
    "    for t, trees in enumerate(tree_list):\n",
    "        ar_fit = pd.Series(exp_fit[t])\n",
    "        ar_val = pd.Series(exp_val[t])\n",
    "        \n",
    "        results = (trees, ar_fit.mean(), ar_fit.std(), ar_val.mean(), ar_val.std(), VI_scores_test[e][t])\n",
    "        print(\" > > %d \\t Fit vs Val vs Test (MAc) = %.3f (%.3f) vs %.3f (%.3f) vs %.3f\" % results)"
   ]
  },
  {
   "cell_type": "code",
   "execution_count": null,
   "metadata": {},
   "outputs": [],
   "source": [
    "\"\"\"\n",
    "n = 0.1\n",
    "Experiment [0] [1]\n",
    " > > 25 \t Fit vs Val vs Test (MAc) = 0.923 (0.007) vs 0.923 (0.087) vs 0.810\n",
    "Experiment [1] [0]\n",
    " > > 25 \t Fit vs Val vs Test (MAc) = 0.906 (0.007) vs 0.908 (0.116) vs 0.956\n",
    "Experiment [0, 1] [2]\n",
    " > > 25 \t Fit vs Val vs Test (MAc) = 0.893 (0.003) vs 0.901 (0.078) vs 0.815\n",
    "Experiment [2] [0, 1]\n",
    " > > 25 \t Fit vs Val vs Test (MAc) = 0.900 (0.006) vs 0.903 (0.110) vs 0.885\n",
    " \n",
    " \n",
    "n = 0.02\n",
    "Experiment [0] [1]\n",
    " > > 25 \t Fit vs Val vs Test (MAc) = 0.922 (0.008) vs 0.924 (0.084) vs 0.820\n",
    "Experiment [1] [0]\n",
    " > > 25 \t Fit vs Val vs Test (MAc) = 0.905 (0.007) vs 0.907 (0.122) vs 0.956\n",
    "Experiment [0, 1] [2]\n",
    " > > 25 \t Fit vs Val vs Test (MAc) = 0.893 (0.003) vs 0.903 (0.077) vs 0.813\n",
    "Experiment [2] [0, 1]\n",
    " > > 25 \t Fit vs Val vs Test (MAc) = 0.899 (0.006) vs 0.900 (0.113) vs 0.888\n",
    " \n",
    " \n",
    "\n",
    "\"\"\""
   ]
  },
  {
   "cell_type": "code",
   "execution_count": null,
   "metadata": {
    "scrolled": true
   },
   "outputs": [],
   "source": [
    "tree_list = list(range(30, 60, 10))\n",
    "\n",
    "mac_matrix = np.zeros((4, reps))\n",
    "VI_scores = [[[] for vi in tree_list] for _ in range(4)] # 4 is the number of experiments\n",
    "VI_scores_val = [[[] for t in tree_list] for _ in range(4)]\n",
    "VI_scores_test = [[0 for t in tree_list] for _ in range(4)]\n",
    "ths = []\n",
    "\n",
    "for e, (left, test) in enumerate(experiments):\n",
    "    print(\"Experiment\", left, test)\n",
    "#     Xleft = data.loc[solo.isin(left)]\n",
    "#     Xtest = data.loc[solo.isin(test)]\n",
    "    \n",
    "    images = list(set(IMG.loc[data.loc[solo.isin(left)].index]))\n",
    "    for t, trees in enumerate(tree_list):\n",
    "\n",
    "        print('>', trees)\n",
    "        \n",
    "        # for train_imgs, test_imgs in splitByImages(Xleft, 1/4, 6):\n",
    "        for train_imgs, test_imgs in loo.split(images):\n",
    "            \n",
    "            clf = XGBTrain(data, train_imgs, y, trees)\n",
    "\n",
    "            prediction = clf.predict_proba(data.loc[IMG.isin(train_imgs)])[:,-1]\n",
    "            _auc, mean_acc, bestTH, fpr, tpr = getPerformance(y.loc[IMG.isin(train_imgs)], prediction)\n",
    "            \n",
    "            prediction = clf.predict_proba(data.loc[IMG.isin(test_imgs)])[:,-1]\n",
    "#             val_mean_acc = accuracy_score(y.loc[IMG.isin(test_imgs)], 1 * (prediction > bestTH))\n",
    "            _auc, val_mean_acc, bestTH, fpr, tpr = getPerformance(y.loc[IMG.isin(test_imgs)], prediction)\n",
    "            \n",
    "            VI_scores[e][t].append(mean_acc)\n",
    "            VI_scores_val[e][t].append(val_mean_acc)\n",
    "            ths.append(bestTH)\n",
    "            print(\" > > %d \\t Fit vs Val (MAc) = %.3f vs %.3f\" % (trees, mean_acc, val_mean_acc))\n",
    "            \n",
    "        ar = pd.Series(ths)\n",
    "        bestTH = ar.median()\n",
    "        print(\" > > BEST-TH: %.3f (%.3f)\" % (bestTH, ar.std()))\n",
    "        prediction = clf.predict_proba(data.loc[solo.isin(test)])[:,-1]\n",
    "        test_mean_acc = accuracy_score(y.loc[solo.isin(test)], 1 * (prediction > bestTH))\n",
    "        VI_scores_test[e][t] = test_mean_acc\n",
    "        print(\" > > TEST Score : %.3f\" % test_mean_acc)\n",
    "        \n",
    "print(\"Done.\")   "
   ]
  },
  {
   "cell_type": "code",
   "execution_count": null,
   "metadata": {},
   "outputs": [],
   "source": [
    "for e, (left, test) in enumerate(experiments):\n",
    "    print(\"Experiment\", left, test)\n",
    "    exp_fit = VI_scores[e]\n",
    "    exp_val = VI_scores_val[e]\n",
    "    for t, trees in enumerate(tree_list):\n",
    "        ar_fit = pd.Series(exp_fit[t])\n",
    "        ar_val = pd.Series(exp_val[t])\n",
    "        \n",
    "        results = (trees, ar_fit.mean(), ar_fit.std(), ar_val.mean(), ar_val.std(), VI_scores_test[e][t])\n",
    "        print(\" > > %d \\t Fit vs Val vs Test (MAc) = %.3f (%.3f) vs %.3f (%.3f) vs %.3f\" % results)"
   ]
  },
  {
   "cell_type": "code",
   "execution_count": null,
   "metadata": {},
   "outputs": [],
   "source": []
  },
  {
   "cell_type": "code",
   "execution_count": null,
   "metadata": {},
   "outputs": [],
   "source": [
    "reps = 30\n",
    "auc_matrix = np.zeros((4, reps))\n",
    "auc_matrix_val = np.zeros((4, reps))\n",
    "mac_matrix = np.zeros((4, reps))\n",
    "mac_matrix_val = np.zeros((4, reps))\n",
    "clfs = [[None] * reps] * 4 # 4 is the number of experiments\n",
    "\n",
    "for e, (left, test) in enumerate(experiments):\n",
    "    print(\"Experiment\", left, test)\n",
    "    Xleft = data.loc[solo.isin(left)]\n",
    "    Xtest = data.loc[solo.isin(test)]\n",
    "    \n",
    "    \n",
    "    for i, (train_imgs, val_imgs) in enumerate(splitByImages(Xleft, 1/4, reps)):\n",
    "        # train\n",
    "        clf = XGBTrain(data, train_imgs, val_imgs, y)\n",
    "        \n",
    "        # get val performance of this trained model: ROC, AUC and MAc, and also the best threshold value for test\n",
    "        prediction = clf.predict_proba(data.loc[IMG.isin(val_imgs)])[:,-1]\n",
    "        val_auc, val_mean_acc, bestTH, fpr, tpr = getPerformance(y.loc[IMG.isin(val_imgs)], prediction)\n",
    "        \n",
    "        # get train either?\n",
    "        \n",
    "        # get test performance\n",
    "        prediction = clf.predict_proba(data.loc[solo.isin(test)])[:,-1]\n",
    "        mean_acc = accuracy_score(y.loc[solo.isin(test)], 1 * (prediction > bestTH)) # 1 * array = array.astype(int)\n",
    "        \n",
    "               \n",
    "        # save performance\n",
    "        mac_matrix[e, i] = mean_acc\n",
    "        mac_matrix_val[e, i] = val_mean_acc\n",
    "        \n",
    "        auc_matrix_val[e, i] = clf.best_score\n",
    "        \n",
    "        # save classifiers for further analysis\n",
    "        clfs[e][i] = [clf, left, test, bestTH]\n",
    "        \n",
    "        print(\" > %d iterations \\t Val vs Test (MAc) = %.3f vs %.3f\" % (clf.best_iteration, \n",
    "                                                                               val_mean_acc, mean_acc))\n",
    "        \n",
    "print(\"Done.\")    "
   ]
  },
  {
   "cell_type": "code",
   "execution_count": null,
   "metadata": {},
   "outputs": [],
   "source": [
    "mac_matrix.mean(axis = 1), mac_matrix.std(axis = 1),"
   ]
  },
  {
   "cell_type": "code",
   "execution_count": null,
   "metadata": {},
   "outputs": [],
   "source": [
    "mac_matrix_val.mean(axis = 1), mac_matrix_val.std(axis = 1),"
   ]
  },
  {
   "cell_type": "markdown",
   "metadata": {},
   "source": [
    "# Análise do Resultados"
   ]
  },
  {
   "cell_type": "code",
   "execution_count": null,
   "metadata": {},
   "outputs": [],
   "source": [
    "clf_ind = 2 # base 2 out is better to find out why training in 0 and 1 fail in generalizing to 2\n",
    "clf, left, test, bestTH = clfs[clf_ind][0]\n",
    "\n",
    "X_train, y_train = data.loc[solo.isin(left)], y.loc[solo.isin(left)]\n",
    "X_test, y_test = data.loc[solo.isin(test)], y.loc[solo.isin(test)]\n",
    "\n",
    "predict = clf.predict_proba(X_test, ntree_limit=clf.best_iteration)[:,-1]"
   ]
  },
  {
   "cell_type": "code",
   "execution_count": null,
   "metadata": {},
   "outputs": [],
   "source": []
  },
  {
   "cell_type": "code",
   "execution_count": null,
   "metadata": {},
   "outputs": [],
   "source": []
  },
  {
   "cell_type": "code",
   "execution_count": null,
   "metadata": {},
   "outputs": [],
   "source": [
    "from skimage.util.shape import view_as_blocks\n",
    "from skimage.io import imread\n"
   ]
  },
  {
   "cell_type": "code",
   "execution_count": null,
   "metadata": {},
   "outputs": [],
   "source": [
    "paths = pd.read_csv('../IC2017_DATA/valid_images.csv', index_col=0)\n",
    "n_images = len(paths)"
   ]
  },
  {
   "cell_type": "code",
   "execution_count": null,
   "metadata": {},
   "outputs": [],
   "source": [
    "paths['base_num'] = 1\n",
    "paths.loc[paths.index <= 17, 'base_num'] = 0\n",
    "paths.loc[paths.index >= 40, 'base_num'] = 2"
   ]
  },
  {
   "cell_type": "code",
   "execution_count": null,
   "metadata": {
    "scrolled": true
   },
   "outputs": [],
   "source": [
    "paths"
   ]
  },
  {
   "cell_type": "code",
   "execution_count": null,
   "metadata": {},
   "outputs": [],
   "source": [
    "th = bestTH\n",
    "\n",
    "# m1 = ((y_test == 1) & (prediction < th))\n",
    "# m0 = ((y_test == 0) & (prediction > th))\n",
    "\n",
    "pred_all = clf.predict_proba(data, ntree_limit=clf.best_iteration)[:,-1]\n",
    "m1 = ((y == 1) & (pred_all < th))\n",
    "m0 = ((y == 0) & (pred_all >= th))\n",
    "\n",
    "m1.sum(), m0.sum()"
   ]
  },
  {
   "cell_type": "code",
   "execution_count": null,
   "metadata": {},
   "outputs": [],
   "source": [
    "misses = pd.concat([IMG[m0].value_counts().rename(\"NOVEG-miss\"), IMG[m1].value_counts().rename(\"VEG-miss\")], axis = 1).fillna(0)"
   ]
  },
  {
   "cell_type": "code",
   "execution_count": null,
   "metadata": {},
   "outputs": [],
   "source": [
    "misses[\"sum\"] = misses[\"NOVEG-miss\"] + misses[\"VEG-miss\"]"
   ]
  },
  {
   "cell_type": "code",
   "execution_count": null,
   "metadata": {
    "scrolled": true
   },
   "outputs": [],
   "source": [
    "misses.sort_values(\"sum\",ascending=False)"
   ]
  },
  {
   "cell_type": "code",
   "execution_count": null,
   "metadata": {},
   "outputs": [],
   "source": [
    "def highlight(ind, color):\n",
    "    x_ini = (ind % 32) * 16\n",
    "    x_end = x_ini + 15\n",
    "    y_ini = (ind // 32) * 16\n",
    "    y_end = y_ini + 15\n",
    "    plt.fill_between([x_ini, x_end], y_ini, y_end, alpha =.4, color = color)"
   ]
  },
  {
   "cell_type": "code",
   "execution_count": null,
   "metadata": {
    "scrolled": false
   },
   "outputs": [],
   "source": [
    "\n",
    "# for i in paths.query('base_num == 2').index:\n",
    "for i in paths.index:\n",
    "    pic = imread(paths.loc[i, 'pic'], as_gray = False)\n",
    "    gt = imread(paths.loc[i, 'gt'], as_gray = True)\n",
    "\n",
    "    plt.figure(figsize=(16,7), dpi = 200)\n",
    "    plt.subplots_adjust(wspace = 0, hspace = 0)\n",
    "\n",
    "    plt.subplot(1,2,1)\n",
    "    plt.imshow(pic)\n",
    "    for b in BLOCK[(IMG == i) & m1]:\n",
    "        highlight(b, \"red\")\n",
    "    for b in BLOCK[(IMG == i) & m0]:\n",
    "        highlight(b, \"blue\")\n",
    "    plt.ylim((511,0))\n",
    "    plt.xlim((0,511))\n",
    "    plt.yticks([])\n",
    "    plt.xticks([])\n",
    "\n",
    "    plt.subplot(1,2,2)\n",
    "    plt.imshow(gt)\n",
    "    for b in BLOCK[(IMG == i) & (y == 1)]:\n",
    "        highlight(b, \"green\")\n",
    "    plt.ylim((511,0))\n",
    "    plt.xlim((0,511))\n",
    "    plt.yticks([])\n",
    "    plt.xticks([])\n",
    "\n",
    "    plt.savefig('report/misses_%02d.pdf' % i, format = 'pdf', dpi = 200)\n",
    "    print(i)\n",
    "    plt.show()"
   ]
  },
  {
   "cell_type": "code",
   "execution_count": null,
   "metadata": {},
   "outputs": [],
   "source": []
  }
 ],
 "metadata": {
  "kernelspec": {
   "display_name": "Python 3",
   "language": "python",
   "name": "python3"
  },
  "language_info": {
   "codemirror_mode": {
    "name": "ipython",
    "version": 3
   },
   "file_extension": ".py",
   "mimetype": "text/x-python",
   "name": "python",
   "nbconvert_exporter": "python",
   "pygments_lexer": "ipython3",
   "version": "3.7.2"
  }
 },
 "nbformat": 4,
 "nbformat_minor": 2
}
