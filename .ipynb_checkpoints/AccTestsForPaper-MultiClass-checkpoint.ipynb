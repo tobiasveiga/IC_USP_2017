{
 "cells": [
  {
   "cell_type": "code",
   "execution_count": 95,
   "metadata": {},
   "outputs": [],
   "source": [
    "from os import listdir\n",
    "from sys import argv\n",
    "\n",
    "import numpy as np\n",
    "import matplotlib.pyplot as plt\n",
    "%matplotlib inline\n",
    "from sklearn.metrics import f1_score, roc_curve, roc_auc_score, precision_recall_curve, accuracy_score\n",
    "\n",
    "from skimage.io import imread\n",
    "\n",
    "\n",
    "from sklearn.ensemble import RandomForestClassifier as RFC\n",
    "from sklearn.decomposition import PCA\n",
    "\n",
    "from sklearn.model_selection import train_test_split\n",
    "\n",
    "import sys\n",
    "# sys.path.insert(0, \"/mnt/Dados/Documentos/xgboost/python-package/\")\n",
    "import xgboost as xgb\n",
    "\n",
    "from sklearn.feature_selection import SelectPercentile\n",
    "from sklearn.feature_selection import f_classif,chi2\n",
    "from sklearn.preprocessing import Binarizer, scale, StandardScaler, minmax_scale\n",
    "\n",
    "from sklearn.svm import SVC\n",
    "\n",
    "import time\n",
    "\n",
    "from sklearn.externals import joblib\n",
    "import pandas as pd\n",
    "from sklearn.manifold import Isomap, TSNE\n",
    "from sklearn.model_selection import GroupKFold, LeavePGroupsOut, LeaveOneGroupOut\n",
    "\n",
    "def shuffled(array):\n",
    "    x = array.values.copy()\n",
    "    np.random.shuffle(x)\n",
    "    return x\n",
    "\n",
    "def shuffled2(array):\n",
    "    x = array.copy()\n",
    "    np.random.shuffle(x)\n",
    "    return x\n",
    "\n",
    "# import pyperclip"
   ]
  },
  {
   "cell_type": "code",
   "execution_count": 44,
   "metadata": {},
   "outputs": [],
   "source": [
    "# Read database from disk\n",
    "data = pd.read_csv(\"../IC2017_DATA/blocks_simple_MC.csv\")"
   ]
  },
  {
   "cell_type": "code",
   "execution_count": 45,
   "metadata": {},
   "outputs": [],
   "source": [
    "# Shuffle data\n",
    "# data = data.loc[shuffled(data.index)]\n",
    "\n",
    "# imgs are now selected by img number\n",
    "# shuffling the whole df, mess with the block order"
   ]
  },
  {
   "cell_type": "code",
   "execution_count": 46,
   "metadata": {},
   "outputs": [],
   "source": [
    "# Copy not-feature data from the base, before removing them for training purpose\n",
    "\n",
    "y = data[\"target\"]\n",
    "IMG = data[\"img_num\"]\n",
    "BLOCK = data[\"block_num\"]\n",
    "# solo = data[\"solo\"]\n",
    "base = data[\"base_num\"]"
   ]
  },
  {
   "cell_type": "code",
   "execution_count": 47,
   "metadata": {},
   "outputs": [],
   "source": [
    "solo = base"
   ]
  },
  {
   "cell_type": "code",
   "execution_count": 48,
   "metadata": {},
   "outputs": [],
   "source": [
    "# Remove not-feature data from the base, for training purpose\n",
    "\n",
    "del data[\"target\"]\n",
    "del data[\"img_num\"] # big jump in precision by keeping this feature\n",
    "del data[\"block_num\"]\n",
    "del data[\"base_num\"]"
   ]
  },
  {
   "cell_type": "code",
   "execution_count": 49,
   "metadata": {},
   "outputs": [],
   "source": [
    "paths = pd.read_csv('../IC2017_DATA/valid_images.csv')"
   ]
  },
  {
   "cell_type": "markdown",
   "metadata": {},
   "source": [
    "# 0)  AUC and Mean Acc. Analysis of everything"
   ]
  },
  {
   "cell_type": "code",
   "execution_count": 50,
   "metadata": {},
   "outputs": [],
   "source": [
    "def getBestTreshold(FPR, TPR, TH):\n",
    "    \"\"\"This function is for calculating the Mean Accuracy, given a ROC curve\"\"\"\n",
    "    i_max = max(range(len(TPR)), key = lambda x : TPR[x] + 1 - FPR[x])\n",
    "    mean_accuracy = (TPR[i_max] + 1 - FPR[i_max])/2\n",
    "    return mean_accuracy, TH[i_max]"
   ]
  },
  {
   "cell_type": "code",
   "execution_count": 51,
   "metadata": {},
   "outputs": [],
   "source": [
    "def getPerformance(true, prediction):\n",
    "    auc = roc_auc_score(true, prediction)        \n",
    "    fpr, tpr, th = roc_curve(true, prediction)\n",
    "    if auc < .5:\n",
    "        fpr, tpr = tpr, fpr\n",
    "        auc = 1 - auc\n",
    "    mean_acc, bestTH = getBestTreshold(fpr, tpr, th)\n",
    "    return auc, mean_acc, bestTH, fpr, tpr"
   ]
  },
  {
   "cell_type": "code",
   "execution_count": 52,
   "metadata": {},
   "outputs": [],
   "source": [
    "def splitByImages(data, test_size, repetitions):\n",
    "    images = list(set(IMG.loc[data.index]))\n",
    "    n = len(images)\n",
    "    for _ in range(repetitions):\n",
    "        np.random.shuffle(images)\n",
    "        split_point = int(n * (1-test_size))\n",
    "        yield images[:split_point], images[split_point:]"
   ]
  },
  {
   "cell_type": "code",
   "execution_count": 53,
   "metadata": {},
   "outputs": [],
   "source": [
    "def XGBTrain(data, train_imgs, val_imgs, y):\n",
    "\n",
    "    X_train, y_train = data.loc[IMG.isin(train_imgs)], y.loc[IMG.isin(train_imgs)]\n",
    "    X_val, y_val = data.loc[IMG.isin(val_imgs)], y.loc[IMG.isin(val_imgs)]\n",
    "    \n",
    "    ratio = float(np.sum(y_train == 1)) / np.sum(y_train==0)\n",
    "\n",
    "    clf = xgb.XGBClassifier(\n",
    "        objective='multi:softmax',\n",
    "        max_depth = 4,\n",
    "        n_estimators=1000,\n",
    "        learning_rate=0.2, \n",
    "        nthread=3,\n",
    "        subsample=1.0,\n",
    "        colsample_bytree=1,\n",
    "        scale_pos_weight = ratio,\n",
    "        reg_alpha=0.03,\n",
    "        seed=1301\n",
    "    )\n",
    "\n",
    "    clf.fit(X_train, y_train, early_stopping_rounds=30, eval_metric=\"auc\",\n",
    "            eval_set=[(X_val, y_val)], verbose = False)\n",
    "    \n",
    "    return clf"
   ]
  },
  {
   "cell_type": "code",
   "execution_count": 54,
   "metadata": {},
   "outputs": [],
   "source": [
    "LessCompact = [0]\n",
    "MoreCompact = [1]\n",
    "Calibrated = [0, 1]\n",
    "NotCalibrated = [2]\n",
    "experiments = [[LessCompact, MoreCompact], [MoreCompact, LessCompact],\n",
    "              [Calibrated, NotCalibrated], [NotCalibrated, Calibrated]]"
   ]
  },
  {
   "cell_type": "code",
   "execution_count": null,
   "metadata": {},
   "outputs": [],
   "source": []
  },
  {
   "cell_type": "code",
   "execution_count": null,
   "metadata": {},
   "outputs": [],
   "source": []
  },
  {
   "cell_type": "markdown",
   "metadata": {},
   "source": [
    "# 1) Check VI discriminant capability"
   ]
  },
  {
   "cell_type": "markdown",
   "metadata": {},
   "source": [
    "### In this section, we check the AUC, Mean Accuracy and ROC curves for each VI in each soil type (0, 1, 2)"
   ]
  },
  {
   "cell_type": "code",
   "execution_count": 55,
   "metadata": {},
   "outputs": [],
   "source": [
    "names_VI = [\"ExG\", \"ExGR\", \"CIVE\", \"VEG\", \"WI\", \"NGRDI\"]"
   ]
  },
  {
   "cell_type": "code",
   "execution_count": 56,
   "metadata": {},
   "outputs": [],
   "source": [
    "VI_cols = [name + \"_mean\" for name in names_VI]"
   ]
  },
  {
   "cell_type": "code",
   "execution_count": 57,
   "metadata": {},
   "outputs": [],
   "source": [
    "# Get only columns with mean of VI values of 16x16 regions\n",
    "VI_data = data[[name + \"_mean\" for name in names_VI]]"
   ]
  },
  {
   "cell_type": "code",
   "execution_count": 59,
   "metadata": {},
   "outputs": [],
   "source": [
    "data['CIVE_mean'] = 1 - data['CIVE_mean']\n",
    "data['WI_mean'] = 1 - data['WI_mean']"
   ]
  },
  {
   "cell_type": "code",
   "execution_count": 60,
   "metadata": {},
   "outputs": [],
   "source": [
    "def XGBTrain(data, train_imgs, val_imgs, y):\n",
    "\n",
    "    X_train, y_train = data.loc[IMG.isin(train_imgs)], y.loc[IMG.isin(train_imgs)]\n",
    "    X_val, y_val = data.loc[IMG.isin(val_imgs)], y.loc[IMG.isin(val_imgs)]\n",
    "    \n",
    "    ratio = float(np.sum(y_train == 1)) / np.sum(y_train==0)\n",
    "\n",
    "    clf = xgb.XGBClassifier(\n",
    "#         objective='multi:softmax',\n",
    "        max_depth = 4,\n",
    "        n_estimators=1000,\n",
    "        learning_rate=0.2, \n",
    "        nthread=3,\n",
    "        subsample=1.0,\n",
    "        colsample_bytree=1,\n",
    "        scale_pos_weight = ratio,\n",
    "        reg_alpha=0.03,\n",
    "        seed=1301\n",
    "    )\n",
    "\n",
    "    clf.fit(X_train, y_train, early_stopping_rounds=30, eval_metric=\"auc\",\n",
    "            eval_set=[(X_val, y_val)], verbose = False)\n",
    "    \n",
    "    return clf"
   ]
  },
  {
   "cell_type": "code",
   "execution_count": 61,
   "metadata": {},
   "outputs": [],
   "source": [
    "tri = np.tri(16, 16, dtype='int')\n",
    "gt_classes = [\n",
    "    tri,\n",
    "    tri.T,\n",
    "    tri[::-1],\n",
    "    tri.T[::-1],    \n",
    "]\n",
    "\n",
    "zer = [np.zeros((16, 16), dtype='int') for _ in range(6)]\n",
    "zer[0][:, : 8] = 1\n",
    "zer[1][:, 8 :] = 1\n",
    "zer[2][: 8, :] = 1\n",
    "zer[3][8 :, :] = 1\n",
    "zer[4][:, :] = 1\n",
    "\n",
    "gt_classes += zer"
   ]
  },
  {
   "cell_type": "code",
   "execution_count": 87,
   "metadata": {
    "scrolled": true
   },
   "outputs": [
    {
     "name": "stdout",
     "output_type": "stream",
     "text": [
      "[0]\tvalidation_0-mlogloss:1.57461\n",
      "Will train until validation_0-mlogloss hasn't improved in 5 rounds.\n",
      "[1]\tvalidation_0-mlogloss:1.2785\n",
      "[2]\tvalidation_0-mlogloss:1.08143\n",
      "[3]\tvalidation_0-mlogloss:0.94678\n",
      "[4]\tvalidation_0-mlogloss:0.841248\n",
      "[5]\tvalidation_0-mlogloss:0.763755\n",
      "[6]\tvalidation_0-mlogloss:0.704554\n",
      "[7]\tvalidation_0-mlogloss:0.655652\n",
      "[8]\tvalidation_0-mlogloss:0.619404\n",
      "[9]\tvalidation_0-mlogloss:0.590013\n",
      "[10]\tvalidation_0-mlogloss:0.56911\n",
      "[11]\tvalidation_0-mlogloss:0.550935\n",
      "[12]\tvalidation_0-mlogloss:0.535089\n",
      "[13]\tvalidation_0-mlogloss:0.522986\n",
      "[14]\tvalidation_0-mlogloss:0.512714\n",
      "[15]\tvalidation_0-mlogloss:0.503712\n",
      "[16]\tvalidation_0-mlogloss:0.496053\n",
      "[17]\tvalidation_0-mlogloss:0.489236\n",
      "[18]\tvalidation_0-mlogloss:0.484751\n",
      "[19]\tvalidation_0-mlogloss:0.482453\n",
      "[20]\tvalidation_0-mlogloss:0.48124\n",
      "[21]\tvalidation_0-mlogloss:0.478986\n",
      "[22]\tvalidation_0-mlogloss:0.477528\n",
      "[23]\tvalidation_0-mlogloss:0.476246\n",
      "[24]\tvalidation_0-mlogloss:0.47235\n",
      "[25]\tvalidation_0-mlogloss:0.471199\n",
      "[26]\tvalidation_0-mlogloss:0.469049\n",
      "[27]\tvalidation_0-mlogloss:0.470142\n",
      "[28]\tvalidation_0-mlogloss:0.470224\n",
      "[29]\tvalidation_0-mlogloss:0.468736\n",
      "[30]\tvalidation_0-mlogloss:0.467284\n",
      "[31]\tvalidation_0-mlogloss:0.46699\n",
      "[32]\tvalidation_0-mlogloss:0.467408\n",
      "[33]\tvalidation_0-mlogloss:0.466957\n",
      "[34]\tvalidation_0-mlogloss:0.466492\n",
      "[35]\tvalidation_0-mlogloss:0.466021\n",
      "[36]\tvalidation_0-mlogloss:0.466626\n",
      "[37]\tvalidation_0-mlogloss:0.466261\n",
      "[38]\tvalidation_0-mlogloss:0.464647\n",
      "[39]\tvalidation_0-mlogloss:0.465177\n",
      "[40]\tvalidation_0-mlogloss:0.465237\n",
      "[41]\tvalidation_0-mlogloss:0.465764\n",
      "[42]\tvalidation_0-mlogloss:0.466052\n",
      "[43]\tvalidation_0-mlogloss:0.466224\n",
      "Stopping. Best iteration:\n",
      "[38]\tvalidation_0-mlogloss:0.464647\n",
      "\n"
     ]
    },
    {
     "data": {
      "text/plain": [
       "XGBClassifier(base_score=0.5, booster='gbtree', colsample_bylevel=1,\n",
       "       colsample_bytree=1, gamma=0, learning_rate=0.2, max_delta_step=0,\n",
       "       max_depth=4, min_child_weight=1, missing=None, n_estimators=300,\n",
       "       n_jobs=1, nthread=3, objective='multi:softprob', random_state=0,\n",
       "       reg_alpha=0.0, reg_lambda=1, scale_pos_weight=1, seed=1,\n",
       "       silent=True, subsample=1.0)"
      ]
     },
     "execution_count": 87,
     "metadata": {},
     "output_type": "execute_result"
    }
   ],
   "source": [
    "imgs = np.unique(IMG)\n",
    "np.random.shuffle(imgs)\n",
    "\n",
    "train_imgs = imgs[: 40]\n",
    "val_imgs = imgs[40 :]\n",
    "\n",
    "X_train, y_train = data.loc[IMG.isin(train_imgs)], y.loc[IMG.isin(train_imgs)]\n",
    "X_val, y_val = data.loc[IMG.isin(val_imgs)], y.loc[IMG.isin(val_imgs)]\n",
    "\n",
    "# ratio = float(np.sum(y_train == 1)) / np.sum(y_train==0)\n",
    "\n",
    "clf = xgb.XGBClassifier(\n",
    "#         objective='multi:softmax',\n",
    "    max_depth = 4,\n",
    "    n_estimators=300,\n",
    "    learning_rate=0.2, \n",
    "    nthread=3,\n",
    "    subsample=1.0,\n",
    "    colsample_bytree=1,\n",
    "#     scale_pos_weight = ratio,\n",
    "    reg_alpha=0.00,\n",
    "    seed=1\n",
    ")\n",
    "\n",
    "clf.fit(X_train, y_train, early_stopping_rounds=5, eval_metric='mlogloss',\n",
    "        eval_set=[(X_val, y_val)], verbose = True)"
   ]
  },
  {
   "cell_type": "code",
   "execution_count": 99,
   "metadata": {},
   "outputs": [
    {
     "name": "stdout",
     "output_type": "stream",
     "text": [
      "Image 48\n"
     ]
    },
    {
     "data": {
      "image/png": "[encoded data removed]",
      "text/plain": [
       "<Figure size 864x432 with 2 Axes>"
      ]
     },
     "metadata": {
      "needs_background": "light"
     },
     "output_type": "display_data"
    },
    {
     "name": "stdout",
     "output_type": "stream",
     "text": [
      "Image 58\n"
     ]
    },
    {
     "data": {
      "image/png": "[encoded data removed]",
      "text/plain": [
       "<Figure size 864x432 with 2 Axes>"
      ]
     },
     "metadata": {
      "needs_background": "light"
     },
     "output_type": "display_data"
    },
    {
     "name": "stdout",
     "output_type": "stream",
     "text": [
      "Image 1\n"
     ]
    },
    {
     "data": {
      "image/png": "[encoded data removed]",
      "text/plain": [
       "<Figure size 864x432 with 2 Axes>"
      ]
     },
     "metadata": {
      "needs_background": "light"
     },
     "output_type": "display_data"
    },
    {
     "name": "stdout",
     "output_type": "stream",
     "text": [
      "Image 29\n"
     ]
    },
    {
     "data": {
      "image/png": "[encoded data removed]",
      "text/plain": [
       "<Figure size 864x432 with 2 Axes>"
      ]
     },
     "metadata": {
      "needs_background": "light"
     },
     "output_type": "display_data"
    },
    {
     "name": "stdout",
     "output_type": "stream",
     "text": [
      "Image 44\n"
     ]
    },
    {
     "data": {
      "image/png": "[encoded data removed]",
      "text/plain": [
       "<Figure size 864x432 with 2 Axes>"
      ]
     },
     "metadata": {
      "needs_background": "light"
     },
     "output_type": "display_data"
    },
    {
     "name": "stdout",
     "output_type": "stream",
     "text": [
      "Image 52\n"
     ]
    },
    {
     "data": {
      "image/png": "[encoded data removed]",
      "text/plain": [
       "<Figure size 864x432 with 2 Axes>"
      ]
     },
     "metadata": {
      "needs_background": "light"
     },
     "output_type": "display_data"
    },
    {
     "name": "stdout",
     "output_type": "stream",
     "text": [
      "Image 19\n"
     ]
    },
    {
     "data": {
      "image/png": "[encoded data removed]",
      "text/plain": [
       "<Figure size 864x432 with 2 Axes>"
      ]
     },
     "metadata": {
      "needs_background": "light"
     },
     "output_type": "display_data"
    },
    {
     "name": "stdout",
     "output_type": "stream",
     "text": [
      "Image 45\n"
     ]
    },
    {
     "data": {
      "image/png": "[encoded data removed]",
      "text/plain": [
       "<Figure size 864x432 with 2 Axes>"
      ]
     },
     "metadata": {
      "needs_background": "light"
     },
     "output_type": "display_data"
    },
    {
     "name": "stdout",
     "output_type": "stream",
     "text": [
      "Image 23\n"
     ]
    },
    {
     "data": {
      "image/png": "[encoded data removed]",
      "text/plain": [
       "<Figure size 864x432 with 2 Axes>"
      ]
     },
     "metadata": {
      "needs_background": "light"
     },
     "output_type": "display_data"
    },
    {
     "name": "stdout",
     "output_type": "stream",
     "text": [
      "Image 46\n"
     ]
    },
    {
     "data": {
      "image/png": "[encoded data removed]",
      "text/plain": [
       "<Figure size 864x432 with 2 Axes>"
      ]
     },
     "metadata": {
      "needs_background": "light"
     },
     "output_type": "display_data"
    },
    {
     "name": "stdout",
     "output_type": "stream",
     "text": [
      "Image 17\n"
     ]
    },
    {
     "data": {
      "image/png": "[encoded data removed]",
      "text/plain": [
       "<Figure size 864x432 with 2 Axes>"
      ]
     },
     "metadata": {
      "needs_background": "light"
     },
     "output_type": "display_data"
    },
    {
     "name": "stdout",
     "output_type": "stream",
     "text": [
      "Image 60\n"
     ]
    },
    {
     "data": {
      "image/png": "[encoded data removed]",
      "text/plain": [
       "<Figure size 864x432 with 2 Axes>"
      ]
     },
     "metadata": {
      "needs_background": "light"
     },
     "output_type": "display_data"
    },
    {
     "name": "stdout",
     "output_type": "stream",
     "text": [
      "Image 7\n"
     ]
    },
    {
     "data": {
      "image/png": "[encoded data removed]",
      "text/plain": [
       "<Figure size 864x432 with 2 Axes>"
      ]
     },
     "metadata": {
      "needs_background": "light"
     },
     "output_type": "display_data"
    },
    {
     "name": "stdout",
     "output_type": "stream",
     "text": [
      "Image 10\n"
     ]
    },
    {
     "data": {
      "image/png": "[encoded data removed]",
      "text/plain": [
       "<Figure size 864x432 with 2 Axes>"
      ]
     },
     "metadata": {
      "needs_background": "light"
     },
     "output_type": "display_data"
    },
    {
     "name": "stdout",
     "output_type": "stream",
     "text": [
      "Image 54\n"
     ]
    },
    {
     "data": {
      "image/png": "[encoded data removed]",
      "text/plain": [
       "<Figure size 864x432 with 2 Axes>"
      ]
     },
     "metadata": {
      "needs_background": "light"
     },
     "output_type": "display_data"
    },
    {
     "name": "stdout",
     "output_type": "stream",
     "text": [
      "Image 9\n"
     ]
    },
    {
     "data": {
      "image/png": "[encoded data removed]",
      "text/plain": [
       "<Figure size 864x432 with 2 Axes>"
      ]
     },
     "metadata": {
      "needs_background": "light"
     },
     "output_type": "display_data"
    },
    {
     "name": "stdout",
     "output_type": "stream",
     "text": [
      "Image 14\n"
     ]
    },
    {
     "data": {
      "image/png": "[encoded data removed]",
      "text/plain": [
       "<Figure size 864x432 with 2 Axes>"
      ]
     },
     "metadata": {
      "needs_background": "light"
     },
     "output_type": "display_data"
    },
    {
     "name": "stdout",
     "output_type": "stream",
     "text": [
      "Image 25\n"
     ]
    },
    {
     "data": {
      "image/png": "[encoded data removed]",
      "text/plain": [
       "<Figure size 864x432 with 2 Axes>"
      ]
     },
     "metadata": {
      "needs_background": "light"
     },
     "output_type": "display_data"
    },
    {
     "name": "stdout",
     "output_type": "stream",
     "text": [
      "Image 35\n"
     ]
    },
    {
     "data": {
      "image/png": "[encoded data removed]",
      "text/plain": [
       "<Figure size 864x432 with 2 Axes>"
      ]
     },
     "metadata": {
      "needs_background": "light"
     },
     "output_type": "display_data"
    }
   ],
   "source": [
    "# img_num = 49\n",
    "# for img_num in IMG.loc[solo == 2].unique():\n",
    "for img_num in val_imgs:\n",
    "    print('Image', int(img_num))\n",
    "    gt = imread(paths.query('num == @img_num')['gt'].values[0], as_gray=True)\n",
    "\n",
    "#     pred = clf.predict(data.loc[(IMG == img_num)])\n",
    "#     proba = clf.predict_proba(data.loc[(IMG == img_num)]).max(axis = 1)\n",
    "    probas = clf.predict_proba(data.loc[(IMG == img_num)]).max(axis = 1)\n",
    "    \n",
    "    \n",
    "    out = np.zeros((512, 512))\n",
    "    k = 0\n",
    "    for i in range(0, 512, 16):\n",
    "        for j in range(0, 512, 16):\n",
    "            out[i : i + 16, j : j + 16] = gt_classes[pred[k]] * proba[k]\n",
    "            k += 1\n",
    "            \n",
    "\n",
    "    plt.figure(figsize=(12, 6))\n",
    "    plt.subplot(1, 2, 1)\n",
    "    plt.imshow(out)\n",
    "    plt.subplot(1, 2, 2)\n",
    "    plt.imshow(gt)\n",
    "    plt.show()"
   ]
  },
  {
   "cell_type": "code",
   "execution_count": 98,
   "metadata": {},
   "outputs": [
    {
     "data": {
      "text/plain": [
       "array([48, 58,  1, 29, 44, 52, 19, 45, 23, 46, 17, 60,  7, 10, 54,  9, 14,\n",
       "       25, 35])"
      ]
     },
     "execution_count": 98,
     "metadata": {},
     "output_type": "execute_result"
    }
   ],
   "source": [
    "val_imgs"
   ]
  },
  {
   "cell_type": "code",
   "execution_count": 86,
   "metadata": {},
   "outputs": [
    {
     "data": {
      "text/plain": [
       "9    0.578125\n",
       "8    0.421875\n",
       "dtype: float64"
      ]
     },
     "execution_count": 86,
     "metadata": {},
     "output_type": "execute_result"
    }
   ],
   "source": [
    "pd.Series(pred).value_counts(normalize=True)"
   ]
  },
  {
   "cell_type": "code",
   "execution_count": 89,
   "metadata": {},
   "outputs": [
    {
     "data": {
      "text/plain": [
       "8    0.581750\n",
       "9    0.950924\n",
       "5    0.959332\n",
       "7    0.967641\n",
       "4    0.975851\n",
       "6    0.982819\n",
       "3    0.987387\n",
       "1    0.991741\n",
       "2    0.995912\n",
       "0    1.000000\n",
       "Name: target, dtype: float64"
      ]
     },
     "execution_count": 89,
     "metadata": {},
     "output_type": "execute_result"
    }
   ],
   "source": [
    "y.value_counts(normalize=True).cumsum()"
   ]
  },
  {
   "cell_type": "code",
   "execution_count": null,
   "metadata": {},
   "outputs": [],
   "source": []
  },
  {
   "cell_type": "code",
   "execution_count": null,
   "metadata": {},
   "outputs": [],
   "source": []
  },
  {
   "cell_type": "code",
   "execution_count": 27,
   "metadata": {},
   "outputs": [
    {
     "name": "stdout",
     "output_type": "stream",
     "text": [
      "Experiment [0] [1]\n"
     ]
    },
    {
     "ename": "XGBoostError",
     "evalue": "b'[16:48:25] src/metric/rank_metric.cc:89: Check failed: preds.size() == info.labels_.Size() (51200 vs. 5120) label size predict size not match\\n\\nStack trace returned 10 entries:\\n[bt] (0) /store/tveiga/miniconda3/envs/py/lib/libxgboost.so(dmlc::StackTrace[abi:cxx11]()+0x55) [0x7f8682d633b5]\\n[bt] (1) /store/tveiga/miniconda3/envs/py/lib/libxgboost.so(dmlc::LogMessageFatal::~LogMessageFatal()+0x3b) [0x7f8682d63bab]\\n[bt] (2) /store/tveiga/miniconda3/envs/py/lib/libxgboost.so(xgboost::metric::EvalAuc::Eval(std::vector<float, std::allocator<float> > const&, xgboost::MetaInfo const&, bool) const+0x26c) [0x7f8682db6dbc]\\n[bt] (3) /store/tveiga/miniconda3/envs/py/lib/libxgboost.so(xgboost::LearnerImpl::EvalOneIter(int, std::vector<xgboost::DMatrix*, std::allocator<xgboost::DMatrix*> > const&, std::vector<std::__cxx11::basic_string<char, std::char_traits<char>, std::allocator<char> >, std::allocator<std::__cxx11::basic_string<char, std::char_traits<char>, std::allocator<char> > > > const&)+0x26c) [0x7f8682d6db8c]\\n[bt] (4) /store/tveiga/miniconda3/envs/py/lib/libxgboost.so(XGBoosterEvalOneIter+0x2cf) [0x7f8682eef80f]\\n[bt] (5) /store/tveiga/miniconda3/envs/py/lib/python3.7/lib-dynload/../../libffi.so.6(ffi_call_unix64+0x4c) [0x7f86b18e4ec0]\\n[bt] (6) /store/tveiga/miniconda3/envs/py/lib/python3.7/lib-dynload/../../libffi.so.6(ffi_call+0x22d) [0x7f86b18e487d]\\n[bt] (7) /store/tveiga/miniconda3/envs/py/lib/python3.7/lib-dynload/_ctypes.cpython-37m-x86_64-linux-gnu.so(_ctypes_callproc+0x2ce) [0x7f86b1afaf3e]\\n[bt] (8) /store/tveiga/miniconda3/envs/py/lib/python3.7/lib-dynload/_ctypes.cpython-37m-x86_64-linux-gnu.so(+0x13974) [0x7f86b1afb974]\\n[bt] (9) /store/tveiga/miniconda3/envs/py/bin/python(_PyObject_FastCallKeywords+0x49b) [0x5569b82f746b]\\n\\n'",
     "output_type": "error",
     "traceback": [
      "\u001b[0;31m---------------------------------------------------------------------------\u001b[0m",
      "\u001b[0;31mXGBoostError\u001b[0m                              Traceback (most recent call last)",
      "\u001b[0;32m<ipython-input-27-4c8e2c377fbc>\u001b[0m in \u001b[0;36m<module>\u001b[0;34m\u001b[0m\n\u001b[1;32m     14\u001b[0m     \u001b[0;32mfor\u001b[0m \u001b[0mi\u001b[0m\u001b[0;34m,\u001b[0m \u001b[0;34m(\u001b[0m\u001b[0mtrain_imgs\u001b[0m\u001b[0;34m,\u001b[0m \u001b[0mval_imgs\u001b[0m\u001b[0;34m)\u001b[0m \u001b[0;32min\u001b[0m \u001b[0menumerate\u001b[0m\u001b[0;34m(\u001b[0m\u001b[0msplitByImages\u001b[0m\u001b[0;34m(\u001b[0m\u001b[0mXleft\u001b[0m\u001b[0;34m,\u001b[0m \u001b[0;36m1\u001b[0m\u001b[0;34m/\u001b[0m\u001b[0;36m4\u001b[0m\u001b[0;34m,\u001b[0m \u001b[0mreps\u001b[0m\u001b[0;34m)\u001b[0m\u001b[0;34m)\u001b[0m\u001b[0;34m:\u001b[0m\u001b[0;34m\u001b[0m\u001b[0;34m\u001b[0m\u001b[0m\n\u001b[1;32m     15\u001b[0m         \u001b[0;31m# train\u001b[0m\u001b[0;34m\u001b[0m\u001b[0;34m\u001b[0m\u001b[0;34m\u001b[0m\u001b[0m\n\u001b[0;32m---> 16\u001b[0;31m         \u001b[0mclf\u001b[0m \u001b[0;34m=\u001b[0m \u001b[0mXGBTrain\u001b[0m\u001b[0;34m(\u001b[0m\u001b[0mdata\u001b[0m\u001b[0;34m,\u001b[0m \u001b[0mtrain_imgs\u001b[0m\u001b[0;34m,\u001b[0m \u001b[0mval_imgs\u001b[0m\u001b[0;34m,\u001b[0m \u001b[0my\u001b[0m\u001b[0;34m)\u001b[0m\u001b[0;34m\u001b[0m\u001b[0;34m\u001b[0m\u001b[0m\n\u001b[0m\u001b[1;32m     17\u001b[0m \u001b[0;34m\u001b[0m\u001b[0m\n\u001b[1;32m     18\u001b[0m         \u001b[0;31m# get val performance of this trained model: ROC, AUC and MAc, and also the best threshold value for test\u001b[0m\u001b[0;34m\u001b[0m\u001b[0;34m\u001b[0m\u001b[0;34m\u001b[0m\u001b[0m\n",
      "\u001b[0;32m<ipython-input-26-da483a100b92>\u001b[0m in \u001b[0;36mXGBTrain\u001b[0;34m(data, train_imgs, val_imgs, y)\u001b[0m\n\u001b[1;32m     20\u001b[0m \u001b[0;34m\u001b[0m\u001b[0m\n\u001b[1;32m     21\u001b[0m     clf.fit(X_train, y_train, early_stopping_rounds=30, eval_metric=\"auc\",\n\u001b[0;32m---> 22\u001b[0;31m             eval_set=[(X_val, y_val)], verbose = False)\n\u001b[0m\u001b[1;32m     23\u001b[0m \u001b[0;34m\u001b[0m\u001b[0m\n\u001b[1;32m     24\u001b[0m     \u001b[0;32mreturn\u001b[0m \u001b[0mclf\u001b[0m\u001b[0;34m\u001b[0m\u001b[0;34m\u001b[0m\u001b[0m\n",
      "\u001b[0;32m~/miniconda3/envs/py/lib/python3.7/site-packages/xgboost/sklearn.py\u001b[0m in \u001b[0;36mfit\u001b[0;34m(self, X, y, sample_weight, eval_set, eval_metric, early_stopping_rounds, verbose, xgb_model, sample_weight_eval_set, callbacks)\u001b[0m\n\u001b[1;32m    698\u001b[0m                               \u001b[0mevals_result\u001b[0m\u001b[0;34m=\u001b[0m\u001b[0mevals_result\u001b[0m\u001b[0;34m,\u001b[0m \u001b[0mobj\u001b[0m\u001b[0;34m=\u001b[0m\u001b[0mobj\u001b[0m\u001b[0;34m,\u001b[0m \u001b[0mfeval\u001b[0m\u001b[0;34m=\u001b[0m\u001b[0mfeval\u001b[0m\u001b[0;34m,\u001b[0m\u001b[0;34m\u001b[0m\u001b[0;34m\u001b[0m\u001b[0m\n\u001b[1;32m    699\u001b[0m                               \u001b[0mverbose_eval\u001b[0m\u001b[0;34m=\u001b[0m\u001b[0mverbose\u001b[0m\u001b[0;34m,\u001b[0m \u001b[0mxgb_model\u001b[0m\u001b[0;34m=\u001b[0m\u001b[0;32mNone\u001b[0m\u001b[0;34m,\u001b[0m\u001b[0;34m\u001b[0m\u001b[0;34m\u001b[0m\u001b[0m\n\u001b[0;32m--> 700\u001b[0;31m                               callbacks=callbacks)\n\u001b[0m\u001b[1;32m    701\u001b[0m \u001b[0;34m\u001b[0m\u001b[0m\n\u001b[1;32m    702\u001b[0m         \u001b[0mself\u001b[0m\u001b[0;34m.\u001b[0m\u001b[0mobjective\u001b[0m \u001b[0;34m=\u001b[0m \u001b[0mxgb_options\u001b[0m\u001b[0;34m[\u001b[0m\u001b[0;34m\"objective\"\u001b[0m\u001b[0;34m]\u001b[0m\u001b[0;34m\u001b[0m\u001b[0;34m\u001b[0m\u001b[0m\n",
      "\u001b[0;32m~/miniconda3/envs/py/lib/python3.7/site-packages/xgboost/training.py\u001b[0m in \u001b[0;36mtrain\u001b[0;34m(params, dtrain, num_boost_round, evals, obj, feval, maximize, early_stopping_rounds, evals_result, verbose_eval, xgb_model, callbacks, learning_rates)\u001b[0m\n\u001b[1;32m    214\u001b[0m                            \u001b[0mevals\u001b[0m\u001b[0;34m=\u001b[0m\u001b[0mevals\u001b[0m\u001b[0;34m,\u001b[0m\u001b[0;34m\u001b[0m\u001b[0;34m\u001b[0m\u001b[0m\n\u001b[1;32m    215\u001b[0m                            \u001b[0mobj\u001b[0m\u001b[0;34m=\u001b[0m\u001b[0mobj\u001b[0m\u001b[0;34m,\u001b[0m \u001b[0mfeval\u001b[0m\u001b[0;34m=\u001b[0m\u001b[0mfeval\u001b[0m\u001b[0;34m,\u001b[0m\u001b[0;34m\u001b[0m\u001b[0;34m\u001b[0m\u001b[0m\n\u001b[0;32m--> 216\u001b[0;31m                            xgb_model=xgb_model, callbacks=callbacks)\n\u001b[0m\u001b[1;32m    217\u001b[0m \u001b[0;34m\u001b[0m\u001b[0m\n\u001b[1;32m    218\u001b[0m \u001b[0;34m\u001b[0m\u001b[0m\n",
      "\u001b[0;32m~/miniconda3/envs/py/lib/python3.7/site-packages/xgboost/training.py\u001b[0m in \u001b[0;36m_train_internal\u001b[0;34m(params, dtrain, num_boost_round, evals, obj, feval, xgb_model, callbacks)\u001b[0m\n\u001b[1;32m     82\u001b[0m         \u001b[0;31m# check evaluation result.\u001b[0m\u001b[0;34m\u001b[0m\u001b[0;34m\u001b[0m\u001b[0;34m\u001b[0m\u001b[0m\n\u001b[1;32m     83\u001b[0m         \u001b[0;32mif\u001b[0m \u001b[0mlen\u001b[0m\u001b[0;34m(\u001b[0m\u001b[0mevals\u001b[0m\u001b[0;34m)\u001b[0m \u001b[0;34m!=\u001b[0m \u001b[0;36m0\u001b[0m\u001b[0;34m:\u001b[0m\u001b[0;34m\u001b[0m\u001b[0;34m\u001b[0m\u001b[0m\n\u001b[0;32m---> 84\u001b[0;31m             \u001b[0mbst_eval_set\u001b[0m \u001b[0;34m=\u001b[0m \u001b[0mbst\u001b[0m\u001b[0;34m.\u001b[0m\u001b[0meval_set\u001b[0m\u001b[0;34m(\u001b[0m\u001b[0mevals\u001b[0m\u001b[0;34m,\u001b[0m \u001b[0mi\u001b[0m\u001b[0;34m,\u001b[0m \u001b[0mfeval\u001b[0m\u001b[0;34m)\u001b[0m\u001b[0;34m\u001b[0m\u001b[0;34m\u001b[0m\u001b[0m\n\u001b[0m\u001b[1;32m     85\u001b[0m             \u001b[0;32mif\u001b[0m \u001b[0misinstance\u001b[0m\u001b[0;34m(\u001b[0m\u001b[0mbst_eval_set\u001b[0m\u001b[0;34m,\u001b[0m \u001b[0mSTRING_TYPES\u001b[0m\u001b[0;34m)\u001b[0m\u001b[0;34m:\u001b[0m\u001b[0;34m\u001b[0m\u001b[0;34m\u001b[0m\u001b[0m\n\u001b[1;32m     86\u001b[0m                 \u001b[0mmsg\u001b[0m \u001b[0;34m=\u001b[0m \u001b[0mbst_eval_set\u001b[0m\u001b[0;34m\u001b[0m\u001b[0;34m\u001b[0m\u001b[0m\n",
      "\u001b[0;32m~/miniconda3/envs/py/lib/python3.7/site-packages/xgboost/core.py\u001b[0m in \u001b[0;36meval_set\u001b[0;34m(self, evals, iteration, feval)\u001b[0m\n\u001b[1;32m   1104\u001b[0m                                               \u001b[0mdmats\u001b[0m\u001b[0;34m,\u001b[0m \u001b[0mevnames\u001b[0m\u001b[0;34m,\u001b[0m\u001b[0;34m\u001b[0m\u001b[0;34m\u001b[0m\u001b[0m\n\u001b[1;32m   1105\u001b[0m                                               \u001b[0mc_bst_ulong\u001b[0m\u001b[0;34m(\u001b[0m\u001b[0mlen\u001b[0m\u001b[0;34m(\u001b[0m\u001b[0mevals\u001b[0m\u001b[0;34m)\u001b[0m\u001b[0;34m)\u001b[0m\u001b[0;34m,\u001b[0m\u001b[0;34m\u001b[0m\u001b[0;34m\u001b[0m\u001b[0m\n\u001b[0;32m-> 1106\u001b[0;31m                                               ctypes.byref(msg)))\n\u001b[0m\u001b[1;32m   1107\u001b[0m         \u001b[0mres\u001b[0m \u001b[0;34m=\u001b[0m \u001b[0mmsg\u001b[0m\u001b[0;34m.\u001b[0m\u001b[0mvalue\u001b[0m\u001b[0;34m.\u001b[0m\u001b[0mdecode\u001b[0m\u001b[0;34m(\u001b[0m\u001b[0;34m)\u001b[0m\u001b[0;34m\u001b[0m\u001b[0;34m\u001b[0m\u001b[0m\n\u001b[1;32m   1108\u001b[0m         \u001b[0;32mif\u001b[0m \u001b[0mfeval\u001b[0m \u001b[0;32mis\u001b[0m \u001b[0;32mnot\u001b[0m \u001b[0;32mNone\u001b[0m\u001b[0;34m:\u001b[0m\u001b[0;34m\u001b[0m\u001b[0;34m\u001b[0m\u001b[0m\n",
      "\u001b[0;32m~/miniconda3/envs/py/lib/python3.7/site-packages/xgboost/core.py\u001b[0m in \u001b[0;36m_check_call\u001b[0;34m(ret)\u001b[0m\n\u001b[1;32m    163\u001b[0m     \"\"\"\n\u001b[1;32m    164\u001b[0m     \u001b[0;32mif\u001b[0m \u001b[0mret\u001b[0m \u001b[0;34m!=\u001b[0m \u001b[0;36m0\u001b[0m\u001b[0;34m:\u001b[0m\u001b[0;34m\u001b[0m\u001b[0;34m\u001b[0m\u001b[0m\n\u001b[0;32m--> 165\u001b[0;31m         \u001b[0;32mraise\u001b[0m \u001b[0mXGBoostError\u001b[0m\u001b[0;34m(\u001b[0m\u001b[0m_LIB\u001b[0m\u001b[0;34m.\u001b[0m\u001b[0mXGBGetLastError\u001b[0m\u001b[0;34m(\u001b[0m\u001b[0;34m)\u001b[0m\u001b[0;34m)\u001b[0m\u001b[0;34m\u001b[0m\u001b[0;34m\u001b[0m\u001b[0m\n\u001b[0m\u001b[1;32m    166\u001b[0m \u001b[0;34m\u001b[0m\u001b[0m\n\u001b[1;32m    167\u001b[0m \u001b[0;34m\u001b[0m\u001b[0m\n",
      "\u001b[0;31mXGBoostError\u001b[0m: b'[16:48:25] src/metric/rank_metric.cc:89: Check failed: preds.size() == info.labels_.Size() (51200 vs. 5120) label size predict size not match\\n\\nStack trace returned 10 entries:\\n[bt] (0) /store/tveiga/miniconda3/envs/py/lib/libxgboost.so(dmlc::StackTrace[abi:cxx11]()+0x55) [0x7f8682d633b5]\\n[bt] (1) /store/tveiga/miniconda3/envs/py/lib/libxgboost.so(dmlc::LogMessageFatal::~LogMessageFatal()+0x3b) [0x7f8682d63bab]\\n[bt] (2) /store/tveiga/miniconda3/envs/py/lib/libxgboost.so(xgboost::metric::EvalAuc::Eval(std::vector<float, std::allocator<float> > const&, xgboost::MetaInfo const&, bool) const+0x26c) [0x7f8682db6dbc]\\n[bt] (3) /store/tveiga/miniconda3/envs/py/lib/libxgboost.so(xgboost::LearnerImpl::EvalOneIter(int, std::vector<xgboost::DMatrix*, std::allocator<xgboost::DMatrix*> > const&, std::vector<std::__cxx11::basic_string<char, std::char_traits<char>, std::allocator<char> >, std::allocator<std::__cxx11::basic_string<char, std::char_traits<char>, std::allocator<char> > > > const&)+0x26c) [0x7f8682d6db8c]\\n[bt] (4) /store/tveiga/miniconda3/envs/py/lib/libxgboost.so(XGBoosterEvalOneIter+0x2cf) [0x7f8682eef80f]\\n[bt] (5) /store/tveiga/miniconda3/envs/py/lib/python3.7/lib-dynload/../../libffi.so.6(ffi_call_unix64+0x4c) [0x7f86b18e4ec0]\\n[bt] (6) /store/tveiga/miniconda3/envs/py/lib/python3.7/lib-dynload/../../libffi.so.6(ffi_call+0x22d) [0x7f86b18e487d]\\n[bt] (7) /store/tveiga/miniconda3/envs/py/lib/python3.7/lib-dynload/_ctypes.cpython-37m-x86_64-linux-gnu.so(_ctypes_callproc+0x2ce) [0x7f86b1afaf3e]\\n[bt] (8) /store/tveiga/miniconda3/envs/py/lib/python3.7/lib-dynload/_ctypes.cpython-37m-x86_64-linux-gnu.so(+0x13974) [0x7f86b1afb974]\\n[bt] (9) /store/tveiga/miniconda3/envs/py/bin/python(_PyObject_FastCallKeywords+0x49b) [0x5569b82f746b]\\n\\n'"
     ]
    }
   ],
   "source": [
    "reps = 5\n",
    "auc_matrix = np.zeros((4, reps))\n",
    "auc_matrix_val = np.zeros((4, reps))\n",
    "mac_matrix = np.zeros((4, reps))\n",
    "mac_matrix_val = np.zeros((4, reps))\n",
    "clfs = [[None] * reps] * 4 # 4 is the number of experiments\n",
    "\n",
    "for e, (left, test) in enumerate(experiments):\n",
    "    print(\"Experiment\", left, test)\n",
    "    Xleft = data.loc[solo.isin(left)]\n",
    "    Xtest = data.loc[solo.isin(test)]\n",
    "    \n",
    "    \n",
    "    for i, (train_imgs, val_imgs) in enumerate(splitByImages(Xleft, 1/4, reps)):\n",
    "        # train\n",
    "        clf = XGBTrain(data, train_imgs, val_imgs, y)\n",
    "        \n",
    "        # get val performance of this trained model: ROC, AUC and MAc, and also the best threshold value for test\n",
    "        prediction = clf.predict_proba(data.loc[IMG.isin(val_imgs)])[:,-1]\n",
    "        val_auc, val_mean_acc, bestTH, fpr, tpr = getPerformance(y.loc[IMG.isin(val_imgs)], prediction)\n",
    "        \n",
    "        # get train either?\n",
    "        \n",
    "        # get test performance\n",
    "        prediction = clf.predict_proba(data.loc[solo.isin(test)])[:,-1]\n",
    "        mean_acc = accuracy_score(y.loc[solo.isin(test)], 1 * (prediction > bestTH)) # 1 * array = array.astype(int)\n",
    "        \n",
    "               \n",
    "        # save performance\n",
    "        mac_matrix[e, i] = mean_acc\n",
    "        mac_matrix_val[e, i] = val_mean_acc\n",
    "        \n",
    "        auc_matrix_val[e, i] = clf.best_score\n",
    "        \n",
    "        # save classifiers for further analysis\n",
    "        clfs[e][i] = [clf, left, test, bestTH]\n",
    "        \n",
    "        print(\" > %d iterations \\t Val vs Test (MAc) = %.3f vs %.3f\" % (clf.best_iteration, \n",
    "                                                                               val_mean_acc, mean_acc))\n",
    "        \n",
    "print(\"Done.\")   "
   ]
  },
  {
   "cell_type": "code",
   "execution_count": 49,
   "metadata": {},
   "outputs": [],
   "source": [
    "from sklearn.model_selection import LeaveOneOut"
   ]
  },
  {
   "cell_type": "code",
   "execution_count": 50,
   "metadata": {},
   "outputs": [],
   "source": [
    "loo = LeaveOneOut()"
   ]
  },
  {
   "cell_type": "code",
   "execution_count": 53,
   "metadata": {},
   "outputs": [
    {
     "name": "stdout",
     "output_type": "stream",
     "text": [
      "(array([1, 2]), array([0]))\n",
      "(array([0, 2]), array([1]))\n",
      "(array([0, 1]), array([2]))\n"
     ]
    }
   ],
   "source": [
    "for a in loo.split([1, 2, 3]):\n",
    "    print(a)"
   ]
  },
  {
   "cell_type": "code",
   "execution_count": 57,
   "metadata": {
    "scrolled": true
   },
   "outputs": [
    {
     "data": {
      "text/plain": [
       "39.0    1024\n",
       "61.0    1024\n",
       "23.0    1024\n",
       "22.0    1024\n",
       "51.0    1024\n",
       "58.0    1024\n",
       "33.0    1024\n",
       "40.0    1024\n",
       "7.0     1024\n",
       "9.0     1024\n",
       "10.0    1024\n",
       "49.0    1024\n",
       "47.0    1024\n",
       "54.0    1024\n",
       "29.0    1024\n",
       "37.0    1024\n",
       "18.0    1024\n",
       "43.0    1024\n",
       "38.0    1024\n",
       "50.0    1024\n",
       "57.0    1024\n",
       "1.0     1024\n",
       "3.0     1024\n",
       "0.0     1024\n",
       "8.0     1024\n",
       "16.0    1024\n",
       "4.0     1024\n",
       "2.0     1024\n",
       "36.0    1024\n",
       "31.0    1024\n",
       "46.0    1024\n",
       "45.0    1024\n",
       "53.0    1024\n",
       "13.0    1024\n",
       "27.0    1024\n",
       "60.0    1024\n",
       "35.0    1024\n",
       "21.0    1024\n",
       "14.0    1024\n",
       "5.0     1024\n",
       "44.0    1024\n",
       "28.0    1024\n",
       "59.0    1024\n",
       "19.0    1024\n",
       "15.0    1024\n",
       "42.0    1024\n",
       "25.0    1024\n",
       "26.0    1024\n",
       "34.0    1024\n",
       "41.0    1024\n",
       "48.0    1024\n",
       "6.0     1024\n",
       "52.0    1024\n",
       "24.0    1024\n",
       "56.0    1024\n",
       "12.0    1024\n",
       "17.0    1024\n",
       "55.0    1024\n",
       "32.0    1024\n",
       "Name: img_num, dtype: int64"
      ]
     },
     "execution_count": 57,
     "metadata": {},
     "output_type": "execute_result"
    }
   ],
   "source": [
    "IMG.value_counts()"
   ]
  },
  {
   "cell_type": "code",
   "execution_count": 60,
   "metadata": {},
   "outputs": [],
   "source": [
    "df = pd.DataFrame({'img' : IMG , 'solo' : solo})"
   ]
  },
  {
   "cell_type": "code",
   "execution_count": 61,
   "metadata": {},
   "outputs": [
    {
     "data": {
      "text/plain": [
       "img\n",
       "0.0     1\n",
       "1.0     1\n",
       "2.0     1\n",
       "3.0     1\n",
       "4.0     1\n",
       "5.0     1\n",
       "6.0     1\n",
       "7.0     1\n",
       "8.0     1\n",
       "9.0     1\n",
       "10.0    1\n",
       "12.0    1\n",
       "13.0    1\n",
       "14.0    1\n",
       "15.0    1\n",
       "16.0    1\n",
       "17.0    1\n",
       "18.0    1\n",
       "19.0    1\n",
       "21.0    1\n",
       "22.0    1\n",
       "23.0    1\n",
       "24.0    1\n",
       "25.0    1\n",
       "26.0    1\n",
       "27.0    1\n",
       "28.0    1\n",
       "29.0    1\n",
       "31.0    1\n",
       "32.0    1\n",
       "33.0    1\n",
       "34.0    1\n",
       "35.0    1\n",
       "36.0    1\n",
       "37.0    1\n",
       "38.0    1\n",
       "39.0    1\n",
       "40.0    1\n",
       "41.0    1\n",
       "42.0    1\n",
       "43.0    1\n",
       "44.0    1\n",
       "45.0    1\n",
       "46.0    1\n",
       "47.0    1\n",
       "48.0    1\n",
       "49.0    1\n",
       "50.0    1\n",
       "51.0    1\n",
       "52.0    1\n",
       "53.0    1\n",
       "54.0    1\n",
       "55.0    1\n",
       "56.0    1\n",
       "57.0    1\n",
       "58.0    1\n",
       "59.0    1\n",
       "60.0    1\n",
       "61.0    1\n",
       "Name: solo, dtype: int64"
      ]
     },
     "execution_count": 61,
     "metadata": {},
     "output_type": "execute_result"
    }
   ],
   "source": [
    "df.groupby('img')['solo'].nunique()"
   ]
  },
  {
   "cell_type": "code",
   "execution_count": 58,
   "metadata": {},
   "outputs": [
    {
     "name": "stdout",
     "output_type": "stream",
     "text": [
      "Experiment [0] [1]\n",
      "> ExG_mean\n",
      "15360 15360\n",
      " > > ExG_mean \t Val vs Test (MAc) = 0.959 vs 0.997\n",
      "15360 15360\n",
      " > > ExG_mean \t Val vs Test (MAc) = 0.960 vs 0.987\n",
      "15360 15360\n",
      " > > ExG_mean \t Val vs Test (MAc) = 0.966 vs 0.864\n",
      "15360 15360\n",
      " > > ExG_mean \t Val vs Test (MAc) = 0.961 vs 0.943\n",
      "15360 15360\n",
      " > > ExG_mean \t Val vs Test (MAc) = 0.962 vs 0.971\n",
      "15360 15360\n",
      " > > ExG_mean \t Val vs Test (MAc) = 0.960 vs 0.978\n",
      "15360 15360\n",
      " > > ExG_mean \t Val vs Test (MAc) = 0.960 vs 0.973\n",
      "15360 15360\n",
      " > > ExG_mean \t Val vs Test (MAc) = 0.957 vs 0.947\n",
      "15360 15360\n",
      " > > ExG_mean \t Val vs Test (MAc) = 0.963 vs 0.888\n",
      "15360 15360\n",
      " > > ExG_mean \t Val vs Test (MAc) = 0.960 vs 0.989\n",
      "15360 15360\n",
      " > > ExG_mean \t Val vs Test (MAc) = 0.954 vs 0.975\n",
      "16384 16384\n",
      " > > ExG_mean \t Val vs Test (MAc) = 0.961 vs nan\n",
      "15360 15360\n",
      " > > ExG_mean \t Val vs Test (MAc) = 0.960 vs 0.991\n",
      "15360 15360\n"
     ]
    },
    {
     "name": "stderr",
     "output_type": "stream",
     "text": [
      "/store/tveiga/miniconda3/envs/py/lib/python3.7/site-packages/numpy/lib/function_base.py:356: RuntimeWarning: Mean of empty slice.\n",
      "  avg = a.mean(axis)\n",
      "/store/tveiga/miniconda3/envs/py/lib/python3.7/site-packages/numpy/core/_methods.py:85: RuntimeWarning: invalid value encountered in double_scalars\n",
      "  ret = ret.dtype.type(ret / rcount)\n"
     ]
    },
    {
     "name": "stdout",
     "output_type": "stream",
     "text": [
      " > > ExG_mean \t Val vs Test (MAc) = 0.966 vs 0.934\n",
      "15360 15360\n",
      " > > ExG_mean \t Val vs Test (MAc) = 0.959 vs 0.999\n",
      "15360 15360\n",
      " > > ExG_mean \t Val vs Test (MAc) = 0.961 vs 0.987\n",
      "15360 15360\n",
      " > > ExG_mean \t Val vs Test (MAc) = 0.959 vs 0.929\n",
      "> ExGR_mean\n",
      "15360 15360\n",
      " > > ExGR_mean \t Val vs Test (MAc) = 0.950 vs 0.991\n",
      "15360 15360\n",
      " > > ExGR_mean \t Val vs Test (MAc) = 0.952 vs 0.988\n",
      "15360 15360\n",
      " > > ExGR_mean \t Val vs Test (MAc) = 0.959 vs 0.856\n",
      "15360 15360\n",
      " > > ExGR_mean \t Val vs Test (MAc) = 0.952 vs 0.951\n",
      "15360 15360\n",
      " > > ExGR_mean \t Val vs Test (MAc) = 0.954 vs 0.963\n",
      "15360 15360\n",
      " > > ExGR_mean \t Val vs Test (MAc) = 0.951 vs 0.974\n",
      "15360 15360\n",
      " > > ExGR_mean \t Val vs Test (MAc) = 0.951 vs 0.967\n",
      "15360 15360\n",
      " > > ExGR_mean \t Val vs Test (MAc) = 0.947 vs 0.925\n",
      "15360 15360\n",
      " > > ExGR_mean \t Val vs Test (MAc) = 0.953 vs 0.921\n",
      "15360 15360\n",
      " > > ExGR_mean \t Val vs Test (MAc) = 0.951 vs 0.984\n",
      "15360 15360\n",
      " > > ExGR_mean \t Val vs Test (MAc) = 0.939 vs 0.967\n",
      "16384 16384\n",
      " > > ExGR_mean \t Val vs Test (MAc) = 0.951 vs nan\n",
      "15360 15360\n"
     ]
    },
    {
     "name": "stderr",
     "output_type": "stream",
     "text": [
      "/store/tveiga/miniconda3/envs/py/lib/python3.7/site-packages/numpy/lib/function_base.py:356: RuntimeWarning: Mean of empty slice.\n",
      "  avg = a.mean(axis)\n",
      "/store/tveiga/miniconda3/envs/py/lib/python3.7/site-packages/numpy/core/_methods.py:85: RuntimeWarning: invalid value encountered in double_scalars\n",
      "  ret = ret.dtype.type(ret / rcount)\n"
     ]
    },
    {
     "name": "stdout",
     "output_type": "stream",
     "text": [
      " > > ExGR_mean \t Val vs Test (MAc) = 0.951 vs 0.976\n",
      "15360 15360\n",
      " > > ExGR_mean \t Val vs Test (MAc) = 0.957 vs 0.929\n",
      "15360 15360\n",
      " > > ExGR_mean \t Val vs Test (MAc) = 0.950 vs 0.995\n",
      "15360 15360\n",
      " > > ExGR_mean \t Val vs Test (MAc) = 0.953 vs 0.974\n",
      "15360 15360\n",
      " > > ExGR_mean \t Val vs Test (MAc) = 0.948 vs 0.940\n",
      "> CIVE_mean\n",
      "15360 15360\n",
      " > > CIVE_mean \t Val vs Test (MAc) = 0.959 vs 0.997\n",
      "15360 15360\n",
      " > > CIVE_mean \t Val vs Test (MAc) = 0.960 vs 0.988\n",
      "15360 15360\n",
      " > > CIVE_mean \t Val vs Test (MAc) = 0.966 vs 0.868\n",
      "15360 15360\n",
      " > > CIVE_mean \t Val vs Test (MAc) = 0.961 vs 0.946\n",
      "15360 15360\n",
      " > > CIVE_mean \t Val vs Test (MAc) = 0.961 vs 0.971\n",
      "15360 15360\n",
      " > > CIVE_mean \t Val vs Test (MAc) = 0.959 vs 0.981\n",
      "15360 15360\n",
      " > > CIVE_mean \t Val vs Test (MAc) = 0.960 vs 0.973\n",
      "15360 15360\n",
      " > > CIVE_mean \t Val vs Test (MAc) = 0.957 vs 0.947\n",
      "15360 15360\n",
      " > > CIVE_mean \t Val vs Test (MAc) = 0.963 vs 0.895\n",
      "15360 15360\n",
      " > > CIVE_mean \t Val vs Test (MAc) = 0.960 vs 0.990\n",
      "15360 15360\n",
      " > > CIVE_mean \t Val vs Test (MAc) = 0.953 vs 0.979\n",
      "16384 16384\n"
     ]
    },
    {
     "name": "stderr",
     "output_type": "stream",
     "text": [
      "/store/tveiga/miniconda3/envs/py/lib/python3.7/site-packages/numpy/lib/function_base.py:356: RuntimeWarning: Mean of empty slice.\n",
      "  avg = a.mean(axis)\n",
      "/store/tveiga/miniconda3/envs/py/lib/python3.7/site-packages/numpy/core/_methods.py:85: RuntimeWarning: invalid value encountered in double_scalars\n",
      "  ret = ret.dtype.type(ret / rcount)\n"
     ]
    },
    {
     "name": "stdout",
     "output_type": "stream",
     "text": [
      " > > CIVE_mean \t Val vs Test (MAc) = 0.960 vs nan\n",
      "15360 15360\n",
      " > > CIVE_mean \t Val vs Test (MAc) = 0.960 vs 0.991\n",
      "15360 15360\n",
      " > > CIVE_mean \t Val vs Test (MAc) = 0.966 vs 0.938\n",
      "15360 15360\n",
      " > > CIVE_mean \t Val vs Test (MAc) = 0.959 vs 0.999\n",
      "15360 15360\n",
      " > > CIVE_mean \t Val vs Test (MAc) = 0.961 vs 0.987\n",
      "15360 15360\n",
      " > > CIVE_mean \t Val vs Test (MAc) = 0.958 vs 0.933\n",
      "> VEG_mean\n",
      "15360 15360\n",
      " > > VEG_mean \t Val vs Test (MAc) = 0.959 vs 0.997\n",
      "15360 15360\n",
      " > > VEG_mean \t Val vs Test (MAc) = 0.960 vs 0.989\n",
      "15360 15360\n",
      " > > VEG_mean \t Val vs Test (MAc) = 0.967 vs 0.871\n",
      "15360 15360\n",
      " > > VEG_mean \t Val vs Test (MAc) = 0.961 vs 0.949\n",
      "15360 15360\n",
      " > > VEG_mean \t Val vs Test (MAc) = 0.962 vs 0.974\n",
      "15360 15360\n",
      " > > VEG_mean \t Val vs Test (MAc) = 0.959 vs 0.981\n",
      "15360 15360\n",
      " > > VEG_mean \t Val vs Test (MAc) = 0.960 vs 0.974\n",
      "15360 15360\n",
      " > > VEG_mean \t Val vs Test (MAc) = 0.957 vs 0.947\n",
      "15360 15360\n",
      " > > VEG_mean \t Val vs Test (MAc) = 0.963 vs 0.905\n",
      "15360 15360\n",
      " > > VEG_mean \t Val vs Test (MAc) = 0.960 vs 0.991\n",
      "15360 15360\n",
      " > > VEG_mean \t Val vs Test (MAc) = 0.952 vs 0.981\n",
      "16384 16384\n",
      " > > VEG_mean \t Val vs Test (MAc) = 0.961 vs nan\n",
      "15360 15360\n",
      " > > VEG_mean \t Val vs Test (MAc) = 0.960 vs 0.990\n",
      "15360 15360\n",
      " > > VEG_mean \t Val vs Test (MAc) = 0.966 vs 0.938\n",
      "15360 15360\n",
      " > > VEG_mean \t Val vs Test (MAc) = 0.959 vs 0.999\n",
      "15360 15360\n",
      " > > VEG_mean \t Val vs Test (MAc) = 0.961 vs 0.986\n",
      "15360 15360\n",
      " > > VEG_mean \t Val vs Test (MAc) = 0.958 vs 0.937\n",
      "> WI_mean\n",
      "15360 15360\n",
      " > > WI_mean \t Val vs Test (MAc) = 0.904 vs 0.963\n",
      "15360 15360\n",
      " > > WI_mean \t Val vs Test (MAc) = 0.907 vs 0.876\n",
      "15360 15360\n",
      " > > WI_mean \t Val vs Test (MAc) = 0.911 vs 0.752\n",
      "15360 15360\n",
      " > > WI_mean \t Val vs Test (MAc) = 0.911 vs 0.806\n",
      "15360 15360\n",
      " > > WI_mean \t Val vs Test (MAc) = 0.908 vs 0.863\n",
      "15360 15360\n",
      " > > WI_mean \t Val vs Test (MAc) = 0.905 vs 0.922\n",
      "15360 15360\n",
      " > > WI_mean \t Val vs Test (MAc) = 0.907 vs 0.899\n",
      "15360 15360\n",
      " > > WI_mean \t Val vs Test (MAc) = 0.905 vs 0.911\n",
      "15360 15360\n",
      " > > WI_mean \t Val vs Test (MAc) = 0.915 vs 0.660\n"
     ]
    },
    {
     "name": "stderr",
     "output_type": "stream",
     "text": [
      "/store/tveiga/miniconda3/envs/py/lib/python3.7/site-packages/numpy/lib/function_base.py:356: RuntimeWarning: Mean of empty slice.\n",
      "  avg = a.mean(axis)\n",
      "/store/tveiga/miniconda3/envs/py/lib/python3.7/site-packages/numpy/core/_methods.py:85: RuntimeWarning: invalid value encountered in double_scalars\n",
      "  ret = ret.dtype.type(ret / rcount)\n"
     ]
    },
    {
     "name": "stdout",
     "output_type": "stream",
     "text": [
      "15360 15360\n",
      " > > WI_mean \t Val vs Test (MAc) = 0.908 vs 0.877\n",
      "15360 15360\n",
      " > > WI_mean \t Val vs Test (MAc) = 0.941 vs 0.702\n",
      "16384 16384\n",
      " > > WI_mean \t Val vs Test (MAc) = 0.908 vs nan\n",
      "15360 15360\n",
      " > > WI_mean \t Val vs Test (MAc) = 0.905 vs 0.949\n",
      "15360 15360\n",
      " > > WI_mean \t Val vs Test (MAc) = 0.912 vs 0.793\n",
      "15360 15360\n",
      " > > WI_mean \t Val vs Test (MAc) = 0.905 vs 0.938\n",
      "15360 15360\n",
      " > > WI_mean \t Val vs Test (MAc) = 0.903 vs 0.983\n",
      "15360 15360\n",
      " > > WI_mean \t Val vs Test (MAc) = 0.909 vs 0.779\n",
      "> NGRDI_mean\n",
      "15360 15360\n",
      " > > NGRDI_mean \t Val vs Test (MAc) = 0.931 vs 0.990\n",
      "15360 15360\n",
      " > > NGRDI_mean \t Val vs Test (MAc) = 0.934 vs 0.979\n",
      "15360 15360\n",
      " > > NGRDI_mean \t Val vs Test (MAc) = 0.943 vs 0.869\n",
      "15360 15360\n",
      " > > NGRDI_mean \t Val vs Test (MAc) = 0.932 vs 0.960\n",
      "15360 15360\n",
      " > > NGRDI_mean \t Val vs Test (MAc) = 0.937 vs 0.945\n",
      "15360 15360\n",
      " > > NGRDI_mean \t Val vs Test (MAc) = 0.932 vs 0.962\n",
      "15360 15360\n",
      " > > NGRDI_mean \t Val vs Test (MAc) = 0.934 vs 0.947\n",
      "15360 15360\n"
     ]
    },
    {
     "name": "stderr",
     "output_type": "stream",
     "text": [
      "/store/tveiga/miniconda3/envs/py/lib/python3.7/site-packages/numpy/lib/function_base.py:356: RuntimeWarning: Mean of empty slice.\n",
      "  avg = a.mean(axis)\n",
      "/store/tveiga/miniconda3/envs/py/lib/python3.7/site-packages/numpy/core/_methods.py:85: RuntimeWarning: invalid value encountered in double_scalars\n",
      "  ret = ret.dtype.type(ret / rcount)\n"
     ]
    },
    {
     "name": "stdout",
     "output_type": "stream",
     "text": [
      " > > NGRDI_mean \t Val vs Test (MAc) = 0.925 vs 0.906\n",
      "15360 15360\n",
      " > > NGRDI_mean \t Val vs Test (MAc) = 0.933 vs 0.943\n",
      "15360 15360\n",
      " > > NGRDI_mean \t Val vs Test (MAc) = 0.933 vs 0.981\n",
      "15360 15360\n",
      " > > NGRDI_mean \t Val vs Test (MAc) = 0.913 vs 0.951\n",
      "16384 16384\n",
      " > > NGRDI_mean \t Val vs Test (MAc) = 0.933 vs nan\n",
      "15360 15360\n",
      " > > NGRDI_mean \t Val vs Test (MAc) = 0.933 vs 0.963\n",
      "15360 15360\n",
      " > > NGRDI_mean \t Val vs Test (MAc) = 0.939 vs 0.925\n",
      "15360 15360\n",
      " > > NGRDI_mean \t Val vs Test (MAc) = 0.931 vs 0.990\n",
      "15360 15360\n",
      " > > NGRDI_mean \t Val vs Test (MAc) = 0.935 vs 0.959\n",
      "15360 15360\n",
      " > > NGRDI_mean \t Val vs Test (MAc) = 0.927 vs 0.934\n",
      "Experiment [1] [0]\n",
      "> ExG_mean\n",
      "2048 2048\n"
     ]
    },
    {
     "name": "stderr",
     "output_type": "stream",
     "text": [
      "/store/tveiga/miniconda3/envs/py/lib/python3.7/site-packages/numpy/lib/function_base.py:356: RuntimeWarning: Mean of empty slice.\n",
      "  avg = a.mean(axis)\n",
      "/store/tveiga/miniconda3/envs/py/lib/python3.7/site-packages/numpy/core/_methods.py:85: RuntimeWarning: invalid value encountered in double_scalars\n",
      "  ret = ret.dtype.type(ret / rcount)\n"
     ]
    },
    {
     "ename": "ValueError",
     "evalue": "Found input variables with inconsistent numbers of samples: [18432, 2048]",
     "output_type": "error",
     "traceback": [
      "\u001b[0;31m---------------------------------------------------------------------------\u001b[0m",
      "\u001b[0;31mValueError\u001b[0m                                Traceback (most recent call last)",
      "\u001b[0;32m<ipython-input-58-cc3e6faaef90>\u001b[0m in \u001b[0;36m<module>\u001b[0;34m\u001b[0m\n\u001b[1;32m     23\u001b[0m             \u001b[0mprediction\u001b[0m \u001b[0;34m=\u001b[0m \u001b[0mXleft\u001b[0m\u001b[0;34m.\u001b[0m\u001b[0mloc\u001b[0m\u001b[0;34m[\u001b[0m\u001b[0mIMG\u001b[0m\u001b[0;34m.\u001b[0m\u001b[0misin\u001b[0m\u001b[0;34m(\u001b[0m\u001b[0mtrain_imgs\u001b[0m\u001b[0;34m)\u001b[0m\u001b[0;34m,\u001b[0m \u001b[0mcol\u001b[0m\u001b[0;34m]\u001b[0m\u001b[0;34m\u001b[0m\u001b[0;34m\u001b[0m\u001b[0m\n\u001b[1;32m     24\u001b[0m             \u001b[0mprint\u001b[0m\u001b[0;34m(\u001b[0m\u001b[0mlen\u001b[0m\u001b[0;34m(\u001b[0m\u001b[0mprediction\u001b[0m\u001b[0;34m)\u001b[0m\u001b[0;34m,\u001b[0m \u001b[0mlen\u001b[0m\u001b[0;34m(\u001b[0m\u001b[0my\u001b[0m\u001b[0;34m.\u001b[0m\u001b[0mloc\u001b[0m\u001b[0;34m[\u001b[0m\u001b[0msolo\u001b[0m\u001b[0;34m.\u001b[0m\u001b[0misin\u001b[0m\u001b[0;34m(\u001b[0m\u001b[0mleft\u001b[0m\u001b[0;34m)\u001b[0m \u001b[0;34m&\u001b[0m \u001b[0mIMG\u001b[0m\u001b[0;34m.\u001b[0m\u001b[0misin\u001b[0m\u001b[0;34m(\u001b[0m\u001b[0mtrain_imgs\u001b[0m\u001b[0;34m)\u001b[0m\u001b[0;34m]\u001b[0m\u001b[0;34m)\u001b[0m\u001b[0;34m)\u001b[0m\u001b[0;34m\u001b[0m\u001b[0;34m\u001b[0m\u001b[0m\n\u001b[0;32m---> 25\u001b[0;31m             \u001b[0mval_auc\u001b[0m\u001b[0;34m,\u001b[0m \u001b[0mval_mean_acc\u001b[0m\u001b[0;34m,\u001b[0m \u001b[0mbestTH\u001b[0m\u001b[0;34m,\u001b[0m \u001b[0mfpr\u001b[0m\u001b[0;34m,\u001b[0m \u001b[0mtpr\u001b[0m \u001b[0;34m=\u001b[0m \u001b[0mgetPerformance\u001b[0m\u001b[0;34m(\u001b[0m\u001b[0my\u001b[0m\u001b[0;34m.\u001b[0m\u001b[0mloc\u001b[0m\u001b[0;34m[\u001b[0m\u001b[0mIMG\u001b[0m\u001b[0;34m.\u001b[0m\u001b[0misin\u001b[0m\u001b[0;34m(\u001b[0m\u001b[0mtrain_imgs\u001b[0m\u001b[0;34m)\u001b[0m\u001b[0;34m]\u001b[0m\u001b[0;34m,\u001b[0m \u001b[0mprediction\u001b[0m\u001b[0;34m)\u001b[0m\u001b[0;34m\u001b[0m\u001b[0;34m\u001b[0m\u001b[0m\n\u001b[0m\u001b[1;32m     26\u001b[0m \u001b[0;34m\u001b[0m\u001b[0m\n\u001b[1;32m     27\u001b[0m \u001b[0;34m\u001b[0m\u001b[0m\n",
      "\u001b[0;32m<ipython-input-8-a3e08eeff289>\u001b[0m in \u001b[0;36mgetPerformance\u001b[0;34m(true, prediction)\u001b[0m\n\u001b[1;32m      1\u001b[0m \u001b[0;32mdef\u001b[0m \u001b[0mgetPerformance\u001b[0m\u001b[0;34m(\u001b[0m\u001b[0mtrue\u001b[0m\u001b[0;34m,\u001b[0m \u001b[0mprediction\u001b[0m\u001b[0;34m)\u001b[0m\u001b[0;34m:\u001b[0m\u001b[0;34m\u001b[0m\u001b[0;34m\u001b[0m\u001b[0m\n\u001b[0;32m----> 2\u001b[0;31m     \u001b[0mauc\u001b[0m \u001b[0;34m=\u001b[0m \u001b[0mroc_auc_score\u001b[0m\u001b[0;34m(\u001b[0m\u001b[0mtrue\u001b[0m\u001b[0;34m,\u001b[0m \u001b[0mprediction\u001b[0m\u001b[0;34m)\u001b[0m\u001b[0;34m\u001b[0m\u001b[0;34m\u001b[0m\u001b[0m\n\u001b[0m\u001b[1;32m      3\u001b[0m     \u001b[0mfpr\u001b[0m\u001b[0;34m,\u001b[0m \u001b[0mtpr\u001b[0m\u001b[0;34m,\u001b[0m \u001b[0mth\u001b[0m \u001b[0;34m=\u001b[0m \u001b[0mroc_curve\u001b[0m\u001b[0;34m(\u001b[0m\u001b[0mtrue\u001b[0m\u001b[0;34m,\u001b[0m \u001b[0mprediction\u001b[0m\u001b[0;34m)\u001b[0m\u001b[0;34m\u001b[0m\u001b[0;34m\u001b[0m\u001b[0m\n\u001b[1;32m      4\u001b[0m     \u001b[0;32mif\u001b[0m \u001b[0mauc\u001b[0m \u001b[0;34m<\u001b[0m \u001b[0;36m.5\u001b[0m\u001b[0;34m:\u001b[0m\u001b[0;34m\u001b[0m\u001b[0;34m\u001b[0m\u001b[0m\n\u001b[1;32m      5\u001b[0m         \u001b[0mfpr\u001b[0m\u001b[0;34m,\u001b[0m \u001b[0mtpr\u001b[0m \u001b[0;34m=\u001b[0m \u001b[0mtpr\u001b[0m\u001b[0;34m,\u001b[0m \u001b[0mfpr\u001b[0m\u001b[0;34m\u001b[0m\u001b[0;34m\u001b[0m\u001b[0m\n",
      "\u001b[0;32m~/miniconda3/envs/py/lib/python3.7/site-packages/sklearn/metrics/ranking.py\u001b[0m in \u001b[0;36mroc_auc_score\u001b[0;34m(y_true, y_score, average, sample_weight, max_fpr)\u001b[0m\n\u001b[1;32m    354\u001b[0m     return _average_binary_score(\n\u001b[1;32m    355\u001b[0m         \u001b[0m_binary_roc_auc_score\u001b[0m\u001b[0;34m,\u001b[0m \u001b[0my_true\u001b[0m\u001b[0;34m,\u001b[0m \u001b[0my_score\u001b[0m\u001b[0;34m,\u001b[0m \u001b[0maverage\u001b[0m\u001b[0;34m,\u001b[0m\u001b[0;34m\u001b[0m\u001b[0;34m\u001b[0m\u001b[0m\n\u001b[0;32m--> 356\u001b[0;31m         sample_weight=sample_weight)\n\u001b[0m\u001b[1;32m    357\u001b[0m \u001b[0;34m\u001b[0m\u001b[0m\n\u001b[1;32m    358\u001b[0m \u001b[0;34m\u001b[0m\u001b[0m\n",
      "\u001b[0;32m~/miniconda3/envs/py/lib/python3.7/site-packages/sklearn/metrics/base.py\u001b[0m in \u001b[0;36m_average_binary_score\u001b[0;34m(binary_metric, y_true, y_score, average, sample_weight)\u001b[0m\n\u001b[1;32m     75\u001b[0m \u001b[0;34m\u001b[0m\u001b[0m\n\u001b[1;32m     76\u001b[0m     \u001b[0;32mif\u001b[0m \u001b[0my_type\u001b[0m \u001b[0;34m==\u001b[0m \u001b[0;34m\"binary\"\u001b[0m\u001b[0;34m:\u001b[0m\u001b[0;34m\u001b[0m\u001b[0;34m\u001b[0m\u001b[0m\n\u001b[0;32m---> 77\u001b[0;31m         \u001b[0;32mreturn\u001b[0m \u001b[0mbinary_metric\u001b[0m\u001b[0;34m(\u001b[0m\u001b[0my_true\u001b[0m\u001b[0;34m,\u001b[0m \u001b[0my_score\u001b[0m\u001b[0;34m,\u001b[0m \u001b[0msample_weight\u001b[0m\u001b[0;34m=\u001b[0m\u001b[0msample_weight\u001b[0m\u001b[0;34m)\u001b[0m\u001b[0;34m\u001b[0m\u001b[0;34m\u001b[0m\u001b[0m\n\u001b[0m\u001b[1;32m     78\u001b[0m \u001b[0;34m\u001b[0m\u001b[0m\n\u001b[1;32m     79\u001b[0m     \u001b[0mcheck_consistent_length\u001b[0m\u001b[0;34m(\u001b[0m\u001b[0my_true\u001b[0m\u001b[0;34m,\u001b[0m \u001b[0my_score\u001b[0m\u001b[0;34m,\u001b[0m \u001b[0msample_weight\u001b[0m\u001b[0;34m)\u001b[0m\u001b[0;34m\u001b[0m\u001b[0;34m\u001b[0m\u001b[0m\n",
      "\u001b[0;32m~/miniconda3/envs/py/lib/python3.7/site-packages/sklearn/metrics/ranking.py\u001b[0m in \u001b[0;36m_binary_roc_auc_score\u001b[0;34m(y_true, y_score, sample_weight)\u001b[0m\n\u001b[1;32m    326\u001b[0m \u001b[0;34m\u001b[0m\u001b[0m\n\u001b[1;32m    327\u001b[0m         fpr, tpr, _ = roc_curve(y_true, y_score,\n\u001b[0;32m--> 328\u001b[0;31m                                 sample_weight=sample_weight)\n\u001b[0m\u001b[1;32m    329\u001b[0m         \u001b[0;32mif\u001b[0m \u001b[0mmax_fpr\u001b[0m \u001b[0;32mis\u001b[0m \u001b[0;32mNone\u001b[0m \u001b[0;32mor\u001b[0m \u001b[0mmax_fpr\u001b[0m \u001b[0;34m==\u001b[0m \u001b[0;36m1\u001b[0m\u001b[0;34m:\u001b[0m\u001b[0;34m\u001b[0m\u001b[0;34m\u001b[0m\u001b[0m\n\u001b[1;32m    330\u001b[0m             \u001b[0;32mreturn\u001b[0m \u001b[0mauc\u001b[0m\u001b[0;34m(\u001b[0m\u001b[0mfpr\u001b[0m\u001b[0;34m,\u001b[0m \u001b[0mtpr\u001b[0m\u001b[0;34m)\u001b[0m\u001b[0;34m\u001b[0m\u001b[0;34m\u001b[0m\u001b[0m\n",
      "\u001b[0;32m~/miniconda3/envs/py/lib/python3.7/site-packages/sklearn/metrics/ranking.py\u001b[0m in \u001b[0;36mroc_curve\u001b[0;34m(y_true, y_score, pos_label, sample_weight, drop_intermediate)\u001b[0m\n\u001b[1;32m    616\u001b[0m     \"\"\"\n\u001b[1;32m    617\u001b[0m     fps, tps, thresholds = _binary_clf_curve(\n\u001b[0;32m--> 618\u001b[0;31m         y_true, y_score, pos_label=pos_label, sample_weight=sample_weight)\n\u001b[0m\u001b[1;32m    619\u001b[0m \u001b[0;34m\u001b[0m\u001b[0m\n\u001b[1;32m    620\u001b[0m     \u001b[0;31m# Attempt to drop thresholds corresponding to points in between and\u001b[0m\u001b[0;34m\u001b[0m\u001b[0;34m\u001b[0m\u001b[0;34m\u001b[0m\u001b[0m\n",
      "\u001b[0;32m~/miniconda3/envs/py/lib/python3.7/site-packages/sklearn/metrics/ranking.py\u001b[0m in \u001b[0;36m_binary_clf_curve\u001b[0;34m(y_true, y_score, pos_label, sample_weight)\u001b[0m\n\u001b[1;32m    397\u001b[0m         \u001b[0;32mraise\u001b[0m \u001b[0mValueError\u001b[0m\u001b[0;34m(\u001b[0m\u001b[0;34m\"{0} format is not supported\"\u001b[0m\u001b[0;34m.\u001b[0m\u001b[0mformat\u001b[0m\u001b[0;34m(\u001b[0m\u001b[0my_type\u001b[0m\u001b[0;34m)\u001b[0m\u001b[0;34m)\u001b[0m\u001b[0;34m\u001b[0m\u001b[0;34m\u001b[0m\u001b[0m\n\u001b[1;32m    398\u001b[0m \u001b[0;34m\u001b[0m\u001b[0m\n\u001b[0;32m--> 399\u001b[0;31m     \u001b[0mcheck_consistent_length\u001b[0m\u001b[0;34m(\u001b[0m\u001b[0my_true\u001b[0m\u001b[0;34m,\u001b[0m \u001b[0my_score\u001b[0m\u001b[0;34m,\u001b[0m \u001b[0msample_weight\u001b[0m\u001b[0;34m)\u001b[0m\u001b[0;34m\u001b[0m\u001b[0;34m\u001b[0m\u001b[0m\n\u001b[0m\u001b[1;32m    400\u001b[0m     \u001b[0my_true\u001b[0m \u001b[0;34m=\u001b[0m \u001b[0mcolumn_or_1d\u001b[0m\u001b[0;34m(\u001b[0m\u001b[0my_true\u001b[0m\u001b[0;34m)\u001b[0m\u001b[0;34m\u001b[0m\u001b[0;34m\u001b[0m\u001b[0m\n\u001b[1;32m    401\u001b[0m     \u001b[0my_score\u001b[0m \u001b[0;34m=\u001b[0m \u001b[0mcolumn_or_1d\u001b[0m\u001b[0;34m(\u001b[0m\u001b[0my_score\u001b[0m\u001b[0;34m)\u001b[0m\u001b[0;34m\u001b[0m\u001b[0;34m\u001b[0m\u001b[0m\n",
      "\u001b[0;32m~/miniconda3/envs/py/lib/python3.7/site-packages/sklearn/utils/validation.py\u001b[0m in \u001b[0;36mcheck_consistent_length\u001b[0;34m(*arrays)\u001b[0m\n\u001b[1;32m    233\u001b[0m     \u001b[0;32mif\u001b[0m \u001b[0mlen\u001b[0m\u001b[0;34m(\u001b[0m\u001b[0muniques\u001b[0m\u001b[0;34m)\u001b[0m \u001b[0;34m>\u001b[0m \u001b[0;36m1\u001b[0m\u001b[0;34m:\u001b[0m\u001b[0;34m\u001b[0m\u001b[0;34m\u001b[0m\u001b[0m\n\u001b[1;32m    234\u001b[0m         raise ValueError(\"Found input variables with inconsistent numbers of\"\n\u001b[0;32m--> 235\u001b[0;31m                          \" samples: %r\" % [int(l) for l in lengths])\n\u001b[0m\u001b[1;32m    236\u001b[0m \u001b[0;34m\u001b[0m\u001b[0m\n\u001b[1;32m    237\u001b[0m \u001b[0;34m\u001b[0m\u001b[0m\n",
      "\u001b[0;31mValueError\u001b[0m: Found input variables with inconsistent numbers of samples: [18432, 2048]"
     ]
    }
   ],
   "source": [
    "reps = 5\n",
    "mac_matrix = np.zeros((4, reps))\n",
    "VI_scores = [{name + \"_mean\" : [] for name in names_VI}] * 4 # 4 is the number of experiments\n",
    "VI_scores_val = [{name + \"_mean\" : [] for name in names_VI}] * 4\n",
    "\n",
    "for e, (left, test) in enumerate(experiments):\n",
    "    print(\"Experiment\", left, test)\n",
    "    Xleft = data.loc[solo.isin(left)]\n",
    "    Xtest = data.loc[solo.isin(test)]\n",
    "    \n",
    "    images = list(set(IMG.loc[Xleft.index]))\n",
    "    for col in VI_cols:\n",
    "#         a = splitByImages(Xleft, 1/4, 6)\n",
    "#         train_imgs, test_imgs = next(a)\n",
    "        print('>', col)\n",
    "        \n",
    "        \n",
    "        # for train_imgs, test_imgs in splitByImages(Xleft, 1/4, 6):\n",
    "        for train_imgs, test_imgs in loo.split(images):\n",
    "\n",
    "            # get val performance of this trained model: ROC, AUC and MAc, and also the best threshold value for test\n",
    "    #         prediction = Xleft[col]\n",
    "            prediction = Xleft.loc[IMG.isin(train_imgs), col]\n",
    "            print(len(prediction), len(y.loc[solo.isin(left) & IMG.isin(train_imgs)]))\n",
    "            val_auc, val_mean_acc, bestTH, fpr, tpr = getPerformance(y.loc[IMG.isin(train_imgs)], prediction)\n",
    "\n",
    "\n",
    "            # get test performance\n",
    "    #         prediction = Xtest[col]\n",
    "            prediction = Xleft.loc[IMG.isin(test_imgs), col]\n",
    "            mean_acc = accuracy_score(y.loc[IMG.isin(test_imgs)], 1 * (prediction > bestTH)) # 1 * array = array.astype(int)\n",
    "    #         if col in [\"CIVE_mean\"]:\n",
    "    #             mean_acc = accuracy_score(y.loc[solo.isin(test)], 1 * (prediction < bestTH))\n",
    "\n",
    "\n",
    "            # save performance\n",
    "            VI_scores[e][col].append(mean_acc)\n",
    "            VI_scores_val[e][col].append(val_mean_acc)\n",
    "            print(\" > > %s \\t Val vs Test (MAc) = %.3f vs %.3f\" % (col, val_mean_acc, mean_acc))\n",
    "        \n",
    "        \n",
    "        \n",
    "print(\"Done.\")    "
   ]
  },
  {
   "cell_type": "code",
   "execution_count": 46,
   "metadata": {},
   "outputs": [
    {
     "data": {
      "text/plain": [
       "['NGRDI_mean', 'NGRDI_mean', 'NGRDI_mean', 'NGRDI_mean']"
      ]
     },
     "execution_count": 46,
     "metadata": {},
     "output_type": "execute_result"
    }
   ],
   "source": [
    "[max(r.keys(), key = lambda x : r[x]) for r in  VI_scores_val]"
   ]
  },
  {
   "cell_type": "code",
   "execution_count": null,
   "metadata": {},
   "outputs": [],
   "source": []
  },
  {
   "cell_type": "code",
   "execution_count": 25,
   "metadata": {},
   "outputs": [],
   "source": [
    "a = splitByImages(Xleft, 1/4, 1)"
   ]
  },
  {
   "cell_type": "code",
   "execution_count": 31,
   "metadata": {},
   "outputs": [],
   "source": [
    "b = iter(a)"
   ]
  },
  {
   "cell_type": "code",
   "execution_count": 33,
   "metadata": {},
   "outputs": [
    {
     "ename": "TypeError",
     "evalue": "'code' object is not callable",
     "output_type": "error",
     "traceback": [
      "\u001b[0;31m---------------------------------------------------------------------------\u001b[0m",
      "\u001b[0;31mTypeError\u001b[0m                                 Traceback (most recent call last)",
      "\u001b[0;32m<ipython-input-33-65f6f201b4ac>\u001b[0m in \u001b[0;36m<module>\u001b[0;34m\u001b[0m\n\u001b[0;32m----> 1\u001b[0;31m \u001b[0mb\u001b[0m\u001b[0;34m.\u001b[0m\u001b[0mgi_code\u001b[0m\u001b[0;34m(\u001b[0m\u001b[0;34m)\u001b[0m\u001b[0;34m\u001b[0m\u001b[0;34m\u001b[0m\u001b[0m\n\u001b[0m",
      "\u001b[0;31mTypeError\u001b[0m: 'code' object is not callable"
     ]
    }
   ],
   "source": []
  },
  {
   "cell_type": "code",
   "execution_count": 15,
   "metadata": {},
   "outputs": [],
   "source": [
    "def XGBTrain(data, train_imgs, val_imgs, y):\n",
    "\n",
    "    X_train, y_train = data.loc[IMG.isin(train_imgs)], y.loc[IMG.isin(train_imgs)]\n",
    "    X_val, y_val = data.loc[IMG.isin(val_imgs)], y.loc[IMG.isin(val_imgs)]\n",
    "    \n",
    "    ratio = float(np.sum(y_train == 1)) / np.sum(y_train==0)\n",
    "\n",
    "    clf = xgb.XGBClassifier(\n",
    "                    max_depth = 4,\n",
    "                    n_estimators=1000,\n",
    "                    learning_rate=0.1, \n",
    "                    nthread=3,\n",
    "                    subsample=1.0,\n",
    "                    colsample_bytree=1,\n",
    "                    scale_pos_weight = ratio,\n",
    "                    reg_alpha=0.03,\n",
    "                    seed=1301)\n",
    "\n",
    "    clf.fit(X_train, y_train, early_stopping_rounds=30, eval_metric=\"auc\",\n",
    "            eval_set=[(X_val, y_val)], verbose = False)\n",
    "    \n",
    "    return clf"
   ]
  },
  {
   "cell_type": "code",
   "execution_count": 17,
   "metadata": {},
   "outputs": [
    {
     "name": "stdout",
     "output_type": "stream",
     "text": [
      "Experiment [0] [1]\n",
      " > 60 iterations \t Val vs Test (MAc) = 0.975 vs 0.855\n",
      " > 29 iterations \t Val vs Test (MAc) = 0.944 vs 0.818\n",
      " > 108 iterations \t Val vs Test (MAc) = 0.958 vs 0.761\n",
      " > 92 iterations \t Val vs Test (MAc) = 0.940 vs 0.727\n",
      " > 86 iterations \t Val vs Test (MAc) = 0.981 vs 0.834\n",
      " > 99 iterations \t Val vs Test (MAc) = 0.962 vs 0.703\n",
      " > 81 iterations \t Val vs Test (MAc) = 0.961 vs 0.761\n",
      " > 20 iterations \t Val vs Test (MAc) = 0.972 vs 0.792\n",
      " > 105 iterations \t Val vs Test (MAc) = 0.965 vs 0.589\n",
      " > 46 iterations \t Val vs Test (MAc) = 0.959 vs 0.802\n",
      " > 73 iterations \t Val vs Test (MAc) = 0.909 vs 0.564\n",
      " > 54 iterations \t Val vs Test (MAc) = 0.957 vs 0.792\n",
      " > 31 iterations \t Val vs Test (MAc) = 0.984 vs 0.881\n",
      " > 44 iterations \t Val vs Test (MAc) = 0.976 vs 0.841\n",
      " > 79 iterations \t Val vs Test (MAc) = 0.963 vs 0.734\n",
      " > 101 iterations \t Val vs Test (MAc) = 0.977 vs 0.729\n",
      " > 87 iterations \t Val vs Test (MAc) = 0.918 vs 0.675\n",
      " > 88 iterations \t Val vs Test (MAc) = 0.978 vs 0.787\n",
      " > 41 iterations \t Val vs Test (MAc) = 0.959 vs 0.703\n",
      " > 86 iterations \t Val vs Test (MAc) = 0.955 vs 0.846\n",
      " > 81 iterations \t Val vs Test (MAc) = 0.915 vs 0.651\n",
      " > 59 iterations \t Val vs Test (MAc) = 0.948 vs 0.713\n",
      " > 92 iterations \t Val vs Test (MAc) = 0.945 vs 0.717\n",
      " > 107 iterations \t Val vs Test (MAc) = 0.966 vs 0.712\n",
      " > 73 iterations \t Val vs Test (MAc) = 0.898 vs 0.499\n",
      " > 77 iterations \t Val vs Test (MAc) = 0.962 vs 0.761\n",
      " > 80 iterations \t Val vs Test (MAc) = 0.964 vs 0.694\n",
      " > 20 iterations \t Val vs Test (MAc) = 0.977 vs 0.821\n",
      " > 38 iterations \t Val vs Test (MAc) = 0.979 vs 0.860\n",
      " > 17 iterations \t Val vs Test (MAc) = 0.979 vs 0.866\n",
      "Experiment [1] [0]\n",
      " > 48 iterations \t Val vs Test (MAc) = 0.927 vs 0.944\n",
      " > 64 iterations \t Val vs Test (MAc) = 0.930 vs 0.953\n",
      " > 56 iterations \t Val vs Test (MAc) = 0.945 vs 0.953\n",
      " > 59 iterations \t Val vs Test (MAc) = 0.952 vs 0.962\n",
      " > 51 iterations \t Val vs Test (MAc) = 0.927 vs 0.963\n",
      " > 99 iterations \t Val vs Test (MAc) = 0.943 vs 0.947\n",
      " > 62 iterations \t Val vs Test (MAc) = 0.927 vs 0.935\n",
      " > 51 iterations \t Val vs Test (MAc) = 0.918 vs 0.935\n",
      " > 62 iterations \t Val vs Test (MAc) = 0.925 vs 0.899\n",
      " > 57 iterations \t Val vs Test (MAc) = 0.942 vs 0.931\n",
      " > 93 iterations \t Val vs Test (MAc) = 0.918 vs 0.965\n",
      " > 51 iterations \t Val vs Test (MAc) = 0.917 vs 0.951\n",
      " > 40 iterations \t Val vs Test (MAc) = 0.893 vs 0.950\n",
      " > 52 iterations \t Val vs Test (MAc) = 0.926 vs 0.960\n",
      " > 38 iterations \t Val vs Test (MAc) = 0.895 vs 0.962\n",
      " > 40 iterations \t Val vs Test (MAc) = 0.918 vs 0.957\n",
      " > 49 iterations \t Val vs Test (MAc) = 0.926 vs 0.964\n",
      " > 59 iterations \t Val vs Test (MAc) = 0.928 vs 0.962\n",
      " > 68 iterations \t Val vs Test (MAc) = 0.927 vs 0.959\n",
      " > 95 iterations \t Val vs Test (MAc) = 0.896 vs 0.914\n",
      " > 47 iterations \t Val vs Test (MAc) = 0.921 vs 0.967\n",
      " > 66 iterations \t Val vs Test (MAc) = 0.918 vs 0.960\n",
      " > 50 iterations \t Val vs Test (MAc) = 0.932 vs 0.960\n",
      " > 46 iterations \t Val vs Test (MAc) = 0.943 vs 0.961\n",
      " > 53 iterations \t Val vs Test (MAc) = 0.932 vs 0.964\n",
      " > 67 iterations \t Val vs Test (MAc) = 0.901 vs 0.963\n",
      " > 57 iterations \t Val vs Test (MAc) = 0.920 vs 0.956\n",
      " > 244 iterations \t Val vs Test (MAc) = 0.935 vs 0.960\n",
      " > 48 iterations \t Val vs Test (MAc) = 0.906 vs 0.958\n",
      " > 82 iterations \t Val vs Test (MAc) = 0.918 vs 0.956\n",
      "Experiment [0, 1] [2]\n",
      " > 64 iterations \t Val vs Test (MAc) = 0.943 vs 0.773\n",
      " > 107 iterations \t Val vs Test (MAc) = 0.928 vs 0.759\n",
      " > 57 iterations \t Val vs Test (MAc) = 0.943 vs 0.755\n",
      " > 68 iterations \t Val vs Test (MAc) = 0.938 vs 0.717\n",
      " > 60 iterations \t Val vs Test (MAc) = 0.934 vs 0.746\n",
      " > 94 iterations \t Val vs Test (MAc) = 0.942 vs 0.715\n",
      " > 57 iterations \t Val vs Test (MAc) = 0.957 vs 0.732\n",
      " > 54 iterations \t Val vs Test (MAc) = 0.929 vs 0.777\n",
      " > 57 iterations \t Val vs Test (MAc) = 0.929 vs 0.723\n",
      " > 53 iterations \t Val vs Test (MAc) = 0.937 vs 0.736\n",
      " > 64 iterations \t Val vs Test (MAc) = 0.918 vs 0.708\n",
      " > 61 iterations \t Val vs Test (MAc) = 0.939 vs 0.729\n",
      " > 58 iterations \t Val vs Test (MAc) = 0.935 vs 0.759\n",
      " > 43 iterations \t Val vs Test (MAc) = 0.905 vs 0.721\n",
      " > 79 iterations \t Val vs Test (MAc) = 0.931 vs 0.723\n",
      " > 123 iterations \t Val vs Test (MAc) = 0.948 vs 0.734\n",
      " > 69 iterations \t Val vs Test (MAc) = 0.946 vs 0.756\n",
      " > 67 iterations \t Val vs Test (MAc) = 0.939 vs 0.720\n",
      " > 69 iterations \t Val vs Test (MAc) = 0.930 vs 0.721\n",
      " > 117 iterations \t Val vs Test (MAc) = 0.925 vs 0.732\n",
      " > 55 iterations \t Val vs Test (MAc) = 0.938 vs 0.710\n",
      " > 105 iterations \t Val vs Test (MAc) = 0.921 vs 0.719\n",
      " > 126 iterations \t Val vs Test (MAc) = 0.934 vs 0.718\n",
      " > 82 iterations \t Val vs Test (MAc) = 0.963 vs 0.757\n",
      " > 47 iterations \t Val vs Test (MAc) = 0.926 vs 0.731\n",
      " > 86 iterations \t Val vs Test (MAc) = 0.941 vs 0.724\n",
      " > 64 iterations \t Val vs Test (MAc) = 0.924 vs 0.738\n",
      " > 60 iterations \t Val vs Test (MAc) = 0.930 vs 0.728\n",
      " > 50 iterations \t Val vs Test (MAc) = 0.930 vs 0.741\n",
      " > 53 iterations \t Val vs Test (MAc) = 0.921 vs 0.728\n",
      "Experiment [2] [0, 1]\n",
      " > 80 iterations \t Val vs Test (MAc) = 0.895 vs 0.924\n",
      " > 14 iterations \t Val vs Test (MAc) = 0.831 vs 0.913\n",
      " > 262 iterations \t Val vs Test (MAc) = 0.920 vs 0.926\n",
      " > 6 iterations \t Val vs Test (MAc) = 0.903 vs 0.924\n",
      " > 34 iterations \t Val vs Test (MAc) = 0.837 vs 0.921\n",
      " > 105 iterations \t Val vs Test (MAc) = 0.892 vs 0.924\n",
      " > 15 iterations \t Val vs Test (MAc) = 0.897 vs 0.924\n",
      " > 36 iterations \t Val vs Test (MAc) = 0.753 vs 0.928\n",
      " > 165 iterations \t Val vs Test (MAc) = 0.912 vs 0.924\n",
      " > 270 iterations \t Val vs Test (MAc) = 0.875 vs 0.926\n",
      " > 11 iterations \t Val vs Test (MAc) = 0.960 vs 0.926\n",
      " > 23 iterations \t Val vs Test (MAc) = 0.885 vs 0.925\n",
      " > 144 iterations \t Val vs Test (MAc) = 0.901 vs 0.925\n",
      " > 164 iterations \t Val vs Test (MAc) = 0.878 vs 0.927\n",
      " > 32 iterations \t Val vs Test (MAc) = 0.820 vs 0.919\n",
      " > 2 iterations \t Val vs Test (MAc) = 0.844 vs 0.912\n",
      " > 32 iterations \t Val vs Test (MAc) = 0.867 vs 0.931\n",
      " > 6 iterations \t Val vs Test (MAc) = 0.904 vs 0.910\n",
      " > 134 iterations \t Val vs Test (MAc) = 0.956 vs 0.928\n",
      " > 11 iterations \t Val vs Test (MAc) = 0.908 vs 0.924\n",
      " > 134 iterations \t Val vs Test (MAc) = 0.881 vs 0.890\n",
      " > 132 iterations \t Val vs Test (MAc) = 0.878 vs 0.935\n",
      " > 178 iterations \t Val vs Test (MAc) = 0.896 vs 0.878\n",
      " > 68 iterations \t Val vs Test (MAc) = 0.806 vs 0.896\n",
      " > 34 iterations \t Val vs Test (MAc) = 0.813 vs 0.909\n",
      " > 30 iterations \t Val vs Test (MAc) = 0.892 vs 0.923\n",
      " > 65 iterations \t Val vs Test (MAc) = 0.786 vs 0.912\n",
      " > 6 iterations \t Val vs Test (MAc) = 0.916 vs 0.918\n",
      " > 66 iterations \t Val vs Test (MAc) = 0.896 vs 0.867\n",
      " > 61 iterations \t Val vs Test (MAc) = 0.951 vs 0.928\n",
      "Done.\n"
     ]
    }
   ],
   "source": [
    "reps = 30\n",
    "auc_matrix = np.zeros((4, reps))\n",
    "auc_matrix_val = np.zeros((4, reps))\n",
    "mac_matrix = np.zeros((4, reps))\n",
    "mac_matrix_val = np.zeros((4, reps))\n",
    "clfs = [[None] * reps] * 4 # 4 is the number of experiments\n",
    "\n",
    "for e, (left, test) in enumerate(experiments):\n",
    "    print(\"Experiment\", left, test)\n",
    "    Xleft = data.loc[solo.isin(left)]\n",
    "    Xtest = data.loc[solo.isin(test)]\n",
    "    \n",
    "    \n",
    "    for i, (train_imgs, val_imgs) in enumerate(splitByImages(Xleft, 1/4, reps)):\n",
    "        # train\n",
    "        clf = XGBTrain(data, train_imgs, val_imgs, y)\n",
    "        \n",
    "        # get val performance of this trained model: ROC, AUC and MAc, and also the best threshold value for test\n",
    "        prediction = clf.predict_proba(data.loc[IMG.isin(val_imgs)])[:,-1]\n",
    "        val_auc, val_mean_acc, bestTH, fpr, tpr = getPerformance(y.loc[IMG.isin(val_imgs)], prediction)\n",
    "        \n",
    "        # get train either?\n",
    "        \n",
    "        # get test performance\n",
    "        prediction = clf.predict_proba(data.loc[solo.isin(test)])[:,-1]\n",
    "        mean_acc = accuracy_score(y.loc[solo.isin(test)], 1 * (prediction > bestTH)) # 1 * array = array.astype(int)\n",
    "        \n",
    "               \n",
    "        # save performance\n",
    "        mac_matrix[e, i] = mean_acc\n",
    "        mac_matrix_val[e, i] = val_mean_acc\n",
    "        \n",
    "        auc_matrix_val[e, i] = clf.best_score\n",
    "        \n",
    "        # save classifiers for further analysis\n",
    "        clfs[e][i] = [clf, left, test, bestTH]\n",
    "        \n",
    "        print(\" > %d iterations \\t Val vs Test (MAc) = %.3f vs %.3f\" % (clf.best_iteration, \n",
    "                                                                               val_mean_acc, mean_acc))\n",
    "        \n",
    "print(\"Done.\")    "
   ]
  },
  {
   "cell_type": "code",
   "execution_count": 20,
   "metadata": {},
   "outputs": [
    {
     "data": {
      "text/plain": [
       "(array([0.749611  , 0.95229396, 0.73437796, 0.91719806]),\n",
       " array([0.09077009, 0.01543022, 0.01782041, 0.01536982]))"
      ]
     },
     "execution_count": 20,
     "metadata": {},
     "output_type": "execute_result"
    }
   ],
   "source": [
    "mac_matrix.mean(axis = 1), mac_matrix.std(axis = 1),"
   ]
  },
  {
   "cell_type": "code",
   "execution_count": 21,
   "metadata": {},
   "outputs": [
    {
     "data": {
      "text/plain": [
       "(array([0.95752541, 0.92350273, 0.93413116, 0.87843074]),\n",
       " array([0.02203235, 0.01451363, 0.01129092, 0.04790362]))"
      ]
     },
     "execution_count": 21,
     "metadata": {},
     "output_type": "execute_result"
    }
   ],
   "source": [
    "mac_matrix_val.mean(axis = 1), mac_matrix_val.std(axis = 1),"
   ]
  },
  {
   "cell_type": "markdown",
   "metadata": {},
   "source": [
    "# Análise do Resultados"
   ]
  },
  {
   "cell_type": "code",
   "execution_count": 45,
   "metadata": {},
   "outputs": [],
   "source": [
    "clf_ind = 2 # base 2 out is better to find out why training in 0 and 1 fail in generalizing to 2\n",
    "clf, left, test, bestTH = clfs[clf_ind][0]\n",
    "\n",
    "X_train, y_train = data.loc[solo.isin(left)], y.loc[solo.isin(left)]\n",
    "X_test, y_test = data.loc[solo.isin(test)], y.loc[solo.isin(test)]\n",
    "\n",
    "predict = clf.predict_proba(X_test, ntree_limit=clf.best_iteration)[:,-1]"
   ]
  },
  {
   "cell_type": "code",
   "execution_count": null,
   "metadata": {},
   "outputs": [],
   "source": []
  },
  {
   "cell_type": "code",
   "execution_count": null,
   "metadata": {},
   "outputs": [],
   "source": []
  },
  {
   "cell_type": "code",
   "execution_count": 41,
   "metadata": {},
   "outputs": [],
   "source": [
    "from skimage.util.shape import view_as_blocks\n",
    "from skimage.io import imread\n"
   ]
  },
  {
   "cell_type": "code",
   "execution_count": 55,
   "metadata": {},
   "outputs": [],
   "source": [
    "paths = pd.read_csv('../IC2017_DATA/valid_images.csv', index_col=0)\n",
    "n_images = len(paths)"
   ]
  },
  {
   "cell_type": "code",
   "execution_count": 83,
   "metadata": {},
   "outputs": [],
   "source": [
    "paths['base_num'] = 1\n",
    "paths.loc[paths.index <= 17, 'base_num'] = 0\n",
    "paths.loc[paths.index >= 40, 'base_num'] = 2"
   ]
  },
  {
   "cell_type": "code",
   "execution_count": 84,
   "metadata": {
    "scrolled": true
   },
   "outputs": [
    {
     "data": {
      "text/html": [
       "<div>\n",
       "<style scoped>\n",
       "    .dataframe tbody tr th:only-of-type {\n",
       "        vertical-align: middle;\n",
       "    }\n",
       "\n",
       "    .dataframe tbody tr th {\n",
       "        vertical-align: top;\n",
       "    }\n",
       "\n",
       "    .dataframe thead th {\n",
       "        text-align: right;\n",
       "    }\n",
       "</style>\n",
       "<table border=\"1\" class=\"dataframe\">\n",
       "  <thead>\n",
       "    <tr style=\"text-align: right;\">\n",
       "      <th></th>\n",
       "      <th>pic</th>\n",
       "      <th>gt</th>\n",
       "      <th>base_num</th>\n",
       "    </tr>\n",
       "    <tr>\n",
       "      <th>num</th>\n",
       "      <th></th>\n",
       "      <th></th>\n",
       "      <th></th>\n",
       "    </tr>\n",
       "  </thead>\n",
       "  <tbody>\n",
       "    <tr>\n",
       "      <th>0</th>\n",
       "      <td>../IC2017_DATA/suborbitalRS_40_check/pictures/...</td>\n",
       "      <td>../IC2017_DATA/suborbitalRS_40_check/gts/gt01.png</td>\n",
       "      <td>0</td>\n",
       "    </tr>\n",
       "    <tr>\n",
       "      <th>1</th>\n",
       "      <td>../IC2017_DATA/suborbitalRS_40_check/pictures/...</td>\n",
       "      <td>../IC2017_DATA/suborbitalRS_40_check/gts/gt02.png</td>\n",
       "      <td>0</td>\n",
       "    </tr>\n",
       "    <tr>\n",
       "      <th>2</th>\n",
       "      <td>../IC2017_DATA/suborbitalRS_40_check/pictures/...</td>\n",
       "      <td>../IC2017_DATA/suborbitalRS_40_check/gts/gt03.png</td>\n",
       "      <td>0</td>\n",
       "    </tr>\n",
       "    <tr>\n",
       "      <th>3</th>\n",
       "      <td>../IC2017_DATA/suborbitalRS_40_check/pictures/...</td>\n",
       "      <td>../IC2017_DATA/suborbitalRS_40_check/gts/gt04.png</td>\n",
       "      <td>0</td>\n",
       "    </tr>\n",
       "    <tr>\n",
       "      <th>4</th>\n",
       "      <td>../IC2017_DATA/suborbitalRS_40_check/pictures/...</td>\n",
       "      <td>../IC2017_DATA/suborbitalRS_40_check/gts/gt05.png</td>\n",
       "      <td>0</td>\n",
       "    </tr>\n",
       "    <tr>\n",
       "      <th>5</th>\n",
       "      <td>../IC2017_DATA/suborbitalRS_40_check/pictures/...</td>\n",
       "      <td>../IC2017_DATA/suborbitalRS_40_check/gts/gt06.png</td>\n",
       "      <td>0</td>\n",
       "    </tr>\n",
       "    <tr>\n",
       "      <th>6</th>\n",
       "      <td>../IC2017_DATA/suborbitalRS_40_check/pictures/...</td>\n",
       "      <td>../IC2017_DATA/suborbitalRS_40_check/gts/gt07.png</td>\n",
       "      <td>0</td>\n",
       "    </tr>\n",
       "    <tr>\n",
       "      <th>7</th>\n",
       "      <td>../IC2017_DATA/suborbitalRS_40_check/pictures/...</td>\n",
       "      <td>../IC2017_DATA/suborbitalRS_40_check/gts/gt08.png</td>\n",
       "      <td>0</td>\n",
       "    </tr>\n",
       "    <tr>\n",
       "      <th>8</th>\n",
       "      <td>../IC2017_DATA/suborbitalRS_40_check/pictures/...</td>\n",
       "      <td>../IC2017_DATA/suborbitalRS_40_check/gts/gt09.png</td>\n",
       "      <td>0</td>\n",
       "    </tr>\n",
       "    <tr>\n",
       "      <th>9</th>\n",
       "      <td>../IC2017_DATA/suborbitalRS_40_check/pictures/...</td>\n",
       "      <td>../IC2017_DATA/suborbitalRS_40_check/gts/gt10.png</td>\n",
       "      <td>0</td>\n",
       "    </tr>\n",
       "    <tr>\n",
       "      <th>10</th>\n",
       "      <td>../IC2017_DATA/suborbitalRS_40_check/pictures/...</td>\n",
       "      <td>../IC2017_DATA/suborbitalRS_40_check/gts/gt11.png</td>\n",
       "      <td>0</td>\n",
       "    </tr>\n",
       "    <tr>\n",
       "      <th>12</th>\n",
       "      <td>../IC2017_DATA/suborbitalRS_40_check/pictures/...</td>\n",
       "      <td>../IC2017_DATA/suborbitalRS_40_check/gts/gt13.png</td>\n",
       "      <td>0</td>\n",
       "    </tr>\n",
       "    <tr>\n",
       "      <th>13</th>\n",
       "      <td>../IC2017_DATA/suborbitalRS_40_check/pictures/...</td>\n",
       "      <td>../IC2017_DATA/suborbitalRS_40_check/gts/gt14.png</td>\n",
       "      <td>0</td>\n",
       "    </tr>\n",
       "    <tr>\n",
       "      <th>14</th>\n",
       "      <td>../IC2017_DATA/suborbitalRS_40_check/pictures/...</td>\n",
       "      <td>../IC2017_DATA/suborbitalRS_40_check/gts/gt15.png</td>\n",
       "      <td>0</td>\n",
       "    </tr>\n",
       "    <tr>\n",
       "      <th>15</th>\n",
       "      <td>../IC2017_DATA/suborbitalRS_40_check/pictures/...</td>\n",
       "      <td>../IC2017_DATA/suborbitalRS_40_check/gts/gt16.png</td>\n",
       "      <td>0</td>\n",
       "    </tr>\n",
       "    <tr>\n",
       "      <th>16</th>\n",
       "      <td>../IC2017_DATA/suborbitalRS_40_check/pictures/...</td>\n",
       "      <td>../IC2017_DATA/suborbitalRS_40_check/gts/gt17.png</td>\n",
       "      <td>0</td>\n",
       "    </tr>\n",
       "    <tr>\n",
       "      <th>17</th>\n",
       "      <td>../IC2017_DATA/suborbitalRS_40_check/pictures/...</td>\n",
       "      <td>../IC2017_DATA/suborbitalRS_40_check/gts/gt18.png</td>\n",
       "      <td>0</td>\n",
       "    </tr>\n",
       "    <tr>\n",
       "      <th>18</th>\n",
       "      <td>../IC2017_DATA/suborbitalRS_40_check/pictures/...</td>\n",
       "      <td>../IC2017_DATA/suborbitalRS_40_check/gts/gt19.png</td>\n",
       "      <td>1</td>\n",
       "    </tr>\n",
       "    <tr>\n",
       "      <th>19</th>\n",
       "      <td>../IC2017_DATA/suborbitalRS_40_check/pictures/...</td>\n",
       "      <td>../IC2017_DATA/suborbitalRS_40_check/gts/gt20.png</td>\n",
       "      <td>1</td>\n",
       "    </tr>\n",
       "    <tr>\n",
       "      <th>21</th>\n",
       "      <td>../IC2017_DATA/suborbitalRS_40_check/pictures/...</td>\n",
       "      <td>../IC2017_DATA/suborbitalRS_40_check/gts/gt22.png</td>\n",
       "      <td>1</td>\n",
       "    </tr>\n",
       "    <tr>\n",
       "      <th>22</th>\n",
       "      <td>../IC2017_DATA/suborbitalRS_40_check/pictures/...</td>\n",
       "      <td>../IC2017_DATA/suborbitalRS_40_check/gts/gt23.png</td>\n",
       "      <td>1</td>\n",
       "    </tr>\n",
       "    <tr>\n",
       "      <th>23</th>\n",
       "      <td>../IC2017_DATA/suborbitalRS_40_check/pictures/...</td>\n",
       "      <td>../IC2017_DATA/suborbitalRS_40_check/gts/gt24.png</td>\n",
       "      <td>1</td>\n",
       "    </tr>\n",
       "    <tr>\n",
       "      <th>24</th>\n",
       "      <td>../IC2017_DATA/suborbitalRS_40_check/pictures/...</td>\n",
       "      <td>../IC2017_DATA/suborbitalRS_40_check/gts/gt25.png</td>\n",
       "      <td>1</td>\n",
       "    </tr>\n",
       "    <tr>\n",
       "      <th>25</th>\n",
       "      <td>../IC2017_DATA/suborbitalRS_40_check/pictures/...</td>\n",
       "      <td>../IC2017_DATA/suborbitalRS_40_check/gts/gt26.png</td>\n",
       "      <td>1</td>\n",
       "    </tr>\n",
       "    <tr>\n",
       "      <th>26</th>\n",
       "      <td>../IC2017_DATA/suborbitalRS_40_check/pictures/...</td>\n",
       "      <td>../IC2017_DATA/suborbitalRS_40_check/gts/gt27.png</td>\n",
       "      <td>1</td>\n",
       "    </tr>\n",
       "    <tr>\n",
       "      <th>27</th>\n",
       "      <td>../IC2017_DATA/suborbitalRS_40_check/pictures/...</td>\n",
       "      <td>../IC2017_DATA/suborbitalRS_40_check/gts/gt28.png</td>\n",
       "      <td>1</td>\n",
       "    </tr>\n",
       "    <tr>\n",
       "      <th>28</th>\n",
       "      <td>../IC2017_DATA/suborbitalRS_40_check/pictures/...</td>\n",
       "      <td>../IC2017_DATA/suborbitalRS_40_check/gts/gt29.png</td>\n",
       "      <td>1</td>\n",
       "    </tr>\n",
       "    <tr>\n",
       "      <th>29</th>\n",
       "      <td>../IC2017_DATA/suborbitalRS_40_check/pictures/...</td>\n",
       "      <td>../IC2017_DATA/suborbitalRS_40_check/gts/gt30.png</td>\n",
       "      <td>1</td>\n",
       "    </tr>\n",
       "    <tr>\n",
       "      <th>31</th>\n",
       "      <td>../IC2017_DATA/suborbitalRS_40_check/pictures/...</td>\n",
       "      <td>../IC2017_DATA/suborbitalRS_40_check/gts/gt32.png</td>\n",
       "      <td>1</td>\n",
       "    </tr>\n",
       "    <tr>\n",
       "      <th>32</th>\n",
       "      <td>../IC2017_DATA/suborbitalRS_40_check/pictures/...</td>\n",
       "      <td>../IC2017_DATA/suborbitalRS_40_check/gts/gt33.png</td>\n",
       "      <td>1</td>\n",
       "    </tr>\n",
       "    <tr>\n",
       "      <th>33</th>\n",
       "      <td>../IC2017_DATA/suborbitalRS_40_check/pictures/...</td>\n",
       "      <td>../IC2017_DATA/suborbitalRS_40_check/gts/gt34.png</td>\n",
       "      <td>1</td>\n",
       "    </tr>\n",
       "    <tr>\n",
       "      <th>34</th>\n",
       "      <td>../IC2017_DATA/suborbitalRS_40_check/pictures/...</td>\n",
       "      <td>../IC2017_DATA/suborbitalRS_40_check/gts/gt35.png</td>\n",
       "      <td>1</td>\n",
       "    </tr>\n",
       "    <tr>\n",
       "      <th>35</th>\n",
       "      <td>../IC2017_DATA/suborbitalRS_40_check/pictures/...</td>\n",
       "      <td>../IC2017_DATA/suborbitalRS_40_check/gts/gt36.png</td>\n",
       "      <td>1</td>\n",
       "    </tr>\n",
       "    <tr>\n",
       "      <th>36</th>\n",
       "      <td>../IC2017_DATA/suborbitalRS_40_check/pictures/...</td>\n",
       "      <td>../IC2017_DATA/suborbitalRS_40_check/gts/gt37.png</td>\n",
       "      <td>1</td>\n",
       "    </tr>\n",
       "    <tr>\n",
       "      <th>37</th>\n",
       "      <td>../IC2017_DATA/suborbitalRS_40_check/pictures/...</td>\n",
       "      <td>../IC2017_DATA/suborbitalRS_40_check/gts/gt38.png</td>\n",
       "      <td>1</td>\n",
       "    </tr>\n",
       "    <tr>\n",
       "      <th>38</th>\n",
       "      <td>../IC2017_DATA/suborbitalRS_40_check/pictures/...</td>\n",
       "      <td>../IC2017_DATA/suborbitalRS_40_check/gts/gt39.png</td>\n",
       "      <td>1</td>\n",
       "    </tr>\n",
       "    <tr>\n",
       "      <th>39</th>\n",
       "      <td>../IC2017_DATA/suborbitalRS_40_check/pictures/...</td>\n",
       "      <td>../IC2017_DATA/suborbitalRS_40_check/gts/gt40.png</td>\n",
       "      <td>1</td>\n",
       "    </tr>\n",
       "    <tr>\n",
       "      <th>40</th>\n",
       "      <td>../IC2017_DATA/newimages_lcrs2/pictures/deg00.png</td>\n",
       "      <td>../IC2017_DATA/newimages_lcrs2/gts/gtdeg00.png</td>\n",
       "      <td>2</td>\n",
       "    </tr>\n",
       "    <tr>\n",
       "      <th>41</th>\n",
       "      <td>../IC2017_DATA/newimages_lcrs2/pictures/deg01.png</td>\n",
       "      <td>../IC2017_DATA/newimages_lcrs2/gts/gtdeg01.png</td>\n",
       "      <td>2</td>\n",
       "    </tr>\n",
       "    <tr>\n",
       "      <th>42</th>\n",
       "      <td>../IC2017_DATA/newimages_lcrs2/pictures/deg02.png</td>\n",
       "      <td>../IC2017_DATA/newimages_lcrs2/gts/gtdeg02.png</td>\n",
       "      <td>2</td>\n",
       "    </tr>\n",
       "    <tr>\n",
       "      <th>43</th>\n",
       "      <td>../IC2017_DATA/newimages_lcrs2/pictures/deg03.png</td>\n",
       "      <td>../IC2017_DATA/newimages_lcrs2/gts/gtdeg03.png</td>\n",
       "      <td>2</td>\n",
       "    </tr>\n",
       "    <tr>\n",
       "      <th>44</th>\n",
       "      <td>../IC2017_DATA/newimages_lcrs2/pictures/deg04.png</td>\n",
       "      <td>../IC2017_DATA/newimages_lcrs2/gts/gtdeg04.png</td>\n",
       "      <td>2</td>\n",
       "    </tr>\n",
       "    <tr>\n",
       "      <th>45</th>\n",
       "      <td>../IC2017_DATA/newimages_lcrs2/pictures/deg05.png</td>\n",
       "      <td>../IC2017_DATA/newimages_lcrs2/gts/gtdeg05.png</td>\n",
       "      <td>2</td>\n",
       "    </tr>\n",
       "    <tr>\n",
       "      <th>46</th>\n",
       "      <td>../IC2017_DATA/newimages_lcrs2/pictures/deg06.png</td>\n",
       "      <td>../IC2017_DATA/newimages_lcrs2/gts/gtdeg06.png</td>\n",
       "      <td>2</td>\n",
       "    </tr>\n",
       "    <tr>\n",
       "      <th>47</th>\n",
       "      <td>../IC2017_DATA/newimages_lcrs2/pictures/deg07.png</td>\n",
       "      <td>../IC2017_DATA/newimages_lcrs2/gts/gtdeg07.png</td>\n",
       "      <td>2</td>\n",
       "    </tr>\n",
       "    <tr>\n",
       "      <th>48</th>\n",
       "      <td>../IC2017_DATA/newimages_lcrs2/pictures/deg08.png</td>\n",
       "      <td>../IC2017_DATA/newimages_lcrs2/gts/gtdeg08.png</td>\n",
       "      <td>2</td>\n",
       "    </tr>\n",
       "    <tr>\n",
       "      <th>49</th>\n",
       "      <td>../IC2017_DATA/newimages_lcrs2/pictures/deg09.png</td>\n",
       "      <td>../IC2017_DATA/newimages_lcrs2/gts/gtdeg09.png</td>\n",
       "      <td>2</td>\n",
       "    </tr>\n",
       "    <tr>\n",
       "      <th>50</th>\n",
       "      <td>../IC2017_DATA/newimages_lcrs2/pictures/deg10.png</td>\n",
       "      <td>../IC2017_DATA/newimages_lcrs2/gts/gtdeg10.png</td>\n",
       "      <td>2</td>\n",
       "    </tr>\n",
       "    <tr>\n",
       "      <th>51</th>\n",
       "      <td>../IC2017_DATA/newimages_lcrs2/pictures/deg11.png</td>\n",
       "      <td>../IC2017_DATA/newimages_lcrs2/gts/gtdeg11.png</td>\n",
       "      <td>2</td>\n",
       "    </tr>\n",
       "    <tr>\n",
       "      <th>52</th>\n",
       "      <td>../IC2017_DATA/newimages_lcrs2/pictures/deg12.png</td>\n",
       "      <td>../IC2017_DATA/newimages_lcrs2/gts/gtdeg12.png</td>\n",
       "      <td>2</td>\n",
       "    </tr>\n",
       "    <tr>\n",
       "      <th>53</th>\n",
       "      <td>../IC2017_DATA/newimages_lcrs2/pictures/deg13.png</td>\n",
       "      <td>../IC2017_DATA/newimages_lcrs2/gts/gtdeg13.png</td>\n",
       "      <td>2</td>\n",
       "    </tr>\n",
       "    <tr>\n",
       "      <th>54</th>\n",
       "      <td>../IC2017_DATA/newimages_lcrs2/pictures/deg14.png</td>\n",
       "      <td>../IC2017_DATA/newimages_lcrs2/gts/gtdeg14.png</td>\n",
       "      <td>2</td>\n",
       "    </tr>\n",
       "    <tr>\n",
       "      <th>55</th>\n",
       "      <td>../IC2017_DATA/newimages_lcrs2/pictures/deg15.png</td>\n",
       "      <td>../IC2017_DATA/newimages_lcrs2/gts/gtdeg15.png</td>\n",
       "      <td>2</td>\n",
       "    </tr>\n",
       "    <tr>\n",
       "      <th>56</th>\n",
       "      <td>../IC2017_DATA/newimages_lcrs2/pictures/deg16.png</td>\n",
       "      <td>../IC2017_DATA/newimages_lcrs2/gts/gtdeg16.png</td>\n",
       "      <td>2</td>\n",
       "    </tr>\n",
       "    <tr>\n",
       "      <th>57</th>\n",
       "      <td>../IC2017_DATA/newimages_lcrs2/pictures/deg17.png</td>\n",
       "      <td>../IC2017_DATA/newimages_lcrs2/gts/gtdeg17.png</td>\n",
       "      <td>2</td>\n",
       "    </tr>\n",
       "    <tr>\n",
       "      <th>58</th>\n",
       "      <td>../IC2017_DATA/newimages_lcrs2/pictures/deg18.png</td>\n",
       "      <td>../IC2017_DATA/newimages_lcrs2/gts/gtdeg18.png</td>\n",
       "      <td>2</td>\n",
       "    </tr>\n",
       "    <tr>\n",
       "      <th>59</th>\n",
       "      <td>../IC2017_DATA/newimages_lcrs2/pictures/deg19.png</td>\n",
       "      <td>../IC2017_DATA/newimages_lcrs2/gts/gtdeg19.png</td>\n",
       "      <td>2</td>\n",
       "    </tr>\n",
       "    <tr>\n",
       "      <th>60</th>\n",
       "      <td>../IC2017_DATA/newimages_lcrs2/pictures/deg20.png</td>\n",
       "      <td>../IC2017_DATA/newimages_lcrs2/gts/gtdeg20.png</td>\n",
       "      <td>2</td>\n",
       "    </tr>\n",
       "    <tr>\n",
       "      <th>61</th>\n",
       "      <td>../IC2017_DATA/newimages_lcrs2/pictures/deg21.png</td>\n",
       "      <td>../IC2017_DATA/newimages_lcrs2/gts/gtdeg21.png</td>\n",
       "      <td>2</td>\n",
       "    </tr>\n",
       "  </tbody>\n",
       "</table>\n",
       "</div>"
      ],
      "text/plain": [
       "                                                   pic  \\\n",
       "num                                                      \n",
       "0    ../IC2017_DATA/suborbitalRS_40_check/pictures/...   \n",
       "1    ../IC2017_DATA/suborbitalRS_40_check/pictures/...   \n",
       "2    ../IC2017_DATA/suborbitalRS_40_check/pictures/...   \n",
       "3    ../IC2017_DATA/suborbitalRS_40_check/pictures/...   \n",
       "4    ../IC2017_DATA/suborbitalRS_40_check/pictures/...   \n",
       "5    ../IC2017_DATA/suborbitalRS_40_check/pictures/...   \n",
       "6    ../IC2017_DATA/suborbitalRS_40_check/pictures/...   \n",
       "7    ../IC2017_DATA/suborbitalRS_40_check/pictures/...   \n",
       "8    ../IC2017_DATA/suborbitalRS_40_check/pictures/...   \n",
       "9    ../IC2017_DATA/suborbitalRS_40_check/pictures/...   \n",
       "10   ../IC2017_DATA/suborbitalRS_40_check/pictures/...   \n",
       "12   ../IC2017_DATA/suborbitalRS_40_check/pictures/...   \n",
       "13   ../IC2017_DATA/suborbitalRS_40_check/pictures/...   \n",
       "14   ../IC2017_DATA/suborbitalRS_40_check/pictures/...   \n",
       "15   ../IC2017_DATA/suborbitalRS_40_check/pictures/...   \n",
       "16   ../IC2017_DATA/suborbitalRS_40_check/pictures/...   \n",
       "17   ../IC2017_DATA/suborbitalRS_40_check/pictures/...   \n",
       "18   ../IC2017_DATA/suborbitalRS_40_check/pictures/...   \n",
       "19   ../IC2017_DATA/suborbitalRS_40_check/pictures/...   \n",
       "21   ../IC2017_DATA/suborbitalRS_40_check/pictures/...   \n",
       "22   ../IC2017_DATA/suborbitalRS_40_check/pictures/...   \n",
       "23   ../IC2017_DATA/suborbitalRS_40_check/pictures/...   \n",
       "24   ../IC2017_DATA/suborbitalRS_40_check/pictures/...   \n",
       "25   ../IC2017_DATA/suborbitalRS_40_check/pictures/...   \n",
       "26   ../IC2017_DATA/suborbitalRS_40_check/pictures/...   \n",
       "27   ../IC2017_DATA/suborbitalRS_40_check/pictures/...   \n",
       "28   ../IC2017_DATA/suborbitalRS_40_check/pictures/...   \n",
       "29   ../IC2017_DATA/suborbitalRS_40_check/pictures/...   \n",
       "31   ../IC2017_DATA/suborbitalRS_40_check/pictures/...   \n",
       "32   ../IC2017_DATA/suborbitalRS_40_check/pictures/...   \n",
       "33   ../IC2017_DATA/suborbitalRS_40_check/pictures/...   \n",
       "34   ../IC2017_DATA/suborbitalRS_40_check/pictures/...   \n",
       "35   ../IC2017_DATA/suborbitalRS_40_check/pictures/...   \n",
       "36   ../IC2017_DATA/suborbitalRS_40_check/pictures/...   \n",
       "37   ../IC2017_DATA/suborbitalRS_40_check/pictures/...   \n",
       "38   ../IC2017_DATA/suborbitalRS_40_check/pictures/...   \n",
       "39   ../IC2017_DATA/suborbitalRS_40_check/pictures/...   \n",
       "40   ../IC2017_DATA/newimages_lcrs2/pictures/deg00.png   \n",
       "41   ../IC2017_DATA/newimages_lcrs2/pictures/deg01.png   \n",
       "42   ../IC2017_DATA/newimages_lcrs2/pictures/deg02.png   \n",
       "43   ../IC2017_DATA/newimages_lcrs2/pictures/deg03.png   \n",
       "44   ../IC2017_DATA/newimages_lcrs2/pictures/deg04.png   \n",
       "45   ../IC2017_DATA/newimages_lcrs2/pictures/deg05.png   \n",
       "46   ../IC2017_DATA/newimages_lcrs2/pictures/deg06.png   \n",
       "47   ../IC2017_DATA/newimages_lcrs2/pictures/deg07.png   \n",
       "48   ../IC2017_DATA/newimages_lcrs2/pictures/deg08.png   \n",
       "49   ../IC2017_DATA/newimages_lcrs2/pictures/deg09.png   \n",
       "50   ../IC2017_DATA/newimages_lcrs2/pictures/deg10.png   \n",
       "51   ../IC2017_DATA/newimages_lcrs2/pictures/deg11.png   \n",
       "52   ../IC2017_DATA/newimages_lcrs2/pictures/deg12.png   \n",
       "53   ../IC2017_DATA/newimages_lcrs2/pictures/deg13.png   \n",
       "54   ../IC2017_DATA/newimages_lcrs2/pictures/deg14.png   \n",
       "55   ../IC2017_DATA/newimages_lcrs2/pictures/deg15.png   \n",
       "56   ../IC2017_DATA/newimages_lcrs2/pictures/deg16.png   \n",
       "57   ../IC2017_DATA/newimages_lcrs2/pictures/deg17.png   \n",
       "58   ../IC2017_DATA/newimages_lcrs2/pictures/deg18.png   \n",
       "59   ../IC2017_DATA/newimages_lcrs2/pictures/deg19.png   \n",
       "60   ../IC2017_DATA/newimages_lcrs2/pictures/deg20.png   \n",
       "61   ../IC2017_DATA/newimages_lcrs2/pictures/deg21.png   \n",
       "\n",
       "                                                    gt  base_num  \n",
       "num                                                               \n",
       "0    ../IC2017_DATA/suborbitalRS_40_check/gts/gt01.png         0  \n",
       "1    ../IC2017_DATA/suborbitalRS_40_check/gts/gt02.png         0  \n",
       "2    ../IC2017_DATA/suborbitalRS_40_check/gts/gt03.png         0  \n",
       "3    ../IC2017_DATA/suborbitalRS_40_check/gts/gt04.png         0  \n",
       "4    ../IC2017_DATA/suborbitalRS_40_check/gts/gt05.png         0  \n",
       "5    ../IC2017_DATA/suborbitalRS_40_check/gts/gt06.png         0  \n",
       "6    ../IC2017_DATA/suborbitalRS_40_check/gts/gt07.png         0  \n",
       "7    ../IC2017_DATA/suborbitalRS_40_check/gts/gt08.png         0  \n",
       "8    ../IC2017_DATA/suborbitalRS_40_check/gts/gt09.png         0  \n",
       "9    ../IC2017_DATA/suborbitalRS_40_check/gts/gt10.png         0  \n",
       "10   ../IC2017_DATA/suborbitalRS_40_check/gts/gt11.png         0  \n",
       "12   ../IC2017_DATA/suborbitalRS_40_check/gts/gt13.png         0  \n",
       "13   ../IC2017_DATA/suborbitalRS_40_check/gts/gt14.png         0  \n",
       "14   ../IC2017_DATA/suborbitalRS_40_check/gts/gt15.png         0  \n",
       "15   ../IC2017_DATA/suborbitalRS_40_check/gts/gt16.png         0  \n",
       "16   ../IC2017_DATA/suborbitalRS_40_check/gts/gt17.png         0  \n",
       "17   ../IC2017_DATA/suborbitalRS_40_check/gts/gt18.png         0  \n",
       "18   ../IC2017_DATA/suborbitalRS_40_check/gts/gt19.png         1  \n",
       "19   ../IC2017_DATA/suborbitalRS_40_check/gts/gt20.png         1  \n",
       "21   ../IC2017_DATA/suborbitalRS_40_check/gts/gt22.png         1  \n",
       "22   ../IC2017_DATA/suborbitalRS_40_check/gts/gt23.png         1  \n",
       "23   ../IC2017_DATA/suborbitalRS_40_check/gts/gt24.png         1  \n",
       "24   ../IC2017_DATA/suborbitalRS_40_check/gts/gt25.png         1  \n",
       "25   ../IC2017_DATA/suborbitalRS_40_check/gts/gt26.png         1  \n",
       "26   ../IC2017_DATA/suborbitalRS_40_check/gts/gt27.png         1  \n",
       "27   ../IC2017_DATA/suborbitalRS_40_check/gts/gt28.png         1  \n",
       "28   ../IC2017_DATA/suborbitalRS_40_check/gts/gt29.png         1  \n",
       "29   ../IC2017_DATA/suborbitalRS_40_check/gts/gt30.png         1  \n",
       "31   ../IC2017_DATA/suborbitalRS_40_check/gts/gt32.png         1  \n",
       "32   ../IC2017_DATA/suborbitalRS_40_check/gts/gt33.png         1  \n",
       "33   ../IC2017_DATA/suborbitalRS_40_check/gts/gt34.png         1  \n",
       "34   ../IC2017_DATA/suborbitalRS_40_check/gts/gt35.png         1  \n",
       "35   ../IC2017_DATA/suborbitalRS_40_check/gts/gt36.png         1  \n",
       "36   ../IC2017_DATA/suborbitalRS_40_check/gts/gt37.png         1  \n",
       "37   ../IC2017_DATA/suborbitalRS_40_check/gts/gt38.png         1  \n",
       "38   ../IC2017_DATA/suborbitalRS_40_check/gts/gt39.png         1  \n",
       "39   ../IC2017_DATA/suborbitalRS_40_check/gts/gt40.png         1  \n",
       "40      ../IC2017_DATA/newimages_lcrs2/gts/gtdeg00.png         2  \n",
       "41      ../IC2017_DATA/newimages_lcrs2/gts/gtdeg01.png         2  \n",
       "42      ../IC2017_DATA/newimages_lcrs2/gts/gtdeg02.png         2  \n",
       "43      ../IC2017_DATA/newimages_lcrs2/gts/gtdeg03.png         2  \n",
       "44      ../IC2017_DATA/newimages_lcrs2/gts/gtdeg04.png         2  \n",
       "45      ../IC2017_DATA/newimages_lcrs2/gts/gtdeg05.png         2  \n",
       "46      ../IC2017_DATA/newimages_lcrs2/gts/gtdeg06.png         2  \n",
       "47      ../IC2017_DATA/newimages_lcrs2/gts/gtdeg07.png         2  \n",
       "48      ../IC2017_DATA/newimages_lcrs2/gts/gtdeg08.png         2  \n",
       "49      ../IC2017_DATA/newimages_lcrs2/gts/gtdeg09.png         2  \n",
       "50      ../IC2017_DATA/newimages_lcrs2/gts/gtdeg10.png         2  \n",
       "51      ../IC2017_DATA/newimages_lcrs2/gts/gtdeg11.png         2  \n",
       "52      ../IC2017_DATA/newimages_lcrs2/gts/gtdeg12.png         2  \n",
       "53      ../IC2017_DATA/newimages_lcrs2/gts/gtdeg13.png         2  \n",
       "54      ../IC2017_DATA/newimages_lcrs2/gts/gtdeg14.png         2  \n",
       "55      ../IC2017_DATA/newimages_lcrs2/gts/gtdeg15.png         2  \n",
       "56      ../IC2017_DATA/newimages_lcrs2/gts/gtdeg16.png         2  \n",
       "57      ../IC2017_DATA/newimages_lcrs2/gts/gtdeg17.png         2  \n",
       "58      ../IC2017_DATA/newimages_lcrs2/gts/gtdeg18.png         2  \n",
       "59      ../IC2017_DATA/newimages_lcrs2/gts/gtdeg19.png         2  \n",
       "60      ../IC2017_DATA/newimages_lcrs2/gts/gtdeg20.png         2  \n",
       "61      ../IC2017_DATA/newimages_lcrs2/gts/gtdeg21.png         2  "
      ]
     },
     "execution_count": 84,
     "metadata": {},
     "output_type": "execute_result"
    }
   ],
   "source": [
    "paths"
   ]
  },
  {
   "cell_type": "code",
   "execution_count": 48,
   "metadata": {},
   "outputs": [
    {
     "data": {
      "text/plain": [
       "(2134, 2652)"
      ]
     },
     "execution_count": 48,
     "metadata": {},
     "output_type": "execute_result"
    }
   ],
   "source": [
    "th = bestTH\n",
    "\n",
    "# m1 = ((y_test == 1) & (prediction < th))\n",
    "# m0 = ((y_test == 0) & (prediction > th))\n",
    "\n",
    "pred_all = clf.predict_proba(data, ntree_limit=clf.best_iteration)[:,-1]\n",
    "m1 = ((y == 1) & (pred_all < th))\n",
    "m0 = ((y == 0) & (pred_all >= th))\n",
    "\n",
    "m1.sum(), m0.sum()"
   ]
  },
  {
   "cell_type": "code",
   "execution_count": 50,
   "metadata": {},
   "outputs": [],
   "source": [
    "misses = pd.concat([IMG[m0].value_counts().rename(\"NOVEG-miss\"), IMG[m1].value_counts().rename(\"VEG-miss\")], axis = 1).fillna(0)"
   ]
  },
  {
   "cell_type": "code",
   "execution_count": 51,
   "metadata": {},
   "outputs": [],
   "source": [
    "misses[\"sum\"] = misses[\"NOVEG-miss\"] + misses[\"VEG-miss\"]"
   ]
  },
  {
   "cell_type": "code",
   "execution_count": 52,
   "metadata": {
    "scrolled": true
   },
   "outputs": [
    {
     "data": {
      "text/html": [
       "<div>\n",
       "<style scoped>\n",
       "    .dataframe tbody tr th:only-of-type {\n",
       "        vertical-align: middle;\n",
       "    }\n",
       "\n",
       "    .dataframe tbody tr th {\n",
       "        vertical-align: top;\n",
       "    }\n",
       "\n",
       "    .dataframe thead th {\n",
       "        text-align: right;\n",
       "    }\n",
       "</style>\n",
       "<table border=\"1\" class=\"dataframe\">\n",
       "  <thead>\n",
       "    <tr style=\"text-align: right;\">\n",
       "      <th></th>\n",
       "      <th>NOVEG-miss</th>\n",
       "      <th>VEG-miss</th>\n",
       "      <th>sum</th>\n",
       "    </tr>\n",
       "  </thead>\n",
       "  <tbody>\n",
       "    <tr>\n",
       "      <th>52.0</th>\n",
       "      <td>85.0</td>\n",
       "      <td>135.0</td>\n",
       "      <td>220.0</td>\n",
       "    </tr>\n",
       "    <tr>\n",
       "      <th>40.0</th>\n",
       "      <td>59.0</td>\n",
       "      <td>121.0</td>\n",
       "      <td>180.0</td>\n",
       "    </tr>\n",
       "    <tr>\n",
       "      <th>50.0</th>\n",
       "      <td>143.0</td>\n",
       "      <td>35.0</td>\n",
       "      <td>178.0</td>\n",
       "    </tr>\n",
       "    <tr>\n",
       "      <th>18.0</th>\n",
       "      <td>111.0</td>\n",
       "      <td>66.0</td>\n",
       "      <td>177.0</td>\n",
       "    </tr>\n",
       "    <tr>\n",
       "      <th>27.0</th>\n",
       "      <td>111.0</td>\n",
       "      <td>59.0</td>\n",
       "      <td>170.0</td>\n",
       "    </tr>\n",
       "    <tr>\n",
       "      <th>24.0</th>\n",
       "      <td>150.0</td>\n",
       "      <td>16.0</td>\n",
       "      <td>166.0</td>\n",
       "    </tr>\n",
       "    <tr>\n",
       "      <th>59.0</th>\n",
       "      <td>70.0</td>\n",
       "      <td>81.0</td>\n",
       "      <td>151.0</td>\n",
       "    </tr>\n",
       "    <tr>\n",
       "      <th>19.0</th>\n",
       "      <td>93.0</td>\n",
       "      <td>58.0</td>\n",
       "      <td>151.0</td>\n",
       "    </tr>\n",
       "    <tr>\n",
       "      <th>32.0</th>\n",
       "      <td>100.0</td>\n",
       "      <td>49.0</td>\n",
       "      <td>149.0</td>\n",
       "    </tr>\n",
       "    <tr>\n",
       "      <th>25.0</th>\n",
       "      <td>53.0</td>\n",
       "      <td>93.0</td>\n",
       "      <td>146.0</td>\n",
       "    </tr>\n",
       "    <tr>\n",
       "      <th>22.0</th>\n",
       "      <td>89.0</td>\n",
       "      <td>54.0</td>\n",
       "      <td>143.0</td>\n",
       "    </tr>\n",
       "    <tr>\n",
       "      <th>23.0</th>\n",
       "      <td>99.0</td>\n",
       "      <td>43.0</td>\n",
       "      <td>142.0</td>\n",
       "    </tr>\n",
       "    <tr>\n",
       "      <th>21.0</th>\n",
       "      <td>77.0</td>\n",
       "      <td>64.0</td>\n",
       "      <td>141.0</td>\n",
       "    </tr>\n",
       "    <tr>\n",
       "      <th>39.0</th>\n",
       "      <td>102.0</td>\n",
       "      <td>34.0</td>\n",
       "      <td>136.0</td>\n",
       "    </tr>\n",
       "    <tr>\n",
       "      <th>35.0</th>\n",
       "      <td>104.0</td>\n",
       "      <td>29.0</td>\n",
       "      <td>133.0</td>\n",
       "    </tr>\n",
       "    <tr>\n",
       "      <th>33.0</th>\n",
       "      <td>83.0</td>\n",
       "      <td>50.0</td>\n",
       "      <td>133.0</td>\n",
       "    </tr>\n",
       "    <tr>\n",
       "      <th>31.0</th>\n",
       "      <td>79.0</td>\n",
       "      <td>39.0</td>\n",
       "      <td>118.0</td>\n",
       "    </tr>\n",
       "    <tr>\n",
       "      <th>2.0</th>\n",
       "      <td>60.0</td>\n",
       "      <td>57.0</td>\n",
       "      <td>117.0</td>\n",
       "    </tr>\n",
       "    <tr>\n",
       "      <th>60.0</th>\n",
       "      <td>70.0</td>\n",
       "      <td>43.0</td>\n",
       "      <td>113.0</td>\n",
       "    </tr>\n",
       "    <tr>\n",
       "      <th>34.0</th>\n",
       "      <td>80.0</td>\n",
       "      <td>33.0</td>\n",
       "      <td>113.0</td>\n",
       "    </tr>\n",
       "    <tr>\n",
       "      <th>26.0</th>\n",
       "      <td>52.0</td>\n",
       "      <td>59.0</td>\n",
       "      <td>111.0</td>\n",
       "    </tr>\n",
       "    <tr>\n",
       "      <th>49.0</th>\n",
       "      <td>41.0</td>\n",
       "      <td>69.0</td>\n",
       "      <td>110.0</td>\n",
       "    </tr>\n",
       "    <tr>\n",
       "      <th>41.0</th>\n",
       "      <td>58.0</td>\n",
       "      <td>43.0</td>\n",
       "      <td>101.0</td>\n",
       "    </tr>\n",
       "    <tr>\n",
       "      <th>3.0</th>\n",
       "      <td>5.0</td>\n",
       "      <td>90.0</td>\n",
       "      <td>95.0</td>\n",
       "    </tr>\n",
       "    <tr>\n",
       "      <th>38.0</th>\n",
       "      <td>60.0</td>\n",
       "      <td>33.0</td>\n",
       "      <td>93.0</td>\n",
       "    </tr>\n",
       "    <tr>\n",
       "      <th>15.0</th>\n",
       "      <td>17.0</td>\n",
       "      <td>76.0</td>\n",
       "      <td>93.0</td>\n",
       "    </tr>\n",
       "    <tr>\n",
       "      <th>47.0</th>\n",
       "      <td>4.0</td>\n",
       "      <td>83.0</td>\n",
       "      <td>87.0</td>\n",
       "    </tr>\n",
       "    <tr>\n",
       "      <th>46.0</th>\n",
       "      <td>66.0</td>\n",
       "      <td>18.0</td>\n",
       "      <td>84.0</td>\n",
       "    </tr>\n",
       "    <tr>\n",
       "      <th>61.0</th>\n",
       "      <td>80.0</td>\n",
       "      <td>0.0</td>\n",
       "      <td>80.0</td>\n",
       "    </tr>\n",
       "    <tr>\n",
       "      <th>8.0</th>\n",
       "      <td>19.0</td>\n",
       "      <td>58.0</td>\n",
       "      <td>77.0</td>\n",
       "    </tr>\n",
       "    <tr>\n",
       "      <th>16.0</th>\n",
       "      <td>14.0</td>\n",
       "      <td>60.0</td>\n",
       "      <td>74.0</td>\n",
       "    </tr>\n",
       "    <tr>\n",
       "      <th>13.0</th>\n",
       "      <td>31.0</td>\n",
       "      <td>43.0</td>\n",
       "      <td>74.0</td>\n",
       "    </tr>\n",
       "    <tr>\n",
       "      <th>29.0</th>\n",
       "      <td>45.0</td>\n",
       "      <td>28.0</td>\n",
       "      <td>73.0</td>\n",
       "    </tr>\n",
       "    <tr>\n",
       "      <th>37.0</th>\n",
       "      <td>24.0</td>\n",
       "      <td>30.0</td>\n",
       "      <td>54.0</td>\n",
       "    </tr>\n",
       "    <tr>\n",
       "      <th>57.0</th>\n",
       "      <td>52.0</td>\n",
       "      <td>1.0</td>\n",
       "      <td>53.0</td>\n",
       "    </tr>\n",
       "    <tr>\n",
       "      <th>44.0</th>\n",
       "      <td>44.0</td>\n",
       "      <td>0.0</td>\n",
       "      <td>44.0</td>\n",
       "    </tr>\n",
       "    <tr>\n",
       "      <th>56.0</th>\n",
       "      <td>42.0</td>\n",
       "      <td>1.0</td>\n",
       "      <td>43.0</td>\n",
       "    </tr>\n",
       "    <tr>\n",
       "      <th>58.0</th>\n",
       "      <td>9.0</td>\n",
       "      <td>30.0</td>\n",
       "      <td>39.0</td>\n",
       "    </tr>\n",
       "    <tr>\n",
       "      <th>28.0</th>\n",
       "      <td>24.0</td>\n",
       "      <td>12.0</td>\n",
       "      <td>36.0</td>\n",
       "    </tr>\n",
       "    <tr>\n",
       "      <th>7.0</th>\n",
       "      <td>1.0</td>\n",
       "      <td>33.0</td>\n",
       "      <td>34.0</td>\n",
       "    </tr>\n",
       "    <tr>\n",
       "      <th>4.0</th>\n",
       "      <td>24.0</td>\n",
       "      <td>9.0</td>\n",
       "      <td>33.0</td>\n",
       "    </tr>\n",
       "    <tr>\n",
       "      <th>36.0</th>\n",
       "      <td>7.0</td>\n",
       "      <td>23.0</td>\n",
       "      <td>30.0</td>\n",
       "    </tr>\n",
       "    <tr>\n",
       "      <th>10.0</th>\n",
       "      <td>13.0</td>\n",
       "      <td>16.0</td>\n",
       "      <td>29.0</td>\n",
       "    </tr>\n",
       "    <tr>\n",
       "      <th>9.0</th>\n",
       "      <td>5.0</td>\n",
       "      <td>24.0</td>\n",
       "      <td>29.0</td>\n",
       "    </tr>\n",
       "    <tr>\n",
       "      <th>55.0</th>\n",
       "      <td>22.0</td>\n",
       "      <td>7.0</td>\n",
       "      <td>29.0</td>\n",
       "    </tr>\n",
       "    <tr>\n",
       "      <th>53.0</th>\n",
       "      <td>14.0</td>\n",
       "      <td>13.0</td>\n",
       "      <td>27.0</td>\n",
       "    </tr>\n",
       "    <tr>\n",
       "      <th>6.0</th>\n",
       "      <td>7.0</td>\n",
       "      <td>19.0</td>\n",
       "      <td>26.0</td>\n",
       "    </tr>\n",
       "    <tr>\n",
       "      <th>45.0</th>\n",
       "      <td>1.0</td>\n",
       "      <td>24.0</td>\n",
       "      <td>25.0</td>\n",
       "    </tr>\n",
       "    <tr>\n",
       "      <th>54.0</th>\n",
       "      <td>14.0</td>\n",
       "      <td>10.0</td>\n",
       "      <td>24.0</td>\n",
       "    </tr>\n",
       "    <tr>\n",
       "      <th>1.0</th>\n",
       "      <td>9.0</td>\n",
       "      <td>14.0</td>\n",
       "      <td>23.0</td>\n",
       "    </tr>\n",
       "    <tr>\n",
       "      <th>17.0</th>\n",
       "      <td>16.0</td>\n",
       "      <td>7.0</td>\n",
       "      <td>23.0</td>\n",
       "    </tr>\n",
       "    <tr>\n",
       "      <th>51.0</th>\n",
       "      <td>3.0</td>\n",
       "      <td>12.0</td>\n",
       "      <td>15.0</td>\n",
       "    </tr>\n",
       "    <tr>\n",
       "      <th>5.0</th>\n",
       "      <td>0.0</td>\n",
       "      <td>13.0</td>\n",
       "      <td>13.0</td>\n",
       "    </tr>\n",
       "    <tr>\n",
       "      <th>12.0</th>\n",
       "      <td>2.0</td>\n",
       "      <td>5.0</td>\n",
       "      <td>7.0</td>\n",
       "    </tr>\n",
       "    <tr>\n",
       "      <th>14.0</th>\n",
       "      <td>0.0</td>\n",
       "      <td>7.0</td>\n",
       "      <td>7.0</td>\n",
       "    </tr>\n",
       "    <tr>\n",
       "      <th>48.0</th>\n",
       "      <td>6.0</td>\n",
       "      <td>0.0</td>\n",
       "      <td>6.0</td>\n",
       "    </tr>\n",
       "    <tr>\n",
       "      <th>0.0</th>\n",
       "      <td>0.0</td>\n",
       "      <td>5.0</td>\n",
       "      <td>5.0</td>\n",
       "    </tr>\n",
       "    <tr>\n",
       "      <th>42.0</th>\n",
       "      <td>2.0</td>\n",
       "      <td>0.0</td>\n",
       "      <td>2.0</td>\n",
       "    </tr>\n",
       "    <tr>\n",
       "      <th>43.0</th>\n",
       "      <td>1.0</td>\n",
       "      <td>0.0</td>\n",
       "      <td>1.0</td>\n",
       "    </tr>\n",
       "  </tbody>\n",
       "</table>\n",
       "</div>"
      ],
      "text/plain": [
       "      NOVEG-miss  VEG-miss    sum\n",
       "52.0        85.0     135.0  220.0\n",
       "40.0        59.0     121.0  180.0\n",
       "50.0       143.0      35.0  178.0\n",
       "18.0       111.0      66.0  177.0\n",
       "27.0       111.0      59.0  170.0\n",
       "24.0       150.0      16.0  166.0\n",
       "59.0        70.0      81.0  151.0\n",
       "19.0        93.0      58.0  151.0\n",
       "32.0       100.0      49.0  149.0\n",
       "25.0        53.0      93.0  146.0\n",
       "22.0        89.0      54.0  143.0\n",
       "23.0        99.0      43.0  142.0\n",
       "21.0        77.0      64.0  141.0\n",
       "39.0       102.0      34.0  136.0\n",
       "35.0       104.0      29.0  133.0\n",
       "33.0        83.0      50.0  133.0\n",
       "31.0        79.0      39.0  118.0\n",
       "2.0         60.0      57.0  117.0\n",
       "60.0        70.0      43.0  113.0\n",
       "34.0        80.0      33.0  113.0\n",
       "26.0        52.0      59.0  111.0\n",
       "49.0        41.0      69.0  110.0\n",
       "41.0        58.0      43.0  101.0\n",
       "3.0          5.0      90.0   95.0\n",
       "38.0        60.0      33.0   93.0\n",
       "15.0        17.0      76.0   93.0\n",
       "47.0         4.0      83.0   87.0\n",
       "46.0        66.0      18.0   84.0\n",
       "61.0        80.0       0.0   80.0\n",
       "8.0         19.0      58.0   77.0\n",
       "16.0        14.0      60.0   74.0\n",
       "13.0        31.0      43.0   74.0\n",
       "29.0        45.0      28.0   73.0\n",
       "37.0        24.0      30.0   54.0\n",
       "57.0        52.0       1.0   53.0\n",
       "44.0        44.0       0.0   44.0\n",
       "56.0        42.0       1.0   43.0\n",
       "58.0         9.0      30.0   39.0\n",
       "28.0        24.0      12.0   36.0\n",
       "7.0          1.0      33.0   34.0\n",
       "4.0         24.0       9.0   33.0\n",
       "36.0         7.0      23.0   30.0\n",
       "10.0        13.0      16.0   29.0\n",
       "9.0          5.0      24.0   29.0\n",
       "55.0        22.0       7.0   29.0\n",
       "53.0        14.0      13.0   27.0\n",
       "6.0          7.0      19.0   26.0\n",
       "45.0         1.0      24.0   25.0\n",
       "54.0        14.0      10.0   24.0\n",
       "1.0          9.0      14.0   23.0\n",
       "17.0        16.0       7.0   23.0\n",
       "51.0         3.0      12.0   15.0\n",
       "5.0          0.0      13.0   13.0\n",
       "12.0         2.0       5.0    7.0\n",
       "14.0         0.0       7.0    7.0\n",
       "48.0         6.0       0.0    6.0\n",
       "0.0          0.0       5.0    5.0\n",
       "42.0         2.0       0.0    2.0\n",
       "43.0         1.0       0.0    1.0"
      ]
     },
     "execution_count": 52,
     "metadata": {},
     "output_type": "execute_result"
    }
   ],
   "source": [
    "misses.sort_values(\"sum\",ascending=False)"
   ]
  },
  {
   "cell_type": "code",
   "execution_count": 57,
   "metadata": {},
   "outputs": [],
   "source": [
    "def highlight(ind, color):\n",
    "    x_ini = (ind % 32) * 16\n",
    "    x_end = x_ini + 15\n",
    "    y_ini = (ind // 32) * 16\n",
    "    y_end = y_ini + 15\n",
    "    plt.fill_between([x_ini, x_end], y_ini, y_end, alpha =.4, color = color)"
   ]
  },
  {
   "cell_type": "code",
   "execution_count": 1,
   "metadata": {
    "scrolled": false
   },
   "outputs": [
    {
     "ename": "NameError",
     "evalue": "name 'paths' is not defined",
     "output_type": "error",
     "traceback": [
      "\u001b[0;31m---------------------------------------------------------------------------\u001b[0m",
      "\u001b[0;31mNameError\u001b[0m                                 Traceback (most recent call last)",
      "\u001b[0;32m<ipython-input-1-277161641ab8>\u001b[0m in \u001b[0;36m<module>\u001b[0;34m\u001b[0m\n\u001b[1;32m      1\u001b[0m \u001b[0;34m\u001b[0m\u001b[0m\n\u001b[1;32m      2\u001b[0m \u001b[0;31m# for i in paths.query('base_num == 2').index:\u001b[0m\u001b[0;34m\u001b[0m\u001b[0;34m\u001b[0m\u001b[0;34m\u001b[0m\u001b[0m\n\u001b[0;32m----> 3\u001b[0;31m \u001b[0;32mfor\u001b[0m \u001b[0mi\u001b[0m \u001b[0;32min\u001b[0m \u001b[0mpaths\u001b[0m\u001b[0;34m.\u001b[0m\u001b[0mindex\u001b[0m\u001b[0;34m:\u001b[0m\u001b[0;34m\u001b[0m\u001b[0;34m\u001b[0m\u001b[0m\n\u001b[0m\u001b[1;32m      4\u001b[0m     \u001b[0mpic\u001b[0m \u001b[0;34m=\u001b[0m \u001b[0mimread\u001b[0m\u001b[0;34m(\u001b[0m\u001b[0mpaths\u001b[0m\u001b[0;34m.\u001b[0m\u001b[0mloc\u001b[0m\u001b[0;34m[\u001b[0m\u001b[0mi\u001b[0m\u001b[0;34m,\u001b[0m \u001b[0;34m'pic'\u001b[0m\u001b[0;34m]\u001b[0m\u001b[0;34m,\u001b[0m \u001b[0mas_gray\u001b[0m \u001b[0;34m=\u001b[0m \u001b[0;32mFalse\u001b[0m\u001b[0;34m)\u001b[0m\u001b[0;34m\u001b[0m\u001b[0;34m\u001b[0m\u001b[0m\n\u001b[1;32m      5\u001b[0m     \u001b[0mgt\u001b[0m \u001b[0;34m=\u001b[0m \u001b[0mimread\u001b[0m\u001b[0;34m(\u001b[0m\u001b[0mpaths\u001b[0m\u001b[0;34m.\u001b[0m\u001b[0mloc\u001b[0m\u001b[0;34m[\u001b[0m\u001b[0mi\u001b[0m\u001b[0;34m,\u001b[0m \u001b[0;34m'gt'\u001b[0m\u001b[0;34m]\u001b[0m\u001b[0;34m,\u001b[0m \u001b[0mas_gray\u001b[0m \u001b[0;34m=\u001b[0m \u001b[0;32mTrue\u001b[0m\u001b[0;34m)\u001b[0m\u001b[0;34m\u001b[0m\u001b[0;34m\u001b[0m\u001b[0m\n",
      "\u001b[0;31mNameError\u001b[0m: name 'paths' is not defined"
     ]
    }
   ],
   "source": [
    "\n",
    "# for i in paths.query('base_num == 2').index:\n",
    "for i in paths.index:\n",
    "    pic = imread(paths.loc[i, 'pic'], as_gray = False)\n",
    "    gt = imread(paths.loc[i, 'gt'], as_gray = True)\n",
    "\n",
    "    plt.figure(figsize=(16,7), dpi = 200)\n",
    "    plt.subplots_adjust(wspace = 0, hspace = 0)\n",
    "\n",
    "    plt.subplot(1,2,1)\n",
    "    plt.imshow(pic)\n",
    "    for b in BLOCK[(IMG == i) & m1]:\n",
    "        highlight(b, \"red\")\n",
    "    for b in BLOCK[(IMG == i) & m0]:\n",
    "        highlight(b, \"blue\")\n",
    "    plt.ylim((511,0))\n",
    "    plt.xlim((0,511))\n",
    "    plt.yticks([])\n",
    "    plt.xticks([])\n",
    "\n",
    "    plt.subplot(1,2,2)\n",
    "    plt.imshow(gt)\n",
    "    for b in BLOCK[(IMG == i) & (y == 1)]:\n",
    "        highlight(b, \"green\")\n",
    "    plt.ylim((511,0))\n",
    "    plt.xlim((0,511))\n",
    "    plt.yticks([])\n",
    "    plt.xticks([])\n",
    "\n",
    "    plt.savefig('report/misses_%02d.pdf' % i, format = 'pdf', dpi = 200)\n",
    "    print(i)\n",
    "    plt.show()"
   ]
  },
  {
   "cell_type": "code",
   "execution_count": null,
   "metadata": {},
   "outputs": [],
   "source": []
  }
 ],
 "metadata": {
  "kernelspec": {
   "display_name": "Python 3",
   "language": "python",
   "name": "python3"
  },
  "language_info": {
   "codemirror_mode": {
    "name": "ipython",
    "version": 3
   },
   "file_extension": ".py",
   "mimetype": "text/x-python",
   "name": "python",
   "nbconvert_exporter": "python",
   "pygments_lexer": "ipython3",
   "version": "3.7.2"
  }
 },
 "nbformat": 4,
 "nbformat_minor": 2
}
