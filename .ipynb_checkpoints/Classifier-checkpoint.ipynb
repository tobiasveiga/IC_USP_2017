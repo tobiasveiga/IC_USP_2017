{
 "cells": [
  {
   "cell_type": "code",
   "execution_count": 1,
   "metadata": {},
   "outputs": [],
   "source": [
    "from os import listdir\n",
    "from sys import argv\n",
    "\n",
    "import numpy as np\n",
    "import matplotlib.pyplot as plt\n",
    "%matplotlib inline\n",
    "from sklearn.metrics import f1_score, roc_curve, roc_auc_score, precision_recall_curve\n",
    "\n",
    "from sklearn.ensemble import RandomForestClassifier as RFC\n",
    "from sklearn.decomposition import PCA\n",
    "\n",
    "from sklearn.model_selection import train_test_split\n",
    "\n",
    "# import sys\n",
    "# sys.path.insert(0, \"/mnt/Dados/Documentos/xgboost/python-package/xgboost/\")\n",
    "import xgboost as xgb\n",
    "\n",
    "from sklearn.feature_selection import SelectPercentile\n",
    "from sklearn.feature_selection import f_classif,chi2\n",
    "from sklearn.preprocessing import Binarizer, scale, StandardScaler, minmax_scale\n",
    "\n",
    "from sklearn.svm import SVC\n",
    "\n",
    "import time\n",
    "\n",
    "from sklearn.externals import joblib\n",
    "import pandas as pd\n",
    "from sklearn.manifold import Isomap, TSNE\n",
    "from sklearn.model_selection import GroupKFold, LeavePGroupsOut, LeaveOneGroupOut\n",
    "\n",
    "def shuffled(array):\n",
    "    x = array.values.copy()\n",
    "    np.random.shuffle(x)\n",
    "    return x"
   ]
  },
  {
   "cell_type": "code",
   "execution_count": 2,
   "metadata": {},
   "outputs": [],
   "source": [
    "data = pd.read_csv(\"datasetfull.csv\")"
   ]
  },
  {
   "cell_type": "code",
   "execution_count": 3,
   "metadata": {},
   "outputs": [],
   "source": [
    "data = data.loc[shuffled(data.index)]"
   ]
  },
  {
   "cell_type": "code",
   "execution_count": 4,
   "metadata": {},
   "outputs": [],
   "source": [
    "y = data[\"GT\"]\n",
    "IMG = data[\"IMG\"]\n",
    "BLOCK = data[\"BLOCK\"]\n",
    "solo = data[\"solo\"]\n",
    "base = data[\"base\"]\n",
    "\n",
    "del data[\"GT\"]\n",
    "del data[\"IMG\"] # salto enorme de precisão se deixar essa feature\n",
    "del data[\"BLOCK\"]\n",
    "del data[\"solo\"]\n",
    "del data[\"base\"]"
   ]
  },
  {
   "cell_type": "code",
   "execution_count": 5,
   "metadata": {},
   "outputs": [],
   "source": [
    "X_train, X_test, y_train, y_test = train_test_split(data, y, test_size=0.33, random_state=42)"
   ]
  },
  {
   "cell_type": "code",
   "execution_count": null,
   "metadata": {},
   "outputs": [],
   "source": []
  },
  {
   "cell_type": "code",
   "execution_count": null,
   "metadata": {},
   "outputs": [],
   "source": [
    "from keras.models import Sequential\n",
    "from keras.layers import Dense\n",
    "from keras.utils import to_categorical\n"
   ]
  },
  {
   "cell_type": "code",
   "execution_count": null,
   "metadata": {},
   "outputs": [],
   "source": [
    "model = Sequential()"
   ]
  },
  {
   "cell_type": "code",
   "execution_count": null,
   "metadata": {},
   "outputs": [],
   "source": [
    "model.add(Dense(units=10, activation='relu', input_dim=X_train.shape[1]))\n",
    "model.add(Dense(units=2, activation='softmax'))"
   ]
  },
  {
   "cell_type": "code",
   "execution_count": null,
   "metadata": {},
   "outputs": [],
   "source": [
    "model.compile(loss='categorical_crossentropy',\n",
    "              optimizer='sgd',\n",
    "              metrics=['accuracy'])"
   ]
  },
  {
   "cell_type": "code",
   "execution_count": null,
   "metadata": {},
   "outputs": [],
   "source": [
    "y_binary = to_categorical(y_train)"
   ]
  },
  {
   "cell_type": "code",
   "execution_count": null,
   "metadata": {},
   "outputs": [],
   "source": [
    "model.fit(X_train, y_binary, epochs=5, batch_size=32)"
   ]
  },
  {
   "cell_type": "code",
   "execution_count": null,
   "metadata": {},
   "outputs": [],
   "source": [
    "y_binary = to_categorical(y_test)"
   ]
  },
  {
   "cell_type": "code",
   "execution_count": null,
   "metadata": {},
   "outputs": [],
   "source": [
    "classes = model.predict(X_test, batch_size=128)"
   ]
  },
  {
   "cell_type": "code",
   "execution_count": null,
   "metadata": {},
   "outputs": [],
   "source": [
    "classes"
   ]
  },
  {
   "cell_type": "code",
   "execution_count": null,
   "metadata": {},
   "outputs": [],
   "source": []
  },
  {
   "cell_type": "code",
   "execution_count": 6,
   "metadata": {
    "scrolled": false
   },
   "outputs": [
    {
     "name": "stdout",
     "output_type": "stream",
     "text": [
      "[0]\tvalidation_0-auc:0.968679\tvalidation_1-auc:0.970011\n",
      "Multiple eval metrics have been passed: 'validation_1-auc' will be used for early stopping.\n",
      "\n",
      "Will train until validation_1-auc hasn't improved in 30 rounds.\n",
      "[1]\tvalidation_0-auc:0.975711\tvalidation_1-auc:0.975256\n",
      "[2]\tvalidation_0-auc:0.978821\tvalidation_1-auc:0.978625\n",
      "[3]\tvalidation_0-auc:0.980017\tvalidation_1-auc:0.979664\n",
      "[4]\tvalidation_0-auc:0.981084\tvalidation_1-auc:0.98086\n",
      "[5]\tvalidation_0-auc:0.98189\tvalidation_1-auc:0.981554\n",
      "[6]\tvalidation_0-auc:0.98255\tvalidation_1-auc:0.98215\n",
      "[7]\tvalidation_0-auc:0.983492\tvalidation_1-auc:0.982998\n",
      "[8]\tvalidation_0-auc:0.983844\tvalidation_1-auc:0.983183\n",
      "[9]\tvalidation_0-auc:0.984544\tvalidation_1-auc:0.98385\n",
      "[10]\tvalidation_0-auc:0.985225\tvalidation_1-auc:0.984388\n",
      "[11]\tvalidation_0-auc:0.985692\tvalidation_1-auc:0.984966\n",
      "[12]\tvalidation_0-auc:0.98593\tvalidation_1-auc:0.98517\n",
      "[13]\tvalidation_0-auc:0.986118\tvalidation_1-auc:0.985285\n",
      "[14]\tvalidation_0-auc:0.986764\tvalidation_1-auc:0.98586\n",
      "[15]\tvalidation_0-auc:0.986992\tvalidation_1-auc:0.986002\n",
      "[16]\tvalidation_0-auc:0.987331\tvalidation_1-auc:0.986285\n",
      "[17]\tvalidation_0-auc:0.987571\tvalidation_1-auc:0.986441\n",
      "[18]\tvalidation_0-auc:0.987899\tvalidation_1-auc:0.986674\n",
      "[19]\tvalidation_0-auc:0.988042\tvalidation_1-auc:0.986774\n",
      "[20]\tvalidation_0-auc:0.988293\tvalidation_1-auc:0.986895\n",
      "[21]\tvalidation_0-auc:0.988537\tvalidation_1-auc:0.987056\n",
      "[22]\tvalidation_0-auc:0.988847\tvalidation_1-auc:0.987233\n",
      "[23]\tvalidation_0-auc:0.989002\tvalidation_1-auc:0.987266\n",
      "[24]\tvalidation_0-auc:0.989144\tvalidation_1-auc:0.987405\n",
      "[25]\tvalidation_0-auc:0.989425\tvalidation_1-auc:0.987554\n",
      "[26]\tvalidation_0-auc:0.98974\tvalidation_1-auc:0.987812\n",
      "[27]\tvalidation_0-auc:0.989853\tvalidation_1-auc:0.987843\n",
      "[28]\tvalidation_0-auc:0.990109\tvalidation_1-auc:0.988015\n",
      "[29]\tvalidation_0-auc:0.990276\tvalidation_1-auc:0.988072\n",
      "[30]\tvalidation_0-auc:0.990525\tvalidation_1-auc:0.988172\n",
      "[31]\tvalidation_0-auc:0.990752\tvalidation_1-auc:0.988239\n",
      "[32]\tvalidation_0-auc:0.991015\tvalidation_1-auc:0.98844\n",
      "[33]\tvalidation_0-auc:0.991131\tvalidation_1-auc:0.988502\n",
      "[34]\tvalidation_0-auc:0.991185\tvalidation_1-auc:0.988523\n",
      "[35]\tvalidation_0-auc:0.991239\tvalidation_1-auc:0.988527\n",
      "[36]\tvalidation_0-auc:0.991333\tvalidation_1-auc:0.988543\n",
      "[37]\tvalidation_0-auc:0.991404\tvalidation_1-auc:0.988565\n",
      "[38]\tvalidation_0-auc:0.991447\tvalidation_1-auc:0.98856\n",
      "[39]\tvalidation_0-auc:0.991497\tvalidation_1-auc:0.988592\n",
      "[40]\tvalidation_0-auc:0.991519\tvalidation_1-auc:0.988609\n",
      "[41]\tvalidation_0-auc:0.991549\tvalidation_1-auc:0.988616\n",
      "[42]\tvalidation_0-auc:0.991674\tvalidation_1-auc:0.988678\n",
      "[43]\tvalidation_0-auc:0.991707\tvalidation_1-auc:0.988657\n",
      "[44]\tvalidation_0-auc:0.991708\tvalidation_1-auc:0.988664\n",
      "[45]\tvalidation_0-auc:0.991731\tvalidation_1-auc:0.988701\n",
      "[46]\tvalidation_0-auc:0.99175\tvalidation_1-auc:0.988709\n",
      "[47]\tvalidation_0-auc:0.991769\tvalidation_1-auc:0.988709\n",
      "[48]\tvalidation_0-auc:0.991805\tvalidation_1-auc:0.988732\n",
      "[49]\tvalidation_0-auc:0.991827\tvalidation_1-auc:0.988716\n",
      "[50]\tvalidation_0-auc:0.991861\tvalidation_1-auc:0.988721\n",
      "[51]\tvalidation_0-auc:0.992021\tvalidation_1-auc:0.988734\n",
      "[52]\tvalidation_0-auc:0.992063\tvalidation_1-auc:0.988721\n",
      "[53]\tvalidation_0-auc:0.992076\tvalidation_1-auc:0.988708\n",
      "[54]\tvalidation_0-auc:0.992092\tvalidation_1-auc:0.988709\n",
      "[55]\tvalidation_0-auc:0.992134\tvalidation_1-auc:0.98873\n",
      "[56]\tvalidation_0-auc:0.992153\tvalidation_1-auc:0.988714\n",
      "[57]\tvalidation_0-auc:0.992166\tvalidation_1-auc:0.988718\n",
      "[58]\tvalidation_0-auc:0.992173\tvalidation_1-auc:0.988706\n",
      "[59]\tvalidation_0-auc:0.992208\tvalidation_1-auc:0.988718\n",
      "[60]\tvalidation_0-auc:0.992228\tvalidation_1-auc:0.988714\n",
      "[61]\tvalidation_0-auc:0.992238\tvalidation_1-auc:0.988703\n",
      "[62]\tvalidation_0-auc:0.992239\tvalidation_1-auc:0.988688\n",
      "[63]\tvalidation_0-auc:0.992264\tvalidation_1-auc:0.98869\n",
      "[64]\tvalidation_0-auc:0.992262\tvalidation_1-auc:0.988685\n",
      "[65]\tvalidation_0-auc:0.992289\tvalidation_1-auc:0.988686\n",
      "[66]\tvalidation_0-auc:0.992284\tvalidation_1-auc:0.988683\n",
      "[67]\tvalidation_0-auc:0.992296\tvalidation_1-auc:0.988686\n",
      "[68]\tvalidation_0-auc:0.992298\tvalidation_1-auc:0.988687\n",
      "[69]\tvalidation_0-auc:0.992305\tvalidation_1-auc:0.988693\n",
      "[70]\tvalidation_0-auc:0.99231\tvalidation_1-auc:0.988692\n",
      "[71]\tvalidation_0-auc:0.992327\tvalidation_1-auc:0.988693\n",
      "[72]\tvalidation_0-auc:0.992364\tvalidation_1-auc:0.988712\n",
      "[73]\tvalidation_0-auc:0.992364\tvalidation_1-auc:0.988712\n",
      "[74]\tvalidation_0-auc:0.992364\tvalidation_1-auc:0.988711\n",
      "[75]\tvalidation_0-auc:0.992364\tvalidation_1-auc:0.988711\n",
      "[76]\tvalidation_0-auc:0.992364\tvalidation_1-auc:0.988711\n",
      "[77]\tvalidation_0-auc:0.992364\tvalidation_1-auc:0.988711\n",
      "[78]\tvalidation_0-auc:0.992364\tvalidation_1-auc:0.988711\n",
      "[79]\tvalidation_0-auc:0.992364\tvalidation_1-auc:0.988711\n",
      "[80]\tvalidation_0-auc:0.992364\tvalidation_1-auc:0.988711\n",
      "[81]\tvalidation_0-auc:0.992364\tvalidation_1-auc:0.988711\n",
      "Stopping. Best iteration:\n",
      "[51]\tvalidation_0-auc:0.992021\tvalidation_1-auc:0.988734\n",
      "\n",
      "22.952543\n"
     ]
    }
   ],
   "source": [
    "start = time.time()\n",
    "ratio = float(np.sum(y_train == 1)) / np.sum(y_train==0)\n",
    "\n",
    "clf = xgb.XGBClassifier(\n",
    "                max_depth = 4,\n",
    "                n_estimators=1000,\n",
    "                learning_rate=0.3, \n",
    "                nthread=3,\n",
    "                subsample=1.0,\n",
    "                colsample_bytree=1,\n",
    "                #min_child_weight = 3,\n",
    "                scale_pos_weight = ratio,\n",
    "                reg_alpha=0.09,\n",
    "                seed=1301)\n",
    "\n",
    "clf.fit(X_train, y_train, early_stopping_rounds=30, eval_metric=\"auc\",\n",
    "        eval_set=[(X_train, y_train), (X_test, y_test)], verbose = True)\n",
    "\n",
    "print(\"%f\" % (time.time() - start))"
   ]
  },
  {
   "cell_type": "code",
   "execution_count": null,
   "metadata": {},
   "outputs": [],
   "source": [
    "print(time.time() - start)"
   ]
  },
  {
   "cell_type": "code",
   "execution_count": null,
   "metadata": {},
   "outputs": [],
   "source": [
    "def XGBTrain(data, train_index, test_index):\n",
    "    X_train, y_train = data.iloc[train_index], y.iloc[train_index]\n",
    "    X_test, y_test = data.iloc[test_index], y.iloc[test_index]\n",
    "    ratio = float(np.sum(y_train == 1)) / np.sum(y_train==0)\n",
    "\n",
    "    clf = xgb.XGBClassifier(\n",
    "                    max_depth = 4,\n",
    "                    n_estimators=1000,\n",
    "                    learning_rate=0.2, \n",
    "                    nthread=3,\n",
    "                    subsample=1.0,\n",
    "                    colsample_bytree=1,\n",
    "                    #min_child_weight = 3,\n",
    "                    scale_pos_weight = ratio,\n",
    "                    reg_alpha=0.03,\n",
    "                    seed=1301)\n",
    "\n",
    "    clf.fit(X_train, y_train, early_stopping_rounds=30, eval_metric=\"auc\",\n",
    "            eval_set=[(X_test, y_test)], verbose = False)\n",
    "    \n",
    "    return clf"
   ]
  },
  {
   "cell_type": "code",
   "execution_count": null,
   "metadata": {},
   "outputs": [],
   "source": [
    "n_splits = 3"
   ]
  },
  {
   "cell_type": "code",
   "execution_count": null,
   "metadata": {},
   "outputs": [],
   "source": [
    "# group_kfold = GroupKFold(n_splits=n_splits)\n",
    "group_kfold = LeaveOneGroupOut()"
   ]
  },
  {
   "cell_type": "code",
   "execution_count": null,
   "metadata": {},
   "outputs": [],
   "source": [
    "clfs = [None for _ in range (n_splits)]\n",
    "splits = list(group_kfold.split(data, y, groups=solo))\n",
    "for i, (train_index, test_index) in enumerate(splits):\n",
    "    print(i, end = ' ')\n",
    "    clf = XGBTrain(data, train_index, test_index)\n",
    "    clfs[i] = clf\n",
    "    print(clf.best_score, clf.best_iteration)\n"
   ]
  },
  {
   "cell_type": "code",
   "execution_count": null,
   "metadata": {},
   "outputs": [],
   "source": [
    "fimp = sum(clfs[i].feature_importances_ for i in range(n_splits)) / n_splits"
   ]
  },
  {
   "cell_type": "code",
   "execution_count": null,
   "metadata": {},
   "outputs": [],
   "source": [
    "importance = pd.Series(data=fimp, index=data.columns)\n",
    "# importance = pd.Series(data=clf.feature_importances_, index=data.columns)"
   ]
  },
  {
   "cell_type": "code",
   "execution_count": null,
   "metadata": {
    "scrolled": true
   },
   "outputs": [],
   "source": [
    "importance.sort_values(ascending=False)"
   ]
  },
  {
   "cell_type": "markdown",
   "metadata": {},
   "source": [
    "# Análise do Resultados"
   ]
  },
  {
   "cell_type": "code",
   "execution_count": null,
   "metadata": {},
   "outputs": [],
   "source": [
    "clf_ind = 0\n",
    "clf = clfs[clf_ind]\n",
    "train_index, test_index = splits[clf_ind]\n",
    "X_train, y_train = data.iloc[train_index], y.iloc[train_index]\n",
    "X_test, y_test = data.iloc[test_index], y.iloc[test_index]"
   ]
  },
  {
   "cell_type": "code",
   "execution_count": null,
   "metadata": {},
   "outputs": [],
   "source": [
    "predict = clf.predict_proba(X_test, ntree_limit=clf.best_iteration)[:,-1]"
   ]
  },
  {
   "cell_type": "code",
   "execution_count": null,
   "metadata": {},
   "outputs": [],
   "source": [
    "# Melhor média de TPR E TNR\n",
    "FPR, TPR, TH = roc_curve(y_test, predict)\n",
    "i_max = max(range(len(TPR)), key = lambda x : TPR[x] + 1 - FPR[x])\n",
    "print((TPR[i_max] + 1 - FPR[i_max])/2)\n",
    "plt.plot(FPR,TPR)"
   ]
  },
  {
   "cell_type": "code",
   "execution_count": null,
   "metadata": {},
   "outputs": [],
   "source": [
    "plt.figure(figsize=(12,9))\n",
    "for col in importance.sort_values(ascending=False).iloc[:15].index:\n",
    "    score = roc_auc_score(y, data[col])\n",
    "    print(\"Haralick - %-30s AUC =\" % col, score)\n",
    "    \n",
    "    fpr, tpr = roc_curve(y, data[col])[:2]\n",
    "    plt.plot(fpr, tpr, label = col)\n",
    "\n",
    "plt.plot(FPR,TPR, \"k--\", label = \"predict\", lw = 1.5)\n",
    "plt.legend()\n",
    "    "
   ]
  },
  {
   "cell_type": "code",
   "execution_count": null,
   "metadata": {},
   "outputs": [],
   "source": [
    "plt.figure(figsize=(17,5))\n",
    "plt.scatter(predict, y_test, alpha = .1)\n",
    "th = TH[i_max]\n",
    "plt.plot([th, th], [1,0], \"r-\")"
   ]
  },
  {
   "cell_type": "code",
   "execution_count": null,
   "metadata": {},
   "outputs": [],
   "source": [
    "train_pred = clf.predict_proba(data, ntree_limit=clf.best_iteration)[:,-1]"
   ]
  },
  {
   "cell_type": "code",
   "execution_count": null,
   "metadata": {},
   "outputs": [],
   "source": [
    "m1 = ((y == 1) & (train_pred < th))\n",
    "m0 = ((y == 0) & (train_pred > th))\n",
    "m1.sum(), m0.sum()"
   ]
  },
  {
   "cell_type": "code",
   "execution_count": null,
   "metadata": {},
   "outputs": [],
   "source": [
    "# m = ((y_test == 1) & (predict < th)) | ((y_test == 0) & (predict > th))\n",
    "# m.sum()"
   ]
  },
  {
   "cell_type": "code",
   "execution_count": null,
   "metadata": {},
   "outputs": [],
   "source": [
    "dec = PCA()"
   ]
  },
  {
   "cell_type": "code",
   "execution_count": null,
   "metadata": {},
   "outputs": [],
   "source": [
    "pca = dec.fit_transform(StandardScaler().fit_transform(data.fillna(10**-5)))"
   ]
  },
  {
   "cell_type": "code",
   "execution_count": null,
   "metadata": {},
   "outputs": [],
   "source": [
    "plt.figure(figsize=(17,5))\n",
    "xvr = dec.explained_variance_ratio_[:30]\n",
    "plt.bar(range(len(xvr)), np.cumsum(xvr))"
   ]
  },
  {
   "cell_type": "code",
   "execution_count": null,
   "metadata": {},
   "outputs": [],
   "source": [
    "plt.figure(figsize=(12,5))\n",
    "for c in {0,1}:\n",
    "    plt.subplot(1,2,c+1)\n",
    "    plt.scatter(pca[y==(1-c),0], pca[y==(1-c),1], alpha = 0 * .2, label = \"classe %d\" % (1-c))\n",
    "    plt.scatter(pca[y==c,0], pca[y==c,1], alpha = .2, label = \"classe %d\" % c, color = \"blue\" if c == 0 else \"yellow\")\n",
    "    plt.plot([0,0], [pca[:,1].min(), pca[:,1].max()], \"r--\")\n",
    "    plt.plot([pca[:,0].min(), pca[:,0].max()], [0,0], \"r--\")\n",
    "    plt.legend()"
   ]
  },
  {
   "cell_type": "code",
   "execution_count": null,
   "metadata": {},
   "outputs": [],
   "source": [
    "plt.figure(figsize=(12,9))\n",
    "for c in {0,1}:\n",
    "    plt.scatter(pca[y==c,0], pca[y==c,1], alpha = .2, label = \"classe %d\" % c)\n",
    "plt.scatter(pca[m0,0], pca[m0,1], label = \"miss0\")\n",
    "plt.scatter(pca[m1,0], pca[m1,1], label = \"miss1\")\n",
    "plt.legend()"
   ]
  },
  {
   "cell_type": "code",
   "execution_count": null,
   "metadata": {},
   "outputs": [],
   "source": [
    "man = Isomap(n_jobs=3)\n",
    "# man = TSNE()"
   ]
  },
  {
   "cell_type": "code",
   "execution_count": null,
   "metadata": {},
   "outputs": [],
   "source": [
    "man.fit(data.iloc[::10])"
   ]
  },
  {
   "cell_type": "code",
   "execution_count": null,
   "metadata": {},
   "outputs": [],
   "source": [
    "iso = man.transform(StandardScaler().fit_transform(data))"
   ]
  },
  {
   "cell_type": "code",
   "execution_count": null,
   "metadata": {
    "scrolled": false
   },
   "outputs": [],
   "source": [
    "plt.figure(figsize=(12,9))\n",
    "for c in {0,1}:\n",
    "    plt.scatter(iso[(y==c),0], iso[(y==c),1], alpha = .2, label = \"classe %d\" % c)\n",
    "plt.scatter(iso[m0,0], iso[m0,1], label = \"miss0\")\n",
    "plt.scatter(iso[m1,0], iso[m1,1], label = \"miss1\")\n",
    "plt.legend()"
   ]
  },
  {
   "cell_type": "code",
   "execution_count": null,
   "metadata": {},
   "outputs": [],
   "source": []
  },
  {
   "cell_type": "code",
   "execution_count": null,
   "metadata": {},
   "outputs": [],
   "source": []
  },
  {
   "cell_type": "code",
   "execution_count": null,
   "metadata": {},
   "outputs": [],
   "source": [
    "from skimage.util.shape import view_as_blocks\n",
    "from skimage.io import imread\n"
   ]
  },
  {
   "cell_type": "code",
   "execution_count": null,
   "metadata": {},
   "outputs": [],
   "source": [
    "paths = [\"imgs_orig\", \"gts_orig\"] # TROCAR AQUI DEPENDENDO DA BASE\n",
    "\n",
    "path_imgs = sorted([ paths[0] + '/' + i for i in listdir(paths[0]) ])\n",
    "path_gts = sorted([ paths[1] + '/' + i for i in listdir(paths[1]) ])\n",
    "\n",
    "n_images = len(path_imgs)"
   ]
  },
  {
   "cell_type": "code",
   "execution_count": null,
   "metadata": {},
   "outputs": [],
   "source": [
    "misses = pd.concat([IMG[m0].value_counts().rename(0), IMG[m1].value_counts().rename(1)], axis = 1).fillna(0)"
   ]
  },
  {
   "cell_type": "code",
   "execution_count": null,
   "metadata": {},
   "outputs": [],
   "source": [
    "misses[\"sum\"] = misses[0] + misses[1]"
   ]
  },
  {
   "cell_type": "code",
   "execution_count": null,
   "metadata": {
    "scrolled": true
   },
   "outputs": [],
   "source": [
    "misses.sort_values(\"sum\",ascending=False)"
   ]
  },
  {
   "cell_type": "code",
   "execution_count": null,
   "metadata": {},
   "outputs": [],
   "source": [
    "def highlight(ind, color):\n",
    "    x_ini = (ind % 32) * 16\n",
    "    x_end = x_ini + 15\n",
    "    y_ini = (ind // 32) * 16\n",
    "    y_end = y_ini + 15\n",
    "    plt.fill_between([x_ini, x_end], y_ini, y_end, alpha =.4, color = color)"
   ]
  },
  {
   "cell_type": "code",
   "execution_count": null,
   "metadata": {},
   "outputs": [],
   "source": [
    "i = 17\n",
    "img = imread(path_imgs[i])\n",
    "gt = imread(path_gts[i], as_grey=True)"
   ]
  },
  {
   "cell_type": "code",
   "execution_count": null,
   "metadata": {},
   "outputs": [],
   "source": [
    "plt.figure(figsize=(16,7))\n",
    "plt.subplots_adjust(wspace = 0, hspace = 0)\n",
    "\n",
    "plt.subplot(1,2,1)\n",
    "plt.imshow(img)\n",
    "for b in BLOCK[(IMG == i) & m1]:\n",
    "    highlight(b, \"red\")\n",
    "for b in BLOCK[(IMG == i) & m0]:\n",
    "    highlight(b, \"blue\")\n",
    "plt.ylim((511,0))\n",
    "plt.xlim((0,511))\n",
    "\n",
    "plt.subplot(1,2,2)\n",
    "plt.imshow(gt)\n",
    "for b in BLOCK[(IMG == i) & (y == 1)]:\n",
    "    highlight(b, \"green\")\n",
    "plt.ylim((511,0))\n",
    "plt.xlim((0,511))\n"
   ]
  },
  {
   "cell_type": "code",
   "execution_count": null,
   "metadata": {},
   "outputs": [],
   "source": []
  }
 ],
 "metadata": {
  "kernelspec": {
   "display_name": "Python 3",
   "language": "python",
   "name": "python3"
  },
  "language_info": {
   "codemirror_mode": {
    "name": "ipython",
    "version": 3
   },
   "file_extension": ".py",
   "mimetype": "text/x-python",
   "name": "python",
   "nbconvert_exporter": "python",
   "pygments_lexer": "ipython3",
   "version": "3.5.2"
  }
 },
 "nbformat": 4,
 "nbformat_minor": 2
}
