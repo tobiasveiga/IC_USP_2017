{
 "cells": [
  {
   "cell_type": "code",
   "execution_count": 1,
   "metadata": {
    "collapsed": true
   },
   "outputs": [],
   "source": [
    "import numpy as np"
   ]
  },
  {
   "cell_type": "code",
   "execution_count": 11,
   "metadata": {
    "collapsed": false
   },
   "outputs": [
    {
     "data": {
      "text/plain": [
       "array([[-0.20120166, -2.79045565, -0.45600878,  2.35301947],\n",
       "       [-0.68970261, -0.08603628,  0.23066784,  0.61418236],\n",
       "       [ 1.20344971, -1.07604471,  0.76087733,  2.65091874],\n",
       "       [ 0.92705118,  0.34180047,  1.814652  , -0.73959133],\n",
       "       [ 2.50306396,  1.78668077, -0.6334578 ,  0.90717822],\n",
       "       [-0.31337225, -0.78899562,  1.54832798, -0.03395556],\n",
       "       [ 0.41067243, -0.83319615,  0.6324032 , -1.14512011],\n",
       "       [-0.38478889,  0.47107152, -1.38827332, -0.55101452],\n",
       "       [ 0.27263047, -0.21667245,  0.14485696, -1.51267548],\n",
       "       [ 1.49248749,  1.16328367, -0.1638191 , -0.49197303]])"
      ]
     },
     "execution_count": 11,
     "metadata": {},
     "output_type": "execute_result"
    }
   ],
   "source": [
    "m = np.random.randn(10, 4)\n",
    "m"
   ]
  },
  {
   "cell_type": "code",
   "execution_count": 24,
   "metadata": {
    "collapsed": false
   },
   "outputs": [
    {
     "ename": "SyntaxError",
     "evalue": "invalid syntax (<ipython-input-24-f8fb4d6a26e4>, line 1)",
     "output_type": "error",
     "traceback": [
      "\u001b[0;36m  File \u001b[0;32m\"<ipython-input-24-f8fb4d6a26e4>\"\u001b[0;36m, line \u001b[0;32m1\u001b[0m\n\u001b[0;31m    [[ print(m[i:i+2, j:j+2]) for j in range(m.cols())[::2]] for i in range(m.row[::2]]\u001b[0m\n\u001b[0m                                                                                      ^\u001b[0m\n\u001b[0;31mSyntaxError\u001b[0m\u001b[0;31m:\u001b[0m invalid syntax\n"
     ]
    }
   ],
   "source": [
    "[[ print(m[i:i+2, j:j+2]) for j in range(m)[::2]] for i in range(m.shape())[::2]]"
   ]
  },
  {
   "cell_type": "code",
   "execution_count": 17,
   "metadata": {
    "collapsed": false
   },
   "outputs": [
    {
     "data": {
      "text/plain": [
       "array([[-0.08603628,  0.23066784],\n",
       "       [-1.07604471,  0.76087733]])"
      ]
     },
     "execution_count": 17,
     "metadata": {},
     "output_type": "execute_result"
    }
   ],
   "source": [
    "m[1:3, 1:3]"
   ]
  },
  {
   "cell_type": "code",
   "execution_count": null,
   "metadata": {
    "collapsed": true
   },
   "outputs": [],
   "source": []
  }
 ],
 "metadata": {
  "kernelspec": {
   "display_name": "Python 3",
   "language": "python",
   "name": "python3"
  },
  "language_info": {
   "codemirror_mode": {
    "name": "ipython",
    "version": 3
   },
   "file_extension": ".py",
   "mimetype": "text/x-python",
   "name": "python",
   "nbconvert_exporter": "python",
   "pygments_lexer": "ipython3",
   "version": "3.5.2"
  }
 },
 "nbformat": 4,
 "nbformat_minor": 2
}
