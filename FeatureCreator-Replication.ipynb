{
 "cells": [
  {
   "cell_type": "code",
   "execution_count": 39,
   "metadata": {
    "collapsed": true,
    "deletable": true,
    "editable": true
   },
   "outputs": [],
   "source": [
    "from os import listdir\n",
    "from sys import argv\n",
    "\n",
    "import numpy as np\n",
    "import cv2\n",
    "import matplotlib.pyplot as plt\n",
    "%matplotlib inline\n",
    "from sklearn.metrics import f1_score, roc_curve, roc_auc_score, precision_recall_curve\n",
    "\n",
    "from sklearn.decomposition import PCA\n",
    "\n",
    "from skimage import feature\n",
    "from skimage.feature import greycomatrix\n",
    "from skimage.feature import greycoprops\n",
    "from scipy.stats import entropy\n",
    "from skimage.feature import local_binary_pattern\n",
    "\n",
    "from sklearn.svm import SVC\n",
    "from skimage import measure\n",
    "\n"
   ]
  },
  {
   "cell_type": "markdown",
   "metadata": {},
   "source": [
    "# Inicialização de alguma variáveis"
   ]
  },
  {
   "cell_type": "code",
   "execution_count": 40,
   "metadata": {
    "collapsed": true,
    "deletable": true,
    "editable": true
   },
   "outputs": [],
   "source": [
    "argv = [3, \"imgs\", \"gts\"]\n",
    "\n",
    "path_imgs = sorted([ argv[1] + '/' + i for i in listdir(argv[1]) ])\n",
    "path_gts = sorted([ argv[2] + '/' + i for i in listdir(argv[2]) ])\n",
    "\n",
    "n_images = len(path_imgs)\n",
    "\n",
    "names_VI = [\"ExG\", \"ExGR\", \"CIVE\", \"VEG\", \"WI\", \"NGRDI\"]"
   ]
  },
  {
   "cell_type": "code",
   "execution_count": 41,
   "metadata": {
    "collapsed": false,
    "deletable": true,
    "editable": true
   },
   "outputs": [],
   "source": [
    "GT = np.zeros((512*512*len(path_imgs)), dtype = int)\n",
    "n_features = 4 * 6 * 1 # 4 posiçoes, 6 extratores, 1 VI\n",
    "n_levels = 64\n",
    "VI = [ np.zeros((32*32*len(path_imgs), n_features), dtype = float) for i in range(6) ]\n",
    "bic = np.zeros((32*32*len(path_imgs), n_levels * 2), dtype = int)"
   ]
  },
  {
   "cell_type": "markdown",
   "metadata": {},
   "source": [
    "# Declaração de funções (e alguns testes)"
   ]
  },
  {
   "cell_type": "code",
   "execution_count": 42,
   "metadata": {
    "collapsed": true,
    "deletable": true,
    "editable": true
   },
   "outputs": [],
   "source": [
    "def neighbMax(image):\n",
    "\tO = np.zeros(image.shape, dtype = float)\n",
    "\tns = [(-1, -1), (-1, 0), (-1, 1), (0, -1), (0, 1), (1, -1), (1, 0), (1, 1)]\n",
    "    \n",
    "\n",
    "\tfor lin in range(512):\n",
    "\t\tfor col in range(512):\n",
    "\t\t\t_list = []\n",
    "\t\t\tfor n in ns:\n",
    "\t\t\t\tif lin + n[0] >= 0 and lin + n[0] < 512 and col + n[1] >= 0 and col + n[1] < 512:\n",
    "\t\t\t\t\t_list.append( image[ lin + n[0] ] [col + n[1] ] )\n",
    "\t\t\tO[lin][col] = np.average(sorted(_list, reverse = True)[:3]) # Pega os 3 maiores\n",
    "\n",
    "\treturn O"
   ]
  },
  {
   "cell_type": "code",
   "execution_count": 43,
   "metadata": {
    "collapsed": true,
    "deletable": true,
    "editable": true
   },
   "outputs": [],
   "source": [
    "def neighbMin(image):\n",
    "\tO = np.zeros(image.shape, dtype = float)\n",
    "\tns = [(-1, -1), (-1, 0), (-1, 1), (0, -1), (0, 1), (1, -1), (1, 0), (1, 1)]\n",
    "    \n",
    "\n",
    "\tfor lin in range(512):\n",
    "\t\tfor col in range(512):\n",
    "\t\t\t_list = []\n",
    "\t\t\tfor n in ns:\n",
    "\t\t\t\tif lin + n[0] >= 0 and lin + n[0] < 512 and col + n[1] >= 0 and col + n[1] < 512:\n",
    "\t\t\t\t\t_list.append( image[ lin + n[0] ] [col + n[1] ] )\n",
    "\t\t\tO[lin][col] = np.average(sorted(_list, reverse = False)[:3]) # Pega os 3 menores\n",
    "\n",
    "\treturn O"
   ]
  },
  {
   "cell_type": "code",
   "execution_count": 44,
   "metadata": {
    "collapsed": false,
    "deletable": true,
    "editable": true
   },
   "outputs": [
    {
     "name": "stdout",
     "output_type": "stream",
     "text": [
      "int8\n"
     ]
    }
   ],
   "source": [
    "Z = np.random.randint(0, 255, (4,4))\n",
    "I = cv2.normalize(Z, I, 0.0, 7.0, cv2.NORM_MINMAX, dtype = 1)\n",
    "print(I.dtype)"
   ]
  },
  {
   "cell_type": "code",
   "execution_count": 45,
   "metadata": {
    "collapsed": true,
    "deletable": true,
    "editable": true
   },
   "outputs": [],
   "source": [
    "def BIC(image, levels):\n",
    "    \"\"\"\n",
    "    beiradas da imagem devem ser consideradas o que?\n",
    "    \"\"\"\n",
    "    interior = np.zeros(levels, dtype = int)\n",
    "    borda = np.zeros(levels, dtype = int)\n",
    "    ns = [(-1, -1), (-1, 0), (-1, 1), (0, -1), (0, 1), (1, -1), (1, 0), (1, 1)]\n",
    "    \n",
    "    lim_lin = image.shape[0]\n",
    "    lim_col = image.shape[1]\n",
    "\n",
    "    for lin in range(image.shape[0]):\n",
    "        for col in range(image.shape[1]): # laço do elementos da matriz\n",
    "            curr = image[lin, col]\n",
    "            interior[curr] += 1\n",
    "            for n in ns: # laço dos vizinhos\n",
    "                if lin + n[0] >= 0 and lin + n[0] < lim_lin and col + n[1] >= 0 and col + n[1] < lim_col: # teste de estar dentro da matriz\n",
    "                    if image[lin + n[0], col + n[1]] != curr:\n",
    "                        borda[curr] += 1\n",
    "                        interior[curr] -=1\n",
    "                        break\n",
    "                    \n",
    "\n",
    "    return interior, borda"
   ]
  },
  {
   "cell_type": "code",
   "execution_count": 31,
   "metadata": {
    "collapsed": false,
    "deletable": true,
    "editable": true
   },
   "outputs": [
    {
     "data": {
      "text/plain": [
       "(array([0, 4]), array([ 5, 16]))"
      ]
     },
     "execution_count": 31,
     "metadata": {},
     "output_type": "execute_result"
    }
   ],
   "source": [
    "BIC(M, 2) # 0, 1 e 16, 8"
   ]
  },
  {
   "cell_type": "code",
   "execution_count": 136,
   "metadata": {
    "collapsed": false,
    "deletable": true,
    "editable": true
   },
   "outputs": [],
   "source": [
    "m = [\"default\", \"ror\", \"uniform\", \"var\"]"
   ]
  },
  {
   "cell_type": "code",
   "execution_count": 2,
   "metadata": {
    "collapsed": false,
    "deletable": true,
    "editable": true
   },
   "outputs": [
    {
     "name": "stdout",
     "output_type": "stream",
     "text": [
      "[[1 1 1 1 1]\n",
      " [1 0 0 0 1]\n",
      " [1 0 1 1 1]\n",
      " [1 0 1 1 1]\n",
      " [1 1 1 1 1]]\n"
     ]
    }
   ],
   "source": [
    "M = np.array([[1, 1 , 1, 1, 1], [1 , 0 , 0 , 0, 1], [1, 0 , 1, 1,  1], [1, 0 , 1, 1, 1], [1, 1, 1, 1, 1]])\n",
    "print(M)"
   ]
  },
  {
   "cell_type": "code",
   "execution_count": 46,
   "metadata": {
    "collapsed": true,
    "deletable": true,
    "editable": true
   },
   "outputs": [],
   "source": [
    "def entropy_func(P):\n",
    "    return [entropy(P[:, :, 0, i].ravel()) for i in range(P.shape[3])]"
   ]
  },
  {
   "cell_type": "code",
   "execution_count": 47,
   "metadata": {
    "collapsed": false,
    "deletable": true,
    "editable": true
   },
   "outputs": [],
   "source": [
    "def maxProb(P):\n",
    "    return [np.max(P[:, :, 0, i]) for i in range(P.shape[3])]"
   ]
  },
  {
   "cell_type": "code",
   "execution_count": 48,
   "metadata": {
    "collapsed": true,
    "deletable": true,
    "editable": true
   },
   "outputs": [],
   "source": [
    "def get_features(P):\n",
    "    contrast = greycoprops(P, prop = \"contrast\")[0 , :]\n",
    "    correlation = greycoprops(P, prop = \"correlation\")[0 , :]\n",
    "    energy = greycoprops(P, prop = \"ASM\")[0 , :]\n",
    "    homogeneity = greycoprops(P, prop = \"homogeneity\")[0 , :]\n",
    "    _maxProb = maxProb(P)\n",
    "    _entropy = entropy_func(P)\n",
    "    \n",
    "    #print(contrast, correlation, energy, homogeneity, _maxProb, _entropy)\n",
    "\n",
    "    return [*contrast, *correlation, *energy, *homogeneity, *_maxProb, *_entropy]"
   ]
  },
  {
   "cell_type": "code",
   "execution_count": null,
   "metadata": {
    "collapsed": true
   },
   "outputs": [],
   "source": []
  },
  {
   "cell_type": "code",
   "execution_count": 54,
   "metadata": {
    "collapsed": false,
    "deletable": true,
    "editable": true
   },
   "outputs": [
    {
     "name": "stdout",
     "output_type": "stream",
     "text": [
      "0\n",
      "1\n",
      "2\n",
      "3\n",
      "4\n",
      "5\n",
      "6\n",
      "7\n",
      "8\n",
      "9\n",
      "10\n",
      "11\n",
      "12\n",
      "13\n",
      "14\n",
      "15\n",
      "16\n",
      "17\n",
      "18\n",
      "19\n",
      "20\n",
      "21\n"
     ]
    }
   ],
   "source": [
    "for i in range(len(path_imgs)):\n",
    "\n",
    "    \n",
    "    img = cv2.imread(path_imgs[i], 1)\n",
    "    gt = cv2.imread(path_gts[i], 0)\n",
    "    gt = cv2.normalize(gt, gt, 0.0, 1.0, cv2.NORM_MINMAX)\n",
    "    #GT = np.concatenate((GT, gt.ravel()), axis = 0)\n",
    "    print(i)\n",
    "    #print(path_imgs[i])\n",
    "    \n",
    "    ims = 512*512\n",
    "    bls = 16*16\n",
    "    nbl = 512/16\n",
    "    \n",
    "    _type = 1\n",
    "\n",
    "    for lin in range(512)[::16]:\n",
    "        for col in range(512)[::16]:\n",
    "            offset = ims*i + (lin*512+col*16)\n",
    "            \n",
    "            GT[ offset : offset + 16*16 ] = gt[lin:lin+16, col:col+16].ravel()\n",
    "\n",
    "    #B, G, R = cv2.split(img) # b = img[:,:,0]\n",
    "    B, G, R = [np.float32(img[:, :, c]) for c in range(3)]\n",
    "    r = R / (R + G + B)\n",
    "    g = G / (R + G + B)\n",
    "    b = B / (R + G + B)\n",
    "\n",
    "    I = np.zeros(img.shape[:2], dtype = float)\n",
    "\n",
    "    j = 0\n",
    "\n",
    "    # ExG\n",
    "    #print(\"ExG\")\n",
    "    Z = 2 * g - r - b\n",
    "    I = cv2.normalize(Z, I, 0.0, 7.0, cv2.NORM_MINMAX, dtype = _type) # Max = 7?\n",
    "    \n",
    "    #I = neighbMax(I)\n",
    "    b = 0\n",
    "    for lin in range(512)[::16]:\n",
    "        for col in range(512)[::16]:\n",
    "            P = greycomatrix(I[lin:lin+16, col:col+16], [1], (np.pi/4, 0, 3*np.pi/2, 7*np.pi/4), 8)\n",
    "            VI[j][b, :] = get_features(P)\n",
    "            b += 1\n",
    "    j+=1\n",
    "\n",
    "\n",
    "    # ExGR\n",
    "    #print(\"ExGR\")\n",
    "    Z = Z - 1.4 * r - g\n",
    "    I = cv2.normalize(Z, I, 0.0, 7.0, cv2.NORM_MINMAX, dtype = _type) # Max = 7?\n",
    "    #I = neighbMax(I)\n",
    "    b = 0\n",
    "    for lin in range(512)[::16]:\n",
    "        for col in range(512)[::16]:\n",
    "            P = greycomatrix(I[lin:lin+16, col:col+16], [1], (np.pi/4, 0, 3*np.pi/2, 7*np.pi/4), 8)            \n",
    "            VI[j][b, :] = get_features(P)            \n",
    "            b += 1\n",
    "    j+=1\n",
    "\n",
    "    # CIVE\n",
    "    #print(\"CIVE\")\n",
    "    Z = 0.441 * r - 0.881 * g + 0.385 * b + 18.78745\n",
    "    I = 7 - cv2.normalize(Z, I, 0.0, 7.0, cv2.NORM_MINMAX, dtype = _type) # Max = 7?\n",
    "    #I = neighbMax(I)\n",
    "    b = 0\n",
    "    for lin in range(512)[::16]:\n",
    "        for col in range(512)[::16]:\n",
    "            P = greycomatrix(I[lin:lin+16, col:col+16], [1], (np.pi/4, 0, 3*np.pi/2, 7*np.pi/4), 8)\n",
    "            VI[j][b, :] = get_features(P)\n",
    "            b += 1\n",
    "    j+=1\n",
    "\n",
    "    # VEG\n",
    "    #print(\"VEG\")\n",
    "    Z = g / (2 + r ** 0.667 * b ** (1 - 0.667))\n",
    "    I = cv2.normalize(Z, I, 0.0, 7.0, cv2.NORM_MINMAX, dtype = _type) # Max = 7?\n",
    "    #I = neighbMax(I)\n",
    "    b = 0\n",
    "    for lin in range(512)[::16]:\n",
    "        for col in range(512)[::16]:\n",
    "            P = greycomatrix(I[lin:lin+16, col:col+16], [1], (np.pi/4, 0, 3*np.pi/2, 7*np.pi/4), 8)\n",
    "            VI[j][b, :] = get_features(P)             \n",
    "            b += 1\n",
    "    j+=1\n",
    "\n",
    "    # WI\n",
    "    #print(\"WI\")\n",
    "    Z = (g - b) / (r - g + 255)\n",
    "    I = cv2.normalize(Z, I, 0.0, 7.0, cv2.NORM_MINMAX, dtype = _type) # Max = 7?\n",
    "    #I = neighbMax(I)\n",
    "    b = 0\n",
    "    for lin in range(512)[::16]:\n",
    "        for col in range(512)[::16]:\n",
    "            P = greycomatrix(I[lin:lin+16, col:col+16], [1], (np.pi/4, 0, 3*np.pi/2, 7*np.pi/4), 8)\n",
    "            VI[j][b, :] = get_features(P) \n",
    "            b += 1\n",
    "    j+=1\n",
    "\n",
    "    # NGRDI\n",
    "    #print(\"NGRDI\")\n",
    "    Z = (G/2 - R/2) / (G/2 + R/2)\n",
    "    I = cv2.normalize(Z, I, 0.0, 7.0, cv2.NORM_MINMAX, dtype = _type) # Max = 7?\n",
    "    #I = neighbMax(I)\n",
    "    b = 0\n",
    "    for lin in range(512)[::16]:\n",
    "        for col in range(512)[::16]:\n",
    "            P = greycomatrix(I[lin:lin+16, col:col+16], [1], (np.pi/4, 0, 3*np.pi/2, 7*np.pi/4), 8)\n",
    "            VI[j][b, :] = get_features(P) \n",
    "            b += 1\n",
    "    j+=1\n",
    "    \n",
    "    \n",
    "    #BIC\n",
    "    bic_img = np.zeros(B.shape, dtype = int)\n",
    "    for c in range(3):\n",
    "        #print(img[:, :, c].shape, bic_img.shape, I.shape)\n",
    "        bic_img += cv2.normalize(img[:, :, c], I, 0.0, 3.0, cv2.NORM_MINMAX, dtype = _type) * (4**c)\n",
    "    \n",
    "    b = 0\n",
    "    for lin in range(512)[::16]:\n",
    "        for col in range(512)[::16]:\n",
    "            bic[b, 0:64], bic[b, 64:64*2]  = BIC(bic_img[lin:lin+16, col:col+16], 64)\n",
    "            b += 1\n",
    "            \n",
    "    \n",
    "print(\"DONE.\")"
   ]
  },
  {
   "cell_type": "markdown",
   "metadata": {
    "deletable": true,
    "editable": true
   },
   "source": [
    "# Análise das VIs (curva ROC)"
   ]
  },
  {
   "cell_type": "code",
   "execution_count": 14,
   "metadata": {
    "collapsed": true,
    "deletable": true,
    "editable": true
   },
   "outputs": [],
   "source": [
    "fpr = [np.array([0]) for i in range(6)]\n",
    "tpr = [np.array([0]) for i in range(6)]"
   ]
  },
  {
   "cell_type": "code",
   "execution_count": 17,
   "metadata": {
    "collapsed": false,
    "deletable": true,
    "editable": true
   },
   "outputs": [
    {
     "name": "stdout",
     "output_type": "stream",
     "text": [
      "xxx AUC = 0.521750973875\n",
      "xxx AUC = 0.521778998056\n",
      "xxx AUC = 0.521782026383\n",
      "xxx AUC = 0.521791195362\n",
      "xxx AUC = 0.521162143328\n",
      "xxx AUC = 0.521139587818\n"
     ]
    }
   ],
   "source": [
    "for j in range(6):\n",
    "    print(\"xxx\", \"AUC =\", roc_auc_score(GT[::256], VI[1][: , j]))\n",
    "    #fpr[j], tpr[j], _ = roc_curve(GT, VI[j])"
   ]
  },
  {
   "cell_type": "markdown",
   "metadata": {
    "deletable": true,
    "editable": true
   },
   "source": [
    "# Salvar VIs"
   ]
  },
  {
   "cell_type": "code",
   "execution_count": null,
   "metadata": {
    "collapsed": true,
    "deletable": true,
    "editable": true
   },
   "outputs": [],
   "source": [
    "VIs_save_dir = \"VI_2/MiniNBmax/\""
   ]
  },
  {
   "cell_type": "code",
   "execution_count": null,
   "metadata": {
    "collapsed": false,
    "deletable": true,
    "editable": true
   },
   "outputs": [],
   "source": [
    "for j in range(6):\n",
    "    np.save(VIs_save_dir + names_VI[j], VI[j])"
   ]
  },
  {
   "cell_type": "code",
   "execution_count": null,
   "metadata": {
    "collapsed": true,
    "deletable": true,
    "editable": true
   },
   "outputs": [],
   "source": [
    "GT_save_dir = \"VI_2/Mini/GT\""
   ]
  },
  {
   "cell_type": "code",
   "execution_count": null,
   "metadata": {
    "collapsed": true,
    "deletable": true,
    "editable": true
   },
   "outputs": [],
   "source": [
    "np.save(GT_save_dir , GT)"
   ]
  },
  {
   "cell_type": "code",
   "execution_count": null,
   "metadata": {
    "collapsed": true,
    "deletable": true,
    "editable": true
   },
   "outputs": [],
   "source": [
    "X = np.zeros((512*512*len(path_imgs), 6), dtype = float)"
   ]
  },
  {
   "cell_type": "markdown",
   "metadata": {
    "deletable": true,
    "editable": true
   },
   "source": [
    "# Gerar e salvar PCA das VIs"
   ]
  },
  {
   "cell_type": "code",
   "execution_count": null,
   "metadata": {
    "collapsed": false,
    "deletable": true,
    "editable": true
   },
   "outputs": [],
   "source": [
    "for i in range(6):\n",
    "    X[:, i] = np.load(\"VI_2/MiniNBmax/\" + names_VI[i] + \".npy\")"
   ]
  },
  {
   "cell_type": "code",
   "execution_count": null,
   "metadata": {
    "collapsed": false,
    "deletable": true,
    "editable": true
   },
   "outputs": [],
   "source": [
    "print(np.count_nonzero(X))"
   ]
  },
  {
   "cell_type": "code",
   "execution_count": null,
   "metadata": {
    "collapsed": true,
    "deletable": true,
    "editable": true
   },
   "outputs": [],
   "source": [
    "pca = PCA(n_components=2)\n",
    "X_pca = pca.fit_transform(X)"
   ]
  },
  {
   "cell_type": "code",
   "execution_count": null,
   "metadata": {
    "collapsed": false,
    "deletable": true,
    "editable": true
   },
   "outputs": [],
   "source": [
    "print(np.count_nonzero(X_pca))"
   ]
  },
  {
   "cell_type": "code",
   "execution_count": null,
   "metadata": {
    "collapsed": true,
    "deletable": true,
    "editable": true
   },
   "outputs": [],
   "source": [
    "np.save(VIs_save_dir + \"PCA0\", X_pca[:,0])\n",
    "np.save(VIs_save_dir = \"PCA1\", X_pca[:,1])"
   ]
  },
  {
   "cell_type": "markdown",
   "metadata": {
    "collapsed": true,
    "deletable": true,
    "editable": true
   },
   "source": [
    "# SVC"
   ]
  },
  {
   "cell_type": "code",
   "execution_count": 55,
   "metadata": {
    "collapsed": true,
    "deletable": true,
    "editable": true
   },
   "outputs": [],
   "source": [
    "X = np.zeros((32*32*n_images, n_features * 6 + n_levels * 2), dtype = float)"
   ]
  },
  {
   "cell_type": "code",
   "execution_count": 56,
   "metadata": {
    "collapsed": false,
    "deletable": true,
    "editable": true
   },
   "outputs": [],
   "source": [
    "for j in range(6):\n",
    "    X[:, j * 24 : (j + 1) * 24] = VI[j]\n",
    "X[:, n_features * 6 : n_features * 6 + n_levels*2] = bic"
   ]
  },
  {
   "cell_type": "code",
   "execution_count": 57,
   "metadata": {
    "collapsed": false,
    "deletable": true,
    "editable": true
   },
   "outputs": [
    {
     "data": {
      "text/plain": [
       "(22528, 272)"
      ]
     },
     "execution_count": 57,
     "metadata": {},
     "output_type": "execute_result"
    }
   ],
   "source": [
    "X.shape"
   ]
  },
  {
   "cell_type": "code",
   "execution_count": 58,
   "metadata": {
    "collapsed": true,
    "deletable": true,
    "editable": true
   },
   "outputs": [],
   "source": [
    "X = np.column_stack((X, GT[::256]))"
   ]
  },
  {
   "cell_type": "code",
   "execution_count": 59,
   "metadata": {
    "collapsed": false,
    "deletable": true,
    "editable": true
   },
   "outputs": [
    {
     "name": "stdout",
     "output_type": "stream",
     "text": [
      "(22528, 273)\n",
      "161793\n"
     ]
    }
   ],
   "source": [
    "print(X.shape)\n",
    "print(np.count_nonzero(X))"
   ]
  },
  {
   "cell_type": "code",
   "execution_count": 60,
   "metadata": {
    "collapsed": true,
    "deletable": true,
    "editable": true
   },
   "outputs": [],
   "source": [
    "np.random.shuffle(X)"
   ]
  },
  {
   "cell_type": "code",
   "execution_count": 61,
   "metadata": {
    "collapsed": false,
    "deletable": true,
    "editable": true
   },
   "outputs": [
    {
     "name": "stdout",
     "output_type": "stream",
     "text": [
      "(22528, 272)\n",
      "154241\n",
      "(22528,)\n",
      "7552\n"
     ]
    }
   ],
   "source": [
    "GT = X[:,-1]\n",
    "X = X[:,:-1]\n",
    "print(X.shape)\n",
    "print(np.count_nonzero(X))\n",
    "print(GT.shape)\n",
    "print(np.count_nonzero(GT))"
   ]
  },
  {
   "cell_type": "code",
   "execution_count": 62,
   "metadata": {
    "collapsed": false,
    "deletable": true,
    "editable": true
   },
   "outputs": [
    {
     "name": "stdout",
     "output_type": "stream",
     "text": [
      "(16384, 272)\n",
      "(16384,)\n",
      "(6144, 272)\n",
      "(6144,)\n",
      "107317\n",
      "5476\n",
      "46924\n",
      "2076\n"
     ]
    }
   ],
   "source": [
    "X_train, X_test = np.split(X, [32*32*16], axis = 0)\n",
    "y_train, y_test = np.split(GT, [32*32*16])\n",
    "\n",
    "print(X_train.shape)\n",
    "print(y_train.shape)\n",
    "print(X_test.shape)\n",
    "print(y_test.shape)\n",
    "print(np.count_nonzero(X_train))\n",
    "print(np.count_nonzero(y_train))\n",
    "print(np.count_nonzero(X_test))\n",
    "print(np.count_nonzero(y_test))"
   ]
  },
  {
   "cell_type": "code",
   "execution_count": 63,
   "metadata": {
    "collapsed": false,
    "deletable": true,
    "editable": true
   },
   "outputs": [
    {
     "data": {
      "text/plain": [
       "SVC(C=1.0, cache_size=200, class_weight=None, coef0=0.0,\n",
       "  decision_function_shape=None, degree=3, gamma='auto', kernel='rbf',\n",
       "  max_iter=-1, probability=True, random_state=None, shrinking=True,\n",
       "  tol=0.001, verbose=False)"
      ]
     },
     "execution_count": 63,
     "metadata": {},
     "output_type": "execute_result"
    }
   ],
   "source": [
    "clf = SVC(max_iter = -1, probability=True)\n",
    "clf.fit(X_train, y_train)"
   ]
  },
  {
   "cell_type": "code",
   "execution_count": 64,
   "metadata": {
    "collapsed": false,
    "deletable": true,
    "editable": true
   },
   "outputs": [],
   "source": [
    "predict = clf.predict_proba(X_test)[:,1]"
   ]
  },
  {
   "cell_type": "code",
   "execution_count": 65,
   "metadata": {
    "collapsed": false,
    "deletable": true,
    "editable": true
   },
   "outputs": [
    {
     "name": "stdout",
     "output_type": "stream",
     "text": [
      "xxx AUC = 0.524945862533\n"
     ]
    }
   ],
   "source": [
    "print(\"xxx\", \"AUC =\", roc_auc_score(y_test, predict))"
   ]
  },
  {
   "cell_type": "code",
   "execution_count": null,
   "metadata": {
    "collapsed": true,
    "deletable": true,
    "editable": true
   },
   "outputs": [],
   "source": []
  }
 ],
 "metadata": {
  "kernelspec": {
   "display_name": "Python 3",
   "language": "python",
   "name": "python3"
  },
  "language_info": {
   "codemirror_mode": {
    "name": "ipython",
    "version": 3
   },
   "file_extension": ".py",
   "mimetype": "text/x-python",
   "name": "python",
   "nbconvert_exporter": "python",
   "pygments_lexer": "ipython3",
   "version": "3.5.2"
  }
 },
 "nbformat": 4,
 "nbformat_minor": 2
}
