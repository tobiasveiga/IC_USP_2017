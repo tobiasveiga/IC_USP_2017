{
 "cells": [
  {
   "cell_type": "code",
   "execution_count": 5,
   "metadata": {},
   "outputs": [],
   "source": [
    "import numpy as np"
   ]
  },
  {
   "cell_type": "code",
   "execution_count": 2,
   "metadata": {},
   "outputs": [],
   "source": [
    "blk_vi = '''\n",
    "Experiment [0] [1]\n",
    " > ExG_mean \t Val vs Test (MAc) = 0.951 vs 0.870\n",
    " > ExGR_mean \t Val vs Test (MAc) = 0.938 vs 0.909\n",
    " > CIVE_mean \t Val vs Test (MAc) = 0.951 vs 0.884\n",
    " > VEG_mean \t Val vs Test (MAc) = 0.951 vs 0.889\n",
    " > WI_mean \t Val vs Test (MAc) = 0.937 vs 0.689\n",
    " > NGRDI_mean \t Val vs Test (MAc) = 0.909 vs 0.907\n",
    "Experiment [1] [0]\n",
    " > ExG_mean \t Val vs Test (MAc) = 0.922 vs 0.962\n",
    " > ExGR_mean \t Val vs Test (MAc) = 0.910 vs 0.955\n",
    " > CIVE_mean \t Val vs Test (MAc) = 0.921 vs 0.963\n",
    " > VEG_mean \t Val vs Test (MAc) = 0.921 vs 0.964\n",
    " > WI_mean \t Val vs Test (MAc) = 0.917 vs 0.947\n",
    " > NGRDI_mean \t Val vs Test (MAc) = 0.886 vs 0.927\n",
    "Experiment [0, 1] [2]\n",
    " > ExG_mean \t Val vs Test (MAc) = 0.935 vs 0.733\n",
    " > ExGR_mean \t Val vs Test (MAc) = 0.922 vs 0.806\n",
    " > CIVE_mean \t Val vs Test (MAc) = 0.935 vs 0.738\n",
    " > VEG_mean \t Val vs Test (MAc) = 0.935 vs 0.748\n",
    " > WI_mean \t Val vs Test (MAc) = 0.912 vs 0.690\n",
    " > NGRDI_mean \t Val vs Test (MAc) = 0.890 vs 0.853\n",
    "Experiment [2] [0, 1]\n",
    " > ExG_mean \t Val vs Test (MAc) = 0.773 vs 0.901\n",
    " > ExGR_mean \t Val vs Test (MAc) = 0.812 vs 0.926\n",
    " > CIVE_mean \t Val vs Test (MAc) = 0.777 vs 0.899\n",
    " > VEG_mean \t Val vs Test (MAc) = 0.783 vs 0.898\n",
    " > WI_mean \t Val vs Test (MAc) = 0.670 vs 0.891\n",
    " > NGRDI_mean \t Val vs Test (MAc) = 0.842 vs 0.932\n",
    "'''"
   ]
  },
  {
   "cell_type": "code",
   "execution_count": 3,
   "metadata": {},
   "outputs": [],
   "source": [
    "blk_ensem = '''\n",
    "Experiment [0] [1]\n",
    " > 42 iterations \t Val vs Test (MAc) = 0.906 vs 0.834\n",
    " > 86 iterations \t Val vs Test (MAc) = 0.968 vs 0.830\n",
    " > 16 iterations \t Val vs Test (MAc) = 0.938 vs 0.782\n",
    " > 94 iterations \t Val vs Test (MAc) = 0.944 vs 0.752\n",
    " > 16 iterations \t Val vs Test (MAc) = 0.951 vs 0.876\n",
    "Experiment [1] [0]\n",
    " > 28 iterations \t Val vs Test (MAc) = 0.895 vs 0.827\n",
    " > 41 iterations \t Val vs Test (MAc) = 0.913 vs 0.910\n",
    " > 31 iterations \t Val vs Test (MAc) = 0.928 vs 0.942\n",
    " > 43 iterations \t Val vs Test (MAc) = 0.925 vs 0.944\n",
    " > 29 iterations \t Val vs Test (MAc) = 0.944 vs 0.938\n",
    "Experiment [0, 1] [2]\n",
    " > 33 iterations \t Val vs Test (MAc) = 0.934 vs 0.725\n",
    " > 37 iterations \t Val vs Test (MAc) = 0.954 vs 0.727\n",
    " > 48 iterations \t Val vs Test (MAc) = 0.956 vs 0.725\n",
    " > 33 iterations \t Val vs Test (MAc) = 0.935 vs 0.724\n",
    " > 77 iterations \t Val vs Test (MAc) = 0.945 vs 0.723\n",
    "Experiment [2] [0, 1]\n",
    " > 60 iterations \t Val vs Test (MAc) = 0.900 vs 0.924\n",
    " > 59 iterations \t Val vs Test (MAc) = 0.959 vs 0.910\n",
    " > 27 iterations \t Val vs Test (MAc) = 0.941 vs 0.905\n",
    " > 159 iterations \t Val vs Test (MAc) = 0.843 vs 0.914\n",
    " > 83 iterations \t Val vs Test (MAc) = 0.931 vs 0.930\n",
    "'''"
   ]
  },
  {
   "cell_type": "code",
   "execution_count": 4,
   "metadata": {},
   "outputs": [],
   "source": [
    "blk_aug = '''\n",
    "Experiment [0] [1]\n",
    " > 26 iterations \t Val vs Test (MAc) = 0.948 vs 0.621\n",
    " > 4 iterations \t Val vs Test (MAc) = 0.976 vs 0.804\n",
    " > 42 iterations \t Val vs Test (MAc) = 0.960 vs 0.850\n",
    " > 35 iterations \t Val vs Test (MAc) = 0.984 vs 0.864\n",
    " > 25 iterations \t Val vs Test (MAc) = 0.969 vs 0.652\n",
    "Experiment [1] [0]\n",
    " > 39 iterations \t Val vs Test (MAc) = 0.925 vs 0.954\n",
    " > 113 iterations \t Val vs Test (MAc) = 0.932 vs 0.947\n",
    " > 31 iterations \t Val vs Test (MAc) = 0.917 vs 0.955\n",
    " > 38 iterations \t Val vs Test (MAc) = 0.933 vs 0.956\n",
    " > 23 iterations \t Val vs Test (MAc) = 0.926 vs 0.957\n",
    "Experiment [0, 1] [2]\n",
    " > 12 iterations \t Val vs Test (MAc) = 0.925 vs 0.722\n",
    " > 13 iterations \t Val vs Test (MAc) = 0.922 vs 0.715\n",
    " > 29 iterations \t Val vs Test (MAc) = 0.925 vs 0.718\n",
    " > 33 iterations \t Val vs Test (MAc) = 0.922 vs 0.716\n",
    " > 26 iterations \t Val vs Test (MAc) = 0.902 vs 0.708\n",
    "Experiment [2] [0, 1]\n",
    " > 12 iterations \t Val vs Test (MAc) = 0.895 vs 0.866\n",
    " > 3 iterations \t Val vs Test (MAc) = 0.968 vs 0.898\n",
    " > 5 iterations \t Val vs Test (MAc) = 0.801 vs 0.906\n",
    " > 46 iterations \t Val vs Test (MAc) = 0.856 vs 0.915\n",
    " > 19 iterations \t Val vs Test (MAc) = 0.855 vs 0.890\n",
    "'''"
   ]
  },
  {
   "cell_type": "code",
   "execution_count": 29,
   "metadata": {},
   "outputs": [
    {
     "name": "stdout",
     "output_type": "stream",
     "text": [
      "0.870 \n",
      "0.962 \n",
      "0.733 \n",
      "0.932 \n"
     ]
    }
   ],
   "source": [
    "r = []\n",
    "for i, l in enumerate(blk_vi.split('\\n')[1:-1]):\n",
    "#     print(i, i % 6, l)\n",
    "    if i % 7 == 0:\n",
    "        continue\n",
    "    temp = l.split()\n",
    "    r.append((float(temp[-3]), float(temp[-1])))\n",
    "    \n",
    "best_r = []\n",
    "for i in range(0, len(r), 6):\n",
    "    best_r.append(max(r[i : i+6], key = lambda x : x[0]))\n",
    "best_r\n",
    "\n",
    "for l in best_r:\n",
    "    print('%.3f ' % l[1])"
   ]
  },
  {
   "cell_type": "code",
   "execution_count": 30,
   "metadata": {},
   "outputs": [
    {
     "name": "stdout",
     "output_type": "stream",
     "text": [
      "0.817 $\\pm$ 0.040\n",
      "0.864 $\\pm$ 0.098\n",
      "0.818 $\\pm$ 0.095\n",
      "0.922 $\\pm$ 0.008\n"
     ]
    }
   ],
   "source": [
    "r = []\n",
    "for i, l in enumerate(blk_ensem.split('\\n')[1:-1]):\n",
    "#     print(i, i % 6, l)\n",
    "    if i % 6 == 0:\n",
    "        continue\n",
    "    temp = l.split()\n",
    "    r.append((float(temp[-3]), float(temp[-1])))\n",
    "    \n",
    "best_r = []\n",
    "for i in range(0, len(r), 6):\n",
    "    a = np.array(r[i : i+6])\n",
    "    vmean, vstd = a[:, 0].mean(), a[:, 0].std()\n",
    "    tmean, tstd = a[:, 1].mean(), a[:, 1].std()\n",
    "    best_r.append((vmean, vstd, tmean, tstd))\n",
    "\n",
    "for l in best_r:\n",
    "    print('%.3f $\\pm$ %.3f'%(l[2], l[3]))"
   ]
  },
  {
   "cell_type": "code",
   "execution_count": 31,
   "metadata": {},
   "outputs": [
    {
     "name": "stdout",
     "output_type": "stream",
     "text": [
      "0.791 $\\pm$ 0.118\n",
      "0.875 $\\pm$ 0.111\n",
      "0.802 $\\pm$ 0.089\n",
      "0.903 $\\pm$ 0.013\n"
     ]
    }
   ],
   "source": [
    "r = []\n",
    "for i, l in enumerate(blk_aug.split('\\n')[1:-1]):\n",
    "#     print(i, i % 6, l)\n",
    "    if i % 6 == 0:\n",
    "        continue\n",
    "    temp = l.split()\n",
    "    r.append((float(temp[-3]), float(temp[-1])))\n",
    "    \n",
    "best_r = []\n",
    "for i in range(0, len(r), 6):\n",
    "    a = np.array(r[i : i+6])\n",
    "    vmean, vstd = a[:, 0].mean(), a[:, 0].std()\n",
    "    tmean, tstd = a[:, 1].mean(), a[:, 1].std()\n",
    "    best_r.append((vmean, vstd, tmean, tstd))\n",
    "\n",
    "for l in best_r:\n",
    "    print('%.3f $\\pm$ %.3f'%(l[2], l[3]))"
   ]
  },
  {
   "cell_type": "code",
   "execution_count": null,
   "metadata": {},
   "outputs": [],
   "source": []
  },
  {
   "cell_type": "code",
   "execution_count": null,
   "metadata": {},
   "outputs": [],
   "source": []
  },
  {
   "cell_type": "code",
   "execution_count": 38,
   "metadata": {},
   "outputs": [],
   "source": [
    "pix_vi = '''\n",
    "Experiment [0] [1]\n",
    " > ExG             Val vs Test (MAc) = 0.871 vs 0.821\n",
    " > ExGR            Val vs Test (MAc) = 0.839 vs 0.838\n",
    " > CIVE            Val vs Test (MAc) = 0.868 vs 0.824\n",
    " > VEG             Val vs Test (MAc) = 0.866 vs 0.828\n",
    " > WI              Val vs Test (MAc) = 0.896 vs 0.695\n",
    " > NGRDI           Val vs Test (MAc) = 0.810 vs 0.826\n",
    "Experiment [1] [0]\n",
    " > ExG             Val vs Test (MAc) = 0.865 vs 0.903\n",
    " > ExGR            Val vs Test (MAc) = 0.829 vs 0.841\n",
    " > CIVE            Val vs Test (MAc) = 0.862 vs 0.897\n",
    " > VEG             Val vs Test (MAc) = 0.859 vs 0.894\n",
    " > WI              Val vs Test (MAc) = 0.885 vs 0.938\n",
    " > NGRDI           Val vs Test (MAc) = 0.797 vs 0.795\n",
    "Experiment [0, 1] [2]\n",
    " > ExG             Val vs Test (MAc) = 0.868 vs 0.746\n",
    " > ExGR            Val vs Test (MAc) = 0.827 vs 0.790\n",
    " > CIVE            Val vs Test (MAc) = 0.866 vs 0.750\n",
    " > VEG             Val vs Test (MAc) = 0.862 vs 0.756\n",
    " > WI              Val vs Test (MAc) = 0.886 vs 0.689\n",
    " > NGRDI           Val vs Test (MAc) = 0.790 vs 0.793\n",
    "Experiment [2] [0, 1]\n",
    " > ExG             Val vs Test (MAc) = 0.735 vs 0.888\n",
    " > ExGR            Val vs Test (MAc) = 0.763 vs 0.872\n",
    " > CIVE            Val vs Test (MAc) = 0.738 vs 0.888\n",
    " > VEG             Val vs Test (MAc) = 0.742 vs 0.888\n",
    " > WI              Val vs Test (MAc) = 0.646 vs 0.883\n",
    " > NGRDI           Val vs Test (MAc) = 0.774 vs 0.828\n",
    "'''"
   ]
  },
  {
   "cell_type": "code",
   "execution_count": 39,
   "metadata": {},
   "outputs": [],
   "source": [
    "pix_ensem = '''\n",
    "Experiment [0] [1]\n",
    " > 77 iterations \t Val vs Test (MAc) = 0.899 vs 0.732\n",
    " > 37 iterations \t Val vs Test (MAc) = 0.922 vs 0.824\n",
    " > 11 iterations \t Val vs Test (MAc) = 0.946 vs 0.821\n",
    " > 2 iterations \t Val vs Test (MAc) = 0.919 vs 0.753\n",
    " > 43 iterations \t Val vs Test (MAc) = 0.905 vs 0.836\n",
    "Experiment [1] [0]\n",
    " > 248 iterations \t Val vs Test (MAc) = 0.888 vs 0.927\n",
    " > 249 iterations \t Val vs Test (MAc) = 0.902 vs 0.926\n",
    " > 246 iterations \t Val vs Test (MAc) = 0.884 vs 0.927\n",
    " > 249 iterations \t Val vs Test (MAc) = 0.866 vs 0.926\n",
    " > 248 iterations \t Val vs Test (MAc) = 0.878 vs 0.929\n",
    "Experiment [0, 1] [2]\n",
    " > 62 iterations \t Val vs Test (MAc) = 0.900 vs 0.707\n",
    " > 7 iterations \t Val vs Test (MAc) = 0.858 vs 0.704\n",
    " > 3 iterations \t Val vs Test (MAc) = 0.831 vs 0.681\n",
    " > 44 iterations \t Val vs Test (MAc) = 0.934 vs 0.694\n",
    " > 7 iterations \t Val vs Test (MAc) = 0.830 vs 0.698\n",
    "Experiment [2] [0, 1]\n",
    " > 4 iterations \t Val vs Test (MAc) = 0.714 vs 0.814\n",
    " > 2 iterations \t Val vs Test (MAc) = 0.768 vs 0.704\n",
    " > 14 iterations \t Val vs Test (MAc) = 0.710 vs 0.825\n",
    " > 48 iterations \t Val vs Test (MAc) = 0.670 vs 0.840\n",
    " > 8 iterations \t Val vs Test (MAc) = 0.858 vs 0.768\n",
    "'''"
   ]
  },
  {
   "cell_type": "code",
   "execution_count": 40,
   "metadata": {},
   "outputs": [
    {
     "name": "stdout",
     "output_type": "stream",
     "text": [
      "0.695 \n",
      "0.938 \n",
      "0.689 \n",
      "0.828 \n"
     ]
    }
   ],
   "source": [
    "r = []\n",
    "for i, l in enumerate(pix_vi.split('\\n')[1:-1]):\n",
    "#     print(i, i % 6, l)\n",
    "    if i % 7 == 0:\n",
    "        continue\n",
    "    temp = l.split()\n",
    "    r.append((float(temp[-3]), float(temp[-1])))\n",
    "    \n",
    "best_r = []\n",
    "for i in range(0, len(r), 6):\n",
    "    best_r.append(max(r[i : i+6], key = lambda x : x[0]))\n",
    "best_r\n",
    "\n",
    "for l in best_r:\n",
    "    print('%.3f ' % l[1])"
   ]
  },
  {
   "cell_type": "code",
   "execution_count": 41,
   "metadata": {},
   "outputs": [
    {
     "name": "stdout",
     "output_type": "stream",
     "text": [
      "0.805 \n",
      "0.878 \n",
      "0.754 \n",
      "0.875 \n"
     ]
    }
   ],
   "source": [
    "r = []\n",
    "for i, l in enumerate(pix_vi.split('\\n')[1:-1]):\n",
    "#     print(i, i % 6, l)\n",
    "    if i % 7 == 0:\n",
    "        continue\n",
    "    temp = l.split()\n",
    "    r.append((float(temp[-3]), float(temp[-1])))\n",
    "    \n",
    "best_r = []\n",
    "for i in range(0, len(r), 6):\n",
    "    best_r.append(np.mean(np.array(r)[i : i+6, 1]))\n",
    "best_r\n",
    "\n",
    "for l in best_r:\n",
    "    print('%.3f ' % l)"
   ]
  },
  {
   "cell_type": "code",
   "execution_count": 42,
   "metadata": {},
   "outputs": [
    {
     "name": "stdout",
     "output_type": "stream",
     "text": [
      "0.816 $\\pm$ 0.063\n",
      "0.853 $\\pm$ 0.104\n",
      "0.736 $\\pm$ 0.060\n",
      "0.804 $\\pm$ 0.036\n"
     ]
    }
   ],
   "source": [
    "r = []\n",
    "for i, l in enumerate(pix_ensem.split('\\n')[1:-1]):\n",
    "#     print(i, i % 6, l)\n",
    "    if i % 6 == 0:\n",
    "        continue\n",
    "    temp = l.split()\n",
    "    r.append((float(temp[-3]), float(temp[-1])))\n",
    "    \n",
    "best_r = []\n",
    "for i in range(0, len(r), 6):\n",
    "    a = np.array(r[i : i+6])\n",
    "    vmean, vstd = a[:, 0].mean(), a[:, 0].std()\n",
    "    tmean, tstd = a[:, 1].mean(), a[:, 1].std()\n",
    "    best_r.append((vmean, vstd, tmean, tstd))\n",
    "\n",
    "for l in best_r:\n",
    "    print('%.3f $\\pm$ %.3f'%(l[2], l[3]))"
   ]
  },
  {
   "cell_type": "code",
   "execution_count": null,
   "metadata": {},
   "outputs": [],
   "source": []
  }
 ],
 "metadata": {
  "kernelspec": {
   "display_name": "Python 3",
   "language": "python",
   "name": "python3"
  },
  "language_info": {
   "codemirror_mode": {
    "name": "ipython",
    "version": 3
   },
   "file_extension": ".py",
   "mimetype": "text/x-python",
   "name": "python",
   "nbconvert_exporter": "python",
   "pygments_lexer": "ipython3",
   "version": "3.7.2"
  }
 },
 "nbformat": 4,
 "nbformat_minor": 2
}
