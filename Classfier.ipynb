{
 "cells": [
  {
   "cell_type": "code",
   "execution_count": 1,
   "metadata": {
    "collapsed": true,
    "deletable": true,
    "editable": true
   },
   "outputs": [],
   "source": [
    "from os import listdir\n",
    "from sys import argv\n",
    "\n",
    "import numpy as np\n",
    "import matplotlib.pyplot as plt\n",
    "%matplotlib inline\n",
    "from sklearn.metrics import f1_score, roc_curve, roc_auc_score, precision_recall_curve\n",
    "\n",
    "from sklearn.ensemble import RandomForestClassifier as RFC\n",
    "from sklearn.decomposition import PCA\n",
    "\n",
    "from sklearn.model_selection import train_test_split\n",
    "import xgboost as xgb\n",
    "\n",
    "from sklearn.feature_selection import SelectPercentile\n",
    "from sklearn.feature_selection import f_classif,chi2\n",
    "from sklearn.preprocessing import Binarizer, scale\n",
    "\n",
    "from sklearn.svm import SVC\n",
    "\n",
    "import time\n",
    "\n",
    "from sklearn.externals import joblib"
   ]
  },
  {
   "cell_type": "code",
   "execution_count": 34,
   "metadata": {
    "collapsed": false,
    "deletable": true,
    "editable": true
   },
   "outputs": [],
   "source": [
    "argv = [3, \"imgs_orig\", \"gts_orig\"]\n",
    "\n",
    "path_imgs = sorted([ argv[1] + '/' + i for i in listdir(argv[1]) ])\n",
    "path_gts = sorted([ argv[2] + '/' + i for i in listdir(argv[2]) ])\n",
    "\n",
    "names_VI = [\"ExG\", \"ExGR\", \"CIVE\", \"VEG\", \"WI\", \"NGRDI\", \"PCA0\", \"PCA1\"]\n",
    "\n",
    "fpr = [np.array([0]) for i in range(6)]\n",
    "tpr = [np.array([0]) for i in range(6)]\n",
    "fpr2 = [np.array([0]) for i in range(6)]\n",
    "tpr2 = [np.array([0]) for i in range(6)]"
   ]
  },
  {
   "cell_type": "code",
   "execution_count": 35,
   "metadata": {
    "collapsed": true,
    "deletable": true,
    "editable": true
   },
   "outputs": [],
   "source": [
    "GT = np.load(\"VI_orig/Mini/GT.npy\")"
   ]
  },
  {
   "cell_type": "code",
   "execution_count": 24,
   "metadata": {
    "collapsed": false,
    "deletable": true,
    "editable": true
   },
   "outputs": [],
   "source": [
    "def gen_mat(features1, features2, features3, base, n_images):\n",
    "    \n",
    "    '''\n",
    "    Função que gera a matriz com todas as features.\n",
    "    \n",
    "    Parâmetros:\n",
    "    features1 - Lista de índices que correspondem as VIs sem informação contextual\n",
    "    features2 - Lista de índides que correspondem as VIs geradas com a função neighbMin\n",
    "    features3 - Lista de índices que correspondem as VIs geradas com a função neighbMax\n",
    "    \n",
    "    Os índices referidos variam de 0 a 7 e corresponem a seguinte lista:\n",
    "    [\"ExG\", \"ExGR\", \"CIVE\", \"VEG\", \"WI\", \"NGRDI\", \"PCA0\", \"PCA1\"]\n",
    "    \n",
    "    Retorno:\n",
    "    X - a matriz com todas as features escolhidas\n",
    "    '''\n",
    "    \n",
    "    n_features = len(features1) + len(features2) + len(features3)\n",
    "    \n",
    "    X = np.zeros((512*512*n_images, n_features), dtype = float)\n",
    "    \n",
    "    s = 0\n",
    "    for i in range(len(features1)):\n",
    "        X[:, i + s] = np.load(base + \"Mini/\" + names_VI[features1[i]] + \".npy\")\n",
    "        \n",
    "    s += len(features1)\n",
    "    for i in range(len(features2)):\n",
    "        X[:, i + s] = np.load(base + \"MiniNBless/\" + names_VI[features2[i]] + \".npy\")\n",
    "        \n",
    "    s += len(features2)\n",
    "    for i in range(len(features3)):\n",
    "        X[:, i + s] = np.load(base + \"MiniNBmax/\" + names_VI[features3[i]] + \".npy\")\n",
    "    \n",
    "    return X\n",
    "    "
   ]
  },
  {
   "cell_type": "code",
   "execution_count": 36,
   "metadata": {
    "collapsed": false,
    "deletable": true,
    "editable": true
   },
   "outputs": [],
   "source": [
    "X = gen_mat((1, 5, 6), (0, 2 , 3, 4, 6), (5, 6), \"VI_orig/\", len(path_imgs))"
   ]
  },
  {
   "cell_type": "code",
   "execution_count": 39,
   "metadata": {
    "collapsed": false,
    "deletable": true,
    "editable": true
   },
   "outputs": [
    {
     "name": "stdout",
     "output_type": "stream",
     "text": [
      "(9437184, 12)\n",
      "113246159\n",
      "(9437184,)\n",
      "6706552\n"
     ]
    }
   ],
   "source": [
    "print(X.shape)\n",
    "print(np.count_nonzero(X))\n",
    "print(GT.shape)\n",
    "print(np.count_nonzero(GT))"
   ]
  },
  {
   "cell_type": "markdown",
   "metadata": {
    "deletable": true,
    "editable": true
   },
   "source": [
    "# PCA"
   ]
  },
  {
   "cell_type": "code",
   "execution_count": 7,
   "metadata": {
    "collapsed": false,
    "deletable": true,
    "editable": true
   },
   "outputs": [],
   "source": [
    "pca = PCA(n_components=2)\n",
    "X_pca = pca.fit_transform(X)"
   ]
  },
  {
   "cell_type": "code",
   "execution_count": 38,
   "metadata": {
    "collapsed": true,
    "deletable": true,
    "editable": true
   },
   "outputs": [],
   "source": [
    "X = np.column_stack((X, X_pca[:,0]))\n",
    "X = np.column_stack((X, X_pca[:,1]))"
   ]
  },
  {
   "cell_type": "markdown",
   "metadata": {
    "deletable": true,
    "editable": true
   },
   "source": [
    "# Shuffle"
   ]
  },
  {
   "cell_type": "code",
   "execution_count": 40,
   "metadata": {
    "collapsed": true,
    "deletable": true,
    "editable": true
   },
   "outputs": [],
   "source": [
    "X = np.column_stack((X, GT))"
   ]
  },
  {
   "cell_type": "code",
   "execution_count": 41,
   "metadata": {
    "collapsed": false,
    "deletable": true,
    "editable": true,
    "scrolled": true
   },
   "outputs": [
    {
     "name": "stdout",
     "output_type": "stream",
     "text": [
      "(9437184, 13)\n",
      "119952711\n"
     ]
    }
   ],
   "source": [
    "print(X.shape)\n",
    "print(np.count_nonzero(X))"
   ]
  },
  {
   "cell_type": "code",
   "execution_count": 42,
   "metadata": {
    "collapsed": true,
    "deletable": true,
    "editable": true
   },
   "outputs": [],
   "source": [
    "np.random.shuffle(X)"
   ]
  },
  {
   "cell_type": "code",
   "execution_count": 43,
   "metadata": {
    "collapsed": false,
    "deletable": true,
    "editable": true
   },
   "outputs": [
    {
     "name": "stdout",
     "output_type": "stream",
     "text": [
      "(9437184, 12)\n",
      "113246159\n",
      "(9437184,)\n",
      "6706552\n"
     ]
    }
   ],
   "source": [
    "GT = X[:,-1]\n",
    "X = X[:,:-1]\n",
    "print(X.shape)\n",
    "print(np.count_nonzero(X))\n",
    "print(GT.shape)\n",
    "print(np.count_nonzero(GT))"
   ]
  },
  {
   "cell_type": "markdown",
   "metadata": {},
   "source": [
    "# Train / Validation"
   ]
  },
  {
   "cell_type": "code",
   "execution_count": null,
   "metadata": {
    "collapsed": true
   },
   "outputs": [],
   "source": [
    "X_train, X_test = np.split(X, [512*512*22], axis = 0)\n",
    "y_train, y_test = np.split(GT, [512*512*22])\n",
    "\n",
    "print(X_train.shape)\n",
    "print(y_train.shape)\n",
    "print(X_test.shape)\n",
    "print(y_test.shape)\n",
    "print(np.count_nonzero(X_train))\n",
    "print(np.count_nonzero(y_train))\n",
    "print(np.count_nonzero(X_test))\n",
    "print(np.count_nonzero(y_test))"
   ]
  },
  {
   "cell_type": "markdown",
   "metadata": {
    "deletable": true,
    "editable": true
   },
   "source": [
    "# Treino"
   ]
  },
  {
   "cell_type": "code",
   "execution_count": 45,
   "metadata": {
    "collapsed": false,
    "deletable": true,
    "editable": true,
    "scrolled": true
   },
   "outputs": [
    {
     "name": "stdout",
     "output_type": "stream",
     "text": [
      "[0]\tvalidation_0-auc:0.55938\tvalidation_1-auc:0.558757\n",
      "Multiple eval metrics have been passed: 'validation_1-auc' will be used for early stopping.\n",
      "\n",
      "Will train until validation_1-auc hasn't improved in 20 rounds.\n",
      "[1]\tvalidation_0-auc:0.783743\tvalidation_1-auc:0.783718\n",
      "[2]\tvalidation_0-auc:0.791321\tvalidation_1-auc:0.791513\n",
      "[3]\tvalidation_0-auc:0.803971\tvalidation_1-auc:0.804335\n",
      "[4]\tvalidation_0-auc:0.822733\tvalidation_1-auc:0.822978\n",
      "[5]\tvalidation_0-auc:0.828951\tvalidation_1-auc:0.829159\n",
      "[6]\tvalidation_0-auc:0.828383\tvalidation_1-auc:0.828589\n",
      "[7]\tvalidation_0-auc:0.830559\tvalidation_1-auc:0.830766\n",
      "[8]\tvalidation_0-auc:0.830526\tvalidation_1-auc:0.830741\n",
      "[9]\tvalidation_0-auc:0.83027\tvalidation_1-auc:0.830484\n",
      "[10]\tvalidation_0-auc:0.83044\tvalidation_1-auc:0.830658\n",
      "[11]\tvalidation_0-auc:0.828745\tvalidation_1-auc:0.828969\n",
      "[12]\tvalidation_0-auc:0.827237\tvalidation_1-auc:0.82747\n",
      "[13]\tvalidation_0-auc:0.828216\tvalidation_1-auc:0.828456\n",
      "[14]\tvalidation_0-auc:0.828074\tvalidation_1-auc:0.828304\n",
      "[15]\tvalidation_0-auc:0.827918\tvalidation_1-auc:0.828135\n",
      "[16]\tvalidation_0-auc:0.827342\tvalidation_1-auc:0.827545\n",
      "[17]\tvalidation_0-auc:0.828946\tvalidation_1-auc:0.829174\n",
      "[18]\tvalidation_0-auc:0.828784\tvalidation_1-auc:0.829007\n",
      "[19]\tvalidation_0-auc:0.83035\tvalidation_1-auc:0.830566\n",
      "[20]\tvalidation_0-auc:0.830229\tvalidation_1-auc:0.830441\n",
      "[21]\tvalidation_0-auc:0.830598\tvalidation_1-auc:0.830809\n",
      "[22]\tvalidation_0-auc:0.830604\tvalidation_1-auc:0.830815\n",
      "[23]\tvalidation_0-auc:0.830533\tvalidation_1-auc:0.830737\n",
      "[24]\tvalidation_0-auc:0.830437\tvalidation_1-auc:0.830636\n",
      "[25]\tvalidation_0-auc:0.8313\tvalidation_1-auc:0.831505\n",
      "[26]\tvalidation_0-auc:0.831783\tvalidation_1-auc:0.831996\n",
      "[27]\tvalidation_0-auc:0.831275\tvalidation_1-auc:0.831494\n",
      "[28]\tvalidation_0-auc:0.831532\tvalidation_1-auc:0.831757\n",
      "[29]\tvalidation_0-auc:0.831338\tvalidation_1-auc:0.831565\n",
      "[30]\tvalidation_0-auc:0.832699\tvalidation_1-auc:0.832916\n",
      "[31]\tvalidation_0-auc:0.832471\tvalidation_1-auc:0.832687\n",
      "[32]\tvalidation_0-auc:0.832371\tvalidation_1-auc:0.832587\n",
      "[33]\tvalidation_0-auc:0.832236\tvalidation_1-auc:0.83245\n",
      "[34]\tvalidation_0-auc:0.832642\tvalidation_1-auc:0.832852\n",
      "[35]\tvalidation_0-auc:0.832441\tvalidation_1-auc:0.832662\n",
      "[36]\tvalidation_0-auc:0.832345\tvalidation_1-auc:0.832564\n",
      "[37]\tvalidation_0-auc:0.832759\tvalidation_1-auc:0.83298\n",
      "[38]\tvalidation_0-auc:0.833049\tvalidation_1-auc:0.833269\n",
      "[39]\tvalidation_0-auc:0.833404\tvalidation_1-auc:0.833628\n",
      "[40]\tvalidation_0-auc:0.833316\tvalidation_1-auc:0.833538\n",
      "[41]\tvalidation_0-auc:0.833248\tvalidation_1-auc:0.833469\n",
      "[42]\tvalidation_0-auc:0.833539\tvalidation_1-auc:0.833763\n",
      "[43]\tvalidation_0-auc:0.833477\tvalidation_1-auc:0.833699\n",
      "[44]\tvalidation_0-auc:0.833494\tvalidation_1-auc:0.833717\n",
      "[45]\tvalidation_0-auc:0.833455\tvalidation_1-auc:0.833677\n",
      "[46]\tvalidation_0-auc:0.833659\tvalidation_1-auc:0.833885\n",
      "[47]\tvalidation_0-auc:0.833857\tvalidation_1-auc:0.834082\n",
      "[48]\tvalidation_0-auc:0.834045\tvalidation_1-auc:0.834271\n",
      "[49]\tvalidation_0-auc:0.834212\tvalidation_1-auc:0.834439\n",
      "[50]\tvalidation_0-auc:0.834177\tvalidation_1-auc:0.834401\n",
      "[51]\tvalidation_0-auc:0.834116\tvalidation_1-auc:0.834339\n",
      "[52]\tvalidation_0-auc:0.834118\tvalidation_1-auc:0.83434\n",
      "[53]\tvalidation_0-auc:0.835402\tvalidation_1-auc:0.835629\n",
      "[54]\tvalidation_0-auc:0.835376\tvalidation_1-auc:0.835603\n",
      "[55]\tvalidation_0-auc:0.835569\tvalidation_1-auc:0.835797\n",
      "[56]\tvalidation_0-auc:0.835541\tvalidation_1-auc:0.835768\n",
      "[57]\tvalidation_0-auc:0.835526\tvalidation_1-auc:0.835752\n",
      "[58]\tvalidation_0-auc:0.83569\tvalidation_1-auc:0.835918\n",
      "[59]\tvalidation_0-auc:0.835676\tvalidation_1-auc:0.835905\n",
      "[60]\tvalidation_0-auc:0.835698\tvalidation_1-auc:0.835927\n",
      "[61]\tvalidation_0-auc:0.835673\tvalidation_1-auc:0.8359\n",
      "[62]\tvalidation_0-auc:0.835658\tvalidation_1-auc:0.835887\n",
      "[63]\tvalidation_0-auc:0.835649\tvalidation_1-auc:0.835877\n",
      "[64]\tvalidation_0-auc:0.835632\tvalidation_1-auc:0.835861\n",
      "[65]\tvalidation_0-auc:0.835829\tvalidation_1-auc:0.836059\n",
      "[66]\tvalidation_0-auc:0.835812\tvalidation_1-auc:0.836041\n",
      "[67]\tvalidation_0-auc:0.835977\tvalidation_1-auc:0.836207\n",
      "[68]\tvalidation_0-auc:0.835998\tvalidation_1-auc:0.83623\n",
      "[69]\tvalidation_0-auc:0.836132\tvalidation_1-auc:0.836364\n",
      "[70]\tvalidation_0-auc:0.836208\tvalidation_1-auc:0.836443\n",
      "[71]\tvalidation_0-auc:0.836277\tvalidation_1-auc:0.836514\n",
      "[72]\tvalidation_0-auc:0.836298\tvalidation_1-auc:0.836537\n",
      "[73]\tvalidation_0-auc:0.836315\tvalidation_1-auc:0.836555\n",
      "[74]\tvalidation_0-auc:0.836533\tvalidation_1-auc:0.836771\n",
      "[75]\tvalidation_0-auc:0.836625\tvalidation_1-auc:0.836864\n",
      "[76]\tvalidation_0-auc:0.836685\tvalidation_1-auc:0.836926\n",
      "[77]\tvalidation_0-auc:0.836686\tvalidation_1-auc:0.836927\n",
      "[78]\tvalidation_0-auc:0.836701\tvalidation_1-auc:0.836942\n",
      "[79]\tvalidation_0-auc:0.836734\tvalidation_1-auc:0.836975\n",
      "[80]\tvalidation_0-auc:0.837916\tvalidation_1-auc:0.83815\n",
      "[81]\tvalidation_0-auc:0.837923\tvalidation_1-auc:0.838156\n",
      "[82]\tvalidation_0-auc:0.837931\tvalidation_1-auc:0.838164\n",
      "[83]\tvalidation_0-auc:0.838022\tvalidation_1-auc:0.838256\n",
      "[84]\tvalidation_0-auc:0.838149\tvalidation_1-auc:0.838384\n",
      "[85]\tvalidation_0-auc:0.839176\tvalidation_1-auc:0.839403\n",
      "[86]\tvalidation_0-auc:0.839213\tvalidation_1-auc:0.83944\n",
      "[87]\tvalidation_0-auc:0.839262\tvalidation_1-auc:0.839488\n",
      "[88]\tvalidation_0-auc:0.839361\tvalidation_1-auc:0.839587\n",
      "[89]\tvalidation_0-auc:0.839347\tvalidation_1-auc:0.839575\n",
      "[90]\tvalidation_0-auc:0.839366\tvalidation_1-auc:0.839592\n",
      "[91]\tvalidation_0-auc:0.839444\tvalidation_1-auc:0.839671\n",
      "[92]\tvalidation_0-auc:0.839434\tvalidation_1-auc:0.839661\n",
      "[93]\tvalidation_0-auc:0.839449\tvalidation_1-auc:0.839675\n",
      "[94]\tvalidation_0-auc:0.839478\tvalidation_1-auc:0.839704\n",
      "[95]\tvalidation_0-auc:0.839526\tvalidation_1-auc:0.839752\n",
      "[96]\tvalidation_0-auc:0.839611\tvalidation_1-auc:0.839837\n",
      "[97]\tvalidation_0-auc:0.839687\tvalidation_1-auc:0.839913\n",
      "[98]\tvalidation_0-auc:0.839692\tvalidation_1-auc:0.839919\n",
      "[99]\tvalidation_0-auc:0.839712\tvalidation_1-auc:0.839939\n",
      "[100]\tvalidation_0-auc:0.839797\tvalidation_1-auc:0.840025\n",
      "[101]\tvalidation_0-auc:0.839824\tvalidation_1-auc:0.840052\n",
      "[102]\tvalidation_0-auc:0.83983\tvalidation_1-auc:0.840058\n",
      "[103]\tvalidation_0-auc:0.839864\tvalidation_1-auc:0.840093\n",
      "[104]\tvalidation_0-auc:0.839857\tvalidation_1-auc:0.840085\n",
      "[105]\tvalidation_0-auc:0.840747\tvalidation_1-auc:0.84097\n",
      "[106]\tvalidation_0-auc:0.840842\tvalidation_1-auc:0.841067\n",
      "[107]\tvalidation_0-auc:0.840908\tvalidation_1-auc:0.841134\n",
      "[108]\tvalidation_0-auc:0.840941\tvalidation_1-auc:0.841169\n",
      "[109]\tvalidation_0-auc:0.840959\tvalidation_1-auc:0.841186\n",
      "[110]\tvalidation_0-auc:0.841007\tvalidation_1-auc:0.841236\n",
      "[111]\tvalidation_0-auc:0.841054\tvalidation_1-auc:0.841285\n",
      "[112]\tvalidation_0-auc:0.84107\tvalidation_1-auc:0.841301\n",
      "[113]\tvalidation_0-auc:0.841067\tvalidation_1-auc:0.841299\n",
      "[114]\tvalidation_0-auc:0.841132\tvalidation_1-auc:0.841365\n",
      "[115]\tvalidation_0-auc:0.841148\tvalidation_1-auc:0.84138\n",
      "[116]\tvalidation_0-auc:0.841191\tvalidation_1-auc:0.841423\n",
      "[117]\tvalidation_0-auc:0.841201\tvalidation_1-auc:0.841434\n",
      "[118]\tvalidation_0-auc:0.841255\tvalidation_1-auc:0.841488\n",
      "[119]\tvalidation_0-auc:0.841272\tvalidation_1-auc:0.841505\n",
      "[120]\tvalidation_0-auc:0.842035\tvalidation_1-auc:0.842266\n",
      "[121]\tvalidation_0-auc:0.842684\tvalidation_1-auc:0.842915\n",
      "[122]\tvalidation_0-auc:0.842677\tvalidation_1-auc:0.842908\n",
      "[123]\tvalidation_0-auc:0.842791\tvalidation_1-auc:0.843024\n",
      "[124]\tvalidation_0-auc:0.842908\tvalidation_1-auc:0.84314\n",
      "[125]\tvalidation_0-auc:0.843119\tvalidation_1-auc:0.84335\n",
      "[126]\tvalidation_0-auc:0.843159\tvalidation_1-auc:0.84339\n",
      "[127]\tvalidation_0-auc:0.843237\tvalidation_1-auc:0.843468\n",
      "[128]\tvalidation_0-auc:0.843285\tvalidation_1-auc:0.843516\n",
      "[129]\tvalidation_0-auc:0.843863\tvalidation_1-auc:0.844091\n",
      "[130]\tvalidation_0-auc:0.843929\tvalidation_1-auc:0.844157\n",
      "[131]\tvalidation_0-auc:0.844433\tvalidation_1-auc:0.844655\n",
      "[132]\tvalidation_0-auc:0.844505\tvalidation_1-auc:0.844727\n",
      "[133]\tvalidation_0-auc:0.844561\tvalidation_1-auc:0.844784\n",
      "[134]\tvalidation_0-auc:0.8446\tvalidation_1-auc:0.844823\n",
      "[135]\tvalidation_0-auc:0.844595\tvalidation_1-auc:0.844818\n",
      "[136]\tvalidation_0-auc:0.844589\tvalidation_1-auc:0.844813\n",
      "[137]\tvalidation_0-auc:0.844586\tvalidation_1-auc:0.84481\n",
      "[138]\tvalidation_0-auc:0.844573\tvalidation_1-auc:0.844797\n",
      "[139]\tvalidation_0-auc:0.844986\tvalidation_1-auc:0.845203\n",
      "[140]\tvalidation_0-auc:0.845046\tvalidation_1-auc:0.845263\n",
      "[141]\tvalidation_0-auc:0.845134\tvalidation_1-auc:0.845351\n",
      "[142]\tvalidation_0-auc:0.845182\tvalidation_1-auc:0.845399\n",
      "[143]\tvalidation_0-auc:0.845169\tvalidation_1-auc:0.845387\n",
      "[144]\tvalidation_0-auc:0.845283\tvalidation_1-auc:0.8455\n",
      "[145]\tvalidation_0-auc:0.845344\tvalidation_1-auc:0.845562\n",
      "[146]\tvalidation_0-auc:0.845312\tvalidation_1-auc:0.845531\n",
      "[147]\tvalidation_0-auc:0.845303\tvalidation_1-auc:0.845522\n",
      "[148]\tvalidation_0-auc:0.845329\tvalidation_1-auc:0.845548\n",
      "[149]\tvalidation_0-auc:0.84565\tvalidation_1-auc:0.845862\n",
      "[150]\tvalidation_0-auc:0.845637\tvalidation_1-auc:0.84585\n",
      "[151]\tvalidation_0-auc:0.845719\tvalidation_1-auc:0.845932\n",
      "[152]\tvalidation_0-auc:0.845897\tvalidation_1-auc:0.846108\n",
      "[153]\tvalidation_0-auc:0.846\tvalidation_1-auc:0.846211\n",
      "[154]\tvalidation_0-auc:0.846018\tvalidation_1-auc:0.846229\n",
      "[155]\tvalidation_0-auc:0.845988\tvalidation_1-auc:0.846202\n",
      "[156]\tvalidation_0-auc:0.846153\tvalidation_1-auc:0.846365\n",
      "[157]\tvalidation_0-auc:0.846237\tvalidation_1-auc:0.846449\n",
      "[158]\tvalidation_0-auc:0.846555\tvalidation_1-auc:0.846761\n",
      "[159]\tvalidation_0-auc:0.846843\tvalidation_1-auc:0.847045\n",
      "[160]\tvalidation_0-auc:0.8468\tvalidation_1-auc:0.847006\n",
      "[161]\tvalidation_0-auc:0.846898\tvalidation_1-auc:0.847103\n",
      "[162]\tvalidation_0-auc:0.84687\tvalidation_1-auc:0.847076\n",
      "[163]\tvalidation_0-auc:0.846856\tvalidation_1-auc:0.847063\n",
      "[164]\tvalidation_0-auc:0.846823\tvalidation_1-auc:0.847032\n",
      "[165]\tvalidation_0-auc:0.84679\tvalidation_1-auc:0.847002\n",
      "[166]\tvalidation_0-auc:0.846808\tvalidation_1-auc:0.847019\n",
      "[167]\tvalidation_0-auc:0.84699\tvalidation_1-auc:0.8472\n",
      "[168]\tvalidation_0-auc:0.84711\tvalidation_1-auc:0.84732\n",
      "[169]\tvalidation_0-auc:0.847203\tvalidation_1-auc:0.847414\n",
      "[170]\tvalidation_0-auc:0.847215\tvalidation_1-auc:0.847425\n",
      "[171]\tvalidation_0-auc:0.847196\tvalidation_1-auc:0.847406\n",
      "[172]\tvalidation_0-auc:0.84718\tvalidation_1-auc:0.84739\n",
      "[173]\tvalidation_0-auc:0.847346\tvalidation_1-auc:0.847555\n",
      "[174]\tvalidation_0-auc:0.847336\tvalidation_1-auc:0.847545\n",
      "[175]\tvalidation_0-auc:0.847501\tvalidation_1-auc:0.847706\n",
      "[176]\tvalidation_0-auc:0.847537\tvalidation_1-auc:0.847745\n",
      "[177]\tvalidation_0-auc:0.847653\tvalidation_1-auc:0.847862\n",
      "[178]\tvalidation_0-auc:0.847663\tvalidation_1-auc:0.847871\n",
      "[179]\tvalidation_0-auc:0.847641\tvalidation_1-auc:0.847851\n",
      "[180]\tvalidation_0-auc:0.847623\tvalidation_1-auc:0.847834\n",
      "[181]\tvalidation_0-auc:0.847779\tvalidation_1-auc:0.847988\n",
      "[182]\tvalidation_0-auc:0.847855\tvalidation_1-auc:0.848064\n",
      "[183]\tvalidation_0-auc:0.848005\tvalidation_1-auc:0.848214\n",
      "[184]\tvalidation_0-auc:0.847986\tvalidation_1-auc:0.848196\n",
      "[185]\tvalidation_0-auc:0.848135\tvalidation_1-auc:0.848345\n",
      "[186]\tvalidation_0-auc:0.848231\tvalidation_1-auc:0.848442\n",
      "[187]\tvalidation_0-auc:0.848428\tvalidation_1-auc:0.848632\n",
      "[188]\tvalidation_0-auc:0.848554\tvalidation_1-auc:0.848755\n",
      "[189]\tvalidation_0-auc:0.848505\tvalidation_1-auc:0.848708\n",
      "[190]\tvalidation_0-auc:0.848483\tvalidation_1-auc:0.848686\n",
      "[191]\tvalidation_0-auc:0.848532\tvalidation_1-auc:0.848734\n",
      "[192]\tvalidation_0-auc:0.84869\tvalidation_1-auc:0.848886\n",
      "[193]\tvalidation_0-auc:0.848803\tvalidation_1-auc:0.849\n",
      "[194]\tvalidation_0-auc:0.848836\tvalidation_1-auc:0.849032\n",
      "[195]\tvalidation_0-auc:0.848804\tvalidation_1-auc:0.849001\n",
      "[196]\tvalidation_0-auc:0.848917\tvalidation_1-auc:0.84911\n",
      "[197]\tvalidation_0-auc:0.848891\tvalidation_1-auc:0.849084\n",
      "[198]\tvalidation_0-auc:0.848894\tvalidation_1-auc:0.849086\n",
      "[199]\tvalidation_0-auc:0.849029\tvalidation_1-auc:0.849219\n",
      "[200]\tvalidation_0-auc:0.84903\tvalidation_1-auc:0.849219\n",
      "[201]\tvalidation_0-auc:0.849109\tvalidation_1-auc:0.849298\n",
      "[202]\tvalidation_0-auc:0.849234\tvalidation_1-auc:0.849423\n",
      "[203]\tvalidation_0-auc:0.849213\tvalidation_1-auc:0.849402\n",
      "[204]\tvalidation_0-auc:0.849194\tvalidation_1-auc:0.849383\n",
      "[205]\tvalidation_0-auc:0.849174\tvalidation_1-auc:0.849365\n",
      "[206]\tvalidation_0-auc:0.849233\tvalidation_1-auc:0.849424\n",
      "[207]\tvalidation_0-auc:0.849204\tvalidation_1-auc:0.849397\n",
      "[208]\tvalidation_0-auc:0.849174\tvalidation_1-auc:0.849367\n",
      "[209]\tvalidation_0-auc:0.849153\tvalidation_1-auc:0.849345\n",
      "[210]\tvalidation_0-auc:0.849237\tvalidation_1-auc:0.849429\n",
      "[211]\tvalidation_0-auc:0.849229\tvalidation_1-auc:0.849421\n",
      "[212]\tvalidation_0-auc:0.849346\tvalidation_1-auc:0.849537\n",
      "[213]\tvalidation_0-auc:0.849404\tvalidation_1-auc:0.849595\n",
      "[214]\tvalidation_0-auc:0.849434\tvalidation_1-auc:0.849626\n",
      "[215]\tvalidation_0-auc:0.849427\tvalidation_1-auc:0.849619\n",
      "[216]\tvalidation_0-auc:0.84942\tvalidation_1-auc:0.849612\n",
      "[217]\tvalidation_0-auc:0.849438\tvalidation_1-auc:0.849633\n",
      "[218]\tvalidation_0-auc:0.84954\tvalidation_1-auc:0.849731\n",
      "[219]\tvalidation_0-auc:0.849542\tvalidation_1-auc:0.849733\n",
      "[220]\tvalidation_0-auc:0.84953\tvalidation_1-auc:0.84972\n",
      "[221]\tvalidation_0-auc:0.849533\tvalidation_1-auc:0.849723\n",
      "[222]\tvalidation_0-auc:0.849541\tvalidation_1-auc:0.84973\n",
      "[223]\tvalidation_0-auc:0.849668\tvalidation_1-auc:0.849856\n",
      "[224]\tvalidation_0-auc:0.849668\tvalidation_1-auc:0.849857\n",
      "[225]\tvalidation_0-auc:0.849669\tvalidation_1-auc:0.849858\n",
      "[226]\tvalidation_0-auc:0.849805\tvalidation_1-auc:0.849991\n",
      "[227]\tvalidation_0-auc:0.849822\tvalidation_1-auc:0.850007\n",
      "[228]\tvalidation_0-auc:0.84982\tvalidation_1-auc:0.850006\n",
      "[229]\tvalidation_0-auc:0.849946\tvalidation_1-auc:0.850132\n",
      "[230]\tvalidation_0-auc:0.849944\tvalidation_1-auc:0.850129\n",
      "[231]\tvalidation_0-auc:0.849956\tvalidation_1-auc:0.85014\n",
      "[232]\tvalidation_0-auc:0.849941\tvalidation_1-auc:0.850126\n",
      "[233]\tvalidation_0-auc:0.850037\tvalidation_1-auc:0.85022\n",
      "[234]\tvalidation_0-auc:0.85006\tvalidation_1-auc:0.850246\n",
      "[235]\tvalidation_0-auc:0.850075\tvalidation_1-auc:0.850261\n",
      "[236]\tvalidation_0-auc:0.850278\tvalidation_1-auc:0.850462\n",
      "[237]\tvalidation_0-auc:0.850459\tvalidation_1-auc:0.850642\n",
      "[238]\tvalidation_0-auc:0.85059\tvalidation_1-auc:0.850774\n",
      "[239]\tvalidation_0-auc:0.850582\tvalidation_1-auc:0.850765\n",
      "[240]\tvalidation_0-auc:0.850594\tvalidation_1-auc:0.850776\n",
      "[241]\tvalidation_0-auc:0.850719\tvalidation_1-auc:0.850902\n",
      "[242]\tvalidation_0-auc:0.850704\tvalidation_1-auc:0.850889\n",
      "[243]\tvalidation_0-auc:0.850672\tvalidation_1-auc:0.850858\n",
      "[244]\tvalidation_0-auc:0.850754\tvalidation_1-auc:0.850941\n",
      "[245]\tvalidation_0-auc:0.850744\tvalidation_1-auc:0.850931\n",
      "[246]\tvalidation_0-auc:0.85073\tvalidation_1-auc:0.850918\n",
      "[247]\tvalidation_0-auc:0.850709\tvalidation_1-auc:0.850897\n",
      "[248]\tvalidation_0-auc:0.850722\tvalidation_1-auc:0.850909\n",
      "[249]\tvalidation_0-auc:0.850702\tvalidation_1-auc:0.850889\n",
      "[250]\tvalidation_0-auc:0.850862\tvalidation_1-auc:0.851048\n",
      "[251]\tvalidation_0-auc:0.850842\tvalidation_1-auc:0.851028\n",
      "[252]\tvalidation_0-auc:0.850825\tvalidation_1-auc:0.851012\n",
      "[253]\tvalidation_0-auc:0.850933\tvalidation_1-auc:0.851116\n",
      "[254]\tvalidation_0-auc:0.850933\tvalidation_1-auc:0.851116\n",
      "[255]\tvalidation_0-auc:0.851115\tvalidation_1-auc:0.851296\n",
      "[256]\tvalidation_0-auc:0.851094\tvalidation_1-auc:0.851275\n",
      "[257]\tvalidation_0-auc:0.851069\tvalidation_1-auc:0.851252\n",
      "[258]\tvalidation_0-auc:0.851225\tvalidation_1-auc:0.851408\n",
      "[259]\tvalidation_0-auc:0.851358\tvalidation_1-auc:0.85154\n",
      "[260]\tvalidation_0-auc:0.851328\tvalidation_1-auc:0.85151\n",
      "[261]\tvalidation_0-auc:0.851303\tvalidation_1-auc:0.851486\n",
      "[262]\tvalidation_0-auc:0.851302\tvalidation_1-auc:0.851485\n",
      "[263]\tvalidation_0-auc:0.851445\tvalidation_1-auc:0.851627\n",
      "[264]\tvalidation_0-auc:0.85142\tvalidation_1-auc:0.851603\n",
      "[265]\tvalidation_0-auc:0.851414\tvalidation_1-auc:0.851596\n",
      "[266]\tvalidation_0-auc:0.851518\tvalidation_1-auc:0.8517\n",
      "[267]\tvalidation_0-auc:0.851495\tvalidation_1-auc:0.851678\n",
      "[268]\tvalidation_0-auc:0.851485\tvalidation_1-auc:0.851669\n",
      "[269]\tvalidation_0-auc:0.851586\tvalidation_1-auc:0.851765\n",
      "[270]\tvalidation_0-auc:0.851564\tvalidation_1-auc:0.851743\n",
      "[271]\tvalidation_0-auc:0.851561\tvalidation_1-auc:0.851741\n",
      "[272]\tvalidation_0-auc:0.851648\tvalidation_1-auc:0.851828\n",
      "[273]\tvalidation_0-auc:0.851779\tvalidation_1-auc:0.851958\n",
      "[274]\tvalidation_0-auc:0.851938\tvalidation_1-auc:0.852116\n",
      "[275]\tvalidation_0-auc:0.852017\tvalidation_1-auc:0.852194\n",
      "[276]\tvalidation_0-auc:0.852106\tvalidation_1-auc:0.852284\n",
      "[277]\tvalidation_0-auc:0.85209\tvalidation_1-auc:0.852268\n",
      "[278]\tvalidation_0-auc:0.852077\tvalidation_1-auc:0.852254\n",
      "[279]\tvalidation_0-auc:0.85204\tvalidation_1-auc:0.852218\n",
      "[280]\tvalidation_0-auc:0.852022\tvalidation_1-auc:0.852201\n",
      "[281]\tvalidation_0-auc:0.852095\tvalidation_1-auc:0.852274\n",
      "[282]\tvalidation_0-auc:0.852226\tvalidation_1-auc:0.852405\n",
      "[283]\tvalidation_0-auc:0.852284\tvalidation_1-auc:0.852463\n",
      "[284]\tvalidation_0-auc:0.852229\tvalidation_1-auc:0.852409\n",
      "[285]\tvalidation_0-auc:0.852345\tvalidation_1-auc:0.852523\n",
      "[286]\tvalidation_0-auc:0.852411\tvalidation_1-auc:0.85259\n",
      "[287]\tvalidation_0-auc:0.852456\tvalidation_1-auc:0.852636\n",
      "[288]\tvalidation_0-auc:0.852415\tvalidation_1-auc:0.852596\n",
      "[289]\tvalidation_0-auc:0.852374\tvalidation_1-auc:0.852555\n",
      "[290]\tvalidation_0-auc:0.852352\tvalidation_1-auc:0.852535\n",
      "[291]\tvalidation_0-auc:0.852424\tvalidation_1-auc:0.852604\n",
      "[292]\tvalidation_0-auc:0.852485\tvalidation_1-auc:0.852665\n",
      "[293]\tvalidation_0-auc:0.852548\tvalidation_1-auc:0.852727\n",
      "[294]\tvalidation_0-auc:0.852534\tvalidation_1-auc:0.852713\n",
      "[295]\tvalidation_0-auc:0.852501\tvalidation_1-auc:0.852682\n",
      "[296]\tvalidation_0-auc:0.852468\tvalidation_1-auc:0.852649\n",
      "[297]\tvalidation_0-auc:0.852423\tvalidation_1-auc:0.852605\n",
      "[298]\tvalidation_0-auc:0.852395\tvalidation_1-auc:0.852577\n",
      "[299]\tvalidation_0-auc:0.85253\tvalidation_1-auc:0.852712\n",
      "[300]\tvalidation_0-auc:0.852598\tvalidation_1-auc:0.852781\n",
      "[301]\tvalidation_0-auc:0.852706\tvalidation_1-auc:0.852887\n",
      "[302]\tvalidation_0-auc:0.852663\tvalidation_1-auc:0.852846\n",
      "[303]\tvalidation_0-auc:0.852646\tvalidation_1-auc:0.852831\n",
      "[304]\tvalidation_0-auc:0.852635\tvalidation_1-auc:0.852819\n",
      "[305]\tvalidation_0-auc:0.852599\tvalidation_1-auc:0.852785\n",
      "[306]\tvalidation_0-auc:0.852714\tvalidation_1-auc:0.8529\n",
      "[307]\tvalidation_0-auc:0.852703\tvalidation_1-auc:0.852888\n",
      "[308]\tvalidation_0-auc:0.852691\tvalidation_1-auc:0.852875\n",
      "[309]\tvalidation_0-auc:0.852756\tvalidation_1-auc:0.852941\n",
      "[310]\tvalidation_0-auc:0.852836\tvalidation_1-auc:0.853017\n",
      "[311]\tvalidation_0-auc:0.852823\tvalidation_1-auc:0.853004\n",
      "[312]\tvalidation_0-auc:0.852788\tvalidation_1-auc:0.85297\n",
      "[313]\tvalidation_0-auc:0.852903\tvalidation_1-auc:0.853086\n",
      "[314]\tvalidation_0-auc:0.853028\tvalidation_1-auc:0.85321\n",
      "[315]\tvalidation_0-auc:0.853103\tvalidation_1-auc:0.853285\n",
      "[316]\tvalidation_0-auc:0.853158\tvalidation_1-auc:0.853336\n",
      "[317]\tvalidation_0-auc:0.853262\tvalidation_1-auc:0.853439\n",
      "[318]\tvalidation_0-auc:0.853308\tvalidation_1-auc:0.853486\n",
      "[319]\tvalidation_0-auc:0.853352\tvalidation_1-auc:0.853526\n",
      "[320]\tvalidation_0-auc:0.853295\tvalidation_1-auc:0.85347\n",
      "[321]\tvalidation_0-auc:0.853353\tvalidation_1-auc:0.853524\n",
      "[322]\tvalidation_0-auc:0.853392\tvalidation_1-auc:0.853562\n",
      "[323]\tvalidation_0-auc:0.85339\tvalidation_1-auc:0.853562\n",
      "[324]\tvalidation_0-auc:0.853387\tvalidation_1-auc:0.853561\n",
      "[325]\tvalidation_0-auc:0.853361\tvalidation_1-auc:0.853537\n",
      "[326]\tvalidation_0-auc:0.853368\tvalidation_1-auc:0.853544\n",
      "[327]\tvalidation_0-auc:0.853462\tvalidation_1-auc:0.853638\n",
      "[328]\tvalidation_0-auc:0.853585\tvalidation_1-auc:0.853761\n",
      "[329]\tvalidation_0-auc:0.853751\tvalidation_1-auc:0.853926\n",
      "[330]\tvalidation_0-auc:0.853808\tvalidation_1-auc:0.853984\n",
      "[331]\tvalidation_0-auc:0.853905\tvalidation_1-auc:0.85408\n",
      "[332]\tvalidation_0-auc:0.853886\tvalidation_1-auc:0.854061\n",
      "[333]\tvalidation_0-auc:0.853877\tvalidation_1-auc:0.854052\n",
      "[334]\tvalidation_0-auc:0.853978\tvalidation_1-auc:0.854154\n",
      "[335]\tvalidation_0-auc:0.854051\tvalidation_1-auc:0.854226\n",
      "[336]\tvalidation_0-auc:0.85421\tvalidation_1-auc:0.854384\n",
      "[337]\tvalidation_0-auc:0.854178\tvalidation_1-auc:0.854352\n",
      "[338]\tvalidation_0-auc:0.854157\tvalidation_1-auc:0.854332\n",
      "[339]\tvalidation_0-auc:0.854119\tvalidation_1-auc:0.854295\n",
      "[340]\tvalidation_0-auc:0.854089\tvalidation_1-auc:0.854264\n",
      "[341]\tvalidation_0-auc:0.854051\tvalidation_1-auc:0.854228\n",
      "[342]\tvalidation_0-auc:0.854135\tvalidation_1-auc:0.854313\n",
      "[343]\tvalidation_0-auc:0.854096\tvalidation_1-auc:0.854274\n",
      "[344]\tvalidation_0-auc:0.854283\tvalidation_1-auc:0.85446\n",
      "[345]\tvalidation_0-auc:0.854335\tvalidation_1-auc:0.85451\n",
      "[346]\tvalidation_0-auc:0.85429\tvalidation_1-auc:0.854466\n",
      "[347]\tvalidation_0-auc:0.854454\tvalidation_1-auc:0.854628\n",
      "[348]\tvalidation_0-auc:0.854422\tvalidation_1-auc:0.854598\n",
      "[349]\tvalidation_0-auc:0.854519\tvalidation_1-auc:0.854695\n",
      "[350]\tvalidation_0-auc:0.854479\tvalidation_1-auc:0.854656\n",
      "[351]\tvalidation_0-auc:0.85455\tvalidation_1-auc:0.854726\n",
      "[352]\tvalidation_0-auc:0.854534\tvalidation_1-auc:0.85471\n",
      "[353]\tvalidation_0-auc:0.854496\tvalidation_1-auc:0.854674\n",
      "[354]\tvalidation_0-auc:0.854487\tvalidation_1-auc:0.854665\n",
      "[355]\tvalidation_0-auc:0.85453\tvalidation_1-auc:0.854706\n",
      "[356]\tvalidation_0-auc:0.854596\tvalidation_1-auc:0.854773\n",
      "[357]\tvalidation_0-auc:0.854556\tvalidation_1-auc:0.854733\n",
      "[358]\tvalidation_0-auc:0.854545\tvalidation_1-auc:0.854723\n",
      "[359]\tvalidation_0-auc:0.854692\tvalidation_1-auc:0.854869\n",
      "[360]\tvalidation_0-auc:0.854657\tvalidation_1-auc:0.854834\n",
      "[361]\tvalidation_0-auc:0.854815\tvalidation_1-auc:0.854992\n",
      "[362]\tvalidation_0-auc:0.854958\tvalidation_1-auc:0.855134\n",
      "[363]\tvalidation_0-auc:0.854936\tvalidation_1-auc:0.855112\n",
      "[364]\tvalidation_0-auc:0.855045\tvalidation_1-auc:0.855221\n",
      "[365]\tvalidation_0-auc:0.855026\tvalidation_1-auc:0.855201\n",
      "[366]\tvalidation_0-auc:0.85507\tvalidation_1-auc:0.855241\n",
      "[367]\tvalidation_0-auc:0.855122\tvalidation_1-auc:0.855294\n",
      "[368]\tvalidation_0-auc:0.855106\tvalidation_1-auc:0.855277\n",
      "[369]\tvalidation_0-auc:0.855209\tvalidation_1-auc:0.855381\n",
      "[370]\tvalidation_0-auc:0.855165\tvalidation_1-auc:0.855337\n",
      "[371]\tvalidation_0-auc:0.855154\tvalidation_1-auc:0.855326\n",
      "[372]\tvalidation_0-auc:0.855124\tvalidation_1-auc:0.855299\n",
      "[373]\tvalidation_0-auc:0.855108\tvalidation_1-auc:0.855282\n",
      "[374]\tvalidation_0-auc:0.855087\tvalidation_1-auc:0.855262\n",
      "[375]\tvalidation_0-auc:0.855073\tvalidation_1-auc:0.855247\n",
      "[376]\tvalidation_0-auc:0.855044\tvalidation_1-auc:0.855219\n",
      "[377]\tvalidation_0-auc:0.855044\tvalidation_1-auc:0.855218\n",
      "[378]\tvalidation_0-auc:0.855225\tvalidation_1-auc:0.855396\n",
      "[379]\tvalidation_0-auc:0.85537\tvalidation_1-auc:0.855542\n",
      "[380]\tvalidation_0-auc:0.855452\tvalidation_1-auc:0.855623\n",
      "[381]\tvalidation_0-auc:0.855425\tvalidation_1-auc:0.855597\n",
      "[382]\tvalidation_0-auc:0.855399\tvalidation_1-auc:0.855572\n",
      "[383]\tvalidation_0-auc:0.855394\tvalidation_1-auc:0.855567\n",
      "[384]\tvalidation_0-auc:0.855362\tvalidation_1-auc:0.855538\n",
      "[385]\tvalidation_0-auc:0.855362\tvalidation_1-auc:0.855537\n",
      "[386]\tvalidation_0-auc:0.855508\tvalidation_1-auc:0.855684\n",
      "[387]\tvalidation_0-auc:0.85548\tvalidation_1-auc:0.855656\n",
      "[388]\tvalidation_0-auc:0.855486\tvalidation_1-auc:0.855661\n",
      "[389]\tvalidation_0-auc:0.85558\tvalidation_1-auc:0.855756\n",
      "[390]\tvalidation_0-auc:0.855759\tvalidation_1-auc:0.855934\n",
      "[391]\tvalidation_0-auc:0.855785\tvalidation_1-auc:0.855959\n",
      "[392]\tvalidation_0-auc:0.855754\tvalidation_1-auc:0.85593\n",
      "[393]\tvalidation_0-auc:0.855729\tvalidation_1-auc:0.855907\n",
      "[394]\tvalidation_0-auc:0.855893\tvalidation_1-auc:0.85607\n",
      "[395]\tvalidation_0-auc:0.855875\tvalidation_1-auc:0.85605\n",
      "[396]\tvalidation_0-auc:0.855848\tvalidation_1-auc:0.856025\n",
      "[397]\tvalidation_0-auc:0.855808\tvalidation_1-auc:0.855986\n",
      "[398]\tvalidation_0-auc:0.855899\tvalidation_1-auc:0.856079\n",
      "[399]\tvalidation_0-auc:0.856039\tvalidation_1-auc:0.856218\n",
      "[400]\tvalidation_0-auc:0.85613\tvalidation_1-auc:0.856309\n",
      "[401]\tvalidation_0-auc:0.856161\tvalidation_1-auc:0.85634\n",
      "[402]\tvalidation_0-auc:0.856137\tvalidation_1-auc:0.856319\n",
      "[403]\tvalidation_0-auc:0.8563\tvalidation_1-auc:0.85648\n",
      "[404]\tvalidation_0-auc:0.85629\tvalidation_1-auc:0.85647\n",
      "[405]\tvalidation_0-auc:0.856247\tvalidation_1-auc:0.85643\n",
      "[406]\tvalidation_0-auc:0.856341\tvalidation_1-auc:0.856524\n",
      "[407]\tvalidation_0-auc:0.856498\tvalidation_1-auc:0.85668\n",
      "[408]\tvalidation_0-auc:0.856648\tvalidation_1-auc:0.856828\n",
      "[409]\tvalidation_0-auc:0.856713\tvalidation_1-auc:0.856893\n",
      "[410]\tvalidation_0-auc:0.856704\tvalidation_1-auc:0.856883\n",
      "[411]\tvalidation_0-auc:0.856684\tvalidation_1-auc:0.856865\n",
      "[412]\tvalidation_0-auc:0.856669\tvalidation_1-auc:0.85685\n",
      "[413]\tvalidation_0-auc:0.856627\tvalidation_1-auc:0.856809\n",
      "[414]\tvalidation_0-auc:0.856764\tvalidation_1-auc:0.856944\n",
      "[415]\tvalidation_0-auc:0.856839\tvalidation_1-auc:0.857019\n",
      "[416]\tvalidation_0-auc:0.856793\tvalidation_1-auc:0.856973\n",
      "[417]\tvalidation_0-auc:0.85677\tvalidation_1-auc:0.856949\n",
      "[418]\tvalidation_0-auc:0.856887\tvalidation_1-auc:0.857065\n",
      "[419]\tvalidation_0-auc:0.856846\tvalidation_1-auc:0.857025\n",
      "[420]\tvalidation_0-auc:0.856814\tvalidation_1-auc:0.856993\n",
      "[421]\tvalidation_0-auc:0.856925\tvalidation_1-auc:0.857104\n",
      "[422]\tvalidation_0-auc:0.856914\tvalidation_1-auc:0.857094\n",
      "[423]\tvalidation_0-auc:0.857021\tvalidation_1-auc:0.857202\n",
      "[424]\tvalidation_0-auc:0.856969\tvalidation_1-auc:0.85715\n",
      "[425]\tvalidation_0-auc:0.856962\tvalidation_1-auc:0.857143\n",
      "[426]\tvalidation_0-auc:0.856949\tvalidation_1-auc:0.85713\n",
      "[427]\tvalidation_0-auc:0.856937\tvalidation_1-auc:0.857118\n",
      "[428]\tvalidation_0-auc:0.856928\tvalidation_1-auc:0.857109\n",
      "[429]\tvalidation_0-auc:0.856884\tvalidation_1-auc:0.857067\n",
      "[430]\tvalidation_0-auc:0.857061\tvalidation_1-auc:0.857241\n",
      "[431]\tvalidation_0-auc:0.857038\tvalidation_1-auc:0.857219\n",
      "[432]\tvalidation_0-auc:0.857083\tvalidation_1-auc:0.857262\n",
      "[433]\tvalidation_0-auc:0.857062\tvalidation_1-auc:0.857241\n",
      "[434]\tvalidation_0-auc:0.857043\tvalidation_1-auc:0.857221\n",
      "[435]\tvalidation_0-auc:0.857154\tvalidation_1-auc:0.857333\n",
      "[436]\tvalidation_0-auc:0.857268\tvalidation_1-auc:0.857447\n",
      "[437]\tvalidation_0-auc:0.857232\tvalidation_1-auc:0.857411\n",
      "[438]\tvalidation_0-auc:0.857233\tvalidation_1-auc:0.857412\n",
      "[439]\tvalidation_0-auc:0.857344\tvalidation_1-auc:0.857523\n",
      "[440]\tvalidation_0-auc:0.857339\tvalidation_1-auc:0.857518\n",
      "[441]\tvalidation_0-auc:0.857304\tvalidation_1-auc:0.857484\n",
      "[442]\tvalidation_0-auc:0.857279\tvalidation_1-auc:0.857461\n",
      "[443]\tvalidation_0-auc:0.857444\tvalidation_1-auc:0.857625\n",
      "[444]\tvalidation_0-auc:0.857423\tvalidation_1-auc:0.857602\n",
      "[445]\tvalidation_0-auc:0.857473\tvalidation_1-auc:0.857651\n",
      "[446]\tvalidation_0-auc:0.857467\tvalidation_1-auc:0.857645\n",
      "[447]\tvalidation_0-auc:0.857468\tvalidation_1-auc:0.857646\n",
      "[448]\tvalidation_0-auc:0.857448\tvalidation_1-auc:0.857624\n",
      "[449]\tvalidation_0-auc:0.857534\tvalidation_1-auc:0.85771\n",
      "[450]\tvalidation_0-auc:0.857478\tvalidation_1-auc:0.857656\n",
      "[451]\tvalidation_0-auc:0.857612\tvalidation_1-auc:0.85779\n",
      "[452]\tvalidation_0-auc:0.857613\tvalidation_1-auc:0.857791\n",
      "[453]\tvalidation_0-auc:0.857632\tvalidation_1-auc:0.857809\n",
      "[454]\tvalidation_0-auc:0.857655\tvalidation_1-auc:0.857831\n",
      "[455]\tvalidation_0-auc:0.85773\tvalidation_1-auc:0.857907\n",
      "[456]\tvalidation_0-auc:0.857709\tvalidation_1-auc:0.857885\n",
      "[457]\tvalidation_0-auc:0.857784\tvalidation_1-auc:0.857961\n",
      "[458]\tvalidation_0-auc:0.857894\tvalidation_1-auc:0.858072\n",
      "[459]\tvalidation_0-auc:0.857852\tvalidation_1-auc:0.85803\n",
      "[460]\tvalidation_0-auc:0.857931\tvalidation_1-auc:0.85811\n",
      "[461]\tvalidation_0-auc:0.85793\tvalidation_1-auc:0.858109\n",
      "[462]\tvalidation_0-auc:0.857924\tvalidation_1-auc:0.858103\n",
      "[463]\tvalidation_0-auc:0.858007\tvalidation_1-auc:0.858186\n",
      "[464]\tvalidation_0-auc:0.857966\tvalidation_1-auc:0.858147\n",
      "[465]\tvalidation_0-auc:0.858107\tvalidation_1-auc:0.858286\n",
      "[466]\tvalidation_0-auc:0.858099\tvalidation_1-auc:0.858279\n",
      "[467]\tvalidation_0-auc:0.858041\tvalidation_1-auc:0.858222\n",
      "[468]\tvalidation_0-auc:0.858041\tvalidation_1-auc:0.858222\n",
      "[469]\tvalidation_0-auc:0.858199\tvalidation_1-auc:0.85838\n",
      "[470]\tvalidation_0-auc:0.858176\tvalidation_1-auc:0.858355\n",
      "[471]\tvalidation_0-auc:0.858253\tvalidation_1-auc:0.858431\n",
      "[472]\tvalidation_0-auc:0.858391\tvalidation_1-auc:0.858568\n",
      "[473]\tvalidation_0-auc:0.858521\tvalidation_1-auc:0.858696\n",
      "[474]\tvalidation_0-auc:0.858583\tvalidation_1-auc:0.858759\n",
      "[475]\tvalidation_0-auc:0.858564\tvalidation_1-auc:0.858739\n",
      "[476]\tvalidation_0-auc:0.858626\tvalidation_1-auc:0.858802\n",
      "[477]\tvalidation_0-auc:0.858574\tvalidation_1-auc:0.85875\n",
      "[478]\tvalidation_0-auc:0.858544\tvalidation_1-auc:0.85872\n",
      "[479]\tvalidation_0-auc:0.858495\tvalidation_1-auc:0.858671\n",
      "[480]\tvalidation_0-auc:0.858493\tvalidation_1-auc:0.858669\n",
      "[481]\tvalidation_0-auc:0.858601\tvalidation_1-auc:0.858778\n",
      "[482]\tvalidation_0-auc:0.858668\tvalidation_1-auc:0.858846\n",
      "[483]\tvalidation_0-auc:0.858603\tvalidation_1-auc:0.858782\n",
      "[484]\tvalidation_0-auc:0.858579\tvalidation_1-auc:0.858759\n",
      "[485]\tvalidation_0-auc:0.858734\tvalidation_1-auc:0.858913\n",
      "[486]\tvalidation_0-auc:0.858678\tvalidation_1-auc:0.858859\n",
      "[487]\tvalidation_0-auc:0.858679\tvalidation_1-auc:0.85886\n",
      "[488]\tvalidation_0-auc:0.858681\tvalidation_1-auc:0.858862\n",
      "[489]\tvalidation_0-auc:0.858691\tvalidation_1-auc:0.858873\n",
      "[490]\tvalidation_0-auc:0.8587\tvalidation_1-auc:0.858882\n",
      "[491]\tvalidation_0-auc:0.858828\tvalidation_1-auc:0.85901\n",
      "[492]\tvalidation_0-auc:0.858774\tvalidation_1-auc:0.858957\n",
      "[493]\tvalidation_0-auc:0.858873\tvalidation_1-auc:0.859058\n",
      "[494]\tvalidation_0-auc:0.858996\tvalidation_1-auc:0.859181\n",
      "[495]\tvalidation_0-auc:0.859102\tvalidation_1-auc:0.859287\n",
      "[496]\tvalidation_0-auc:0.859095\tvalidation_1-auc:0.85928\n",
      "[497]\tvalidation_0-auc:0.859168\tvalidation_1-auc:0.859352\n",
      "[498]\tvalidation_0-auc:0.859141\tvalidation_1-auc:0.859324\n",
      "[499]\tvalidation_0-auc:0.859078\tvalidation_1-auc:0.859261\n",
      "Overall AUC: 0.859279834003\n"
     ]
    },
    {
     "data": {
      "text/plain": [
       "<matplotlib.axes._subplots.AxesSubplot at 0x7f9dadf3fb00>"
      ]
     },
     "execution_count": 45,
     "metadata": {},
     "output_type": "execute_result"
    },
    {
     "data": {
      "image/png": "[encoded data removed]",
      "text/plain": [
       "<matplotlib.figure.Figure at 0x7f9de82b9e80>"
      ]
     },
     "metadata": {},
     "output_type": "display_data"
    }
   ],
   "source": [
    "ratio = float(np.sum(GT == 1)) / np.sum(GT==0)\n",
    "\n",
    "clf = xgb.XGBClassifier(missing=9999999999,\n",
    "                max_depth = 2,\n",
    "                n_estimators=100,\n",
    "                learning_rate=0.1, \n",
    "                nthread=3,\n",
    "                subsample=1.0,\n",
    "                colsample_bytree=1/X.shape[1],\n",
    "                #min_child_weight = 3,\n",
    "                scale_pos_weight = ratio,\n",
    "                reg_alpha=0.03,\n",
    "                seed=1301)\n",
    "                \n",
    "clf.fit(X_train, y_train, early_stopping_rounds=30, eval_metric=\"auc\",\n",
    "        eval_set=[(X_train, y_train), (X_test, y_test)])\n",
    "        \n",
    "print('Overall AUC:', roc_auc_score(y_test, clf.predict_proba(X_test, ntree_limit=clf.best_iteration)[:,1]))\n",
    "xgb.plot_importance(clf)"
   ]
  },
  {
   "cell_type": "markdown",
   "metadata": {},
   "source": [
    "# Análise do Resultados"
   ]
  },
  {
   "cell_type": "code",
   "execution_count": 46,
   "metadata": {
    "collapsed": false,
    "deletable": true,
    "editable": true
   },
   "outputs": [
    {
     "data": {
      "text/plain": [
       "<matplotlib.text.Text at 0x7f9daf437358>"
      ]
     },
     "execution_count": 46,
     "metadata": {},
     "output_type": "execute_result"
    },
    {
     "data": {
      "image/png": "[encoded data removed]",
      "text/plain": [
       "<matplotlib.figure.Figure at 0x7f9dadedc828>"
      ]
     },
     "metadata": {},
     "output_type": "display_data"
    }
   ],
   "source": [
    "best_pred = clf.predict_proba(X_test, ntree_limit=clf.best_iteration)[:,1]\n",
    "plt.figure(figsize=(15,12))\n",
    "# for j in range(6):\n",
    "#     plt.plot(fpr[j], tpr[j], label = names_VI[j])\n",
    "\n",
    "FPR, TPR, _ = roc_curve(y_test, best_pred)\n",
    "plt.plot(FPR, TPR, label = \"Combined\")\n",
    "    \n",
    "plt.legend()\n",
    "plt.xlabel('FPR')\n",
    "plt.ylabel('TPR')"
   ]
  },
  {
   "cell_type": "code",
   "execution_count": 47,
   "metadata": {
    "collapsed": false,
    "deletable": true,
    "editable": true
   },
   "outputs": [
    {
     "name": "stdout",
     "output_type": "stream",
     "text": [
      "0.77065864614\n"
     ]
    }
   ],
   "source": [
    "# Melhor média de TPR E TNR\n",
    "i_max = max(range(len(TPR)), key = lambda x : TPR[x] + 1 - FPR[x])\n",
    "print((TPR[i_max] + 1 - FPR[i_max])/2)"
   ]
  },
  {
   "cell_type": "code",
   "execution_count": 48,
   "metadata": {
    "collapsed": false,
    "deletable": true,
    "editable": true
   },
   "outputs": [
    {
     "data": {
      "text/plain": [
       "['clf_VI_orig_02.pkl']"
      ]
     },
     "execution_count": 48,
     "metadata": {},
     "output_type": "execute_result"
    }
   ],
   "source": [
    "joblib.dump(clf, 'clf_VI_orig_02.pkl')\n",
    "# clf = joblib.load('filename.pkl') "
   ]
  },
  {
   "cell_type": "code",
   "execution_count": null,
   "metadata": {
    "collapsed": true,
    "deletable": true,
    "editable": true
   },
   "outputs": [],
   "source": []
  }
 ],
 "metadata": {
  "kernelspec": {
   "display_name": "Python 3",
   "language": "python",
   "name": "python3"
  },
  "language_info": {
   "codemirror_mode": {
    "name": "ipython",
    "version": 3
   },
   "file_extension": ".py",
   "mimetype": "text/x-python",
   "name": "python",
   "nbconvert_exporter": "python",
   "pygments_lexer": "ipython3",
   "version": "3.5.2"
  }
 },
 "nbformat": 4,
 "nbformat_minor": 2
}
